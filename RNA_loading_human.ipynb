{
 "cells": [
  {
   "cell_type": "markdown",
   "metadata": {},
   "source": [
    "# load tons of datasets (~60,000 RNAseq samples)"
   ]
  },
  {
   "cell_type": "code",
   "execution_count": 1,
   "metadata": {
    "ExecuteTime": {
     "end_time": "2021-11-09T20:48:43.924407Z",
     "start_time": "2021-11-09T20:48:42.219637Z"
    }
   },
   "outputs": [],
   "source": [
    "from taigapy import TaigaClient\n",
    "tc = TaigaClient()\n",
    "\n",
    "from depmapomics import tracker as track\n",
    "from depmapomics import expressions\n",
    "\n",
    "from genepy.utils import helper as h\n",
    "\n",
    "import dalmatian as dm\n",
    "from gsheets import Sheets\n",
    "import pandas as pd\n",
    "\n",
    "MY_ID = '~/.client_secret.json'\n",
    "MYSTORAGE_ID = \"~/.storage.json\"\n",
    "\n",
    "Sheets.from_files(MY_ID, MYSTORAGE_ID)\n",
    "#autoreload\n",
    "%load_ext autoreload\n",
    "%autoreload 2"
   ]
  },
  {
   "cell_type": "markdown",
   "metadata": {},
   "source": [
    "## CCLE + TCGA"
   ]
  },
  {
   "cell_type": "code",
   "execution_count": 116,
   "metadata": {
    "ExecuteTime": {
     "end_time": "2021-10-21T16:02:38.527091Z",
     "start_time": "2021-10-21T16:02:08.257511Z"
    }
   },
   "outputs": [
    {
     "name": "stdout",
     "output_type": "stream",
     "text": [
      "No dataset version provided. Using version 16.\n",
      "No dataset version provided. Using version 1.\n"
     ]
    }
   ],
   "source": [
    "# load from taiga public (figshare link)\n",
    "# load internal expression,\n",
    "# latest version can be found at https://depmap.org/portal/download/\n",
    "# can also be loaded like so pd.read_csv('gs://ccle_default_params/celligner_ex/CCLE_expression.csv.gz', index_col=0)\n",
    "CCLE_expression = tc.get(name='internal-21q3-fe4c',\n",
    "                         file='CCLE_expression_full')  #40,000x1,500\n",
    "\n",
    "\n",
    "# load  TCGA expression\n",
    "# this dataset was generated from  ,using this script: \n",
    "# caan be found here: pd.read_csv('gs://ccle_default_params/celligner_ex/TCGA_expression.csv.gz', index_col=0)\n",
    "TCGA_expression = tc.get(name='celligner-input-9827',\n",
    "                       file='tumor_expression') # 40,000x13,000"
   ]
  },
  {
   "cell_type": "code",
   "execution_count": 23,
   "metadata": {
    "ExecuteTime": {
     "end_time": "2021-10-08T22:00:15.381758Z",
     "start_time": "2021-10-08T22:00:15.372909Z"
    }
   },
   "outputs": [
    {
     "data": {
      "text/plain": [
       "72"
      ]
     },
     "execution_count": 23,
     "metadata": {},
     "output_type": "execute_result"
    }
   ],
   "source": [
    "len(CCLE_annotation[(CCLE_annotation.blacklist==0)&(CCLE_annotation.version>1)&(CCLE_annotation.datatype==\"rna\")]) \n",
    "# we have .. replicates in CCLE"
   ]
  },
  {
   "cell_type": "code",
   "execution_count": 342,
   "metadata": {
    "ExecuteTime": {
     "end_time": "2021-11-04T17:18:13.224528Z",
     "start_time": "2021-11-04T17:18:08.734526Z"
    }
   },
   "outputs": [
    {
     "name": "stdout",
     "output_type": "stream",
     "text": [
      "No dataset version provided. Using version 1.\n"
     ]
    }
   ],
   "source": [
    "# loading annotations\n",
    "CCLE_annotation = track.getTracker() # the function uses pygsheets to load this: REFSHEET_URL=https://docs.google.com/spreadsheets/d/1Pgb5fIClGnErEqzxpU7qqX6ULpGTDjvzWwDN8XUJKIY\n",
    "# Sheets.from_files(MY_ID, MYSTORAGE_ID).get(REFSHEET_URL).sheets[0].to_frame(index_col=0)\n",
    "# you can also get it from pd.read_csv('gs://ccle_default_params/celligner_ex/CCLE_annotation.csv.gz', index_col=0)\n",
    "\n",
    "\n",
    "# can be loaded from \n",
    "# pd.read_csv('gs://ccle_default_params/celligner_ex/TCGA_annotation.csv.gz', index_col=0)\n",
    "TCGA_annotation = tc.get(name='celligner-input-9827',\n",
    "                         file='tumor_annotations') # generated manually "
   ]
  },
  {
   "cell_type": "code",
   "execution_count": 446,
   "metadata": {
    "ExecuteTime": {
     "end_time": "2021-11-04T19:26:41.329326Z",
     "start_time": "2021-11-04T19:26:41.289727Z"
    },
    "scrolled": true
   },
   "outputs": [
    {
     "data": {
      "text/plain": [
       "arxspan_id                                                        ACH-001188\n",
       "version                                                                    1\n",
       "sm_id                                                                    NaN\n",
       "PDO                                                                      NaN\n",
       "datatype                                                                 wgs\n",
       "size                                                           75505480632.0\n",
       "stripped_cell_line_name                                               SHSY5Y\n",
       "participant_id                                                   PT-VWVFq8aY\n",
       "cellosaurus_id                                                     CVCL_0019\n",
       "synonyms                   SH-Sy5y; SHSY5Y; SHSY-5Y; SK-SH-SY5Y; SY5Y; SH...\n",
       "bam_public_sra_path                                                      NaN\n",
       "internal_bam_filepath         gs://cclebams/wgs_hg38/CDS-rIh3Gy.wgs_ccle.bam\n",
       "internal_bai_filepath         gs://cclebams/wgs_hg38/CDS-rIh3Gy.wgs_ccle.bai\n",
       "legacy_bam_filepath                         gs://cclebams/wgs/CDS-rIh3Gy.bam\n",
       "legacy_bai_filepath                         gs://cclebams/wgs/CDS-rIh3Gy.bai\n",
       "parent_cell_line                                                  ACH-000149\n",
       "sex                                                                   Female\n",
       "matched_normal                                                           NaN\n",
       "age                                                                        4\n",
       "ancestry                   African=0%; Native American=1.17%; East Asian,...\n",
       "doublingt                                                               55.0\n",
       "collection_site                                                  bone_marrow\n",
       "cellosaurus_origin                                               Bone marrow\n",
       "Primary/Metastasis                                                Metastasis\n",
       "primary_disease                                                Neuroblastoma\n",
       "subtype                                                        neuroblastoma\n",
       "subsubtype                                                               NaN\n",
       "lineage                                            peripheral_nervous_system\n",
       "characteristics            There seems to be differences in the retinoic ...\n",
       "hasebv                                                                 False\n",
       "instability                                                              NaN\n",
       "transfected                                                              NaN\n",
       "mediatype                                                                NaN\n",
       "condition                                                                NaN\n",
       "sequencing_type                                                          NaN\n",
       "baits                                                                    NaN\n",
       "comments                   CCLE line; MYCN amp; adrengenic; 1p normal; Id...\n",
       "cellosaurus_comments        | Problematic cell line: Partially contaminat...\n",
       "source                                                                DEPMAP\n",
       "atcclink                                                            CRL-2266\n",
       "dsmzlink                                                             ACC-209\n",
       "sequencing_date                                                       737601\n",
       "release_date                                                             NaN\n",
       "bam_qc                     ['gs://fc-secure-fd4a7e9f-cb15-423c-9805-04995...\n",
       "Name: CDS-rIh3Gy, dtype: object"
      ]
     },
     "execution_count": 446,
     "metadata": {},
     "output_type": "execute_result"
    }
   ],
   "source": [
    "CCLE_annotation.iloc[0, :-25]"
   ]
  },
  {
   "cell_type": "code",
   "execution_count": null,
   "metadata": {},
   "outputs": [],
   "source": [
    "rename = {\n",
    "    \"stripped_cell_line_name\": \"sample_id\", \n",
    "    \"primary_disease\": \"disease_type\", \n",
    "    \"subtype\": 'disease_subtype', \n",
    "    'sampleID': 'sample_id', \n",
    "    'age_at_dx':\"age\", \n",
    "    \"gender\": \"sex\",\n",
    "    \"site_id\": \"site_id\", \n",
    "    \"lineage\": \"primary_site\", \n",
    "    \"disease\": \"disease_type\", \n",
    "    \"subtype\": \"disease_subtype\",\n",
    "    'Tumor_type': 'tumor_type', \n",
    "    'Sample_type': 'sample_type', \n",
    "    'RNA_Seq_cancertype': 'disease_type', \n",
    "    \"CCLF_ID\": 'sample_id',\n",
    "    \"Sequencing on Tissue or Cell model? (MT confirm)\": 'tissue_type', \n",
    "    \"Days to First Agg\": 'exp_date', \n",
    "    \"Contamination % (First Agg)\": 'contamination', \n",
    "    \"collection\": 'origin', \n",
    "    \"Original Material Type\": 'history',\n",
    "    \"sampleID\": 'sample_id',\n",
    "    'lineage': 'tissue_type',\n",
    "    'subtype': \"disease_type\",\n",
    "    \"type\": \"cell_type\",\n",
    "    \"Sex\": \"sex\",\n",
    "    'Phase':'stage',\n",
    "    'sample_source': 'patient_id',\n",
    "    'tc': 'tumor_purity'"
   ]
  },
  {
   "cell_type": "code",
   "execution_count": 343,
   "metadata": {
    "ExecuteTime": {
     "end_time": "2021-11-04T17:18:51.346380Z",
     "start_time": "2021-11-04T17:18:51.301969Z"
    },
    "scrolled": true
   },
   "outputs": [
    {
     "ename": "NameError",
     "evalue": "name 'rename' is not defined",
     "output_type": "error",
     "traceback": [
      "\u001b[0;31m---------------------------------------------------------------------------\u001b[0m",
      "\u001b[0;31mNameError\u001b[0m                                 Traceback (most recent call last)",
      "\u001b[0;32m/tmp/ipykernel_24549/997814464.py\u001b[0m in \u001b[0;36m<module>\u001b[0;34m\u001b[0m\n\u001b[0;32m----> 1\u001b[0;31m \u001b[0mCCLE_annotation\u001b[0m \u001b[0;34m=\u001b[0m \u001b[0mCCLE_annotation\u001b[0m\u001b[0;34m.\u001b[0m\u001b[0mrename\u001b[0m\u001b[0;34m(\u001b[0m\u001b[0mcolumns\u001b[0m\u001b[0;34m=\u001b[0m\u001b[0mrename\u001b[0m\u001b[0;34m)\u001b[0m\u001b[0;34m[\u001b[0m\u001b[0;34m[\u001b[0m\u001b[0;34m'sample_id'\u001b[0m\u001b[0;34m,\u001b[0m \u001b[0;34m'participant_id'\u001b[0m\u001b[0;34m,\u001b[0m \u001b[0;34m'sex'\u001b[0m\u001b[0;34m,\u001b[0m \u001b[0;34m'age'\u001b[0m\u001b[0;34m,\u001b[0m \u001b[0;34m'collection_site'\u001b[0m\u001b[0;34m,\u001b[0m \u001b[0;34m'disease_type'\u001b[0m\u001b[0;34m,\u001b[0m \u001b[0;34m\"disease_subtype\"\u001b[0m\u001b[0;34m,\u001b[0m \u001b[0;34m'origin'\u001b[0m\u001b[0;34m,\u001b[0m \u001b[0;34m'mediatype'\u001b[0m\u001b[0;34m,\u001b[0m \u001b[0;34m'sequencing_type'\u001b[0m\u001b[0;34m,\u001b[0m \u001b[0;34m'ancestry'\u001b[0m\u001b[0;34m,\u001b[0m \u001b[0;34m'doublingt'\u001b[0m\u001b[0;34m,\u001b[0m \u001b[0;34m'Primary/Metastasis'\u001b[0m\u001b[0;34m,\u001b[0m \u001b[0;34m'lineage'\u001b[0m\u001b[0;34m,\u001b[0m \u001b[0;34m'hasebv'\u001b[0m\u001b[0;34m]\u001b[0m\u001b[0;34m]\u001b[0m\u001b[0;34m\u001b[0m\u001b[0;34m\u001b[0m\u001b[0m\n\u001b[0m\u001b[1;32m      2\u001b[0m \u001b[0mCCLE_annotation\u001b[0m\u001b[0;34m[\u001b[0m\u001b[0;34m'method'\u001b[0m\u001b[0;34m]\u001b[0m\u001b[0;34m=\u001b[0m\u001b[0;34m\"bulk\"\u001b[0m\u001b[0;34m\u001b[0m\u001b[0;34m\u001b[0m\u001b[0m\n\u001b[1;32m      3\u001b[0m \u001b[0mCCLE_annotation\u001b[0m\u001b[0;34m[\u001b[0m\u001b[0;34m'cell_type'\u001b[0m\u001b[0;34m]\u001b[0m\u001b[0;34m=\u001b[0m\u001b[0;34m\"historical_CL\"\u001b[0m\u001b[0;34m\u001b[0m\u001b[0;34m\u001b[0m\u001b[0m\n",
      "\u001b[0;31mNameError\u001b[0m: name 'rename' is not defined"
     ]
    }
   ],
   "source": [
    "CCLE_annotation = CCLE_annotation.rename(columns=rename)[['origin', 'sequencing_type', 'doublingt','hasebv'] + list(rename.values())]\n",
    "CCLE_annotation['method']=\"bulk\"\n",
    "CCLE_annotation['cell_type']=\"historical_CL; 2D\"\n",
    "CCLE_annotation['sequencer']="
   ]
  },
  {
   "cell_type": "code",
   "execution_count": 440,
   "metadata": {
    "ExecuteTime": {
     "end_time": "2021-11-04T19:25:43.298007Z",
     "start_time": "2021-11-04T19:25:43.270387Z"
    }
   },
   "outputs": [
    {
     "data": {
      "text/plain": [
       "sampleID                      TH27_1241_S01\n",
       "age_at_dx                               NaN\n",
       "pedaya                              Unknown\n",
       "gender                              unknown\n",
       "site_id                                TH27\n",
       "site_donor_id                          None\n",
       "site_sampleid                          None\n",
       "lineage              central_nervous_system\n",
       "disease                        Brain Cancer\n",
       "TCGA_disease                           None\n",
       "TCGA_primary_site                      None\n",
       "sample_type                            None\n",
       "CPE                                     NaN\n",
       "ABSOLUTE                                NaN\n",
       "Cancer type                            None\n",
       "subtype                              glioma\n",
       "UMAP_1                             5.433872\n",
       "UMAP_2                            10.000675\n",
       "cluster                                  52\n",
       "Name: 0, dtype: object"
      ]
     },
     "execution_count": 440,
     "metadata": {},
     "output_type": "execute_result"
    }
   ],
   "source": [
    "TCGA_annotation.iloc[0]"
   ]
  },
  {
   "cell_type": "code",
   "execution_count": 40,
   "metadata": {
    "ExecuteTime": {
     "end_time": "2021-10-15T19:44:01.381477Z",
     "start_time": "2021-10-15T19:44:01.292675Z"
    }
   },
   "outputs": [],
   "source": [
    "TCGA_annotation = TCGA_annotation.rename(columns=rename)[rename.values()]\n",
    "TCGA_annotation['method']=\"bulk\"\n",
    "TCGA_annotation['cell_type']=\"tumor\"\n",
    "TCGA_annotation['metastasis']=\"Primary\"\n",
    "CCLE_annotation['sequencer']="
   ]
  },
  {
   "cell_type": "markdown",
   "metadata": {},
   "source": [
    "## CCLF"
   ]
  },
  {
   "cell_type": "code",
   "execution_count": 21,
   "metadata": {
    "ExecuteTime": {
     "end_time": "2021-11-02T19:56:02.653047Z",
     "start_time": "2021-11-02T19:56:02.275562Z"
    },
    "scrolled": true
   },
   "outputs": [
    {
     "ename": "NameError",
     "evalue": "name 'rename' is not defined",
     "output_type": "error",
     "traceback": [
      "\u001b[0;31m---------------------------------------------------------------------------\u001b[0m",
      "\u001b[0;31mNameError\u001b[0m                                 Traceback (most recent call last)",
      "\u001b[0;32m/tmp/ipykernel_3840/2176769075.py\u001b[0m in \u001b[0;36m<module>\u001b[0;34m\u001b[0m\n\u001b[1;32m      1\u001b[0m \u001b[0mcclf_orga_info\u001b[0m \u001b[0;34m=\u001b[0m \u001b[0mtc\u001b[0m\u001b[0;34m.\u001b[0m\u001b[0mget\u001b[0m\u001b[0;34m(\u001b[0m\u001b[0mname\u001b[0m\u001b[0;34m=\u001b[0m\u001b[0;34m'cclf-organoids-c23d'\u001b[0m\u001b[0;34m,\u001b[0m \u001b[0mversion\u001b[0m\u001b[0;34m=\u001b[0m\u001b[0;36m1\u001b[0m\u001b[0;34m,\u001b[0m \u001b[0mfile\u001b[0m\u001b[0;34m=\u001b[0m\u001b[0;34m'cclf_orga_info'\u001b[0m\u001b[0;34m)\u001b[0m\u001b[0;34m\u001b[0m\u001b[0;34m\u001b[0m\u001b[0m\n\u001b[0;32m----> 2\u001b[0;31m \u001b[0mcclf_orga_info\u001b[0m \u001b[0;34m=\u001b[0m \u001b[0mcclf_orga_info\u001b[0m\u001b[0;34m.\u001b[0m\u001b[0mrename\u001b[0m\u001b[0;34m(\u001b[0m\u001b[0mcolumns\u001b[0m\u001b[0;34m=\u001b[0m\u001b[0mrename\u001b[0m\u001b[0;34m)\u001b[0m\u001b[0;34m[\u001b[0m\u001b[0;34m[\u001b[0m\u001b[0;34m\"tumor_type\"\u001b[0m\u001b[0;34m,\u001b[0m \u001b[0;34m\"sample_type\"\u001b[0m\u001b[0;34m,\u001b[0m \u001b[0;34m\"disease_type\"\u001b[0m\u001b[0;34m,\u001b[0m \u001b[0;34m\"sample_id\"\u001b[0m\u001b[0;34m]\u001b[0m\u001b[0;34m]\u001b[0m\u001b[0;34m\u001b[0m\u001b[0;34m\u001b[0m\u001b[0m\n\u001b[0m\u001b[1;32m      3\u001b[0m \u001b[0mcclf_orga_rnaseq\u001b[0m \u001b[0;34m=\u001b[0m \u001b[0mtc\u001b[0m\u001b[0;34m.\u001b[0m\u001b[0mget\u001b[0m\u001b[0;34m(\u001b[0m\u001b[0mname\u001b[0m\u001b[0;34m=\u001b[0m\u001b[0;34m'cclf-organoids-c23d'\u001b[0m\u001b[0;34m,\u001b[0m \u001b[0mversion\u001b[0m\u001b[0;34m=\u001b[0m\u001b[0;36m1\u001b[0m\u001b[0;34m,\u001b[0m \u001b[0mfile\u001b[0m\u001b[0;34m=\u001b[0m\u001b[0;34m'cclf_orga_rnaseq'\u001b[0m\u001b[0;34m)\u001b[0m\u001b[0;34m.\u001b[0m\u001b[0mT\u001b[0m \u001b[0;31m# 40,000x24\u001b[0m\u001b[0;34m\u001b[0m\u001b[0;34m\u001b[0m\u001b[0m\n\u001b[1;32m      4\u001b[0m \u001b[0mcclf_orga_info\u001b[0m\u001b[0;34m.\u001b[0m\u001b[0mindex\u001b[0m \u001b[0;34m=\u001b[0m \u001b[0;34m[\u001b[0m\u001b[0mi\u001b[0m\u001b[0;34m.\u001b[0m\u001b[0msplit\u001b[0m\u001b[0;34m(\u001b[0m\u001b[0;34m\"_\"\u001b[0m\u001b[0;34m)\u001b[0m\u001b[0;34m[\u001b[0m\u001b[0;36m1\u001b[0m\u001b[0;34m]\u001b[0m \u001b[0;32mfor\u001b[0m \u001b[0mi\u001b[0m \u001b[0;32min\u001b[0m \u001b[0mcclf_orga_info\u001b[0m\u001b[0;34m.\u001b[0m\u001b[0msample_id\u001b[0m\u001b[0;34m]\u001b[0m\u001b[0;34m\u001b[0m\u001b[0;34m\u001b[0m\u001b[0m\n\u001b[1;32m      5\u001b[0m \u001b[0mcclf_orga_rnaseq\u001b[0m\u001b[0;34m.\u001b[0m\u001b[0mindex\u001b[0m \u001b[0;34m=\u001b[0m \u001b[0;34m[\u001b[0m\u001b[0mi\u001b[0m\u001b[0;34m.\u001b[0m\u001b[0msplit\u001b[0m\u001b[0;34m(\u001b[0m\u001b[0;34m'_'\u001b[0m\u001b[0;34m)\u001b[0m\u001b[0;34m[\u001b[0m\u001b[0;36m0\u001b[0m\u001b[0;34m]\u001b[0m\u001b[0;34m[\u001b[0m\u001b[0;34m:\u001b[0m\u001b[0;34m-\u001b[0m\u001b[0;36m1\u001b[0m\u001b[0;34m]\u001b[0m \u001b[0;32mfor\u001b[0m \u001b[0mi\u001b[0m \u001b[0;32min\u001b[0m \u001b[0mcclf_orga_rnaseq\u001b[0m\u001b[0;34m.\u001b[0m\u001b[0mindex\u001b[0m\u001b[0;34m]\u001b[0m\u001b[0;34m\u001b[0m\u001b[0;34m\u001b[0m\u001b[0m\n",
      "\u001b[0;31mNameError\u001b[0m: name 'rename' is not defined"
     ]
    }
   ],
   "source": [
    "cclf_orga_info = tc.get(name='cclf-organoids-c23d', version=1, file='cclf_orga_info')\n",
    "cclf_orga_info = cclf_orga_info.rename(columns=rename)[rename.values()]\n",
    "cclf_orga_rnaseq = tc.get(name='cclf-organoids-c23d', version=1, file='cclf_orga_rnaseq').T # 40,000x24\n",
    "cclf_orga_info.index = [i.split(\"_\")[1] for i in cclf_orga_info.sample_id]\n",
    "cclf_orga_rnaseq.index = [i.split('_')[0][:-1] for i in cclf_orga_rnaseq.index]"
   ]
  },
  {
   "cell_type": "code",
   "execution_count": 536,
   "metadata": {
    "ExecuteTime": {
     "end_time": "2021-11-05T18:50:12.774188Z",
     "start_time": "2021-11-05T18:50:12.738801Z"
    }
   },
   "outputs": [
    {
     "data": {
      "text/html": [
       "<div>\n",
       "<style scoped>\n",
       "    .dataframe tbody tr th:only-of-type {\n",
       "        vertical-align: middle;\n",
       "    }\n",
       "\n",
       "    .dataframe tbody tr th {\n",
       "        vertical-align: top;\n",
       "    }\n",
       "\n",
       "    .dataframe thead th {\n",
       "        text-align: right;\n",
       "    }\n",
       "</style>\n",
       "<table border=\"1\" class=\"dataframe\">\n",
       "  <thead>\n",
       "    <tr style=\"text-align: right;\">\n",
       "      <th></th>\n",
       "      <th>Genomic_Seq</th>\n",
       "      <th>RNA_Seq_cancertype</th>\n",
       "      <th>RNA_Seq_marker</th>\n",
       "      <th>CCLF_ID</th>\n",
       "      <th>Diagnosis</th>\n",
       "      <th>Subtype_patient</th>\n",
       "      <th>Tumor_type</th>\n",
       "      <th>Sample_type</th>\n",
       "    </tr>\n",
       "  </thead>\n",
       "  <tbody>\n",
       "    <tr>\n",
       "      <th>0</th>\n",
       "      <td>Pending</td>\n",
       "      <td>BREAST_BASAL</td>\n",
       "      <td>None</td>\n",
       "      <td>CCLF_cRCRF1048</td>\n",
       "      <td>Advanced breast cancer</td>\n",
       "      <td>ER/PR+, HER2-</td>\n",
       "      <td>Metastatic</td>\n",
       "      <td>Pleural effusion</td>\n",
       "    </tr>\n",
       "    <tr>\n",
       "      <th>1</th>\n",
       "      <td>Pending</td>\n",
       "      <td>BREAST_BASAL</td>\n",
       "      <td>None</td>\n",
       "      <td>CCLF_cRCRF1060</td>\n",
       "      <td>Invasive breast carcinoma</td>\n",
       "      <td>ER+/PR-, Her2 IHC 1+</td>\n",
       "      <td>Metastatic</td>\n",
       "      <td>Pleural effusion</td>\n",
       "    </tr>\n",
       "    <tr>\n",
       "      <th>2</th>\n",
       "      <td>Pending</td>\n",
       "      <td>BREAST_BASAL</td>\n",
       "      <td>None</td>\n",
       "      <td>CCLF_KL1337</td>\n",
       "      <td>Breast met to brain</td>\n",
       "      <td>Pending</td>\n",
       "      <td>Metastatic</td>\n",
       "      <td>Brain met resection</td>\n",
       "    </tr>\n",
       "    <tr>\n",
       "      <th>3</th>\n",
       "      <td>Pending</td>\n",
       "      <td>BREAST_BASAL/LUMINAL</td>\n",
       "      <td>None</td>\n",
       "      <td>CCLF_KL1310</td>\n",
       "      <td>Breast met to brain</td>\n",
       "      <td>Pending</td>\n",
       "      <td>Metastatic</td>\n",
       "      <td>None</td>\n",
       "    </tr>\n",
       "    <tr>\n",
       "      <th>4</th>\n",
       "      <td>Pending</td>\n",
       "      <td>BREAST_LUMINAL</td>\n",
       "      <td>ER+</td>\n",
       "      <td>CCLF_KL1271</td>\n",
       "      <td>Breast met to brain</td>\n",
       "      <td>Pending</td>\n",
       "      <td>Metastatic</td>\n",
       "      <td>Brain met resection</td>\n",
       "    </tr>\n",
       "    <tr>\n",
       "      <th>5</th>\n",
       "      <td>Pending</td>\n",
       "      <td>BREAST_LUMINAL</td>\n",
       "      <td>ER+</td>\n",
       "      <td>CCLF_KL1333</td>\n",
       "      <td>Invasive breast carcinoma</td>\n",
       "      <td>Pending</td>\n",
       "      <td>Metastatic</td>\n",
       "      <td>Cryopreserved tissue</td>\n",
       "    </tr>\n",
       "    <tr>\n",
       "      <th>6</th>\n",
       "      <td>Pending</td>\n",
       "      <td>BREAST_LUMINAL</td>\n",
       "      <td>ER+</td>\n",
       "      <td>CCLF_KL1351</td>\n",
       "      <td>Breast met to brain</td>\n",
       "      <td>Pending</td>\n",
       "      <td>Metastatic</td>\n",
       "      <td>Brain met resection</td>\n",
       "    </tr>\n",
       "    <tr>\n",
       "      <th>7</th>\n",
       "      <td>Pending</td>\n",
       "      <td>BREAST_BASAL</td>\n",
       "      <td>None</td>\n",
       "      <td>CCLF_cRCRF1092</td>\n",
       "      <td>Advanced breast cancer</td>\n",
       "      <td>ER/PR+, HER2 negative</td>\n",
       "      <td>Metastatic</td>\n",
       "      <td>Pleural effusion</td>\n",
       "    </tr>\n",
       "    <tr>\n",
       "      <th>8</th>\n",
       "      <td>Pending</td>\n",
       "      <td>BREAST_LUMINAL</td>\n",
       "      <td>HER2+</td>\n",
       "      <td>CCLF_KL1312</td>\n",
       "      <td>Breast met to brain</td>\n",
       "      <td>Pending</td>\n",
       "      <td>Metastatic</td>\n",
       "      <td>Brain met resection</td>\n",
       "    </tr>\n",
       "    <tr>\n",
       "      <th>9</th>\n",
       "      <td>Pending</td>\n",
       "      <td>FIBROBLAST</td>\n",
       "      <td>None</td>\n",
       "      <td>CCLF_cRCRF1038</td>\n",
       "      <td>Advanced breast cancer</td>\n",
       "      <td>ER/PR+, HER2-</td>\n",
       "      <td>Metastatic</td>\n",
       "      <td>Pleural effusion</td>\n",
       "    </tr>\n",
       "    <tr>\n",
       "      <th>10</th>\n",
       "      <td>Pending</td>\n",
       "      <td>OVARY</td>\n",
       "      <td>None</td>\n",
       "      <td>CCLF_cRCRF1086</td>\n",
       "      <td>Uterine carcinoma</td>\n",
       "      <td>ERBB2amp, FGF2amp</td>\n",
       "      <td>Metastatic</td>\n",
       "      <td>Pleural effusion</td>\n",
       "    </tr>\n",
       "    <tr>\n",
       "      <th>11</th>\n",
       "      <td>Pending</td>\n",
       "      <td>OVARY</td>\n",
       "      <td>None</td>\n",
       "      <td>CCLF_SK1007</td>\n",
       "      <td>Ovarian carcinosarcoma</td>\n",
       "      <td>None</td>\n",
       "      <td>Metastatic</td>\n",
       "      <td>Resection</td>\n",
       "    </tr>\n",
       "    <tr>\n",
       "      <th>12</th>\n",
       "      <td>TWIST_verified</td>\n",
       "      <td>FIBROBLAST</td>\n",
       "      <td>None</td>\n",
       "      <td>CCLF_cRCRF1058</td>\n",
       "      <td>Ovarian cancer</td>\n",
       "      <td>BRAF V600E</td>\n",
       "      <td>Metastatic</td>\n",
       "      <td>Ascites</td>\n",
       "    </tr>\n",
       "    <tr>\n",
       "      <th>13</th>\n",
       "      <td>TWIST_verified</td>\n",
       "      <td>OVARY</td>\n",
       "      <td>None</td>\n",
       "      <td>CCLF_cRCRF1004</td>\n",
       "      <td>Ovarian serious cystadenocarcinoma</td>\n",
       "      <td>NF2 Y192*, TP53 376-1G&gt;A</td>\n",
       "      <td>Metastatic</td>\n",
       "      <td>Pleural effusion</td>\n",
       "    </tr>\n",
       "    <tr>\n",
       "      <th>14</th>\n",
       "      <td>TWIST_verified</td>\n",
       "      <td>None</td>\n",
       "      <td>None</td>\n",
       "      <td>CCLF_cRCRF1040</td>\n",
       "      <td>Advanced breast cancer</td>\n",
       "      <td>ER/PR+, HER2 -</td>\n",
       "      <td>Metastatic</td>\n",
       "      <td>Pleural effusion</td>\n",
       "    </tr>\n",
       "    <tr>\n",
       "      <th>15</th>\n",
       "      <td>TWIST_verified</td>\n",
       "      <td>None</td>\n",
       "      <td>None</td>\n",
       "      <td>CCLF_KL1220</td>\n",
       "      <td>Breast met to brain</td>\n",
       "      <td>ER-/PR-, HER2-</td>\n",
       "      <td>Metastatic</td>\n",
       "      <td>Brain met resection</td>\n",
       "    </tr>\n",
       "    <tr>\n",
       "      <th>16</th>\n",
       "      <td>TWIST_verified</td>\n",
       "      <td>None</td>\n",
       "      <td>None</td>\n",
       "      <td>CCLF_KL1282</td>\n",
       "      <td>Ovarian met to brain</td>\n",
       "      <td>Pending</td>\n",
       "      <td>Metastatic</td>\n",
       "      <td>Brain met resection</td>\n",
       "    </tr>\n",
       "  </tbody>\n",
       "</table>\n",
       "</div>"
      ],
      "text/plain": [
       "       Genomic_Seq    RNA_Seq_cancertype RNA_Seq_marker         CCLF_ID  \\\n",
       "0          Pending          BREAST_BASAL           None  CCLF_cRCRF1048   \n",
       "1          Pending          BREAST_BASAL           None  CCLF_cRCRF1060   \n",
       "2          Pending          BREAST_BASAL           None     CCLF_KL1337   \n",
       "3          Pending  BREAST_BASAL/LUMINAL           None     CCLF_KL1310   \n",
       "4          Pending        BREAST_LUMINAL            ER+     CCLF_KL1271   \n",
       "5          Pending        BREAST_LUMINAL            ER+     CCLF_KL1333   \n",
       "6          Pending        BREAST_LUMINAL            ER+     CCLF_KL1351   \n",
       "7          Pending          BREAST_BASAL           None  CCLF_cRCRF1092   \n",
       "8          Pending        BREAST_LUMINAL          HER2+     CCLF_KL1312   \n",
       "9          Pending            FIBROBLAST           None  CCLF_cRCRF1038   \n",
       "10         Pending                 OVARY           None  CCLF_cRCRF1086   \n",
       "11         Pending                 OVARY           None     CCLF_SK1007   \n",
       "12  TWIST_verified            FIBROBLAST           None  CCLF_cRCRF1058   \n",
       "13  TWIST_verified                 OVARY           None  CCLF_cRCRF1004   \n",
       "14  TWIST_verified                  None           None  CCLF_cRCRF1040   \n",
       "15  TWIST_verified                  None           None     CCLF_KL1220   \n",
       "16  TWIST_verified                  None           None     CCLF_KL1282   \n",
       "\n",
       "                             Diagnosis           Subtype_patient  Tumor_type  \\\n",
       "0               Advanced breast cancer             ER/PR+, HER2-  Metastatic   \n",
       "1            Invasive breast carcinoma      ER+/PR-, Her2 IHC 1+  Metastatic   \n",
       "2                  Breast met to brain                   Pending  Metastatic   \n",
       "3                  Breast met to brain                   Pending  Metastatic   \n",
       "4                  Breast met to brain                   Pending  Metastatic   \n",
       "5            Invasive breast carcinoma                   Pending  Metastatic   \n",
       "6                  Breast met to brain                   Pending  Metastatic   \n",
       "7               Advanced breast cancer     ER/PR+, HER2 negative  Metastatic   \n",
       "8                  Breast met to brain                   Pending  Metastatic   \n",
       "9               Advanced breast cancer             ER/PR+, HER2-  Metastatic   \n",
       "10                   Uterine carcinoma         ERBB2amp, FGF2amp  Metastatic   \n",
       "11              Ovarian carcinosarcoma                      None  Metastatic   \n",
       "12                      Ovarian cancer                BRAF V600E  Metastatic   \n",
       "13  Ovarian serious cystadenocarcinoma  NF2 Y192*, TP53 376-1G>A  Metastatic   \n",
       "14              Advanced breast cancer            ER/PR+, HER2 -  Metastatic   \n",
       "15                 Breast met to brain            ER-/PR-, HER2-  Metastatic   \n",
       "16                Ovarian met to brain                   Pending  Metastatic   \n",
       "\n",
       "             Sample_type  \n",
       "0       Pleural effusion  \n",
       "1       Pleural effusion  \n",
       "2    Brain met resection  \n",
       "3                   None  \n",
       "4    Brain met resection  \n",
       "5   Cryopreserved tissue  \n",
       "6    Brain met resection  \n",
       "7       Pleural effusion  \n",
       "8    Brain met resection  \n",
       "9       Pleural effusion  \n",
       "10      Pleural effusion  \n",
       "11             Resection  \n",
       "12               Ascites  \n",
       "13      Pleural effusion  \n",
       "14      Pleural effusion  \n",
       "15   Brain met resection  \n",
       "16   Brain met resection  "
      ]
     },
     "execution_count": 536,
     "metadata": {},
     "output_type": "execute_result"
    }
   ],
   "source": [
    "cclf_orga_info"
   ]
  },
  {
   "cell_type": "code",
   "execution_count": null,
   "metadata": {},
   "outputs": [],
   "source": [
    "cclf_orga_info['sequencer'] =\n",
    "cclf_orga_info['method'] = \"\"\n",
    "cclf_orga_info['cell_type'] = \"organoid; cancer\""
   ]
  },
  {
   "cell_type": "code",
   "execution_count": 480,
   "metadata": {
    "ExecuteTime": {
     "end_time": "2021-11-05T13:24:33.905741Z",
     "start_time": "2021-11-05T13:24:25.167741Z"
    },
    "scrolled": false
   },
   "outputs": [],
   "source": [
    "#cclf other\n",
    "cclfrna = dm.WorkspaceManager(\"nci-mimoun-bi-org/CCLF_RNA_2_0\").get_samples() #40,000x160\n",
    "\n",
    "cclfrna_anno = cclfrna[[\"external_id_rna\"]].replace({'NA': np.nan})\n",
    "\n",
    "cclfrna_annot = Sheets.from_files(MY_ID, MYSTORAGE_ID).get(\"https://docs.google.com/spreadsheets/d/1O9IV_v2vMbebkk_KDWu3LdKBQ16c8lThJKiiWvRxMUo\").sheets[2].to_frame()\n",
    "\n",
    "cclfrna_annot2 = Sheets.from_files(MY_ID, MYSTORAGE_ID).get(\"https://docs.google.com/spreadsheets/d/1O9IV_v2vMbebkk_KDWu3LdKBQ16c8lThJKiiWvRxMUo\").sheets[3].to_frame()\n",
    "# get it  from https://docs.google.com/spreadsheets/d/1O9IV_v2vMbebkk_KDWu3LdKBQ16c8lThJKiiWvRxMUo and get "
   ]
  },
  {
   "cell_type": "code",
   "execution_count": 392,
   "metadata": {
    "ExecuteTime": {
     "end_time": "2021-11-04T18:20:08.842140Z",
     "start_time": "2021-11-04T18:19:45.793943Z"
    },
    "scrolled": true
   },
   "outputs": [],
   "source": [
    "#files, failed, _, _, lowqual, _ = await expressions.postProcess(\"nci-mimoun-bi-org/CCLF_RNA_2_0\", \"all_samples\", samplesetToLoad = \"all_samples\", compute_enrichment=False, trancriptLevelCols = ['rsem_transcripts_expected_count', 'rsem_transcripts_tpm'], geneLevelCols = [\"rsem_genes_tpm\", \"rsem_genes_expected_count\"], save_output=\"data/\")\n",
    "#cclfrna = files['rsem_genes_tpm']\n",
    "cclfrna = pd.read_csv('data/expression_genes_tpm.csv', index_col=0)"
   ]
  },
  {
   "cell_type": "code",
   "execution_count": 481,
   "metadata": {
    "ExecuteTime": {
     "end_time": "2021-11-05T13:24:41.313005Z",
     "start_time": "2021-11-05T13:24:41.278059Z"
    }
   },
   "outputs": [],
   "source": [
    "ina = (cclfrna_annot2['Passage Number'].isna() | (cclfrna_annot2['Passage Number']==\"Unknown\")) & ~(cclfrna_annot2[\"Passage Number on Receipt\"].isna() | (cclfrna_annot2[\"Passage Number on Receipt\"]==\"Unknown\"))\n",
    "cclfrna_annot2.loc[ina, \"Passage Number\"] = cclfrna_annot2.loc[ina, \"Passage Number on Receipt\"].values\n",
    "\n",
    "ina = (cclfrna_annot2['Gender'].isna() | (cclfrna_annot2['Gender']==\"Unknown\")) & ~(cclfrna_annot2[\"Gender.1\"].isna() | (cclfrna_annot2[\"Gender.1\"]==\"Unknown\"))\n",
    "cclfrna_annot2.loc[ina, \"genderA\"] = cclfrna_annot2.loc[ina, \"Gender.1\"].values\n",
    "\n",
    "ina = (cclfrna_annot2['Gender'].isna() | (cclfrna_annot2['Gender']==\"Unknown\")) & ~(cclfrna_annot2[\"FP Gender\"].isna() | (cclfrna_annot2[\"FP Gender\"]==\"Unknown\"))\n",
    "cclfrna_annot2.loc[ina, \"Gender\"] = cclfrna_annot2.loc[ina, \"FP Gender\"].values\n",
    "\n",
    "ina = (cclfrna_annot2['Race'].isna() | (cclfrna_annot2['Race']==\"Unknown\")) & ~(cclfrna_annot2[\"Ethnicity\"].isna() | (cclfrna_annot2[\"Ethnicity\"]==\"Unknown\"))\n",
    "cclfrna_annot2.loc[ina, \"Race\"] = cclfrna_annot2.loc[ina, \"Ethnicity\"].values\n"
   ]
  },
  {
   "cell_type": "code",
   "execution_count": 537,
   "metadata": {
    "ExecuteTime": {
     "end_time": "2021-11-05T18:51:32.117929Z",
     "start_time": "2021-11-05T18:51:32.090942Z"
    }
   },
   "outputs": [
    {
     "data": {
      "text/plain": [
       "Age                              NaN\n",
       "Gender                           NaN\n",
       "Sample Type                   Normal\n",
       "Tumor Type                       NaN\n",
       "Tissue Site                      NaN\n",
       "Tumor Percent                    NaN\n",
       "Primary Disease    Mouse Fibroblasts\n",
       "Race                             NaN\n",
       "Culture Medium                   NaN\n",
       "Passage Number                   NaN\n",
       "index                            NaN\n",
       "Name: 3T3/J2_CL, dtype: object"
      ]
     },
     "execution_count": 537,
     "metadata": {},
     "output_type": "execute_result"
    }
   ],
   "source": [
    "cclfrna_annot2.iloc[0]"
   ]
  },
  {
   "cell_type": "code",
   "execution_count": 538,
   "metadata": {
    "ExecuteTime": {
     "end_time": "2021-11-05T18:51:41.943692Z",
     "start_time": "2021-11-05T18:51:41.918535Z"
    }
   },
   "outputs": [
    {
     "data": {
      "text/plain": [
       "Sequencing on Tissue or Cell model? (MT confirm)                                           Cell model\n",
       "External ID for BAM                                                                         AB002T_BT\n",
       "Product                                             Tru-Seq Strand Specific Large Insert RNA Seque...\n",
       "Original Material Type                                                        Cells:Cell Line, Viable\n",
       "Collaborator Participant ID                                                                     AB002\n",
       "Aggregated                                                                                        0.0\n",
       "Actual Seq Technology                                                                             NaN\n",
       "Contamination %                                                                                  1.07\n",
       "Age                                                                                           Unknown\n",
       "Gender                                                                                            NaN\n",
       "Sample Type                                                                                     Tumor\n",
       "Tumor Type                                                                                    Primary\n",
       "Tissue Site                                                                                 Esophagus\n",
       "Tumor Percent                                                                                     NaN\n",
       "Primary Disease                                                                        Adenocarcinoma\n",
       "Race                                                                                              NaN\n",
       "Culture Medium                                                                                    NaN\n",
       "Passage Number                                                                                    NaN\n",
       "index                                                                                             NaN\n",
       "Name: AB002T_BT, dtype: object"
      ]
     },
     "execution_count": 538,
     "metadata": {},
     "output_type": "execute_result"
    }
   ],
   "source": [
    "cclfrna_annot.iloc[0]"
   ]
  },
  {
   "cell_type": "code",
   "execution_count": 482,
   "metadata": {
    "ExecuteTime": {
     "end_time": "2021-11-05T13:24:48.484020Z",
     "start_time": "2021-11-05T13:24:48.457543Z"
    }
   },
   "outputs": [],
   "source": [
    "cclfrna_annot2 = cclfrna_annot2.set_index('Collaborator Sample ID')[[\"Age\",\n",
    "\"Gender\",\n",
    "\"Tumor Type\",\n",
    "\"Tissue Site\",\n",
    "\"Primary Disease\",\n",
    "\"Race\",\n",
    "\"Culture Medium\",\n",
    "\"Passage Number\",]]"
   ]
  },
  {
   "cell_type": "code",
   "execution_count": 483,
   "metadata": {
    "ExecuteTime": {
     "end_time": "2021-11-05T13:24:55.581917Z",
     "start_time": "2021-11-05T13:24:55.558070Z"
    }
   },
   "outputs": [],
   "source": [
    "cclfrna_annot = cclfrna_annot[[\n",
    " 'Sequencing on Tissue or Cell model? (MT confirm)',\n",
    " 'External ID for BAM',\n",
    " 'Product',\n",
    " 'RIN',\n",
    " 'Collaborator Sample ID',\n",
    " 'Original Material Type',\n",
    " 'Collaborator Participant ID',\n",
    " 'Aggregated',\n",
    " 'Actual Seq Technology',\n",
    " 'Contamination %',\n",
    "]].set_index('Collaborator Sample ID', drop=True)"
   ]
  },
  {
   "cell_type": "code",
   "execution_count": 522,
   "metadata": {
    "ExecuteTime": {
     "end_time": "2021-11-05T15:53:19.704107Z",
     "start_time": "2021-11-05T15:53:19.183943Z"
    }
   },
   "outputs": [],
   "source": [
    "for val in h.dups(cclfrna_annot2.index):\n",
    "    for i in range(len(cclfrna_annot2.loc[val])-1):\n",
    "        if cclfrna_annot2.loc[val].iloc[0].isna().sum() > cclfrna_annot2.loc[val].iloc[i+1].isna().sum():\n",
    "            cclfrna_annot2.iloc[np.argwhere(cclfrna_annot2.index == val).flatten()[0]] = cclfrna_annot2.loc[val].iloc[i+1].values\n",
    "cclfrna_annot2 = cclfrna_annot2[~cclfrna_annot2.index.duplicated(keep='first')]"
   ]
  },
  {
   "cell_type": "code",
   "execution_count": 525,
   "metadata": {
    "ExecuteTime": {
     "end_time": "2021-11-05T15:54:10.486172Z",
     "start_time": "2021-11-05T15:54:10.446749Z"
    }
   },
   "outputs": [],
   "source": [
    "for val in h.dups(cclfrna_annot.index):\n",
    "    for i in range(len(cclfrna_annot.loc[val])-1):\n",
    "        if cclfrna_annot.loc[val].iloc[0].isna().sum() > cclfrna_annot.loc[val].iloc[i+1].isna().sum():\n",
    "            cclfrna_annot.iloc[np.argwhere(cclfrna_annot.index == val).flatten()[0]] = cclfrna_annot.loc[val].iloc[i+1].values\n",
    "cclfrna_annot = cclfrna_annot[~cclfrna_annot.index.duplicated(keep='first')]"
   ]
  },
  {
   "cell_type": "code",
   "execution_count": 526,
   "metadata": {
    "ExecuteTime": {
     "end_time": "2021-11-05T15:54:17.519504Z",
     "start_time": "2021-11-05T15:54:17.495062Z"
    }
   },
   "outputs": [],
   "source": [
    "cclfrna_annot = pd.concat([cclfrna_annot, cclfrna_annot2], axis=1)"
   ]
  },
  {
   "cell_type": "code",
   "execution_count": 528,
   "metadata": {
    "ExecuteTime": {
     "end_time": "2021-11-05T15:55:12.839152Z",
     "start_time": "2021-11-05T15:55:11.443200Z"
    }
   },
   "outputs": [],
   "source": [
    "for i, val in cclfrna_annot.iterrows():\n",
    "    cclfrna_anno.loc[cclfrna_anno.external_id_rna==i, cclfrna_annot.columns] = val.values\n",
    "del cclfrna_annot"
   ]
  },
  {
   "cell_type": "markdown",
   "metadata": {},
   "source": [
    "## MET500 and PDXs"
   ]
  },
  {
   "cell_type": "code",
   "execution_count": 544,
   "metadata": {
    "ExecuteTime": {
     "end_time": "2021-11-05T19:11:16.276168Z",
     "start_time": "2021-11-05T19:11:16.247366Z"
    },
    "scrolled": true
   },
   "outputs": [
    {
     "data": {
      "text/plain": [
       "Sample_id        ES_5001-capt-SI_5013-C0LAMACXX\n",
       "sample_type                               tumor\n",
       "sample_source                           ES_5001\n",
       "dataset                                    mctp\n",
       "tissue                                   breast\n",
       "cohort                                     BRCA\n",
       "run.id           ES_5001-capt-SI_5013-C0LAMACXX\n",
       "idx                                         461\n",
       "test                                      False\n",
       "tc                                         0.93\n",
       "biopsy_tissue                             brain\n",
       "Name: 0, dtype: object"
      ]
     },
     "execution_count": 544,
     "metadata": {},
     "output_type": "execute_result"
    }
   ],
   "source": [
    "met500_meta.iloc[0]"
   ]
  },
  {
   "cell_type": "code",
   "execution_count": 606,
   "metadata": {
    "ExecuteTime": {
     "end_time": "2021-11-05T20:48:40.176744Z",
     "start_time": "2021-11-05T20:48:40.148382Z"
    }
   },
   "outputs": [],
   "source": [
    "tcga_dict = {\n",
    "\"LAML\":\t\"Acute Myeloid Leukemia\",\n",
    "\"ACC\":\t\"Adrenocortical carcinoma\",\n",
    "\"BLCA\":\t\"Bladder Urothelial Carcinoma\",\n",
    "\"BOCA\":\t\"Bone Cancer\",\n",
    "\"LGG\":\t\"Brain Lower Grade Glioma\",\n",
    "\"BRCA\":\t\"Breast invasive carcinoma\",\n",
    "\"CESC\":\t\"Cervical squamous cell carcinoma and endocervical adenocarcinoma\",\n",
    "\"CHOL\":\t\"Cholangiocarcinoma\",\n",
    "\"CLLE\":\t\"Chronic Lymphocytic Leukemia\",\n",
    "\"CMDI\":\t\"Chronic Myeloid Disorders\",\n",
    "\"COAD\":\t\"Colon adenocarcinoma\",\n",
    "\"COLO\":\t\"Colorectal Cancer\",\n",
    "\"COADREAD\":\t\"Colorectal cancer\",\n",
    "\"EOPC\":\t\"Early Onset Prostate Cancer\",\n",
    "\"ESAD\":\t\"Esophageal Adenocarcinoma\",\n",
    "\"ESCA\":\t\"Esophageal carcinoma\",\n",
    "\"CHOL\":\t\"Gallbladder cancer\",\n",
    "\"GBM\":\t\"Glioblastoma multiforme\",\n",
    "\"HNSC\":\t\"Head and Neck squamous cell carcinoma\",\n",
    "\"KDNY\":\t\"Kidney Cancer\",\n",
    "\"KICH\":\t\"Kidney Chromophobe\",\n",
    "\"KIRC\":\t\"Kidney renal clear cell carcinoma\",\n",
    "\"KIRP\":\t\"Kidney renal papillary cell carcinoma\",\n",
    "\"LIRI\":\t\"Liver Cancer\",\n",
    "\"LICA\":\t\"Liver Cancer\",\n",
    "\"LINC\":\t\"Liver Cancer\",\n",
    "\"HCC\":\t\"Liver hepatocellular carcinoma\",\n",
    "\"LIHC\":\t\"Liver hepatocellular carcinoma\",\n",
    "\"LGG\":\t\"Lower Grade GLioma\",\n",
    "\"LUNG\":\t\"Lung Cancer\",\n",
    "\"LUAD\":\t\"Lung adenocarcinoma\",\n",
    "\"LUSC\":\t\"Lung squamous cell carcinoma\",\n",
    "\"DLBC\":\t\"Lymphoid Neoplasm Diffuse Large B-cell Lymphoma\",\n",
    "\"MCTP\":\t\"MCTP\",\n",
    "\"MALY\":\t\"Malignant Lymphoma\",\n",
    "\"MESO\":\t\"Mesothelioma\",\n",
    "\"NBL\":\t\"Neuroblastoma\",\n",
    "\"ORCA\":\t\"Oral Cancer\",\n",
    "\"MISC\":\t\"Other Cancer\",\n",
    "\"OV\":\t\"Ovarian serous cystadenocarcinoma\",\n",
    "\"PACA\":\t\"Pancreatic Cancer\",\n",
    "\"PAEN\":\t\"Pancreatic Cancer Endocrine neoplasms\",\n",
    "\"PAAD\":\t\"Pancreatic adenocarcinoma\",\n",
    "\"PBCA\":\t\"Pediatric Brain Cancer\",\n",
    "\"PCPG\":\t\"Pheochromocytoma and Paraganglioma\",\n",
    "\"PRAD\":\t\"Prostate adenocarcinoma\",\n",
    "\"READ\":\t\"Rectum adenocarcinoma\",\n",
    "\"RECA\":\t\"Renal Cancer\",\n",
    "\"SARC\":\t\"Sarcoma\",\n",
    "\"SECR\":\t\"Secretory Cancer\",\n",
    "\"SKCM\":\t\"Skin Cutaneous Melanoma\",\n",
    "\"STAD\":\t\"Stomach adenocarcinoma\",\n",
    "\"TGCT\":\t\"Testicular Germ Cell Tumor\",\n",
    "\"TGCT\":\t\"Testicular Germ Cell Tumors\",\n",
    "\"THYM\":\t\"Thymoma\",\n",
    "\"THYM\":\t\"Thymoma\",\n",
    "\"THCA\":\t\"Thyroid carcinoma\",\n",
    "\"UCS\":\t\"Uterine Carcinosarcoma\",\n",
    "\"UCEC\":\t\"Uterine Corpus Endometrial Carcinoma\",\n",
    "\"UVM\":\t\"Uveal Melanoma\",\n",
    "\"ACC\":\t\"adrenocortical carcinoma\",\n",
    "}"
   ]
  },
  {
   "cell_type": "code",
   "execution_count": 607,
   "metadata": {
    "ExecuteTime": {
     "end_time": "2021-11-05T20:48:49.148869Z",
     "start_time": "2021-11-05T20:48:49.118648Z"
    }
   },
   "outputs": [],
   "source": [
    "met500_meta = met500_meta.replace({\"cohort\": tcga_dict})"
   ]
  },
  {
   "cell_type": "code",
   "execution_count": 542,
   "metadata": {
    "ExecuteTime": {
     "end_time": "2021-11-05T19:04:26.114792Z",
     "start_time": "2021-11-05T19:04:20.128143Z"
    },
    "scrolled": true
   },
   "outputs": [
    {
     "name": "stdout",
     "output_type": "stream",
     "text": [
      "No dataset version provided. Using version 1.\n",
      "No dataset version provided. Using version 1.\n",
      "No dataset version provided. Using version 1.\n",
      "No dataset version provided. Using version 2.\n",
      "No dataset version provided. Using version 2.\n",
      "No dataset version provided. Using version 2.\n",
      "No dataset version provided. Using version 2.\n"
     ]
    }
   ],
   "source": [
    "# met500 \n",
    "met500_meta = tc.get(name='met500-fc3c', file='met500_meta')\n",
    "met500_TPM = tc.get(name='met500-fc3c', file='met500_TPM') #20,979x868 matrix\n",
    "\n",
    "#Novartis_PDX\n",
    "Novartis_PDX_ann = tc.get(name='pdx-data-3d29', file='Novartis_PDX_ann')\n",
    "Novartis_PDX_TPM = tc.get(name='pdx-data-3d29', file='Novartis_PDX_TPM').T # 38,087x445\n",
    "\n",
    "#pediatric_PDX\n",
    "pediatric_PDX_ann = tc.get(name='pdx-data-3d29', file='pediatric_PDX_ann')\n",
    "pediatric_PDX_TPM = tc.get(name='pdx-data-3d29', file='pediatric_PDX_TPM') #80,000x250"
   ]
  },
  {
   "cell_type": "code",
   "execution_count": null,
   "metadata": {},
   "outputs": [],
   "source": [
    "met500_meta = met500_meta.rename(columns={**rename, **{'subtype': \"disease_type\"}}).set_index('sample_id', drop=True)[rename.values()]"
   ]
  },
  {
   "cell_type": "code",
   "execution_count": null,
   "metadata": {},
   "outputs": [],
   "source": [
    "met500_meta['sequencer'] = \"\"\n",
    "met500_meta['method'] = \"\""
   ]
  },
  {
   "cell_type": "code",
   "execution_count": 347,
   "metadata": {
    "ExecuteTime": {
     "end_time": "2021-11-04T17:25:51.205859Z",
     "start_time": "2021-11-04T17:25:51.166956Z"
    }
   },
   "outputs": [
    {
     "data": {
      "text/plain": [
       "sampleID                                                                                  ALL-102\n",
       "lineage                                                                                     blood\n",
       "subtype                                                                                       ALL\n",
       "Histology                                                                                     ALL\n",
       "Histology.Detailed                                                                     Ph-likeALL\n",
       "Histology-Detailed2                                                                    Ph-likeALL\n",
       "Molecular-Subtype-Brain                                                                      None\n",
       "PI                                                                                           Lock\n",
       "Sex                                                                                          Male\n",
       "Phase                                                                                   Diagnosis\n",
       "Age                                                                                          3.08\n",
       "Reported_Ethnicity                                                                        Unknown\n",
       "Inferred_Ethnicity                                                                       European\n",
       "PC1                                                                                      0.016946\n",
       "PC2                                                                                      0.029382\n",
       "PC3                                                                                      0.005415\n",
       "Site.of.Initial.Tumor                                                                     Unknown\n",
       "Site.of.Specimen                                                                      Bone marrow\n",
       "New Histopathology                                                                      Not noted\n",
       "Stage.of.Disease                                                                          Unknown\n",
       "Risk.Group                                                                                   None\n",
       "COG studies                                                                               Unknown\n",
       "Prior Therapy                                                                         No Prior Tx\n",
       "Patient.last.alive.year                                                                      2009\n",
       "Patient.OS.to.last.alive.date.days.                                                          2443\n",
       "Patient.EFS.from.Dx.to.1st.Progression.days.                                                  827\n",
       "Time.from.Dx.to.sample.for.model.days.                                                          0\n",
       "Other_info1                                     Same patient as ALL-105 (rel1) and ALL-115 (rel3)\n",
       "type                                                                                          PDX\n",
       "Name: 0, dtype: object"
      ]
     },
     "execution_count": 347,
     "metadata": {},
     "output_type": "execute_result"
    }
   ],
   "source": [
    "pediatric_PDX_ann.iloc[0]"
   ]
  },
  {
   "cell_type": "code",
   "execution_count": 70,
   "metadata": {
    "ExecuteTime": {
     "end_time": "2021-10-18T16:58:37.201465Z",
     "start_time": "2021-10-18T16:58:37.162448Z"
    },
    "scrolled": true
   },
   "outputs": [
    {
     "data": {
      "text/plain": [
       "[('ALL-105', 'ALL-102'),\n",
       " ('ALL-102', 'ALL-105'),\n",
       " '',\n",
       " '',\n",
       " '',\n",
       " '',\n",
       " ('ALL-102', 'ALL-115'),\n",
       " '',\n",
       " '',\n",
       " '',\n",
       " ('ALL-46', 'ALL-121'),\n",
       " '',\n",
       " ('ALL-58', 'ALL-123'),\n",
       " '',\n",
       " '',\n",
       " '',\n",
       " '',\n",
       " '',\n",
       " '',\n",
       " '',\n",
       " '',\n",
       " ('ALL-121', 'ALL-46'),\n",
       " '',\n",
       " '',\n",
       " '',\n",
       " '',\n",
       " '',\n",
       " ('ALL-123', 'ALL-58'),\n",
       " '',\n",
       " ('ALL-25', 'ALL-61'),\n",
       " '',\n",
       " '',\n",
       " ('ALL-81', 'ALL-80'),\n",
       " ('ALL-80', 'ALL-81'),\n",
       " '',\n",
       " ('ALL-32', 'ALL-90'),\n",
       " '',\n",
       " '',\n",
       " '',\n",
       " '',\n",
       " '',\n",
       " '',\n",
       " '',\n",
       " '',\n",
       " '',\n",
       " '',\n",
       " '',\n",
       " ('ALL-61', 'ALL-25'),\n",
       " '',\n",
       " '',\n",
       " '',\n",
       " ('ALL-90', 'ALL-32'),\n",
       " '',\n",
       " '',\n",
       " '',\n",
       " '',\n",
       " '',\n",
       " '',\n",
       " ('ALL-83', 'ALL-82'),\n",
       " ('ALL-82', 'ALL-83'),\n",
       " '',\n",
       " '',\n",
       " '',\n",
       " '',\n",
       " '',\n",
       " '',\n",
       " '',\n",
       " '',\n",
       " '',\n",
       " '',\n",
       " '',\n",
       " '',\n",
       " '',\n",
       " '',\n",
       " '',\n",
       " '',\n",
       " ('COG-N-453x', 'COG-N-452x'),\n",
       " ('COG-N-452x', 'COG-N-453x'),\n",
       " '',\n",
       " '',\n",
       " '',\n",
       " '',\n",
       " '',\n",
       " '',\n",
       " '',\n",
       " '',\n",
       " '',\n",
       " '',\n",
       " '',\n",
       " ('COG-N-623x', 'COG-N-603x'),\n",
       " ('COG-N-618x', 'COG-N-619x'),\n",
       " '',\n",
       " ('COG-N-603x', 'COG-N-623x'),\n",
       " '',\n",
       " '',\n",
       " '',\n",
       " '',\n",
       " '',\n",
       " '',\n",
       " '',\n",
       " '',\n",
       " '',\n",
       " '',\n",
       " '',\n",
       " '',\n",
       " '',\n",
       " '',\n",
       " '',\n",
       " '',\n",
       " '',\n",
       " '',\n",
       " '',\n",
       " '',\n",
       " '',\n",
       " '',\n",
       " '',\n",
       " '',\n",
       " ('9850PNET; recurrent', 'IC-22909PNET-rIII'),\n",
       " '',\n",
       " '',\n",
       " '',\n",
       " '',\n",
       " '',\n",
       " '',\n",
       " '',\n",
       " '',\n",
       " '',\n",
       " '',\n",
       " '',\n",
       " '',\n",
       " '',\n",
       " '',\n",
       " '',\n",
       " '',\n",
       " '',\n",
       " '',\n",
       " '',\n",
       " '',\n",
       " '',\n",
       " '',\n",
       " '',\n",
       " '',\n",
       " '',\n",
       " '',\n",
       " '',\n",
       " '',\n",
       " ('22909PNET; primary', 'ICb-9850PNET'),\n",
       " '',\n",
       " '',\n",
       " '',\n",
       " '',\n",
       " '',\n",
       " '',\n",
       " '',\n",
       " '',\n",
       " '',\n",
       " '',\n",
       " '',\n",
       " '',\n",
       " '',\n",
       " '',\n",
       " '',\n",
       " '',\n",
       " '',\n",
       " '',\n",
       " '',\n",
       " '',\n",
       " '',\n",
       " '',\n",
       " '',\n",
       " '',\n",
       " '',\n",
       " '',\n",
       " '',\n",
       " '',\n",
       " ('NCH-CA-2', 'NCH-CA-1'),\n",
       " ('NCH-CA-1', 'NCH-CA-2'),\n",
       " '',\n",
       " '',\n",
       " '',\n",
       " '',\n",
       " '',\n",
       " '',\n",
       " '',\n",
       " '',\n",
       " '',\n",
       " '',\n",
       " '',\n",
       " '',\n",
       " '',\n",
       " '',\n",
       " '',\n",
       " '',\n",
       " '',\n",
       " '',\n",
       " '',\n",
       " '',\n",
       " '',\n",
       " '',\n",
       " ('OS-36 and OS-36-SJ', 'OS-32'),\n",
       " '',\n",
       " ('OS-34-SJ', 'OS-34'),\n",
       " ('OS-34', 'OS-34-SJ'),\n",
       " '',\n",
       " '',\n",
       " '',\n",
       " '',\n",
       " '',\n",
       " '',\n",
       " '',\n",
       " '',\n",
       " '',\n",
       " '',\n",
       " '',\n",
       " '',\n",
       " '',\n",
       " '',\n",
       " '',\n",
       " '',\n",
       " '',\n",
       " '',\n",
       " '',\n",
       " '',\n",
       " '',\n",
       " '',\n",
       " '',\n",
       " '',\n",
       " ('Rh-30R', 'Rh-30'),\n",
       " ('Rh-30', 'Rh-30R'),\n",
       " '',\n",
       " '',\n",
       " '',\n",
       " '',\n",
       " '',\n",
       " '',\n",
       " '',\n",
       " '',\n",
       " '',\n",
       " '',\n",
       " '',\n",
       " '',\n",
       " '',\n",
       " '',\n",
       " '']"
      ]
     },
     "execution_count": 70,
     "metadata": {},
     "output_type": "execute_result"
    }
   ],
   "source": [
    "[(i.split('me patient as ')[-1].split(' (')[0],v) if type(i) is str and 'ame patient' in i else '' for v, i in pediatric_PDX_ann[[\"sampleID\",\"Other_info1\"]].values]"
   ]
  },
  {
   "cell_type": "code",
   "execution_count": null,
   "metadata": {},
   "outputs": [],
   "source": [
    "pediatric_PDX_ann['participant_id'] = pediatric_PDX_ann.index\n",
    "\n",
    "#created frrom manual inspection\n",
    "samepatient = [('NCH-CA-2', 'NCH-CA-1'), ('ALL-105', 'ALL-102', \"ALL-115\"), ('ALL-46', 'ALL-121'), ('ALL-25', 'ALL-61'), ('ALL-81', 'ALL-80'), ('ALL-32', 'ALL-90'), ('ALL-58', 'ALL-123'), ('ALL-82', 'ALL-83'), (\"COG-N-623x\", \"COG-N-603x\"), (\"COG-N-453x\",\"COG-N-452x\"), (\"COG-N-618x\", \"COG-N-619x\"), ('22909PNET', '9850PNET'), ('OS-34', 'OS-34-SJ'), ('OS-36', 'OS-36-SJ', 'OS-32'),  ('Rh-30R', 'Rh-30')]\n",
    "\n",
    "for val in samepatient:\n",
    "    for i in val[1:]:\n",
    "        pediatric_PDX_ann.loc[i, 'participant_id']=val[0]\n",
    "        \n",
    "pediatric_PDX_ann['age'] = ['adult' if i =='Adult' else 'child' for i in pediatric_PDX_ann['Other_info1']]\n",
    "\n",
    "pediatric_PDX_ann.rename(columns={**rename, **{'subtype': \"disease_type\"}})[rename.values()]"
   ]
  },
  {
   "cell_type": "code",
   "execution_count": null,
   "metadata": {},
   "outputs": [],
   "source": [
    "pediatric_PDX_ann['sequencer'] = \"\"\n",
    "pediatric_PDX_ann['method'] = \"bulk\""
   ]
  },
  {
   "cell_type": "code",
   "execution_count": 350,
   "metadata": {
    "ExecuteTime": {
     "end_time": "2021-11-04T17:28:58.855395Z",
     "start_time": "2021-11-04T17:28:58.830961Z"
    }
   },
   "outputs": [
    {
     "data": {
      "text/plain": [
       "sampleID           0931HXXTM\n",
       "lineage             pancreas\n",
       "subtype     ductal_carcinoma\n",
       "type                     PDX\n",
       "Name: 0, dtype: object"
      ]
     },
     "execution_count": 350,
     "metadata": {},
     "output_type": "execute_result"
    }
   ],
   "source": [
    "Novartis_PDX_ann.iloc[0]"
   ]
  },
  {
   "cell_type": "code",
   "execution_count": null,
   "metadata": {},
   "outputs": [],
   "source": [
    "Novartis_PDX_ann = Novartis_PDX_ann.rename(columns=rename).set_index('sample_id', drop=True)"
   ]
  },
  {
   "cell_type": "code",
   "execution_count": null,
   "metadata": {},
   "outputs": [],
   "source": [
    "Novartis_PDX_ann['sequencer'] = \"\"\n",
    "Novartis_PDX_ann['method'] = \"bulk\""
   ]
  },
  {
   "cell_type": "markdown",
   "metadata": {},
   "source": [
    "## tumor inf elife"
   ]
  },
  {
   "cell_type": "code",
   "execution_count": 11,
   "metadata": {
    "ExecuteTime": {
     "end_time": "2021-11-02T19:11:26.114617Z",
     "start_time": "2021-11-02T19:11:25.546779Z"
    }
   },
   "outputs": [],
   "source": [
    "elife_tumorinf = tc.get(name='tumor-infiltration-3307', version=1, file='elife_tumorinf')"
   ]
  },
  {
   "cell_type": "code",
   "execution_count": null,
   "metadata": {
    "ExecuteTime": {
     "end_time": "2021-10-25T18:51:59.448214Z",
     "start_time": "2021-10-25T18:51:59.448152Z"
    }
   },
   "outputs": [],
   "source": [
    "elife_tumorinf = elife_tumorinf.rename(columns={\"Bcells\": \"B-cell\", \"CAFs\": \"CAF\", \"CD4_Tcells\": \"CD4_T-cells\", \"CD8_Tcells\": \"CD8_T-cells\",\"macrophage\": \"macrophage\", \"Endothelial\": \"endothelial\", \"NKcells\": \"NK-cell\"})"
   ]
  },
  {
   "cell_type": "code",
   "execution_count": 13,
   "metadata": {
    "ExecuteTime": {
     "end_time": "2021-11-02T19:46:37.001343Z",
     "start_time": "2021-11-02T19:46:36.967438Z"
    }
   },
   "outputs": [],
   "source": [
    "elife_tumorinf_ann = pd.DataFrame()\n",
    "elife_tumorinf_ann[\"cell_type\"] = \"normal\"\n",
    "elife_tumorinf_ann[\"tissue_type\"] = elife_tumorinf.columns\n",
    "elife_tumorinf_ann[\"sample_ID\"] = elife_tumorinf.columns\n",
    "melanoma_ann['sequencer'] = \"\"\n",
    "melanoma_ann['method'] = \"singlecell\"\n",
    "melanoma_ann['age'] = \"\"\n",
    "melanoma_ann['sex'] = \"\""
   ]
  },
  {
   "cell_type": "markdown",
   "metadata": {},
   "source": [
    "## tirosh's melanoma"
   ]
  },
  {
   "cell_type": "code",
   "execution_count": 4,
   "metadata": {
    "ExecuteTime": {
     "end_time": "2021-10-22T17:01:00.438880Z",
     "start_time": "2021-10-22T17:00:56.975339Z"
    }
   },
   "outputs": [
    {
     "name": "stdout",
     "output_type": "stream",
     "text": [
      "No dataset version provided. Using version 1.\n"
     ]
    }
   ],
   "source": [
    "melanoma = tc.get(name='tirosh-melanoma-scrnaseq-60f0', file='melanoma')"
   ]
  },
  {
   "cell_type": "code",
   "execution_count": 19,
   "metadata": {
    "ExecuteTime": {
     "end_time": "2021-10-22T18:22:25.947732Z",
     "start_time": "2021-10-22T18:22:25.913364Z"
    }
   },
   "outputs": [],
   "source": [
    "melanoma.columns = [i.replace('-', '_').replace('Cy', \"CY\").replace('cy', \"CY\").replace('CY88C', 'CY88_C').replace('CY89A', \"CY89_A\").replace('CY89C', 'CY89_C').replace('CY89F', 'CY89_F').replace('CY89N', 'CY89_N').replace('CY94C', 'CY94_C') for i in melanoma.columns]"
   ]
  },
  {
   "cell_type": "code",
   "execution_count": 20,
   "metadata": {
    "ExecuteTime": {
     "end_time": "2021-10-22T18:22:26.449947Z",
     "start_time": "2021-10-22T18:22:26.388003Z"
    },
    "scrolled": true
   },
   "outputs": [],
   "source": [
    "melanoma_ann = pd.DataFrame()\n",
    "\n",
    "typ={1:\"normal\", 2:\"tumor\",0: np.nan}\n",
    "orig={1:\"melanoma\", 2:\"B-cell\", 3: \"macrophage\", 4: \"endothelial\", 5: \"CAF\", 6:\"NK-cell\", 0: np.nan}\n",
    "\n",
    "melanoma_ann['age'] = [int(i) for i in melanoma.loc['tumor']]\n",
    "melanoma_ann[\"cell_type\"] = [typ[int(i)] for i in melanoma.loc['malignant(1=no,2=yes,0=unresolved)']]\n",
    "melanoma_ann['tissue_type'] = [orig[int(i)] for i in melanoma.loc['non-malignant cell type (1=T,2=B,3=Macro.4=Endo.,5=CAF;6=NK)']]\n",
    "melanoma_ann['name'] = [i.split('_')[0] for i in melanoma.columns]\n",
    "melanoma_ann['sample_id'] = melanoma.columns\n",
    "melanoma_ann['other'] = [i.split('_')[-2] for i in melanoma.columns]\n",
    "melanoma_ann['sequencer'] = \n",
    "melanoma_ann['method'] = \"singlecell\""
   ]
  },
  {
   "cell_type": "markdown",
   "metadata": {},
   "source": [
    "## GTEX"
   ]
  },
  {
   "cell_type": "code",
   "execution_count": 613,
   "metadata": {
    "ExecuteTime": {
     "end_time": "2021-11-05T21:12:34.097787Z",
     "start_time": "2021-11-05T21:12:32.264829Z"
    }
   },
   "outputs": [],
   "source": [
    "from anndata import AnnData, read_h5ad"
   ]
  },
  {
   "cell_type": "code",
   "execution_count": 9,
   "metadata": {
    "ExecuteTime": {
     "end_time": "2021-10-07T15:32:58.173880Z",
     "start_time": "2021-10-07T15:32:43.752392Z"
    }
   },
   "outputs": [
    {
     "name": "stdout",
     "output_type": "stream",
     "text": [
      "  % Total    % Received % Xferd  Average Speed   Time    Time     Time  Current\n",
      "                                 Dload  Upload   Total   Spent    Left  Speed\n",
      "100 1810M  100 1810M    0     0   126M      0  0:00:14  0:00:14 --:--:--  126M\n"
     ]
    }
   ],
   "source": [
    "#! curl https://storage.googleapis.com/gtex_analysis_v9/snrna_seq_data/GTEx_8_tissues_snRNAseq_atlas_071421.public_obs.h5ad --output temp/gtex_8_atlas_public.h5ad\n",
    "\n",
    "## GTEX additional\n",
    "https://storage.googleapis.com/gtex_external_datasets/eyegex_data/rna_seq_data/EyeGEx_retina_combined_genelevel_expectedcounts_byrid_nooutlier.tpm.matrix.gct\n",
    "    \n",
    "https://storage.googleapis.com/gtex_external_datasets/eyegex_data/annotations/EyeGEx_meta_combined_inferior_retina_summary_deidentified_geo_ids.csv"
   ]
  },
  {
   "cell_type": "code",
   "execution_count": 614,
   "metadata": {
    "ExecuteTime": {
     "end_time": "2021-11-05T21:13:30.311278Z",
     "start_time": "2021-11-05T21:12:43.232265Z"
    }
   },
   "outputs": [],
   "source": [
    "gtex_v9 = read_h5ad(\"temp/gtex_8_atlas_public.h5ad\") #209,126 × 17,695"
   ]
  },
  {
   "cell_type": "code",
   "execution_count": 623,
   "metadata": {
    "ExecuteTime": {
     "end_time": "2021-11-05T22:02:02.000616Z",
     "start_time": "2021-11-05T22:02:01.970277Z"
    }
   },
   "outputs": [
    {
     "data": {
      "text/plain": [
       "n_genes                                                                    2658\n",
       "fpr                                                                         0.1\n",
       "tissue                                                           skeletalmuscle\n",
       "prep                                                                        CST\n",
       "individual                                                                   01\n",
       "nGenes                                                                     2902\n",
       "nUMIs                                                                   11544.0\n",
       "PercentMito                                                             0.07623\n",
       "PercentRibo                                                            0.051195\n",
       "Age_bin                                                                   51-60\n",
       "Sex                                                                        Male\n",
       "Sample ID                                              GTEX-1HSMQ-5011-SM-GKSJH\n",
       "Participant ID                                                       GTEX-1HSMQ\n",
       "Sample ID short                                                 GTEX-1HSMQ-5011\n",
       "RIN score from PAXgene tissue Aliquot                                       8.5\n",
       "RIN score from Frozen tissue Aliquot                                        7.8\n",
       "Autolysis Score                                                            None\n",
       "Sample Ischemic Time (mins)                                                 387\n",
       "Tissue Site Detail                                            Muscle - Skeletal\n",
       "scrublet                                                                  False\n",
       "scrublet_score                                                            0.184\n",
       "barcode                                                        TAGGCATGTAAATACG\n",
       "batch                                                                        73\n",
       "n_counts                                                                 9745.0\n",
       "tissue-individual-prep                                    skeletalmuscle_01_CST\n",
       "Broad cell type                               Myocyte (sk. muscle, cytoplasmic)\n",
       "Granular cell type                           Myocyte (slow-twitch, cytoplasmic)\n",
       "introns                                                                  9843.0\n",
       "junctions                                                                 467.0\n",
       "exons                                                                    6055.0\n",
       "sense                                                                   13989.0\n",
       "antisense                                                                2376.0\n",
       "intergenic                                                             111339.0\n",
       "batch-barcode                            skeletalmuscle_01_CST-TAGGCATGTAAATACG\n",
       "exon_ratio                                                             0.369997\n",
       "intron_ratio                                                           0.601467\n",
       "junction_ratio                                                         0.028537\n",
       "log10_nUMIs                                                            4.062356\n",
       "leiden                                                                       20\n",
       "leiden_tissue                                                                 7\n",
       "Tissue composition                                                       Muscle\n",
       "Cell types level 2                                                       Muscle\n",
       "Cell types level 3                                                      Stromal\n",
       "Broad cell type numbers                                                      33\n",
       "Broad cell type (numbers)                 33. Myocyte (sk. muscle, cytoplasmic)\n",
       "Tissue                                                          Skeletal muscle\n",
       "channel                                           skeletalmuscle_CST_GTEX-1HSMQ\n",
       "Name: CST01_TAGGCATGTAAATACG-skeletalmuscle, dtype: object"
      ]
     },
     "execution_count": 623,
     "metadata": {},
     "output_type": "execute_result"
    }
   ],
   "source": [
    "gtex_v9.obs = gtex_v9.obs[[\"Age_bin\",\"Sex\",\"Sample ID\", \"Participant ID\", \"RIN score from PAXgene tissue Aliquot\", \"Tissue\", \"tissue\"]].rename(columns={**rename, **{\"tissue\": \"tissue_type\", \"Tissue\": \"collection_site\"}})"
   ]
  },
  {
   "cell_type": "code",
   "execution_count": null,
   "metadata": {},
   "outputs": [],
   "source": [
    "gtex_v9.obs['sequencer']=\"Illumina TrueSeq\"\n",
    "gtex_v9.obs['method']=\"singlecell\""
   ]
  },
  {
   "cell_type": "code",
   "execution_count": null,
   "metadata": {},
   "outputs": [],
   "source": [
    "gtex_add = # 80,000 x 500"
   ]
  },
  {
   "cell_type": "markdown",
   "metadata": {},
   "source": [
    "## THEIS LAB scRNAseq datasets"
   ]
  },
  {
   "cell_type": "code",
   "execution_count": null,
   "metadata": {},
   "outputs": [],
   "source": [
    "https://theislab.github.io/sfaira-portal/Datasets #50,000x13,000\n"
   ]
  },
  {
   "cell_type": "markdown",
   "metadata": {},
   "source": [
    "## HCMI"
   ]
  },
  {
   "cell_type": "code",
   "execution_count": 6,
   "metadata": {
    "ExecuteTime": {
     "end_time": "2021-11-05T21:23:44.208705Z",
     "start_time": "2021-11-05T21:23:42.522598Z"
    }
   },
   "outputs": [
    {
     "name": "stdout",
     "output_type": "stream",
     "text": [
      "No dataset version provided. Using version 7.\n",
      "No dataset version provided. Using version 7.\n"
     ]
    }
   ],
   "source": [
    "# HCMI dataset\n",
    "# Code to generate this dataset can be found here:\n",
    "# https://github.com/broadinstitute/hcmi-processing/blob/main/hcmi-rna-analysis-210226.ipynb\n",
    "hcmi_ltpm = tc.get(name='hcmi-data-ac4b', file='hcmi_ltpm').T # 60486 x 157\n",
    "hcmi_sample_info = tc.get(name='hcmi-data-ac4b', file='hcmi_sample_info')\n",
    "#sample_info = tc.get(name='hcmi-data-ac4b', file='sample-info')"
   ]
  },
  {
   "cell_type": "code",
   "execution_count": 7,
   "metadata": {
    "ExecuteTime": {
     "end_time": "2021-11-05T21:24:08.124539Z",
     "start_time": "2021-11-05T21:24:08.099580Z"
    }
   },
   "outputs": [],
   "source": [
    "hcmi_sample_info['type'] = [i.split('_')[1] +\"; \"+str(j) for i,j in hcmi_sample_info[['type', 'Type']].values]"
   ]
  },
  {
   "cell_type": "code",
   "execution_count": 8,
   "metadata": {
    "ExecuteTime": {
     "end_time": "2021-11-02T18:59:12.710977Z",
     "start_time": "2021-11-02T18:59:12.682441Z"
    }
   },
   "outputs": [
    {
     "data": {
      "text/plain": [
       "Case ID                                                                  HCM-CSHL-0092-C25\n",
       "Primary Site                                                                      Pancreas\n",
       "Clinical Tumor Diagnosis                                                 Pancreatic cancer\n",
       "subtype                                                         Adenocarcinoma ductal type\n",
       "Tissue Status                                                                      Primary\n",
       "Acquisition Site                                                           Pancreatic head\n",
       "Gender                                                                                Male\n",
       "Race                                                                               Unknown\n",
       "Age At Acquisition (Years)                                                            69.0\n",
       "Age At Diagnosis (Years)                                                              69.0\n",
       "Disease Status                                                         Progressive disease\n",
       "Vital Status                                                                         Alive\n",
       "TNM Stage                                                                           T2N2M0\n",
       "Clinical Stage Grouping                                                          Stage III\n",
       "Histological Grade                                                                      G2\n",
       "Has Multiple Models                                                      HCM-CSHL-0092-C25\n",
       "Neoadjuvant Therapy                                                                     No\n",
       "Chemotherapeutic Drug List Available                                                   Yes\n",
       "Therapy                                                     Surgery,Cytotoxic chemotherapy\n",
       "Available Molecular Characterizations    WGS of parent tumor,WGS of normal,WGS of model...\n",
       "Link To Distributor                                                                 PDM-39\n",
       "Type                                                                         3-D: Organoid\n",
       "Licensing Required For Commercial Use                                                  Yes\n",
       "Expansion Status                                                                  Expanded\n",
       "# Mutated Genes                                                                         98\n",
       "# Research Somatic Variants                                                            100\n",
       "# Clinical Variants                                                                     --\n",
       "# Histo-pathological Biomarkers                                                         --\n",
       "sampleID                                                             HCM-CSHL-0092-C25-01A\n",
       "type                                                                  tumor; 3-D: Organoid\n",
       "lineage                                                                           pancreas\n",
       "Name: 0, dtype: object"
      ]
     },
     "execution_count": 8,
     "metadata": {},
     "output_type": "execute_result"
    }
   ],
   "source": [
    "hcmi_sample_info[['Case ID', 'Clinical Tumor Diagnosis', 'subtype', 'Tissue Status', \"Acquisition Site\", 'Gender', 'Race', 'Age At Acquisition (Years)', 'Expansion Status', 'sampleID', 'type', 'lineage']].rename(columns=rename)"
   ]
  },
  {
   "cell_type": "markdown",
   "metadata": {},
   "source": [
    "## EBI"
   ]
  },
  {
   "cell_type": "code",
   "execution_count": null,
   "metadata": {},
   "outputs": [],
   "source": [
    "pd.read_csv('https://www.ebi.ac.uk/arrayexpress/files/E-MTAB-3610/E-MTAB-3610.sdrf.txt', sep='\\t')\n",
    "\n"
   ]
  },
  {
   "cell_type": "code",
   "execution_count": null,
   "metadata": {},
   "outputs": [],
   "source": []
  },
  {
   "cell_type": "markdown",
   "metadata": {},
   "source": [
    "## L1000 dataset"
   ]
  },
  {
   "cell_type": "code",
   "execution_count": 31,
   "metadata": {
    "ExecuteTime": {
     "end_time": "2021-10-25T18:41:00.694897Z",
     "start_time": "2021-10-25T18:41:00.569651Z"
    }
   },
   "outputs": [],
   "source": [
    "# you will need python2 \n",
    "import cmapPy.pandasGEXpress.parse_gct as pg"
   ]
  },
  {
   "cell_type": "code",
   "execution_count": 4,
   "metadata": {
    "ExecuteTime": {
     "end_time": "2021-11-09T20:50:33.007479Z",
     "start_time": "2021-11-09T20:50:32.805171Z"
    }
   },
   "outputs": [],
   "source": [
    "import subprocess\n",
    "from anndata import AnnData "
   ]
  },
  {
   "cell_type": "code",
   "execution_count": 12,
   "metadata": {},
   "outputs": [],
   "source": [
    "def loadGCTXasAnnData(path):\n",
    "    val = path[:-5]\n",
    "    rcmd = 'library(\"cmapR\"); my_ds <- parse_gctx(\"'+val+'.gctx\"); write.csv(my_ds@rdesc, \"'+val+'_rdesc.csv\"); write.csv(my_ds@cdesc, \"'+val+'_cdesc.csv\"); write.csv(my_ds@mat, file=gzfile(\"'+val+'_mat.csv.gz\"))'\n",
    "    res = subprocess.run(\"R -e '\"+rcmd+\"'\", shell=True, capture_output=True)\n",
    "    print(res)\n",
    "    rdesc = pd.read_csv(val+\"_rdesc.csv\", index_col=0).set_index(\"id\")\n",
    "    cdesc = pd.read_csv(val+\"_cdesc.csv\", index_col=0).set_index(\"id\")\n",
    "    # read as gz csv\n",
    "    mat = pd.read_csv(val+\"_mat.csv.gz\", index_col=0, compression='gzip')\n",
    "    import pdb; pdb.set_trace()\n",
    "    res = AnnData(X=mat, obs=rdesc.loc[mat.index])#, var=cdesc)\n",
    "    cmd = \"rm \"+val+\"_mat.csv.gz & rm \"+val+\"_rdesc.csv & rm \"+val+\"_cdesc.csv\"\n",
    "    os.system(cmd)\n",
    "    return res"
   ]
  },
  {
   "cell_type": "code",
   "execution_count": null,
   "metadata": {
    "ExecuteTime": {
     "start_time": "2021-11-09T20:53:39.556Z"
    }
   },
   "outputs": [],
   "source": [
    "val = \"temp/level5_beta_trt_misc_n8283x12328\"\n",
    "rdesc = pd.read_csv(val+\"_rdesc.csv\", index_col=0).set_index(\"id\")\n",
    "cdesc = pd.read_csv(val+\"_cdesc.csv\", index_col=0).set_index(\"id\")\n",
    "# read as gz csv\n",
    "mat = pd.read_csv(val+\"_mat.csv.gz\", index_col=0, compression='gzip')\n",
    "mat.index = mat.index.astype(str)"
   ]
  },
  {
   "cell_type": "code",
   "execution_count": 21,
   "metadata": {
    "ExecuteTime": {
     "end_time": "2021-11-09T20:52:57.106511Z",
     "start_time": "2021-11-09T20:52:57.072127Z"
    }
   },
   "outputs": [],
   "source": [
    "rdesc.index = rdesc.index.astype(str)"
   ]
  },
  {
   "cell_type": "code",
   "execution_count": 14,
   "metadata": {
    "ExecuteTime": {
     "end_time": "2021-11-09T20:52:08.896832Z",
     "start_time": "2021-11-09T20:52:08.872473Z"
    }
   },
   "outputs": [],
   "source": [
    "rdesc['def']=0"
   ]
  },
  {
   "cell_type": "code",
   "execution_count": 26,
   "metadata": {
    "ExecuteTime": {
     "end_time": "2021-11-09T20:53:22.504484Z",
     "start_time": "2021-11-09T20:53:22.275253Z"
    }
   },
   "outputs": [
    {
     "data": {
      "text/plain": [
       "AnnData object with n_obs × n_vars = 12328 × 8283\n",
       "    obs: 'def'\n",
       "    var: 'def'"
      ]
     },
     "execution_count": 26,
     "metadata": {},
     "output_type": "execute_result"
    }
   ],
   "source": [
    "AnnData(X=mat, var=cdesc, obs=rdesc)"
   ]
  },
  {
   "cell_type": "code",
   "execution_count": 13,
   "metadata": {},
   "outputs": [
    {
     "name": "stdout",
     "output_type": "stream",
     "text": [
      "CompletedProcess(args='R -e \\'library(\"cmapR\"); my_ds <- parse_gctx(\"temp/level5_beta_trt_misc_n8283x12328.gctx\"); write.csv(my_ds@rdesc, \"temp/level5_beta_trt_misc_n8283x12328_rdesc.csv\"); write.csv(my_ds@cdesc, \"temp/level5_beta_trt_misc_n8283x12328_cdesc.csv\"); write.csv(my_ds@mat, file=gzfile(\"temp/level5_beta_trt_misc_n8283x12328_mat.csv.gz\"))\\'', returncode=0, stdout=b'\\nR version 4.1.2 (2021-11-01) -- \"Bird Hippie\"\\nCopyright (C) 2021 The R Foundation for Statistical Computing\\nPlatform: x86_64-pc-linux-gnu (64-bit)\\n\\nR is free software and comes with ABSOLUTELY NO WARRANTY.\\nYou are welcome to redistribute it under certain conditions.\\nType \\'license()\\' or \\'licence()\\' for distribution details.\\n\\n  Natural language support but running in an English locale\\n\\nR is a collaborative project with many contributors.\\nType \\'contributors()\\' for more information and\\n\\'citation()\\' on how to cite R or R packages in publications.\\n\\nType \\'demo()\\' for some demos, \\'help()\\' for on-line help, or\\n\\'help.start()\\' for an HTML browser interface to help.\\nType \\'q()\\' to quit R.\\n\\n> library(\"cmapR\"); my_ds <- parse_gctx(\"temp/level5_beta_trt_misc_n8283x12328.gctx\"); write.csv(my_ds@rdesc, \"temp/level5_beta_trt_misc_n8283x12328_rdesc.csv\"); write.csv(my_ds@cdesc, \"temp/level5_beta_trt_misc_n8283x12328_cdesc.csv\"); write.csv(my_ds@mat, file=gzfile(\"temp/level5_beta_trt_misc_n8283x12328_mat.csv.gz\"))\\n> \\n> \\n', stderr=b'reading temp/level5_beta_trt_misc_n8283x12328.gctx\\ndone\\n')\n",
      "> \u001b[0;32m/tmp/ipykernel_17261/3686506058.py\u001b[0m(11)\u001b[0;36mloadGCTXasAnnData\u001b[0;34m()\u001b[0m\n",
      "\u001b[0;32m      9 \u001b[0;31m  \u001b[0mmat\u001b[0m \u001b[0;34m=\u001b[0m \u001b[0mpd\u001b[0m\u001b[0;34m.\u001b[0m\u001b[0mread_csv\u001b[0m\u001b[0;34m(\u001b[0m\u001b[0mval\u001b[0m\u001b[0;34m+\u001b[0m\u001b[0;34m\"_mat.csv.gz\"\u001b[0m\u001b[0;34m,\u001b[0m \u001b[0mindex_col\u001b[0m\u001b[0;34m=\u001b[0m\u001b[0;36m0\u001b[0m\u001b[0;34m,\u001b[0m \u001b[0mcompression\u001b[0m\u001b[0;34m=\u001b[0m\u001b[0;34m'gzip'\u001b[0m\u001b[0;34m)\u001b[0m\u001b[0;34m\u001b[0m\u001b[0;34m\u001b[0m\u001b[0m\n",
      "\u001b[0m\u001b[0;32m     10 \u001b[0;31m  \u001b[0;32mimport\u001b[0m \u001b[0mpdb\u001b[0m\u001b[0;34m;\u001b[0m \u001b[0mpdb\u001b[0m\u001b[0;34m.\u001b[0m\u001b[0mset_trace\u001b[0m\u001b[0;34m(\u001b[0m\u001b[0;34m)\u001b[0m\u001b[0;34m\u001b[0m\u001b[0;34m\u001b[0m\u001b[0m\n",
      "\u001b[0m\u001b[0;32m---> 11 \u001b[0;31m  \u001b[0mres\u001b[0m \u001b[0;34m=\u001b[0m \u001b[0mAnnData\u001b[0m\u001b[0;34m(\u001b[0m\u001b[0mX\u001b[0m\u001b[0;34m=\u001b[0m\u001b[0mmat\u001b[0m\u001b[0;34m,\u001b[0m \u001b[0mobs\u001b[0m\u001b[0;34m=\u001b[0m\u001b[0mcdesc\u001b[0m\u001b[0;34m,\u001b[0m \u001b[0mvar\u001b[0m\u001b[0;34m=\u001b[0m\u001b[0mrdesc\u001b[0m\u001b[0;34m)\u001b[0m\u001b[0;34m\u001b[0m\u001b[0;34m\u001b[0m\u001b[0m\n",
      "\u001b[0m\u001b[0;32m     12 \u001b[0;31m  \u001b[0mcmd\u001b[0m \u001b[0;34m=\u001b[0m \u001b[0;34m\"rm \"\u001b[0m\u001b[0;34m+\u001b[0m\u001b[0mval\u001b[0m\u001b[0;34m+\u001b[0m\u001b[0;34m\"_mat.csv.gz & rm \"\u001b[0m\u001b[0;34m+\u001b[0m\u001b[0mval\u001b[0m\u001b[0;34m+\u001b[0m\u001b[0;34m\"_rdesc.csv & rm \"\u001b[0m\u001b[0;34m+\u001b[0m\u001b[0mval\u001b[0m\u001b[0;34m+\u001b[0m\u001b[0;34m\"_cdesc.csv\"\u001b[0m\u001b[0;34m\u001b[0m\u001b[0;34m\u001b[0m\u001b[0m\n",
      "\u001b[0m\u001b[0;32m     13 \u001b[0;31m  \u001b[0mos\u001b[0m\u001b[0;34m.\u001b[0m\u001b[0msystem\u001b[0m\u001b[0;34m(\u001b[0m\u001b[0mcmd\u001b[0m\u001b[0;34m)\u001b[0m\u001b[0;34m\u001b[0m\u001b[0;34m\u001b[0m\u001b[0m\n",
      "\u001b[0m\n",
      "       ABY001_A375_XH:ADO-TRASTUZUMAB_EMTANSINE:0.3125:24  \\\n",
      "10                                              0.071321    \n",
      "100                                             1.174841    \n",
      "1000                                            0.396398    \n",
      "10000                                          -0.301154    \n",
      "10001                                           0.040449    \n",
      "...                                                  ...    \n",
      "9990                                           -0.098859    \n",
      "9991                                           -0.190106    \n",
      "9992                                           -0.440690    \n",
      "9993                                           -0.414078    \n",
      "9997                                            0.320451    \n",
      "\n",
      "       ABY001_A375_XH:ADO-TRASTUZUMAB_EMTANSINE:0.3125:3  \\\n",
      "10                                             -0.135682   \n",
      "100                                             0.447374   \n",
      "1000                                            0.241946   \n",
      "10000                                           0.012122   \n",
      "10001                                           1.011675   \n",
      "...                                                  ...   \n",
      "9990                                           -1.157924   \n",
      "9991                                            0.419354   \n",
      "9992                                            0.101724   \n",
      "9993                                            0.029385   \n",
      "9997                                           -0.484622   \n",
      "\n",
      "       ABY001_A375_XH:ADO-TRASTUZUMAB_EMTANSINE:0.625:24  \\\n",
      "10                                             -0.244771   \n",
      "100                                             1.119571   \n",
      "1000                                           -0.008839   \n",
      "10000                                           0.760897   \n",
      "10001                                          -1.769143   \n",
      "...                                                  ...   \n",
      "9990                                           -0.955647   \n",
      "9991                                           -0.119821   \n",
      "9992                                           -1.245640   \n",
      "9993                                            0.422898   \n",
      "9997                                            0.210360   \n",
      "\n",
      "       ABY001_A375_XH:ADO-TRASTUZUMAB_EMTANSINE:0.625:3  \\\n",
      "10                                             0.211430   \n",
      "100                                           -0.686314   \n",
      "1000                                           0.594513   \n",
      "10000                                          1.045681   \n",
      "10001                                         -0.340021   \n",
      "...                                                 ...   \n",
      "9990                                           0.265664   \n",
      "9991                                           0.115426   \n",
      "9992                                           0.068821   \n",
      "9993                                          -0.206902   \n",
      "9997                                           0.765247   \n",
      "\n",
      "       ABY001_A375_XH:ADO-TRASTUZUMAB_EMTANSINE:1.25:24  \\\n",
      "10                                             0.608704   \n",
      "100                                           -1.130964   \n",
      "1000                                           0.815789   \n",
      "10000                                         -0.166172   \n",
      "10001                                         -0.647292   \n",
      "...                                                 ...   \n",
      "9990                                          -1.062339   \n",
      "9991                                           0.619505   \n",
      "9992                                          -1.461811   \n",
      "9993                                           1.070912   \n",
      "9997                                           0.162652   \n",
      "\n",
      "       ABY001_A375_XH:ADO-TRASTUZUMAB_EMTANSINE:1.25:3  \\\n",
      "10                                            -0.64815   \n",
      "100                                           -0.10980   \n",
      "1000                                           0.50880   \n",
      "10000                                          0.86105   \n",
      "10001                                          0.81695   \n",
      "...                                                ...   \n",
      "9990                                          -0.53025   \n",
      "9991                                           0.23505   \n",
      "9992                                          -0.23175   \n",
      "9993                                          -0.70965   \n",
      "9997                                           0.13690   \n",
      "\n",
      "       ABY001_A375_XH:ADO-TRASTUZUMAB_EMTANSINE:10:24  \\\n",
      "10                                           0.234743   \n",
      "100                                          0.108335   \n",
      "1000                                        -0.030346   \n",
      "10000                                        0.111529   \n",
      "10001                                        0.140018   \n",
      "...                                               ...   \n",
      "9990                                        -0.398816   \n",
      "9991                                         0.523988   \n",
      "9992                                        -0.823808   \n",
      "9993                                         0.226622   \n",
      "9997                                         1.113235   \n",
      "\n",
      "       ABY001_A375_XH:ADO-TRASTUZUMAB_EMTANSINE:10:3  \\\n",
      "10                                         -0.349367   \n",
      "100                                        -0.501767   \n",
      "1000                                        0.034433   \n",
      "10000                                       0.239800   \n",
      "10001                                       0.082800   \n",
      "...                                              ...   \n",
      "9990                                       -0.293733   \n",
      "9991                                        0.214467   \n",
      "9992                                       -0.095533   \n",
      "9993                                       -0.295133   \n",
      "9997                                       -1.098067   \n",
      "\n",
      "       ABY001_A375_XH:ADO-TRASTUZUMAB_EMTANSINE:2.5:24  \\\n",
      "10                                           -0.083109   \n",
      "100                                          -0.711716   \n",
      "1000                                          0.260089   \n",
      "10000                                         0.542667   \n",
      "10001                                         0.787081   \n",
      "...                                                ...   \n",
      "9990                                          0.151444   \n",
      "9991                                         -0.139643   \n",
      "9992                                         -0.347673   \n",
      "9993                                         -1.356316   \n",
      "9997                                          0.236183   \n",
      "\n",
      "       ABY001_A375_XH:ADO-TRASTUZUMAB_EMTANSINE:2.5:3  ...  \\\n",
      "10                                          -0.113993  ...   \n",
      "100                                         -0.854953  ...   \n",
      "1000                                         0.159660  ...   \n",
      "10000                                        0.825018  ...   \n",
      "10001                                        0.136564  ...   \n",
      "...                                               ...  ...   \n",
      "9990                                        -0.839158  ...   \n",
      "9991                                        -0.253869  ...   \n",
      "9992                                        -0.439936  ...   \n",
      "9993                                        -0.477744  ...   \n",
      "9997                                        -0.427048  ...   \n",
      "\n",
      "       PAL002_PC3_XH:SILOC401397_SCRAMBLE:-666:72  \\\n",
      "10                                      -0.183729   \n",
      "100                                      1.514741   \n",
      "1000                                     1.161394   \n",
      "10000                                    1.307680   \n",
      "10001                                   -0.023515   \n",
      "...                                           ...   \n",
      "9990                                     0.003015   \n",
      "9991                                    -0.474945   \n",
      "9992                                     1.149165   \n",
      "9993                                    -0.488575   \n",
      "9997                                     0.104455   \n",
      "\n",
      "       PAL002_PC3_XH:SIMARCKS_NO.1:-666:72  PAL002_PC3_XH:SIMEG3_NO.1:-666:72  \\\n",
      "10                                1.617597                          -0.252270   \n",
      "100                               0.644751                           0.179930   \n",
      "1000                             -1.537711                          -0.435996   \n",
      "10000                             0.428915                          -0.958781   \n",
      "10001                            -1.883208                           0.258609   \n",
      "...                                    ...                                ...   \n",
      "9990                             -0.012761                           1.529592   \n",
      "9991                             -0.707841                           0.299851   \n",
      "9992                              1.003376                          -0.178633   \n",
      "9993                             -0.251817                          -0.075773   \n",
      "9997                              0.408479                          -1.362465   \n",
      "\n",
      "       PAL002_PC3_XH:SIMEG3_NO.2:-666:72  PAL002_PC3_XH:SISNHG15_NO.1:-666:72  \\\n",
      "10                             -0.508461                              0.36540   \n",
      "100                             1.211608                             -1.04550   \n",
      "1000                           -1.253765                             -0.25765   \n",
      "10000                          -0.747577                             -0.14945   \n",
      "10001                          -0.633736                             -0.49875   \n",
      "...                                  ...                                  ...   \n",
      "9990                            0.550162                              1.01965   \n",
      "9991                            0.566557                             -0.59865   \n",
      "9992                            0.390843                              1.80840   \n",
      "9993                           -0.040455                              0.04445   \n",
      "9997                           -0.747844                              0.28760   \n",
      "\n",
      "       PAL002_PC3_XH:SISNHG15_NO.2:-666:72  \\\n",
      "10                               -0.918341   \n",
      "100                              -1.164688   \n",
      "1000                              0.492278   \n",
      "10000                             0.524831   \n",
      "10001                            -0.556474   \n",
      "...                                    ...   \n",
      "9990                             -0.236569   \n",
      "9991                             -0.744096   \n",
      "9992                             -0.146561   \n",
      "9993                              0.310798   \n",
      "9997                              0.372489   \n",
      "\n",
      "       PAL002_PC3_XH:SISNHG15_NO.3:-666:72  \\\n",
      "10                               -0.423680   \n",
      "100                              -0.542607   \n",
      "1000                              0.716338   \n",
      "10000                             0.353201   \n",
      "10001                             0.863898   \n",
      "...                                    ...   \n",
      "9990                              0.495895   \n",
      "9991                              0.411651   \n",
      "9992                              0.419352   \n",
      "9993                             -0.544712   \n",
      "9997                             -1.628361   \n",
      "\n",
      "       PAL002_PC3_XH:SISNHG15_SCRAMBLE:-666:72  \\\n",
      "10                                   -0.669038   \n",
      "100                                  -0.361089   \n",
      "1000                                 -0.215844   \n",
      "10000                                -0.166087   \n",
      "10001                                -1.180899   \n",
      "...                                        ...   \n",
      "9990                                 -0.730488   \n",
      "9991                                  0.375818   \n",
      "9992                                 -0.177479   \n",
      "9993                                 -0.505920   \n",
      "9997                                  0.483884   \n",
      "\n",
      "       PAL002_PC3_XH:SIZNFX1-AS1_NO.1:-666:72  \\\n",
      "10                                   0.058717   \n",
      "100                                 -0.745974   \n",
      "1000                                 0.578918   \n",
      "10000                                0.161758   \n",
      "10001                                0.483186   \n",
      "...                                       ...   \n",
      "9990                                 0.290745   \n",
      "9991                                -0.084807   \n",
      "9992                                -0.268332   \n",
      "9993                                -1.276249   \n",
      "9997                                -0.544615   \n",
      "\n",
      "       PAL002_PC3_XH:SIZNFX1-AS1_NO.2:-666:72  \n",
      "10                                  -0.531332  \n",
      "100                                 -0.249617  \n",
      "1000                                -0.153059  \n",
      "10000                               -0.625520  \n",
      "10001                               -0.249417  \n",
      "...                                       ...  \n",
      "9990                                -0.435038  \n",
      "9991                                -0.979601  \n",
      "9992                                 0.097944  \n",
      "9993                                -1.388793  \n",
      "9997                                -0.341625  \n",
      "\n",
      "[12328 rows x 8283 columns]\n",
      "       ABY001_A375_XH:ADO-TRASTUZUMAB_EMTANSINE:0.3125:24  \\\n",
      "10                                              0.071321    \n",
      "100                                             1.174841    \n",
      "1000                                            0.396398    \n",
      "10000                                          -0.301154    \n",
      "10001                                           0.040449    \n",
      "...                                                  ...    \n",
      "9990                                           -0.098859    \n",
      "9991                                           -0.190106    \n",
      "9992                                           -0.440690    \n",
      "9993                                           -0.414078    \n",
      "9997                                            0.320451    \n",
      "\n",
      "       ABY001_A375_XH:ADO-TRASTUZUMAB_EMTANSINE:0.3125:3  \\\n",
      "10                                             -0.135682   \n",
      "100                                             0.447374   \n",
      "1000                                            0.241946   \n",
      "10000                                           0.012122   \n",
      "10001                                           1.011675   \n",
      "...                                                  ...   \n",
      "9990                                           -1.157924   \n",
      "9991                                            0.419354   \n",
      "9992                                            0.101724   \n",
      "9993                                            0.029385   \n",
      "9997                                           -0.484622   \n",
      "\n",
      "       ABY001_A375_XH:ADO-TRASTUZUMAB_EMTANSINE:0.625:24  \\\n",
      "10                                             -0.244771   \n",
      "100                                             1.119571   \n",
      "1000                                           -0.008839   \n",
      "10000                                           0.760897   \n",
      "10001                                          -1.769143   \n",
      "...                                                  ...   \n",
      "9990                                           -0.955647   \n",
      "9991                                           -0.119821   \n",
      "9992                                           -1.245640   \n",
      "9993                                            0.422898   \n",
      "9997                                            0.210360   \n",
      "\n",
      "       ABY001_A375_XH:ADO-TRASTUZUMAB_EMTANSINE:0.625:3  \\\n",
      "10                                             0.211430   \n",
      "100                                           -0.686314   \n",
      "1000                                           0.594513   \n",
      "10000                                          1.045681   \n",
      "10001                                         -0.340021   \n",
      "...                                                 ...   \n",
      "9990                                           0.265664   \n",
      "9991                                           0.115426   \n",
      "9992                                           0.068821   \n",
      "9993                                          -0.206902   \n",
      "9997                                           0.765247   \n",
      "\n",
      "       ABY001_A375_XH:ADO-TRASTUZUMAB_EMTANSINE:1.25:24  \\\n",
      "10                                             0.608704   \n",
      "100                                           -1.130964   \n",
      "1000                                           0.815789   \n",
      "10000                                         -0.166172   \n",
      "10001                                         -0.647292   \n",
      "...                                                 ...   \n",
      "9990                                          -1.062339   \n",
      "9991                                           0.619505   \n",
      "9992                                          -1.461811   \n",
      "9993                                           1.070912   \n",
      "9997                                           0.162652   \n",
      "\n",
      "       ABY001_A375_XH:ADO-TRASTUZUMAB_EMTANSINE:1.25:3  \\\n",
      "10                                            -0.64815   \n",
      "100                                           -0.10980   \n",
      "1000                                           0.50880   \n",
      "10000                                          0.86105   \n",
      "10001                                          0.81695   \n",
      "...                                                ...   \n",
      "9990                                          -0.53025   \n",
      "9991                                           0.23505   \n",
      "9992                                          -0.23175   \n",
      "9993                                          -0.70965   \n",
      "9997                                           0.13690   \n",
      "\n",
      "       ABY001_A375_XH:ADO-TRASTUZUMAB_EMTANSINE:10:24  \\\n",
      "10                                           0.234743   \n",
      "100                                          0.108335   \n",
      "1000                                        -0.030346   \n",
      "10000                                        0.111529   \n",
      "10001                                        0.140018   \n",
      "...                                               ...   \n",
      "9990                                        -0.398816   \n",
      "9991                                         0.523988   \n",
      "9992                                        -0.823808   \n",
      "9993                                         0.226622   \n",
      "9997                                         1.113235   \n",
      "\n",
      "       ABY001_A375_XH:ADO-TRASTUZUMAB_EMTANSINE:10:3  \\\n",
      "10                                         -0.349367   \n",
      "100                                        -0.501767   \n",
      "1000                                        0.034433   \n",
      "10000                                       0.239800   \n",
      "10001                                       0.082800   \n",
      "...                                              ...   \n",
      "9990                                       -0.293733   \n",
      "9991                                        0.214467   \n",
      "9992                                       -0.095533   \n",
      "9993                                       -0.295133   \n",
      "9997                                       -1.098067   \n",
      "\n",
      "       ABY001_A375_XH:ADO-TRASTUZUMAB_EMTANSINE:2.5:24  \\\n",
      "10                                           -0.083109   \n",
      "100                                          -0.711716   \n",
      "1000                                          0.260089   \n",
      "10000                                         0.542667   \n",
      "10001                                         0.787081   \n",
      "...                                                ...   \n",
      "9990                                          0.151444   \n",
      "9991                                         -0.139643   \n",
      "9992                                         -0.347673   \n",
      "9993                                         -1.356316   \n",
      "9997                                          0.236183   \n",
      "\n",
      "       ABY001_A375_XH:ADO-TRASTUZUMAB_EMTANSINE:2.5:3  ...  \\\n",
      "10                                          -0.113993  ...   \n",
      "100                                         -0.854953  ...   \n",
      "1000                                         0.159660  ...   \n",
      "10000                                        0.825018  ...   \n",
      "10001                                        0.136564  ...   \n",
      "...                                               ...  ...   \n",
      "9990                                        -0.839158  ...   \n",
      "9991                                        -0.253869  ...   \n",
      "9992                                        -0.439936  ...   \n",
      "9993                                        -0.477744  ...   \n",
      "9997                                        -0.427048  ...   \n",
      "\n",
      "       PAL002_PC3_XH:SILOC401397_SCRAMBLE:-666:72  \\\n",
      "10                                      -0.183729   \n",
      "100                                      1.514741   \n",
      "1000                                     1.161394   \n",
      "10000                                    1.307680   \n",
      "10001                                   -0.023515   \n",
      "...                                           ...   \n",
      "9990                                     0.003015   \n",
      "9991                                    -0.474945   \n",
      "9992                                     1.149165   \n",
      "9993                                    -0.488575   \n",
      "9997                                     0.104455   \n",
      "\n",
      "       PAL002_PC3_XH:SIMARCKS_NO.1:-666:72  PAL002_PC3_XH:SIMEG3_NO.1:-666:72  \\\n",
      "10                                1.617597                          -0.252270   \n",
      "100                               0.644751                           0.179930   \n",
      "1000                             -1.537711                          -0.435996   \n",
      "10000                             0.428915                          -0.958781   \n",
      "10001                            -1.883208                           0.258609   \n",
      "...                                    ...                                ...   \n",
      "9990                             -0.012761                           1.529592   \n",
      "9991                             -0.707841                           0.299851   \n",
      "9992                              1.003376                          -0.178633   \n",
      "9993                             -0.251817                          -0.075773   \n",
      "9997                              0.408479                          -1.362465   \n",
      "\n",
      "       PAL002_PC3_XH:SIMEG3_NO.2:-666:72  PAL002_PC3_XH:SISNHG15_NO.1:-666:72  \\\n",
      "10                             -0.508461                              0.36540   \n",
      "100                             1.211608                             -1.04550   \n",
      "1000                           -1.253765                             -0.25765   \n",
      "10000                          -0.747577                             -0.14945   \n",
      "10001                          -0.633736                             -0.49875   \n",
      "...                                  ...                                  ...   \n",
      "9990                            0.550162                              1.01965   \n",
      "9991                            0.566557                             -0.59865   \n",
      "9992                            0.390843                              1.80840   \n",
      "9993                           -0.040455                              0.04445   \n",
      "9997                           -0.747844                              0.28760   \n",
      "\n",
      "       PAL002_PC3_XH:SISNHG15_NO.2:-666:72  \\\n",
      "10                               -0.918341   \n",
      "100                              -1.164688   \n",
      "1000                              0.492278   \n",
      "10000                             0.524831   \n",
      "10001                            -0.556474   \n",
      "...                                    ...   \n",
      "9990                             -0.236569   \n",
      "9991                             -0.744096   \n",
      "9992                             -0.146561   \n",
      "9993                              0.310798   \n",
      "9997                              0.372489   \n",
      "\n",
      "       PAL002_PC3_XH:SISNHG15_NO.3:-666:72  \\\n",
      "10                               -0.423680   \n",
      "100                              -0.542607   \n",
      "1000                              0.716338   \n",
      "10000                             0.353201   \n",
      "10001                             0.863898   \n",
      "...                                    ...   \n",
      "9990                              0.495895   \n",
      "9991                              0.411651   \n",
      "9992                              0.419352   \n",
      "9993                             -0.544712   \n",
      "9997                             -1.628361   \n",
      "\n",
      "       PAL002_PC3_XH:SISNHG15_SCRAMBLE:-666:72  \\\n",
      "10                                   -0.669038   \n",
      "100                                  -0.361089   \n",
      "1000                                 -0.215844   \n",
      "10000                                -0.166087   \n",
      "10001                                -1.180899   \n",
      "...                                        ...   \n",
      "9990                                 -0.730488   \n",
      "9991                                  0.375818   \n",
      "9992                                 -0.177479   \n",
      "9993                                 -0.505920   \n",
      "9997                                  0.483884   \n",
      "\n",
      "       PAL002_PC3_XH:SIZNFX1-AS1_NO.1:-666:72  \\\n",
      "10                                   0.058717   \n",
      "100                                 -0.745974   \n",
      "1000                                 0.578918   \n",
      "10000                                0.161758   \n",
      "10001                                0.483186   \n",
      "...                                       ...   \n",
      "9990                                 0.290745   \n",
      "9991                                -0.084807   \n",
      "9992                                -0.268332   \n",
      "9993                                -1.276249   \n",
      "9997                                -0.544615   \n",
      "\n",
      "       PAL002_PC3_XH:SIZNFX1-AS1_NO.2:-666:72  \n",
      "10                                  -0.531332  \n",
      "100                                 -0.249617  \n",
      "1000                                -0.153059  \n",
      "10000                               -0.625520  \n",
      "10001                               -0.249417  \n",
      "...                                       ...  \n",
      "9990                                -0.435038  \n",
      "9991                                -0.979601  \n",
      "9992                                 0.097944  \n",
      "9993                                -1.388793  \n",
      "9997                                -0.341625  \n",
      "\n",
      "[12328 rows x 8283 columns]\n",
      "                                                     id\n",
      "1     ABY001_A375_XH:ADO-TRASTUZUMAB_EMTANSINE:0.312...\n",
      "2     ABY001_A375_XH:ADO-TRASTUZUMAB_EMTANSINE:0.3125:3\n",
      "3     ABY001_A375_XH:ADO-TRASTUZUMAB_EMTANSINE:0.625:24\n",
      "4      ABY001_A375_XH:ADO-TRASTUZUMAB_EMTANSINE:0.625:3\n",
      "5      ABY001_A375_XH:ADO-TRASTUZUMAB_EMTANSINE:1.25:24\n",
      "...                                                 ...\n",
      "8279                PAL002_PC3_XH:SISNHG15_NO.2:-666:72\n",
      "8280                PAL002_PC3_XH:SISNHG15_NO.3:-666:72\n",
      "8281            PAL002_PC3_XH:SISNHG15_SCRAMBLE:-666:72\n",
      "8282             PAL002_PC3_XH:SIZNFX1-AS1_NO.1:-666:72\n",
      "8283             PAL002_PC3_XH:SIZNFX1-AS1_NO.2:-666:72\n",
      "\n",
      "[8283 rows x 1 columns]\n",
      "                                                     id\n",
      "1     ABY001_A375_XH:ADO-TRASTUZUMAB_EMTANSINE:0.312...\n",
      "2     ABY001_A375_XH:ADO-TRASTUZUMAB_EMTANSINE:0.3125:3\n",
      "3     ABY001_A375_XH:ADO-TRASTUZUMAB_EMTANSINE:0.625:24\n",
      "4      ABY001_A375_XH:ADO-TRASTUZUMAB_EMTANSINE:0.625:3\n",
      "5      ABY001_A375_XH:ADO-TRASTUZUMAB_EMTANSINE:1.25:24\n",
      "...                                                 ...\n",
      "8279                PAL002_PC3_XH:SISNHG15_NO.2:-666:72\n",
      "8280                PAL002_PC3_XH:SISNHG15_NO.3:-666:72\n",
      "8281            PAL002_PC3_XH:SISNHG15_SCRAMBLE:-666:72\n",
      "8282             PAL002_PC3_XH:SIZNFX1-AS1_NO.1:-666:72\n",
      "8283             PAL002_PC3_XH:SIZNFX1-AS1_NO.2:-666:72\n",
      "\n",
      "[8283 rows x 1 columns]\n",
      "(8283, 1)\n",
      "(12328, 1)\n"
     ]
    },
    {
     "name": "stderr",
     "output_type": "stream",
     "text": [
      "/home/jeremie/miniconda3/envs/gae/lib/python3.8/site-packages/anndata/_core/anndata.py:120: ImplicitModificationWarning: Transforming to str index.\n",
      "  warnings.warn(\"Transforming to str index.\", ImplicitModificationWarning)\n"
     ]
    },
    {
     "name": "stdout",
     "output_type": "stream",
     "text": [
      "*** ValueError: Index of obs must match index of X.\n",
      "*** ValueError: Index of obs must match index of X.\n",
      "*** ValueError: Index of obs must match index of X.\n",
      "*** ValueError: Index of obs must match index of X.\n",
      "(8283, 1)\n",
      "(12328, 8283)\n",
      "(12328, 1)\n",
      "(12328, 1)\n",
      "*** ValueError: Index of obs must match index of X.\n",
      "*** ValueError: Index of var must match columns of X.\n",
      "*** ValueError: Index of var must match columns of X.\n",
      "AnnData object with n_obs × n_vars = 12328 × 8283\n",
      "AnnData object with n_obs × n_vars = 12328 × 8283\n",
      "(8283, 1)\n",
      "(8283, 1)\n",
      "*** ValueError: Index of obs must match index of X.\n",
      "*** ValueError: Index of obs must match index of X.\n",
      "          id\n",
      "1         10\n",
      "2        100\n",
      "3       1000\n",
      "4      10000\n",
      "5      10001\n",
      "...      ...\n",
      "12324   9990\n",
      "12325   9991\n",
      "12326   9992\n",
      "12327   9993\n",
      "12328   9997\n",
      "\n",
      "[12328 rows x 1 columns]\n",
      "          id\n",
      "1         10\n",
      "2        100\n",
      "3       1000\n",
      "4      10000\n",
      "5      10001\n",
      "...      ...\n",
      "12324   9990\n",
      "12325   9991\n",
      "12326   9992\n",
      "12327   9993\n",
      "12328   9997\n",
      "\n",
      "[12328 rows x 1 columns]\n",
      "       Unnamed: 0\n",
      "id               \n",
      "10              1\n",
      "100             2\n",
      "1000            3\n",
      "10000           4\n",
      "10001           5\n",
      "...           ...\n",
      "9990        12324\n",
      "9991        12325\n",
      "9992        12326\n",
      "9993        12327\n",
      "9997        12328\n",
      "\n",
      "[12328 rows x 1 columns]\n",
      "       Unnamed: 0\n",
      "id               \n",
      "10              1\n",
      "100             2\n",
      "1000            3\n",
      "10000           4\n",
      "10001           5\n",
      "...           ...\n",
      "9990        12324\n",
      "9991        12325\n",
      "9992        12326\n",
      "9993        12327\n",
      "9997        12328\n",
      "\n",
      "[12328 rows x 1 columns]\n",
      "       Unnamed: 0\n",
      "id               \n",
      "10              1\n",
      "100             2\n",
      "1000            3\n",
      "10000           4\n",
      "10001           5\n",
      "...           ...\n",
      "9990        12324\n",
      "9991        12325\n",
      "9992        12326\n",
      "9993        12327\n",
      "9997        12328\n",
      "\n",
      "[12328 rows x 1 columns]\n",
      "(12328, 1)\n",
      "(12328, 1)\n",
      "                                                     id\n",
      "1     ABY001_A375_XH:ADO-TRASTUZUMAB_EMTANSINE:0.312...\n",
      "2     ABY001_A375_XH:ADO-TRASTUZUMAB_EMTANSINE:0.3125:3\n",
      "3     ABY001_A375_XH:ADO-TRASTUZUMAB_EMTANSINE:0.625:24\n",
      "4      ABY001_A375_XH:ADO-TRASTUZUMAB_EMTANSINE:0.625:3\n",
      "5      ABY001_A375_XH:ADO-TRASTUZUMAB_EMTANSINE:1.25:24\n",
      "...                                                 ...\n",
      "8279                PAL002_PC3_XH:SISNHG15_NO.2:-666:72\n",
      "8280                PAL002_PC3_XH:SISNHG15_NO.3:-666:72\n",
      "8281            PAL002_PC3_XH:SISNHG15_SCRAMBLE:-666:72\n",
      "8282             PAL002_PC3_XH:SIZNFX1-AS1_NO.1:-666:72\n",
      "8283             PAL002_PC3_XH:SIZNFX1-AS1_NO.2:-666:72\n",
      "\n",
      "[8283 rows x 1 columns]\n"
     ]
    },
    {
     "name": "stderr",
     "output_type": "stream",
     "text": [
      "/home/jeremie/miniconda3/envs/gae/lib/python3.8/site-packages/anndata/_core/anndata.py:120: ImplicitModificationWarning: Transforming to str index.\n",
      "  warnings.warn(\"Transforming to str index.\", ImplicitModificationWarning)\n"
     ]
    },
    {
     "name": "stdout",
     "output_type": "stream",
     "text": [
      "*** ValueError: Index of obs must match index of X.\n",
      "Empty DataFrame\n",
      "Columns: []\n",
      "Index: [10, 100, 1000, 10000, 10001, 10003, 10004, 10005, 10006, 10007, 10009, 100093698, 1001, 10010, 100126791, 100128640, 100129250, 100129271, 100129460, 100129482, 10013, 100130331, 100130958, 100131755, 100131825, 100132341, 100132406, 100132476, 100132923, 100134713, 100137047, 10014, 10015, 10016, 10017, 10018, 10019, 1002, 10020, 10021, 10022, 10023, 10024, 10025, 10026, 100272228, 100287932, 100288413, 100289678, 1003, 10036, 10038, 10039, 1004, 10040, 10042, 10043, 10044, 10045, 10046, 10047, 10048, 10049, 100499177, 1005, 10050, 100506469, 100507424, 100507436, 10051, 10052, 10053, 10054, 10055, 10057, 10058, 10059, 1006, 10060, 10061, 10062, 10063, 10066, 10067, 10068, 10069, 1007, 10072, 10073, 10075, 10076, 10077, 10078, 10079, 1008, 10083, 10084, 10085, 10086, 10087, ...]\n",
      "\n",
      "[12328 rows x 0 columns]\n",
      "Empty DataFrame\n",
      "Columns: []\n",
      "Index: [ABY001_A375_XH:ADO-TRASTUZUMAB_EMTANSINE:0.3125:24, ABY001_A375_XH:ADO-TRASTUZUMAB_EMTANSINE:0.3125:3, ABY001_A375_XH:ADO-TRASTUZUMAB_EMTANSINE:0.625:24, ABY001_A375_XH:ADO-TRASTUZUMAB_EMTANSINE:0.625:3, ABY001_A375_XH:ADO-TRASTUZUMAB_EMTANSINE:1.25:24, ABY001_A375_XH:ADO-TRASTUZUMAB_EMTANSINE:1.25:3, ABY001_A375_XH:ADO-TRASTUZUMAB_EMTANSINE:10:24, ABY001_A375_XH:ADO-TRASTUZUMAB_EMTANSINE:10:3, ABY001_A375_XH:ADO-TRASTUZUMAB_EMTANSINE:2.5:24, ABY001_A375_XH:ADO-TRASTUZUMAB_EMTANSINE:2.5:3, ABY001_A375_XH:ADO-TRASTUZUMAB_EMTANSINE:5:24, ABY001_A375_XH:ADO-TRASTUZUMAB_EMTANSINE:5:3, ABY001_A375_XH:BEVACIZUMAB:0.015625:24, ABY001_A375_XH:BEVACIZUMAB:0.015625:3, ABY001_A375_XH:BEVACIZUMAB:0.03125:24, ABY001_A375_XH:BEVACIZUMAB:0.03125:3, ABY001_A375_XH:BEVACIZUMAB:0.0625:24, ABY001_A375_XH:BEVACIZUMAB:0.0625:3, ABY001_A375_XH:BEVACIZUMAB:0.125:24, ABY001_A375_XH:BEVACIZUMAB:0.125:3, ABY001_A375_XH:BEVACIZUMAB:0.25:24, ABY001_A375_XH:BEVACIZUMAB:0.25:3, ABY001_A375_XH:BEVACIZUMAB:0.5:24, ABY001_A375_XH:BEVACIZUMAB:0.5:3, ABY001_A375_XH:CETUXIMAB:0.9375:24, ABY001_A375_XH:CETUXIMAB:0.9375:3, ABY001_A375_XH:CETUXIMAB:1.875:24, ABY001_A375_XH:CETUXIMAB:1.875:3, ABY001_A375_XH:CETUXIMAB:15:24, ABY001_A375_XH:CETUXIMAB:15:3, ABY001_A375_XH:CETUXIMAB:3.75:24, ABY001_A375_XH:CETUXIMAB:3.75:3, ABY001_A375_XH:CETUXIMAB:30:24, ABY001_A375_XH:CETUXIMAB:30:3, ABY001_A375_XH:CETUXIMAB:7.5:24, ABY001_A375_XH:CETUXIMAB:7.5:3, ABY001_A375_XH:RITUXIMAB:1.25:24, ABY001_A375_XH:RITUXIMAB:1.25:3, ABY001_A375_XH:RITUXIMAB:10:24, ABY001_A375_XH:RITUXIMAB:10:3, ABY001_A375_XH:RITUXIMAB:2.5:24, ABY001_A375_XH:RITUXIMAB:2.5:3, ABY001_A375_XH:RITUXIMAB:20:24, ABY001_A375_XH:RITUXIMAB:20:3, ABY001_A375_XH:RITUXIMAB:40:24, ABY001_A375_XH:RITUXIMAB:40:3, ABY001_A375_XH:RITUXIMAB:5:24, ABY001_A375_XH:RITUXIMAB:5:3, ABY001_A549_XH:ADO-TRASTUZUMAB_EMTANSINE:0.3125:24, ABY001_A549_XH:ADO-TRASTUZUMAB_EMTANSINE:0.3125:3, ABY001_A549_XH:ADO-TRASTUZUMAB_EMTANSINE:0.625:24, ABY001_A549_XH:ADO-TRASTUZUMAB_EMTANSINE:0.625:3, ABY001_A549_XH:ADO-TRASTUZUMAB_EMTANSINE:1.25:24, ABY001_A549_XH:ADO-TRASTUZUMAB_EMTANSINE:1.25:3, ABY001_A549_XH:ADO-TRASTUZUMAB_EMTANSINE:10:24, ABY001_A549_XH:ADO-TRASTUZUMAB_EMTANSINE:10:3, ABY001_A549_XH:ADO-TRASTUZUMAB_EMTANSINE:2.5:24, ABY001_A549_XH:ADO-TRASTUZUMAB_EMTANSINE:2.5:3, ABY001_A549_XH:ADO-TRASTUZUMAB_EMTANSINE:5:24, ABY001_A549_XH:ADO-TRASTUZUMAB_EMTANSINE:5:3, ABY001_A549_XH:BEVACIZUMAB:0.015625:24, ABY001_A549_XH:BEVACIZUMAB:0.015625:3, ABY001_A549_XH:BEVACIZUMAB:0.03125:24, ABY001_A549_XH:BEVACIZUMAB:0.03125:3, ABY001_A549_XH:BEVACIZUMAB:0.0625:24, ABY001_A549_XH:BEVACIZUMAB:0.0625:3, ABY001_A549_XH:BEVACIZUMAB:0.125:24, ABY001_A549_XH:BEVACIZUMAB:0.125:3, ABY001_A549_XH:BEVACIZUMAB:0.25:24, ABY001_A549_XH:BEVACIZUMAB:0.25:3, ABY001_A549_XH:BEVACIZUMAB:0.5:24, ABY001_A549_XH:BEVACIZUMAB:0.5:3, ABY001_A549_XH:CETUXIMAB:0.9375:24, ABY001_A549_XH:CETUXIMAB:0.9375:3, ABY001_A549_XH:CETUXIMAB:1.875:24, ABY001_A549_XH:CETUXIMAB:1.875:3, ABY001_A549_XH:CETUXIMAB:15:24, ABY001_A549_XH:CETUXIMAB:15:3, ABY001_A549_XH:CETUXIMAB:3.75:24, ABY001_A549_XH:CETUXIMAB:3.75:3, ABY001_A549_XH:CETUXIMAB:30:24, ABY001_A549_XH:CETUXIMAB:30:3, ABY001_A549_XH:CETUXIMAB:7.5:24, ABY001_A549_XH:CETUXIMAB:7.5:3, ABY001_A549_XH:RITUXIMAB:1.25:24, ABY001_A549_XH:RITUXIMAB:1.25:3, ABY001_A549_XH:RITUXIMAB:10:24, ABY001_A549_XH:RITUXIMAB:10:3, ABY001_A549_XH:RITUXIMAB:2.5:24, ABY001_A549_XH:RITUXIMAB:2.5:3, ABY001_A549_XH:RITUXIMAB:20:24, ABY001_A549_XH:RITUXIMAB:20:3, ABY001_A549_XH:RITUXIMAB:40:24, ABY001_A549_XH:RITUXIMAB:40:3, ABY001_A549_XH:RITUXIMAB:5:24, ABY001_A549_XH:RITUXIMAB:5:3, ABY001_H1975_XH:ADO-TRASTUZUMAB_EMTANSINE:0.3125:24, ABY001_H1975_XH:ADO-TRASTUZUMAB_EMTANSINE:0.3125:3, ABY001_H1975_XH:ADO-TRASTUZUMAB_EMTANSINE:0.625:24, ABY001_H1975_XH:ADO-TRASTUZUMAB_EMTANSINE:0.625:3, ...]\n",
      "\n",
      "[8283 rows x 0 columns]\n",
      "Empty DataFrame\n",
      "Columns: []\n",
      "Index: [ABY001_A375_XH:ADO-TRASTUZUMAB_EMTANSINE:0.3125:24, ABY001_A375_XH:ADO-TRASTUZUMAB_EMTANSINE:0.3125:3, ABY001_A375_XH:ADO-TRASTUZUMAB_EMTANSINE:0.625:24, ABY001_A375_XH:ADO-TRASTUZUMAB_EMTANSINE:0.625:3, ABY001_A375_XH:ADO-TRASTUZUMAB_EMTANSINE:1.25:24, ABY001_A375_XH:ADO-TRASTUZUMAB_EMTANSINE:1.25:3, ABY001_A375_XH:ADO-TRASTUZUMAB_EMTANSINE:10:24, ABY001_A375_XH:ADO-TRASTUZUMAB_EMTANSINE:10:3, ABY001_A375_XH:ADO-TRASTUZUMAB_EMTANSINE:2.5:24, ABY001_A375_XH:ADO-TRASTUZUMAB_EMTANSINE:2.5:3, ABY001_A375_XH:ADO-TRASTUZUMAB_EMTANSINE:5:24, ABY001_A375_XH:ADO-TRASTUZUMAB_EMTANSINE:5:3, ABY001_A375_XH:BEVACIZUMAB:0.015625:24, ABY001_A375_XH:BEVACIZUMAB:0.015625:3, ABY001_A375_XH:BEVACIZUMAB:0.03125:24, ABY001_A375_XH:BEVACIZUMAB:0.03125:3, ABY001_A375_XH:BEVACIZUMAB:0.0625:24, ABY001_A375_XH:BEVACIZUMAB:0.0625:3, ABY001_A375_XH:BEVACIZUMAB:0.125:24, ABY001_A375_XH:BEVACIZUMAB:0.125:3, ABY001_A375_XH:BEVACIZUMAB:0.25:24, ABY001_A375_XH:BEVACIZUMAB:0.25:3, ABY001_A375_XH:BEVACIZUMAB:0.5:24, ABY001_A375_XH:BEVACIZUMAB:0.5:3, ABY001_A375_XH:CETUXIMAB:0.9375:24, ABY001_A375_XH:CETUXIMAB:0.9375:3, ABY001_A375_XH:CETUXIMAB:1.875:24, ABY001_A375_XH:CETUXIMAB:1.875:3, ABY001_A375_XH:CETUXIMAB:15:24, ABY001_A375_XH:CETUXIMAB:15:3, ABY001_A375_XH:CETUXIMAB:3.75:24, ABY001_A375_XH:CETUXIMAB:3.75:3, ABY001_A375_XH:CETUXIMAB:30:24, ABY001_A375_XH:CETUXIMAB:30:3, ABY001_A375_XH:CETUXIMAB:7.5:24, ABY001_A375_XH:CETUXIMAB:7.5:3, ABY001_A375_XH:RITUXIMAB:1.25:24, ABY001_A375_XH:RITUXIMAB:1.25:3, ABY001_A375_XH:RITUXIMAB:10:24, ABY001_A375_XH:RITUXIMAB:10:3, ABY001_A375_XH:RITUXIMAB:2.5:24, ABY001_A375_XH:RITUXIMAB:2.5:3, ABY001_A375_XH:RITUXIMAB:20:24, ABY001_A375_XH:RITUXIMAB:20:3, ABY001_A375_XH:RITUXIMAB:40:24, ABY001_A375_XH:RITUXIMAB:40:3, ABY001_A375_XH:RITUXIMAB:5:24, ABY001_A375_XH:RITUXIMAB:5:3, ABY001_A549_XH:ADO-TRASTUZUMAB_EMTANSINE:0.3125:24, ABY001_A549_XH:ADO-TRASTUZUMAB_EMTANSINE:0.3125:3, ABY001_A549_XH:ADO-TRASTUZUMAB_EMTANSINE:0.625:24, ABY001_A549_XH:ADO-TRASTUZUMAB_EMTANSINE:0.625:3, ABY001_A549_XH:ADO-TRASTUZUMAB_EMTANSINE:1.25:24, ABY001_A549_XH:ADO-TRASTUZUMAB_EMTANSINE:1.25:3, ABY001_A549_XH:ADO-TRASTUZUMAB_EMTANSINE:10:24, ABY001_A549_XH:ADO-TRASTUZUMAB_EMTANSINE:10:3, ABY001_A549_XH:ADO-TRASTUZUMAB_EMTANSINE:2.5:24, ABY001_A549_XH:ADO-TRASTUZUMAB_EMTANSINE:2.5:3, ABY001_A549_XH:ADO-TRASTUZUMAB_EMTANSINE:5:24, ABY001_A549_XH:ADO-TRASTUZUMAB_EMTANSINE:5:3, ABY001_A549_XH:BEVACIZUMAB:0.015625:24, ABY001_A549_XH:BEVACIZUMAB:0.015625:3, ABY001_A549_XH:BEVACIZUMAB:0.03125:24, ABY001_A549_XH:BEVACIZUMAB:0.03125:3, ABY001_A549_XH:BEVACIZUMAB:0.0625:24, ABY001_A549_XH:BEVACIZUMAB:0.0625:3, ABY001_A549_XH:BEVACIZUMAB:0.125:24, ABY001_A549_XH:BEVACIZUMAB:0.125:3, ABY001_A549_XH:BEVACIZUMAB:0.25:24, ABY001_A549_XH:BEVACIZUMAB:0.25:3, ABY001_A549_XH:BEVACIZUMAB:0.5:24, ABY001_A549_XH:BEVACIZUMAB:0.5:3, ABY001_A549_XH:CETUXIMAB:0.9375:24, ABY001_A549_XH:CETUXIMAB:0.9375:3, ABY001_A549_XH:CETUXIMAB:1.875:24, ABY001_A549_XH:CETUXIMAB:1.875:3, ABY001_A549_XH:CETUXIMAB:15:24, ABY001_A549_XH:CETUXIMAB:15:3, ABY001_A549_XH:CETUXIMAB:3.75:24, ABY001_A549_XH:CETUXIMAB:3.75:3, ABY001_A549_XH:CETUXIMAB:30:24, ABY001_A549_XH:CETUXIMAB:30:3, ABY001_A549_XH:CETUXIMAB:7.5:24, ABY001_A549_XH:CETUXIMAB:7.5:3, ABY001_A549_XH:RITUXIMAB:1.25:24, ABY001_A549_XH:RITUXIMAB:1.25:3, ABY001_A549_XH:RITUXIMAB:10:24, ABY001_A549_XH:RITUXIMAB:10:3, ABY001_A549_XH:RITUXIMAB:2.5:24, ABY001_A549_XH:RITUXIMAB:2.5:3, ABY001_A549_XH:RITUXIMAB:20:24, ABY001_A549_XH:RITUXIMAB:20:3, ABY001_A549_XH:RITUXIMAB:40:24, ABY001_A549_XH:RITUXIMAB:40:3, ABY001_A549_XH:RITUXIMAB:5:24, ABY001_A549_XH:RITUXIMAB:5:3, ABY001_H1975_XH:ADO-TRASTUZUMAB_EMTANSINE:0.3125:24, ABY001_H1975_XH:ADO-TRASTUZUMAB_EMTANSINE:0.3125:3, ABY001_H1975_XH:ADO-TRASTUZUMAB_EMTANSINE:0.625:24, ABY001_H1975_XH:ADO-TRASTUZUMAB_EMTANSINE:0.625:3, ...]\n",
      "\n",
      "[8283 rows x 0 columns]\n",
      "{2, 9, 10, 12, 13, 14, 15, 16, 18, 19, 20, 21, 22, 23, 24, 25, 26, 27, 28, 29, 30, 31, 32, 33, 34, 35, 36, 37, 38, 39, 40, 41, 43, 47, 48, 49, 50, 51, 52, 53, 54, 55, 56, 58, 59, 60, 70, 72, 81, 86, 87, 88, 89, 90, 91, 92, 93, 94, 97, 98, 100, 101, 102, 103, 104, 105, 107, 108, 109, 112, 113, 114, 115, 116, 117, 118, 119, 120, 123, 124, 125, 126, 128, 130, 131, 132, 133, 134, 196740, 136, 196743, 140, 141, 142, 143, 146, 147, 148, 150, 151, 152, 153, 154, 155, 156, 157, 158, 159, 161, 162, 163, 164, 165, 166, 167, 173, 174, 175, 176, 177, 178, 181, 182, 183, 185, 186, 187, 189, 190, 191, 196, 197, 199, 202, 203, 204, 205, 207, 208, 210, 211, 212, 213, 214, 215, 216, 217, 218, 219, 220, 221, 222, 223, 224, 225, 226, 229, 230, 231, 238, 239, 240, 241, 242, 246, 247, 248, 249, 250, 251, 257, 258, 259, 262, 265, 266, 267, 268, 269, 270, 271, 272, 273, 274, 275, 283, 284, 285, 286, 287, 288, 290, 291, 292, 293, 301, 302, 304, 306, 307, 308, 309, 310, 311, 312, 313, 314, 316, 317, 318, 319, 320, 321, 322, 323, 324, 325, 326, 327, 328, 329, 330, 331, 332, 333, 334, 335, 131408, 336, 337, 338, 339, 341, 343, 344, 345, 347, 348, 350, 351, 353, 354, 355, 356, 357, 358, 359, 360, 361, 362, 363, 364, 366, 367, 368, 369, 372, 373, 374, 375, 377, 378, 379, 381, 382, 383, 384, 196993, 387, 388, 389, 390, 391, 392, 393, 394, 395, 396, 397, 398, 399, 400, 401, 402, 403, 405, 406, 407, 408, 409, 410, 411, 412, 414, 415, 416, 417, 419, 420, 421, 427, 429, 430, 432, 433, 434, 435, 438, 439, 440, 443, 444, 445, 65979, 65980, 65981, 65982, 65983, 65985, 65986, 65987, 65989, 65990, 65992, 65993, 460, 65996, 462, 463, 65997, 65999, 466, 467, 468, 66002, 471, 131544, 472, 473, 474, 475, 476, 477, 478, 479, 481, 482, 483, 486, 487, 488, 489, 490, 491, 492, 493, 131566, 495, 496, 498, 66035, 66036, 501, 131578, 506, 509, 513, 514, 515, 516, 517, 518, 521, 522, 523, 525, 526, 527, 528, 131601, 529, 533, 535, 537, 538, 539, 540, 545, 546, 547, 549, 550, 551, 552, 553, 554, 558, 563, 566, 567, 570, 571, 572, 573, 575, 576, 577, 578, 579, 580, 581, 582, 585, 586, 587, 590, 593, 594, 595, 596, 597, 598, 599, 602, 604, 605, 607, 608, 610, 611, 613, 617, 622, 623, 627, 629, 631, 633, 634, 635, 636, 637, 638, 639, 640, 641, 642, 643, 644, 645, 646, 648, 649, 650, 651, 652, 653, 654, 655, 656, 657, 658, 659, 660, 661, 662, 663, 664, 665, 666, 667, 668, 669, 670, 671, 672, 673, 675, 676, 677, 678, 680, 682, 683, 684, 685, 686, 687, 688, 689, 694, 695, 696, 699, 701, 705, 706, 708, 710, 197320, 712, 713, 715, 716, 717, 718, 719, 722, 725, 726, 727, 728, 729, 730, 731, 732, 733, 734, 735, 738, 740, 741, 744, 745, 746, 747, 750, 752, 753, 754, 755, 757, 758, 759, 760, 761, 762, 763, 765, 766, 767, 768, 770, 771, 773, 774, 775, 776, 777, 778, 779, 780, 781, 782, 783, 784, 785, 786, 788, 790, 793, 794, 795, 796, 797, 799, 800, 808, 810, 811, 813, 814, 815, 164656, 816, 818, 819, 820, 821, 822, 823, 824, 825, 826, 827, 829, 830, 831, 832, 833, 834, 835, 836, 837, 838, 839, 840, 841, 842, 843, 844, 845, 846, 847, 857, 858, 859, 860, 861, 862, 863, 864, 865, 866, 867, 868, 869, 871, 873, 874, 875, 881, 883, 885, 886, 887, 889, 890, 891, 892, 894, 896, 898, 899, 900, 901, 902, 904, 905, 908, 909, 910, 911, 912, 913, 914, 915, 916, 917, 919, 920, 921, 922, 923, 924, 925, 926, 928, 929, 930, 931, 932, 933, 939, 940, 941, 942, 943, 944, 945, 946, 947, 948, 949, 950, 951, 952, 953, 954, 955, 956, 957, 958, 959, 960, 961, 962, 963, 965, 966, 967, 968, 969, 970, 971, 972, 973, 974, 975, 976, 977, 978, 983, 987, 988, 989, 990, 991, 993, 994, 995, 996, 997, 998, 999, 1000, 1001, 1002, 1003, 1004, 1005, 1006, 1007, 1008, 1009, 1010, 1012, 1013, 1014, 1015, 1016, 1017, 1018, 1019, 1020, 1021, 1022, 1024, 1025, 1026, 1027, 1028, 1029, 1030, 1031, 1032, 1033, 1036, 1038, 1039, 1040, 1041, 1043, 1044, 1045, 1046, 1047, 1048, 1050, 1051, 1052, 1053, 1054, 1057, 1058, 1059, 1060, 1062, 1063, 1066, 1068, 1069, 1070, 1071, 1072, 1075, 1080, 1081, 1084, 1087, 1088, 1089, 1101, 1102, 1103, 1104, 1105, 1106, 1107, 1108, 1109, 1111, 1112, 1113, 1114, 1116, 1117, 1118, 1119, 1120, 1121, 1122, 1123, 1124, 1129, 1130, 1131, 1132, 1133, 1134, 1135, 1136, 1137, 1138, 1140, 1141, 1142, 1143, 1144, 1145, 1146, 1147, 1149, 1152, 1153, 1154, 1155, 1158, 1160, 1161, 1163, 1164, 1173, 1174, 1175, 1176, 1178, 1179, 1180, 1181, 1182, 1183, 1184, 1185, 1186, 1188, 1191, 1192, 1193, 1196, 1198, 1200, 1201, 1203, 1207, 1208, 1209, 1211, 1212, 1213, 1215, 1230, 1232, 1233, 1234, 1235, 1236, 1237, 1238, 1240, 1241, 1244, 1258, 1259, 1261, 1263, 1264, 1265, 1266, 1267, 1268, 1269, 1271, 1272, 1277, 1278, 1280, 1281, 1282, 1284, 1285, 1286, 1287, 1288, 1289, 1290, 1291, 1292, 1293, 1294, 1295, 1296, 1297, 1298, 1299, 1300, 1301, 1302, 1305, 1306, 1307, 1308, 1310, 1311, 1312, 1314, 1315, 1316, 1317, 1318, 1325, 1326, 1327, 1329, 1337, 1339, 1340, 1345, 1346, 1347, 1349, 1350, 1351, 1352, 1353, 1355, 1356, 1357, 1358, 1359, 1360, 1361, 1362, 1363, 1364, 1365, 1366, 1368, 1369, 1370, 1371, 1373, 1374, 1376, 1378, 1380, 1381, 1382, 1384, 1385, 1386, 1387, 1388, 1389, 1390, 1392, 1393, 1394, 1395, 1396, 1397, 1398, 1399, 1400, 1401, 1404, 1406, 1407, 1408, 1409, 1410, 1411, 1412, 1413, 1414, 1415, 1416, 1417, 1418, 1419, 1420, 1421, 1428, 1429, 1431, 1432, 1434, 1435, 1436, 1437, 1438, 1439, 1440, 1441, 1442, 1444, 1445, 1446, 1447, 1448, 1452, 1453, 1454, 1455, 1456, 1457, 1459, 1460, 1462, 1463, 1464, 1465, 1466, 1468, 1469, 1470, 1471, 1472, 1473, 1474, 1475, 1476, 1477, 1478, 1479, 1482, 1486, 1487, 1488, 1489, 1490, 1491, 1493, 1495, 1496, 1497, 1499, 1500, 1501, 1503, 1506, 1508, 1509, 1510, 1511, 1512, 1513, 1514, 1515, 1519, 1520, 1521, 1522, 1523, 1524, 1525, 1527, 1528, 1534, 1535, 1536, 1537, 1538, 1539, 1540, 1543, 1544, 1545, 1548, 1551, 1553, 1555, 1556, 1557, 1558, 1559, 1562, 1565, 1571, 1572, 1573, 1576, 1577, 1579, 1580, 1581, 1583, 1584, 1585, 1586, 1587, 1588, 1589, 1591, 1592, 1593, 1594, 1595, 1600, 1601, 1602, 1603, 1604, 1605, 1606, 1607, 1608, 1609, 1610, 1611, 1612, 1613, 1615, 1616, 1618, 1620, 1621, 1622, 1627, 1628, 1629, 1630, 1632, 1633, 1634, 1635, 1636, 1638, 1639, 1641, 1642, 1643, 1644, 1645, 1646, 1647, 1649, 1650, 1652, 1653, 1654, 1655, 1656, 1657, 1659, 1660, 1662, 1663, 1665, 1666, 1669, 1670, 1671, 1672, 1673, 1674, 1675, 1676, 1677, 1678, 1687, 1690, 1716, 1717, 1718, 1719, 1720, 1723, 1725, 1727, 1728, 1729, 1730, 1733, 1734, 1735, 1736, 1737, 1738, 1739, 1740, 1741, 1742, 1743, 1746, 1748, 1749, 1750, 1755, 1756, 1757, 1758, 1759, 1760, 1761, 1762, 1763, 1768, 1770, 1773, 1774, 1775, 1776, 1777, 1778, 1780, 1781, 1783, 1785, 1786, 1787, 1788, 1789, 1791, 1793, 1794, 1795, 1796, 1797, 1798, 1800, 1802, 1803, 1804, 1805, 1806, 1807, 1808, 1809, 1810, 1811, 1812, 1813, 1814, 1815, 1816, 1819, 1820, 1821, 1822, 1823, 1824, 1825, 1826, 1827, 1828, 1829, 1830, 1831, 1832, 1833, 1834, 1836, 1837, 1838, 1839, 1841, 1842, 1843, 1844, 1845, 1846, 1847, 1848, 1849, 1850, 1852, 1854, 1855, 1856, 1857, 1859, 1861, 1869, 1870, 1871, 1874, 1875, 1876, 1877, 1880, 1889, 1890, 1891, 1892, 1893, 1894, 1896, 1901, 1902, 1906, 1907, 1908, 1909, 1910, 1911, 1912, 1915, 1917, 1933, 1936, 1938, 1939, 1942, 1943, 1944, 1945, 1946, 1947, 1948, 1949, 1950, 1951, 1952, 1953, 1954, 1955, 1956, 1958, 1959, 1960, 1961, 1962, 1964, 1965, 1967, 1968, 1969, 1973, 1974, 1975, 1977, 1978, 1979, 1981, 1982, 1983, 1984, 1991, 1992, 1993, 1994, 1995, 1996, 1997, 1998, 1999, 2000, 2001, 2002, 2004, 2005, 2006, 2009, 2010, 2011, 2012, 2013, 2014, 2015, 2016, 2017, 2018, 2019, 2020, 2021, 2022, 2023, 2026, 2027, 2028, 2029, 2030, 2033, 2034, 2035, 2036, 2037, 2038, 2039, 2040, 2041, 2042, 2043, 2044, 2045, 2047, 2048, 2049, 2050, 2051, 2052, 2053, 2054, 2055, 2056, 2057, 2058, 2059, 2060, 2063, 2064, 2065, 2066, 2067, 2068, 2069, 2070, 2071, 2072, 2073, 2077, 2078, 2079, 2081, 2091, 2098, 2099, 2100, 2101, 2103, 2104, 2107, 2108, 2109, 2110, 2113, 2114, 2115, 2116, 2117, 2118, 2119, 2120, 2121, 2122, 2123, 2125, 2128, 2130, 2131, 2132, 2134, 2135, 2137, 2138, 2139, 2140, 2145, 2146, 2147, 100272228, 2149, 2150, 2151, 2152, 2153, 2155, 2157, 2158, 2159, 2160, 2161, 2162, 2165, 2166, 2167, 2168, 2169, 2170, 2171, 2172, 2173, 2175, 2176, 2178, 2180, 2181, 2182, 2184, 2185, 2186, 2189, 2191, 2192, 2193, 2194, 2195, 2196, 2197, 2199, 2200, 2201, 2202, 2203, 2204, 2205, 2206, 2207, 2208, 2209, 2212, 2213, 2215, 2217, 2218, 2219, 2220, 2222, 2224, 2230, 2232, 2235, 2237, 2239, 2241, 2242, 2243, 2244, 2245, 2246, 2247, 2248, 2249, 2250, 2251, 2252, 2253, 2254, 2257, 2258, 2259, 2260, 2261, 2262, 2263, 2264, 2266, 2267, 2268, 2271, 2272, 2273, 2274, 2275, 2277, 2280, 2281, 2286, 2287, 2288, 2289, 2290, 2294, 2295, 2296, 2297, 2299, 2300, 2301, 2302, 2303, 2304, 2305, 2306, 2308, 2309, 2312, 2313, 2314, 2315, 2316, 2317, 2318, 2319, 2321, 2322, 2323, 2324, 2326, 2327, 2328, 2329, 2330, 2331, 2332, 2334, 2335, 2339, 2342, 2348, 2350, 2352, 2353, 2354, 2355, 2356, 2357, 2358, 2359, 2395, 2444, 2475, 2483, 2487, 2488, 2491, 2492, 2494, 2495, 2512, 2515, 2516, 2517, 2520, 2521, 2523, 2524, 2525, 2528, 2529, 2530, 2531, 2532, 2533, 2534, 2535, 2537, 2538, 2539, 2542, 2543, 133619, 2547, 2548, 2549, 2550, 2551, 2553, 2554, 2555, 2556, 2557, 2558, 2559, 2560, 2561, 2562, 2563, 2564, 2566, 2567, 2568, 2569, 2570, 2571, 2572, 2580, 2581, 2582, 2583, 2584, 2585, 2587, 2588, 2589, 2590, 2591, 2592, 2593, 2596, 2597, 2615, 2617, 2618, 2619, 2620, 2621, 2622, 2623, 2624, 2625, 2626, 2627, 2628, 2630, 2631, 2632, 2633, 2634, 2636, 2637, 2638, 2639, 2641, 2642, 2643, 2644, 2645, 2646, 2648, 2649, 2650, 2651, 2658, 2660, 2661, 2662, 2664, 2665, 2668, 2669, 2670, 2671, 2672, 2673, 2674, 2675, 2676, 2677, 2678, 2683, 2687, 2688, 2689, 2690, 2691, 2692, 2693, 2694, 2695, 2696, 2697, 2700, 2701, 2702, 2703, 2705, 2707, 2709, 2710, 2712, 2713, 2717, 2719, 2720, 2729, 2730, 2731, 2733, 2734, 2735, 2736, 2737, 2739, 2740, 2741, 2742, 2743, 2744, 2745, 2746, 2747, 2752, 2760, 2762, 2764, 2765, 2766, 2767, 2768, 2769, 2770, 2771, 2773, 166614, 2774, 2775, 2776, 2778, 2779, 2780, 2781, 2782, 2783, 2784, 2785, 2786, 2787, 2788, 2790, 2791, 2792, 2794, 2796, 2797, 2798, 2799, 2800, 2801, 2802, 2803, 2804, 2805, 2806, 166647, 2810, 2811, 2812, 2813, 2814, 2815, 2817, 2819, 2820, 2821, 2822, 2823, 2824, 2825, 2826, 2827, 2828, 2829, 2830, 2832, 2833, 2835, 2838, 2840, 2841, 2842, 2843, 2845, 2846, 2847, 2848, 2852, 2853, 2854, 2859, 2861, 2862, 2863, 2865, 2867, 2868, 2869, 2870, 2872, 2873, 2875, 2876, 2877, 2878, 2879, 2880, 2882, 2885, 2886, 2887, 2888, 2889, 2890, 2891, 2892, 2893, 2895, 2896, 2897, 2898, 2899, 2900, 2901, 2902, 2903, 2904, 2905, 2906, 2907, 2908, 2909, 2911, 2912, 2913, 2914, 2915, 2916, 2917, 2918, 2919, 2920, 2921, 2922, 2923, 2925, 2926, 2928, 2931, 2932, 2934, 2935, 2936, 2937, 2938, 2940, 2941, 2944, 2946, 2947, 2948, 2949, 2950, 2952, 2953, 2954, 2956, 2957, 2958, 2959, 2960, 2961, 2962, 2963, 2965, 2967, 2968, 2969, 2971, 2972, 2974, 2975, 2976, 2977, 2978, 2979, 2980, 2981, 2982, 2983, 2984, 2986, 2987, 2990, 2992, 2993, 2994, 2995, 2996, 2997, 2998, 2999, 3000, 3001, 3002, 3003, 3004, 3005, 3006, 3007, 3008, 3009, 3010, 3012, 3014, 3015, 3017, 3018, 3021, 3024, 3026, 3028, 3029, 3030, 3032, 3033, 3034, 3035, 3036, 3037, 3043, 3044, 3045, 3046, 3049, 3050, 3052, 3053, 3054, 3055, 3059, 3060, 3061, 3062, 3064, 3065, 3066, 3067, 3068, 3069, 3070, 3071, 3073, 3074, 3075, 3077, 3080, 3081, 3082, 3083, 3084, 3087, 3090, 3091, 3092, 3093, 3094, 3096, 3097, 3098, 3099, 3101, 3104, 3105, 3106, 3107, 3108, 3109, 3110, 3111, 3112, 3113, 3115, 3117, 3119, 3120, 3122, 199731, 3123, 3128, 3131, 3133, 3134, 3135, 3140, 3141, 3142, 3145, 3146, 3148, 3149, 3150, 3151, 3155, 3156, 3157, 3158, 3159, 3161, 3162, 3163, 3164, 3166, 3169, 3170, 3172, 3174, 3175, 3176, 3177, 3178, 3181, 3182, 3183, 3184, 3185, 3187, 3188, 3189, 3190, 3191, 3192, 3195, 3196, 3198, 3199, 3200, 3201, 3202, 3203, 3204, 3206, 3207, 3208, 3211, 3212, 3213, 3215, 3216, 3217, 3218, 3219, 3221, 3222, 3223, 3224, 3226, 3227, 3229, 3231, 3232, 3235, 3236, 3237, 3238, 3239, 3240, 3241, 3242, 3248, 3249, 3250, 3251, 3257, 199870, 3263, 3265, 3267, 3268, 3269, 3270, 3273, 3274, 3275, 3276, 3280, 3281, 3283, 3284, 3290, 3291, 3292, 3293, 3294, 3295, 3297, 3298, 3299, 3300, 3301, 3303, 3305, 3306, 3308, 3309, 3310, 3312, 3313, 3315, 3320, 3321, 3326, 3329, 3336, 3337, 3338, 3339, 3340, 3344, 3346, 3347, 3350, 3351, 3352, 3354, 3355, 3356, 3357, 3358, 3359, 3360, 3361, 3362, 3363, 3364, 3371, 3373, 3375, 3376, 3381, 3382, 3383, 3384, 3385, 3386, 167227, 3394, 3396, 3397, 3398, 3399, 3400, 3416, 3417, 3418, 3419, 3420, 3421, 3422, 3423, 3425, 3426, 3428, 3429, 3430, 3431, 3433, 3434, 3437, 3439, 3440, 3441, 3442, 3443, 3444, 3445, 3446, 3448, 3449, 3451, 3452, 3454, 3455, 3456, 3458, 3459, 3460, 3467, 200081, 3475, 3476, 3479, 3480, 3482, 3483, 3484, 3485, 3486, 3487, 3488, 3489, 3490, 3491, 3508, 3512, 3516, 3543, 3547, 3549, 3550, 3551, 3552, 3553, 3554, 3556, 3557, 3558, 3559, 3560, 3561, 3562, 3563, 3565, 3566, 3567, 3568, 3569, 3570, 3572, 3574, 3575, 3576, 3577, 3578, 3579, 3581, 3586, 3587, 3588, 3589, 3590, 3592, 3593, 3594, 3595, 3596, 200205, 3597, 3598, 3600, 3601, 3603, 3604, 3605, 3606, 3607, 3608, 3609, 3611, 3612, 3613, 3614, 3615, 3617, 3619, 3620, 3621, 3622, 3623, 3624, 3625, 3626, 3627, 3628, 3630, 3631, 3632, 3633, 3635, 3636, 3638, 3640, 3641, 3642, 3643, 3645, 3646, 3651, 3652, 3653, 3654, 3655, 3658, 3659, 3660, 3661, 3662, 3663, 3664, 3665, 3667, 3669, 3670, 3671, 3672, 3673, 3674, 3675, 3676, 3678, 3679, 3680, 3682, 3683, 3684, 3685, 3687, 3688, 3689, 3690, 3691, 3692, 3693, 3694, 3695, 3696, 3697, 3698, 3699, 3700, 3702, 3703, 3704, 3705, 3706, 200315, 200316, 3707, 3708, 3709, 3710, 3712, 3713, 3714, 3716, 3717, 3718, 3720, 3725, 3726, 3727, 3728, 3730, 3732, 3735, 3736, 3737, 3738, 3739, 3741, 3744, 3745, 3746, 3747, 3748, 3749, 3750, 3751, 3752, 3753, 3754, 3755, 3756, 3757, 3758, 3759, 3760, 3761, 3762, 3763, 3764, 3765, 3766, 3768, 3770, 3772, 3773, 3775, 3776, 3777, 3778, 3779, 3780, 3781, 3782, 3783, 3784, 3785, 3786, 3787, 3790, 3791, 3792, 3795, 3796, 3797, 3798, 3799, 3800, 3801, 3802, 3804, 3805, 3809, 3811, 3814, 3815, 200424, 3816, 3817, 3818, 3820, 3823, 3824, 3827, 3831, 3832, 3833, 3834, 3835, 3836, 3837, 3838, 3839, 3840, 3841, 3842, 3843, 3845, 3846, 3848, 3849, 3850, 3851, 3852, 3853, 3854, 3855, 3856, 3857, 3858, 3859, 3860, 3861, 3866, 3868, 3872, 3875, 3880, 3881, 3882, 3883, 3884, 3885, 3886, 3887, 3889, 3890, 3891, 3895, 3897, 3898, 3899, 3902, 3903, 3904, 3906, 3908, 3909, 3910, 3911, 3912, 3913, 3914, 3915, 3916, 3918, 3920, 3921, 3925, 3927, 3929, 3930, 3931, 3932, 3933, 3934, 3936, 3937, 3938, 3939, 3945, 3948, 3949, 3950, 3952, 3953, 3954, 3955, 3956, 3957, 3958, 3959, 3960, 3964, 3965, 200576, 3972, 3973, 3975, 3976, 3977, 3978, 3980, 3981, 3982, 3983, 3984, 3985, 3987, 3988, 3990, 3991, 3992, 3993, 3995, 3996, 3998, 4000, 4001, 4004, 4005, 4007, 4008, 4010, 4012, 4013, 4014, 4015, 4016, 4017, 4018, 4023, 4025, 4026, 4033, 4034, 4035, 4036, 4037, 4038, 4040, 4041, 4043, 4045, 4046, 4047, 4048, 4049, 4050, 4051, 4052, 4053, 4054, 4055, 4057, 4058, 4059, 4060, 4061, 4062, 4063, 4064, 4065, 135138, 4066, 4067, 4068, 4069, 4070, 4071, 4072, 4074, 4076, 4077, 4081, 4082, 4084, 4085, 4086, 4087, 4088, 4089, 4090, 4091, 4092, 4093, 4094, 4097, 4099, 4100, 4102, 4103, 4105, 4107, 4109, 4110, 4111, 4112, 4113, 4114, 4116, 4117, 4118, 4121, 4122, 4123, 4124, 4125, 200734, 4126, 4128, 4129, 4130, 4131, 4133, 4134, 4137, 4139, 4140, 4141, 4142, 4143, 4144, 4145, 4146, 4147, 4148, 4149, 4150, 4151, 4152, 4153, 4154, 4155, 4157, 4158, 4159, 4160, 4161, 4162, 4163, 4168, 4170, 4171, 4172, 4173, 4174, 4175, 4176, 4179, 4184, 4185, 4188, 4189, 4190, 4191, 4192, 4193, 4194, 4199, 4200, 4201, 4204, 4205, 4208, 4209, 4210, 4211, 4212, 4214, 4215, 4216, 4217, 4218, 4221, 4222, 4223, 4224, 4225, 4232, 4233, 4234, 4236, 4237, 4238, 4239, 4240, 4241, 4242, 4245, 4246, 4247, 4248, 4249, 4250, 4253, 4254, 4255, 4256, 4258, 4259, 4261, 4267, 4277, 4281, 4282, 4283, 4284, 4285, 4286, 4287, 4288, 4289, 4291, 4292, 4293, 4294, 4295, 4296, 4297, 4298, 4299, 4300, 4301, 4303, 4306, 4308, 4311, 4312, 4313, 4314, 4316, 4317, 4318, 4319, 4320, 4321, 4322, 4323, 4324, 4325, 4326, 4327, 4329, 4330, 4331, 4332, 4335, 4336, 4337, 4338, 4340, 4342, 4345, 4350, 4351, 4352, 4353, 4354, 4355, 4356, 4357, 4358, 4359, 4361, 4363, 66008, 4430, 4435, 4436, 4437, 4438, 4440, 4477, 4478, 4481, 4482, 266629, 4485, 4486, 4487, 4488, 4493, 4494, 4495, 4496, 4499, 4501, 4502, 4504, 4507, 266655, 4520, 4521, 4522, 4524, 201134, 4528, 4534, 4542, 4543, 4544, 4547, 4548, 4552, 201163, 4582, 201191, 4583, 4584, 4585, 4586, 4588, 4589, 4591, 4593, 4594, 4595, 4597, 4598, 4599, 4600, 4601, 4602, 4603, 4604, 4605, 4606, 4607, 4608, 4609, 4610, 4613, 4615, 4616, 4617, 4618, 4619, 4620, 201229, 4621, 4622, 4624, 4625, 4626, 4627, 4628, 4629, 4632, 4633, 4634, 4635, 4636, 4637, 4638, 4640, 4641, 4642, 4643, 4644, 201254, 4646, 4647, 4648, 4649, 4650, 4651, 4653, 4654, 4656, 4659, 4660, 4661, 4664, 4665, 4666, 4668, 4669, 4670, 4671, 4673, 4674, 4675, 4676, 4677, 4678, 4680, 4681, 4682, 4683, 4684, 4685, 4686, 4688, 4689, 4690, 4691, 4692, 4693, 4694, 4695, 4696, 4697, 4698, 4700, 4701, 4702, 4703, 168544, 4704, 4705, 4706, 4707, 4708, 4709, 4710, 4711, 4712, 4713, 4714, 4717, 4719, 4720, 4722, 4723, 4724, 4726, 4728, 4729, 4733, 4734, 4735, 4736, 4738, 4739, 4741, 4744, 4745, 4750, 4751, 4752, 4753, 4756, 4758, 4759, 4760, 4761, 4762, 4763, 4771, 4772, 4775, 4776, 4778, 4779, 4780, 4781, 4782, 4783, 4784, 4790, 4791, 4792, 4793, 4794, 4795, 4796, 4798, 4799, 4800, 4801, 4802, 4803, 4804, 4807, 4808, 4809, 4811, 4814, 4815, 4817, 4818, 4820, 4821, 4824, 4825, 4826, 4828, 4829, 4830, 4832, 266977, 4833, 4835, 4836, 4837, 4839, 4841, 4842, 4843, 4846, 4848, 4849, 4850, 4851, 4852, 4853, 4854, 4855, 4856, 4857, 4858, 4860, 4861, 4862, 4863, 4864, 4867, 4868, 4869, 135948, 4878, 4879, 4880, 4881, 4882, 4883, 4884, 4885, 4886, 4887, 4888, 4889, 4891, 4892, 201501, 4893, 4897, 4898, 4899, 4900, 4901, 4902, 4904, 4905, 4907, 4908, 4913, 4914, 4915, 4916, 4917, 4919, 4920, 4921, 4922, 4923, 4924, 4925, 4926, 4927, 4928, 4929, 4931, 4935, 4938, 4939, 4940, 4942, 4946, 4947, 4948, 4951, 4952, 4953, 201562, 4956, 4957, 4958, 4967, 4968, 4969, 4973, 4974, 4975, 4976, 4978, 4982, 4983, 4985, 4986, 4987, 4988, 4990, 4991, 4992, 4993, 4994, 4995, 4998, 4999, 5000, 5001, 5002, 5003, 5004, 5007, 5008, 5009, 5010, 5016, 5017, 201626, 5018, 5019, 5020, 5021, 5023, 5024, 5025, 5026, 5027, 5028, 5029, 5030, 5031, 5033, 5034, 5036, 5037, 5042, 5045, 5046, 5047, 5048, 5049, 5050, 5051, 5052, 5053, 5054, 5055, 5058, 5062, 5063, 5064, 5066, 5068, 5069, 5071, 5073, 5074, 5075, 5076, 5077, 5078, 5079, 5080, 5081, 5082, 5083, 5087, 5089, 5090, 5091, 5092, 5093, 5094, 5095, 5096, 5097, 5098, 5099, 5100, 5101, 5104, 5105, 5106, 5108, 5110, 5111, 5116, 5118, 5119, 5121, 5122, 5125, 5126, 5127, 5128, 5129, 5130, 5132, 5133, 5134, 5136, 5137, 5138, 5139, 5140, 5141, 5142, 5143, 5144, 5145, 5146, 5147, 5148, 5149, 5151, 5152, 5153, 5154, 5155, 5156, 5157, 5158, 5159, 5160, 5161, 5162, 5163, 5164, 5165, 5166, 5167, 5168, 5170, 5172, 5173, 5174, 5176, 5178, 5179, 5184, 5187, 5188, 5189, 5190, 5191, 5192, 5193, 5194, 5195, 5196, 5197, 5198, 5199, 5201, 5202, 5203, 5204, 5205, 5207, 5208, 5209, 5210, 5211, 5213, 5214, 5216, 5217, 5218, 5223, 5225, 5226, 5228, 5229, 5230, 5232, 5236, 5238, 5239, 5241, 5243, 5244, 5245, 5250, 5251, 5252, 5253, 5255, 5256, 5257, 5260, 5261, 5264, 5265, 5266, 5267, 5268, 5269, 5270, 5271, 5272, 5273, 5274, 5275, 5276, 5277, 5279, 5281, 5283, 5284, 5286, 201895, 5287, 5288, 5289, 5290, 5291, 5292, 5293, 5294, 5295, 5296, 5297, 5298, 5300, 5301, 5303, 5304, 5305, 5306, 5307, 5308, 5309, 5310, 5311, 5313, 5315, 5316, 5317, 5318, 5319, 5320, 5321, 5322, 5324, 5325, 5326, 5327, 5328, 5329, 5330, 5331, 5332, 5333, 5334, 5335, 5336, 5337, 5338, 5339, 5340, 5341, 5345, 5346, 5347, 5348, 5349, 5350, 5351, 5352, 5354, 5355, 5357, 5358, 5359, 5360, 5361, 5362, 5364, 5365, 5366, 5367, 5368, 5369, 5371, 5372, 5373, 5375, 5376, 5378, 5382, 5383, 5387, 5393, 5394, 5396, 5406, 5407, 5408, 5409, 202018, 5411, 5412, 5414, 5420, 5422, 5423, 5424, 5425, 5426, 5427, 5428, 5429, 5430, 5431, 5432, 5433, 5434, 5435, 5436, 5437, 5438, 5439, 5440, 5441, 5442, 5443, 5444, 5445, 5446, 5447, 5449, 5450, 5451, 5452, 5453, 5454, 5455, 5456, 5457, 5458, 5459, 5462, 5463, 5464, 5465, 5467, 5468, 5469, 5470, 5471, 5473, 5475, 5476, 5478, 5479, 5480, 5481, 5493, 5494, 5495, 5496, 5498, 5499, 5500, 5501, 5502, 5504, 5506, 5507, 5510, 5511, 5514, 5515, 5516, 5518, 5519, 5520, 5521, 5523, 5524, 5525, 5526, 5527, 5528, 5529, 5530, 5531, 5532, 5533, 5534, 5536, 5537, 5538, 5539, 5542, 5544, 5545, 5546, 5547, 5549, 5550, 5551, 5552, 5553, 5557, 5558, 5562, 5563, 5564, 5565, 5566, 5567, 5568, 5569, 5571, 202181, 5573, 5575, 5576, 5577, 5578, 5579, 5580, 5581, 5582, 5583, 5584, 5585, 5586, 5587, 5588, 5589, 5590, 5591, 5592, 5593, 5594, 5595, 5596, 5597, 5598, 5599, 5600, 5601, 5602, 5603, 5604, 5605, 103910, 5606, 5607, 5608, 5609, 5610, 5611, 5612, 5613, 5616, 5617, 5618, 5619, 5620, 5621, 5623, 5624, 5625, 5626, 5627, 5629, 5630, 5631, 5634, 5635, 5636, 5638, 5639, 5641, 5644, 5646, 5648, 5649, 5650, 5651, 5652, 5653, 5654, 5655, 5657, 5660, 5662, 5663, 5664, 5669, 5670, 5671, 5672, 5673, 5675, 5676, 5678, 5680, 5681, 169522, 5682, 5683, 5684, 5685, 5686, 5687, 5688, 5689, 5690, 5691, 5692, 5693, 5694, 5695, 5696, 5697, 5698, 5699, 5700, 5701, 5702, 5704, 5705, 5706, 5707, 5708, 5709, 5710, 5711, 5713, 5714, 5715, 5716, 5717, 5718, 5719, 5720, 5721, 5723, 5724, 5725, 5727, 5728, 5729, 5730, 5731, 5732, 5733, 5734, 5737, 5739, 5740, 5741, 5742, 5743, 5744, 5745, 5746, 5747, 5753, 5754, 5756, 5757, 5763, 5764, 5768, 5770, 169611, 5771, 5774, 5775, 5777, 5778, 5780, 5781, 5782, 5783, 5784, 5786, 5787, 5788, 5789, 5790, 5791, 5792, 5793, 5794, 5795, 5796, 5797, 5798, 5799, 5800, 5801, 5802, 5803, 5805, 5806, 5810, 5813, 5816, 5817, 5818, 5819, 5820, 5822, 5824, 5825, 5826, 5827, 5828, 5829, 5830, 5831, 5832, 5833, 5834, 5836, 5837, 5858, 5859, 5860, 5861, 5862, 5863, 5864, 5865, 5866, 5867, 5868, 5869, 5870, 5871, 5872, 5873, 5874, 5875, 5876, 5877, 5878, 5879, 5880, 5881, 5883, 5884, 5885, 5886, 5887, 5888, 5889, 5890, 5891, 5892, 5893, 5894, 5896, 5897, 5898, 5899, 5900, 5901, 5902, 5903, 5905, 5906, 5908, 5909, 5910, 5911, 5912, 5913, 5914, 5915, 5916, 5917, 5918, 5919, 5920, 5921, 5922, 5923, 5925, 5926, 5927, 5928, 5929, 5930, 5931, 5932, 5933, 5934, 5935, 5936, 5937, 5939, 5947, 5949, 5950, 202559, 5954, 5955, 5957, 5959, 5961, 5962, 5965, 5966, 5967, 5968, 5970, 5971, 5972, 5973, 5976, 5977, 5978, 5979, 5980, 5981, 5982, 5983, 5984, 5985, 5986, 5987, 5988, 5989, 5990, 5991, 5993, 5994, 5995, 5996, 5997, 5998, 5999, 6000, 6001, 6002, 6003, 6004, 6005, 6006, 6007, 6009, 6010, 6011, 6013, 6014, 6015, 6016, 6017, 6018, 6019, 6035, 6036, 6037, 6039, 6041, 6045, 6046, 6047, 6048, 6049, 6050, 6051, 6059, 6091, 6093, 6094, 6095, 6096, 6097, 6098, 6102, 6103, 6117, 6118, 6119, 6120, 6121, 6122, 6123, 6124, 6125, 6128, 6129, 6130, 6132, 6133, 6134, 6135, 6136, 6137, 6138, 6139, 6141, 6143, 6144, 6146, 6147, 6150, 6152, 6154, 6155, 6156, 6157, 6158, 6159, 6160, 6161, 6164, 6165, 6166, 6167, 6168, 6169, 6170, 6171, 6173, 6175, 6176, 6181, 6182, 6183, 6184, 6185, 6187, 6188, 6189, 6191, 6192, 6193, 6194, 6195, 6196, 6197, 6198, 6199, 6201, 6202, 6203, 6204, 6205, 6206, 6207, 6208, 6209, 6210, 6217, 6218, 6222, 6223, 6224, 6227, 6228, 6229, 6230, 6231, 6232, 6233, 6234, 6235, 6236, 6237, 6238, 6239, 6240, 6241, 6247, 6249, 6251, 6252, 6253, 6256, 6257, 6258, 6259, 6261, 6262, 6263, 6272, 6273, 6274, 6275, 6276, 6277, 6278, 6279, 6280, 6281, 6282, 6283, 6284, 6285, 6286, 6290, 6291, 6293, 6294, 6295, 6296, 6297, 6299, 6301, 6302, 6303, 6304, 6305, 6307, 6309, 6310, 6311, 6314, 6315, 6317, 6318, 6319, 6320, 6322, 6323, 6324, 6326, 6327, 6328, 6329, 6331, 6332, 6334, 6335, 6336, 6337, 6338, 6339, 6340, 6342, 6343, 6344, 6346, 6347, 6351, 6352, 6354, 6355, 6356, 6357, 6360, 6361, 6362, 6363, 6364, 6366, 6367, 6368, 6369, 6370, 6372, 6373, 6374, 6375, 6376, 6382, 6383, 6385, 6386, 6387, 6388, 6389, 6390, 6391, 6392, 6396, 6397, 6398, 6399, 6400, 6401, 6402, 6403, 6404, 6405, 6406, 6407, 6414, 6415, 6416, 6418, 6419, 6421, 6422, 6424, 6425, 6426, 6428, 6429, 6430, 6431, 6432, 6433, 6434, 6439, 6440, 6441, 6442, 6443, 6444, 6445, 6446, 6447, 399664, 399665, 6448, 6449, 6450, 6451, 6452, 6453, 6455, 6456, 6457, 203068, 203069, 6461, 6462, 6464, 6468, 6469, 6470, 6472, 6473, 6474, 6476, 6477, 6478, 6480, 6482, 6483, 6484, 6489, 6490, 6491, 6492, 6493, 6494, 6495, 6496, 6497, 6498, 6499, 6500, 6502, 6503, 6504, 6505, 6506, 6507, 6508, 6509, 6510, 6511, 6512, 6513, 6514, 6515, 6517, 6518, 6519, 6520, 6521, 6522, 6523, 6524, 6525, 6527, 6528, 6529, 6530, 6531, 6532, 6533, 6534, 6535, 6536, 6538, 6539, 6540, 6541, 6542, 6543, 6545, 6546, 6548, 6549, 6550, 6553, 6554, 6555, 6556, 6557, 6558, 6559, 6560, 6561, 6563, 6564, 6565, 6566, 6567, 6568, 6569, 6570, 6571, 6572, 6573, 6574, 6575, 6576, 6578, 6579, 6580, 6581, 6582, 6583, 6584, 6585, 6586, 6588, 203197, 6590, 6591, 6594, 6595, 6596, 6597, 6598, 6599, 6601, 399818, 6602, 6603, 6604, 6605, 6608, 6609, 6610, 6611, 6612, 6614, 6615, 6616, 6617, 6618, 6619, 6620, 6621, 6622, 6623, 6624, 6625, 6626, 6627, 6628, 6629, 6631, 6632, 6633, 6634, 6635, 6636, 6637, 6638, 6640, 6641, 6642, 6643, 6645, 6646, 6647, 6648, 6649, 6650, 6651, 6652, 6653, 6654, 6655, 6656, 6657, 6658, 6659, 6660, 6662, 6663, 6664, 6665, 6666, 6667, 6668, 6670, 6671, 6672, 6674, 6675, 6676, 6677, 6678, 6683, 6687, 6688, 6689, 6690, 6691, 6692, 6693, 6694, 6695, 6696, 6697, 6698, 6699, 6701, 6707, 6708, 6709, 6710, 6711, 6712, 6713, 6714, 6715, 6717, 6718, 6720, 6721, 6722, 6723, 6726, 6727, 6729, 6731, 6732, 6733, 6734, 6736, 6737, 6738, 6741, 6742, 6744, 6745, 6746, 6747, 6748, 6749, 6750, 6751, 6752, 6753, 6754, 6755, 6756, 6760, 399979, 6764, 6767, 6768, 6769, 6770, 6772, 6773, 6774, 6775, 6776, 6777, 6778, 6779, 6780, 6781, 6782, 6783, 6785, 6786, 6787, 6788, 6789, 6790, 6792, 6793, 6794, 6795, 6799, 6801, 6804, 6809, 6810, 6812, 6813, 137886, 6814, 6817, 6819, 6820, 6821, 6822, 6827, 6829, 6830, 6832, 6833, 6834, 6835, 6837, 170679, 170680, 6839, 6840, 6843, 6844, 6845, 6847, 6850, 6853, 6855, 6856, 6857, 6861, 6862, 6863, 6865, 6866, 6867, 400084, 6868, 6869, 6870, 6871, 6872, 6873, 6874, 6875, 6876, 6877, 6878, 6879, 6880, 6881, 6882, 6883, 6884, 6885, 6886, 6888, 6890, 6891, 6892, 6894, 6895, 6897, 6898, 6899, 6900, 6901, 6902, 6903, 6904, 6905, 6906, 6907, 6908, 6909, 6910, 6911, 727800, 6915, 6916, 6917, 6919, 6921, 6923, 6924, 6925, 6926, 6927, 6928, 6929, 6932, 6934, 6935, 6936, 6938, 6939, 6940, 6942, 6943, 6944, 6945, 6947, 6948, 6949, 6950, 6953, 6954, 138046, 138050, 6988, 6990, 6992, 6993, 6996, 6999, 7001, 727897, 7003, 7004, 7005, 7006, 7007, 7008, 7009, 7010, 7011, 100506469, 7013, 7014, 7015, 7016, 7018, 7019, 7020, 7021, 7022, 7023, 7024, 7025, 7026, 7027, 7029, 7030, 7031, 7032, 7033, 7035, 7036, 7037, 7038, 7039, 7040, 7041, 7042, 7043, 7045, 7046, 7047, 7048, 7049, 7050, 7051, 7052, 7053, 7054, 7056, 7057, 7058, 7059, 7060, 7062, 7064, 7066, 7067, 7068, 7070, 7071, 7072, 7073, 7074, 7075, 7076, 7077, 7078, 138151, 7079, 7080, 7082, 7083, 7084, 7086, 7087, 7088, 7089, 138162, 7090, 7091, 7092, 7093, 7094, 7095, 7096, 7097, 7098, 7099, 7100, 7101, 7102, 7103, 7104, 7105, 7106, 7107, 7108, 7109, 7110, 7111, 7112, 7113, 170960, 7122, 7123, 7124, 7125, 7126, 7127, 7128, 7130, 7132, 7133, 7134, 7135, 7136, 7137, 7138, 7139, 7140, 7141, 7142, 7143, 7145, 7148, 7150, 7153, 7155, 7156, 7157, 7158, 7159, 7161, 7162, 7163, 7164, 7165, 7166, 7167, 7168, 7169, 7170, 7171, 7172, 7173, 7174, 7175, 171017, 7177, 7178, 7179, 7180, 7181, 171023, 7182, 7184, 7185, 7186, 7187, 7188, 7189, 400410, 7200, 7201, 7203, 7204, 7205, 7216, 7220, 7221, 7222, 7223, 7224, 7225, 7226, 7227, 400451, 7247, 7248, 7249, 7251, 7252, 7253, 7257, 7258, 7259, 7260, 7262, 7263, 7264, 7265, 7266, 7267, 7268, 7270, 7272, 7273, 7274, 7275, 7276, 7277, 7280, 7283, 7284, 7286, 7287, 7288, 7289, 400506, 7290, 7291, 7292, 7293, 7294, 7295, 7296, 7297, 7298, 7299, 7301, 7305, 7306, 7307, 7311, 7314, 7316, 7317, 7318, 728215, 7319, 7320, 7321, 7322, 7323, 7324, 7326, 7327, 7328, 7329, 7332, 7334, 7336, 7337, 7341, 7342, 7343, 7345, 7347, 7348, 7349, 7350, 7351, 7352, 7353, 7355, 7356, 7357, 7358, 7360, 7363, 7366, 7367, 7368, 7369, 7371, 7372, 7373, 7374, 7375, 7376, 7378, 7379, 7380, 7381, 7384, 7385, 7386, 7388, 7389, 7390, 7392, 7398, 7399, 7402, 7403, 7404, 7405, 7407, 7408, 7409, 7410, 7411, 7412, 7414, 7415, 7416, 7417, 7419, 7421, 7422, 7423, 7424, 7425, 7428, 7429, 7430, 7431, 7432, 7433, 7434, 7436, 7439, 7441, 7442, 7443, 7444, 7447, 7448, 7450, 7453, 7454, 7456, 7458, 7461, 7462, 7464, 7465, 7466, 7468, 7469, 7471, 7472, 7473, 7474, 7475, 7476, 7479, 7480, 7481, 7482, 7485, 7486, 7490, 7494, 7498, 7503, 7504, 7507, 7508, 7511, 7512, 7514, 7515, 7516, 7517, 7518, 7520, 7525, 7528, 7529, 7531, 7533, 7534, 7535, 7536, 7538, 7539, 7541, 7542, 7543, 7544, 7545, 7547, 7551, 171392, 728448, 7552, 7553, 7554, 7555, 7556, 7559, 7561, 7564, 7570, 7571, 7572, 7580, 7582, 7584, 7586, 7592, 7593, 7594, 7596, 7597, 728498, 7625, 7626, 7629, 7633, 7634, 7637, 7638, 7639, 7644, 7673, 7678, 7681, 7690, 7691, 7692, 7693, 7694, 7695, 7699, 7700, 7701, 7702, 7703, 7704, 7705, 171546, 7706, 7707, 7709, 7710, 7711, 7712, 7716, 171558, 7718, 728621, 7726, 7727, 7728, 7730, 7733, 7738, 7739, 7743, 400961, 171586, 728642, 7745, 7746, 7748, 7750, 7752, 7753, 7754, 7755, 7756, 7757, 7761, 7762, 7763, 7764, 728661, 7766, 7767, 7768, 7769, 7770, 7771, 7775, 7776, 7779, 7781, 7782, 7783, 7786, 7791, 401014, 7798, 7799, 7802, 7803, 7804, 7805, 7812, 7813, 7818, 7827, 7832, 7837, 7840, 7841, 7844, 7846, 7849, 7850, 7851, 7852, 7855, 7857, 7862, 7866, 7867, 7869, 7873, 7874, 7879, 7881, 7884, 7903, 7905, 7913, 7915, 7916, 7917, 7923, 7932, 7936, 7940, 7941, 7942, 7957, 728855, 7965, 100507424, 7975, 7976, 7978, 7979, 100507436, 7980, 7982, 7984, 7988, 7991, 7994, 8000, 8001, 139081, 8013, 8019, 8021, 8022, 8027, 8028, 8029, 8030, 8031, 8034, 8036, 8038, 8045, 8048, 8050, 8061, 8065, 8073, 8074, 8076, 8078, 8079, 8082, 8085, 8086, 8087, 8089, 8091, 8092, 8099, 8100, 8110, 8111, 8115, 8120, 8123, 8125, 8128, 8131, 8139, 8140, 8148, 8153, 8161, 8165, 8170, 8174, 8175, 8178, 8187, 8189, 8190, 8192, 8193, 8195, 8200, 8202, 8204, 8208, 8209, 8216, 8218, 8224, 8226, 8227, 8228, 8233, 8237, 8239, 8241, 8242, 204851, 8243, 139322, 8260, 8266, 8269, 8270, 8273, 8277, 8284, 8287, 8288, 8289, 8290, 8291, 8292, 8295, 8301, 8303, 8309, 8310, 8312, 8314, 8315, 8317, 8318, 8321, 8322, 8323, 8324, 8325, 8326, 8328, 8329, 8331, 729230, 8334, 8337, 8339, 8340, 8341, 729238, 8342, 8345, 8348, 8349, 8350, 8359, 8369, 8372, 8379, 8382, 8383, 8387, 8390, 8392, 8394, 8395, 8396, 8398, 8399, 8402, 8403, 8404, 8405, 8406, 8407, 8408, 8409, 8411, 8412, 8416, 8417, 8418, 8419, 8420, 8424, 8425, 8427, 8428, 8431, 8433, 8434, 8435, 8436, 8437, 8438, 8439, 8440, 8443, 8444, 8445, 8446, 8447, 8448, 8449, 8450, 8451, 8452, 8453, 8454, 8455, 8456, 8458, 8459, 8460, 8462, 8464, 139538, 8467, 8468, 8470, 8473, 8476, 8477, 8479, 8480, 8481, 8482, 8483, 8484, 8487, 8490, 8491, 8492, 8493, 8495, 8496, 8497, 8498, 8499, 8500, 8501, 8502, 8503, 8504, 8505, 8506, 8507, 8508, 8509, 8512, 8513, 8514, 8515, 8516, 8517, 8518, 8519, 8520, 8521, 8522, 8525, 8526, 8527, 8528, 8529, 8530, 8531, 8533, 8534, 8535, 8536, 8537, 8538, 8539, 8540, 8541, 8542, 8543, 8544, 8545, 8546, 8547, 8548, 8549, 8550, 8552, 8553, 8554, 8555, 8556, 8557, 8558, 8559, 8560, 8562, 8563, 8564, 8565, 8566, 8567, 8568, 8569, 8570, 8572, 8573, 8574, 8575, 8576, 8577, 8578, 8581, 8590, 8600, 8601, 8602, 8603, 8604, 8605, 8607, 8608, 8609, 8611, 8612, 8613, 8614, 8615, 8618, 729515, 8621, 8622, 8623, 8624, 8625, 8626, 8630, 8631, 8632, 8633, 8634, 8635, 8636, 8638, 8639, 8642, 8643, 8644, 8645, 8646, 8647, 8648, 8649, 8650, 8651, 8653, 8654, 8655, 8658, 8659, 8660, 8661, 8662, 8664, 8665, 8666, 8667, 8668, 8669, 8671, 8672, 8673, 8674, 8675, 8676, 8677, 8678, 8682, 8685, 8687, 8688, 8689, 8690, 8692, 8694, 8697, 8698, 8702, 8703, 8704, 8705, 8706, 8707, 8708, 8710, 8711, 8712, 8714, 8715, 8717, 8718, 8720, 8721, 8722, 8723, 8724, 8725, 8726, 8727, 8728, 8729, 8731, 8732, 8733, 8735, 8736, 8737, 8738, 8739, 8740, 8741, 8742, 8743, 8744, 8745, 8748, 8749, 8751, 8754, 8756, 8760, 8761, 8763, 8764, 8766, 8767, 8772, 8773, 8774, 8775, 8776, 8777, 8778, 8780, 8785, 8786, 8787, 8788, 8789, 8790, 8792, 8793, 8794, 8795, 8796, 8798, 8799, 8800, 8801, 8802, 8803, 8804, 8805, 8807, 8808, 8809, 8811, 8812, 8813, 8814, 8815, 8817, 8818, 8819, 8820, 8821, 8822, 8824, 8825, 8826, 8828, 8829, 8832, 8833, 8834, 8835, 8836, 8837, 8838, 402055, 8839, 8840, 8841, 8842, 8844, 8846, 8848, 8850, 8851, 8852, 8853, 8854, 8856, 8857, 8858, 8859, 8861, 8863, 8864, 8867, 8869, 8870, 8871, 8872, 8874, 8875, 8876, 8877, 8878, 8879, 8880, 8881, 8882, 8883, 8884, 8886, 8887, 8888, 8890, 8891, 8892, 8893, 8894, 8895, 8896, 8897, 8898, 8899, 8900, 729799, 8904, 8905, 8906, 8908, 8909, 8910, 8911, 8912, 8913, 8914, 8915, 8916, 8924, 8925, 8927, 8928, 8929, 8930, 8932, 8933, 8934, 8935, 8936, 8938, 8939, 8940, 8941, 8942, 8943, 8945, 205564, 8970, 8971, 8972, 8973, 8974, 8975, 8976, 8985, 8986, 8988, 8989, 8991, 8992, 8993, 8994, 8995, 8996, 8997, 8999, 9001, 9002, 9013, 9014, 9015, 9016, 9019, 9021, 9022, 9023, 9024, 9025, 9026, 9028, 9031, 9032, 9033, 9034, 9037, 9038, 9039, 9040, 9043, 9044, 9045, 9046, 9047, 9048, 9049, 9050, 9051, 9052, 9053, 9054, 9055, 9056, 9057, 9058, 9060, 9061, 9063, 9064, 9070, 9071, 9073, 9074, 9076, 9077, 9079, 9080, 9081, 9083, 9085, 9086, 9087, 9088, 9091, 9092, 9093, 9094, 729991, 9095, 9097, 9099, 9100, 9101, 9103, 9104, 9107, 9108, 9110, 9111, 9112, 9113, 9114, 9118, 9119, 9120, 9121, 9122, 9123, 9124, 9125, 9126, 9127, 9128, 9129, 9130, 9131, 9132, 9133, 9134, 9135, 9136, 9138, 9139, 9140, 9141, 9142, 9143, 9144, 9145, 9146, 9147, 9148, 9149, 9150, 9152, 9153, 9154, 730051, 9156, 9158, 9159, 9162, 9166, 9167, 9168, 9169, 9170, 9172, 9173, 9175, 9177, 9179, 9180, 9181, 9182, 9183, 9184, 9185, 9187, 9188, 9189, 9191, 9194, 9196, 9197, 9200, 9201, 9202, 9203, 9204, 730101, 9205, 9208, 9209, 9210, 9211, 9212, 9214, 9215, 9217, 140290, 9218, 9219, 9221, 9223, 9227, 9228, 9229, 9230, 9231, 9232, 9235, 9236, 9238, 9240, 9242, 9244, 9245, 9246, 9247, 9248, 9249, 9252, 9254, 9255, 9256, 9258, 9260, 9261, 9262, 9263, 9265, 9266, 9267, 9270, 9271, 9274, 9275, 9276, 9277, 9278, 9282, 9283, 9284, 9287, 9288, 9289, 9293, 9294, 9295, 9296, 9306, 9308, 9310, 9311, 9312, 9313, 9314, 9315, 9317, 9318, 9319, 9320, 9321, 9322, 9324, 9325, 9326, 9328, 9329, 9330, 730227, 9331, 9332, 9333, 9334, 9337, 9338, 9340, 9341, 9342, 9344, 9348, 9350, 9351, 9352, 9353, 9354, 9355, 9356, 9358, 9360, 9361, 9362, 9363, 9364, 9365, 9366, 9367, 9368, 9369, 9370, 9371, 9372, 9373, 9374, 9375, 9376, 9377, 9378, 9379, 9380, 9381, 140459, 140460, 140461, 140462, 9388, 9389, 140465, 9390, 140467, 9391, 9392, 9394, 9397, 9398, 9399, 9400, 9401, 9402, 9403, 9404, 9407, 9409, 9410, 9411, 9412, 9413, 9414, 9415, 9416, 9419, 9420, 9421, 9422, 9423, 9425, 9427, 9429, 9435, 9436, 9437, 9439, 9440, 9442, 9443, 9444, 9445, 9446, 9447, 9448, 9450, 9451, 9452, 9453, 9454, 9455, 9456, 9457, 9459, 9462, 9463, 9464, 9465, 9466, 9467, 9468, 9469, 9470, 9472, 140545, 9473, 9474, 9475, 9477, 9478, 9479, 9480, 9482, 9486, 9487, 9488, 9489, 9491, 9493, 9495, 9496, 9497, 9498, 9499, 9500, 9501, 140578, 9506, 9508, 9509, 9510, 9512, 9513, 9514, 9515, 9516, 9517, 9518, 9519, 9520, 9521, 9522, 9524, 140597, 9525, 9526, 9527, 9528, 9529, 9530, 9531, 9532, 9533, 9534, 9535, 140609, 9536, 9537, 9538, 9540, 9541, 9542, 9545, 9546, 9547, 9550, 9551, 9552, 9553, 9555, 9556, 9557, 9559, 9562, 9563, 9567, 9568, 9569, 9570, 9573, 9575, 9576, 9577, 9578, 9580, 9581, 9582, 9583, 9584, 9585, 9586, 9587, 9588, 9589, 9590, 9592, 9595, 9597, 9600, 9601, 9603, 9604, 9605, 9607, 9609, 9610, 9611, 9612, 9616, 9617, 9618, 9619, 9620, 9623, 9625, 9627, 9628, 9629, 9630, 9631, 9632, 9633, 9635, 9636, 9637, 140710, 9638, 9639, 9640, 9641, 9643, 9644, 9645, 9646, 9647, 9648, 9649, 9650, 9651, 9652, 9653, 9654, 9655, 9656, 9657, 9658, 9659, 9662, 9663, 9665, 9666, 9667, 9668, 9669, 9670, 9671, 9672, 9673, 9674, 9675, 9677, 9678, 9679, 9681, 9682, 9683, 9684, 9685, 9686, 9687, 9688, 9689, 9690, 9692, 9693, 9694, 9695, 9696, 9697, 9698, 9699, 9700, 9701, 9702, 9703, 9704, 9705, 9706, 9709, 9710, 9711, 9712, 9715, 9716, 9717, 9718, 9719, 9720, 9721, 9722, 9723, 9725, 9726, 9727, 9728, 140801, 9729, 140803, 9730, 9731, 9732, 9733, 9734, 9735, 9736, 9737, 9738, 9739, 9741, 9742, 9743, 9744, 9745, 9746, 9747, 9748, 206358, 9749, 9750, 9751, 9752, 9753, 9754, 9755, 9757, 9758, 9759, 9760, 9761, 9762, 9764, 9765, 9766, 9767, 9768, 9770, 9771, 9772, 9774, 9775, 9776, 9777, 9778, 9779, 9780, 9781, 9782, 9783, 9784, 9785, 9786, 9787, 9788, 9790, 9791, 9792, 9793, 9794, 9796, 9797, 9798, 9801, 9802, 9804, 9805, 9806, 9807, 9810, 140883, 9811, 140885, 9812, 9813, 9814, 9815, 140890, 9816, 9817, 9818, 9819, 9820, 9821, 9823, 9824, 9825, 9826, 9827, 9828, 9829, 9830, 9831, 9832, 9833, 9834, 9836, 9837, 9839, 9840, 9841, 9842, 9843, 9844, 9846, 9847, 9848, 9849, 9851, 9853, 9854, 9855, 9856, 9857, 9858, 9859, 9860, 9861, 9862, 9863, 9866, 9867, 9868, 9869, 9870, 9871, 9873, 9874, 9875, 9877, 9878, 9879, 9880, 9881, 9882, 9883, 9885, 9886, 9887, 9889, 9890, 9891, 9892, 9894, 9895, 9896, 9897, 9898, 9899, 9900, 9901, 9902, 9903, 9904, 9905, 9907, 9908, 9909, 9910, 9911, 9912, 9913, 9914, 9915, 9917, 9918, 9919, 9920, 9921, 9922, 9923, 9924, 9925, 9926, 9927, 9928, 9929, 9931, 9933, 9934, 9935, 9936, 9937, 9938, 9939, 9940, 9941, 9942, 9943, 9945, 9946, 9947, 9948, 9949, 9950, 9953, 9955, 9956, 9957, 9958, 9960, 9961, 9962, 9966, 9967, 9968, 9969, 9970, 9971, 9972, 9973, 9975, 9976, 9978, 9980, 9982, 9984, 9985, 9987, 9988, 9989, 9990, 9991, 9992, 9993, 9997, 10000, 10001, 10003, 10004, 10005, 10006, 10007, 10009, 10010, 10013, 10014, 10015, 10016, 10017, 10018, 10019, 10020, 10021, 10022, 10023, 10024, 10025, 10026, 10036, 10038, 10039, 10040, 10042, 10043, 10044, 10045, 10046, 10047, 10048, 10049, 10050, 10051, 10052, 10053, 10054, 10055, 10057, 10058, 10059, 10060, 10061, 10062, 10063, 10066, 10067, 10068, 10069, 10072, 10073, 10075, 10076, 10077, 10078, 10079, 10083, 10084, 10085, 10086, 10087, 10089, 10090, 10092, 10093, 10094, 10095, 10096, 10097, 10098, 10099, 10100, 10101, 10102, 10103, 10105, 10106, 10107, 10109, 10110, 10111, 10112, 10113, 10114, 10116, 10120, 10121, 10123, 10124, 10125, 10126, 10127, 10128, 10129, 10130, 10131, 10133, 10134, 10135, 10136, 10138, 10139, 10140, 10141, 10142, 10144, 10146, 10147, 10148, 10149, 10150, 10151, 10152, 10153, 10154, 10155, 10156, 10157, 10158, 10159, 10160, 10161, 10162, 10163, 10164, 10165, 10166, 10168, 10169, 10170, 10171, 10174, 10175, 10178, 10179, 10180, 10181, 10184, 10186, 10188, 10190, 10193, 10195, 10196, 10197, 10198, 10199, 10200, 10201, 10202, 10203, 10204, 10205, 10206, 10207, 10208, 10209, 10210, 10211, 10212, 10213, 10214, 10215, 10216, 10217, 10218, 10219, 10220, 10221, 10223, 10224, 10225, 10226, 10227, 10228, 10229, 10230, 10231, 10232, 10233, 10234, 10235, 10236, 10237, 10238, 10239, 10240, 10241, 10242, 10243, 10244, 10245, 10246, 10247, 10248, 10249, 10250, 10252, 10253, 10254, 10255, 10256, 10257, 10260, 10261, 10262, 10263, 10265, 10266, 10267, 10268, 10269, 10270, 10272, 10273, 10274, 10276, 10277, 10278, 10279, 10280, 10281, 10282, 10284, 10285, 10286, 10287, 10288, 10289, 10290, 10291, 10293, 10294, 10295, 10296, 10297, 10298, 10299, 10300, 10301, 10302, 10307, 10308, 10309, 10311, 10312, 10313, 10314, 10316, 10317, 10318, 10319, 10320, 10321, 10322, 10324, 10325, 10326, 10327, 10328, 10329, 10330, 10331, 10332, 10333, 10336, 10342, 10343, 10345, 10346, 10347, 10351, 10352, 10360, 10362, 10363, 10365, 10367, 10368, 10369, 10370, 10371, 10376, 10379, 10380, 10381, 10382, 10383, 10384, 10385, 10388, 10389, 10390, 10391, 10392, 10393, 10394, 10395, 10396, 10397, 10398, 10399, 10400, 10401, 10402, 10403, 10404, 10406, 10407, 10408, 10409, 10410, 10411, 10412, 10413, 10417, 10418, 10419, 10420, 10421, 10422, 10423, 10424, 10425, 10426, 10427, 10428, 10430, 10432, 10434, 10435, 10437, 10438, 10439, 10440, 10443, 10444, 10445, 10446, 10447, 10449, 10450, 10451, 10452, 10454, 10455, 10456, 10457, 10458, 10460, 10461, 10462, 10463, 10464, 10465, 10466, 10467, 10468, 10469, 10471, 10472, 10473, 10474, 10475, 10476, 10477, 10478, 10479, 10480, 10481, 10482, 10483, 10484, 10485, 10486, 10487, 10488, 10489, 10490, 10491, 10492, 10493, 10494, 10495, 10497, 10498, 10499, 10500, 10501, 10505, 10507, 10512, 10513, 10514, 10516, 10518, 10519, 10520, 10521, 10522, 10523, 10524, 10525, 10526, 10527, 10528, 10529, 10531, 10533, 10534, 10535, 10536, 10538, 10539, 10540, 10541, 10542, 10544, 10549, 10550, 10551, 10552, 10553, 10554, 10555, 10556, 10557, 10558, 10559, 10560, 10561, 10562, 10563, 10564, 10565, 10566, 10567, 10568, 10570, 10572, 10573, 10574, 10575, 10576, 10577, 10578, 10579, 10580, 10581, 10584, 10585, 10586, 10587, 10588, 10589, 10590, 10591, 10592, 10594, 10595, 10598, 10599, 10600, 10602, 10603, 10605, 10606, 10607, 10608, 10609, 10610, 10611, 10612, 10613, 10614, 10615, 10616, 10617, 10618, 10620, 10621, 10622, 10623, 10625, 10626, 10627, 10628, 10629, 10630, 10631, 10632, 10633, 10634, 10635, 10636, 10637, 10640, 10641, 10643, 10644, 10645, 10647, 10648, 10650, 10651, 10652, 10653, 10654, 10656, 10657, 10658, 10659, 10660, 10661, 10663, 10664, 10665, 10666, 10667, 10668, 10669, 10670, 10671, 10672, 10675, 10677, 10678, 10681, 10682, 10683, 10686, 10687, 10690, 10691, 10692, 10693, 10694, 10695, 10699, 10712, 10713, 10714, 10716, 10721, 10723, 10724, 10725, 10726, 10728, 10730, 10732, 10733, 10734, 10735, 10736, 10738, 10739, 10740, 10741, 10742, 10743, 10744, 10745, 10746, 10747, 10749, 10750, 10752, 10753, 10755, 10758, 10761, 10762, 10763, 10765, 10766, 10767, 10768, 10769, 10771, 10772, 10773, 10775, 10776, 10777, 10778, 10780, 10781, 10782, 10785, 10786, 10787, 10788, 10791, 10793, 10794, 10795, 10797, 10798, 10799, 10800, 10801, 10802, 10803, 10807, 10808, 10810, 10813, 10814, 10816, 10817, 10818, 10819, 10825, 10826, 10827, 10840, 10841, 10842, 10844, 10845, 10846, 10847, 10848, 10850, 10855, 10856, 10857, 10858, 10859, 10861, 10863, 10864, 10865, 10866, 10867, 10868, 10869, 10871, 10873, 10874, 10875, 10876, 10877, 404093, 10879, 10880, 10881, 10882, 10884, 10885, 10891, 10892, 10893, 10894, 10895, 10896, 10897, 10898, 10899, 10900, 10902, 10903, 10904, 10905, 10906, 10907, 10908, 10911, 10912, 10913, 10914, 10915, 10916, 10917, 10919, 10920, 10921, 10922, 10923, 10924, 10926, 10927, 10928, 10930, 10933, 10935, 10936, 10938, 10939, 10940, 10942, 10943, 10944, 10945, 10946, 10947, 10948, 10949, 10950, 10951, 10952, 10953, 10954, 10955, 10956, 10957, 10959, 10960, 10961, 10962, 10963, 10964, 338645, 10966, 10969, 10970, 10971, 10972, 10973, 10974, 10975, 10978, 10979, 10980, 10981, 10982, 10983, 10985, 10987, 10988, 10989, 10990, 10992, 10993, 10994, 10998, 11000, 11001, 11004, 11005, 11006, 11007, 11009, 11010, 11011, 11012, 11013, 11014, 11015, 11016, 11017, 11018, 11019, 11020, 11021, 11022, 11024, 11025, 11026, 11027, 11030, 11031, 11033, 11034, 11037, 11040, 11041, 11043, 11044, 11045, 11046, 11047, 11051, 11052, 11054, 11055, 11056, 11057, 11059, 11060, 11061, 11062, 11063, 11064, 11065, 11066, 11067, 11068, 11069, 11070, 11072, 11073, 11074, 11075, 11076, 11077, 11078, 11079, 11080, 11081, 11082, 11083, 43847, 11085, 11086, 43849, 11092, 11093, 11094, 11095, 11096, 11097, 11098, 11099, 11100, 11102, 11103, 11104, 11107, 11108, 11113, 11116, 11117, 11118, 11119, 11120, 11122, 11123, 11124, 11126, 11127, 11129, 11130, 11131, 11132, 11133, 11135, 11136, 11137, 11138, 11140, 11141, 11142, 11143, 11144, 11145, 11146, 11147, 11148, 11151, 11152, 11153, 11154, 11155, 11156, 11157, 11160, 11161, 11162, 11163, 11165, 11166, 11167, 11168, 11169, 11170, 11171, 11172, 11173, 11174, 11176, 11177, 11178, 11179, 11180, 11181, 11182, 11183, 11184, 11186, 11187, 11188, 11189, 11190, 11191, 11193, 11194, 11196, 11197, 11198, 11199, 11200, 11201, 11202, 11211, 11212, 11213, 11214, 11215, 11216, 11219, 11221, 11222, 11224, 11226, 11228, 11230, 11231, 11232, 11234, 11235, 11236, 11237, 11238, 11240, 11243, 11245, 11247, 11248, 11250, 11251, 11252, 11253, 11254, 11255, 11257, 11258, 11259, 11260, 11261, 11262, 11264, 11266, 11267, 11272, 11273, 11274, 11275, 11276, 11278, 11279, 11280, 11281, 11282, 11284, 11285, 11309, 11311, 11313, 11314, 11315, 11316, 11317, 11318, 11319, 11320, 11321, 11322, 11325, 11326, 11328, 11329, 11330, 11331, 11332, 11333, 11334, 11335, 11336, 11338, 11339, 11340, 11341, 11342, 11343, 11344, 11345, 11346, 339044, 339105, 404672, 339229, 339287, 339290, 142684, 339448, 339479, 340351, 373156, 340591, 144404, 78986, 78987, 78988, 78989, 78990, 78991, 78992, 78994, 78995, 78996, 78997, 78998, 78999, 79000, 79001, 79003, 79004, 79005, 79006, 79007, 79009, 79012, 79015, 79016, 79017, 79018, 79019, 79022, 79023, 79024, 79025, 79026, 79029, 79033, 79034, 79035, 79036, 79038, 79039, 79042, 79047, 79048, 79050, 79053, 79054, 79056, 79057, 79058, 79064, 79065, 79066, 79068, 79070, 79071, 79072, 79073, 79074, 79075, 79077, 79078, 79080, 79083, 79084, 79085, 79086, 79087, 79088, 79089, 79090, 79091, 79092, 79094, 79095, 79096, 79097, 79098, 79101, 79109, 79132, 79133, 79134, 79135, 79137, 79139, 79140, 79143, 79144, 79145, 79147, 79148, 79149, 79152, 79153, 79154, 79155, 79156, 79157, 79158, 79159, 79161, 144699, 79166, 79169, 79170, 79171, 79172, 79173, 79174, 79175, 79176, 79177, 79178, 79180, 79183, 79184, 79187, 79188, 79228, 79230, 79269, 79363, 79364, 79365, 79366, 79368, 79369, 79370, 374286, 374291, 79400, 79411, 79412, 79413, 79414, 79415, 79441, 374354, 79442, 79443, 79444, 79446, 439921, 79567, 79568, 79570, 79571, 79572, 79573, 79574, 79575, 79577, 440026, 79581, 79582, 79583, 79585, 79586, 79587, 79589, 79590, 79591, 79594, 79595, 79596, 79598, 79600, 79602, 79603, 79605, 79608, 79609, 79611, 79612, 79616, 79618, 79621, 79622, 79623, 79624, 440073, 79625, 79627, 79628, 79629, 112398, 112399, 79630, 79631, 79632, 79633, 79634, 79635, 79637, 79639, 79640, 79641, 79642, 79643, 79644, 79645, 79646, 79647, 79648, 79649, 79650, 79651, 79652, 79654, 79656, 79657, 79658, 79659, 79661, 79663, 79664, 79665, 79666, 79667, 79668, 79669, 79670, 79671, 79672, 79673, 79675, 79676, 79677, 79679, 79682, 79683, 79684, 79685, 79686, 79689, 79690, 79691, 79693, 79694, 79695, 112464, 79696, 79698, 79701, 79703, 79705, 79706, 79707, 79709, 79710, 112479, 79712, 79713, 79714, 79716, 79717, 79718, 79719, 79720, 79722, 79723, 79724, 79725, 79726, 79727, 79728, 79729, 79730, 79731, 79733, 79734, 79735, 79736, 79738, 79739, 79740, 79741, 79742, 374655, 79744, 440193, 79745, 79746, 79747, 79748, 79750, 79751, 79752, 79753, 79754, 79755, 79758, 79759, 79760, 79762, 79763, 79767, 79768, 79770, 79772, 79774, 79776, 79777, 79778, 79780, 79781, 79782, 79783, 79784, 79785, 79786, 79788, 79789, 79792, 79794, 79797, 79799, 79800, 79801, 79802, 79803, 79804, 79805, 79807, 79809, 79810, 79811, 79812, 79813, 79814, 79815, 79816, 79817, 79818, 79819, 79820, 79822, 79823, 79825, 79828, 79829, 79830, 79831, 79832, 79833, 79834, 79836, 79837, 79838, 79839, 79840, 79841, 79842, 112611, 79843, 79844, 79845, 79846, 79847, 79848, 79849, 79850, 79852, 145389, 79853, 79854, 79858, 79861, 79862, 79863, 79864, 79865, 79866, 79867, 79868, 79869, 79870, 79871, 79872, 79873, 79874, 79875, 79876, 79877, 79879, 79882, 79883, 79884, 79885, 79886, 79887, 79888, 79890, 79891, 79892, 79893, 79894, 79895, 79896, 79898, 79899, 79901, 79902, 79903, 440352, 79905, 79906, 374819, 79908, 79912, 79913, 79915, 79917, 79918, 79919, 79921, 79922, 79923, 79924, 79927, 79929, 79930, 79931, 79932, 79933, 79934, 79935, 440387, 79939, 79940, 79943, 79944, 79946, 79947, 79948, 79949, 342096, 79953, 79954, 79955, 374868, 79956, 79957, 79958, 79959, 79960, 79961, 79962, 79963, 79966, 79968, 79969, 79970, 79971, 79973, 79974, 79977, 79979, 79980, 79981, 79982, 79983, 79986, 79987, 79989, 79990, 79991, 79998, 80000, 80003, 80004, 80005, 80006, 80007, 80008, 80010, 80011, 80012, 80013, 80014, 80017, 80019, 80020, 80021, 80022, 80023, 80024, 80025, 80028, 80031, 80032, 80034, 80036, 80045, 80055, 80059, 80063, 374977, 440515, 80067, 80069, 80070, 80071, 80072, 80086, 80095, 80099, 112869, 80108, 80110, 80111, 440560, 80114, 80115, 80117, 80122, 375035, 80124, 80125, 80127, 80128, 80129, 80131, 80133, 80135, 80142, 80143, 375056, 375057, 80144, 80145, 80146, 80148, 80149, 80150, 80152, 80153, 80155, 80157, 80161, 80162, 80164, 80167, 80168, 80169, 80173, 80174, 80176, 80177, 80178, 80179, 112950, 80183, 80184, 80185, 80194, 80195, 80196, 80198, 80199, 80201, 80204, 80205, 80206, 80207, 80208, 80209, 80210, 80212, 80213, 80216, 80217, 80218, 80219, 80221, 80222, 80223, 80224, 80227, 80228, 80230, 80231, 80232, 80233, 80235, 80243, 80254, 80255, 80256, 80258, 80262, 80263, 80264, 80267, 80271, 80273, 80279, 440738, 80301, 80303, 80304, 80305, 80306, 80308, 80310, 80316, 80317, 80319, 80321, 80323, 80324, 80328, 80329, 80335, 375248, 80339, 80342, 80344, 80345, 80346, 80347, 80349, 80350, 80351, 80352, 113146, 80380, 342538, 113177, 113178, 375346, 440915, 113251, 146057, 375449, 441024, 113419, 113457, 146227, 80700, 441151, 80704, 80705, 80723, 80724, 80736, 80737, 80739, 80740, 80741, 80742, 80745, 80746, 80755, 80757, 80758, 80760, 80761, 80762, 80763, 80764, 80765, 80772, 80774, 80775, 80776, 80777, 80778, 80781, 80789, 80823, 80830, 80831, 80833, 113612, 80853, 80862, 375790, 80895, 80896, 343071, 80975, 146542, 113791, 146562, 81027, 81029, 81030, 81031, 81033, 81034, 81035, 113835, 113878, 474344, 441601, 146691, 146712, 146754, 114034, 114044, 114049, 81285, 114088, 114112, 376267, 146909, 81490, 81491, 81492, 81493, 81494, 376412, 81501, 81533, 81537, 81539, 81542, 81543, 81544, 81545, 81550, 81551, 81552, 81553, 81554, 81555, 81556, 81558, 114327, 81562, 81563, 81565, 81566, 81569, 81570, 81571, 81575, 81576, 81577, 81578, 81579, 81602, 81603, 81605, 81606, 81608, 81609, 81611, 81614, 81616, 81617, 81618, 81619, 81620, 81621, 81622, 81623, 81624, 81626, 81627, 81628, 81631, 147179, 81669, 81688, 81689, 81691, 81693, 81697, 442186, 442194, 114548, 81790, 81792, 81796, 81797, 147339, 81831, 81833, 81839, 343990, 81847, 81848, 81849, 81850, 81851, 81853, 81854, 81855, 81856, 114625, 81857, 81858, 81870, 81873, 81875, 81876, 81887, 81888, 81890, 81892, 81894, 81926, 81929, 81930, 81931, 81932, 245812, 114791, 114818, 114819, 114876, 114881, 114882, 114883, 114884, 114885, 147657, 114897, 114899, 114908, 114932, 22844, 22845, 22846, 22847, 22848, 22853, 22854, 22858, 22859, 22863, 22866, 22873, 22875, 22876, 22877, 22879, 22880, 22881, 115123, 22884, 22885, 147912, 22887, 22888, 22889, 22890, 246243, 22891, 115201, 115207, 148022, 22909, 22914, 22915, 22916, 148066, 22920, 115353, 22930, 49855, 49856, 49860, 148229, 541578, 22978, 22979, 22980, 22981, 22983, 22984, 246721, 115653, 22987, 22993, 22994, 115703, 115708, 22998, 22999, 23002, 115817, 23022, 23023, 23024, 23025, 23026, 23031, 23033, 23034, 23035, 23036, 55601, 55602, 23042, 115939, 23046, 23048, 55614, 55616, 148753, 23054, 55619, 50485, 50486, 50487, 50488, 50489, 23060, 55626, 23063, 116039, 23064, 50506, 50507, 50508, 50509, 50512, 50514, 50515, 23076, 23077, 23081, 23082, 55647, 116138, 50613, 50615, 50616, 50617, 50618, 50619, 100287932, 55651, 50624, 50626, 83394, 50628, 50632, 55655, 50649, 50650, 55660, 83439, 83440, 50674, 83442, 83443, 83444, 83445, 83446, 83447, 83448, 83449, 83450, 83451, 83452, 83460, 83461, 83463, 83464, 50700, 83468, 83475, 55669, 83478, 83480, 83481, 83482, 83483, 50717, 55671, 116285, 55679, 55681, 149076, 55683, 50804, 50805, 149111, 50807, 50809, 50810, 50813, 50814, 55690, 50831, 50832, 50833, 50834, 50835, 116372, 50836, 50837, 50838, 50839, 50840, 83604, 55695, 50848, 50852, 50853, 50854, 50855, 50856, 50859, 55699, 50861, 50862, 50863, 50865, 55700, 83637, 83638, 55701, 55704, 83658, 55705, 83660, 55706, 55709, 83696, 83700, 50937, 50939, 50940, 55715, 50943, 50944, 83714, 83715, 83716, 116496, 83729, 83734, 83737, 83743, 83744, 83752, 83759, 50999, 51001, 51002, 51003, 51004, 51005, 51006, 51008, 51009, 51011, 51012, 51013, 51014, 51015, 51016, 51018, 51019, 51020, 51021, 51022, 51023, 51024, 51025, 51026, 51027, 51029, 51030, 51031, 51032, 51035, 55734, 55735, 51042, 51043, 51046, 51050, 51052, 51053, 51054, 51056, 55738, 51063, 51065, 51066, 51067, 51068, 51069, 51070, 51071, 51073, 51074, 51075, 51076, 51077, 51078, 51081, 51082, 51083, 51084, 51085, 51086, 51087, 51090, 51092, 51093, 51094, 51096, 51097, 51098, 51099, 51100, 100288413, 51101, 51102, 51103, 51104, 51105, 51106, 51107, 51108, 51109, 51110, 51111, 51112, 51115, 51116, 51117, 51118, 55750, 51121, 51123, 51124, 51125, 51127, 51128, 51129, 51131, 51133, 51134, 51135, 51136, 51138, 51141, 51142, 51143, 51144, 51145, 51146, 51147, 51149, 51150, 51151, 51154, 51155, 51156, 51157, 51160, 51161, 51162, 51163, 51164, 55759, 51167, 51168, 83937, 51170, 51171, 51172, 83941, 51174, 83942, 51176, 51177, 55762, 51179, 23197, 51181, 51182, 55763, 51184, 51185, 51186, 51187, 51188, 83955, 51191, 51192, 51193, 55765, 51195, 51196, 51199, 51200, 51202, 51203, 51204, 51205, 51206, 51207, 51208, 55768, 51213, 51214, 51218, 83988, 83989, 51222, 83990, 51224, 51226, 51227, 51228, 51230, 51231, 51232, 51233, 51236, 51237, 51241, 346157, 55777, 51257, 51265, 51266, 51267, 51268, 84033, 51270, 51271, 51272, 84034, 51274, 51275, 51276, 55781, 51278, 51279, 51280, 51281, 280658, 51282, 51283, 51284, 51285, 51286, 51287, 51289, 51290, 51291, 51292, 51293, 51294, 51295, 116832, 51296, 51297, 149603, 51298, 51299, 51301, 51302, 51303, 51304, 51306, 51307, 51308, 51309, 51310, 51311, 51312, 51313, 51314, 51315, 51316, 51317, 51318, 51319, 51320, 51321, 51322, 149628, 51324, 51327, 51329, 51330, 51332, 51333, 51334, 51335, 51337, 51338, 51339, 51340, 51341, 84107, 51343, 51347, 51348, 51350, 51351, 51352, 84124, 51360, 51361, 51362, 51363, 51364, 51365, 51366, 51367, 51368, 51371, 51372, 51374, 51375, 51377, 51378, 51379, 51380, 84148, 51382, 51384, 51385, 51386, 51388, 51389, 84159, 51393, 84162, 55805, 84164, 51397, 51399, 51400, 84168, 84172, 51409, 51411, 51412, 84179, 84187, 51421, 51422, 84193, 51427, 51428, 84196, 51430, 51433, 51435, 51438, 51439, 51440, 51441, 51442, 51444, 55815, 51447, 116984, 116985, 116986, 116987, 51449, 51450, 51451, 51454, 51455, 84223, 51458, 55818, 51460, 51465, 51466, 51471, 51474, 51475, 84243, 51477, 51478, 51479, 51480, 84253, 51490, 51491, 51493, 51495, 84263, 51497, 51499, 84268, 51501, 84271, 51504, 84272, 51506, 51507, 51510, 51512, 51513, 51514, 641339, 51517, 55830, 51520, 84288, 51526, 84296, 55832, 84298, 51531, 51533, 84301, 84302, 51540, 51542, 51547, 51548, 51550, 51552, 51554, 51555, 51557, 51559, 51560, 51561, 51562, 51564, 55839, 51566, 51567, 51569, 51571, 51573, 51574, 51575, 51582, 51585, 51586, 55843, 51588, 55844, 51592, 51593, 51594, 51596, 84364, 51599, 51601, 51603, 51604, 55847, 51606, 51611, 51614, 51616, 117153, 51617, 51619, 51621, 51626, 51631, 51634, 51635, 51637, 117178, 51642, 51643, 51646, 51647, 346562, 51650, 51651, 51652, 51654, 51657, 51659, 51660, 51663, 51665, 51666, 55859, 51668, 51669, 84436, 51673, 84444, 51678, 55862, 149986, 55863, 51686, 51690, 51691, 51693, 51696, 51700, 51701, 51702, 51703, 51704, 51705, 51706, 55867, 117246, 117247, 51710, 51714, 51715, 51716, 51719, 51720, 55870, 51725, 51727, 51728, 51729, 51733, 51734, 51741, 51742, 51744, 51747, 84516, 51750, 51751, 51752, 55876, 51754, 51755, 84525, 51759, 51760, 51761, 51762, 51763, 51764, 51765, 51768, 51773, 51776, 51778, 51780, 84549, 150094, 84560, 84561, 55885, 51805, 51806, 51807, 51809, 51816, 55890, 55893, 84612, 84617, 84619, 150160, 84656, 84658, 55905, 84669, 55906, 84679, 84695, 84705, 150244, 55914, 55915, 84720, 84722, 84726, 84733, 84747, 55922, 84759, 84779, 84790, 84804, 84809, 84818, 84820, 84823, 84830, 84851, 84859, 84861, 84864, 84869, 84890, 445347, 84900, 84901, 84908, 84909, 84914, 84928, 84934, 84939, 84942, 84951, 55966, 84975, 84981, 55968, 84986, 84991, 85002, 85021, 347240, 100289678, 56000, 150726, 347344, 85236, 85294, 56034, 85352, 85359, 85360, 85363, 85377, 150967, 85446, 85452, 85453, 85458, 85459, 151011, 85476, 85477, 642559, 151050, 642636, 347733, 118433, 151230, 347853, 118491, 347902, 100093698, 56124, 56132, 85865, 56154, 56155, 56163, 56171, 100126791, 53335, 53339, 53340, 53343, 53346, 53347, 53353, 53358, 53371, 53373, 643224, 53405, 53407, 282808, 118987, 643376, 53615, 53616, 53630, 53635, 53637, 151987, 152006, 152015, 283131, 643641, 53820, 53822, 53826, 53827, 53829, 53832, 283212, 53836, 53838, 53841, 283232, 152185, 56300, 53904, 53905, 53916, 53918, 53919, 283298, 56311, 53942, 53944, 53947, 283345, 54014, 54020, 643854, 54039, 54069, 283450, 283459, 348995, 54093, 54101, 54103, 54107, 54112, 54148, 54149, 283537, 54165, 54187, 54205, 54207, 54209, 54210, 54221, 349152, 644068, 152559, 283638, 644096, 283683, 54328, 54329, 54332, 54344, 54345, 54346, 54360, 54361, 54363, 283755, 54386, 54407, 54413, 54431, 54432, 54433, 54434, 54436, 54438, 54440, 54442, 54453, 54454, 54455, 54457, 54458, 54462, 54463, 54465, 54466, 54468, 54469, 414918, 54470, 54471, 54472, 54474, 54475, 54476, 54477, 54478, 54480, 54482, 54487, 54490, 54491, 54494, 283871, 54496, 54498, 54499, 54502, 54503, 54504, 54505, 54507, 54509, 54512, 54514, 54516, 54517, 54518, 54520, 54521, 54529, 54531, 54532, 54535, 54537, 54538, 54539, 54540, 54541, 54542, 54544, 54545, 54546, 54549, 54550, 283927, 54551, 54552, 54555, 54556, 54558, 54566, 54581, 54583, 54584, 54585, 54587, 54596, 54606, 54619, 54621, 54622, 54623, 284001, 54626, 54629, 284021, 54662, 54663, 54664, 54665, 54674, 54676, 54677, 54680, 54681, 54682, 152992, 120227, 54700, 54704, 54707, 54708, 54714, 54715, 54716, 54718, 54726, 54732, 54733, 54737, 54738, 54739, 54741, 284119, 54752, 54758, 54762, 54765, 54766, 54768, 54769, 54777, 54778, 54780, 54784, 54785, 54788, 54793, 54795, 54796, 54797, 54798, 54799, 54800, 54801, 54802, 54805, 54806, 54807, 54808, 54809, 54810, 54811, 54812, 54813, 54814, 54815, 54816, 54819, 54820, 54821, 54825, 54826, 54827, 54828, 54829, 54830, 54831, 54832, 54834, 54836, 54838, 54839, 54840, 284217, 54842, 54843, 54845, 54847, 54848, 54849, 54850, 54851, 54852, 54853, 54854, 54855, 54856, 54857, 54858, 54859, 54860, 54861, 54862, 54863, 54865, 54866, 54867, 54868, 54869, 54870, 54872, 54873, 54874, 54875, 54876, 54877, 54878, 54879, 54880, 54881, 54882, 54883, 54884, 54885, 54886, 284266, 54891, 54892, 54893, 54894, 54896, 54897, 54898, 54900, 54901, 54902, 54903, 54904, 54905, 54906, 54908, 54910, 54914, 54915, 54916, 54918, 54919, 54920, 54922, 54925, 54927, 54928, 54929, 54930, 54932, 54934, 54937, 54938, 54939, 54941, 54942, 54943, 54946, 54948, 284325, 54951, 54952, 54953, 54954, 54955, 54956, 54957, 54958, 54959, 54960, 54961, 54962, 54963, 54964, 54967, 54968, 54969, 54970, 54971, 54972, 54973, 54974, 284352, 54976, 54977, 54978, 54979, 54980, 54981, 54982, 54985, 54986, 54987, 54988, 54989, 120526, 54991, 54993, 54994, 54995, 54996, 54997, 54998, 55000, 55001, 55002, 55003, 55005, 55006, 55007, 55008, 55009, 55010, 55011, 55012, 55013, 55014, 55015, 55016, 55018, 55020, 55022, 55023, 55024, 55026, 284403, 55027, 55028, 55030, 55031, 55032, 55033, 55034, 55035, 55036, 55037, 55038, 55039, 55040, 55041, 55048, 55049, 55051, 55052, 55054, 55055, 55057, 55061, 55062, 284439, 55063, 55064, 55065, 284443, 55066, 55068, 55069, 55070, 55071, 55072, 55073, 55074, 55076, 55079, 55080, 55081, 55082, 55083, 55084, 55086, 55088, 55089, 55090, 55092, 55093, 55094, 55095, 55096, 55100, 55101, 55102, 55103, 55105, 55106, 55107, 55108, 55109, 55110, 55111, 55112, 55113, 55114, 55116, 55117, 55118, 55119, 55120, 55124, 55125, 55127, 55128, 55129, 55130, 55131, 55133, 55135, 55138, 55139, 55140, 55142, 55143, 55144, 55145, 55146, 55147, 55148, 55149, 55151, 55152, 55153, 55156, 55157, 55159, 55160, 55161, 55163, 55164, 55165, 55166, 55167, 100128640, 55168, 55171, 55172, 55173, 55175, 55176, 55177, 55178, 55179, 55180, 55181, 55182, 55183, 55184, 55186, 55187, 55188, 55190, 55191, 55192, 55193, 55194, 55195, 55196, 55197, 55198, 55199, 55200, 55201, 55203, 55204, 55205, 55206, 55207, 55208, 55209, 55210, 55211, 55212, 55213, 55214, 55215, 55216, 55217, 55218, 55219, 55220, 55222, 55223, 55224, 55225, 55226, 55227, 55228, 55229, 55233, 55234, 55236, 55237, 55238, 55239, 55240, 55243, 55244, 55245, 55246, 55247, 55248, 55249, 55251, 55252, 55253, 55254, 55255, 55256, 55257, 55258, 55259, 55260, 55262, 55266, 55267, 55268, 55269, 55270, 55272, 284649, 55273, 55274, 55275, 55277, 55278, 55279, 55280, 55281, 55282, 55283, 55284, 55285, 55286, 55287, 55288, 55289, 55290, 55291, 55293, 55294, 55295, 55296, 55297, 55298, 55299, 55301, 55303, 55304, 55308, 55311, 55312, 55313, 55314, 55315, 55316, 55317, 55319, 55320, 55321, 55322, 55323, 55324, 55325, 55326, 55327, 55328, 55329, 55332, 55333, 55334, 55335, 55336, 55337, 55339, 55340, 55341, 55343, 55344, 55346, 55347, 55351, 55353, 55355, 55357, 55359, 55361, 55364, 55365, 55366, 55367, 55374, 55379, 55384, 55388, 55421, 55422, 55423, 284800, 55425, 55432, 55435, 55450, 55454, 55466, 121006, 55471, 55486, 219333, 55500, 55501, 55503, 317648, 55505, 55506, 55507, 55508, 55509, 55510, 55511, 55512, 55515, 317662, 55520, 55521, 55526, 284904, 55532, 55534, 55539, 55540, 55544, 55554, 55556, 55558, 55559, 22794, 22795, 22796, 22797, 22798, 55565, 22800, 55567, 22802, 55568, 55573, 22806, 22807, 22808, 22809, 55576, 55577, 55578, 55584, 55585, 22818, 22820, 22821, 22822, 22823, 22824, 55589, 22826, 22827, 22828, 22829, 55591, 55592, 22832, 55596, 22834, 55603, 55604, 22835, 22836, 55607, 55608, 22837, 55610, 55611, 55612, 55613, 22838, 55615, 22839, 55617, 22841, 22843, 55620, 55621, 55622, 55623, 55624, 55625, 22849, 22850, 55628, 22852, 55630, 55631, 22856, 55633, 55634, 55635, 55636, 22861, 55638, 22862, 55640, 22864, 22865, 55643, 55644, 22868, 22869, 22870, 22871, 22872, 55650, 22874, 55652, 55653, 55654, 22878, 55656, 55657, 55658, 22882, 22883, 55661, 55662, 55663, 55664, 55665, 55666, 55667, 55668, 22893, 55670, 22894, 22895, 22897, 22898, 22899, 22900, 22902, 22903, 22904, 55680, 22905, 22906, 22907, 55684, 22908, 55686, 55687, 22911, 55689, 22913, 55691, 55692, 55693, 22918, 22919, 55696, 55697, 22921, 22924, 22925, 22926, 55702, 55703, 22927, 22928, 22929, 55707, 22932, 22933, 22934, 22936, 22937, 22938, 55714, 22941, 22943, 22944, 22948, 22950, 55711, 55713, 22953, 22954, 22955, 55716, 55717, 55718, 55719, 55720, 55721, 55722, 55723, 55726, 55727, 55729, 55731, 55732, 55733, 55739, 55740, 55741, 55742, 55743, 55744, 55745, 55737, 22974, 55748, 22976, 22977, 55751, 55752, 55753, 55754, 55755, 55756, 55757, 55758, 22982, 55760, 55761, 22985, 22986, 55764, 22989, 55766, 22990, 22992, 55769, 55770, 55771, 22995, 22996, 22997, 55775, 55776, 23001, 55778, 55779, 23005, 23007, 23008, 100129250, 23011, 23012, 23013, 23014, 23015, 23016, 55790, 55791, 23017, 55793, 23019, 55795, 55796, 23020, 55798, 55799, 55800, 55801, 55802, 55803, 23028, 23029, 55806, 23030, 100129271, 23032, 55810, 55811, 55812, 55813, 23037, 23038, 23039, 23040, 23041, 55819, 23043, 55821, 219654, 55823, 23047, 55825, 23049, 55827, 23051, 23052, 23053, 55831, 23057, 55833, 285203, 55835, 23059, 55837, 23061, 23062, 55840, 55841, 23065, 23066, 23067, 23070, 23071, 23072, 55848, 23074, 55850, 23075, 55852, 55853, 55854, 23078, 55856, 23080, 645682, 55858, 55860, 23085, 23086, 285231, 23089, 23090, 219699, 23091, 23092, 23093, 23094, 23095, 55872, 23096, 23097, 23099, 23101, 23102, 23105, 23107, 23108, 23109, 23111, 23112, 23113, 23114, 23116, 23117, 23118, 23119, 23120, 55891, 55892, 55884, 23122, 55888, 23125, 23126, 55898, 23127, 55900, 23129, 23130, 23131, 23132, 23133, 23135, 55907, 55908, 55909, 23136, 55911, 23137, 23138, 23139, 23140, 55916, 23141, 23142, 23143, 23144, 645745, 23148, 23149, 55924, 23150, 23151, 23152, 23154, 23155, 55930, 23157, 23158, 23160, 23161, 23162, 23163, 55937, 23164, 23165, 23166, 23167, 23168, 23169, 23170, 23171, 23172, 23173, 23174, 23175, 23176, 23177, 23178, 23179, 23180, 23181, 23185, 55957, 55958, 23186, 645784, 23187, 55954, 23189, 23190, 23191, 23192, 23193, 23194, 55969, 55970, 23195, 55972, 55973, 55974, 55975, 23199, 23200, 23201, 23203, 23204, 23205, 23207, 23208, 23209, 23210, 23211, 23212, 23213, 23214, 23215, 23216, 23217, 23218, 23219, 100129460, 23220, 23221, 23223, 23224, 23225, 56001, 23228, 23229, 23230, 56005, 56006, 23231, 23232, 23233, 23234, 23235, 23236, 23237, 23239, 23240, 23241, 100129482, 23242, 23243, 23244, 23245, 23246, 23247, 23248, 23250, 23251, 23252, 23253, 23254, 23255, 23256, 23258, 23259, 23261, 23262, 23263, 23264, 23265, 23266, 56033, 23268, 23269, 23270, 23271, 23272, 23274, 23275, 23276, 23277, 23279, 23281, 23283, 23284, 23285, 23286, 23287, 23288, 23291, 23293, 23294, 23295, 56061, 56062, 23299, 23300, 23301, 23302, 23303, 23304, 23305, 23306, 23307, 23308, 23309, 23310, 23312, 23313, 23314, 23315, 23316, 23317, 23318, 23321, 23322, 23324, 23325, 23326, 23327, 23328, 23329, 23331, 23332, 23333, 23334, 23335, 23336, 56100, 23338, 23339, 56101, 23341, 56106, 56107, 23344, 23345, 56114, 56112, 23347, 23348, 23349, 23350, 23351, 23352, 23353, 23354, 23355, 56125, 56123, 23357, 56128, 23358, 56130, 23359, 23360, 23361, 23362, 23363, 23365, 23366, 23367, 23368, 23369, 23370, 23371, 23373, 56139, 56145, 56146, 56142, 23376, 56143, 23378, 23379, 23380, 23381, 23382, 23383, 56156, 56157, 56158, 56159, 23384, 23385, 23386, 23387, 23389, 56165, 23390, 23392, 23394, 23395, 23396, 23397, 56172, 23398, 23399, 23400, 23401, 23403, 23404, 23405, 23406, 23408, 23409, 23410, 23411, 23412, 23413, 23414, 23415, 56180, 23417, 23418, 23421, 23423, 23424, 23426, 23428, 23429, 23430, 23431, 23432, 23433, 23434, 23435, 23436, 23438, 23439, 23443, 23446, 23450, 23451, 23452, 285596, 23457, 23460, 23461, 23462, 23463, 23464, 23466, 23467, 23468, 23469, 23471, 23473, 23474, 23475, 23476, 56242, 23478, 23479, 23480, 23481, 56244, 23483, 23484, 56245, 56252, 56253, 56255, 56257, 23491, 23492, 23493, 219595, 56259, 23495, 56260, 23498, 23499, 23500, 56267, 56270, 56271, 56269, 23503, 23504, 23505, 23506, 23507, 23508, 23509, 23510, 23511, 23512, 23513, 23514, 23515, 23516, 23517, 23518, 56287, 56288, 23521, 23522, 23523, 23524, 220134, 23526, 285672, 23527, 23528, 23529, 56301, 56302, 23530, 23531, 23532, 23533, 23534, 23536, 23538, 23539, 23541, 23542, 23543, 23544, 23545, 23546, 23547, 23548, 23549, 23550, 23552, 23553, 23554, 23555, 23556, 23558, 23560, 23562, 23563, 23564, 23566, 23568, 23569, 56339, 56341, 56342, 23576, 56344, 23580, 23583, 23585, 23586, 23587, 23588, 154661, 23589, 23590, 23591, 23592, 23593, 23594, 23595, 23596, 23597, 23598, 23600, 23601, 23603, 23604, 23607, 23608, 23609, 285755, 23612, 23613, 23614, 23615, 23616, 23617, 23619, 23620, 23621, 23623, 23624, 23626, 23627, 23629, 23632, 23633, 23635, 23636, 23637, 23639, 23640, 23641, 23643, 23644, 23645, 23646, 23647, 23648, 23649, 23650, 23654, 23657, 23658, 23659, 23660, 23670, 23673, 23676, 23677, 23682, 23683, 285830, 646282, 23704, 23705, 56474, 56475, 23708, 23710, 56478, 154796, 23742, 23743, 23746, 23753, 56521, 23759, 23760, 23761, 23762, 23764, 23765, 23767, 23768, 23769, 23770, 253143, 23774, 56547, 23780, 56548, 23786, 23787, 23788, 154881, 253190, 56603, 56605, 56606, 56616, 56623, 56647, 56648, 56649, 56650, 56652, 56654, 56656, 56659, 56660, 56667, 56672, 56673, 56674, 56675, 56676, 56681, 56683, 56729, 56731, 220594, 155060, 155066, 286148, 286205, 56829, 56833, 56834, 56848, 56851, 253461, 100130331, 56882, 56886, 56888, 56889, 56890, 56891, 56892, 56893, 56894, 56895, 56897, 56898, 56899, 56901, 56902, 56903, 253512, 24137, 24138, 24139, 24140, 24141, 24142, 56904, 24144, 24145, 24146, 24147, 24148, 24149, 56910, 56911, 56912, 56913, 56914, 56915, 56918, 56920, 56922, 56924, 56905, 56925, 56926, 56929, 56906, 56934, 56935, 56936, 56937, 56938, 56940, 56941, 56942, 56943, 56944, 56945, 56946, 56947, 56948, 56949, 56950, 56951, 56953, 56954, 56955, 56957, 56965, 56967, 56969, 56978, 56979, 56980, 56981, 56983, 56984, 56985, 56986, 56987, 56992, 56993, 56994, 56995, 56996, 56997, 56998, 56999, 57001, 57003, 57007, 89781, 57016, 57017, 57018, 57019, 57020, 89795, 89797, 57030, 57035, 57037, 57038, 57045, 57047, 57048, 57050, 57053, 57060, 57062, 286451, 89845, 122616, 57082, 57084, 89853, 57088, 57089, 57091, 57092, 155400, 57096, 57097, 57099, 57101, 57102, 57103, 57104, 57105, 89870, 57107, 89874, 57109, 57110, 57111, 57113, 57115, 57116, 57117, 57118, 57119, 57122, 57124, 220965, 57125, 57126, 57127, 57128, 57130, 220972, 57132, 57134, 57136, 57140, 57142, 89910, 57144, 57146, 57147, 220988, 57148, 57149, 57150, 57151, 57152, 57154, 57157, 57158, 89927, 57161, 57162, 57165, 122704, 57171, 57172, 89941, 253782, 57175, 89944, 57178, 57180, 57185, 57187, 57188, 57192, 57194, 221037, 57198, 57205, 57209, 57211, 57212, 57213, 57214, 57215, 221061, 57223, 57226, 57228, 221078, 221092, 57282, 221154, 57326, 57332, 57333, 253943, 57335, 57336, 57337, 57338, 57343, 57348, 253959, 90121, 57369, 253980, 90141, 253982, 57379, 57380, 57396, 57402, 57403, 57404, 57405, 57406, 57408, 57415, 57418, 57419, 90199, 90204, 57446, 57447, 57460, 647288, 90233, 57466, 57468, 57470, 57472, 57473, 57476, 100130958, 57493, 254102, 57496, 57498, 57502, 90273, 57506, 57509, 57513, 57515, 57523, 57535, 57538, 57551, 57553, 221395, 57556, 90326, 57559, 90333, 57570, 90338, 57572, 57573, 57576, 57579, 57586, 90355, 57591, 90362, 57596, 57597, 57599, 57602, 221443, 57604, 57608, 57610, 90379, 57613, 57615, 57626, 221472, 57634, 90410, 90411, 57644, 57645, 57658, 57663, 57664, 57665, 57669, 57680, 57698, 57706, 57707, 57710, 57711, 90480, 57715, 57716, 90485, 57718, 57720, 57728, 57731, 57733, 254359, 90522, 57758, 57761, 57763, 254394, 57787, 57794, 57795, 57798, 57799, 57804, 57805, 57817, 57818, 57819, 57820, 57821, 90586, 57823, 57824, 57826, 57827, 57828, 57830, 57834, 57835, 221692, 90627, 57862, 57863, 90634, 90665, 221749, 254531, 221823, 221830, 90806, 90861, 90864, 90865, 221960, 221981, 58155, 58157, 58158, 90956, 58189, 58190, 90957, 90993, 123803, 353189, 100131755, 222161, 123872, 91120, 100131825, 91137, 353299, 222255, 255057, 91227, 58472, 58473, 58477, 58478, 58483, 58486, 58487, 58488, 58494, 58495, 58497, 58498, 58500, 58503, 58504, 124044, 58509, 58510, 58511, 58513, 58516, 58517, 91289, 58525, 25758, 58526, 58528, 58529, 58530, 25763, 91298, 58533, 91300, 91304, 25769, 25770, 25771, 25775, 25776, 25777, 25778, 25780, 25782, 25786, 25787, 25788, 25789, 25790, 25792, 25793, 25794, 25796, 25797, 25799, 25800, 25801, 25802, 25803, 25804, 25805, 25806, 25807, 25809, 25813, 25814, 25816, 25818, 25819, 353500, 25820, 25821, 25822, 25823, 25825, 91355, 25827, 25828, 25829, 25830, 25833, 353514, 25834, 25836, 25837, 91369, 25839, 25840, 25841, 25842, 25843, 25844, 91373, 25847, 124152, 25849, 25850, 25852, 25854, 25855, 25858, 25859, 25861, 25862, 25864, 25865, 25873, 25874, 25875, 25876, 317762, 25878, 222487, 25880, 25879, 25888, 25890, 25891, 25893, 25895, 25896, 25897, 25898, 25900, 25901, 25903, 25906, 25907, 91442, 25909, 91445, 25913, 25915, 124222, 25920, 25924, 25926, 25928, 25932, 25936, 25937, 25939, 25940, 25941, 25945, 25948, 25949, 25950, 25956, 25957, 25959, 25960, 25961, 25963, 25966, 25970, 25972, 317781, 25974, 25975, 25976, 25977, 25978, 25979, 25980, 25983, 25984, 25987, 25988, 25992, 25994, 25996, 25998, 25999, 26000, 26001, 26002, 26003, 26005, 26007, 91543, 26009, 26010, 26011, 26012, 26013, 26015, 26017, 26018, 26019, 26020, 26024, 26027, 26030, 26031, 26032, 26033, 222642, 26034, 26035, 26036, 26037, 26038, 26039, 26040, 26043, 26046, 26047, 26048, 26049, 222658, 26050, 26052, 26053, 26054, 222663, 26056, 26057, 26058, 26059, 26060, 26063, 26064, 26065, 26071, 26073, 26082, 26083, 26084, 26085, 26088, 26091, 26092, 26093, 26094, 26097, 26098, 26099, 26100, 100132341, 26103, 26108, 91646, 91647, 26112, 26115, 26118, 26119, 26121, 26123, 26128, 26130, 26133, 26135, 26136, 26137, 26138, 26140, 26145, 26146, 91683, 26148, 26150, 26151, 26152, 26154, 26155, 26156, 55746, 100132406, 26168, 26173, 386627, 26184, 26189, 26190, 26191, 26205, 26206, 26207, 91746, 26211, 26212, 91752, 58985, 58986, 91754, 26225, 26226, 26227, 26228, 26229, 26230, 26232, 26233, 26234, 26235, 100132476, 26239, 26240, 91775, 91782, 26249, 26251, 26253, 26255, 26256, 26257, 124565, 26261, 26263, 26266, 26268, 26271, 26272, 26273, 91807, 26275, 26276, 26277, 26278, 124583, 26279, 26280, 26281, 26284, 26285, 26286, 26287, 26289, 26290, 26291, 26292, 26297, 26298, 59067, 285282, 91851, 91860, 26330, 26333, 26353, 26354, 26355, 91949, 91966, 255812, 91977, 26468, 26469, 26470, 26471, 26472, 26476, 92017, 23196, 157567, 124801, 26499, 59269, 26502, 26503, 26504, 26505, 59272, 26507, 26508, 223117, 26509, 26511, 26512, 26517, 59286, 26519, 26520, 26521, 26523, 26525, 26528, 26529, 26531, 26532, 26538, 26539, 59307, 23198, 26548, 255926, 92086, 157627, 59335, 59336, 92104, 59338, 59339, 59340, 59341, 26574, 26575, 26576, 26577, 26578, 59342, 26580, 59343, 59344, 26583, 387032, 26585, 26586, 59348, 59349, 26589, 59351, 59353, 92140, 26608, 157680, 26610, 92154, 157697, 387082, 92170, 26648, 26658, 26659, 26664, 256051, 92211, 100132923, 26692, 26707, 92249, 26716, 26747, 26750, 26751, 125058, 26762, 157869, 92335, 92342, 92346, 157922, 256227, 26872, 26873, 92482, 92483, 26952, 26953, 26959, 26960, 26973, 26984, 26986, 256364, 26993, 26994, 26998, 26999, 27000, 27004, 27005, 27006, 27010, 27012, 27013, 92552, 27018, 27019, 27020, 27022, 27023, 92558, 27030, 27032, 27033, 27034, 27035, 27036, 27037, 27039, 27042, 27043, 27044, 92579, 92595, 387509, 27063, 27065, 27067, 27068, 27069, 27071, 27072, 92609, 27074, 27075, 27076, 27077, 27079, 27087, 27089, 27090, 27091, 27092, 27094, 27095, 27097, 27098, 27101, 27102, 27107, 27109, 27112, 27113, 27115, 55784, 27120, 27121, 27122, 27123, 27124, 27125, 27128, 27129, 27130, 27131, 27132, 27134, 27136, 55785, 27147, 92689, 27156, 27158, 27159, 27161, 27163, 27165, 92703, 55786, 27173, 27175, 27178, 27179, 27180, 27181, 27183, 27185, 27190, 55787, 27202, 55788, 27229, 27230, 27231, 27232, 27235, 27236, 27237, 27238, 27239, 27240, 27241, 27242, 27243, 27244, 27245, 27246, 27247, 27249, 27250, 27252, 27253, 27254, 27255, 27257, 27258, 387707, 92815, 27284, 27285, 27286, 27287, 27288, 27289, 27290, 27291, 27292, 27293, 92822, 27295, 27296, 27297, 27299, 27300, 27301, 27302, 387751, 27303, 27304, 27306, 27309, 27314, 27315, 27316, 92856, 27324, 27328, 27329, 27330, 27332, 27333, 27334, 27335, 27336, 27338, 27339, 27340, 27341, 27343, 27344, 27345, 27346, 27347, 27348, 27349, 27350, 27351, 27352, 158471, 27429, 27430, 27434, 27436, 27440, 387893, 27445, 158586, 285527, 60312, 60313, 60314, 93081, 256949, 60343, 125893, 93129, 60370, 256987, 60385, 93164, 60401, 60436, 93210, 158747, 60467, 60468, 126017, 60481, 60482, 60484, 60485, 60487, 60488, 60489, 60490, 60491, 60492, 60493, 60494, 60495, 60496, 60506, 60509, 60526, 60528, 60529, 126070, 60558, 60559, 60560, 60561, 93349, 60598, 60625, 60626, 93408, 93436, 126208, 60672, 60673, 60676, 60681, 60682, 60684, 60685, 60686, 55816, 126231, 93487, 126298, 126299, 126321, 257407, 126353, 93594, 126393, 159162, 93643, 388567, 388569, 93664, 388650, 28227, 388677, 28231, 28232, 28234, 28316, 83786, 93973, 388886, 93974, 192286, 100134713, 94025, 94026, 28511, 28513, 388969, 94081, 94104, 94134, 552889, 389136, 94239, 389177, 192666, 553115, 192669, 192670, 192683, 159963, 28951, 28952, 28954, 28955, 28956, 28957, 28958, 28959, 28960, 28962, 28964, 28965, 28966, 28968, 28969, 28971, 28972, 28973, 28974, 28977, 28978, 28981, 28983, 28984, 28985, 28986, 28990, 28992, 28996, 28998, 28999, 29015, 29018, 29028, 29058, 29062, 29063, 29066, 29068, 29071, 29072, 29074, 29075, 29078, 29079, 29080, 29081, 29082, 29083, 29086, 29087, 29088, 29091, 29092, 29093, 29094, 29095, 29097, 29099, 29100, 29102, 29103, 29104, 29105, 29106, 29107, 29108, 29109, 29110, 29113, 29114, 29115, 29116, 29117, 29118, 29119, 29121, 29122, 29123, 29124, 29125, 29127, 389677, 127534, 127544, 389715, 127703, 389856, 160518, 389898, 127833, 619505, 84059, 84060, 84061, 84065, 29760, 29761, 29763, 29766, 29767, 29774, 29775, 29777, 29780, 29781, 29789, 29796, 259173, 29798, 29799, 29802, 29803, 84079, 259197, 259217, 29842, 29844, 29851, 259230, 29855, 29880, 29881, 29882, 29883, 29887, 29888, 29889, 259266, 29890, 29893, 29894, 29895, 29896, 29899, 29901, 29902, 29903, 29906, 29909, 29911, 29914, 29915, 29916, 29919, 29922, 29923, 29924, 29926, 29927, 29928, 29929, 29930, 29933, 29935, 29937, 29940, 29942, 29943, 29944, 29946, 29947, 29948, 29949, 29951, 29953, 29954, 29956, 29957, 29959, 29960, 29965, 29966, 29967, 29968, 29969, 29974, 29978, 29980, 29982, 29984, 29986, 29988, 29990, 29991, 29992, 29994, 29995, 29997, 29998, 29999, 30000, 30001, 30008, 30009, 30012, 30062, 95681, 390616, 128553, 63035, 63036, 390892, 390940, 390999, 653188, 653238, 129025, 129080, 100137047, 30811, 30813, 30814, 30817, 30819, 30820, 30827, 30833, 30835, 30836, 30837, 30844, 30845, 30846, 30848, 30849, 30850, 30851, 653483, 30968, 63826, 63827, 96626, 63874, 63875, 63876, 63877, 63891, 63892, 63893, 63894, 63895, 63897, 63898, 63899, 63901, 63904, 63906, 63910, 63916, 63917, 63920, 63923, 63924, 63925, 63926, 63928, 63929, 63931, 63932, 63933, 63934, 63935, 63940, 63941, 63943, 653784, 63967, 63970, 63971, 63973, 63974, 63976, 63978, 63982, 653808, 96764, 64061, 64062, 64063, 64064, 64065, 64066, 64067, 64077, 64078, 64080, 64081, 64083, 64084, 64087, 64089, 64091, 64092, 64096, 64097, 64100, 64102, 129642, 64106, 64108, 64109, 64110, 64111, 64112, 64114, 64116, 64118, 64121, 64122, 162427, 64123, 64127, 64129, 64130, 64131, 64132, 64135, 64137, 64149, 64151, 64167, 64170, 64172, 64174, 64175, 64180, 64184, 64208, 64210, 64211, 64215, 64216, 64218, 64219, 64220, 64221, 64222, 64223, 64231, 64232, 64236, 64240, 64283, 64284, 64285, 64288, 64318, 64319, 64320, 64321, 64324, 64328, 64342, 64343, 64344, 64359, 64374, 64375, 64376, 64377, 64386, 64388, 64393, 64395, 64397, 64398, 64400, 64405, 64410, 64411, 64417, 64418, 64419, 64421, 64422, 64423, 64425, 64427, 64428, 64429, 64430, 64431, 64446, 64499, 64506, 130074, 64577, 64579, 64581, 64582, 64595, 64598, 64600, 64601, 654434, 64641, 64663, 162972, 64682, 64689, 64693, 64699, 64708, 64710, 64714, 64718, 64743, 64745, 64746, 64747, 64748, 64750, 64754, 64755, 64757, 64759, 64760, 64761, 64762, 64763, 64764, 64766, 64768, 64769, 64771, 64772, 64776, 64777, 64778, 64779, 64780, 64781, 64782, 64783, 64784, 64785, 64786, 64787, 64788, 64789, 64792, 64793, 64794, 64795, 64798, 64799, 64800, 64806, 64816, 163131, 64834, 64837, 64838, 64840, 64844, 64847, 64848, 64849, 64850, 64852, 64853, 64854, 64856, 64858, 64859, 64860, 64863, 64864, 64866, 64895, 64897, 64901, 64919, 64921, 64922, 64924, 64925, 64927, 64940, 64943, 64960, 64963, 64975, 64976, 64981, 654817, 65003, 65005, 65009, 65010, 65012, 65018, 65055, 65057, 65080, 65082, 65083, 65084, 65094, 65095, 65108, 65109, 65110, 65117, 261726, 65123, 65124, 65125, 261734, 163486, 65220, 65243, 65244, 65250, 100499177, 65258, 65260, 65263, 65264, 65265, 130814, 196403, 196441, 130916, 196483, 26051}\n",
      "{2, 9, 10, 12, 13, 14, 15, 16, 18, 19, 20, 21, 22, 23, 24, 25, 26, 27, 28, 29, 30, 31, 32, 33, 34, 35, 36, 37, 38, 39, 40, 41, 43, 47, 48, 49, 50, 51, 52, 53, 54, 55, 56, 58, 59, 60, 70, 72, 81, 86, 87, 88, 89, 90, 91, 92, 93, 94, 97, 98, 100, 101, 102, 103, 104, 105, 107, 108, 109, 112, 113, 114, 115, 116, 117, 118, 119, 120, 123, 124, 125, 126, 128, 130, 131, 132, 133, 134, 196740, 136, 196743, 140, 141, 142, 143, 146, 147, 148, 150, 151, 152, 153, 154, 155, 156, 157, 158, 159, 161, 162, 163, 164, 165, 166, 167, 173, 174, 175, 176, 177, 178, 181, 182, 183, 185, 186, 187, 189, 190, 191, 196, 197, 199, 202, 203, 204, 205, 207, 208, 210, 211, 212, 213, 214, 215, 216, 217, 218, 219, 220, 221, 222, 223, 224, 225, 226, 229, 230, 231, 238, 239, 240, 241, 242, 246, 247, 248, 249, 250, 251, 257, 258, 259, 262, 265, 266, 267, 268, 269, 270, 271, 272, 273, 274, 275, 283, 284, 285, 286, 287, 288, 290, 291, 292, 293, 301, 302, 304, 306, 307, 308, 309, 310, 311, 312, 313, 314, 316, 317, 318, 319, 320, 321, 322, 323, 324, 325, 326, 327, 328, 329, 330, 331, 332, 333, 334, 335, 131408, 336, 337, 338, 339, 341, 343, 344, 345, 347, 348, 350, 351, 353, 354, 355, 356, 357, 358, 359, 360, 361, 362, 363, 364, 366, 367, 368, 369, 372, 373, 374, 375, 377, 378, 379, 381, 382, 383, 384, 196993, 387, 388, 389, 390, 391, 392, 393, 394, 395, 396, 397, 398, 399, 400, 401, 402, 403, 405, 406, 407, 408, 409, 410, 411, 412, 414, 415, 416, 417, 419, 420, 421, 427, 429, 430, 432, 433, 434, 435, 438, 439, 440, 443, 444, 445, 65979, 65980, 65981, 65982, 65983, 65985, 65986, 65987, 65989, 65990, 65992, 65993, 460, 65996, 462, 463, 65997, 65999, 466, 467, 468, 66002, 471, 131544, 472, 473, 474, 475, 476, 477, 478, 479, 481, 482, 483, 486, 487, 488, 489, 490, 491, 492, 493, 131566, 495, 496, 498, 66035, 66036, 501, 131578, 506, 509, 513, 514, 515, 516, 517, 518, 521, 522, 523, 525, 526, 527, 528, 131601, 529, 533, 535, 537, 538, 539, 540, 545, 546, 547, 549, 550, 551, 552, 553, 554, 558, 563, 566, 567, 570, 571, 572, 573, 575, 576, 577, 578, 579, 580, 581, 582, 585, 586, 587, 590, 593, 594, 595, 596, 597, 598, 599, 602, 604, 605, 607, 608, 610, 611, 613, 617, 622, 623, 627, 629, 631, 633, 634, 635, 636, 637, 638, 639, 640, 641, 642, 643, 644, 645, 646, 648, 649, 650, 651, 652, 653, 654, 655, 656, 657, 658, 659, 660, 661, 662, 663, 664, 665, 666, 667, 668, 669, 670, 671, 672, 673, 675, 676, 677, 678, 680, 682, 683, 684, 685, 686, 687, 688, 689, 694, 695, 696, 699, 701, 705, 706, 708, 710, 197320, 712, 713, 715, 716, 717, 718, 719, 722, 725, 726, 727, 728, 729, 730, 731, 732, 733, 734, 735, 738, 740, 741, 744, 745, 746, 747, 750, 752, 753, 754, 755, 757, 758, 759, 760, 761, 762, 763, 765, 766, 767, 768, 770, 771, 773, 774, 775, 776, 777, 778, 779, 780, 781, 782, 783, 784, 785, 786, 788, 790, 793, 794, 795, 796, 797, 799, 800, 808, 810, 811, 813, 814, 815, 164656, 816, 818, 819, 820, 821, 822, 823, 824, 825, 826, 827, 829, 830, 831, 832, 833, 834, 835, 836, 837, 838, 839, 840, 841, 842, 843, 844, 845, 846, 847, 857, 858, 859, 860, 861, 862, 863, 864, 865, 866, 867, 868, 869, 871, 873, 874, 875, 881, 883, 885, 886, 887, 889, 890, 891, 892, 894, 896, 898, 899, 900, 901, 902, 904, 905, 908, 909, 910, 911, 912, 913, 914, 915, 916, 917, 919, 920, 921, 922, 923, 924, 925, 926, 928, 929, 930, 931, 932, 933, 939, 940, 941, 942, 943, 944, 945, 946, 947, 948, 949, 950, 951, 952, 953, 954, 955, 956, 957, 958, 959, 960, 961, 962, 963, 965, 966, 967, 968, 969, 970, 971, 972, 973, 974, 975, 976, 977, 978, 983, 987, 988, 989, 990, 991, 993, 994, 995, 996, 997, 998, 999, 1000, 1001, 1002, 1003, 1004, 1005, 1006, 1007, 1008, 1009, 1010, 1012, 1013, 1014, 1015, 1016, 1017, 1018, 1019, 1020, 1021, 1022, 1024, 1025, 1026, 1027, 1028, 1029, 1030, 1031, 1032, 1033, 1036, 1038, 1039, 1040, 1041, 1043, 1044, 1045, 1046, 1047, 1048, 1050, 1051, 1052, 1053, 1054, 1057, 1058, 1059, 1060, 1062, 1063, 1066, 1068, 1069, 1070, 1071, 1072, 1075, 1080, 1081, 1084, 1087, 1088, 1089, 1101, 1102, 1103, 1104, 1105, 1106, 1107, 1108, 1109, 1111, 1112, 1113, 1114, 1116, 1117, 1118, 1119, 1120, 1121, 1122, 1123, 1124, 1129, 1130, 1131, 1132, 1133, 1134, 1135, 1136, 1137, 1138, 1140, 1141, 1142, 1143, 1144, 1145, 1146, 1147, 1149, 1152, 1153, 1154, 1155, 1158, 1160, 1161, 1163, 1164, 1173, 1174, 1175, 1176, 1178, 1179, 1180, 1181, 1182, 1183, 1184, 1185, 1186, 1188, 1191, 1192, 1193, 1196, 1198, 1200, 1201, 1203, 1207, 1208, 1209, 1211, 1212, 1213, 1215, 1230, 1232, 1233, 1234, 1235, 1236, 1237, 1238, 1240, 1241, 1244, 1258, 1259, 1261, 1263, 1264, 1265, 1266, 1267, 1268, 1269, 1271, 1272, 1277, 1278, 1280, 1281, 1282, 1284, 1285, 1286, 1287, 1288, 1289, 1290, 1291, 1292, 1293, 1294, 1295, 1296, 1297, 1298, 1299, 1300, 1301, 1302, 1305, 1306, 1307, 1308, 1310, 1311, 1312, 1314, 1315, 1316, 1317, 1318, 1325, 1326, 1327, 1329, 1337, 1339, 1340, 1345, 1346, 1347, 1349, 1350, 1351, 1352, 1353, 1355, 1356, 1357, 1358, 1359, 1360, 1361, 1362, 1363, 1364, 1365, 1366, 1368, 1369, 1370, 1371, 1373, 1374, 1376, 1378, 1380, 1381, 1382, 1384, 1385, 1386, 1387, 1388, 1389, 1390, 1392, 1393, 1394, 1395, 1396, 1397, 1398, 1399, 1400, 1401, 1404, 1406, 1407, 1408, 1409, 1410, 1411, 1412, 1413, 1414, 1415, 1416, 1417, 1418, 1419, 1420, 1421, 1428, 1429, 1431, 1432, 1434, 1435, 1436, 1437, 1438, 1439, 1440, 1441, 1442, 1444, 1445, 1446, 1447, 1448, 1452, 1453, 1454, 1455, 1456, 1457, 1459, 1460, 1462, 1463, 1464, 1465, 1466, 1468, 1469, 1470, 1471, 1472, 1473, 1474, 1475, 1476, 1477, 1478, 1479, 1482, 1486, 1487, 1488, 1489, 1490, 1491, 1493, 1495, 1496, 1497, 1499, 1500, 1501, 1503, 1506, 1508, 1509, 1510, 1511, 1512, 1513, 1514, 1515, 1519, 1520, 1521, 1522, 1523, 1524, 1525, 1527, 1528, 1534, 1535, 1536, 1537, 1538, 1539, 1540, 1543, 1544, 1545, 1548, 1551, 1553, 1555, 1556, 1557, 1558, 1559, 1562, 1565, 1571, 1572, 1573, 1576, 1577, 1579, 1580, 1581, 1583, 1584, 1585, 1586, 1587, 1588, 1589, 1591, 1592, 1593, 1594, 1595, 1600, 1601, 1602, 1603, 1604, 1605, 1606, 1607, 1608, 1609, 1610, 1611, 1612, 1613, 1615, 1616, 1618, 1620, 1621, 1622, 1627, 1628, 1629, 1630, 1632, 1633, 1634, 1635, 1636, 1638, 1639, 1641, 1642, 1643, 1644, 1645, 1646, 1647, 1649, 1650, 1652, 1653, 1654, 1655, 1656, 1657, 1659, 1660, 1662, 1663, 1665, 1666, 1669, 1670, 1671, 1672, 1673, 1674, 1675, 1676, 1677, 1678, 1687, 1690, 1716, 1717, 1718, 1719, 1720, 1723, 1725, 1727, 1728, 1729, 1730, 1733, 1734, 1735, 1736, 1737, 1738, 1739, 1740, 1741, 1742, 1743, 1746, 1748, 1749, 1750, 1755, 1756, 1757, 1758, 1759, 1760, 1761, 1762, 1763, 1768, 1770, 1773, 1774, 1775, 1776, 1777, 1778, 1780, 1781, 1783, 1785, 1786, 1787, 1788, 1789, 1791, 1793, 1794, 1795, 1796, 1797, 1798, 1800, 1802, 1803, 1804, 1805, 1806, 1807, 1808, 1809, 1810, 1811, 1812, 1813, 1814, 1815, 1816, 1819, 1820, 1821, 1822, 1823, 1824, 1825, 1826, 1827, 1828, 1829, 1830, 1831, 1832, 1833, 1834, 1836, 1837, 1838, 1839, 1841, 1842, 1843, 1844, 1845, 1846, 1847, 1848, 1849, 1850, 1852, 1854, 1855, 1856, 1857, 1859, 1861, 1869, 1870, 1871, 1874, 1875, 1876, 1877, 1880, 1889, 1890, 1891, 1892, 1893, 1894, 1896, 1901, 1902, 1906, 1907, 1908, 1909, 1910, 1911, 1912, 1915, 1917, 1933, 1936, 1938, 1939, 1942, 1943, 1944, 1945, 1946, 1947, 1948, 1949, 1950, 1951, 1952, 1953, 1954, 1955, 1956, 1958, 1959, 1960, 1961, 1962, 1964, 1965, 1967, 1968, 1969, 1973, 1974, 1975, 1977, 1978, 1979, 1981, 1982, 1983, 1984, 1991, 1992, 1993, 1994, 1995, 1996, 1997, 1998, 1999, 2000, 2001, 2002, 2004, 2005, 2006, 2009, 2010, 2011, 2012, 2013, 2014, 2015, 2016, 2017, 2018, 2019, 2020, 2021, 2022, 2023, 2026, 2027, 2028, 2029, 2030, 2033, 2034, 2035, 2036, 2037, 2038, 2039, 2040, 2041, 2042, 2043, 2044, 2045, 2047, 2048, 2049, 2050, 2051, 2052, 2053, 2054, 2055, 2056, 2057, 2058, 2059, 2060, 2063, 2064, 2065, 2066, 2067, 2068, 2069, 2070, 2071, 2072, 2073, 2077, 2078, 2079, 2081, 2091, 2098, 2099, 2100, 2101, 2103, 2104, 2107, 2108, 2109, 2110, 2113, 2114, 2115, 2116, 2117, 2118, 2119, 2120, 2121, 2122, 2123, 2125, 2128, 2130, 2131, 2132, 2134, 2135, 2137, 2138, 2139, 2140, 2145, 2146, 2147, 100272228, 2149, 2150, 2151, 2152, 2153, 2155, 2157, 2158, 2159, 2160, 2161, 2162, 2165, 2166, 2167, 2168, 2169, 2170, 2171, 2172, 2173, 2175, 2176, 2178, 2180, 2181, 2182, 2184, 2185, 2186, 2189, 2191, 2192, 2193, 2194, 2195, 2196, 2197, 2199, 2200, 2201, 2202, 2203, 2204, 2205, 2206, 2207, 2208, 2209, 2212, 2213, 2215, 2217, 2218, 2219, 2220, 2222, 2224, 2230, 2232, 2235, 2237, 2239, 2241, 2242, 2243, 2244, 2245, 2246, 2247, 2248, 2249, 2250, 2251, 2252, 2253, 2254, 2257, 2258, 2259, 2260, 2261, 2262, 2263, 2264, 2266, 2267, 2268, 2271, 2272, 2273, 2274, 2275, 2277, 2280, 2281, 2286, 2287, 2288, 2289, 2290, 2294, 2295, 2296, 2297, 2299, 2300, 2301, 2302, 2303, 2304, 2305, 2306, 2308, 2309, 2312, 2313, 2314, 2315, 2316, 2317, 2318, 2319, 2321, 2322, 2323, 2324, 2326, 2327, 2328, 2329, 2330, 2331, 2332, 2334, 2335, 2339, 2342, 2348, 2350, 2352, 2353, 2354, 2355, 2356, 2357, 2358, 2359, 2395, 2444, 2475, 2483, 2487, 2488, 2491, 2492, 2494, 2495, 2512, 2515, 2516, 2517, 2520, 2521, 2523, 2524, 2525, 2528, 2529, 2530, 2531, 2532, 2533, 2534, 2535, 2537, 2538, 2539, 2542, 2543, 133619, 2547, 2548, 2549, 2550, 2551, 2553, 2554, 2555, 2556, 2557, 2558, 2559, 2560, 2561, 2562, 2563, 2564, 2566, 2567, 2568, 2569, 2570, 2571, 2572, 2580, 2581, 2582, 2583, 2584, 2585, 2587, 2588, 2589, 2590, 2591, 2592, 2593, 2596, 2597, 2615, 2617, 2618, 2619, 2620, 2621, 2622, 2623, 2624, 2625, 2626, 2627, 2628, 2630, 2631, 2632, 2633, 2634, 2636, 2637, 2638, 2639, 2641, 2642, 2643, 2644, 2645, 2646, 2648, 2649, 2650, 2651, 2658, 2660, 2661, 2662, 2664, 2665, 2668, 2669, 2670, 2671, 2672, 2673, 2674, 2675, 2676, 2677, 2678, 2683, 2687, 2688, 2689, 2690, 2691, 2692, 2693, 2694, 2695, 2696, 2697, 2700, 2701, 2702, 2703, 2705, 2707, 2709, 2710, 2712, 2713, 2717, 2719, 2720, 2729, 2730, 2731, 2733, 2734, 2735, 2736, 2737, 2739, 2740, 2741, 2742, 2743, 2744, 2745, 2746, 2747, 2752, 2760, 2762, 2764, 2765, 2766, 2767, 2768, 2769, 2770, 2771, 2773, 166614, 2774, 2775, 2776, 2778, 2779, 2780, 2781, 2782, 2783, 2784, 2785, 2786, 2787, 2788, 2790, 2791, 2792, 2794, 2796, 2797, 2798, 2799, 2800, 2801, 2802, 2803, 2804, 2805, 2806, 166647, 2810, 2811, 2812, 2813, 2814, 2815, 2817, 2819, 2820, 2821, 2822, 2823, 2824, 2825, 2826, 2827, 2828, 2829, 2830, 2832, 2833, 2835, 2838, 2840, 2841, 2842, 2843, 2845, 2846, 2847, 2848, 2852, 2853, 2854, 2859, 2861, 2862, 2863, 2865, 2867, 2868, 2869, 2870, 2872, 2873, 2875, 2876, 2877, 2878, 2879, 2880, 2882, 2885, 2886, 2887, 2888, 2889, 2890, 2891, 2892, 2893, 2895, 2896, 2897, 2898, 2899, 2900, 2901, 2902, 2903, 2904, 2905, 2906, 2907, 2908, 2909, 2911, 2912, 2913, 2914, 2915, 2916, 2917, 2918, 2919, 2920, 2921, 2922, 2923, 2925, 2926, 2928, 2931, 2932, 2934, 2935, 2936, 2937, 2938, 2940, 2941, 2944, 2946, 2947, 2948, 2949, 2950, 2952, 2953, 2954, 2956, 2957, 2958, 2959, 2960, 2961, 2962, 2963, 2965, 2967, 2968, 2969, 2971, 2972, 2974, 2975, 2976, 2977, 2978, 2979, 2980, 2981, 2982, 2983, 2984, 2986, 2987, 2990, 2992, 2993, 2994, 2995, 2996, 2997, 2998, 2999, 3000, 3001, 3002, 3003, 3004, 3005, 3006, 3007, 3008, 3009, 3010, 3012, 3014, 3015, 3017, 3018, 3021, 3024, 3026, 3028, 3029, 3030, 3032, 3033, 3034, 3035, 3036, 3037, 3043, 3044, 3045, 3046, 3049, 3050, 3052, 3053, 3054, 3055, 3059, 3060, 3061, 3062, 3064, 3065, 3066, 3067, 3068, 3069, 3070, 3071, 3073, 3074, 3075, 3077, 3080, 3081, 3082, 3083, 3084, 3087, 3090, 3091, 3092, 3093, 3094, 3096, 3097, 3098, 3099, 3101, 3104, 3105, 3106, 3107, 3108, 3109, 3110, 3111, 3112, 3113, 3115, 3117, 3119, 3120, 3122, 199731, 3123, 3128, 3131, 3133, 3134, 3135, 3140, 3141, 3142, 3145, 3146, 3148, 3149, 3150, 3151, 3155, 3156, 3157, 3158, 3159, 3161, 3162, 3163, 3164, 3166, 3169, 3170, 3172, 3174, 3175, 3176, 3177, 3178, 3181, 3182, 3183, 3184, 3185, 3187, 3188, 3189, 3190, 3191, 3192, 3195, 3196, 3198, 3199, 3200, 3201, 3202, 3203, 3204, 3206, 3207, 3208, 3211, 3212, 3213, 3215, 3216, 3217, 3218, 3219, 3221, 3222, 3223, 3224, 3226, 3227, 3229, 3231, 3232, 3235, 3236, 3237, 3238, 3239, 3240, 3241, 3242, 3248, 3249, 3250, 3251, 3257, 199870, 3263, 3265, 3267, 3268, 3269, 3270, 3273, 3274, 3275, 3276, 3280, 3281, 3283, 3284, 3290, 3291, 3292, 3293, 3294, 3295, 3297, 3298, 3299, 3300, 3301, 3303, 3305, 3306, 3308, 3309, 3310, 3312, 3313, 3315, 3320, 3321, 3326, 3329, 3336, 3337, 3338, 3339, 3340, 3344, 3346, 3347, 3350, 3351, 3352, 3354, 3355, 3356, 3357, 3358, 3359, 3360, 3361, 3362, 3363, 3364, 3371, 3373, 3375, 3376, 3381, 3382, 3383, 3384, 3385, 3386, 167227, 3394, 3396, 3397, 3398, 3399, 3400, 3416, 3417, 3418, 3419, 3420, 3421, 3422, 3423, 3425, 3426, 3428, 3429, 3430, 3431, 3433, 3434, 3437, 3439, 3440, 3441, 3442, 3443, 3444, 3445, 3446, 3448, 3449, 3451, 3452, 3454, 3455, 3456, 3458, 3459, 3460, 3467, 200081, 3475, 3476, 3479, 3480, 3482, 3483, 3484, 3485, 3486, 3487, 3488, 3489, 3490, 3491, 3508, 3512, 3516, 3543, 3547, 3549, 3550, 3551, 3552, 3553, 3554, 3556, 3557, 3558, 3559, 3560, 3561, 3562, 3563, 3565, 3566, 3567, 3568, 3569, 3570, 3572, 3574, 3575, 3576, 3577, 3578, 3579, 3581, 3586, 3587, 3588, 3589, 3590, 3592, 3593, 3594, 3595, 3596, 200205, 3597, 3598, 3600, 3601, 3603, 3604, 3605, 3606, 3607, 3608, 3609, 3611, 3612, 3613, 3614, 3615, 3617, 3619, 3620, 3621, 3622, 3623, 3624, 3625, 3626, 3627, 3628, 3630, 3631, 3632, 3633, 3635, 3636, 3638, 3640, 3641, 3642, 3643, 3645, 3646, 3651, 3652, 3653, 3654, 3655, 3658, 3659, 3660, 3661, 3662, 3663, 3664, 3665, 3667, 3669, 3670, 3671, 3672, 3673, 3674, 3675, 3676, 3678, 3679, 3680, 3682, 3683, 3684, 3685, 3687, 3688, 3689, 3690, 3691, 3692, 3693, 3694, 3695, 3696, 3697, 3698, 3699, 3700, 3702, 3703, 3704, 3705, 3706, 200315, 200316, 3707, 3708, 3709, 3710, 3712, 3713, 3714, 3716, 3717, 3718, 3720, 3725, 3726, 3727, 3728, 3730, 3732, 3735, 3736, 3737, 3738, 3739, 3741, 3744, 3745, 3746, 3747, 3748, 3749, 3750, 3751, 3752, 3753, 3754, 3755, 3756, 3757, 3758, 3759, 3760, 3761, 3762, 3763, 3764, 3765, 3766, 3768, 3770, 3772, 3773, 3775, 3776, 3777, 3778, 3779, 3780, 3781, 3782, 3783, 3784, 3785, 3786, 3787, 3790, 3791, 3792, 3795, 3796, 3797, 3798, 3799, 3800, 3801, 3802, 3804, 3805, 3809, 3811, 3814, 3815, 200424, 3816, 3817, 3818, 3820, 3823, 3824, 3827, 3831, 3832, 3833, 3834, 3835, 3836, 3837, 3838, 3839, 3840, 3841, 3842, 3843, 3845, 3846, 3848, 3849, 3850, 3851, 3852, 3853, 3854, 3855, 3856, 3857, 3858, 3859, 3860, 3861, 3866, 3868, 3872, 3875, 3880, 3881, 3882, 3883, 3884, 3885, 3886, 3887, 3889, 3890, 3891, 3895, 3897, 3898, 3899, 3902, 3903, 3904, 3906, 3908, 3909, 3910, 3911, 3912, 3913, 3914, 3915, 3916, 3918, 3920, 3921, 3925, 3927, 3929, 3930, 3931, 3932, 3933, 3934, 3936, 3937, 3938, 3939, 3945, 3948, 3949, 3950, 3952, 3953, 3954, 3955, 3956, 3957, 3958, 3959, 3960, 3964, 3965, 200576, 3972, 3973, 3975, 3976, 3977, 3978, 3980, 3981, 3982, 3983, 3984, 3985, 3987, 3988, 3990, 3991, 3992, 3993, 3995, 3996, 3998, 4000, 4001, 4004, 4005, 4007, 4008, 4010, 4012, 4013, 4014, 4015, 4016, 4017, 4018, 4023, 4025, 4026, 4033, 4034, 4035, 4036, 4037, 4038, 4040, 4041, 4043, 4045, 4046, 4047, 4048, 4049, 4050, 4051, 4052, 4053, 4054, 4055, 4057, 4058, 4059, 4060, 4061, 4062, 4063, 4064, 4065, 135138, 4066, 4067, 4068, 4069, 4070, 4071, 4072, 4074, 4076, 4077, 4081, 4082, 4084, 4085, 4086, 4087, 4088, 4089, 4090, 4091, 4092, 4093, 4094, 4097, 4099, 4100, 4102, 4103, 4105, 4107, 4109, 4110, 4111, 4112, 4113, 4114, 4116, 4117, 4118, 4121, 4122, 4123, 4124, 4125, 200734, 4126, 4128, 4129, 4130, 4131, 4133, 4134, 4137, 4139, 4140, 4141, 4142, 4143, 4144, 4145, 4146, 4147, 4148, 4149, 4150, 4151, 4152, 4153, 4154, 4155, 4157, 4158, 4159, 4160, 4161, 4162, 4163, 4168, 4170, 4171, 4172, 4173, 4174, 4175, 4176, 4179, 4184, 4185, 4188, 4189, 4190, 4191, 4192, 4193, 4194, 4199, 4200, 4201, 4204, 4205, 4208, 4209, 4210, 4211, 4212, 4214, 4215, 4216, 4217, 4218, 4221, 4222, 4223, 4224, 4225, 4232, 4233, 4234, 4236, 4237, 4238, 4239, 4240, 4241, 4242, 4245, 4246, 4247, 4248, 4249, 4250, 4253, 4254, 4255, 4256, 4258, 4259, 4261, 4267, 4277, 4281, 4282, 4283, 4284, 4285, 4286, 4287, 4288, 4289, 4291, 4292, 4293, 4294, 4295, 4296, 4297, 4298, 4299, 4300, 4301, 4303, 4306, 4308, 4311, 4312, 4313, 4314, 4316, 4317, 4318, 4319, 4320, 4321, 4322, 4323, 4324, 4325, 4326, 4327, 4329, 4330, 4331, 4332, 4335, 4336, 4337, 4338, 4340, 4342, 4345, 4350, 4351, 4352, 4353, 4354, 4355, 4356, 4357, 4358, 4359, 4361, 4363, 66008, 4430, 4435, 4436, 4437, 4438, 4440, 4477, 4478, 4481, 4482, 266629, 4485, 4486, 4487, 4488, 4493, 4494, 4495, 4496, 4499, 4501, 4502, 4504, 4507, 266655, 4520, 4521, 4522, 4524, 201134, 4528, 4534, 4542, 4543, 4544, 4547, 4548, 4552, 201163, 4582, 201191, 4583, 4584, 4585, 4586, 4588, 4589, 4591, 4593, 4594, 4595, 4597, 4598, 4599, 4600, 4601, 4602, 4603, 4604, 4605, 4606, 4607, 4608, 4609, 4610, 4613, 4615, 4616, 4617, 4618, 4619, 4620, 201229, 4621, 4622, 4624, 4625, 4626, 4627, 4628, 4629, 4632, 4633, 4634, 4635, 4636, 4637, 4638, 4640, 4641, 4642, 4643, 4644, 201254, 4646, 4647, 4648, 4649, 4650, 4651, 4653, 4654, 4656, 4659, 4660, 4661, 4664, 4665, 4666, 4668, 4669, 4670, 4671, 4673, 4674, 4675, 4676, 4677, 4678, 4680, 4681, 4682, 4683, 4684, 4685, 4686, 4688, 4689, 4690, 4691, 4692, 4693, 4694, 4695, 4696, 4697, 4698, 4700, 4701, 4702, 4703, 168544, 4704, 4705, 4706, 4707, 4708, 4709, 4710, 4711, 4712, 4713, 4714, 4717, 4719, 4720, 4722, 4723, 4724, 4726, 4728, 4729, 4733, 4734, 4735, 4736, 4738, 4739, 4741, 4744, 4745, 4750, 4751, 4752, 4753, 4756, 4758, 4759, 4760, 4761, 4762, 4763, 4771, 4772, 4775, 4776, 4778, 4779, 4780, 4781, 4782, 4783, 4784, 4790, 4791, 4792, 4793, 4794, 4795, 4796, 4798, 4799, 4800, 4801, 4802, 4803, 4804, 4807, 4808, 4809, 4811, 4814, 4815, 4817, 4818, 4820, 4821, 4824, 4825, 4826, 4828, 4829, 4830, 4832, 266977, 4833, 4835, 4836, 4837, 4839, 4841, 4842, 4843, 4846, 4848, 4849, 4850, 4851, 4852, 4853, 4854, 4855, 4856, 4857, 4858, 4860, 4861, 4862, 4863, 4864, 4867, 4868, 4869, 135948, 4878, 4879, 4880, 4881, 4882, 4883, 4884, 4885, 4886, 4887, 4888, 4889, 4891, 4892, 201501, 4893, 4897, 4898, 4899, 4900, 4901, 4902, 4904, 4905, 4907, 4908, 4913, 4914, 4915, 4916, 4917, 4919, 4920, 4921, 4922, 4923, 4924, 4925, 4926, 4927, 4928, 4929, 4931, 4935, 4938, 4939, 4940, 4942, 4946, 4947, 4948, 4951, 4952, 4953, 201562, 4956, 4957, 4958, 4967, 4968, 4969, 4973, 4974, 4975, 4976, 4978, 4982, 4983, 4985, 4986, 4987, 4988, 4990, 4991, 4992, 4993, 4994, 4995, 4998, 4999, 5000, 5001, 5002, 5003, 5004, 5007, 5008, 5009, 5010, 5016, 5017, 201626, 5018, 5019, 5020, 5021, 5023, 5024, 5025, 5026, 5027, 5028, 5029, 5030, 5031, 5033, 5034, 5036, 5037, 5042, 5045, 5046, 5047, 5048, 5049, 5050, 5051, 5052, 5053, 5054, 5055, 5058, 5062, 5063, 5064, 5066, 5068, 5069, 5071, 5073, 5074, 5075, 5076, 5077, 5078, 5079, 5080, 5081, 5082, 5083, 5087, 5089, 5090, 5091, 5092, 5093, 5094, 5095, 5096, 5097, 5098, 5099, 5100, 5101, 5104, 5105, 5106, 5108, 5110, 5111, 5116, 5118, 5119, 5121, 5122, 5125, 5126, 5127, 5128, 5129, 5130, 5132, 5133, 5134, 5136, 5137, 5138, 5139, 5140, 5141, 5142, 5143, 5144, 5145, 5146, 5147, 5148, 5149, 5151, 5152, 5153, 5154, 5155, 5156, 5157, 5158, 5159, 5160, 5161, 5162, 5163, 5164, 5165, 5166, 5167, 5168, 5170, 5172, 5173, 5174, 5176, 5178, 5179, 5184, 5187, 5188, 5189, 5190, 5191, 5192, 5193, 5194, 5195, 5196, 5197, 5198, 5199, 5201, 5202, 5203, 5204, 5205, 5207, 5208, 5209, 5210, 5211, 5213, 5214, 5216, 5217, 5218, 5223, 5225, 5226, 5228, 5229, 5230, 5232, 5236, 5238, 5239, 5241, 5243, 5244, 5245, 5250, 5251, 5252, 5253, 5255, 5256, 5257, 5260, 5261, 5264, 5265, 5266, 5267, 5268, 5269, 5270, 5271, 5272, 5273, 5274, 5275, 5276, 5277, 5279, 5281, 5283, 5284, 5286, 201895, 5287, 5288, 5289, 5290, 5291, 5292, 5293, 5294, 5295, 5296, 5297, 5298, 5300, 5301, 5303, 5304, 5305, 5306, 5307, 5308, 5309, 5310, 5311, 5313, 5315, 5316, 5317, 5318, 5319, 5320, 5321, 5322, 5324, 5325, 5326, 5327, 5328, 5329, 5330, 5331, 5332, 5333, 5334, 5335, 5336, 5337, 5338, 5339, 5340, 5341, 5345, 5346, 5347, 5348, 5349, 5350, 5351, 5352, 5354, 5355, 5357, 5358, 5359, 5360, 5361, 5362, 5364, 5365, 5366, 5367, 5368, 5369, 5371, 5372, 5373, 5375, 5376, 5378, 5382, 5383, 5387, 5393, 5394, 5396, 5406, 5407, 5408, 5409, 202018, 5411, 5412, 5414, 5420, 5422, 5423, 5424, 5425, 5426, 5427, 5428, 5429, 5430, 5431, 5432, 5433, 5434, 5435, 5436, 5437, 5438, 5439, 5440, 5441, 5442, 5443, 5444, 5445, 5446, 5447, 5449, 5450, 5451, 5452, 5453, 5454, 5455, 5456, 5457, 5458, 5459, 5462, 5463, 5464, 5465, 5467, 5468, 5469, 5470, 5471, 5473, 5475, 5476, 5478, 5479, 5480, 5481, 5493, 5494, 5495, 5496, 5498, 5499, 5500, 5501, 5502, 5504, 5506, 5507, 5510, 5511, 5514, 5515, 5516, 5518, 5519, 5520, 5521, 5523, 5524, 5525, 5526, 5527, 5528, 5529, 5530, 5531, 5532, 5533, 5534, 5536, 5537, 5538, 5539, 5542, 5544, 5545, 5546, 5547, 5549, 5550, 5551, 5552, 5553, 5557, 5558, 5562, 5563, 5564, 5565, 5566, 5567, 5568, 5569, 5571, 202181, 5573, 5575, 5576, 5577, 5578, 5579, 5580, 5581, 5582, 5583, 5584, 5585, 5586, 5587, 5588, 5589, 5590, 5591, 5592, 5593, 5594, 5595, 5596, 5597, 5598, 5599, 5600, 5601, 5602, 5603, 5604, 5605, 103910, 5606, 5607, 5608, 5609, 5610, 5611, 5612, 5613, 5616, 5617, 5618, 5619, 5620, 5621, 5623, 5624, 5625, 5626, 5627, 5629, 5630, 5631, 5634, 5635, 5636, 5638, 5639, 5641, 5644, 5646, 5648, 5649, 5650, 5651, 5652, 5653, 5654, 5655, 5657, 5660, 5662, 5663, 5664, 5669, 5670, 5671, 5672, 5673, 5675, 5676, 5678, 5680, 5681, 169522, 5682, 5683, 5684, 5685, 5686, 5687, 5688, 5689, 5690, 5691, 5692, 5693, 5694, 5695, 5696, 5697, 5698, 5699, 5700, 5701, 5702, 5704, 5705, 5706, 5707, 5708, 5709, 5710, 5711, 5713, 5714, 5715, 5716, 5717, 5718, 5719, 5720, 5721, 5723, 5724, 5725, 5727, 5728, 5729, 5730, 5731, 5732, 5733, 5734, 5737, 5739, 5740, 5741, 5742, 5743, 5744, 5745, 5746, 5747, 5753, 5754, 5756, 5757, 5763, 5764, 5768, 5770, 169611, 5771, 5774, 5775, 5777, 5778, 5780, 5781, 5782, 5783, 5784, 5786, 5787, 5788, 5789, 5790, 5791, 5792, 5793, 5794, 5795, 5796, 5797, 5798, 5799, 5800, 5801, 5802, 5803, 5805, 5806, 5810, 5813, 5816, 5817, 5818, 5819, 5820, 5822, 5824, 5825, 5826, 5827, 5828, 5829, 5830, 5831, 5832, 5833, 5834, 5836, 5837, 5858, 5859, 5860, 5861, 5862, 5863, 5864, 5865, 5866, 5867, 5868, 5869, 5870, 5871, 5872, 5873, 5874, 5875, 5876, 5877, 5878, 5879, 5880, 5881, 5883, 5884, 5885, 5886, 5887, 5888, 5889, 5890, 5891, 5892, 5893, 5894, 5896, 5897, 5898, 5899, 5900, 5901, 5902, 5903, 5905, 5906, 5908, 5909, 5910, 5911, 5912, 5913, 5914, 5915, 5916, 5917, 5918, 5919, 5920, 5921, 5922, 5923, 5925, 5926, 5927, 5928, 5929, 5930, 5931, 5932, 5933, 5934, 5935, 5936, 5937, 5939, 5947, 5949, 5950, 202559, 5954, 5955, 5957, 5959, 5961, 5962, 5965, 5966, 5967, 5968, 5970, 5971, 5972, 5973, 5976, 5977, 5978, 5979, 5980, 5981, 5982, 5983, 5984, 5985, 5986, 5987, 5988, 5989, 5990, 5991, 5993, 5994, 5995, 5996, 5997, 5998, 5999, 6000, 6001, 6002, 6003, 6004, 6005, 6006, 6007, 6009, 6010, 6011, 6013, 6014, 6015, 6016, 6017, 6018, 6019, 6035, 6036, 6037, 6039, 6041, 6045, 6046, 6047, 6048, 6049, 6050, 6051, 6059, 6091, 6093, 6094, 6095, 6096, 6097, 6098, 6102, 6103, 6117, 6118, 6119, 6120, 6121, 6122, 6123, 6124, 6125, 6128, 6129, 6130, 6132, 6133, 6134, 6135, 6136, 6137, 6138, 6139, 6141, 6143, 6144, 6146, 6147, 6150, 6152, 6154, 6155, 6156, 6157, 6158, 6159, 6160, 6161, 6164, 6165, 6166, 6167, 6168, 6169, 6170, 6171, 6173, 6175, 6176, 6181, 6182, 6183, 6184, 6185, 6187, 6188, 6189, 6191, 6192, 6193, 6194, 6195, 6196, 6197, 6198, 6199, 6201, 6202, 6203, 6204, 6205, 6206, 6207, 6208, 6209, 6210, 6217, 6218, 6222, 6223, 6224, 6227, 6228, 6229, 6230, 6231, 6232, 6233, 6234, 6235, 6236, 6237, 6238, 6239, 6240, 6241, 6247, 6249, 6251, 6252, 6253, 6256, 6257, 6258, 6259, 6261, 6262, 6263, 6272, 6273, 6274, 6275, 6276, 6277, 6278, 6279, 6280, 6281, 6282, 6283, 6284, 6285, 6286, 6290, 6291, 6293, 6294, 6295, 6296, 6297, 6299, 6301, 6302, 6303, 6304, 6305, 6307, 6309, 6310, 6311, 6314, 6315, 6317, 6318, 6319, 6320, 6322, 6323, 6324, 6326, 6327, 6328, 6329, 6331, 6332, 6334, 6335, 6336, 6337, 6338, 6339, 6340, 6342, 6343, 6344, 6346, 6347, 6351, 6352, 6354, 6355, 6356, 6357, 6360, 6361, 6362, 6363, 6364, 6366, 6367, 6368, 6369, 6370, 6372, 6373, 6374, 6375, 6376, 6382, 6383, 6385, 6386, 6387, 6388, 6389, 6390, 6391, 6392, 6396, 6397, 6398, 6399, 6400, 6401, 6402, 6403, 6404, 6405, 6406, 6407, 6414, 6415, 6416, 6418, 6419, 6421, 6422, 6424, 6425, 6426, 6428, 6429, 6430, 6431, 6432, 6433, 6434, 6439, 6440, 6441, 6442, 6443, 6444, 6445, 6446, 6447, 399664, 399665, 6448, 6449, 6450, 6451, 6452, 6453, 6455, 6456, 6457, 203068, 203069, 6461, 6462, 6464, 6468, 6469, 6470, 6472, 6473, 6474, 6476, 6477, 6478, 6480, 6482, 6483, 6484, 6489, 6490, 6491, 6492, 6493, 6494, 6495, 6496, 6497, 6498, 6499, 6500, 6502, 6503, 6504, 6505, 6506, 6507, 6508, 6509, 6510, 6511, 6512, 6513, 6514, 6515, 6517, 6518, 6519, 6520, 6521, 6522, 6523, 6524, 6525, 6527, 6528, 6529, 6530, 6531, 6532, 6533, 6534, 6535, 6536, 6538, 6539, 6540, 6541, 6542, 6543, 6545, 6546, 6548, 6549, 6550, 6553, 6554, 6555, 6556, 6557, 6558, 6559, 6560, 6561, 6563, 6564, 6565, 6566, 6567, 6568, 6569, 6570, 6571, 6572, 6573, 6574, 6575, 6576, 6578, 6579, 6580, 6581, 6582, 6583, 6584, 6585, 6586, 6588, 203197, 6590, 6591, 6594, 6595, 6596, 6597, 6598, 6599, 6601, 399818, 6602, 6603, 6604, 6605, 6608, 6609, 6610, 6611, 6612, 6614, 6615, 6616, 6617, 6618, 6619, 6620, 6621, 6622, 6623, 6624, 6625, 6626, 6627, 6628, 6629, 6631, 6632, 6633, 6634, 6635, 6636, 6637, 6638, 6640, 6641, 6642, 6643, 6645, 6646, 6647, 6648, 6649, 6650, 6651, 6652, 6653, 6654, 6655, 6656, 6657, 6658, 6659, 6660, 6662, 6663, 6664, 6665, 6666, 6667, 6668, 6670, 6671, 6672, 6674, 6675, 6676, 6677, 6678, 6683, 6687, 6688, 6689, 6690, 6691, 6692, 6693, 6694, 6695, 6696, 6697, 6698, 6699, 6701, 6707, 6708, 6709, 6710, 6711, 6712, 6713, 6714, 6715, 6717, 6718, 6720, 6721, 6722, 6723, 6726, 6727, 6729, 6731, 6732, 6733, 6734, 6736, 6737, 6738, 6741, 6742, 6744, 6745, 6746, 6747, 6748, 6749, 6750, 6751, 6752, 6753, 6754, 6755, 6756, 6760, 399979, 6764, 6767, 6768, 6769, 6770, 6772, 6773, 6774, 6775, 6776, 6777, 6778, 6779, 6780, 6781, 6782, 6783, 6785, 6786, 6787, 6788, 6789, 6790, 6792, 6793, 6794, 6795, 6799, 6801, 6804, 6809, 6810, 6812, 6813, 137886, 6814, 6817, 6819, 6820, 6821, 6822, 6827, 6829, 6830, 6832, 6833, 6834, 6835, 6837, 170679, 170680, 6839, 6840, 6843, 6844, 6845, 6847, 6850, 6853, 6855, 6856, 6857, 6861, 6862, 6863, 6865, 6866, 6867, 400084, 6868, 6869, 6870, 6871, 6872, 6873, 6874, 6875, 6876, 6877, 6878, 6879, 6880, 6881, 6882, 6883, 6884, 6885, 6886, 6888, 6890, 6891, 6892, 6894, 6895, 6897, 6898, 6899, 6900, 6901, 6902, 6903, 6904, 6905, 6906, 6907, 6908, 6909, 6910, 6911, 727800, 6915, 6916, 6917, 6919, 6921, 6923, 6924, 6925, 6926, 6927, 6928, 6929, 6932, 6934, 6935, 6936, 6938, 6939, 6940, 6942, 6943, 6944, 6945, 6947, 6948, 6949, 6950, 6953, 6954, 138046, 138050, 6988, 6990, 6992, 6993, 6996, 6999, 7001, 727897, 7003, 7004, 7005, 7006, 7007, 7008, 7009, 7010, 7011, 100506469, 7013, 7014, 7015, 7016, 7018, 7019, 7020, 7021, 7022, 7023, 7024, 7025, 7026, 7027, 7029, 7030, 7031, 7032, 7033, 7035, 7036, 7037, 7038, 7039, 7040, 7041, 7042, 7043, 7045, 7046, 7047, 7048, 7049, 7050, 7051, 7052, 7053, 7054, 7056, 7057, 7058, 7059, 7060, 7062, 7064, 7066, 7067, 7068, 7070, 7071, 7072, 7073, 7074, 7075, 7076, 7077, 7078, 138151, 7079, 7080, 7082, 7083, 7084, 7086, 7087, 7088, 7089, 138162, 7090, 7091, 7092, 7093, 7094, 7095, 7096, 7097, 7098, 7099, 7100, 7101, 7102, 7103, 7104, 7105, 7106, 7107, 7108, 7109, 7110, 7111, 7112, 7113, 170960, 7122, 7123, 7124, 7125, 7126, 7127, 7128, 7130, 7132, 7133, 7134, 7135, 7136, 7137, 7138, 7139, 7140, 7141, 7142, 7143, 7145, 7148, 7150, 7153, 7155, 7156, 7157, 7158, 7159, 7161, 7162, 7163, 7164, 7165, 7166, 7167, 7168, 7169, 7170, 7171, 7172, 7173, 7174, 7175, 171017, 7177, 7178, 7179, 7180, 7181, 171023, 7182, 7184, 7185, 7186, 7187, 7188, 7189, 400410, 7200, 7201, 7203, 7204, 7205, 7216, 7220, 7221, 7222, 7223, 7224, 7225, 7226, 7227, 400451, 7247, 7248, 7249, 7251, 7252, 7253, 7257, 7258, 7259, 7260, 7262, 7263, 7264, 7265, 7266, 7267, 7268, 7270, 7272, 7273, 7274, 7275, 7276, 7277, 7280, 7283, 7284, 7286, 7287, 7288, 7289, 400506, 7290, 7291, 7292, 7293, 7294, 7295, 7296, 7297, 7298, 7299, 7301, 7305, 7306, 7307, 7311, 7314, 7316, 7317, 7318, 728215, 7319, 7320, 7321, 7322, 7323, 7324, 7326, 7327, 7328, 7329, 7332, 7334, 7336, 7337, 7341, 7342, 7343, 7345, 7347, 7348, 7349, 7350, 7351, 7352, 7353, 7355, 7356, 7357, 7358, 7360, 7363, 7366, 7367, 7368, 7369, 7371, 7372, 7373, 7374, 7375, 7376, 7378, 7379, 7380, 7381, 7384, 7385, 7386, 7388, 7389, 7390, 7392, 7398, 7399, 7402, 7403, 7404, 7405, 7407, 7408, 7409, 7410, 7411, 7412, 7414, 7415, 7416, 7417, 7419, 7421, 7422, 7423, 7424, 7425, 7428, 7429, 7430, 7431, 7432, 7433, 7434, 7436, 7439, 7441, 7442, 7443, 7444, 7447, 7448, 7450, 7453, 7454, 7456, 7458, 7461, 7462, 7464, 7465, 7466, 7468, 7469, 7471, 7472, 7473, 7474, 7475, 7476, 7479, 7480, 7481, 7482, 7485, 7486, 7490, 7494, 7498, 7503, 7504, 7507, 7508, 7511, 7512, 7514, 7515, 7516, 7517, 7518, 7520, 7525, 7528, 7529, 7531, 7533, 7534, 7535, 7536, 7538, 7539, 7541, 7542, 7543, 7544, 7545, 7547, 7551, 171392, 728448, 7552, 7553, 7554, 7555, 7556, 7559, 7561, 7564, 7570, 7571, 7572, 7580, 7582, 7584, 7586, 7592, 7593, 7594, 7596, 7597, 728498, 7625, 7626, 7629, 7633, 7634, 7637, 7638, 7639, 7644, 7673, 7678, 7681, 7690, 7691, 7692, 7693, 7694, 7695, 7699, 7700, 7701, 7702, 7703, 7704, 7705, 171546, 7706, 7707, 7709, 7710, 7711, 7712, 7716, 171558, 7718, 728621, 7726, 7727, 7728, 7730, 7733, 7738, 7739, 7743, 400961, 171586, 728642, 7745, 7746, 7748, 7750, 7752, 7753, 7754, 7755, 7756, 7757, 7761, 7762, 7763, 7764, 728661, 7766, 7767, 7768, 7769, 7770, 7771, 7775, 7776, 7779, 7781, 7782, 7783, 7786, 7791, 401014, 7798, 7799, 7802, 7803, 7804, 7805, 7812, 7813, 7818, 7827, 7832, 7837, 7840, 7841, 7844, 7846, 7849, 7850, 7851, 7852, 7855, 7857, 7862, 7866, 7867, 7869, 7873, 7874, 7879, 7881, 7884, 7903, 7905, 7913, 7915, 7916, 7917, 7923, 7932, 7936, 7940, 7941, 7942, 7957, 728855, 7965, 100507424, 7975, 7976, 7978, 7979, 100507436, 7980, 7982, 7984, 7988, 7991, 7994, 8000, 8001, 139081, 8013, 8019, 8021, 8022, 8027, 8028, 8029, 8030, 8031, 8034, 8036, 8038, 8045, 8048, 8050, 8061, 8065, 8073, 8074, 8076, 8078, 8079, 8082, 8085, 8086, 8087, 8089, 8091, 8092, 8099, 8100, 8110, 8111, 8115, 8120, 8123, 8125, 8128, 8131, 8139, 8140, 8148, 8153, 8161, 8165, 8170, 8174, 8175, 8178, 8187, 8189, 8190, 8192, 8193, 8195, 8200, 8202, 8204, 8208, 8209, 8216, 8218, 8224, 8226, 8227, 8228, 8233, 8237, 8239, 8241, 8242, 204851, 8243, 139322, 8260, 8266, 8269, 8270, 8273, 8277, 8284, 8287, 8288, 8289, 8290, 8291, 8292, 8295, 8301, 8303, 8309, 8310, 8312, 8314, 8315, 8317, 8318, 8321, 8322, 8323, 8324, 8325, 8326, 8328, 8329, 8331, 729230, 8334, 8337, 8339, 8340, 8341, 729238, 8342, 8345, 8348, 8349, 8350, 8359, 8369, 8372, 8379, 8382, 8383, 8387, 8390, 8392, 8394, 8395, 8396, 8398, 8399, 8402, 8403, 8404, 8405, 8406, 8407, 8408, 8409, 8411, 8412, 8416, 8417, 8418, 8419, 8420, 8424, 8425, 8427, 8428, 8431, 8433, 8434, 8435, 8436, 8437, 8438, 8439, 8440, 8443, 8444, 8445, 8446, 8447, 8448, 8449, 8450, 8451, 8452, 8453, 8454, 8455, 8456, 8458, 8459, 8460, 8462, 8464, 139538, 8467, 8468, 8470, 8473, 8476, 8477, 8479, 8480, 8481, 8482, 8483, 8484, 8487, 8490, 8491, 8492, 8493, 8495, 8496, 8497, 8498, 8499, 8500, 8501, 8502, 8503, 8504, 8505, 8506, 8507, 8508, 8509, 8512, 8513, 8514, 8515, 8516, 8517, 8518, 8519, 8520, 8521, 8522, 8525, 8526, 8527, 8528, 8529, 8530, 8531, 8533, 8534, 8535, 8536, 8537, 8538, 8539, 8540, 8541, 8542, 8543, 8544, 8545, 8546, 8547, 8548, 8549, 8550, 8552, 8553, 8554, 8555, 8556, 8557, 8558, 8559, 8560, 8562, 8563, 8564, 8565, 8566, 8567, 8568, 8569, 8570, 8572, 8573, 8574, 8575, 8576, 8577, 8578, 8581, 8590, 8600, 8601, 8602, 8603, 8604, 8605, 8607, 8608, 8609, 8611, 8612, 8613, 8614, 8615, 8618, 729515, 8621, 8622, 8623, 8624, 8625, 8626, 8630, 8631, 8632, 8633, 8634, 8635, 8636, 8638, 8639, 8642, 8643, 8644, 8645, 8646, 8647, 8648, 8649, 8650, 8651, 8653, 8654, 8655, 8658, 8659, 8660, 8661, 8662, 8664, 8665, 8666, 8667, 8668, 8669, 8671, 8672, 8673, 8674, 8675, 8676, 8677, 8678, 8682, 8685, 8687, 8688, 8689, 8690, 8692, 8694, 8697, 8698, 8702, 8703, 8704, 8705, 8706, 8707, 8708, 8710, 8711, 8712, 8714, 8715, 8717, 8718, 8720, 8721, 8722, 8723, 8724, 8725, 8726, 8727, 8728, 8729, 8731, 8732, 8733, 8735, 8736, 8737, 8738, 8739, 8740, 8741, 8742, 8743, 8744, 8745, 8748, 8749, 8751, 8754, 8756, 8760, 8761, 8763, 8764, 8766, 8767, 8772, 8773, 8774, 8775, 8776, 8777, 8778, 8780, 8785, 8786, 8787, 8788, 8789, 8790, 8792, 8793, 8794, 8795, 8796, 8798, 8799, 8800, 8801, 8802, 8803, 8804, 8805, 8807, 8808, 8809, 8811, 8812, 8813, 8814, 8815, 8817, 8818, 8819, 8820, 8821, 8822, 8824, 8825, 8826, 8828, 8829, 8832, 8833, 8834, 8835, 8836, 8837, 8838, 402055, 8839, 8840, 8841, 8842, 8844, 8846, 8848, 8850, 8851, 8852, 8853, 8854, 8856, 8857, 8858, 8859, 8861, 8863, 8864, 8867, 8869, 8870, 8871, 8872, 8874, 8875, 8876, 8877, 8878, 8879, 8880, 8881, 8882, 8883, 8884, 8886, 8887, 8888, 8890, 8891, 8892, 8893, 8894, 8895, 8896, 8897, 8898, 8899, 8900, 729799, 8904, 8905, 8906, 8908, 8909, 8910, 8911, 8912, 8913, 8914, 8915, 8916, 8924, 8925, 8927, 8928, 8929, 8930, 8932, 8933, 8934, 8935, 8936, 8938, 8939, 8940, 8941, 8942, 8943, 8945, 205564, 8970, 8971, 8972, 8973, 8974, 8975, 8976, 8985, 8986, 8988, 8989, 8991, 8992, 8993, 8994, 8995, 8996, 8997, 8999, 9001, 9002, 9013, 9014, 9015, 9016, 9019, 9021, 9022, 9023, 9024, 9025, 9026, 9028, 9031, 9032, 9033, 9034, 9037, 9038, 9039, 9040, 9043, 9044, 9045, 9046, 9047, 9048, 9049, 9050, 9051, 9052, 9053, 9054, 9055, 9056, 9057, 9058, 9060, 9061, 9063, 9064, 9070, 9071, 9073, 9074, 9076, 9077, 9079, 9080, 9081, 9083, 9085, 9086, 9087, 9088, 9091, 9092, 9093, 9094, 729991, 9095, 9097, 9099, 9100, 9101, 9103, 9104, 9107, 9108, 9110, 9111, 9112, 9113, 9114, 9118, 9119, 9120, 9121, 9122, 9123, 9124, 9125, 9126, 9127, 9128, 9129, 9130, 9131, 9132, 9133, 9134, 9135, 9136, 9138, 9139, 9140, 9141, 9142, 9143, 9144, 9145, 9146, 9147, 9148, 9149, 9150, 9152, 9153, 9154, 730051, 9156, 9158, 9159, 9162, 9166, 9167, 9168, 9169, 9170, 9172, 9173, 9175, 9177, 9179, 9180, 9181, 9182, 9183, 9184, 9185, 9187, 9188, 9189, 9191, 9194, 9196, 9197, 9200, 9201, 9202, 9203, 9204, 730101, 9205, 9208, 9209, 9210, 9211, 9212, 9214, 9215, 9217, 140290, 9218, 9219, 9221, 9223, 9227, 9228, 9229, 9230, 9231, 9232, 9235, 9236, 9238, 9240, 9242, 9244, 9245, 9246, 9247, 9248, 9249, 9252, 9254, 9255, 9256, 9258, 9260, 9261, 9262, 9263, 9265, 9266, 9267, 9270, 9271, 9274, 9275, 9276, 9277, 9278, 9282, 9283, 9284, 9287, 9288, 9289, 9293, 9294, 9295, 9296, 9306, 9308, 9310, 9311, 9312, 9313, 9314, 9315, 9317, 9318, 9319, 9320, 9321, 9322, 9324, 9325, 9326, 9328, 9329, 9330, 730227, 9331, 9332, 9333, 9334, 9337, 9338, 9340, 9341, 9342, 9344, 9348, 9350, 9351, 9352, 9353, 9354, 9355, 9356, 9358, 9360, 9361, 9362, 9363, 9364, 9365, 9366, 9367, 9368, 9369, 9370, 9371, 9372, 9373, 9374, 9375, 9376, 9377, 9378, 9379, 9380, 9381, 140459, 140460, 140461, 140462, 9388, 9389, 140465, 9390, 140467, 9391, 9392, 9394, 9397, 9398, 9399, 9400, 9401, 9402, 9403, 9404, 9407, 9409, 9410, 9411, 9412, 9413, 9414, 9415, 9416, 9419, 9420, 9421, 9422, 9423, 9425, 9427, 9429, 9435, 9436, 9437, 9439, 9440, 9442, 9443, 9444, 9445, 9446, 9447, 9448, 9450, 9451, 9452, 9453, 9454, 9455, 9456, 9457, 9459, 9462, 9463, 9464, 9465, 9466, 9467, 9468, 9469, 9470, 9472, 140545, 9473, 9474, 9475, 9477, 9478, 9479, 9480, 9482, 9486, 9487, 9488, 9489, 9491, 9493, 9495, 9496, 9497, 9498, 9499, 9500, 9501, 140578, 9506, 9508, 9509, 9510, 9512, 9513, 9514, 9515, 9516, 9517, 9518, 9519, 9520, 9521, 9522, 9524, 140597, 9525, 9526, 9527, 9528, 9529, 9530, 9531, 9532, 9533, 9534, 9535, 140609, 9536, 9537, 9538, 9540, 9541, 9542, 9545, 9546, 9547, 9550, 9551, 9552, 9553, 9555, 9556, 9557, 9559, 9562, 9563, 9567, 9568, 9569, 9570, 9573, 9575, 9576, 9577, 9578, 9580, 9581, 9582, 9583, 9584, 9585, 9586, 9587, 9588, 9589, 9590, 9592, 9595, 9597, 9600, 9601, 9603, 9604, 9605, 9607, 9609, 9610, 9611, 9612, 9616, 9617, 9618, 9619, 9620, 9623, 9625, 9627, 9628, 9629, 9630, 9631, 9632, 9633, 9635, 9636, 9637, 140710, 9638, 9639, 9640, 9641, 9643, 9644, 9645, 9646, 9647, 9648, 9649, 9650, 9651, 9652, 9653, 9654, 9655, 9656, 9657, 9658, 9659, 9662, 9663, 9665, 9666, 9667, 9668, 9669, 9670, 9671, 9672, 9673, 9674, 9675, 9677, 9678, 9679, 9681, 9682, 9683, 9684, 9685, 9686, 9687, 9688, 9689, 9690, 9692, 9693, 9694, 9695, 9696, 9697, 9698, 9699, 9700, 9701, 9702, 9703, 9704, 9705, 9706, 9709, 9710, 9711, 9712, 9715, 9716, 9717, 9718, 9719, 9720, 9721, 9722, 9723, 9725, 9726, 9727, 9728, 140801, 9729, 140803, 9730, 9731, 9732, 9733, 9734, 9735, 9736, 9737, 9738, 9739, 9741, 9742, 9743, 9744, 9745, 9746, 9747, 9748, 206358, 9749, 9750, 9751, 9752, 9753, 9754, 9755, 9757, 9758, 9759, 9760, 9761, 9762, 9764, 9765, 9766, 9767, 9768, 9770, 9771, 9772, 9774, 9775, 9776, 9777, 9778, 9779, 9780, 9781, 9782, 9783, 9784, 9785, 9786, 9787, 9788, 9790, 9791, 9792, 9793, 9794, 9796, 9797, 9798, 9801, 9802, 9804, 9805, 9806, 9807, 9810, 140883, 9811, 140885, 9812, 9813, 9814, 9815, 140890, 9816, 9817, 9818, 9819, 9820, 9821, 9823, 9824, 9825, 9826, 9827, 9828, 9829, 9830, 9831, 9832, 9833, 9834, 9836, 9837, 9839, 9840, 9841, 9842, 9843, 9844, 9846, 9847, 9848, 9849, 9851, 9853, 9854, 9855, 9856, 9857, 9858, 9859, 9860, 9861, 9862, 9863, 9866, 9867, 9868, 9869, 9870, 9871, 9873, 9874, 9875, 9877, 9878, 9879, 9880, 9881, 9882, 9883, 9885, 9886, 9887, 9889, 9890, 9891, 9892, 9894, 9895, 9896, 9897, 9898, 9899, 9900, 9901, 9902, 9903, 9904, 9905, 9907, 9908, 9909, 9910, 9911, 9912, 9913, 9914, 9915, 9917, 9918, 9919, 9920, 9921, 9922, 9923, 9924, 9925, 9926, 9927, 9928, 9929, 9931, 9933, 9934, 9935, 9936, 9937, 9938, 9939, 9940, 9941, 9942, 9943, 9945, 9946, 9947, 9948, 9949, 9950, 9953, 9955, 9956, 9957, 9958, 9960, 9961, 9962, 9966, 9967, 9968, 9969, 9970, 9971, 9972, 9973, 9975, 9976, 9978, 9980, 9982, 9984, 9985, 9987, 9988, 9989, 9990, 9991, 9992, 9993, 9997, 10000, 10001, 10003, 10004, 10005, 10006, 10007, 10009, 10010, 10013, 10014, 10015, 10016, 10017, 10018, 10019, 10020, 10021, 10022, 10023, 10024, 10025, 10026, 10036, 10038, 10039, 10040, 10042, 10043, 10044, 10045, 10046, 10047, 10048, 10049, 10050, 10051, 10052, 10053, 10054, 10055, 10057, 10058, 10059, 10060, 10061, 10062, 10063, 10066, 10067, 10068, 10069, 10072, 10073, 10075, 10076, 10077, 10078, 10079, 10083, 10084, 10085, 10086, 10087, 10089, 10090, 10092, 10093, 10094, 10095, 10096, 10097, 10098, 10099, 10100, 10101, 10102, 10103, 10105, 10106, 10107, 10109, 10110, 10111, 10112, 10113, 10114, 10116, 10120, 10121, 10123, 10124, 10125, 10126, 10127, 10128, 10129, 10130, 10131, 10133, 10134, 10135, 10136, 10138, 10139, 10140, 10141, 10142, 10144, 10146, 10147, 10148, 10149, 10150, 10151, 10152, 10153, 10154, 10155, 10156, 10157, 10158, 10159, 10160, 10161, 10162, 10163, 10164, 10165, 10166, 10168, 10169, 10170, 10171, 10174, 10175, 10178, 10179, 10180, 10181, 10184, 10186, 10188, 10190, 10193, 10195, 10196, 10197, 10198, 10199, 10200, 10201, 10202, 10203, 10204, 10205, 10206, 10207, 10208, 10209, 10210, 10211, 10212, 10213, 10214, 10215, 10216, 10217, 10218, 10219, 10220, 10221, 10223, 10224, 10225, 10226, 10227, 10228, 10229, 10230, 10231, 10232, 10233, 10234, 10235, 10236, 10237, 10238, 10239, 10240, 10241, 10242, 10243, 10244, 10245, 10246, 10247, 10248, 10249, 10250, 10252, 10253, 10254, 10255, 10256, 10257, 10260, 10261, 10262, 10263, 10265, 10266, 10267, 10268, 10269, 10270, 10272, 10273, 10274, 10276, 10277, 10278, 10279, 10280, 10281, 10282, 10284, 10285, 10286, 10287, 10288, 10289, 10290, 10291, 10293, 10294, 10295, 10296, 10297, 10298, 10299, 10300, 10301, 10302, 10307, 10308, 10309, 10311, 10312, 10313, 10314, 10316, 10317, 10318, 10319, 10320, 10321, 10322, 10324, 10325, 10326, 10327, 10328, 10329, 10330, 10331, 10332, 10333, 10336, 10342, 10343, 10345, 10346, 10347, 10351, 10352, 10360, 10362, 10363, 10365, 10367, 10368, 10369, 10370, 10371, 10376, 10379, 10380, 10381, 10382, 10383, 10384, 10385, 10388, 10389, 10390, 10391, 10392, 10393, 10394, 10395, 10396, 10397, 10398, 10399, 10400, 10401, 10402, 10403, 10404, 10406, 10407, 10408, 10409, 10410, 10411, 10412, 10413, 10417, 10418, 10419, 10420, 10421, 10422, 10423, 10424, 10425, 10426, 10427, 10428, 10430, 10432, 10434, 10435, 10437, 10438, 10439, 10440, 10443, 10444, 10445, 10446, 10447, 10449, 10450, 10451, 10452, 10454, 10455, 10456, 10457, 10458, 10460, 10461, 10462, 10463, 10464, 10465, 10466, 10467, 10468, 10469, 10471, 10472, 10473, 10474, 10475, 10476, 10477, 10478, 10479, 10480, 10481, 10482, 10483, 10484, 10485, 10486, 10487, 10488, 10489, 10490, 10491, 10492, 10493, 10494, 10495, 10497, 10498, 10499, 10500, 10501, 10505, 10507, 10512, 10513, 10514, 10516, 10518, 10519, 10520, 10521, 10522, 10523, 10524, 10525, 10526, 10527, 10528, 10529, 10531, 10533, 10534, 10535, 10536, 10538, 10539, 10540, 10541, 10542, 10544, 10549, 10550, 10551, 10552, 10553, 10554, 10555, 10556, 10557, 10558, 10559, 10560, 10561, 10562, 10563, 10564, 10565, 10566, 10567, 10568, 10570, 10572, 10573, 10574, 10575, 10576, 10577, 10578, 10579, 10580, 10581, 10584, 10585, 10586, 10587, 10588, 10589, 10590, 10591, 10592, 10594, 10595, 10598, 10599, 10600, 10602, 10603, 10605, 10606, 10607, 10608, 10609, 10610, 10611, 10612, 10613, 10614, 10615, 10616, 10617, 10618, 10620, 10621, 10622, 10623, 10625, 10626, 10627, 10628, 10629, 10630, 10631, 10632, 10633, 10634, 10635, 10636, 10637, 10640, 10641, 10643, 10644, 10645, 10647, 10648, 10650, 10651, 10652, 10653, 10654, 10656, 10657, 10658, 10659, 10660, 10661, 10663, 10664, 10665, 10666, 10667, 10668, 10669, 10670, 10671, 10672, 10675, 10677, 10678, 10681, 10682, 10683, 10686, 10687, 10690, 10691, 10692, 10693, 10694, 10695, 10699, 10712, 10713, 10714, 10716, 10721, 10723, 10724, 10725, 10726, 10728, 10730, 10732, 10733, 10734, 10735, 10736, 10738, 10739, 10740, 10741, 10742, 10743, 10744, 10745, 10746, 10747, 10749, 10750, 10752, 10753, 10755, 10758, 10761, 10762, 10763, 10765, 10766, 10767, 10768, 10769, 10771, 10772, 10773, 10775, 10776, 10777, 10778, 10780, 10781, 10782, 10785, 10786, 10787, 10788, 10791, 10793, 10794, 10795, 10797, 10798, 10799, 10800, 10801, 10802, 10803, 10807, 10808, 10810, 10813, 10814, 10816, 10817, 10818, 10819, 10825, 10826, 10827, 10840, 10841, 10842, 10844, 10845, 10846, 10847, 10848, 10850, 10855, 10856, 10857, 10858, 10859, 10861, 10863, 10864, 10865, 10866, 10867, 10868, 10869, 10871, 10873, 10874, 10875, 10876, 10877, 404093, 10879, 10880, 10881, 10882, 10884, 10885, 10891, 10892, 10893, 10894, 10895, 10896, 10897, 10898, 10899, 10900, 10902, 10903, 10904, 10905, 10906, 10907, 10908, 10911, 10912, 10913, 10914, 10915, 10916, 10917, 10919, 10920, 10921, 10922, 10923, 10924, 10926, 10927, 10928, 10930, 10933, 10935, 10936, 10938, 10939, 10940, 10942, 10943, 10944, 10945, 10946, 10947, 10948, 10949, 10950, 10951, 10952, 10953, 10954, 10955, 10956, 10957, 10959, 10960, 10961, 10962, 10963, 10964, 338645, 10966, 10969, 10970, 10971, 10972, 10973, 10974, 10975, 10978, 10979, 10980, 10981, 10982, 10983, 10985, 10987, 10988, 10989, 10990, 10992, 10993, 10994, 10998, 11000, 11001, 11004, 11005, 11006, 11007, 11009, 11010, 11011, 11012, 11013, 11014, 11015, 11016, 11017, 11018, 11019, 11020, 11021, 11022, 11024, 11025, 11026, 11027, 11030, 11031, 11033, 11034, 11037, 11040, 11041, 11043, 11044, 11045, 11046, 11047, 11051, 11052, 11054, 11055, 11056, 11057, 11059, 11060, 11061, 11062, 11063, 11064, 11065, 11066, 11067, 11068, 11069, 11070, 11072, 11073, 11074, 11075, 11076, 11077, 11078, 11079, 11080, 11081, 11082, 11083, 43847, 11085, 11086, 43849, 11092, 11093, 11094, 11095, 11096, 11097, 11098, 11099, 11100, 11102, 11103, 11104, 11107, 11108, 11113, 11116, 11117, 11118, 11119, 11120, 11122, 11123, 11124, 11126, 11127, 11129, 11130, 11131, 11132, 11133, 11135, 11136, 11137, 11138, 11140, 11141, 11142, 11143, 11144, 11145, 11146, 11147, 11148, 11151, 11152, 11153, 11154, 11155, 11156, 11157, 11160, 11161, 11162, 11163, 11165, 11166, 11167, 11168, 11169, 11170, 11171, 11172, 11173, 11174, 11176, 11177, 11178, 11179, 11180, 11181, 11182, 11183, 11184, 11186, 11187, 11188, 11189, 11190, 11191, 11193, 11194, 11196, 11197, 11198, 11199, 11200, 11201, 11202, 11211, 11212, 11213, 11214, 11215, 11216, 11219, 11221, 11222, 11224, 11226, 11228, 11230, 11231, 11232, 11234, 11235, 11236, 11237, 11238, 11240, 11243, 11245, 11247, 11248, 11250, 11251, 11252, 11253, 11254, 11255, 11257, 11258, 11259, 11260, 11261, 11262, 11264, 11266, 11267, 11272, 11273, 11274, 11275, 11276, 11278, 11279, 11280, 11281, 11282, 11284, 11285, 11309, 11311, 11313, 11314, 11315, 11316, 11317, 11318, 11319, 11320, 11321, 11322, 11325, 11326, 11328, 11329, 11330, 11331, 11332, 11333, 11334, 11335, 11336, 11338, 11339, 11340, 11341, 11342, 11343, 11344, 11345, 11346, 339044, 339105, 404672, 339229, 339287, 339290, 142684, 339448, 339479, 340351, 373156, 340591, 144404, 78986, 78987, 78988, 78989, 78990, 78991, 78992, 78994, 78995, 78996, 78997, 78998, 78999, 79000, 79001, 79003, 79004, 79005, 79006, 79007, 79009, 79012, 79015, 79016, 79017, 79018, 79019, 79022, 79023, 79024, 79025, 79026, 79029, 79033, 79034, 79035, 79036, 79038, 79039, 79042, 79047, 79048, 79050, 79053, 79054, 79056, 79057, 79058, 79064, 79065, 79066, 79068, 79070, 79071, 79072, 79073, 79074, 79075, 79077, 79078, 79080, 79083, 79084, 79085, 79086, 79087, 79088, 79089, 79090, 79091, 79092, 79094, 79095, 79096, 79097, 79098, 79101, 79109, 79132, 79133, 79134, 79135, 79137, 79139, 79140, 79143, 79144, 79145, 79147, 79148, 79149, 79152, 79153, 79154, 79155, 79156, 79157, 79158, 79159, 79161, 144699, 79166, 79169, 79170, 79171, 79172, 79173, 79174, 79175, 79176, 79177, 79178, 79180, 79183, 79184, 79187, 79188, 79228, 79230, 79269, 79363, 79364, 79365, 79366, 79368, 79369, 79370, 374286, 374291, 79400, 79411, 79412, 79413, 79414, 79415, 79441, 374354, 79442, 79443, 79444, 79446, 439921, 79567, 79568, 79570, 79571, 79572, 79573, 79574, 79575, 79577, 440026, 79581, 79582, 79583, 79585, 79586, 79587, 79589, 79590, 79591, 79594, 79595, 79596, 79598, 79600, 79602, 79603, 79605, 79608, 79609, 79611, 79612, 79616, 79618, 79621, 79622, 79623, 79624, 440073, 79625, 79627, 79628, 79629, 112398, 112399, 79630, 79631, 79632, 79633, 79634, 79635, 79637, 79639, 79640, 79641, 79642, 79643, 79644, 79645, 79646, 79647, 79648, 79649, 79650, 79651, 79652, 79654, 79656, 79657, 79658, 79659, 79661, 79663, 79664, 79665, 79666, 79667, 79668, 79669, 79670, 79671, 79672, 79673, 79675, 79676, 79677, 79679, 79682, 79683, 79684, 79685, 79686, 79689, 79690, 79691, 79693, 79694, 79695, 112464, 79696, 79698, 79701, 79703, 79705, 79706, 79707, 79709, 79710, 112479, 79712, 79713, 79714, 79716, 79717, 79718, 79719, 79720, 79722, 79723, 79724, 79725, 79726, 79727, 79728, 79729, 79730, 79731, 79733, 79734, 79735, 79736, 79738, 79739, 79740, 79741, 79742, 374655, 79744, 440193, 79745, 79746, 79747, 79748, 79750, 79751, 79752, 79753, 79754, 79755, 79758, 79759, 79760, 79762, 79763, 79767, 79768, 79770, 79772, 79774, 79776, 79777, 79778, 79780, 79781, 79782, 79783, 79784, 79785, 79786, 79788, 79789, 79792, 79794, 79797, 79799, 79800, 79801, 79802, 79803, 79804, 79805, 79807, 79809, 79810, 79811, 79812, 79813, 79814, 79815, 79816, 79817, 79818, 79819, 79820, 79822, 79823, 79825, 79828, 79829, 79830, 79831, 79832, 79833, 79834, 79836, 79837, 79838, 79839, 79840, 79841, 79842, 112611, 79843, 79844, 79845, 79846, 79847, 79848, 79849, 79850, 79852, 145389, 79853, 79854, 79858, 79861, 79862, 79863, 79864, 79865, 79866, 79867, 79868, 79869, 79870, 79871, 79872, 79873, 79874, 79875, 79876, 79877, 79879, 79882, 79883, 79884, 79885, 79886, 79887, 79888, 79890, 79891, 79892, 79893, 79894, 79895, 79896, 79898, 79899, 79901, 79902, 79903, 440352, 79905, 79906, 374819, 79908, 79912, 79913, 79915, 79917, 79918, 79919, 79921, 79922, 79923, 79924, 79927, 79929, 79930, 79931, 79932, 79933, 79934, 79935, 440387, 79939, 79940, 79943, 79944, 79946, 79947, 79948, 79949, 342096, 79953, 79954, 79955, 374868, 79956, 79957, 79958, 79959, 79960, 79961, 79962, 79963, 79966, 79968, 79969, 79970, 79971, 79973, 79974, 79977, 79979, 79980, 79981, 79982, 79983, 79986, 79987, 79989, 79990, 79991, 79998, 80000, 80003, 80004, 80005, 80006, 80007, 80008, 80010, 80011, 80012, 80013, 80014, 80017, 80019, 80020, 80021, 80022, 80023, 80024, 80025, 80028, 80031, 80032, 80034, 80036, 80045, 80055, 80059, 80063, 374977, 440515, 80067, 80069, 80070, 80071, 80072, 80086, 80095, 80099, 112869, 80108, 80110, 80111, 440560, 80114, 80115, 80117, 80122, 375035, 80124, 80125, 80127, 80128, 80129, 80131, 80133, 80135, 80142, 80143, 375056, 375057, 80144, 80145, 80146, 80148, 80149, 80150, 80152, 80153, 80155, 80157, 80161, 80162, 80164, 80167, 80168, 80169, 80173, 80174, 80176, 80177, 80178, 80179, 112950, 80183, 80184, 80185, 80194, 80195, 80196, 80198, 80199, 80201, 80204, 80205, 80206, 80207, 80208, 80209, 80210, 80212, 80213, 80216, 80217, 80218, 80219, 80221, 80222, 80223, 80224, 80227, 80228, 80230, 80231, 80232, 80233, 80235, 80243, 80254, 80255, 80256, 80258, 80262, 80263, 80264, 80267, 80271, 80273, 80279, 440738, 80301, 80303, 80304, 80305, 80306, 80308, 80310, 80316, 80317, 80319, 80321, 80323, 80324, 80328, 80329, 80335, 375248, 80339, 80342, 80344, 80345, 80346, 80347, 80349, 80350, 80351, 80352, 113146, 80380, 342538, 113177, 113178, 375346, 440915, 113251, 146057, 375449, 441024, 113419, 113457, 146227, 80700, 441151, 80704, 80705, 80723, 80724, 80736, 80737, 80739, 80740, 80741, 80742, 80745, 80746, 80755, 80757, 80758, 80760, 80761, 80762, 80763, 80764, 80765, 80772, 80774, 80775, 80776, 80777, 80778, 80781, 80789, 80823, 80830, 80831, 80833, 113612, 80853, 80862, 375790, 80895, 80896, 343071, 80975, 146542, 113791, 146562, 81027, 81029, 81030, 81031, 81033, 81034, 81035, 113835, 113878, 474344, 441601, 146691, 146712, 146754, 114034, 114044, 114049, 81285, 114088, 114112, 376267, 146909, 81490, 81491, 81492, 81493, 81494, 376412, 81501, 81533, 81537, 81539, 81542, 81543, 81544, 81545, 81550, 81551, 81552, 81553, 81554, 81555, 81556, 81558, 114327, 81562, 81563, 81565, 81566, 81569, 81570, 81571, 81575, 81576, 81577, 81578, 81579, 81602, 81603, 81605, 81606, 81608, 81609, 81611, 81614, 81616, 81617, 81618, 81619, 81620, 81621, 81622, 81623, 81624, 81626, 81627, 81628, 81631, 147179, 81669, 81688, 81689, 81691, 81693, 81697, 442186, 442194, 114548, 81790, 81792, 81796, 81797, 147339, 81831, 81833, 81839, 343990, 81847, 81848, 81849, 81850, 81851, 81853, 81854, 81855, 81856, 114625, 81857, 81858, 81870, 81873, 81875, 81876, 81887, 81888, 81890, 81892, 81894, 81926, 81929, 81930, 81931, 81932, 245812, 114791, 114818, 114819, 114876, 114881, 114882, 114883, 114884, 114885, 147657, 114897, 114899, 114908, 114932, 22844, 22845, 22846, 22847, 22848, 22853, 22854, 22858, 22859, 22863, 22866, 22873, 22875, 22876, 22877, 22879, 22880, 22881, 115123, 22884, 22885, 147912, 22887, 22888, 22889, 22890, 246243, 22891, 115201, 115207, 148022, 22909, 22914, 22915, 22916, 148066, 22920, 115353, 22930, 49855, 49856, 49860, 148229, 541578, 22978, 22979, 22980, 22981, 22983, 22984, 246721, 115653, 22987, 22993, 22994, 115703, 115708, 22998, 22999, 23002, 115817, 23022, 23023, 23024, 23025, 23026, 23031, 23033, 23034, 23035, 23036, 55601, 55602, 23042, 115939, 23046, 23048, 55614, 55616, 148753, 23054, 55619, 50485, 50486, 50487, 50488, 50489, 23060, 55626, 23063, 116039, 23064, 50506, 50507, 50508, 50509, 50512, 50514, 50515, 23076, 23077, 23081, 23082, 55647, 116138, 50613, 50615, 50616, 50617, 50618, 50619, 100287932, 55651, 50624, 50626, 83394, 50628, 50632, 55655, 50649, 50650, 55660, 83439, 83440, 50674, 83442, 83443, 83444, 83445, 83446, 83447, 83448, 83449, 83450, 83451, 83452, 83460, 83461, 83463, 83464, 50700, 83468, 83475, 55669, 83478, 83480, 83481, 83482, 83483, 50717, 55671, 116285, 55679, 55681, 149076, 55683, 50804, 50805, 149111, 50807, 50809, 50810, 50813, 50814, 55690, 50831, 50832, 50833, 50834, 50835, 116372, 50836, 50837, 50838, 50839, 50840, 83604, 55695, 50848, 50852, 50853, 50854, 50855, 50856, 50859, 55699, 50861, 50862, 50863, 50865, 55700, 83637, 83638, 55701, 55704, 83658, 55705, 83660, 55706, 55709, 83696, 83700, 50937, 50939, 50940, 55715, 50943, 50944, 83714, 83715, 83716, 116496, 83729, 83734, 83737, 83743, 83744, 83752, 83759, 50999, 51001, 51002, 51003, 51004, 51005, 51006, 51008, 51009, 51011, 51012, 51013, 51014, 51015, 51016, 51018, 51019, 51020, 51021, 51022, 51023, 51024, 51025, 51026, 51027, 51029, 51030, 51031, 51032, 51035, 55734, 55735, 51042, 51043, 51046, 51050, 51052, 51053, 51054, 51056, 55738, 51063, 51065, 51066, 51067, 51068, 51069, 51070, 51071, 51073, 51074, 51075, 51076, 51077, 51078, 51081, 51082, 51083, 51084, 51085, 51086, 51087, 51090, 51092, 51093, 51094, 51096, 51097, 51098, 51099, 51100, 100288413, 51101, 51102, 51103, 51104, 51105, 51106, 51107, 51108, 51109, 51110, 51111, 51112, 51115, 51116, 51117, 51118, 55750, 51121, 51123, 51124, 51125, 51127, 51128, 51129, 51131, 51133, 51134, 51135, 51136, 51138, 51141, 51142, 51143, 51144, 51145, 51146, 51147, 51149, 51150, 51151, 51154, 51155, 51156, 51157, 51160, 51161, 51162, 51163, 51164, 55759, 51167, 51168, 83937, 51170, 51171, 51172, 83941, 51174, 83942, 51176, 51177, 55762, 51179, 23197, 51181, 51182, 55763, 51184, 51185, 51186, 51187, 51188, 83955, 51191, 51192, 51193, 55765, 51195, 51196, 51199, 51200, 51202, 51203, 51204, 51205, 51206, 51207, 51208, 55768, 51213, 51214, 51218, 83988, 83989, 51222, 83990, 51224, 51226, 51227, 51228, 51230, 51231, 51232, 51233, 51236, 51237, 51241, 346157, 55777, 51257, 51265, 51266, 51267, 51268, 84033, 51270, 51271, 51272, 84034, 51274, 51275, 51276, 55781, 51278, 51279, 51280, 51281, 280658, 51282, 51283, 51284, 51285, 51286, 51287, 51289, 51290, 51291, 51292, 51293, 51294, 51295, 116832, 51296, 51297, 149603, 51298, 51299, 51301, 51302, 51303, 51304, 51306, 51307, 51308, 51309, 51310, 51311, 51312, 51313, 51314, 51315, 51316, 51317, 51318, 51319, 51320, 51321, 51322, 149628, 51324, 51327, 51329, 51330, 51332, 51333, 51334, 51335, 51337, 51338, 51339, 51340, 51341, 84107, 51343, 51347, 51348, 51350, 51351, 51352, 84124, 51360, 51361, 51362, 51363, 51364, 51365, 51366, 51367, 51368, 51371, 51372, 51374, 51375, 51377, 51378, 51379, 51380, 84148, 51382, 51384, 51385, 51386, 51388, 51389, 84159, 51393, 84162, 55805, 84164, 51397, 51399, 51400, 84168, 84172, 51409, 51411, 51412, 84179, 84187, 51421, 51422, 84193, 51427, 51428, 84196, 51430, 51433, 51435, 51438, 51439, 51440, 51441, 51442, 51444, 55815, 51447, 116984, 116985, 116986, 116987, 51449, 51450, 51451, 51454, 51455, 84223, 51458, 55818, 51460, 51465, 51466, 51471, 51474, 51475, 84243, 51477, 51478, 51479, 51480, 84253, 51490, 51491, 51493, 51495, 84263, 51497, 51499, 84268, 51501, 84271, 51504, 84272, 51506, 51507, 51510, 51512, 51513, 51514, 641339, 51517, 55830, 51520, 84288, 51526, 84296, 55832, 84298, 51531, 51533, 84301, 84302, 51540, 51542, 51547, 51548, 51550, 51552, 51554, 51555, 51557, 51559, 51560, 51561, 51562, 51564, 55839, 51566, 51567, 51569, 51571, 51573, 51574, 51575, 51582, 51585, 51586, 55843, 51588, 55844, 51592, 51593, 51594, 51596, 84364, 51599, 51601, 51603, 51604, 55847, 51606, 51611, 51614, 51616, 117153, 51617, 51619, 51621, 51626, 51631, 51634, 51635, 51637, 117178, 51642, 51643, 51646, 51647, 346562, 51650, 51651, 51652, 51654, 51657, 51659, 51660, 51663, 51665, 51666, 55859, 51668, 51669, 84436, 51673, 84444, 51678, 55862, 149986, 55863, 51686, 51690, 51691, 51693, 51696, 51700, 51701, 51702, 51703, 51704, 51705, 51706, 55867, 117246, 117247, 51710, 51714, 51715, 51716, 51719, 51720, 55870, 51725, 51727, 51728, 51729, 51733, 51734, 51741, 51742, 51744, 51747, 84516, 51750, 51751, 51752, 55876, 51754, 51755, 84525, 51759, 51760, 51761, 51762, 51763, 51764, 51765, 51768, 51773, 51776, 51778, 51780, 84549, 150094, 84560, 84561, 55885, 51805, 51806, 51807, 51809, 51816, 55890, 55893, 84612, 84617, 84619, 150160, 84656, 84658, 55905, 84669, 55906, 84679, 84695, 84705, 150244, 55914, 55915, 84720, 84722, 84726, 84733, 84747, 55922, 84759, 84779, 84790, 84804, 84809, 84818, 84820, 84823, 84830, 84851, 84859, 84861, 84864, 84869, 84890, 445347, 84900, 84901, 84908, 84909, 84914, 84928, 84934, 84939, 84942, 84951, 55966, 84975, 84981, 55968, 84986, 84991, 85002, 85021, 347240, 100289678, 56000, 150726, 347344, 85236, 85294, 56034, 85352, 85359, 85360, 85363, 85377, 150967, 85446, 85452, 85453, 85458, 85459, 151011, 85476, 85477, 642559, 151050, 642636, 347733, 118433, 151230, 347853, 118491, 347902, 100093698, 56124, 56132, 85865, 56154, 56155, 56163, 56171, 100126791, 53335, 53339, 53340, 53343, 53346, 53347, 53353, 53358, 53371, 53373, 643224, 53405, 53407, 282808, 118987, 643376, 53615, 53616, 53630, 53635, 53637, 151987, 152006, 152015, 283131, 643641, 53820, 53822, 53826, 53827, 53829, 53832, 283212, 53836, 53838, 53841, 283232, 152185, 56300, 53904, 53905, 53916, 53918, 53919, 283298, 56311, 53942, 53944, 53947, 283345, 54014, 54020, 643854, 54039, 54069, 283450, 283459, 348995, 54093, 54101, 54103, 54107, 54112, 54148, 54149, 283537, 54165, 54187, 54205, 54207, 54209, 54210, 54221, 349152, 644068, 152559, 283638, 644096, 283683, 54328, 54329, 54332, 54344, 54345, 54346, 54360, 54361, 54363, 283755, 54386, 54407, 54413, 54431, 54432, 54433, 54434, 54436, 54438, 54440, 54442, 54453, 54454, 54455, 54457, 54458, 54462, 54463, 54465, 54466, 54468, 54469, 414918, 54470, 54471, 54472, 54474, 54475, 54476, 54477, 54478, 54480, 54482, 54487, 54490, 54491, 54494, 283871, 54496, 54498, 54499, 54502, 54503, 54504, 54505, 54507, 54509, 54512, 54514, 54516, 54517, 54518, 54520, 54521, 54529, 54531, 54532, 54535, 54537, 54538, 54539, 54540, 54541, 54542, 54544, 54545, 54546, 54549, 54550, 283927, 54551, 54552, 54555, 54556, 54558, 54566, 54581, 54583, 54584, 54585, 54587, 54596, 54606, 54619, 54621, 54622, 54623, 284001, 54626, 54629, 284021, 54662, 54663, 54664, 54665, 54674, 54676, 54677, 54680, 54681, 54682, 152992, 120227, 54700, 54704, 54707, 54708, 54714, 54715, 54716, 54718, 54726, 54732, 54733, 54737, 54738, 54739, 54741, 284119, 54752, 54758, 54762, 54765, 54766, 54768, 54769, 54777, 54778, 54780, 54784, 54785, 54788, 54793, 54795, 54796, 54797, 54798, 54799, 54800, 54801, 54802, 54805, 54806, 54807, 54808, 54809, 54810, 54811, 54812, 54813, 54814, 54815, 54816, 54819, 54820, 54821, 54825, 54826, 54827, 54828, 54829, 54830, 54831, 54832, 54834, 54836, 54838, 54839, 54840, 284217, 54842, 54843, 54845, 54847, 54848, 54849, 54850, 54851, 54852, 54853, 54854, 54855, 54856, 54857, 54858, 54859, 54860, 54861, 54862, 54863, 54865, 54866, 54867, 54868, 54869, 54870, 54872, 54873, 54874, 54875, 54876, 54877, 54878, 54879, 54880, 54881, 54882, 54883, 54884, 54885, 54886, 284266, 54891, 54892, 54893, 54894, 54896, 54897, 54898, 54900, 54901, 54902, 54903, 54904, 54905, 54906, 54908, 54910, 54914, 54915, 54916, 54918, 54919, 54920, 54922, 54925, 54927, 54928, 54929, 54930, 54932, 54934, 54937, 54938, 54939, 54941, 54942, 54943, 54946, 54948, 284325, 54951, 54952, 54953, 54954, 54955, 54956, 54957, 54958, 54959, 54960, 54961, 54962, 54963, 54964, 54967, 54968, 54969, 54970, 54971, 54972, 54973, 54974, 284352, 54976, 54977, 54978, 54979, 54980, 54981, 54982, 54985, 54986, 54987, 54988, 54989, 120526, 54991, 54993, 54994, 54995, 54996, 54997, 54998, 55000, 55001, 55002, 55003, 55005, 55006, 55007, 55008, 55009, 55010, 55011, 55012, 55013, 55014, 55015, 55016, 55018, 55020, 55022, 55023, 55024, 55026, 284403, 55027, 55028, 55030, 55031, 55032, 55033, 55034, 55035, 55036, 55037, 55038, 55039, 55040, 55041, 55048, 55049, 55051, 55052, 55054, 55055, 55057, 55061, 55062, 284439, 55063, 55064, 55065, 284443, 55066, 55068, 55069, 55070, 55071, 55072, 55073, 55074, 55076, 55079, 55080, 55081, 55082, 55083, 55084, 55086, 55088, 55089, 55090, 55092, 55093, 55094, 55095, 55096, 55100, 55101, 55102, 55103, 55105, 55106, 55107, 55108, 55109, 55110, 55111, 55112, 55113, 55114, 55116, 55117, 55118, 55119, 55120, 55124, 55125, 55127, 55128, 55129, 55130, 55131, 55133, 55135, 55138, 55139, 55140, 55142, 55143, 55144, 55145, 55146, 55147, 55148, 55149, 55151, 55152, 55153, 55156, 55157, 55159, 55160, 55161, 55163, 55164, 55165, 55166, 55167, 100128640, 55168, 55171, 55172, 55173, 55175, 55176, 55177, 55178, 55179, 55180, 55181, 55182, 55183, 55184, 55186, 55187, 55188, 55190, 55191, 55192, 55193, 55194, 55195, 55196, 55197, 55198, 55199, 55200, 55201, 55203, 55204, 55205, 55206, 55207, 55208, 55209, 55210, 55211, 55212, 55213, 55214, 55215, 55216, 55217, 55218, 55219, 55220, 55222, 55223, 55224, 55225, 55226, 55227, 55228, 55229, 55233, 55234, 55236, 55237, 55238, 55239, 55240, 55243, 55244, 55245, 55246, 55247, 55248, 55249, 55251, 55252, 55253, 55254, 55255, 55256, 55257, 55258, 55259, 55260, 55262, 55266, 55267, 55268, 55269, 55270, 55272, 284649, 55273, 55274, 55275, 55277, 55278, 55279, 55280, 55281, 55282, 55283, 55284, 55285, 55286, 55287, 55288, 55289, 55290, 55291, 55293, 55294, 55295, 55296, 55297, 55298, 55299, 55301, 55303, 55304, 55308, 55311, 55312, 55313, 55314, 55315, 55316, 55317, 55319, 55320, 55321, 55322, 55323, 55324, 55325, 55326, 55327, 55328, 55329, 55332, 55333, 55334, 55335, 55336, 55337, 55339, 55340, 55341, 55343, 55344, 55346, 55347, 55351, 55353, 55355, 55357, 55359, 55361, 55364, 55365, 55366, 55367, 55374, 55379, 55384, 55388, 55421, 55422, 55423, 284800, 55425, 55432, 55435, 55450, 55454, 55466, 121006, 55471, 55486, 219333, 55500, 55501, 55503, 317648, 55505, 55506, 55507, 55508, 55509, 55510, 55511, 55512, 55515, 317662, 55520, 55521, 55526, 284904, 55532, 55534, 55539, 55540, 55544, 55554, 55556, 55558, 55559, 22794, 22795, 22796, 22797, 22798, 55565, 22800, 55567, 22802, 55568, 55573, 22806, 22807, 22808, 22809, 55576, 55577, 55578, 55584, 55585, 22818, 22820, 22821, 22822, 22823, 22824, 55589, 22826, 22827, 22828, 22829, 55591, 55592, 22832, 55596, 22834, 55603, 55604, 22835, 22836, 55607, 55608, 22837, 55610, 55611, 55612, 55613, 22838, 55615, 22839, 55617, 22841, 22843, 55620, 55621, 55622, 55623, 55624, 55625, 22849, 22850, 55628, 22852, 55630, 55631, 22856, 55633, 55634, 55635, 55636, 22861, 55638, 22862, 55640, 22864, 22865, 55643, 55644, 22868, 22869, 22870, 22871, 22872, 55650, 22874, 55652, 55653, 55654, 22878, 55656, 55657, 55658, 22882, 22883, 55661, 55662, 55663, 55664, 55665, 55666, 55667, 55668, 22893, 55670, 22894, 22895, 22897, 22898, 22899, 22900, 22902, 22903, 22904, 55680, 22905, 22906, 22907, 55684, 22908, 55686, 55687, 22911, 55689, 22913, 55691, 55692, 55693, 22918, 22919, 55696, 55697, 22921, 22924, 22925, 22926, 55702, 55703, 22927, 22928, 22929, 55707, 22932, 22933, 22934, 22936, 22937, 22938, 55714, 22941, 22943, 22944, 22948, 22950, 55711, 55713, 22953, 22954, 22955, 55716, 55717, 55718, 55719, 55720, 55721, 55722, 55723, 55726, 55727, 55729, 55731, 55732, 55733, 55739, 55740, 55741, 55742, 55743, 55744, 55745, 55737, 22974, 55748, 22976, 22977, 55751, 55752, 55753, 55754, 55755, 55756, 55757, 55758, 22982, 55760, 55761, 22985, 22986, 55764, 22989, 55766, 22990, 22992, 55769, 55770, 55771, 22995, 22996, 22997, 55775, 55776, 23001, 55778, 55779, 23005, 23007, 23008, 100129250, 23011, 23012, 23013, 23014, 23015, 23016, 55790, 55791, 23017, 55793, 23019, 55795, 55796, 23020, 55798, 55799, 55800, 55801, 55802, 55803, 23028, 23029, 55806, 23030, 100129271, 23032, 55810, 55811, 55812, 55813, 23037, 23038, 23039, 23040, 23041, 55819, 23043, 55821, 219654, 55823, 23047, 55825, 23049, 55827, 23051, 23052, 23053, 55831, 23057, 55833, 285203, 55835, 23059, 55837, 23061, 23062, 55840, 55841, 23065, 23066, 23067, 23070, 23071, 23072, 55848, 23074, 55850, 23075, 55852, 55853, 55854, 23078, 55856, 23080, 645682, 55858, 55860, 23085, 23086, 285231, 23089, 23090, 219699, 23091, 23092, 23093, 23094, 23095, 55872, 23096, 23097, 23099, 23101, 23102, 23105, 23107, 23108, 23109, 23111, 23112, 23113, 23114, 23116, 23117, 23118, 23119, 23120, 55891, 55892, 55884, 23122, 55888, 23125, 23126, 55898, 23127, 55900, 23129, 23130, 23131, 23132, 23133, 23135, 55907, 55908, 55909, 23136, 55911, 23137, 23138, 23139, 23140, 55916, 23141, 23142, 23143, 23144, 645745, 23148, 23149, 55924, 23150, 23151, 23152, 23154, 23155, 55930, 23157, 23158, 23160, 23161, 23162, 23163, 55937, 23164, 23165, 23166, 23167, 23168, 23169, 23170, 23171, 23172, 23173, 23174, 23175, 23176, 23177, 23178, 23179, 23180, 23181, 23185, 55957, 55958, 23186, 645784, 23187, 55954, 23189, 23190, 23191, 23192, 23193, 23194, 55969, 55970, 23195, 55972, 55973, 55974, 55975, 23199, 23200, 23201, 23203, 23204, 23205, 23207, 23208, 23209, 23210, 23211, 23212, 23213, 23214, 23215, 23216, 23217, 23218, 23219, 100129460, 23220, 23221, 23223, 23224, 23225, 56001, 23228, 23229, 23230, 56005, 56006, 23231, 23232, 23233, 23234, 23235, 23236, 23237, 23239, 23240, 23241, 100129482, 23242, 23243, 23244, 23245, 23246, 23247, 23248, 23250, 23251, 23252, 23253, 23254, 23255, 23256, 23258, 23259, 23261, 23262, 23263, 23264, 23265, 23266, 56033, 23268, 23269, 23270, 23271, 23272, 23274, 23275, 23276, 23277, 23279, 23281, 23283, 23284, 23285, 23286, 23287, 23288, 23291, 23293, 23294, 23295, 56061, 56062, 23299, 23300, 23301, 23302, 23303, 23304, 23305, 23306, 23307, 23308, 23309, 23310, 23312, 23313, 23314, 23315, 23316, 23317, 23318, 23321, 23322, 23324, 23325, 23326, 23327, 23328, 23329, 23331, 23332, 23333, 23334, 23335, 23336, 56100, 23338, 23339, 56101, 23341, 56106, 56107, 23344, 23345, 56114, 56112, 23347, 23348, 23349, 23350, 23351, 23352, 23353, 23354, 23355, 56125, 56123, 23357, 56128, 23358, 56130, 23359, 23360, 23361, 23362, 23363, 23365, 23366, 23367, 23368, 23369, 23370, 23371, 23373, 56139, 56145, 56146, 56142, 23376, 56143, 23378, 23379, 23380, 23381, 23382, 23383, 56156, 56157, 56158, 56159, 23384, 23385, 23386, 23387, 23389, 56165, 23390, 23392, 23394, 23395, 23396, 23397, 56172, 23398, 23399, 23400, 23401, 23403, 23404, 23405, 23406, 23408, 23409, 23410, 23411, 23412, 23413, 23414, 23415, 56180, 23417, 23418, 23421, 23423, 23424, 23426, 23428, 23429, 23430, 23431, 23432, 23433, 23434, 23435, 23436, 23438, 23439, 23443, 23446, 23450, 23451, 23452, 285596, 23457, 23460, 23461, 23462, 23463, 23464, 23466, 23467, 23468, 23469, 23471, 23473, 23474, 23475, 23476, 56242, 23478, 23479, 23480, 23481, 56244, 23483, 23484, 56245, 56252, 56253, 56255, 56257, 23491, 23492, 23493, 219595, 56259, 23495, 56260, 23498, 23499, 23500, 56267, 56270, 56271, 56269, 23503, 23504, 23505, 23506, 23507, 23508, 23509, 23510, 23511, 23512, 23513, 23514, 23515, 23516, 23517, 23518, 56287, 56288, 23521, 23522, 23523, 23524, 220134, 23526, 285672, 23527, 23528, 23529, 56301, 56302, 23530, 23531, 23532, 23533, 23534, 23536, 23538, 23539, 23541, 23542, 23543, 23544, 23545, 23546, 23547, 23548, 23549, 23550, 23552, 23553, 23554, 23555, 23556, 23558, 23560, 23562, 23563, 23564, 23566, 23568, 23569, 56339, 56341, 56342, 23576, 56344, 23580, 23583, 23585, 23586, 23587, 23588, 154661, 23589, 23590, 23591, 23592, 23593, 23594, 23595, 23596, 23597, 23598, 23600, 23601, 23603, 23604, 23607, 23608, 23609, 285755, 23612, 23613, 23614, 23615, 23616, 23617, 23619, 23620, 23621, 23623, 23624, 23626, 23627, 23629, 23632, 23633, 23635, 23636, 23637, 23639, 23640, 23641, 23643, 23644, 23645, 23646, 23647, 23648, 23649, 23650, 23654, 23657, 23658, 23659, 23660, 23670, 23673, 23676, 23677, 23682, 23683, 285830, 646282, 23704, 23705, 56474, 56475, 23708, 23710, 56478, 154796, 23742, 23743, 23746, 23753, 56521, 23759, 23760, 23761, 23762, 23764, 23765, 23767, 23768, 23769, 23770, 253143, 23774, 56547, 23780, 56548, 23786, 23787, 23788, 154881, 253190, 56603, 56605, 56606, 56616, 56623, 56647, 56648, 56649, 56650, 56652, 56654, 56656, 56659, 56660, 56667, 56672, 56673, 56674, 56675, 56676, 56681, 56683, 56729, 56731, 220594, 155060, 155066, 286148, 286205, 56829, 56833, 56834, 56848, 56851, 253461, 100130331, 56882, 56886, 56888, 56889, 56890, 56891, 56892, 56893, 56894, 56895, 56897, 56898, 56899, 56901, 56902, 56903, 253512, 24137, 24138, 24139, 24140, 24141, 24142, 56904, 24144, 24145, 24146, 24147, 24148, 24149, 56910, 56911, 56912, 56913, 56914, 56915, 56918, 56920, 56922, 56924, 56905, 56925, 56926, 56929, 56906, 56934, 56935, 56936, 56937, 56938, 56940, 56941, 56942, 56943, 56944, 56945, 56946, 56947, 56948, 56949, 56950, 56951, 56953, 56954, 56955, 56957, 56965, 56967, 56969, 56978, 56979, 56980, 56981, 56983, 56984, 56985, 56986, 56987, 56992, 56993, 56994, 56995, 56996, 56997, 56998, 56999, 57001, 57003, 57007, 89781, 57016, 57017, 57018, 57019, 57020, 89795, 89797, 57030, 57035, 57037, 57038, 57045, 57047, 57048, 57050, 57053, 57060, 57062, 286451, 89845, 122616, 57082, 57084, 89853, 57088, 57089, 57091, 57092, 155400, 57096, 57097, 57099, 57101, 57102, 57103, 57104, 57105, 89870, 57107, 89874, 57109, 57110, 57111, 57113, 57115, 57116, 57117, 57118, 57119, 57122, 57124, 220965, 57125, 57126, 57127, 57128, 57130, 220972, 57132, 57134, 57136, 57140, 57142, 89910, 57144, 57146, 57147, 220988, 57148, 57149, 57150, 57151, 57152, 57154, 57157, 57158, 89927, 57161, 57162, 57165, 122704, 57171, 57172, 89941, 253782, 57175, 89944, 57178, 57180, 57185, 57187, 57188, 57192, 57194, 221037, 57198, 57205, 57209, 57211, 57212, 57213, 57214, 57215, 221061, 57223, 57226, 57228, 221078, 221092, 57282, 221154, 57326, 57332, 57333, 253943, 57335, 57336, 57337, 57338, 57343, 57348, 253959, 90121, 57369, 253980, 90141, 253982, 57379, 57380, 57396, 57402, 57403, 57404, 57405, 57406, 57408, 57415, 57418, 57419, 90199, 90204, 57446, 57447, 57460, 647288, 90233, 57466, 57468, 57470, 57472, 57473, 57476, 100130958, 57493, 254102, 57496, 57498, 57502, 90273, 57506, 57509, 57513, 57515, 57523, 57535, 57538, 57551, 57553, 221395, 57556, 90326, 57559, 90333, 57570, 90338, 57572, 57573, 57576, 57579, 57586, 90355, 57591, 90362, 57596, 57597, 57599, 57602, 221443, 57604, 57608, 57610, 90379, 57613, 57615, 57626, 221472, 57634, 90410, 90411, 57644, 57645, 57658, 57663, 57664, 57665, 57669, 57680, 57698, 57706, 57707, 57710, 57711, 90480, 57715, 57716, 90485, 57718, 57720, 57728, 57731, 57733, 254359, 90522, 57758, 57761, 57763, 254394, 57787, 57794, 57795, 57798, 57799, 57804, 57805, 57817, 57818, 57819, 57820, 57821, 90586, 57823, 57824, 57826, 57827, 57828, 57830, 57834, 57835, 221692, 90627, 57862, 57863, 90634, 90665, 221749, 254531, 221823, 221830, 90806, 90861, 90864, 90865, 221960, 221981, 58155, 58157, 58158, 90956, 58189, 58190, 90957, 90993, 123803, 353189, 100131755, 222161, 123872, 91120, 100131825, 91137, 353299, 222255, 255057, 91227, 58472, 58473, 58477, 58478, 58483, 58486, 58487, 58488, 58494, 58495, 58497, 58498, 58500, 58503, 58504, 124044, 58509, 58510, 58511, 58513, 58516, 58517, 91289, 58525, 25758, 58526, 58528, 58529, 58530, 25763, 91298, 58533, 91300, 91304, 25769, 25770, 25771, 25775, 25776, 25777, 25778, 25780, 25782, 25786, 25787, 25788, 25789, 25790, 25792, 25793, 25794, 25796, 25797, 25799, 25800, 25801, 25802, 25803, 25804, 25805, 25806, 25807, 25809, 25813, 25814, 25816, 25818, 25819, 353500, 25820, 25821, 25822, 25823, 25825, 91355, 25827, 25828, 25829, 25830, 25833, 353514, 25834, 25836, 25837, 91369, 25839, 25840, 25841, 25842, 25843, 25844, 91373, 25847, 124152, 25849, 25850, 25852, 25854, 25855, 25858, 25859, 25861, 25862, 25864, 25865, 25873, 25874, 25875, 25876, 317762, 25878, 222487, 25880, 25879, 25888, 25890, 25891, 25893, 25895, 25896, 25897, 25898, 25900, 25901, 25903, 25906, 25907, 91442, 25909, 91445, 25913, 25915, 124222, 25920, 25924, 25926, 25928, 25932, 25936, 25937, 25939, 25940, 25941, 25945, 25948, 25949, 25950, 25956, 25957, 25959, 25960, 25961, 25963, 25966, 25970, 25972, 317781, 25974, 25975, 25976, 25977, 25978, 25979, 25980, 25983, 25984, 25987, 25988, 25992, 25994, 25996, 25998, 25999, 26000, 26001, 26002, 26003, 26005, 26007, 91543, 26009, 26010, 26011, 26012, 26013, 26015, 26017, 26018, 26019, 26020, 26024, 26027, 26030, 26031, 26032, 26033, 222642, 26034, 26035, 26036, 26037, 26038, 26039, 26040, 26043, 26046, 26047, 26048, 26049, 222658, 26050, 26052, 26053, 26054, 222663, 26056, 26057, 26058, 26059, 26060, 26063, 26064, 26065, 26071, 26073, 26082, 26083, 26084, 26085, 26088, 26091, 26092, 26093, 26094, 26097, 26098, 26099, 26100, 100132341, 26103, 26108, 91646, 91647, 26112, 26115, 26118, 26119, 26121, 26123, 26128, 26130, 26133, 26135, 26136, 26137, 26138, 26140, 26145, 26146, 91683, 26148, 26150, 26151, 26152, 26154, 26155, 26156, 55746, 100132406, 26168, 26173, 386627, 26184, 26189, 26190, 26191, 26205, 26206, 26207, 91746, 26211, 26212, 91752, 58985, 58986, 91754, 26225, 26226, 26227, 26228, 26229, 26230, 26232, 26233, 26234, 26235, 100132476, 26239, 26240, 91775, 91782, 26249, 26251, 26253, 26255, 26256, 26257, 124565, 26261, 26263, 26266, 26268, 26271, 26272, 26273, 91807, 26275, 26276, 26277, 26278, 124583, 26279, 26280, 26281, 26284, 26285, 26286, 26287, 26289, 26290, 26291, 26292, 26297, 26298, 59067, 285282, 91851, 91860, 26330, 26333, 26353, 26354, 26355, 91949, 91966, 255812, 91977, 26468, 26469, 26470, 26471, 26472, 26476, 92017, 23196, 157567, 124801, 26499, 59269, 26502, 26503, 26504, 26505, 59272, 26507, 26508, 223117, 26509, 26511, 26512, 26517, 59286, 26519, 26520, 26521, 26523, 26525, 26528, 26529, 26531, 26532, 26538, 26539, 59307, 23198, 26548, 255926, 92086, 157627, 59335, 59336, 92104, 59338, 59339, 59340, 59341, 26574, 26575, 26576, 26577, 26578, 59342, 26580, 59343, 59344, 26583, 387032, 26585, 26586, 59348, 59349, 26589, 59351, 59353, 92140, 26608, 157680, 26610, 92154, 157697, 387082, 92170, 26648, 26658, 26659, 26664, 256051, 92211, 100132923, 26692, 26707, 92249, 26716, 26747, 26750, 26751, 125058, 26762, 157869, 92335, 92342, 92346, 157922, 256227, 26872, 26873, 92482, 92483, 26952, 26953, 26959, 26960, 26973, 26984, 26986, 256364, 26993, 26994, 26998, 26999, 27000, 27004, 27005, 27006, 27010, 27012, 27013, 92552, 27018, 27019, 27020, 27022, 27023, 92558, 27030, 27032, 27033, 27034, 27035, 27036, 27037, 27039, 27042, 27043, 27044, 92579, 92595, 387509, 27063, 27065, 27067, 27068, 27069, 27071, 27072, 92609, 27074, 27075, 27076, 27077, 27079, 27087, 27089, 27090, 27091, 27092, 27094, 27095, 27097, 27098, 27101, 27102, 27107, 27109, 27112, 27113, 27115, 55784, 27120, 27121, 27122, 27123, 27124, 27125, 27128, 27129, 27130, 27131, 27132, 27134, 27136, 55785, 27147, 92689, 27156, 27158, 27159, 27161, 27163, 27165, 92703, 55786, 27173, 27175, 27178, 27179, 27180, 27181, 27183, 27185, 27190, 55787, 27202, 55788, 27229, 27230, 27231, 27232, 27235, 27236, 27237, 27238, 27239, 27240, 27241, 27242, 27243, 27244, 27245, 27246, 27247, 27249, 27250, 27252, 27253, 27254, 27255, 27257, 27258, 387707, 92815, 27284, 27285, 27286, 27287, 27288, 27289, 27290, 27291, 27292, 27293, 92822, 27295, 27296, 27297, 27299, 27300, 27301, 27302, 387751, 27303, 27304, 27306, 27309, 27314, 27315, 27316, 92856, 27324, 27328, 27329, 27330, 27332, 27333, 27334, 27335, 27336, 27338, 27339, 27340, 27341, 27343, 27344, 27345, 27346, 27347, 27348, 27349, 27350, 27351, 27352, 158471, 27429, 27430, 27434, 27436, 27440, 387893, 27445, 158586, 285527, 60312, 60313, 60314, 93081, 256949, 60343, 125893, 93129, 60370, 256987, 60385, 93164, 60401, 60436, 93210, 158747, 60467, 60468, 126017, 60481, 60482, 60484, 60485, 60487, 60488, 60489, 60490, 60491, 60492, 60493, 60494, 60495, 60496, 60506, 60509, 60526, 60528, 60529, 126070, 60558, 60559, 60560, 60561, 93349, 60598, 60625, 60626, 93408, 93436, 126208, 60672, 60673, 60676, 60681, 60682, 60684, 60685, 60686, 55816, 126231, 93487, 126298, 126299, 126321, 257407, 126353, 93594, 126393, 159162, 93643, 388567, 388569, 93664, 388650, 28227, 388677, 28231, 28232, 28234, 28316, 83786, 93973, 388886, 93974, 192286, 100134713, 94025, 94026, 28511, 28513, 388969, 94081, 94104, 94134, 552889, 389136, 94239, 389177, 192666, 553115, 192669, 192670, 192683, 159963, 28951, 28952, 28954, 28955, 28956, 28957, 28958, 28959, 28960, 28962, 28964, 28965, 28966, 28968, 28969, 28971, 28972, 28973, 28974, 28977, 28978, 28981, 28983, 28984, 28985, 28986, 28990, 28992, 28996, 28998, 28999, 29015, 29018, 29028, 29058, 29062, 29063, 29066, 29068, 29071, 29072, 29074, 29075, 29078, 29079, 29080, 29081, 29082, 29083, 29086, 29087, 29088, 29091, 29092, 29093, 29094, 29095, 29097, 29099, 29100, 29102, 29103, 29104, 29105, 29106, 29107, 29108, 29109, 29110, 29113, 29114, 29115, 29116, 29117, 29118, 29119, 29121, 29122, 29123, 29124, 29125, 29127, 389677, 127534, 127544, 389715, 127703, 389856, 160518, 389898, 127833, 619505, 84059, 84060, 84061, 84065, 29760, 29761, 29763, 29766, 29767, 29774, 29775, 29777, 29780, 29781, 29789, 29796, 259173, 29798, 29799, 29802, 29803, 84079, 259197, 259217, 29842, 29844, 29851, 259230, 29855, 29880, 29881, 29882, 29883, 29887, 29888, 29889, 259266, 29890, 29893, 29894, 29895, 29896, 29899, 29901, 29902, 29903, 29906, 29909, 29911, 29914, 29915, 29916, 29919, 29922, 29923, 29924, 29926, 29927, 29928, 29929, 29930, 29933, 29935, 29937, 29940, 29942, 29943, 29944, 29946, 29947, 29948, 29949, 29951, 29953, 29954, 29956, 29957, 29959, 29960, 29965, 29966, 29967, 29968, 29969, 29974, 29978, 29980, 29982, 29984, 29986, 29988, 29990, 29991, 29992, 29994, 29995, 29997, 29998, 29999, 30000, 30001, 30008, 30009, 30012, 30062, 95681, 390616, 128553, 63035, 63036, 390892, 390940, 390999, 653188, 653238, 129025, 129080, 100137047, 30811, 30813, 30814, 30817, 30819, 30820, 30827, 30833, 30835, 30836, 30837, 30844, 30845, 30846, 30848, 30849, 30850, 30851, 653483, 30968, 63826, 63827, 96626, 63874, 63875, 63876, 63877, 63891, 63892, 63893, 63894, 63895, 63897, 63898, 63899, 63901, 63904, 63906, 63910, 63916, 63917, 63920, 63923, 63924, 63925, 63926, 63928, 63929, 63931, 63932, 63933, 63934, 63935, 63940, 63941, 63943, 653784, 63967, 63970, 63971, 63973, 63974, 63976, 63978, 63982, 653808, 96764, 64061, 64062, 64063, 64064, 64065, 64066, 64067, 64077, 64078, 64080, 64081, 64083, 64084, 64087, 64089, 64091, 64092, 64096, 64097, 64100, 64102, 129642, 64106, 64108, 64109, 64110, 64111, 64112, 64114, 64116, 64118, 64121, 64122, 162427, 64123, 64127, 64129, 64130, 64131, 64132, 64135, 64137, 64149, 64151, 64167, 64170, 64172, 64174, 64175, 64180, 64184, 64208, 64210, 64211, 64215, 64216, 64218, 64219, 64220, 64221, 64222, 64223, 64231, 64232, 64236, 64240, 64283, 64284, 64285, 64288, 64318, 64319, 64320, 64321, 64324, 64328, 64342, 64343, 64344, 64359, 64374, 64375, 64376, 64377, 64386, 64388, 64393, 64395, 64397, 64398, 64400, 64405, 64410, 64411, 64417, 64418, 64419, 64421, 64422, 64423, 64425, 64427, 64428, 64429, 64430, 64431, 64446, 64499, 64506, 130074, 64577, 64579, 64581, 64582, 64595, 64598, 64600, 64601, 654434, 64641, 64663, 162972, 64682, 64689, 64693, 64699, 64708, 64710, 64714, 64718, 64743, 64745, 64746, 64747, 64748, 64750, 64754, 64755, 64757, 64759, 64760, 64761, 64762, 64763, 64764, 64766, 64768, 64769, 64771, 64772, 64776, 64777, 64778, 64779, 64780, 64781, 64782, 64783, 64784, 64785, 64786, 64787, 64788, 64789, 64792, 64793, 64794, 64795, 64798, 64799, 64800, 64806, 64816, 163131, 64834, 64837, 64838, 64840, 64844, 64847, 64848, 64849, 64850, 64852, 64853, 64854, 64856, 64858, 64859, 64860, 64863, 64864, 64866, 64895, 64897, 64901, 64919, 64921, 64922, 64924, 64925, 64927, 64940, 64943, 64960, 64963, 64975, 64976, 64981, 654817, 65003, 65005, 65009, 65010, 65012, 65018, 65055, 65057, 65080, 65082, 65083, 65084, 65094, 65095, 65108, 65109, 65110, 65117, 261726, 65123, 65124, 65125, 261734, 163486, 65220, 65243, 65244, 65250, 100499177, 65258, 65260, 65263, 65264, 65265, 130814, 196403, 196441, 130916, 196483, 26051}\n"
     ]
    },
    {
     "name": "stderr",
     "output_type": "stream",
     "text": [
      "/home/jeremie/miniconda3/envs/gae/lib/python3.8/site-packages/anndata/_core/anndata.py:120: ImplicitModificationWarning: Transforming to str index.\n",
      "  warnings.warn(\"Transforming to str index.\", ImplicitModificationWarning)\n"
     ]
    },
    {
     "name": "stdout",
     "output_type": "stream",
     "text": [
      "*** ValueError: Index of obs must match index of X.\n",
      "*** ValueError: Index of obs must match index of X.\n",
      "Empty DataFrame\n",
      "Columns: []\n",
      "Index: [10, 100, 1000, 10000, 10001, 10003, 10004, 10005, 10006, 10007, 10009, 100093698, 1001, 10010, 100126791, 100128640, 100129250, 100129271, 100129460, 100129482, 10013, 100130331, 100130958, 100131755, 100131825, 100132341, 100132406, 100132476, 100132923, 100134713, 100137047, 10014, 10015, 10016, 10017, 10018, 10019, 1002, 10020, 10021, 10022, 10023, 10024, 10025, 10026, 100272228, 100287932, 100288413, 100289678, 1003, 10036, 10038, 10039, 1004, 10040, 10042, 10043, 10044, 10045, 10046, 10047, 10048, 10049, 100499177, 1005, 10050, 100506469, 100507424, 100507436, 10051, 10052, 10053, 10054, 10055, 10057, 10058, 10059, 1006, 10060, 10061, 10062, 10063, 10066, 10067, 10068, 10069, 1007, 10072, 10073, 10075, 10076, 10077, 10078, 10079, 1008, 10083, 10084, 10085, 10086, 10087, ...]\n",
      "\n",
      "[12328 rows x 0 columns]\n"
     ]
    },
    {
     "name": "stderr",
     "output_type": "stream",
     "text": [
      "/home/jeremie/miniconda3/envs/gae/lib/python3.8/site-packages/anndata/_core/anndata.py:120: ImplicitModificationWarning: Transforming to str index.\n",
      "  warnings.warn(\"Transforming to str index.\", ImplicitModificationWarning)\n"
     ]
    },
    {
     "name": "stdout",
     "output_type": "stream",
     "text": [
      "*** ValueError: Index of obs must match index of X.\n"
     ]
    },
    {
     "ename": "BdbQuit",
     "evalue": "",
     "output_type": "error",
     "traceback": [
      "\u001b[0;31m---------------------------------------------------------------------------\u001b[0m",
      "\u001b[0;31mBdbQuit\u001b[0m                                   Traceback (most recent call last)",
      "\u001b[0;32m/tmp/ipykernel_17261/4033563612.py\u001b[0m in \u001b[0;36m<module>\u001b[0;34m\u001b[0m\n\u001b[0;32m----> 1\u001b[0;31m \u001b[0mres\u001b[0m \u001b[0;34m=\u001b[0m\u001b[0mloadGCTXasAnnData\u001b[0m\u001b[0;34m(\u001b[0m\u001b[0;34m\"temp/level5_beta_trt_misc_n8283x12328.gctx\"\u001b[0m\u001b[0;34m)\u001b[0m\u001b[0;34m\u001b[0m\u001b[0;34m\u001b[0m\u001b[0m\n\u001b[0m",
      "\u001b[0;32m/tmp/ipykernel_17261/3686506058.py\u001b[0m in \u001b[0;36mloadGCTXasAnnData\u001b[0;34m(path)\u001b[0m\n\u001b[1;32m      9\u001b[0m   \u001b[0mmat\u001b[0m \u001b[0;34m=\u001b[0m \u001b[0mpd\u001b[0m\u001b[0;34m.\u001b[0m\u001b[0mread_csv\u001b[0m\u001b[0;34m(\u001b[0m\u001b[0mval\u001b[0m\u001b[0;34m+\u001b[0m\u001b[0;34m\"_mat.csv.gz\"\u001b[0m\u001b[0;34m,\u001b[0m \u001b[0mindex_col\u001b[0m\u001b[0;34m=\u001b[0m\u001b[0;36m0\u001b[0m\u001b[0;34m,\u001b[0m \u001b[0mcompression\u001b[0m\u001b[0;34m=\u001b[0m\u001b[0;34m'gzip'\u001b[0m\u001b[0;34m)\u001b[0m\u001b[0;34m\u001b[0m\u001b[0;34m\u001b[0m\u001b[0m\n\u001b[1;32m     10\u001b[0m   \u001b[0;32mimport\u001b[0m \u001b[0mpdb\u001b[0m\u001b[0;34m;\u001b[0m \u001b[0mpdb\u001b[0m\u001b[0;34m.\u001b[0m\u001b[0mset_trace\u001b[0m\u001b[0;34m(\u001b[0m\u001b[0;34m)\u001b[0m\u001b[0;34m\u001b[0m\u001b[0;34m\u001b[0m\u001b[0m\n\u001b[0;32m---> 11\u001b[0;31m   \u001b[0mres\u001b[0m \u001b[0;34m=\u001b[0m \u001b[0mAnnData\u001b[0m\u001b[0;34m(\u001b[0m\u001b[0mX\u001b[0m\u001b[0;34m=\u001b[0m\u001b[0mmat\u001b[0m\u001b[0;34m,\u001b[0m \u001b[0mobs\u001b[0m\u001b[0;34m=\u001b[0m\u001b[0mcdesc\u001b[0m\u001b[0;34m,\u001b[0m \u001b[0mvar\u001b[0m\u001b[0;34m=\u001b[0m\u001b[0mrdesc\u001b[0m\u001b[0;34m)\u001b[0m\u001b[0;34m\u001b[0m\u001b[0;34m\u001b[0m\u001b[0m\n\u001b[0m\u001b[1;32m     12\u001b[0m   \u001b[0mcmd\u001b[0m \u001b[0;34m=\u001b[0m \u001b[0;34m\"rm \"\u001b[0m\u001b[0;34m+\u001b[0m\u001b[0mval\u001b[0m\u001b[0;34m+\u001b[0m\u001b[0;34m\"_mat.csv.gz & rm \"\u001b[0m\u001b[0;34m+\u001b[0m\u001b[0mval\u001b[0m\u001b[0;34m+\u001b[0m\u001b[0;34m\"_rdesc.csv & rm \"\u001b[0m\u001b[0;34m+\u001b[0m\u001b[0mval\u001b[0m\u001b[0;34m+\u001b[0m\u001b[0;34m\"_cdesc.csv\"\u001b[0m\u001b[0;34m\u001b[0m\u001b[0;34m\u001b[0m\u001b[0m\n\u001b[1;32m     13\u001b[0m   \u001b[0mos\u001b[0m\u001b[0;34m.\u001b[0m\u001b[0msystem\u001b[0m\u001b[0;34m(\u001b[0m\u001b[0mcmd\u001b[0m\u001b[0;34m)\u001b[0m\u001b[0;34m\u001b[0m\u001b[0;34m\u001b[0m\u001b[0m\n",
      "\u001b[0;32m/tmp/ipykernel_17261/3686506058.py\u001b[0m in \u001b[0;36mloadGCTXasAnnData\u001b[0;34m(path)\u001b[0m\n\u001b[1;32m      9\u001b[0m   \u001b[0mmat\u001b[0m \u001b[0;34m=\u001b[0m \u001b[0mpd\u001b[0m\u001b[0;34m.\u001b[0m\u001b[0mread_csv\u001b[0m\u001b[0;34m(\u001b[0m\u001b[0mval\u001b[0m\u001b[0;34m+\u001b[0m\u001b[0;34m\"_mat.csv.gz\"\u001b[0m\u001b[0;34m,\u001b[0m \u001b[0mindex_col\u001b[0m\u001b[0;34m=\u001b[0m\u001b[0;36m0\u001b[0m\u001b[0;34m,\u001b[0m \u001b[0mcompression\u001b[0m\u001b[0;34m=\u001b[0m\u001b[0;34m'gzip'\u001b[0m\u001b[0;34m)\u001b[0m\u001b[0;34m\u001b[0m\u001b[0;34m\u001b[0m\u001b[0m\n\u001b[1;32m     10\u001b[0m   \u001b[0;32mimport\u001b[0m \u001b[0mpdb\u001b[0m\u001b[0;34m;\u001b[0m \u001b[0mpdb\u001b[0m\u001b[0;34m.\u001b[0m\u001b[0mset_trace\u001b[0m\u001b[0;34m(\u001b[0m\u001b[0;34m)\u001b[0m\u001b[0;34m\u001b[0m\u001b[0;34m\u001b[0m\u001b[0m\n\u001b[0;32m---> 11\u001b[0;31m   \u001b[0mres\u001b[0m \u001b[0;34m=\u001b[0m \u001b[0mAnnData\u001b[0m\u001b[0;34m(\u001b[0m\u001b[0mX\u001b[0m\u001b[0;34m=\u001b[0m\u001b[0mmat\u001b[0m\u001b[0;34m,\u001b[0m \u001b[0mobs\u001b[0m\u001b[0;34m=\u001b[0m\u001b[0mcdesc\u001b[0m\u001b[0;34m,\u001b[0m \u001b[0mvar\u001b[0m\u001b[0;34m=\u001b[0m\u001b[0mrdesc\u001b[0m\u001b[0;34m)\u001b[0m\u001b[0;34m\u001b[0m\u001b[0;34m\u001b[0m\u001b[0m\n\u001b[0m\u001b[1;32m     12\u001b[0m   \u001b[0mcmd\u001b[0m \u001b[0;34m=\u001b[0m \u001b[0;34m\"rm \"\u001b[0m\u001b[0;34m+\u001b[0m\u001b[0mval\u001b[0m\u001b[0;34m+\u001b[0m\u001b[0;34m\"_mat.csv.gz & rm \"\u001b[0m\u001b[0;34m+\u001b[0m\u001b[0mval\u001b[0m\u001b[0;34m+\u001b[0m\u001b[0;34m\"_rdesc.csv & rm \"\u001b[0m\u001b[0;34m+\u001b[0m\u001b[0mval\u001b[0m\u001b[0;34m+\u001b[0m\u001b[0;34m\"_cdesc.csv\"\u001b[0m\u001b[0;34m\u001b[0m\u001b[0;34m\u001b[0m\u001b[0m\n\u001b[1;32m     13\u001b[0m   \u001b[0mos\u001b[0m\u001b[0;34m.\u001b[0m\u001b[0msystem\u001b[0m\u001b[0;34m(\u001b[0m\u001b[0mcmd\u001b[0m\u001b[0;34m)\u001b[0m\u001b[0;34m\u001b[0m\u001b[0;34m\u001b[0m\u001b[0m\n",
      "\u001b[0;32m~/miniconda3/envs/gae/lib/python3.8/bdb.py\u001b[0m in \u001b[0;36mtrace_dispatch\u001b[0;34m(self, frame, event, arg)\u001b[0m\n\u001b[1;32m     86\u001b[0m             \u001b[0;32mreturn\u001b[0m \u001b[0;31m# None\u001b[0m\u001b[0;34m\u001b[0m\u001b[0;34m\u001b[0m\u001b[0m\n\u001b[1;32m     87\u001b[0m         \u001b[0;32mif\u001b[0m \u001b[0mevent\u001b[0m \u001b[0;34m==\u001b[0m \u001b[0;34m'line'\u001b[0m\u001b[0;34m:\u001b[0m\u001b[0;34m\u001b[0m\u001b[0;34m\u001b[0m\u001b[0m\n\u001b[0;32m---> 88\u001b[0;31m             \u001b[0;32mreturn\u001b[0m \u001b[0mself\u001b[0m\u001b[0;34m.\u001b[0m\u001b[0mdispatch_line\u001b[0m\u001b[0;34m(\u001b[0m\u001b[0mframe\u001b[0m\u001b[0;34m)\u001b[0m\u001b[0;34m\u001b[0m\u001b[0;34m\u001b[0m\u001b[0m\n\u001b[0m\u001b[1;32m     89\u001b[0m         \u001b[0;32mif\u001b[0m \u001b[0mevent\u001b[0m \u001b[0;34m==\u001b[0m \u001b[0;34m'call'\u001b[0m\u001b[0;34m:\u001b[0m\u001b[0;34m\u001b[0m\u001b[0;34m\u001b[0m\u001b[0m\n\u001b[1;32m     90\u001b[0m             \u001b[0;32mreturn\u001b[0m \u001b[0mself\u001b[0m\u001b[0;34m.\u001b[0m\u001b[0mdispatch_call\u001b[0m\u001b[0;34m(\u001b[0m\u001b[0mframe\u001b[0m\u001b[0;34m,\u001b[0m \u001b[0marg\u001b[0m\u001b[0;34m)\u001b[0m\u001b[0;34m\u001b[0m\u001b[0;34m\u001b[0m\u001b[0m\n",
      "\u001b[0;32m~/miniconda3/envs/gae/lib/python3.8/bdb.py\u001b[0m in \u001b[0;36mdispatch_line\u001b[0;34m(self, frame)\u001b[0m\n\u001b[1;32m    111\u001b[0m         \u001b[0;32mif\u001b[0m \u001b[0mself\u001b[0m\u001b[0;34m.\u001b[0m\u001b[0mstop_here\u001b[0m\u001b[0;34m(\u001b[0m\u001b[0mframe\u001b[0m\u001b[0;34m)\u001b[0m \u001b[0;32mor\u001b[0m \u001b[0mself\u001b[0m\u001b[0;34m.\u001b[0m\u001b[0mbreak_here\u001b[0m\u001b[0;34m(\u001b[0m\u001b[0mframe\u001b[0m\u001b[0;34m)\u001b[0m\u001b[0;34m:\u001b[0m\u001b[0;34m\u001b[0m\u001b[0;34m\u001b[0m\u001b[0m\n\u001b[1;32m    112\u001b[0m             \u001b[0mself\u001b[0m\u001b[0;34m.\u001b[0m\u001b[0muser_line\u001b[0m\u001b[0;34m(\u001b[0m\u001b[0mframe\u001b[0m\u001b[0;34m)\u001b[0m\u001b[0;34m\u001b[0m\u001b[0;34m\u001b[0m\u001b[0m\n\u001b[0;32m--> 113\u001b[0;31m             \u001b[0;32mif\u001b[0m \u001b[0mself\u001b[0m\u001b[0;34m.\u001b[0m\u001b[0mquitting\u001b[0m\u001b[0;34m:\u001b[0m \u001b[0;32mraise\u001b[0m \u001b[0mBdbQuit\u001b[0m\u001b[0;34m\u001b[0m\u001b[0;34m\u001b[0m\u001b[0m\n\u001b[0m\u001b[1;32m    114\u001b[0m         \u001b[0;32mreturn\u001b[0m \u001b[0mself\u001b[0m\u001b[0;34m.\u001b[0m\u001b[0mtrace_dispatch\u001b[0m\u001b[0;34m\u001b[0m\u001b[0;34m\u001b[0m\u001b[0m\n\u001b[1;32m    115\u001b[0m \u001b[0;34m\u001b[0m\u001b[0m\n",
      "\u001b[0;31mBdbQuit\u001b[0m: "
     ]
    }
   ],
   "source": [
    "res =loadGCTXasAnnData(\"temp/level5_beta_trt_misc_n8283x12328.gctx\")\n"
   ]
  },
  {
   "cell_type": "code",
   "execution_count": 10,
   "metadata": {},
   "outputs": [
    {
     "data": {
      "text/html": [
       "<div>\n",
       "<style scoped>\n",
       "    .dataframe tbody tr th:only-of-type {\n",
       "        vertical-align: middle;\n",
       "    }\n",
       "\n",
       "    .dataframe tbody tr th {\n",
       "        vertical-align: top;\n",
       "    }\n",
       "\n",
       "    .dataframe thead th {\n",
       "        text-align: right;\n",
       "    }\n",
       "</style>\n",
       "<table border=\"1\" class=\"dataframe\">\n",
       "  <thead>\n",
       "    <tr style=\"text-align: right;\">\n",
       "      <th></th>\n",
       "      <th>ABY001_A375_XH:ADO-TRASTUZUMAB_EMTANSINE:0.3125:24</th>\n",
       "      <th>ABY001_A375_XH:ADO-TRASTUZUMAB_EMTANSINE:0.3125:3</th>\n",
       "      <th>ABY001_A375_XH:ADO-TRASTUZUMAB_EMTANSINE:0.625:24</th>\n",
       "      <th>ABY001_A375_XH:ADO-TRASTUZUMAB_EMTANSINE:0.625:3</th>\n",
       "      <th>ABY001_A375_XH:ADO-TRASTUZUMAB_EMTANSINE:1.25:24</th>\n",
       "      <th>ABY001_A375_XH:ADO-TRASTUZUMAB_EMTANSINE:1.25:3</th>\n",
       "      <th>ABY001_A375_XH:ADO-TRASTUZUMAB_EMTANSINE:10:24</th>\n",
       "      <th>ABY001_A375_XH:ADO-TRASTUZUMAB_EMTANSINE:10:3</th>\n",
       "      <th>ABY001_A375_XH:ADO-TRASTUZUMAB_EMTANSINE:2.5:24</th>\n",
       "      <th>ABY001_A375_XH:ADO-TRASTUZUMAB_EMTANSINE:2.5:3</th>\n",
       "      <th>...</th>\n",
       "      <th>PAL002_PC3_XH:SILOC401397_SCRAMBLE:-666:72</th>\n",
       "      <th>PAL002_PC3_XH:SIMARCKS_NO.1:-666:72</th>\n",
       "      <th>PAL002_PC3_XH:SIMEG3_NO.1:-666:72</th>\n",
       "      <th>PAL002_PC3_XH:SIMEG3_NO.2:-666:72</th>\n",
       "      <th>PAL002_PC3_XH:SISNHG15_NO.1:-666:72</th>\n",
       "      <th>PAL002_PC3_XH:SISNHG15_NO.2:-666:72</th>\n",
       "      <th>PAL002_PC3_XH:SISNHG15_NO.3:-666:72</th>\n",
       "      <th>PAL002_PC3_XH:SISNHG15_SCRAMBLE:-666:72</th>\n",
       "      <th>PAL002_PC3_XH:SIZNFX1-AS1_NO.1:-666:72</th>\n",
       "      <th>PAL002_PC3_XH:SIZNFX1-AS1_NO.2:-666:72</th>\n",
       "    </tr>\n",
       "  </thead>\n",
       "  <tbody>\n",
       "    <tr>\n",
       "      <th>10</th>\n",
       "      <td>0.071321</td>\n",
       "      <td>-0.135682</td>\n",
       "      <td>-0.244771</td>\n",
       "      <td>0.211430</td>\n",
       "      <td>0.608704</td>\n",
       "      <td>-0.64815</td>\n",
       "      <td>0.234743</td>\n",
       "      <td>-0.349367</td>\n",
       "      <td>-0.083109</td>\n",
       "      <td>-0.113993</td>\n",
       "      <td>...</td>\n",
       "      <td>-0.183729</td>\n",
       "      <td>1.617597</td>\n",
       "      <td>-0.252270</td>\n",
       "      <td>-0.508461</td>\n",
       "      <td>0.36540</td>\n",
       "      <td>-0.918341</td>\n",
       "      <td>-0.423680</td>\n",
       "      <td>-0.669038</td>\n",
       "      <td>0.058717</td>\n",
       "      <td>-0.531332</td>\n",
       "    </tr>\n",
       "    <tr>\n",
       "      <th>100</th>\n",
       "      <td>1.174841</td>\n",
       "      <td>0.447374</td>\n",
       "      <td>1.119571</td>\n",
       "      <td>-0.686314</td>\n",
       "      <td>-1.130964</td>\n",
       "      <td>-0.10980</td>\n",
       "      <td>0.108335</td>\n",
       "      <td>-0.501767</td>\n",
       "      <td>-0.711716</td>\n",
       "      <td>-0.854953</td>\n",
       "      <td>...</td>\n",
       "      <td>1.514741</td>\n",
       "      <td>0.644751</td>\n",
       "      <td>0.179930</td>\n",
       "      <td>1.211608</td>\n",
       "      <td>-1.04550</td>\n",
       "      <td>-1.164688</td>\n",
       "      <td>-0.542607</td>\n",
       "      <td>-0.361089</td>\n",
       "      <td>-0.745974</td>\n",
       "      <td>-0.249617</td>\n",
       "    </tr>\n",
       "    <tr>\n",
       "      <th>1000</th>\n",
       "      <td>0.396398</td>\n",
       "      <td>0.241946</td>\n",
       "      <td>-0.008839</td>\n",
       "      <td>0.594513</td>\n",
       "      <td>0.815789</td>\n",
       "      <td>0.50880</td>\n",
       "      <td>-0.030346</td>\n",
       "      <td>0.034433</td>\n",
       "      <td>0.260089</td>\n",
       "      <td>0.159660</td>\n",
       "      <td>...</td>\n",
       "      <td>1.161394</td>\n",
       "      <td>-1.537711</td>\n",
       "      <td>-0.435996</td>\n",
       "      <td>-1.253765</td>\n",
       "      <td>-0.25765</td>\n",
       "      <td>0.492278</td>\n",
       "      <td>0.716338</td>\n",
       "      <td>-0.215844</td>\n",
       "      <td>0.578918</td>\n",
       "      <td>-0.153059</td>\n",
       "    </tr>\n",
       "    <tr>\n",
       "      <th>10000</th>\n",
       "      <td>-0.301154</td>\n",
       "      <td>0.012122</td>\n",
       "      <td>0.760897</td>\n",
       "      <td>1.045681</td>\n",
       "      <td>-0.166172</td>\n",
       "      <td>0.86105</td>\n",
       "      <td>0.111529</td>\n",
       "      <td>0.239800</td>\n",
       "      <td>0.542667</td>\n",
       "      <td>0.825018</td>\n",
       "      <td>...</td>\n",
       "      <td>1.307680</td>\n",
       "      <td>0.428915</td>\n",
       "      <td>-0.958781</td>\n",
       "      <td>-0.747577</td>\n",
       "      <td>-0.14945</td>\n",
       "      <td>0.524831</td>\n",
       "      <td>0.353201</td>\n",
       "      <td>-0.166087</td>\n",
       "      <td>0.161758</td>\n",
       "      <td>-0.625520</td>\n",
       "    </tr>\n",
       "    <tr>\n",
       "      <th>10001</th>\n",
       "      <td>0.040449</td>\n",
       "      <td>1.011675</td>\n",
       "      <td>-1.769143</td>\n",
       "      <td>-0.340021</td>\n",
       "      <td>-0.647292</td>\n",
       "      <td>0.81695</td>\n",
       "      <td>0.140018</td>\n",
       "      <td>0.082800</td>\n",
       "      <td>0.787081</td>\n",
       "      <td>0.136564</td>\n",
       "      <td>...</td>\n",
       "      <td>-0.023515</td>\n",
       "      <td>-1.883208</td>\n",
       "      <td>0.258609</td>\n",
       "      <td>-0.633736</td>\n",
       "      <td>-0.49875</td>\n",
       "      <td>-0.556474</td>\n",
       "      <td>0.863898</td>\n",
       "      <td>-1.180899</td>\n",
       "      <td>0.483186</td>\n",
       "      <td>-0.249417</td>\n",
       "    </tr>\n",
       "    <tr>\n",
       "      <th>...</th>\n",
       "      <td>...</td>\n",
       "      <td>...</td>\n",
       "      <td>...</td>\n",
       "      <td>...</td>\n",
       "      <td>...</td>\n",
       "      <td>...</td>\n",
       "      <td>...</td>\n",
       "      <td>...</td>\n",
       "      <td>...</td>\n",
       "      <td>...</td>\n",
       "      <td>...</td>\n",
       "      <td>...</td>\n",
       "      <td>...</td>\n",
       "      <td>...</td>\n",
       "      <td>...</td>\n",
       "      <td>...</td>\n",
       "      <td>...</td>\n",
       "      <td>...</td>\n",
       "      <td>...</td>\n",
       "      <td>...</td>\n",
       "      <td>...</td>\n",
       "    </tr>\n",
       "    <tr>\n",
       "      <th>9990</th>\n",
       "      <td>-0.098859</td>\n",
       "      <td>-1.157924</td>\n",
       "      <td>-0.955647</td>\n",
       "      <td>0.265664</td>\n",
       "      <td>-1.062339</td>\n",
       "      <td>-0.53025</td>\n",
       "      <td>-0.398816</td>\n",
       "      <td>-0.293733</td>\n",
       "      <td>0.151444</td>\n",
       "      <td>-0.839158</td>\n",
       "      <td>...</td>\n",
       "      <td>0.003015</td>\n",
       "      <td>-0.012761</td>\n",
       "      <td>1.529592</td>\n",
       "      <td>0.550162</td>\n",
       "      <td>1.01965</td>\n",
       "      <td>-0.236569</td>\n",
       "      <td>0.495895</td>\n",
       "      <td>-0.730488</td>\n",
       "      <td>0.290745</td>\n",
       "      <td>-0.435038</td>\n",
       "    </tr>\n",
       "    <tr>\n",
       "      <th>9991</th>\n",
       "      <td>-0.190106</td>\n",
       "      <td>0.419354</td>\n",
       "      <td>-0.119821</td>\n",
       "      <td>0.115426</td>\n",
       "      <td>0.619505</td>\n",
       "      <td>0.23505</td>\n",
       "      <td>0.523988</td>\n",
       "      <td>0.214467</td>\n",
       "      <td>-0.139643</td>\n",
       "      <td>-0.253869</td>\n",
       "      <td>...</td>\n",
       "      <td>-0.474945</td>\n",
       "      <td>-0.707841</td>\n",
       "      <td>0.299851</td>\n",
       "      <td>0.566557</td>\n",
       "      <td>-0.59865</td>\n",
       "      <td>-0.744096</td>\n",
       "      <td>0.411651</td>\n",
       "      <td>0.375818</td>\n",
       "      <td>-0.084807</td>\n",
       "      <td>-0.979601</td>\n",
       "    </tr>\n",
       "    <tr>\n",
       "      <th>9992</th>\n",
       "      <td>-0.440690</td>\n",
       "      <td>0.101724</td>\n",
       "      <td>-1.245640</td>\n",
       "      <td>0.068821</td>\n",
       "      <td>-1.461811</td>\n",
       "      <td>-0.23175</td>\n",
       "      <td>-0.823808</td>\n",
       "      <td>-0.095533</td>\n",
       "      <td>-0.347673</td>\n",
       "      <td>-0.439936</td>\n",
       "      <td>...</td>\n",
       "      <td>1.149165</td>\n",
       "      <td>1.003376</td>\n",
       "      <td>-0.178633</td>\n",
       "      <td>0.390843</td>\n",
       "      <td>1.80840</td>\n",
       "      <td>-0.146561</td>\n",
       "      <td>0.419352</td>\n",
       "      <td>-0.177479</td>\n",
       "      <td>-0.268332</td>\n",
       "      <td>0.097944</td>\n",
       "    </tr>\n",
       "    <tr>\n",
       "      <th>9993</th>\n",
       "      <td>-0.414078</td>\n",
       "      <td>0.029385</td>\n",
       "      <td>0.422898</td>\n",
       "      <td>-0.206902</td>\n",
       "      <td>1.070912</td>\n",
       "      <td>-0.70965</td>\n",
       "      <td>0.226622</td>\n",
       "      <td>-0.295133</td>\n",
       "      <td>-1.356316</td>\n",
       "      <td>-0.477744</td>\n",
       "      <td>...</td>\n",
       "      <td>-0.488575</td>\n",
       "      <td>-0.251817</td>\n",
       "      <td>-0.075773</td>\n",
       "      <td>-0.040455</td>\n",
       "      <td>0.04445</td>\n",
       "      <td>0.310798</td>\n",
       "      <td>-0.544712</td>\n",
       "      <td>-0.505920</td>\n",
       "      <td>-1.276249</td>\n",
       "      <td>-1.388793</td>\n",
       "    </tr>\n",
       "    <tr>\n",
       "      <th>9997</th>\n",
       "      <td>0.320451</td>\n",
       "      <td>-0.484622</td>\n",
       "      <td>0.210360</td>\n",
       "      <td>0.765247</td>\n",
       "      <td>0.162652</td>\n",
       "      <td>0.13690</td>\n",
       "      <td>1.113235</td>\n",
       "      <td>-1.098067</td>\n",
       "      <td>0.236183</td>\n",
       "      <td>-0.427048</td>\n",
       "      <td>...</td>\n",
       "      <td>0.104455</td>\n",
       "      <td>0.408479</td>\n",
       "      <td>-1.362465</td>\n",
       "      <td>-0.747844</td>\n",
       "      <td>0.28760</td>\n",
       "      <td>0.372489</td>\n",
       "      <td>-1.628361</td>\n",
       "      <td>0.483884</td>\n",
       "      <td>-0.544615</td>\n",
       "      <td>-0.341625</td>\n",
       "    </tr>\n",
       "  </tbody>\n",
       "</table>\n",
       "<p>12328 rows × 8283 columns</p>\n",
       "</div>"
      ],
      "text/plain": [
       "       ABY001_A375_XH:ADO-TRASTUZUMAB_EMTANSINE:0.3125:24  \\\n",
       "10                                              0.071321    \n",
       "100                                             1.174841    \n",
       "1000                                            0.396398    \n",
       "10000                                          -0.301154    \n",
       "10001                                           0.040449    \n",
       "...                                                  ...    \n",
       "9990                                           -0.098859    \n",
       "9991                                           -0.190106    \n",
       "9992                                           -0.440690    \n",
       "9993                                           -0.414078    \n",
       "9997                                            0.320451    \n",
       "\n",
       "       ABY001_A375_XH:ADO-TRASTUZUMAB_EMTANSINE:0.3125:3  \\\n",
       "10                                             -0.135682   \n",
       "100                                             0.447374   \n",
       "1000                                            0.241946   \n",
       "10000                                           0.012122   \n",
       "10001                                           1.011675   \n",
       "...                                                  ...   \n",
       "9990                                           -1.157924   \n",
       "9991                                            0.419354   \n",
       "9992                                            0.101724   \n",
       "9993                                            0.029385   \n",
       "9997                                           -0.484622   \n",
       "\n",
       "       ABY001_A375_XH:ADO-TRASTUZUMAB_EMTANSINE:0.625:24  \\\n",
       "10                                             -0.244771   \n",
       "100                                             1.119571   \n",
       "1000                                           -0.008839   \n",
       "10000                                           0.760897   \n",
       "10001                                          -1.769143   \n",
       "...                                                  ...   \n",
       "9990                                           -0.955647   \n",
       "9991                                           -0.119821   \n",
       "9992                                           -1.245640   \n",
       "9993                                            0.422898   \n",
       "9997                                            0.210360   \n",
       "\n",
       "       ABY001_A375_XH:ADO-TRASTUZUMAB_EMTANSINE:0.625:3  \\\n",
       "10                                             0.211430   \n",
       "100                                           -0.686314   \n",
       "1000                                           0.594513   \n",
       "10000                                          1.045681   \n",
       "10001                                         -0.340021   \n",
       "...                                                 ...   \n",
       "9990                                           0.265664   \n",
       "9991                                           0.115426   \n",
       "9992                                           0.068821   \n",
       "9993                                          -0.206902   \n",
       "9997                                           0.765247   \n",
       "\n",
       "       ABY001_A375_XH:ADO-TRASTUZUMAB_EMTANSINE:1.25:24  \\\n",
       "10                                             0.608704   \n",
       "100                                           -1.130964   \n",
       "1000                                           0.815789   \n",
       "10000                                         -0.166172   \n",
       "10001                                         -0.647292   \n",
       "...                                                 ...   \n",
       "9990                                          -1.062339   \n",
       "9991                                           0.619505   \n",
       "9992                                          -1.461811   \n",
       "9993                                           1.070912   \n",
       "9997                                           0.162652   \n",
       "\n",
       "       ABY001_A375_XH:ADO-TRASTUZUMAB_EMTANSINE:1.25:3  \\\n",
       "10                                            -0.64815   \n",
       "100                                           -0.10980   \n",
       "1000                                           0.50880   \n",
       "10000                                          0.86105   \n",
       "10001                                          0.81695   \n",
       "...                                                ...   \n",
       "9990                                          -0.53025   \n",
       "9991                                           0.23505   \n",
       "9992                                          -0.23175   \n",
       "9993                                          -0.70965   \n",
       "9997                                           0.13690   \n",
       "\n",
       "       ABY001_A375_XH:ADO-TRASTUZUMAB_EMTANSINE:10:24  \\\n",
       "10                                           0.234743   \n",
       "100                                          0.108335   \n",
       "1000                                        -0.030346   \n",
       "10000                                        0.111529   \n",
       "10001                                        0.140018   \n",
       "...                                               ...   \n",
       "9990                                        -0.398816   \n",
       "9991                                         0.523988   \n",
       "9992                                        -0.823808   \n",
       "9993                                         0.226622   \n",
       "9997                                         1.113235   \n",
       "\n",
       "       ABY001_A375_XH:ADO-TRASTUZUMAB_EMTANSINE:10:3  \\\n",
       "10                                         -0.349367   \n",
       "100                                        -0.501767   \n",
       "1000                                        0.034433   \n",
       "10000                                       0.239800   \n",
       "10001                                       0.082800   \n",
       "...                                              ...   \n",
       "9990                                       -0.293733   \n",
       "9991                                        0.214467   \n",
       "9992                                       -0.095533   \n",
       "9993                                       -0.295133   \n",
       "9997                                       -1.098067   \n",
       "\n",
       "       ABY001_A375_XH:ADO-TRASTUZUMAB_EMTANSINE:2.5:24  \\\n",
       "10                                           -0.083109   \n",
       "100                                          -0.711716   \n",
       "1000                                          0.260089   \n",
       "10000                                         0.542667   \n",
       "10001                                         0.787081   \n",
       "...                                                ...   \n",
       "9990                                          0.151444   \n",
       "9991                                         -0.139643   \n",
       "9992                                         -0.347673   \n",
       "9993                                         -1.356316   \n",
       "9997                                          0.236183   \n",
       "\n",
       "       ABY001_A375_XH:ADO-TRASTUZUMAB_EMTANSINE:2.5:3  ...  \\\n",
       "10                                          -0.113993  ...   \n",
       "100                                         -0.854953  ...   \n",
       "1000                                         0.159660  ...   \n",
       "10000                                        0.825018  ...   \n",
       "10001                                        0.136564  ...   \n",
       "...                                               ...  ...   \n",
       "9990                                        -0.839158  ...   \n",
       "9991                                        -0.253869  ...   \n",
       "9992                                        -0.439936  ...   \n",
       "9993                                        -0.477744  ...   \n",
       "9997                                        -0.427048  ...   \n",
       "\n",
       "       PAL002_PC3_XH:SILOC401397_SCRAMBLE:-666:72  \\\n",
       "10                                      -0.183729   \n",
       "100                                      1.514741   \n",
       "1000                                     1.161394   \n",
       "10000                                    1.307680   \n",
       "10001                                   -0.023515   \n",
       "...                                           ...   \n",
       "9990                                     0.003015   \n",
       "9991                                    -0.474945   \n",
       "9992                                     1.149165   \n",
       "9993                                    -0.488575   \n",
       "9997                                     0.104455   \n",
       "\n",
       "       PAL002_PC3_XH:SIMARCKS_NO.1:-666:72  PAL002_PC3_XH:SIMEG3_NO.1:-666:72  \\\n",
       "10                                1.617597                          -0.252270   \n",
       "100                               0.644751                           0.179930   \n",
       "1000                             -1.537711                          -0.435996   \n",
       "10000                             0.428915                          -0.958781   \n",
       "10001                            -1.883208                           0.258609   \n",
       "...                                    ...                                ...   \n",
       "9990                             -0.012761                           1.529592   \n",
       "9991                             -0.707841                           0.299851   \n",
       "9992                              1.003376                          -0.178633   \n",
       "9993                             -0.251817                          -0.075773   \n",
       "9997                              0.408479                          -1.362465   \n",
       "\n",
       "       PAL002_PC3_XH:SIMEG3_NO.2:-666:72  PAL002_PC3_XH:SISNHG15_NO.1:-666:72  \\\n",
       "10                             -0.508461                              0.36540   \n",
       "100                             1.211608                             -1.04550   \n",
       "1000                           -1.253765                             -0.25765   \n",
       "10000                          -0.747577                             -0.14945   \n",
       "10001                          -0.633736                             -0.49875   \n",
       "...                                  ...                                  ...   \n",
       "9990                            0.550162                              1.01965   \n",
       "9991                            0.566557                             -0.59865   \n",
       "9992                            0.390843                              1.80840   \n",
       "9993                           -0.040455                              0.04445   \n",
       "9997                           -0.747844                              0.28760   \n",
       "\n",
       "       PAL002_PC3_XH:SISNHG15_NO.2:-666:72  \\\n",
       "10                               -0.918341   \n",
       "100                              -1.164688   \n",
       "1000                              0.492278   \n",
       "10000                             0.524831   \n",
       "10001                            -0.556474   \n",
       "...                                    ...   \n",
       "9990                             -0.236569   \n",
       "9991                             -0.744096   \n",
       "9992                             -0.146561   \n",
       "9993                              0.310798   \n",
       "9997                              0.372489   \n",
       "\n",
       "       PAL002_PC3_XH:SISNHG15_NO.3:-666:72  \\\n",
       "10                               -0.423680   \n",
       "100                              -0.542607   \n",
       "1000                              0.716338   \n",
       "10000                             0.353201   \n",
       "10001                             0.863898   \n",
       "...                                    ...   \n",
       "9990                              0.495895   \n",
       "9991                              0.411651   \n",
       "9992                              0.419352   \n",
       "9993                             -0.544712   \n",
       "9997                             -1.628361   \n",
       "\n",
       "       PAL002_PC3_XH:SISNHG15_SCRAMBLE:-666:72  \\\n",
       "10                                   -0.669038   \n",
       "100                                  -0.361089   \n",
       "1000                                 -0.215844   \n",
       "10000                                -0.166087   \n",
       "10001                                -1.180899   \n",
       "...                                        ...   \n",
       "9990                                 -0.730488   \n",
       "9991                                  0.375818   \n",
       "9992                                 -0.177479   \n",
       "9993                                 -0.505920   \n",
       "9997                                  0.483884   \n",
       "\n",
       "       PAL002_PC3_XH:SIZNFX1-AS1_NO.1:-666:72  \\\n",
       "10                                   0.058717   \n",
       "100                                 -0.745974   \n",
       "1000                                 0.578918   \n",
       "10000                                0.161758   \n",
       "10001                                0.483186   \n",
       "...                                       ...   \n",
       "9990                                 0.290745   \n",
       "9991                                -0.084807   \n",
       "9992                                -0.268332   \n",
       "9993                                -1.276249   \n",
       "9997                                -0.544615   \n",
       "\n",
       "       PAL002_PC3_XH:SIZNFX1-AS1_NO.2:-666:72  \n",
       "10                                  -0.531332  \n",
       "100                                 -0.249617  \n",
       "1000                                -0.153059  \n",
       "10000                               -0.625520  \n",
       "10001                               -0.249417  \n",
       "...                                       ...  \n",
       "9990                                -0.435038  \n",
       "9991                                -0.979601  \n",
       "9992                                 0.097944  \n",
       "9993                                -1.388793  \n",
       "9997                                -0.341625  \n",
       "\n",
       "[12328 rows x 8283 columns]"
      ]
     },
     "execution_count": 10,
     "metadata": {},
     "output_type": "execute_result"
    }
   ],
   "source": [
    "#AnnData(X=mat, obs=cdesc, var=rdesc)\n",
    "rdesc "
   ]
  },
  {
   "cell_type": "code",
   "execution_count": 25,
   "metadata": {
    "ExecuteTime": {
     "end_time": "2021-11-02T20:49:20.561122Z",
     "start_time": "2021-11-02T20:49:19.705608Z"
    }
   },
   "outputs": [
    {
     "name": "stdout",
     "output_type": "stream",
     "text": [
      "\n",
      "R version 4.1.2 (2021-11-01) -- \"Bird Hippie\"\n",
      "Copyright (C) 2021 The R Foundation for Statistical Computing\n",
      "Platform: x86_64-pc-linux-gnu (64-bit)\n",
      "\n",
      "R is free software and comes with ABSOLUTELY NO WARRANTY.\n",
      "You are welcome to redistribute it under certain conditions.\n",
      "Type 'license()' or 'licence()' for distribution details.\n",
      "\n",
      "  Natural language support but running in an English locale\n",
      "\n",
      "R is a collaborative project with many contributors.\n",
      "Type 'contributors()' for more information and\n",
      "'citation()' on how to cite R or R packages in publications.\n",
      "\n",
      "Type 'demo()' for some demos, 'help()' for on-line help, or\n",
      "'help.start()' for an HTML browser interface to help.\n",
      "Type 'q()' to quit R.\n",
      "\n",
      "> if(!requireNamespace(\"BiocManager\", quietly = TRUE)){install.packages(\"BiocManager\", repos=\"http://cran.us.r-project.org\")};BiocManager::install(c(\"limma\"));\n",
      "Installing package into ‘/usr/local/lib/R/site-library’\n",
      "(as ‘lib’ is unspecified)\n",
      "Warning in install.packages(\"BiocManager\", repos = \"http://cran.us.r-project.org\") :\n",
      "  'lib = \"/usr/local/lib/R/site-library\"' is not writable\n",
      "Error in install.packages(\"BiocManager\", repos = \"http://cran.us.r-project.org\") : \n",
      "  unable to install packages\n",
      "Execution halted\n"
     ]
    }
   ],
   "source": [
    "# you will need R > 4.0 \n",
    "# https://www.charlesbordet.com/en/how-to-upgrade-to-R-4-0-0-on-debian/#the-naive-solution\n",
    "! R -e \"if(!requireNamespace('BiocManager', quietly = TRUE)){install.packages('BiocManager', repos='http://cran.us.r-project.org')};BiocManager::install('cmapR');\""
   ]
  },
  {
   "cell_type": "code",
   "execution_count": 31,
   "metadata": {
    "ExecuteTime": {
     "end_time": "2021-10-25T18:51:59.408601Z",
     "start_time": "2021-10-25T18:41:33.178527Z"
    }
   },
   "outputs": [
    {
     "name": "stdout",
     "output_type": "stream",
     "text": [
      "Copying gs://ccle_default_params/celligner_ex/level5_beta_trt_misc_n8283x12328.gctx...\n",
      "==> NOTE: You are downloading one or more large file(s), which would\n",
      "run significantly faster if you enabled sliced object downloads. This\n",
      "feature is enabled by default but requires that compiled crcmod be\n",
      "installed (see \"gsutil help crcmod\").\n",
      "\n",
      "\n",
      "Operation completed over 1 objects/389.6 MiB.                                    \n"
     ]
    },
    {
     "ename": "NameError",
     "evalue": "name 'pg' is not defined",
     "output_type": "error",
     "traceback": [
      "\u001b[0;31m---------------------------------------------------------------------------\u001b[0m",
      "\u001b[0;31mNameError\u001b[0m                                 Traceback (most recent call last)",
      "\u001b[0;32m/tmp/ipykernel_5428/952075856.py\u001b[0m in \u001b[0;36m<module>\u001b[0;34m\u001b[0m\n\u001b[1;32m      8\u001b[0m     \u001b[0mcmd\u001b[0m \u001b[0;34m=\u001b[0m \u001b[0;34m\"gsutil cp \"\u001b[0m \u001b[0;34m+\u001b[0m \u001b[0mfolder\u001b[0m \u001b[0;34m+\u001b[0m \u001b[0mval\u001b[0m \u001b[0;34m+\u001b[0m \u001b[0;34m\" temp/\"\u001b[0m\u001b[0;34m\u001b[0m\u001b[0;34m\u001b[0m\u001b[0m\n\u001b[1;32m      9\u001b[0m     \u001b[0mget_ipython\u001b[0m\u001b[0;34m(\u001b[0m\u001b[0;34m)\u001b[0m\u001b[0;34m.\u001b[0m\u001b[0msystem\u001b[0m\u001b[0;34m(\u001b[0m\u001b[0;34m' $cmd'\u001b[0m\u001b[0;34m)\u001b[0m\u001b[0;34m\u001b[0m\u001b[0;34m\u001b[0m\u001b[0m\n\u001b[0;32m---> 10\u001b[0;31m     \u001b[0mres\u001b[0m \u001b[0;34m=\u001b[0m \u001b[0mpg\u001b[0m\u001b[0;34m(\u001b[0m\u001b[0;34m'temp/'\u001b[0m\u001b[0;34m+\u001b[0m\u001b[0mval\u001b[0m\u001b[0;34m)\u001b[0m\u001b[0;34m\u001b[0m\u001b[0;34m\u001b[0m\u001b[0m\n\u001b[0m",
      "\u001b[0;31mNameError\u001b[0m: name 'pg' is not defined"
     ]
    }
   ],
   "source": [
    "folder = \"gs://ccle_default_params/celligner_ex/\"\n",
    "for val in [#\"level5_beta_ctl_n58022x12328.gctx\",\n",
    "            #\"level5_beta_trt_cp_n720216x12328.gctx\",\n",
    "            \"level5_beta_trt_misc_n8283x12328.gctx\",]:\n",
    "            #\"level5_beta_trt_oe_n34171x12328.gctx\",\n",
    "            #\"level5_beta_trt_sh_n238351x12328.gctx\",\n",
    "            #\"level5_beta_trt_xpr_n142901x12328.gctx\",]:\n",
    "    cmd = \"gsutil cp \" + folder + val + \" temp/\"\n",
    "    ! $cmd\n",
    "    res = pg('temp/'+val)"
   ]
  },
  {
   "cell_type": "markdown",
   "metadata": {},
   "source": [
    "## encode"
   ]
  },
  {
   "cell_type": "code",
   "execution_count": 5,
   "metadata": {
    "ExecuteTime": {
     "end_time": "2021-11-08T16:13:30.635275Z",
     "start_time": "2021-11-08T16:13:30.608688Z"
    }
   },
   "outputs": [],
   "source": [
    "todl = h.fileToList('data/encode_rna.txt')"
   ]
  },
  {
   "cell_type": "code",
   "execution_count": 6,
   "metadata": {
    "ExecuteTime": {
     "end_time": "2021-11-08T16:11:40.604826Z",
     "start_time": "2021-11-08T16:11:40.480926Z"
    }
   },
   "outputs": [
    {
     "data": {
      "text/html": [
       "<div>\n",
       "<style scoped>\n",
       "    .dataframe tbody tr th:only-of-type {\n",
       "        vertical-align: middle;\n",
       "    }\n",
       "\n",
       "    .dataframe tbody tr th {\n",
       "        vertical-align: top;\n",
       "    }\n",
       "\n",
       "    .dataframe thead th {\n",
       "        text-align: right;\n",
       "    }\n",
       "</style>\n",
       "<table border=\"1\" class=\"dataframe\">\n",
       "  <thead>\n",
       "    <tr style=\"text-align: right;\">\n",
       "      <th></th>\n",
       "      <th>ID</th>\n",
       "      <th>Accession</th>\n",
       "      <th>Assay name</th>\n",
       "      <th>Assay title</th>\n",
       "      <th>Target</th>\n",
       "      <th>Target of assay</th>\n",
       "      <th>Target gene symbol</th>\n",
       "      <th>Biosample summary</th>\n",
       "      <th>Biosample term name</th>\n",
       "      <th>Dbxrefs</th>\n",
       "      <th>...</th>\n",
       "      <th>Synchronization</th>\n",
       "      <th>Post-synchronization time</th>\n",
       "      <th>Post-synchronization time units</th>\n",
       "      <th>Biosample modification site target organism</th>\n",
       "      <th>Biosample modification site introduced gene organism</th>\n",
       "      <th>Replicates</th>\n",
       "      <th>Mixed biosamples</th>\n",
       "      <th>Cellular component</th>\n",
       "      <th>Library construction platform</th>\n",
       "      <th>Library construction method</th>\n",
       "    </tr>\n",
       "  </thead>\n",
       "  <tbody>\n",
       "    <tr>\n",
       "      <th>0</th>\n",
       "      <td>/experiments/ENCSR620LQN/</td>\n",
       "      <td>ENCSR620LQN</td>\n",
       "      <td>RNA-seq</td>\n",
       "      <td>total RNA-seq</td>\n",
       "      <td>NaN</td>\n",
       "      <td>NaN</td>\n",
       "      <td>NaN</td>\n",
       "      <td>Homo sapiens esophagus muscularis mucosa tissu...</td>\n",
       "      <td>esophagus muscularis mucosa</td>\n",
       "      <td>GEO:GSE88409</td>\n",
       "      <td>...</td>\n",
       "      <td>NaN</td>\n",
       "      <td>NaN</td>\n",
       "      <td>NaN</td>\n",
       "      <td>NaN</td>\n",
       "      <td>NaN</td>\n",
       "      <td>/replicates/499e1412-5ef3-4ac2-98be-fd55bb01fad5/</td>\n",
       "      <td>NaN</td>\n",
       "      <td>NaN</td>\n",
       "      <td>NaN</td>\n",
       "      <td>NaN</td>\n",
       "    </tr>\n",
       "    <tr>\n",
       "      <th>1</th>\n",
       "      <td>/experiments/ENCSR406SAW/</td>\n",
       "      <td>ENCSR406SAW</td>\n",
       "      <td>RNA-seq</td>\n",
       "      <td>total RNA-seq</td>\n",
       "      <td>NaN</td>\n",
       "      <td>NaN</td>\n",
       "      <td>NaN</td>\n",
       "      <td>Homo sapiens upper lobe of left lung tissue fe...</td>\n",
       "      <td>upper lobe of left lung</td>\n",
       "      <td>GEO:GSE88254</td>\n",
       "      <td>...</td>\n",
       "      <td>NaN</td>\n",
       "      <td>NaN</td>\n",
       "      <td>NaN</td>\n",
       "      <td>NaN</td>\n",
       "      <td>NaN</td>\n",
       "      <td>/replicates/782b72f8-3197-4a66-951c-e2de88158b6a/</td>\n",
       "      <td>NaN</td>\n",
       "      <td>NaN</td>\n",
       "      <td>NaN</td>\n",
       "      <td>NaN</td>\n",
       "    </tr>\n",
       "    <tr>\n",
       "      <th>2</th>\n",
       "      <td>/experiments/ENCSR019MXZ/</td>\n",
       "      <td>ENCSR019MXZ</td>\n",
       "      <td>polyA plus RNA-seq</td>\n",
       "      <td>polyA plus RNA-seq</td>\n",
       "      <td>NaN</td>\n",
       "      <td>NaN</td>\n",
       "      <td>NaN</td>\n",
       "      <td>Homo sapiens HepG2 insoluble cytoplasmic fraction</td>\n",
       "      <td>HepG2</td>\n",
       "      <td>GEO:GSE87958</td>\n",
       "      <td>...</td>\n",
       "      <td>NaN</td>\n",
       "      <td>NaN</td>\n",
       "      <td>NaN</td>\n",
       "      <td>NaN</td>\n",
       "      <td>NaN</td>\n",
       "      <td>/replicates/443af8c7-5ed1-4930-b4f7-e1ca62c553...</td>\n",
       "      <td>NaN</td>\n",
       "      <td>insoluble cytoplasmic fraction</td>\n",
       "      <td>NaN</td>\n",
       "      <td>NaN</td>\n",
       "    </tr>\n",
       "    <tr>\n",
       "      <th>3</th>\n",
       "      <td>/experiments/ENCSR630VJN/</td>\n",
       "      <td>ENCSR630VJN</td>\n",
       "      <td>RNA-seq</td>\n",
       "      <td>total RNA-seq</td>\n",
       "      <td>NaN</td>\n",
       "      <td>NaN</td>\n",
       "      <td>NaN</td>\n",
       "      <td>Homo sapiens transverse colon tissue male adul...</td>\n",
       "      <td>transverse colon</td>\n",
       "      <td>GEO:GSE88418</td>\n",
       "      <td>...</td>\n",
       "      <td>NaN</td>\n",
       "      <td>NaN</td>\n",
       "      <td>NaN</td>\n",
       "      <td>NaN</td>\n",
       "      <td>NaN</td>\n",
       "      <td>/replicates/aa7ff7b6-5bf5-4f0d-a09c-8612c945df37/</td>\n",
       "      <td>NaN</td>\n",
       "      <td>NaN</td>\n",
       "      <td>NaN</td>\n",
       "      <td>NaN</td>\n",
       "    </tr>\n",
       "    <tr>\n",
       "      <th>4</th>\n",
       "      <td>/experiments/ENCSR035SKV/</td>\n",
       "      <td>ENCSR035SKV</td>\n",
       "      <td>RNA-seq</td>\n",
       "      <td>total RNA-seq</td>\n",
       "      <td>NaN</td>\n",
       "      <td>NaN</td>\n",
       "      <td>NaN</td>\n",
       "      <td>Homo sapiens gastroesophageal sphincter tissue...</td>\n",
       "      <td>gastroesophageal sphincter</td>\n",
       "      <td>GEO:GSE87978</td>\n",
       "      <td>...</td>\n",
       "      <td>NaN</td>\n",
       "      <td>NaN</td>\n",
       "      <td>NaN</td>\n",
       "      <td>NaN</td>\n",
       "      <td>NaN</td>\n",
       "      <td>/replicates/8c825033-47e6-4659-8b02-0b399fab0435/</td>\n",
       "      <td>NaN</td>\n",
       "      <td>NaN</td>\n",
       "      <td>NaN</td>\n",
       "      <td>NaN</td>\n",
       "    </tr>\n",
       "    <tr>\n",
       "      <th>...</th>\n",
       "      <td>...</td>\n",
       "      <td>...</td>\n",
       "      <td>...</td>\n",
       "      <td>...</td>\n",
       "      <td>...</td>\n",
       "      <td>...</td>\n",
       "      <td>...</td>\n",
       "      <td>...</td>\n",
       "      <td>...</td>\n",
       "      <td>...</td>\n",
       "      <td>...</td>\n",
       "      <td>...</td>\n",
       "      <td>...</td>\n",
       "      <td>...</td>\n",
       "      <td>...</td>\n",
       "      <td>...</td>\n",
       "      <td>...</td>\n",
       "      <td>...</td>\n",
       "      <td>...</td>\n",
       "      <td>...</td>\n",
       "      <td>...</td>\n",
       "    </tr>\n",
       "    <tr>\n",
       "      <th>1006</th>\n",
       "      <td>/experiments/ENCSR672JUF/</td>\n",
       "      <td>ENCSR672JUF</td>\n",
       "      <td>polyA plus RNA-seq</td>\n",
       "      <td>polyA plus RNA-seq</td>\n",
       "      <td>NaN</td>\n",
       "      <td>NaN</td>\n",
       "      <td>NaN</td>\n",
       "      <td>Homo sapiens foreskin keratinocyte male newborn</td>\n",
       "      <td>foreskin keratinocyte</td>\n",
       "      <td>GEO:GSM958177</td>\n",
       "      <td>...</td>\n",
       "      <td>NaN</td>\n",
       "      <td>NaN</td>\n",
       "      <td>NaN</td>\n",
       "      <td>NaN</td>\n",
       "      <td>NaN</td>\n",
       "      <td>/replicates/dd125c50-da07-473b-90cf-6be56b7fe968/</td>\n",
       "      <td>NaN</td>\n",
       "      <td>NaN</td>\n",
       "      <td>NaN</td>\n",
       "      <td>NaN</td>\n",
       "    </tr>\n",
       "    <tr>\n",
       "      <th>1007</th>\n",
       "      <td>/experiments/ENCSR999CPT/</td>\n",
       "      <td>ENCSR999CPT</td>\n",
       "      <td>polyA plus RNA-seq</td>\n",
       "      <td>polyA plus RNA-seq</td>\n",
       "      <td>NaN</td>\n",
       "      <td>NaN</td>\n",
       "      <td>NaN</td>\n",
       "      <td>Homo sapiens placental basal plate tissue fema...</td>\n",
       "      <td>placental basal plate</td>\n",
       "      <td>GEO:GSM1127098</td>\n",
       "      <td>...</td>\n",
       "      <td>NaN</td>\n",
       "      <td>NaN</td>\n",
       "      <td>NaN</td>\n",
       "      <td>NaN</td>\n",
       "      <td>NaN</td>\n",
       "      <td>/replicates/d92f45a2-c13f-42d4-a52d-2f974f6e7f41/</td>\n",
       "      <td>NaN</td>\n",
       "      <td>NaN</td>\n",
       "      <td>NaN</td>\n",
       "      <td>NaN</td>\n",
       "    </tr>\n",
       "    <tr>\n",
       "      <th>1008</th>\n",
       "      <td>/experiments/ENCSR634LOX/</td>\n",
       "      <td>ENCSR634LOX</td>\n",
       "      <td>polyA plus RNA-seq</td>\n",
       "      <td>polyA plus RNA-seq</td>\n",
       "      <td>NaN</td>\n",
       "      <td>NaN</td>\n",
       "      <td>NaN</td>\n",
       "      <td>Homo sapiens foreskin melanocyte male newborn</td>\n",
       "      <td>foreskin melanocyte</td>\n",
       "      <td>GEO:GSM958174</td>\n",
       "      <td>...</td>\n",
       "      <td>NaN</td>\n",
       "      <td>NaN</td>\n",
       "      <td>NaN</td>\n",
       "      <td>NaN</td>\n",
       "      <td>NaN</td>\n",
       "      <td>/replicates/f0421981-9298-4ade-a256-59aa55666f27/</td>\n",
       "      <td>NaN</td>\n",
       "      <td>NaN</td>\n",
       "      <td>NaN</td>\n",
       "      <td>NaN</td>\n",
       "    </tr>\n",
       "    <tr>\n",
       "      <th>1009</th>\n",
       "      <td>/experiments/ENCSR714QAF/</td>\n",
       "      <td>ENCSR714QAF</td>\n",
       "      <td>polyA plus RNA-seq</td>\n",
       "      <td>polyA plus RNA-seq</td>\n",
       "      <td>NaN</td>\n",
       "      <td>NaN</td>\n",
       "      <td>NaN</td>\n",
       "      <td>Homo sapiens mole tissue female</td>\n",
       "      <td>mole</td>\n",
       "      <td>GEO:GSM1582478</td>\n",
       "      <td>...</td>\n",
       "      <td>NaN</td>\n",
       "      <td>NaN</td>\n",
       "      <td>NaN</td>\n",
       "      <td>NaN</td>\n",
       "      <td>NaN</td>\n",
       "      <td>/replicates/919a47f8-b23e-431c-9ea0-9dcb6990df63/</td>\n",
       "      <td>NaN</td>\n",
       "      <td>NaN</td>\n",
       "      <td>NaN</td>\n",
       "      <td>NaN</td>\n",
       "    </tr>\n",
       "    <tr>\n",
       "      <th>1010</th>\n",
       "      <td>/experiments/ENCSR329ZRF/</td>\n",
       "      <td>ENCSR329ZRF</td>\n",
       "      <td>polyA plus RNA-seq</td>\n",
       "      <td>polyA plus RNA-seq</td>\n",
       "      <td>NaN</td>\n",
       "      <td>NaN</td>\n",
       "      <td>NaN</td>\n",
       "      <td>Homo sapiens trophoblast tissue female embryo ...</td>\n",
       "      <td>trophoblast</td>\n",
       "      <td>GEO:GSM1582479</td>\n",
       "      <td>...</td>\n",
       "      <td>NaN</td>\n",
       "      <td>NaN</td>\n",
       "      <td>NaN</td>\n",
       "      <td>NaN</td>\n",
       "      <td>NaN</td>\n",
       "      <td>/replicates/0fdf087d-c251-4149-95d5-cdfaa012d1fc/</td>\n",
       "      <td>NaN</td>\n",
       "      <td>NaN</td>\n",
       "      <td>NaN</td>\n",
       "      <td>NaN</td>\n",
       "    </tr>\n",
       "  </tbody>\n",
       "</table>\n",
       "<p>1011 rows × 39 columns</p>\n",
       "</div>"
      ],
      "text/plain": [
       "                             ID    Accession          Assay name  \\\n",
       "0     /experiments/ENCSR620LQN/  ENCSR620LQN             RNA-seq   \n",
       "1     /experiments/ENCSR406SAW/  ENCSR406SAW             RNA-seq   \n",
       "2     /experiments/ENCSR019MXZ/  ENCSR019MXZ  polyA plus RNA-seq   \n",
       "3     /experiments/ENCSR630VJN/  ENCSR630VJN             RNA-seq   \n",
       "4     /experiments/ENCSR035SKV/  ENCSR035SKV             RNA-seq   \n",
       "...                         ...          ...                 ...   \n",
       "1006  /experiments/ENCSR672JUF/  ENCSR672JUF  polyA plus RNA-seq   \n",
       "1007  /experiments/ENCSR999CPT/  ENCSR999CPT  polyA plus RNA-seq   \n",
       "1008  /experiments/ENCSR634LOX/  ENCSR634LOX  polyA plus RNA-seq   \n",
       "1009  /experiments/ENCSR714QAF/  ENCSR714QAF  polyA plus RNA-seq   \n",
       "1010  /experiments/ENCSR329ZRF/  ENCSR329ZRF  polyA plus RNA-seq   \n",
       "\n",
       "             Assay title  Target  Target of assay  Target gene symbol  \\\n",
       "0          total RNA-seq     NaN              NaN                 NaN   \n",
       "1          total RNA-seq     NaN              NaN                 NaN   \n",
       "2     polyA plus RNA-seq     NaN              NaN                 NaN   \n",
       "3          total RNA-seq     NaN              NaN                 NaN   \n",
       "4          total RNA-seq     NaN              NaN                 NaN   \n",
       "...                  ...     ...              ...                 ...   \n",
       "1006  polyA plus RNA-seq     NaN              NaN                 NaN   \n",
       "1007  polyA plus RNA-seq     NaN              NaN                 NaN   \n",
       "1008  polyA plus RNA-seq     NaN              NaN                 NaN   \n",
       "1009  polyA plus RNA-seq     NaN              NaN                 NaN   \n",
       "1010  polyA plus RNA-seq     NaN              NaN                 NaN   \n",
       "\n",
       "                                      Biosample summary  \\\n",
       "0     Homo sapiens esophagus muscularis mucosa tissu...   \n",
       "1     Homo sapiens upper lobe of left lung tissue fe...   \n",
       "2     Homo sapiens HepG2 insoluble cytoplasmic fraction   \n",
       "3     Homo sapiens transverse colon tissue male adul...   \n",
       "4     Homo sapiens gastroesophageal sphincter tissue...   \n",
       "...                                                 ...   \n",
       "1006    Homo sapiens foreskin keratinocyte male newborn   \n",
       "1007  Homo sapiens placental basal plate tissue fema...   \n",
       "1008      Homo sapiens foreskin melanocyte male newborn   \n",
       "1009                    Homo sapiens mole tissue female   \n",
       "1010  Homo sapiens trophoblast tissue female embryo ...   \n",
       "\n",
       "              Biosample term name         Dbxrefs  ... Synchronization  \\\n",
       "0     esophagus muscularis mucosa    GEO:GSE88409  ...             NaN   \n",
       "1         upper lobe of left lung    GEO:GSE88254  ...             NaN   \n",
       "2                           HepG2    GEO:GSE87958  ...             NaN   \n",
       "3                transverse colon    GEO:GSE88418  ...             NaN   \n",
       "4      gastroesophageal sphincter    GEO:GSE87978  ...             NaN   \n",
       "...                           ...             ...  ...             ...   \n",
       "1006        foreskin keratinocyte   GEO:GSM958177  ...             NaN   \n",
       "1007        placental basal plate  GEO:GSM1127098  ...             NaN   \n",
       "1008          foreskin melanocyte   GEO:GSM958174  ...             NaN   \n",
       "1009                         mole  GEO:GSM1582478  ...             NaN   \n",
       "1010                  trophoblast  GEO:GSM1582479  ...             NaN   \n",
       "\n",
       "     Post-synchronization time Post-synchronization time units  \\\n",
       "0                          NaN                             NaN   \n",
       "1                          NaN                             NaN   \n",
       "2                          NaN                             NaN   \n",
       "3                          NaN                             NaN   \n",
       "4                          NaN                             NaN   \n",
       "...                        ...                             ...   \n",
       "1006                       NaN                             NaN   \n",
       "1007                       NaN                             NaN   \n",
       "1008                       NaN                             NaN   \n",
       "1009                       NaN                             NaN   \n",
       "1010                       NaN                             NaN   \n",
       "\n",
       "     Biosample modification site target organism  \\\n",
       "0                                            NaN   \n",
       "1                                            NaN   \n",
       "2                                            NaN   \n",
       "3                                            NaN   \n",
       "4                                            NaN   \n",
       "...                                          ...   \n",
       "1006                                         NaN   \n",
       "1007                                         NaN   \n",
       "1008                                         NaN   \n",
       "1009                                         NaN   \n",
       "1010                                         NaN   \n",
       "\n",
       "     Biosample modification site introduced gene organism  \\\n",
       "0                                                   NaN     \n",
       "1                                                   NaN     \n",
       "2                                                   NaN     \n",
       "3                                                   NaN     \n",
       "4                                                   NaN     \n",
       "...                                                 ...     \n",
       "1006                                                NaN     \n",
       "1007                                                NaN     \n",
       "1008                                                NaN     \n",
       "1009                                                NaN     \n",
       "1010                                                NaN     \n",
       "\n",
       "                                             Replicates Mixed biosamples  \\\n",
       "0     /replicates/499e1412-5ef3-4ac2-98be-fd55bb01fad5/              NaN   \n",
       "1     /replicates/782b72f8-3197-4a66-951c-e2de88158b6a/              NaN   \n",
       "2     /replicates/443af8c7-5ed1-4930-b4f7-e1ca62c553...              NaN   \n",
       "3     /replicates/aa7ff7b6-5bf5-4f0d-a09c-8612c945df37/              NaN   \n",
       "4     /replicates/8c825033-47e6-4659-8b02-0b399fab0435/              NaN   \n",
       "...                                                 ...              ...   \n",
       "1006  /replicates/dd125c50-da07-473b-90cf-6be56b7fe968/              NaN   \n",
       "1007  /replicates/d92f45a2-c13f-42d4-a52d-2f974f6e7f41/              NaN   \n",
       "1008  /replicates/f0421981-9298-4ade-a256-59aa55666f27/              NaN   \n",
       "1009  /replicates/919a47f8-b23e-431c-9ea0-9dcb6990df63/              NaN   \n",
       "1010  /replicates/0fdf087d-c251-4149-95d5-cdfaa012d1fc/              NaN   \n",
       "\n",
       "                  Cellular component Library construction platform  \\\n",
       "0                                NaN                           NaN   \n",
       "1                                NaN                           NaN   \n",
       "2     insoluble cytoplasmic fraction                           NaN   \n",
       "3                                NaN                           NaN   \n",
       "4                                NaN                           NaN   \n",
       "...                              ...                           ...   \n",
       "1006                             NaN                           NaN   \n",
       "1007                             NaN                           NaN   \n",
       "1008                             NaN                           NaN   \n",
       "1009                             NaN                           NaN   \n",
       "1010                             NaN                           NaN   \n",
       "\n",
       "      Library construction method  \n",
       "0                             NaN  \n",
       "1                             NaN  \n",
       "2                             NaN  \n",
       "3                             NaN  \n",
       "4                             NaN  \n",
       "...                           ...  \n",
       "1006                          NaN  \n",
       "1007                          NaN  \n",
       "1008                          NaN  \n",
       "1009                          NaN  \n",
       "1010                          NaN  \n",
       "\n",
       "[1011 rows x 39 columns]"
      ]
     },
     "execution_count": 6,
     "metadata": {},
     "output_type": "execute_result"
    }
   ],
   "source": [
    "# 40,000 x 1100\n",
    "report = pd.read_csv('data/encode_report.tsv', sep=\"\\t\", skiprows=1)\n",
    "report"
   ]
  },
  {
   "cell_type": "code",
   "execution_count": 7,
   "metadata": {},
   "outputs": [],
   "source": [
    "report['Files'] = report['Files'].str.split(',').apply(lambda x: [i.split('/')[-2] for i in x])"
   ]
  },
  {
   "cell_type": "code",
   "execution_count": 8,
   "metadata": {},
   "outputs": [],
   "source": [
    "report = report[report['Cellular component'].isna() | (report['Cellular component']==\"nucleus\")]\n",
    "report = report[['Assay title', 'Biosample summary', 'Biosample term name', 'Description', 'Lab', 'Project', 'Files', 'Biosample accession', 'Organism', 'Life stage', 'Biosample age']]"
   ]
  },
  {
   "cell_type": "code",
   "execution_count": 9,
   "metadata": {},
   "outputs": [],
   "source": [
    "match = {}\n",
    "for i, val in report['Files'].iteritems():\n",
    "  for j in val:\n",
    "    match[j] = i"
   ]
  },
  {
   "cell_type": "code",
   "execution_count": 10,
   "metadata": {},
   "outputs": [
    {
     "name": "stdout",
     "output_type": "stream",
     "text": [
      "\n",
      "ENCFF279TNV\n",
      "ENCFF176WAF\n",
      "ENCFF939LDL\n",
      "ENCFF781LKS\n",
      "ENCFF336WOX\n",
      "ENCFF091QAX\n",
      "ENCFF488DCO\n",
      "ENCFF619VQI\n",
      "ENCFF119UFR\n",
      "ENCFF240WBI\n",
      "ENCFF307SLN\n",
      "ENCFF395RXK\n",
      "ENCFF197BVC\n",
      "ENCFF395EXV\n",
      "ENCFF497FXX\n",
      "ENCFF644XSV\n",
      "ENCFF981HOQ\n",
      "ENCFF297BJF\n",
      "ENCFF717PSW\n",
      "ENCFF387IEG\n",
      "ENCFF702SUE\n",
      "ENCFF944RFV\n",
      "ENCFF529HSE\n",
      "ENCFF754UAP\n",
      "ENCFF916MTO\n",
      "ENCFF842TMB\n",
      "ENCFF543BHV\n",
      "ENCFF296ZTM\n",
      "ENCFF300NAD\n",
      "ENCFF396FZT\n",
      "ENCFF942MTU\n"
     ]
    }
   ],
   "source": [
    "encode_ann = pd.DataFrame(columns=report.columns)\n",
    "for val in todl:\n",
    "  val = val.split('/')[-1].split('.')[0]\n",
    "  if val not in match:\n",
    "    print(val)\n",
    "  else:\n",
    "    encode_ann.loc[val] = report.loc[match[val]].values\n",
    "    "
   ]
  },
  {
   "cell_type": "code",
   "execution_count": 17,
   "metadata": {},
   "outputs": [
    {
     "ename": "ValueError",
     "evalue": "cannot reindex from a duplicate axis",
     "output_type": "error",
     "traceback": [
      "\u001b[0;31m---------------------------------------------------------------------------\u001b[0m",
      "\u001b[0;31mValueError\u001b[0m                                Traceback (most recent call last)",
      "\u001b[0;32m/tmp/ipykernel_5428/1526545396.py\u001b[0m in \u001b[0;36m<module>\u001b[0;34m\u001b[0m\n\u001b[1;32m      7\u001b[0m     \u001b[0mvl\u001b[0m \u001b[0;34m=\u001b[0m \u001b[0mvl\u001b[0m\u001b[0;34m.\u001b[0m\u001b[0mset_index\u001b[0m\u001b[0;34m(\u001b[0m\u001b[0;34m'gene_ID'\u001b[0m\u001b[0;34m,\u001b[0m \u001b[0mdrop\u001b[0m\u001b[0;34m=\u001b[0m\u001b[0;32mTrue\u001b[0m\u001b[0;34m)\u001b[0m\u001b[0;34m[\u001b[0m\u001b[0mvl\u001b[0m\u001b[0;34m.\u001b[0m\u001b[0mcolumns\u001b[0m\u001b[0;34m[\u001b[0m\u001b[0;34m-\u001b[0m\u001b[0;36m1\u001b[0m\u001b[0;34m]\u001b[0m\u001b[0;34m]\u001b[0m\u001b[0;34m.\u001b[0m\u001b[0mrename\u001b[0m\u001b[0;34m(\u001b[0m\u001b[0mval\u001b[0m\u001b[0;34m)\u001b[0m\u001b[0;34m\u001b[0m\u001b[0;34m\u001b[0m\u001b[0m\n\u001b[1;32m      8\u001b[0m   \u001b[0mres\u001b[0m\u001b[0;34m.\u001b[0m\u001b[0mappend\u001b[0m\u001b[0;34m(\u001b[0m\u001b[0mvl\u001b[0m\u001b[0;34m)\u001b[0m\u001b[0;34m\u001b[0m\u001b[0;34m\u001b[0m\u001b[0m\n\u001b[0;32m----> 9\u001b[0;31m \u001b[0mencode\u001b[0m \u001b[0;34m=\u001b[0m \u001b[0mpd\u001b[0m\u001b[0;34m.\u001b[0m\u001b[0mconcat\u001b[0m\u001b[0;34m(\u001b[0m\u001b[0mres\u001b[0m\u001b[0;34m,\u001b[0m \u001b[0maxis\u001b[0m\u001b[0;34m=\u001b[0m\u001b[0;36m1\u001b[0m\u001b[0;34m)\u001b[0m\u001b[0;34m\u001b[0m\u001b[0;34m\u001b[0m\u001b[0m\n\u001b[0m",
      "\u001b[0;32m~/miniconda3/envs/gae/lib/python3.8/site-packages/pandas/util/_decorators.py\u001b[0m in \u001b[0;36mwrapper\u001b[0;34m(*args, **kwargs)\u001b[0m\n\u001b[1;32m    309\u001b[0m                     \u001b[0mstacklevel\u001b[0m\u001b[0;34m=\u001b[0m\u001b[0mstacklevel\u001b[0m\u001b[0;34m,\u001b[0m\u001b[0;34m\u001b[0m\u001b[0;34m\u001b[0m\u001b[0m\n\u001b[1;32m    310\u001b[0m                 )\n\u001b[0;32m--> 311\u001b[0;31m             \u001b[0;32mreturn\u001b[0m \u001b[0mfunc\u001b[0m\u001b[0;34m(\u001b[0m\u001b[0;34m*\u001b[0m\u001b[0margs\u001b[0m\u001b[0;34m,\u001b[0m \u001b[0;34m**\u001b[0m\u001b[0mkwargs\u001b[0m\u001b[0;34m)\u001b[0m\u001b[0;34m\u001b[0m\u001b[0;34m\u001b[0m\u001b[0m\n\u001b[0m\u001b[1;32m    312\u001b[0m \u001b[0;34m\u001b[0m\u001b[0m\n\u001b[1;32m    313\u001b[0m         \u001b[0;32mreturn\u001b[0m \u001b[0mwrapper\u001b[0m\u001b[0;34m\u001b[0m\u001b[0;34m\u001b[0m\u001b[0m\n",
      "\u001b[0;32m~/miniconda3/envs/gae/lib/python3.8/site-packages/pandas/core/reshape/concat.py\u001b[0m in \u001b[0;36mconcat\u001b[0;34m(objs, axis, join, ignore_index, keys, levels, names, verify_integrity, sort, copy)\u001b[0m\n\u001b[1;32m    305\u001b[0m     )\n\u001b[1;32m    306\u001b[0m \u001b[0;34m\u001b[0m\u001b[0m\n\u001b[0;32m--> 307\u001b[0;31m     \u001b[0;32mreturn\u001b[0m \u001b[0mop\u001b[0m\u001b[0;34m.\u001b[0m\u001b[0mget_result\u001b[0m\u001b[0;34m(\u001b[0m\u001b[0;34m)\u001b[0m\u001b[0;34m\u001b[0m\u001b[0;34m\u001b[0m\u001b[0m\n\u001b[0m\u001b[1;32m    308\u001b[0m \u001b[0;34m\u001b[0m\u001b[0m\n\u001b[1;32m    309\u001b[0m \u001b[0;34m\u001b[0m\u001b[0m\n",
      "\u001b[0;32m~/miniconda3/envs/gae/lib/python3.8/site-packages/pandas/core/reshape/concat.py\u001b[0m in \u001b[0;36mget_result\u001b[0;34m(self)\u001b[0m\n\u001b[1;32m    506\u001b[0m \u001b[0;34m\u001b[0m\u001b[0m\n\u001b[1;32m    507\u001b[0m                 \u001b[0mindex\u001b[0m\u001b[0;34m,\u001b[0m \u001b[0mcolumns\u001b[0m \u001b[0;34m=\u001b[0m \u001b[0mself\u001b[0m\u001b[0;34m.\u001b[0m\u001b[0mnew_axes\u001b[0m\u001b[0;34m\u001b[0m\u001b[0;34m\u001b[0m\u001b[0m\n\u001b[0;32m--> 508\u001b[0;31m                 \u001b[0mdf\u001b[0m \u001b[0;34m=\u001b[0m \u001b[0mcons\u001b[0m\u001b[0;34m(\u001b[0m\u001b[0mdata\u001b[0m\u001b[0;34m,\u001b[0m \u001b[0mindex\u001b[0m\u001b[0;34m=\u001b[0m\u001b[0mindex\u001b[0m\u001b[0;34m,\u001b[0m \u001b[0mcopy\u001b[0m\u001b[0;34m=\u001b[0m\u001b[0mself\u001b[0m\u001b[0;34m.\u001b[0m\u001b[0mcopy\u001b[0m\u001b[0;34m)\u001b[0m\u001b[0;34m\u001b[0m\u001b[0;34m\u001b[0m\u001b[0m\n\u001b[0m\u001b[1;32m    509\u001b[0m                 \u001b[0mdf\u001b[0m\u001b[0;34m.\u001b[0m\u001b[0mcolumns\u001b[0m \u001b[0;34m=\u001b[0m \u001b[0mcolumns\u001b[0m\u001b[0;34m\u001b[0m\u001b[0;34m\u001b[0m\u001b[0m\n\u001b[1;32m    510\u001b[0m                 \u001b[0;32mreturn\u001b[0m \u001b[0mdf\u001b[0m\u001b[0;34m.\u001b[0m\u001b[0m__finalize__\u001b[0m\u001b[0;34m(\u001b[0m\u001b[0mself\u001b[0m\u001b[0;34m,\u001b[0m \u001b[0mmethod\u001b[0m\u001b[0;34m=\u001b[0m\u001b[0;34m\"concat\"\u001b[0m\u001b[0;34m)\u001b[0m\u001b[0;34m\u001b[0m\u001b[0;34m\u001b[0m\u001b[0m\n",
      "\u001b[0;32m~/miniconda3/envs/gae/lib/python3.8/site-packages/pandas/core/frame.py\u001b[0m in \u001b[0;36m__init__\u001b[0;34m(self, data, index, columns, dtype, copy)\u001b[0m\n\u001b[1;32m    612\u001b[0m         \u001b[0;32melif\u001b[0m \u001b[0misinstance\u001b[0m\u001b[0;34m(\u001b[0m\u001b[0mdata\u001b[0m\u001b[0;34m,\u001b[0m \u001b[0mdict\u001b[0m\u001b[0;34m)\u001b[0m\u001b[0;34m:\u001b[0m\u001b[0;34m\u001b[0m\u001b[0;34m\u001b[0m\u001b[0m\n\u001b[1;32m    613\u001b[0m             \u001b[0;31m# GH#38939 de facto copy defaults to False only in non-dict cases\u001b[0m\u001b[0;34m\u001b[0m\u001b[0;34m\u001b[0m\u001b[0;34m\u001b[0m\u001b[0m\n\u001b[0;32m--> 614\u001b[0;31m             \u001b[0mmgr\u001b[0m \u001b[0;34m=\u001b[0m \u001b[0mdict_to_mgr\u001b[0m\u001b[0;34m(\u001b[0m\u001b[0mdata\u001b[0m\u001b[0;34m,\u001b[0m \u001b[0mindex\u001b[0m\u001b[0;34m,\u001b[0m \u001b[0mcolumns\u001b[0m\u001b[0;34m,\u001b[0m \u001b[0mdtype\u001b[0m\u001b[0;34m=\u001b[0m\u001b[0mdtype\u001b[0m\u001b[0;34m,\u001b[0m \u001b[0mcopy\u001b[0m\u001b[0;34m=\u001b[0m\u001b[0mcopy\u001b[0m\u001b[0;34m,\u001b[0m \u001b[0mtyp\u001b[0m\u001b[0;34m=\u001b[0m\u001b[0mmanager\u001b[0m\u001b[0;34m)\u001b[0m\u001b[0;34m\u001b[0m\u001b[0;34m\u001b[0m\u001b[0m\n\u001b[0m\u001b[1;32m    615\u001b[0m         \u001b[0;32melif\u001b[0m \u001b[0misinstance\u001b[0m\u001b[0;34m(\u001b[0m\u001b[0mdata\u001b[0m\u001b[0;34m,\u001b[0m \u001b[0mma\u001b[0m\u001b[0;34m.\u001b[0m\u001b[0mMaskedArray\u001b[0m\u001b[0;34m)\u001b[0m\u001b[0;34m:\u001b[0m\u001b[0;34m\u001b[0m\u001b[0;34m\u001b[0m\u001b[0m\n\u001b[1;32m    616\u001b[0m             \u001b[0;32mimport\u001b[0m \u001b[0mnumpy\u001b[0m\u001b[0;34m.\u001b[0m\u001b[0mma\u001b[0m\u001b[0;34m.\u001b[0m\u001b[0mmrecords\u001b[0m \u001b[0;32mas\u001b[0m \u001b[0mmrecords\u001b[0m\u001b[0;34m\u001b[0m\u001b[0;34m\u001b[0m\u001b[0m\n",
      "\u001b[0;32m~/miniconda3/envs/gae/lib/python3.8/site-packages/pandas/core/internals/construction.py\u001b[0m in \u001b[0;36mdict_to_mgr\u001b[0;34m(data, index, columns, dtype, typ, copy)\u001b[0m\n\u001b[1;32m    462\u001b[0m         \u001b[0;31m# TODO: can we get rid of the dt64tz special case above?\u001b[0m\u001b[0;34m\u001b[0m\u001b[0;34m\u001b[0m\u001b[0;34m\u001b[0m\u001b[0m\n\u001b[1;32m    463\u001b[0m \u001b[0;34m\u001b[0m\u001b[0m\n\u001b[0;32m--> 464\u001b[0;31m     return arrays_to_mgr(\n\u001b[0m\u001b[1;32m    465\u001b[0m         \u001b[0marrays\u001b[0m\u001b[0;34m,\u001b[0m \u001b[0mdata_names\u001b[0m\u001b[0;34m,\u001b[0m \u001b[0mindex\u001b[0m\u001b[0;34m,\u001b[0m \u001b[0mcolumns\u001b[0m\u001b[0;34m,\u001b[0m \u001b[0mdtype\u001b[0m\u001b[0;34m=\u001b[0m\u001b[0mdtype\u001b[0m\u001b[0;34m,\u001b[0m \u001b[0mtyp\u001b[0m\u001b[0;34m=\u001b[0m\u001b[0mtyp\u001b[0m\u001b[0;34m,\u001b[0m \u001b[0mconsolidate\u001b[0m\u001b[0;34m=\u001b[0m\u001b[0mcopy\u001b[0m\u001b[0;34m\u001b[0m\u001b[0;34m\u001b[0m\u001b[0m\n\u001b[1;32m    466\u001b[0m     )\n",
      "\u001b[0;32m~/miniconda3/envs/gae/lib/python3.8/site-packages/pandas/core/internals/construction.py\u001b[0m in \u001b[0;36marrays_to_mgr\u001b[0;34m(arrays, arr_names, index, columns, dtype, verify_integrity, typ, consolidate)\u001b[0m\n\u001b[1;32m    122\u001b[0m \u001b[0;34m\u001b[0m\u001b[0m\n\u001b[1;32m    123\u001b[0m         \u001b[0;31m# don't force copy because getting jammed in an ndarray anyway\u001b[0m\u001b[0;34m\u001b[0m\u001b[0;34m\u001b[0m\u001b[0;34m\u001b[0m\u001b[0m\n\u001b[0;32m--> 124\u001b[0;31m         \u001b[0marrays\u001b[0m \u001b[0;34m=\u001b[0m \u001b[0m_homogenize\u001b[0m\u001b[0;34m(\u001b[0m\u001b[0marrays\u001b[0m\u001b[0;34m,\u001b[0m \u001b[0mindex\u001b[0m\u001b[0;34m,\u001b[0m \u001b[0mdtype\u001b[0m\u001b[0;34m)\u001b[0m\u001b[0;34m\u001b[0m\u001b[0;34m\u001b[0m\u001b[0m\n\u001b[0m\u001b[1;32m    125\u001b[0m \u001b[0;34m\u001b[0m\u001b[0m\n\u001b[1;32m    126\u001b[0m     \u001b[0;32melse\u001b[0m\u001b[0;34m:\u001b[0m\u001b[0;34m\u001b[0m\u001b[0;34m\u001b[0m\u001b[0m\n",
      "\u001b[0;32m~/miniconda3/envs/gae/lib/python3.8/site-packages/pandas/core/internals/construction.py\u001b[0m in \u001b[0;36m_homogenize\u001b[0;34m(data, index, dtype)\u001b[0m\n\u001b[1;32m    569\u001b[0m                 \u001b[0;31m# Forces alignment. No need to copy data since we\u001b[0m\u001b[0;34m\u001b[0m\u001b[0;34m\u001b[0m\u001b[0;34m\u001b[0m\u001b[0m\n\u001b[1;32m    570\u001b[0m                 \u001b[0;31m# are putting it into an ndarray later\u001b[0m\u001b[0;34m\u001b[0m\u001b[0;34m\u001b[0m\u001b[0;34m\u001b[0m\u001b[0m\n\u001b[0;32m--> 571\u001b[0;31m                 \u001b[0mval\u001b[0m \u001b[0;34m=\u001b[0m \u001b[0mval\u001b[0m\u001b[0;34m.\u001b[0m\u001b[0mreindex\u001b[0m\u001b[0;34m(\u001b[0m\u001b[0mindex\u001b[0m\u001b[0;34m,\u001b[0m \u001b[0mcopy\u001b[0m\u001b[0;34m=\u001b[0m\u001b[0;32mFalse\u001b[0m\u001b[0;34m)\u001b[0m\u001b[0;34m\u001b[0m\u001b[0;34m\u001b[0m\u001b[0m\n\u001b[0m\u001b[1;32m    572\u001b[0m \u001b[0;34m\u001b[0m\u001b[0m\n\u001b[1;32m    573\u001b[0m             \u001b[0mval\u001b[0m \u001b[0;34m=\u001b[0m \u001b[0mval\u001b[0m\u001b[0;34m.\u001b[0m\u001b[0m_values\u001b[0m\u001b[0;34m\u001b[0m\u001b[0;34m\u001b[0m\u001b[0m\n",
      "\u001b[0;32m~/miniconda3/envs/gae/lib/python3.8/site-packages/pandas/core/series.py\u001b[0m in \u001b[0;36mreindex\u001b[0;34m(self, index, **kwargs)\u001b[0m\n\u001b[1;32m   4578\u001b[0m     )\n\u001b[1;32m   4579\u001b[0m     \u001b[0;32mdef\u001b[0m \u001b[0mreindex\u001b[0m\u001b[0;34m(\u001b[0m\u001b[0mself\u001b[0m\u001b[0;34m,\u001b[0m \u001b[0mindex\u001b[0m\u001b[0;34m=\u001b[0m\u001b[0;32mNone\u001b[0m\u001b[0;34m,\u001b[0m \u001b[0;34m**\u001b[0m\u001b[0mkwargs\u001b[0m\u001b[0;34m)\u001b[0m\u001b[0;34m:\u001b[0m\u001b[0;34m\u001b[0m\u001b[0;34m\u001b[0m\u001b[0m\n\u001b[0;32m-> 4580\u001b[0;31m         \u001b[0;32mreturn\u001b[0m \u001b[0msuper\u001b[0m\u001b[0;34m(\u001b[0m\u001b[0;34m)\u001b[0m\u001b[0;34m.\u001b[0m\u001b[0mreindex\u001b[0m\u001b[0;34m(\u001b[0m\u001b[0mindex\u001b[0m\u001b[0;34m=\u001b[0m\u001b[0mindex\u001b[0m\u001b[0;34m,\u001b[0m \u001b[0;34m**\u001b[0m\u001b[0mkwargs\u001b[0m\u001b[0;34m)\u001b[0m\u001b[0;34m\u001b[0m\u001b[0;34m\u001b[0m\u001b[0m\n\u001b[0m\u001b[1;32m   4581\u001b[0m \u001b[0;34m\u001b[0m\u001b[0m\n\u001b[1;32m   4582\u001b[0m     \u001b[0;34m@\u001b[0m\u001b[0mdeprecate_nonkeyword_arguments\u001b[0m\u001b[0;34m(\u001b[0m\u001b[0mversion\u001b[0m\u001b[0;34m=\u001b[0m\u001b[0;32mNone\u001b[0m\u001b[0;34m,\u001b[0m \u001b[0mallowed_args\u001b[0m\u001b[0;34m=\u001b[0m\u001b[0;34m[\u001b[0m\u001b[0;34m\"self\"\u001b[0m\u001b[0;34m,\u001b[0m \u001b[0;34m\"labels\"\u001b[0m\u001b[0;34m]\u001b[0m\u001b[0;34m)\u001b[0m\u001b[0;34m\u001b[0m\u001b[0;34m\u001b[0m\u001b[0m\n",
      "\u001b[0;32m~/miniconda3/envs/gae/lib/python3.8/site-packages/pandas/core/generic.py\u001b[0m in \u001b[0;36mreindex\u001b[0;34m(self, *args, **kwargs)\u001b[0m\n\u001b[1;32m   4816\u001b[0m \u001b[0;34m\u001b[0m\u001b[0m\n\u001b[1;32m   4817\u001b[0m         \u001b[0;31m# perform the reindex on the axes\u001b[0m\u001b[0;34m\u001b[0m\u001b[0;34m\u001b[0m\u001b[0;34m\u001b[0m\u001b[0m\n\u001b[0;32m-> 4818\u001b[0;31m         return self._reindex_axes(\n\u001b[0m\u001b[1;32m   4819\u001b[0m             \u001b[0maxes\u001b[0m\u001b[0;34m,\u001b[0m \u001b[0mlevel\u001b[0m\u001b[0;34m,\u001b[0m \u001b[0mlimit\u001b[0m\u001b[0;34m,\u001b[0m \u001b[0mtolerance\u001b[0m\u001b[0;34m,\u001b[0m \u001b[0mmethod\u001b[0m\u001b[0;34m,\u001b[0m \u001b[0mfill_value\u001b[0m\u001b[0;34m,\u001b[0m \u001b[0mcopy\u001b[0m\u001b[0;34m\u001b[0m\u001b[0;34m\u001b[0m\u001b[0m\n\u001b[1;32m   4820\u001b[0m         ).__finalize__(self, method=\"reindex\")\n",
      "\u001b[0;32m~/miniconda3/envs/gae/lib/python3.8/site-packages/pandas/core/generic.py\u001b[0m in \u001b[0;36m_reindex_axes\u001b[0;34m(self, axes, level, limit, tolerance, method, fill_value, copy)\u001b[0m\n\u001b[1;32m   4837\u001b[0m \u001b[0;34m\u001b[0m\u001b[0m\n\u001b[1;32m   4838\u001b[0m             \u001b[0maxis\u001b[0m \u001b[0;34m=\u001b[0m \u001b[0mself\u001b[0m\u001b[0;34m.\u001b[0m\u001b[0m_get_axis_number\u001b[0m\u001b[0;34m(\u001b[0m\u001b[0ma\u001b[0m\u001b[0;34m)\u001b[0m\u001b[0;34m\u001b[0m\u001b[0;34m\u001b[0m\u001b[0m\n\u001b[0;32m-> 4839\u001b[0;31m             obj = obj._reindex_with_indexers(\n\u001b[0m\u001b[1;32m   4840\u001b[0m                 \u001b[0;34m{\u001b[0m\u001b[0maxis\u001b[0m\u001b[0;34m:\u001b[0m \u001b[0;34m[\u001b[0m\u001b[0mnew_index\u001b[0m\u001b[0;34m,\u001b[0m \u001b[0mindexer\u001b[0m\u001b[0;34m]\u001b[0m\u001b[0;34m}\u001b[0m\u001b[0;34m,\u001b[0m\u001b[0;34m\u001b[0m\u001b[0;34m\u001b[0m\u001b[0m\n\u001b[1;32m   4841\u001b[0m                 \u001b[0mfill_value\u001b[0m\u001b[0;34m=\u001b[0m\u001b[0mfill_value\u001b[0m\u001b[0;34m,\u001b[0m\u001b[0;34m\u001b[0m\u001b[0;34m\u001b[0m\u001b[0m\n",
      "\u001b[0;32m~/miniconda3/envs/gae/lib/python3.8/site-packages/pandas/core/generic.py\u001b[0m in \u001b[0;36m_reindex_with_indexers\u001b[0;34m(self, reindexers, fill_value, copy, allow_dups)\u001b[0m\n\u001b[1;32m   4881\u001b[0m \u001b[0;34m\u001b[0m\u001b[0m\n\u001b[1;32m   4882\u001b[0m             \u001b[0;31m# TODO: speed up on homogeneous DataFrame objects\u001b[0m\u001b[0;34m\u001b[0m\u001b[0;34m\u001b[0m\u001b[0;34m\u001b[0m\u001b[0m\n\u001b[0;32m-> 4883\u001b[0;31m             new_data = new_data.reindex_indexer(\n\u001b[0m\u001b[1;32m   4884\u001b[0m                 \u001b[0mindex\u001b[0m\u001b[0;34m,\u001b[0m\u001b[0;34m\u001b[0m\u001b[0;34m\u001b[0m\u001b[0m\n\u001b[1;32m   4885\u001b[0m                 \u001b[0mindexer\u001b[0m\u001b[0;34m,\u001b[0m\u001b[0;34m\u001b[0m\u001b[0;34m\u001b[0m\u001b[0m\n",
      "\u001b[0;32m~/miniconda3/envs/gae/lib/python3.8/site-packages/pandas/core/internals/managers.py\u001b[0m in \u001b[0;36mreindex_indexer\u001b[0;34m(self, new_axis, indexer, axis, fill_value, allow_dups, copy, consolidate, only_slice)\u001b[0m\n\u001b[1;32m    668\u001b[0m         \u001b[0;31m# some axes don't allow reindexing with dups\u001b[0m\u001b[0;34m\u001b[0m\u001b[0;34m\u001b[0m\u001b[0;34m\u001b[0m\u001b[0m\n\u001b[1;32m    669\u001b[0m         \u001b[0;32mif\u001b[0m \u001b[0;32mnot\u001b[0m \u001b[0mallow_dups\u001b[0m\u001b[0;34m:\u001b[0m\u001b[0;34m\u001b[0m\u001b[0;34m\u001b[0m\u001b[0m\n\u001b[0;32m--> 670\u001b[0;31m             \u001b[0mself\u001b[0m\u001b[0;34m.\u001b[0m\u001b[0maxes\u001b[0m\u001b[0;34m[\u001b[0m\u001b[0maxis\u001b[0m\u001b[0;34m]\u001b[0m\u001b[0;34m.\u001b[0m\u001b[0m_validate_can_reindex\u001b[0m\u001b[0;34m(\u001b[0m\u001b[0mindexer\u001b[0m\u001b[0;34m)\u001b[0m\u001b[0;34m\u001b[0m\u001b[0;34m\u001b[0m\u001b[0m\n\u001b[0m\u001b[1;32m    671\u001b[0m \u001b[0;34m\u001b[0m\u001b[0m\n\u001b[1;32m    672\u001b[0m         \u001b[0;32mif\u001b[0m \u001b[0maxis\u001b[0m \u001b[0;34m>=\u001b[0m \u001b[0mself\u001b[0m\u001b[0;34m.\u001b[0m\u001b[0mndim\u001b[0m\u001b[0;34m:\u001b[0m\u001b[0;34m\u001b[0m\u001b[0;34m\u001b[0m\u001b[0m\n",
      "\u001b[0;32m~/miniconda3/envs/gae/lib/python3.8/site-packages/pandas/core/indexes/base.py\u001b[0m in \u001b[0;36m_validate_can_reindex\u001b[0;34m(self, indexer)\u001b[0m\n\u001b[1;32m   3783\u001b[0m         \u001b[0;31m# trying to reindex on an axis with duplicates\u001b[0m\u001b[0;34m\u001b[0m\u001b[0;34m\u001b[0m\u001b[0;34m\u001b[0m\u001b[0m\n\u001b[1;32m   3784\u001b[0m         \u001b[0;32mif\u001b[0m \u001b[0;32mnot\u001b[0m \u001b[0mself\u001b[0m\u001b[0;34m.\u001b[0m\u001b[0m_index_as_unique\u001b[0m \u001b[0;32mand\u001b[0m \u001b[0mlen\u001b[0m\u001b[0;34m(\u001b[0m\u001b[0mindexer\u001b[0m\u001b[0;34m)\u001b[0m\u001b[0;34m:\u001b[0m\u001b[0;34m\u001b[0m\u001b[0;34m\u001b[0m\u001b[0m\n\u001b[0;32m-> 3785\u001b[0;31m             \u001b[0;32mraise\u001b[0m \u001b[0mValueError\u001b[0m\u001b[0;34m(\u001b[0m\u001b[0;34m\"cannot reindex from a duplicate axis\"\u001b[0m\u001b[0;34m)\u001b[0m\u001b[0;34m\u001b[0m\u001b[0;34m\u001b[0m\u001b[0m\n\u001b[0m\u001b[1;32m   3786\u001b[0m \u001b[0;34m\u001b[0m\u001b[0m\n\u001b[1;32m   3787\u001b[0m     def reindex(\n",
      "\u001b[0;31mValueError\u001b[0m: cannot reindex from a duplicate axis"
     ]
    }
   ],
   "source": [
    "res = []\n",
    "for val in encode_ann.index:\n",
    "  vl = pd.read_csv('https://www.encodeproject.org/files/'+val+'/@@download/'+val+'.tsv', sep='\\t')\n",
    "  try:\n",
    "    vl = vl.set_index('gene_id', drop=True)['TPM'].rename(val)\n",
    "  except KeyError:\n",
    "    vl = vl.set_index('gene_ID', drop=True)[vl.columns[-1]].rename(val)\n",
    "  res.append(vl)\n",
    "encode = pd.concat(res, axis=1)\n"
   ]
  },
  {
   "cell_type": "markdown",
   "metadata": {},
   "source": [
    "## NCI 60"
   ]
  },
  {
   "cell_type": "code",
   "execution_count": null,
   "metadata": {},
   "outputs": [],
   "source": []
  },
  {
   "cell_type": "markdown",
   "metadata": {},
   "source": [
    "## tumor cell atlas"
   ]
  },
  {
   "cell_type": "code",
   "execution_count": null,
   "metadata": {},
   "outputs": [],
   "source": []
  },
  {
   "cell_type": "markdown",
   "metadata": {},
   "source": [
    "## other random datasets from SRA"
   ]
  },
  {
   "cell_type": "code",
   "execution_count": null,
   "metadata": {},
   "outputs": [],
   "source": []
  },
  {
   "cell_type": "markdown",
   "metadata": {},
   "source": [
    "## ICGC"
   ]
  },
  {
   "cell_type": "code",
   "execution_count": null,
   "metadata": {},
   "outputs": [],
   "source": [
    "icgclist = [\"https://dcc.icgc.org/api/v1/download\\?fn\\=/current/Projects/BOCA-FR/exp_seq.BOCA-FR.tsv.gz\",\n",
    "\"https://dcc.icgc.org/api/v1/download\\?fn\\=/current/Projects/BPLL-FR/exp_seq.BPLL-FR.tsv.gz\",\n",
    "\"https://dcc.icgc.org/api/v1/download\\?fn\\=/current/Projects/BRCA-KR/exp_seq.BRCA-KR.tsv.gz\",\n",
    "\"https://dcc.icgc.org/api/v1/download\\?fn\\=/current/Projects/LICA-FR/exp_seq.LICA-FR.tsv.gz\",\n",
    "\"https://dcc.icgc.org/api/v1/download\\?fn\\=/current/Projects/LIRI-JP/exp_seq.LIRI-JP.tsv.gz\",\n",
    "\"https://dcc.icgc.org/api/v1/download\\?fn\\=/current/Projects/ORCA-IN/exp_seq.ORCA-IN.tsv.gz\",\n",
    "\"https://dcc.icgc.org/api/v1/download\\?fn\\=/current/Projects/OV-AU/exp_seq.OV-AU.tsv.gz\",\n",
    "\"https://dcc.icgc.org/api/v1/download\\?fn\\=/current/Projects/PACA-AU/exp_seq.PACA-AU.tsv.gz\",\n",
    "\"https://dcc.icgc.org/api/v1/download\\?fn\\=/current/Projects/PACA-CA/exp_seq.PACA-CA.tsv.gz\",\n",
    "\"https://dcc.icgc.org/api/v1/download\\?fn\\=/current/Projects/PRAD-CA/exp_seq.PRAD-CA.tsv.gz\",\n",
    "\"https://dcc.icgc.org/api/v1/download\\?fn\\=/current/Projects/PRAD-FR/exp_seq.PRAD-FR.tsv.gz\",\n",
    "\"https://dcc.icgc.org/api/v1/download\\?fn\\=/current/Projects/CLLE-ES/exp_seq.CLLE-ES.tsv.gz\",\n",
    "\"https://dcc.icgc.org/api/v1/download\\?fn\\=/current/Projects/MALY-DE/exp_seq.MALY-DE.tsv.gz\",\n",
    "\"https://dcc.icgc.org/api/v1/download\\?fn\\=/current/Projects/PAEN-AU/exp_seq.PAEN-AU.tsv.gz\",\n",
    "\"https://dcc.icgc.org/api/v1/download\\?fn\\=/current/Projects/RECA-EU/exp_seq.RECA-EU.tsv.gz\"]"
   ]
  },
  {
   "cell_type": "code",
   "execution_count": null,
   "metadata": {},
   "outputs": [],
   "source": []
  },
  {
   "cell_type": "code",
   "execution_count": null,
   "metadata": {},
   "outputs": [],
   "source": []
  },
  {
   "cell_type": "code",
   "execution_count": 642,
   "metadata": {
    "ExecuteTime": {
     "end_time": "2021-11-05T22:52:56.400944Z",
     "start_time": "2021-11-05T22:51:04.965086Z"
    }
   },
   "outputs": [
    {
     "name": "stdout",
     "output_type": "stream",
     "text": [
      "--2021-11-05 22:51:05--  https://dcc.icgc.org/api/v1/download?fn=/current/Projects/BOCA-FR/exp_seq.BOCA-FR.tsv.gz\n",
      "Resolving dcc.icgc.org (dcc.icgc.org)... 206.108.121.75\n",
      "Connecting to dcc.icgc.org (dcc.icgc.org)|206.108.121.75|:443... connected.\n",
      "HTTP request sent, awaiting response... 307 \n",
      "Location: https://download.icgc.org/downloads/static?token=eyJjdHkiOiJKV1QiLCJlbmMiOiJBMTI4R0NNIiwiYWxnIjoiZGlyIn0..7XUhJINwjVhhXTZz.LpJ93RPkZ51FNU6QukNUHbm-nVa1qSc2WHR7U8sZY0rUd6G69hNUsYy5B1IWA7Xy16VIW6txNrALvSkvA4P4ZkZttWIgEJzSMfwU-K2jyEFWwriQYEzB_SEME37oNCeaVg0X0DTvXboKtEtr_wjZBPOmcBfI6kGUwXlPHt1WNFC1u30efOy2sUkZhAyEmzOHhdg-YMp0e0ffXJsSQesSFBbTob1kn1Vbnesgvrh_IVfHmRyYyh8s83mx-IsdMRXknDld1kz30n8nls3DAhu-KkUmhQEUSEWDJXoo5y5v99qHri1jmPdLw3ImHJx9hIcSiW_Fkw1PE2TSHQMJSg_Y.MFd4O7smnObu0_KZBPsoYA [following]\n",
      "--2021-11-05 22:51:05--  https://download.icgc.org/downloads/static?token=eyJjdHkiOiJKV1QiLCJlbmMiOiJBMTI4R0NNIiwiYWxnIjoiZGlyIn0..7XUhJINwjVhhXTZz.LpJ93RPkZ51FNU6QukNUHbm-nVa1qSc2WHR7U8sZY0rUd6G69hNUsYy5B1IWA7Xy16VIW6txNrALvSkvA4P4ZkZttWIgEJzSMfwU-K2jyEFWwriQYEzB_SEME37oNCeaVg0X0DTvXboKtEtr_wjZBPOmcBfI6kGUwXlPHt1WNFC1u30efOy2sUkZhAyEmzOHhdg-YMp0e0ffXJsSQesSFBbTob1kn1Vbnesgvrh_IVfHmRyYyh8s83mx-IsdMRXknDld1kz30n8nls3DAhu-KkUmhQEUSEWDJXoo5y5v99qHri1jmPdLw3ImHJx9hIcSiW_Fkw1PE2TSHQMJSg_Y.MFd4O7smnObu0_KZBPsoYA\n",
      "Resolving download.icgc.org (download.icgc.org)... 206.108.121.80\n",
      "Connecting to download.icgc.org (download.icgc.org)|206.108.121.80|:443... connected.\n",
      "HTTP request sent, awaiting response... 200 OK\n",
      "Length: unspecified [application/x-gzip]\n",
      "Saving to: ‘download?fn=%2Fcurrent%2FProjects%2FBOCA-FR%2Fexp_seq.BOCA-FR.tsv.gz’\n",
      "\n",
      "download?fn=%2Fcurr     [                 <=>]  53.03M  15.5MB/s    in 3.5s    \n",
      "\n",
      "2021-11-05 22:51:09 (15.0 MB/s) - ‘download?fn=%2Fcurrent%2FProjects%2FBOCA-FR%2Fexp_seq.BOCA-FR.tsv.gz’ saved [55605476]\n",
      "\n",
      "--2021-11-05 22:51:10--  https://dcc.icgc.org/api/v1/download?fn=/current/Projects/BPLL-FR/exp_seq.BPLL-FR.tsv.gz\n",
      "Resolving dcc.icgc.org (dcc.icgc.org)... 206.108.121.75\n",
      "Connecting to dcc.icgc.org (dcc.icgc.org)|206.108.121.75|:443... connected.\n",
      "HTTP request sent, awaiting response... 307 \n",
      "Location: https://download.icgc.org/downloads/static?token=eyJjdHkiOiJKV1QiLCJlbmMiOiJBMTI4R0NNIiwiYWxnIjoiZGlyIn0..ZnpgJASwzrdrxsTu.-r-3bgR7-dXVQOSktohyG4Wt30BgZyc6zAUg1-2kUTs5gC0j2FX4SmEaHTl6hW62pGB22lV6kgZrYZfSWHvntscDpzUyXeAZHNu2VjZF49vfIcAqi2y89khcClsNLHmlaZn5yKsaKD26VDVGfCk_c9yG4UR5scxCvbZyKJs3sfhzEtcjciL6lpxVXHrgvS1eyo-_oacXZM3KibHxeCDKK6wqh7im6gXkg6wbd1zcYd6z_vtQHalG0QE-JhBKt5r-oSKdeDgRRSQHQs86l4Q56cZqwui2mjpFIVXv7dYcnDHjLP6eyzlD7xZvI4G5eVVLYDfYPQLzoQElU6gYkvK6.qPm4Z7ANDNi9Ej0Uk7anxg [following]\n",
      "--2021-11-05 22:51:10--  https://download.icgc.org/downloads/static?token=eyJjdHkiOiJKV1QiLCJlbmMiOiJBMTI4R0NNIiwiYWxnIjoiZGlyIn0..ZnpgJASwzrdrxsTu.-r-3bgR7-dXVQOSktohyG4Wt30BgZyc6zAUg1-2kUTs5gC0j2FX4SmEaHTl6hW62pGB22lV6kgZrYZfSWHvntscDpzUyXeAZHNu2VjZF49vfIcAqi2y89khcClsNLHmlaZn5yKsaKD26VDVGfCk_c9yG4UR5scxCvbZyKJs3sfhzEtcjciL6lpxVXHrgvS1eyo-_oacXZM3KibHxeCDKK6wqh7im6gXkg6wbd1zcYd6z_vtQHalG0QE-JhBKt5r-oSKdeDgRRSQHQs86l4Q56cZqwui2mjpFIVXv7dYcnDHjLP6eyzlD7xZvI4G5eVVLYDfYPQLzoQElU6gYkvK6.qPm4Z7ANDNi9Ej0Uk7anxg\n",
      "Resolving download.icgc.org (download.icgc.org)... 206.108.121.80\n",
      "Connecting to download.icgc.org (download.icgc.org)|206.108.121.80|:443... connected.\n",
      "HTTP request sent, awaiting response... 200 OK\n",
      "Length: unspecified [application/x-gzip]\n",
      "Saving to: ‘download?fn=%2Fcurrent%2FProjects%2FBPLL-FR%2Fexp_seq.BPLL-FR.tsv.gz’\n",
      "\n",
      "download?fn=%2Fcurr     [   <=>              ]   2.94M  7.12MB/s    in 0.4s    \n",
      "\n",
      "2021-11-05 22:51:11 (7.12 MB/s) - ‘download?fn=%2Fcurrent%2FProjects%2FBPLL-FR%2Fexp_seq.BPLL-FR.tsv.gz’ saved [3084338]\n",
      "\n",
      "--2021-11-05 22:51:11--  https://dcc.icgc.org/api/v1/download?fn=/current/Projects/BRCA-KR/exp_seq.BRCA-KR.tsv.gz\n",
      "Resolving dcc.icgc.org (dcc.icgc.org)... 206.108.121.75\n",
      "Connecting to dcc.icgc.org (dcc.icgc.org)|206.108.121.75|:443... connected.\n",
      "HTTP request sent, awaiting response... 307 \n",
      "Location: https://download.icgc.org/downloads/static?token=eyJjdHkiOiJKV1QiLCJlbmMiOiJBMTI4R0NNIiwiYWxnIjoiZGlyIn0..jLpEY0d6uR-WJTDM.6gf_6LlSYQ91Jh0vvsQh-9AM8hgsxDogoiU9HXV92mnn0Ag3SHshKlNynRWUCk01chEv5S4nuwt4f47FdGJ5MoLwbfILj_hVfkA0hSN998SfhutmkvcRQcJooZhcVLnyFfeLrd6QVps7ZEwJBOKAAJCsGpkdvMwbXzt5mBX0qDlLRrdsKAHt7X-WhIP-mEIWj2bfBqVePEiWx5MWb0UbdyZtYuYfaoalEWaSOP01Cf8dx933s8zcAT2VAOK-UhUV4d857tVyuwP6L2RmpPjujxsSc4WsRKSmRnRRpNrql4fihPguc0jhYc1DbYbftQrotivUp_eJiOVCaRafuC7A.KMOa3KufgqLnmNbNP5-Szg [following]\n",
      "--2021-11-05 22:51:12--  https://download.icgc.org/downloads/static?token=eyJjdHkiOiJKV1QiLCJlbmMiOiJBMTI4R0NNIiwiYWxnIjoiZGlyIn0..jLpEY0d6uR-WJTDM.6gf_6LlSYQ91Jh0vvsQh-9AM8hgsxDogoiU9HXV92mnn0Ag3SHshKlNynRWUCk01chEv5S4nuwt4f47FdGJ5MoLwbfILj_hVfkA0hSN998SfhutmkvcRQcJooZhcVLnyFfeLrd6QVps7ZEwJBOKAAJCsGpkdvMwbXzt5mBX0qDlLRrdsKAHt7X-WhIP-mEIWj2bfBqVePEiWx5MWb0UbdyZtYuYfaoalEWaSOP01Cf8dx933s8zcAT2VAOK-UhUV4d857tVyuwP6L2RmpPjujxsSc4WsRKSmRnRRpNrql4fihPguc0jhYc1DbYbftQrotivUp_eJiOVCaRafuC7A.KMOa3KufgqLnmNbNP5-Szg\n",
      "Resolving download.icgc.org (download.icgc.org)... 206.108.121.80\n",
      "Connecting to download.icgc.org (download.icgc.org)|206.108.121.80|:443... connected.\n",
      "HTTP request sent, awaiting response... 200 OK\n",
      "Length: unspecified [application/x-gzip]\n",
      "Saving to: ‘download?fn=%2Fcurrent%2FProjects%2FBRCA-KR%2Fexp_seq.BRCA-KR.tsv.gz’\n",
      "\n",
      "download?fn=%2Fcurr     [         <=>        ]  10.24M  6.07MB/s    in 1.7s    \n",
      "\n",
      "2021-11-05 22:51:14 (6.07 MB/s) - ‘download?fn=%2Fcurrent%2FProjects%2FBRCA-KR%2Fexp_seq.BRCA-KR.tsv.gz’ saved [10742717]\n",
      "\n",
      "--2021-11-05 22:51:14--  https://dcc.icgc.org/api/v1/download?fn=/current/Projects/LICA-FR/exp_seq.LICA-FR.tsv.gz\n",
      "Resolving dcc.icgc.org (dcc.icgc.org)... 206.108.121.75\n",
      "Connecting to dcc.icgc.org (dcc.icgc.org)|206.108.121.75|:443... connected.\n",
      "HTTP request sent, awaiting response... 307 \n",
      "Location: https://download.icgc.org/downloads/static?token=eyJjdHkiOiJKV1QiLCJlbmMiOiJBMTI4R0NNIiwiYWxnIjoiZGlyIn0..pQdGQFr9VC-jiGDm._mhPbNA37iH6DB8Oni6yquWXBBQC6xgesTclpVmDfO0IWTg9VSNq67x3W_Qc10CM2aCMNYyZHMWpdBlzYbzBZjud0A5O7OtjCoJNV5sThZ5iR57a6kqtUy7kisBZMa7x2H7jQSy9JtPD4S9Z7QeDFpyDNT3FHuu8GekeA1Q3uosOjiisi-NrplJxBLU4H7qw3YAZ8wMUpUj71W297ZJkGtzAa2rdYVCSwXZeBn5-xjd4Az8Zx6bpIb5kVh7MGsIFv4prGom5BEdAWtvLOua5ZhSlinCVABIRTETchf8I__hXgcDjlzhvbJHBhwSgElO396F9peIAgsPqjPNdqPr0.pSD6AmVUzzkJXkpRtlvrIw [following]\n",
      "--2021-11-05 22:51:14--  https://download.icgc.org/downloads/static?token=eyJjdHkiOiJKV1QiLCJlbmMiOiJBMTI4R0NNIiwiYWxnIjoiZGlyIn0..pQdGQFr9VC-jiGDm._mhPbNA37iH6DB8Oni6yquWXBBQC6xgesTclpVmDfO0IWTg9VSNq67x3W_Qc10CM2aCMNYyZHMWpdBlzYbzBZjud0A5O7OtjCoJNV5sThZ5iR57a6kqtUy7kisBZMa7x2H7jQSy9JtPD4S9Z7QeDFpyDNT3FHuu8GekeA1Q3uosOjiisi-NrplJxBLU4H7qw3YAZ8wMUpUj71W297ZJkGtzAa2rdYVCSwXZeBn5-xjd4Az8Zx6bpIb5kVh7MGsIFv4prGom5BEdAWtvLOua5ZhSlinCVABIRTETchf8I__hXgcDjlzhvbJHBhwSgElO396F9peIAgsPqjPNdqPr0.pSD6AmVUzzkJXkpRtlvrIw\n",
      "Resolving download.icgc.org (download.icgc.org)... 206.108.121.80\n",
      "Connecting to download.icgc.org (download.icgc.org)|206.108.121.80|:443... connected.\n",
      "HTTP request sent, awaiting response... 200 OK\n",
      "Length: unspecified [application/x-gzip]\n",
      "Saving to: ‘download?fn=%2Fcurrent%2FProjects%2FLICA-FR%2Fexp_seq.LICA-FR.tsv.gz’\n",
      "\n",
      "download?fn=%2Fcurr     [   <=>              ]  84.99M  11.0MB/s    in 7.6s    \n",
      "\n",
      "2021-11-05 22:51:22 (11.3 MB/s) - ‘download?fn=%2Fcurrent%2FProjects%2FLICA-FR%2Fexp_seq.LICA-FR.tsv.gz’ saved [89116814]\n",
      "\n",
      "--2021-11-05 22:51:23--  https://dcc.icgc.org/api/v1/download?fn=/current/Projects/LIRI-JP/exp_seq.LIRI-JP.tsv.gz\n",
      "Resolving dcc.icgc.org (dcc.icgc.org)... 206.108.121.75\n",
      "Connecting to dcc.icgc.org (dcc.icgc.org)|206.108.121.75|:443... connected.\n",
      "HTTP request sent, awaiting response... 307 \n",
      "Location: https://download.icgc.org/downloads/static?token=eyJjdHkiOiJKV1QiLCJlbmMiOiJBMTI4R0NNIiwiYWxnIjoiZGlyIn0..kGroVBn5WQ0-rNBX.q11a2EeA3ewfiwfgcXacsjxY7c_ZgYv7bKaSRmTWGgbjk4ai1JqIQrcmeTtBuCADbkj96z9AL0lGyp8tz_MhR4VWRMMDHpDRh12FdfV9ig5CA7nNfT62u9cP2PnAE_7P0dw3ygg72bMAWf2ExBxfotI_d8IDe4yENlzGY2NVO3Z_LJXZ1MgKn3eQfDRq2x8GiCQiz162EngQKs12hBPlklgnhYEPXFlt4UH5iqhPcCu8UMVVUxoTWg20TU-BDLAK5CKGiO_UH6rvIlJU_N7pzIdsMnYsoG-VCddLcV6uRXYvi1UXbB_K7U0HT1fZDgw8ETsO20UznYaKjkmdUy40.DLBhB2M-x880mIJ2nP68aA [following]\n",
      "--2021-11-05 22:51:23--  https://download.icgc.org/downloads/static?token=eyJjdHkiOiJKV1QiLCJlbmMiOiJBMTI4R0NNIiwiYWxnIjoiZGlyIn0..kGroVBn5WQ0-rNBX.q11a2EeA3ewfiwfgcXacsjxY7c_ZgYv7bKaSRmTWGgbjk4ai1JqIQrcmeTtBuCADbkj96z9AL0lGyp8tz_MhR4VWRMMDHpDRh12FdfV9ig5CA7nNfT62u9cP2PnAE_7P0dw3ygg72bMAWf2ExBxfotI_d8IDe4yENlzGY2NVO3Z_LJXZ1MgKn3eQfDRq2x8GiCQiz162EngQKs12hBPlklgnhYEPXFlt4UH5iqhPcCu8UMVVUxoTWg20TU-BDLAK5CKGiO_UH6rvIlJU_N7pzIdsMnYsoG-VCddLcV6uRXYvi1UXbB_K7U0HT1fZDgw8ETsO20UznYaKjkmdUy40.DLBhB2M-x880mIJ2nP68aA\n"
     ]
    },
    {
     "name": "stdout",
     "output_type": "stream",
     "text": [
      "Resolving download.icgc.org (download.icgc.org)... 206.108.121.80\n",
      "Connecting to download.icgc.org (download.icgc.org)|206.108.121.80|:443... connected.\n",
      "HTTP request sent, awaiting response... 200 OK\n",
      "Length: unspecified [application/x-gzip]\n",
      "Saving to: ‘download?fn=%2Fcurrent%2FProjects%2FLIRI-JP%2Fexp_seq.LIRI-JP.tsv.gz’\n",
      "\n",
      "download?fn=%2Fcurr     [        <=>         ] 169.54M  17.7MB/s    in 13s     \n",
      "\n",
      "2021-11-05 22:51:36 (13.2 MB/s) - ‘download?fn=%2Fcurrent%2FProjects%2FLIRI-JP%2Fexp_seq.LIRI-JP.tsv.gz’ saved [177770706]\n",
      "\n",
      "--2021-11-05 22:51:37--  https://dcc.icgc.org/api/v1/download?fn=/current/Projects/ORCA-IN/exp_seq.ORCA-IN.tsv.gz\n",
      "Resolving dcc.icgc.org (dcc.icgc.org)... 206.108.121.75\n",
      "Connecting to dcc.icgc.org (dcc.icgc.org)|206.108.121.75|:443... connected.\n",
      "HTTP request sent, awaiting response... 307 \n",
      "Location: https://download.icgc.org/downloads/static?token=eyJjdHkiOiJKV1QiLCJlbmMiOiJBMTI4R0NNIiwiYWxnIjoiZGlyIn0..8q_CMr7aFi67DzuS.16oRDouATeR_uHVwY0IhL0swekYYNVqhliPS8baR45Do94Xkbc-6FeJ0WciI5i3F2m3xXbdOxOk-FjJIygdqVf46pgMcf-S7vvYWPLN3jFJ6881iQGGQOgWQ3iFY5NMWP34vUOvRtON-Db2mpDtI3D4EpqNkFN2ii7dXaHp_gkwQYWuF3EoAFD1gemjGn6keNECGlVntaXeeA9fQofp4u2H5qRcZg4oQA5wQMYG41CIOWUk-ZX_zhIEJgKp5GKmIJcCEwnsnvkB7zPW7iyr300c7txrXwVzROgWIhJJTLF0taL0xIsxM8z7hwgQ5FHEqFxIi_DWa_YMRHH3EnkX5.fK6zEPnDzM1wa5Fzb-_9jA [following]\n",
      "--2021-11-05 22:51:37--  https://download.icgc.org/downloads/static?token=eyJjdHkiOiJKV1QiLCJlbmMiOiJBMTI4R0NNIiwiYWxnIjoiZGlyIn0..8q_CMr7aFi67DzuS.16oRDouATeR_uHVwY0IhL0swekYYNVqhliPS8baR45Do94Xkbc-6FeJ0WciI5i3F2m3xXbdOxOk-FjJIygdqVf46pgMcf-S7vvYWPLN3jFJ6881iQGGQOgWQ3iFY5NMWP34vUOvRtON-Db2mpDtI3D4EpqNkFN2ii7dXaHp_gkwQYWuF3EoAFD1gemjGn6keNECGlVntaXeeA9fQofp4u2H5qRcZg4oQA5wQMYG41CIOWUk-ZX_zhIEJgKp5GKmIJcCEwnsnvkB7zPW7iyr300c7txrXwVzROgWIhJJTLF0taL0xIsxM8z7hwgQ5FHEqFxIi_DWa_YMRHH3EnkX5.fK6zEPnDzM1wa5Fzb-_9jA\n",
      "Resolving download.icgc.org (download.icgc.org)... 206.108.121.80\n",
      "Connecting to download.icgc.org (download.icgc.org)|206.108.121.80|:443... connected.\n",
      "HTTP request sent, awaiting response... 200 OK\n",
      "Length: unspecified [application/x-gzip]\n",
      "Saving to: ‘download?fn=%2Fcurrent%2FProjects%2FORCA-IN%2Fexp_seq.ORCA-IN.tsv.gz’\n",
      "\n",
      "download?fn=%2Fcurr     [     <=>            ]   9.07M  9.14MB/s    in 1.0s    \n",
      "\n",
      "2021-11-05 22:51:38 (9.14 MB/s) - ‘download?fn=%2Fcurrent%2FProjects%2FORCA-IN%2Fexp_seq.ORCA-IN.tsv.gz’ saved [9515024]\n",
      "\n",
      "--2021-11-05 22:51:39--  https://dcc.icgc.org/api/v1/download?fn=/current/Projects/OV-AU/exp_seq.OV-AU.tsv.gz\n",
      "Resolving dcc.icgc.org (dcc.icgc.org)... 206.108.121.75\n",
      "Connecting to dcc.icgc.org (dcc.icgc.org)|206.108.121.75|:443... connected.\n",
      "HTTP request sent, awaiting response... 307 \n",
      "Location: https://download.icgc.org/downloads/static?token=eyJjdHkiOiJKV1QiLCJlbmMiOiJBMTI4R0NNIiwiYWxnIjoiZGlyIn0..9pLYrRKMr9-_u_2y.mEPfRCCLGm_TAk5q1kYtZeEzQ4zMOGRH2pilOWvpwouvoXS2GsOMfP14OazqtckDMdCOAD0QmvuxjHzO7qWZNY_XW2QqLLwEBkpJUiS98yTWOxvNWq_5ld7ACACj_zaJu9GKNuGWQquHO-h_4fVprih_XAJ0aKY-mXd1VTKquXZ_lPtddHgwjCRx5pNO55lZMGAVZX1uv2lyksbxp7Pt4k7N5_NCIXpFjBDKyeptwdJl5nh8qqg9aCI8QXxp2-qWqKGEMYqME8sJm1mBMOdXlcHu2UCpdv4uvyWx5B9AF3uu71ofBMNdq8UPMqCQxv9gG0BK2Y0alVU_.3iOdK9ExC9mCcO4szXDdzA [following]\n",
      "--2021-11-05 22:51:39--  https://download.icgc.org/downloads/static?token=eyJjdHkiOiJKV1QiLCJlbmMiOiJBMTI4R0NNIiwiYWxnIjoiZGlyIn0..9pLYrRKMr9-_u_2y.mEPfRCCLGm_TAk5q1kYtZeEzQ4zMOGRH2pilOWvpwouvoXS2GsOMfP14OazqtckDMdCOAD0QmvuxjHzO7qWZNY_XW2QqLLwEBkpJUiS98yTWOxvNWq_5ld7ACACj_zaJu9GKNuGWQquHO-h_4fVprih_XAJ0aKY-mXd1VTKquXZ_lPtddHgwjCRx5pNO55lZMGAVZX1uv2lyksbxp7Pt4k7N5_NCIXpFjBDKyeptwdJl5nh8qqg9aCI8QXxp2-qWqKGEMYqME8sJm1mBMOdXlcHu2UCpdv4uvyWx5B9AF3uu71ofBMNdq8UPMqCQxv9gG0BK2Y0alVU_.3iOdK9ExC9mCcO4szXDdzA\n",
      "Resolving download.icgc.org (download.icgc.org)... 206.108.121.80\n",
      "Connecting to download.icgc.org (download.icgc.org)|206.108.121.80|:443... connected.\n",
      "HTTP request sent, awaiting response... 200 OK\n",
      "Length: unspecified [application/x-gzip]\n",
      "Saving to: ‘download?fn=%2Fcurrent%2FProjects%2FOV-AU%2Fexp_seq.OV-AU.tsv.gz’\n",
      "\n",
      "download?fn=%2Fcurr     [           <=>      ]  40.14M  9.03MB/s    in 4.6s    \n",
      "\n",
      "2021-11-05 22:51:44 (8.68 MB/s) - ‘download?fn=%2Fcurrent%2FProjects%2FOV-AU%2Fexp_seq.OV-AU.tsv.gz’ saved [42086294]\n",
      "\n",
      "--2021-11-05 22:51:45--  https://dcc.icgc.org/api/v1/download?fn=/current/Projects/PACA-AU/exp_seq.PACA-AU.tsv.gz\n",
      "Resolving dcc.icgc.org (dcc.icgc.org)... 206.108.121.75\n",
      "Connecting to dcc.icgc.org (dcc.icgc.org)|206.108.121.75|:443... connected.\n",
      "HTTP request sent, awaiting response... 307 \n",
      "Location: https://download.icgc.org/downloads/static?token=eyJjdHkiOiJKV1QiLCJlbmMiOiJBMTI4R0NNIiwiYWxnIjoiZGlyIn0..g0cLCkEizT9b3yvt.hOZkqMuh7qwqEGKcJE9f3DDStg4GRlJyzTDHP83y_eHgXv-qkZZ2Ce-2YXO_bwSDEgEPujZRf1toNLEWhOYTfrRLLBZHM3JOrG9Tbz2hMts-sU6tjHwI476NIW_Yr9VXsLdrPlRiL42bu0C7hlYRspQ9zQ_iB5q8I9DCR8xRENIg8uemLqnB9hh8aCDe3_uvXt8h6IFDAR3vRM5-WCsMzff151rvIbUKXSL3dr3_OP-lLrMwyBKhHxeAoOx8rOGRyn83d9N-7T8yJ_K04a-EbabfAjXrlnJKQ5PjaVEBjOdh5lyW9flLWDUixVocRD-mEN87DAW4UGpHrRsT1J5n.D-KC2Ncg3AB5HG1AppSwCA [following]\n",
      "--2021-11-05 22:51:46--  https://download.icgc.org/downloads/static?token=eyJjdHkiOiJKV1QiLCJlbmMiOiJBMTI4R0NNIiwiYWxnIjoiZGlyIn0..g0cLCkEizT9b3yvt.hOZkqMuh7qwqEGKcJE9f3DDStg4GRlJyzTDHP83y_eHgXv-qkZZ2Ce-2YXO_bwSDEgEPujZRf1toNLEWhOYTfrRLLBZHM3JOrG9Tbz2hMts-sU6tjHwI476NIW_Yr9VXsLdrPlRiL42bu0C7hlYRspQ9zQ_iB5q8I9DCR8xRENIg8uemLqnB9hh8aCDe3_uvXt8h6IFDAR3vRM5-WCsMzff151rvIbUKXSL3dr3_OP-lLrMwyBKhHxeAoOx8rOGRyn83d9N-7T8yJ_K04a-EbabfAjXrlnJKQ5PjaVEBjOdh5lyW9flLWDUixVocRD-mEN87DAW4UGpHrRsT1J5n.D-KC2Ncg3AB5HG1AppSwCA\n",
      "Resolving download.icgc.org (download.icgc.org)... 206.108.121.80\n",
      "Connecting to download.icgc.org (download.icgc.org)|206.108.121.80|:443... connected.\n",
      "HTTP request sent, awaiting response... 200 OK\n",
      "Length: unspecified [application/x-gzip]\n",
      "Saving to: ‘download?fn=%2Fcurrent%2FProjects%2FPACA-AU%2Fexp_seq.PACA-AU.tsv.gz’\n",
      "\n",
      "download?fn=%2Fcurr     [               <=>  ]  31.89M  10.6MB/s    in 3.0s    \n",
      "\n",
      "2021-11-05 22:51:49 (10.6 MB/s) - ‘download?fn=%2Fcurrent%2FProjects%2FPACA-AU%2Fexp_seq.PACA-AU.tsv.gz’ saved [33439109]\n",
      "\n",
      "--2021-11-05 22:51:50--  https://dcc.icgc.org/api/v1/download?fn=/current/Projects/PACA-CA/exp_seq.PACA-CA.tsv.gz\n",
      "Resolving dcc.icgc.org (dcc.icgc.org)... 206.108.121.75\n",
      "Connecting to dcc.icgc.org (dcc.icgc.org)|206.108.121.75|:443... connected.\n",
      "HTTP request sent, awaiting response... 307 \n",
      "Location: https://download.icgc.org/downloads/static?token=eyJjdHkiOiJKV1QiLCJlbmMiOiJBMTI4R0NNIiwiYWxnIjoiZGlyIn0..eT06V5MDtKOYhrF3.qQ_U_9xFtiujhARwU_YzI0E6i49bD8CUuxuJQHrSGkLJQXv0JCYkSLGPv-RMy91MnYArzsxnwVBWRkdjFMFxG8QNyVUWFXbNaEvgyU0NM2EzPx7qRMsf2O8ODG6gDWDqGSho8CszHmmtI8dmO4jdyLeQowtIs7Rlen7wYr4v0i7y-dk9svZJR_8BRuRqI_gvuK3e9W9i5SPEnB2knDsKMOY1l35wgJ3JBsLJNqmPQQj38U3qdjlQ18n3QGJxTT4IF6aU3UcganIuAHO9g5tGCU4t4OGZfqfEsIb9Qzo2IYkmyDvYSJc10Iq5wr8ss9O3piHLARuP4jWwjb2MG96H.nS5xp-pqi3ovO4ST9Wy1fg [following]\n",
      "--2021-11-05 22:51:50--  https://download.icgc.org/downloads/static?token=eyJjdHkiOiJKV1QiLCJlbmMiOiJBMTI4R0NNIiwiYWxnIjoiZGlyIn0..eT06V5MDtKOYhrF3.qQ_U_9xFtiujhARwU_YzI0E6i49bD8CUuxuJQHrSGkLJQXv0JCYkSLGPv-RMy91MnYArzsxnwVBWRkdjFMFxG8QNyVUWFXbNaEvgyU0NM2EzPx7qRMsf2O8ODG6gDWDqGSho8CszHmmtI8dmO4jdyLeQowtIs7Rlen7wYr4v0i7y-dk9svZJR_8BRuRqI_gvuK3e9W9i5SPEnB2knDsKMOY1l35wgJ3JBsLJNqmPQQj38U3qdjlQ18n3QGJxTT4IF6aU3UcganIuAHO9g5tGCU4t4OGZfqfEsIb9Qzo2IYkmyDvYSJc10Iq5wr8ss9O3piHLARuP4jWwjb2MG96H.nS5xp-pqi3ovO4ST9Wy1fg\n",
      "Resolving download.icgc.org (download.icgc.org)... 206.108.121.80\n",
      "Connecting to download.icgc.org (download.icgc.org)|206.108.121.80|:443... connected.\n",
      "HTTP request sent, awaiting response... 200 OK\n",
      "Length: unspecified [application/x-gzip]\n",
      "Saving to: ‘download?fn=%2Fcurrent%2FProjects%2FPACA-CA%2Fexp_seq.PACA-CA.tsv.gz’\n",
      "\n",
      "download?fn=%2Fcurr     [  <=>               ] 112.57M  8.17MB/s    in 14s     \n",
      "\n",
      "2021-11-05 22:52:05 (7.87 MB/s) - ‘download?fn=%2Fcurrent%2FProjects%2FPACA-CA%2Fexp_seq.PACA-CA.tsv.gz’ saved [118038307]\n",
      "\n",
      "--2021-11-05 22:52:05--  https://dcc.icgc.org/api/v1/download?fn=/current/Projects/PRAD-CA/exp_seq.PRAD-CA.tsv.gz\n",
      "Resolving dcc.icgc.org (dcc.icgc.org)... 206.108.121.75\n",
      "Connecting to dcc.icgc.org (dcc.icgc.org)|206.108.121.75|:443... connected.\n",
      "HTTP request sent, awaiting response... 307 \n",
      "Location: https://download.icgc.org/downloads/static?token=eyJjdHkiOiJKV1QiLCJlbmMiOiJBMTI4R0NNIiwiYWxnIjoiZGlyIn0..qe-ouQZ4kpnsS7KD.0eO-rUpxmaphSXdT-meAsQYrGNtLVA7NDdSUBlGXCBBE37ljmA5gHs-_JO64_xHh1movWQOo3z_MymvK3jxHTeGVF8zr3ozi0DNauyFOLDkYQXZ2iRIyceUolQX2T26N5eOthSHtiFESIrrAy0ya9eCkLwD41eqv8XVkgXg5lXMYivGgpNFfrB_EMlWSoGjvVogUqIMXt-ck9jYJTmAtBa38W-kvbQjEJDS-nY0d3n9wTB48sYZVByCrNrnGyvu8gzhfqKJ7N1eUCsmw6DiPwo3c-M0tnmqf3mWCmCsbSOm0541c-w16BwaC8coNicOvCfREgXhvr_gNIQHygnyu.7IAjmwiwZx1eV6zXFWypng [following]\n",
      "--2021-11-05 22:52:05--  https://download.icgc.org/downloads/static?token=eyJjdHkiOiJKV1QiLCJlbmMiOiJBMTI4R0NNIiwiYWxnIjoiZGlyIn0..qe-ouQZ4kpnsS7KD.0eO-rUpxmaphSXdT-meAsQYrGNtLVA7NDdSUBlGXCBBE37ljmA5gHs-_JO64_xHh1movWQOo3z_MymvK3jxHTeGVF8zr3ozi0DNauyFOLDkYQXZ2iRIyceUolQX2T26N5eOthSHtiFESIrrAy0ya9eCkLwD41eqv8XVkgXg5lXMYivGgpNFfrB_EMlWSoGjvVogUqIMXt-ck9jYJTmAtBa38W-kvbQjEJDS-nY0d3n9wTB48sYZVByCrNrnGyvu8gzhfqKJ7N1eUCsmw6DiPwo3c-M0tnmqf3mWCmCsbSOm0541c-w16BwaC8coNicOvCfREgXhvr_gNIQHygnyu.7IAjmwiwZx1eV6zXFWypng\n"
     ]
    },
    {
     "name": "stdout",
     "output_type": "stream",
     "text": [
      "Resolving download.icgc.org (download.icgc.org)... 206.108.121.80\n",
      "Connecting to download.icgc.org (download.icgc.org)|206.108.121.80|:443... connected.\n",
      "HTTP request sent, awaiting response... 200 OK\n",
      "Length: unspecified [application/x-gzip]\n",
      "Saving to: ‘download?fn=%2Fcurrent%2FProjects%2FPRAD-CA%2Fexp_seq.PRAD-CA.tsv.gz’\n",
      "\n",
      "download?fn=%2Fcurr     [     <=>            ] 113.42M  8.22MB/s    in 15s     \n",
      "\n",
      "2021-11-05 22:52:21 (7.50 MB/s) - ‘download?fn=%2Fcurrent%2FProjects%2FPRAD-CA%2Fexp_seq.PRAD-CA.tsv.gz’ saved [118928608]\n",
      "\n",
      "--2021-11-05 22:52:22--  https://dcc.icgc.org/api/v1/download?fn=/current/Projects/PRAD-FR/exp_seq.PRAD-FR.tsv.gz\n",
      "Resolving dcc.icgc.org (dcc.icgc.org)... 206.108.121.75\n",
      "Connecting to dcc.icgc.org (dcc.icgc.org)|206.108.121.75|:443... connected.\n",
      "HTTP request sent, awaiting response... 307 \n",
      "Location: https://download.icgc.org/downloads/static?token=eyJjdHkiOiJKV1QiLCJlbmMiOiJBMTI4R0NNIiwiYWxnIjoiZGlyIn0..zIV5xwu9L3mXOAcx.6DVoBTUo87d9k8P_BdY6ufQVtIESEpzW1zGF4zwEje76_FZpF9Xi4pXr1yABiDetENQjn3eC9orWaH96tTv2BpwJbkKeYhhQSRyIirg-qluuKEiPNjReJOKBxaTyoQWfrLSl4RDPwHLL-20EMvIzIJrEw9ivR1ImM2pOIzoTWUWvAUUfj_PSCifmroRD6ko5TR03BiLvPcjM6cNXS_fwv_lCYB-8BZYltjfKXSeS-lCKP95LYBilmDSS1G8BKj_0aiJFqaoHoZKabcoVaHtP2iESvZldA25adwqQbSKnPj-BLQfsmdRznmufAElc0n2-oI5MiFmvkbak4WUT8EPG.15ykSys6rzFtEt41RD2zUg [following]\n",
      "--2021-11-05 22:52:22--  https://download.icgc.org/downloads/static?token=eyJjdHkiOiJKV1QiLCJlbmMiOiJBMTI4R0NNIiwiYWxnIjoiZGlyIn0..zIV5xwu9L3mXOAcx.6DVoBTUo87d9k8P_BdY6ufQVtIESEpzW1zGF4zwEje76_FZpF9Xi4pXr1yABiDetENQjn3eC9orWaH96tTv2BpwJbkKeYhhQSRyIirg-qluuKEiPNjReJOKBxaTyoQWfrLSl4RDPwHLL-20EMvIzIJrEw9ivR1ImM2pOIzoTWUWvAUUfj_PSCifmroRD6ko5TR03BiLvPcjM6cNXS_fwv_lCYB-8BZYltjfKXSeS-lCKP95LYBilmDSS1G8BKj_0aiJFqaoHoZKabcoVaHtP2iESvZldA25adwqQbSKnPj-BLQfsmdRznmufAElc0n2-oI5MiFmvkbak4WUT8EPG.15ykSys6rzFtEt41RD2zUg\n",
      "Resolving download.icgc.org (download.icgc.org)... 206.108.121.80\n",
      "Connecting to download.icgc.org (download.icgc.org)|206.108.121.80|:443... connected.\n",
      "HTTP request sent, awaiting response... 200 OK\n",
      "Length: unspecified [application/x-gzip]\n",
      "Saving to: ‘download?fn=%2Fcurrent%2FProjects%2FPRAD-FR%2Fexp_seq.PRAD-FR.tsv.gz’\n",
      "\n",
      "download?fn=%2Fcurr     [       <=>          ]   9.97M  7.09MB/s    in 1.4s    \n",
      "\n",
      "2021-11-05 22:52:23 (7.09 MB/s) - ‘download?fn=%2Fcurrent%2FProjects%2FPRAD-FR%2Fexp_seq.PRAD-FR.tsv.gz’ saved [10450587]\n",
      "\n",
      "--2021-11-05 22:52:24--  https://dcc.icgc.org/api/v1/download?fn=/current/Projects/CLLE-ES/exp_seq.CLLE-ES.tsv.gz\n",
      "Resolving dcc.icgc.org (dcc.icgc.org)... 206.108.121.75\n",
      "Connecting to dcc.icgc.org (dcc.icgc.org)|206.108.121.75|:443... connected.\n",
      "HTTP request sent, awaiting response... 307 \n",
      "Location: https://download.icgc.org/downloads/static?token=eyJjdHkiOiJKV1QiLCJlbmMiOiJBMTI4R0NNIiwiYWxnIjoiZGlyIn0..9jIYnra2HGD7rgyy.0ehh3tAoCwPBcAZV1sim-F-OlcKSJDjGdA1jamPNqYBNirmUhwTF2u9_EAH5HL68wmOkMN-mjSGgAZ3-4MgignOtfAHRIdH8EM5e_fqMoTI_36X3vhhYl5Yt41muwhTWZItDv7YbVxLz6C0xJOpinTW09MDGqfbsrPqbd-GHXt1iONo8NMOl5mm5C7stNPEIC7IfFxEJ2q0vFev5K5KkO053k46Yrd04sOMRBJcXFfRQ5FXAxy9PKTnROJPqHmZqJM-Jnu8INLJDbU2Cqkw9pdBIIGkZm6IZj_YRacWV4-eSk8AI0JztVLuNbKsrgR2bztnaYc7dZhCm0Yfw4hOj.cU3UBSiMSDIZ0m7_yGi1fw [following]\n",
      "--2021-11-05 22:52:24--  https://download.icgc.org/downloads/static?token=eyJjdHkiOiJKV1QiLCJlbmMiOiJBMTI4R0NNIiwiYWxnIjoiZGlyIn0..9jIYnra2HGD7rgyy.0ehh3tAoCwPBcAZV1sim-F-OlcKSJDjGdA1jamPNqYBNirmUhwTF2u9_EAH5HL68wmOkMN-mjSGgAZ3-4MgignOtfAHRIdH8EM5e_fqMoTI_36X3vhhYl5Yt41muwhTWZItDv7YbVxLz6C0xJOpinTW09MDGqfbsrPqbd-GHXt1iONo8NMOl5mm5C7stNPEIC7IfFxEJ2q0vFev5K5KkO053k46Yrd04sOMRBJcXFfRQ5FXAxy9PKTnROJPqHmZqJM-Jnu8INLJDbU2Cqkw9pdBIIGkZm6IZj_YRacWV4-eSk8AI0JztVLuNbKsrgR2bztnaYc7dZhCm0Yfw4hOj.cU3UBSiMSDIZ0m7_yGi1fw\n",
      "Resolving download.icgc.org (download.icgc.org)... 206.108.121.80\n",
      "Connecting to download.icgc.org (download.icgc.org)|206.108.121.80|:443... connected.\n",
      "HTTP request sent, awaiting response... 200 OK\n",
      "Length: unspecified [application/x-gzip]\n",
      "Saving to: ‘download?fn=%2Fcurrent%2FProjects%2FCLLE-ES%2Fexp_seq.CLLE-ES.tsv.gz’\n",
      "\n",
      "download?fn=%2Fcurr     [        <=>         ] 196.71M  13.2MB/s    in 16s     \n",
      "\n",
      "2021-11-05 22:52:40 (12.6 MB/s) - ‘download?fn=%2Fcurrent%2FProjects%2FCLLE-ES%2Fexp_seq.CLLE-ES.tsv.gz’ saved [206270567]\n",
      "\n",
      "--2021-11-05 22:52:41--  https://dcc.icgc.org/api/v1/download?fn=/current/Projects/MALY-DE/exp_seq.MALY-DE.tsv.gz\n",
      "Resolving dcc.icgc.org (dcc.icgc.org)... 206.108.121.75\n",
      "Connecting to dcc.icgc.org (dcc.icgc.org)|206.108.121.75|:443... connected.\n",
      "HTTP request sent, awaiting response... 307 \n",
      "Location: https://download.icgc.org/downloads/static?token=eyJjdHkiOiJKV1QiLCJlbmMiOiJBMTI4R0NNIiwiYWxnIjoiZGlyIn0..SUGgFzt3S_5B7yDV.zP4wt27WxA_b_oAb7HZEah_Zd5Nq4c0jLfAeZsXDAIYQmpJFTCNvzIRyY7etSeIiTWzAGCM7R5YJ7dNiRBN9xwljvHKGVpy7od8wsZ0_VETd3wfSj6CMtHiLsX6spgj3y_b5-9BJF4rVxwt9QtiHvnwp9BRuhC4PQQ2IBrt8hLyzB5nk33crq6dt60BM7OWVATQaGJN36zjCwk50QRmr8szAq4vqNu38Ey7RTPsZvXl00TlioG2jb538BBGtUCUrvQa2a7yPUzmYo5gVHyA4GzEhRNPFSsH_ycOz8nMdKpLXeGx-mMacYIFJDA6_VgtgQv6ye8sEu4jLUgM4LoHw.2rcwZcg6N88FT_l_4wP-hw [following]\n",
      "--2021-11-05 22:52:41--  https://download.icgc.org/downloads/static?token=eyJjdHkiOiJKV1QiLCJlbmMiOiJBMTI4R0NNIiwiYWxnIjoiZGlyIn0..SUGgFzt3S_5B7yDV.zP4wt27WxA_b_oAb7HZEah_Zd5Nq4c0jLfAeZsXDAIYQmpJFTCNvzIRyY7etSeIiTWzAGCM7R5YJ7dNiRBN9xwljvHKGVpy7od8wsZ0_VETd3wfSj6CMtHiLsX6spgj3y_b5-9BJF4rVxwt9QtiHvnwp9BRuhC4PQQ2IBrt8hLyzB5nk33crq6dt60BM7OWVATQaGJN36zjCwk50QRmr8szAq4vqNu38Ey7RTPsZvXl00TlioG2jb538BBGtUCUrvQa2a7yPUzmYo5gVHyA4GzEhRNPFSsH_ycOz8nMdKpLXeGx-mMacYIFJDA6_VgtgQv6ye8sEu4jLUgM4LoHw.2rcwZcg6N88FT_l_4wP-hw\n",
      "Resolving download.icgc.org (download.icgc.org)... 206.108.121.80\n",
      "Connecting to download.icgc.org (download.icgc.org)|206.108.121.80|:443... connected.\n",
      "HTTP request sent, awaiting response... 200 OK\n",
      "Length: unspecified [application/x-gzip]\n",
      "Saving to: ‘download?fn=%2Fcurrent%2FProjects%2FMALY-DE%2Fexp_seq.MALY-DE.tsv.gz’\n",
      "\n",
      "download?fn=%2Fcurr     [   <=>              ]  80.19M  12.5MB/s    in 6.4s    \n",
      "\n",
      "2021-11-05 22:52:48 (12.6 MB/s) - ‘download?fn=%2Fcurrent%2FProjects%2FMALY-DE%2Fexp_seq.MALY-DE.tsv.gz’ saved [84087657]\n",
      "\n",
      "--2021-11-05 22:52:48--  https://dcc.icgc.org/api/v1/download?fn=/current/Projects/PAEN-AU/exp_seq.PAEN-AU.tsv.gz\n",
      "Resolving dcc.icgc.org (dcc.icgc.org)... 206.108.121.75\n",
      "Connecting to dcc.icgc.org (dcc.icgc.org)|206.108.121.75|:443... connected.\n",
      "HTTP request sent, awaiting response... 307 \n",
      "Location: https://download.icgc.org/downloads/static?token=eyJjdHkiOiJKV1QiLCJlbmMiOiJBMTI4R0NNIiwiYWxnIjoiZGlyIn0..o6DWYogoOi9S2xGD.ja3vDAMoptM-SZ5vzoewBQFGCm1KowcZsfxRHpXgZwVEwkEoLq7cbG3ZvSgARDAtvNH9GgZGCivh7UgLxn6kvq0THS_huxU8D9NwY0cDLiv-TyXnJlHyecjGP9Z0TnXoyr97HTDfJsSIh4zjI7QoBNXu28Z3Kn5Ki-dC0i5mjWPbmeSEU1BxW1XHj949SihUL35bNkgikdrXp7hgszk4Bkf_M2YcDJKtzg0pC4Pcdmy83LdwpNeaX2lAdhDG2ET8ig7BdwB02r7dK4baH3vs_rWOlK_jfNeq6tXJ38BRBWIurQ5rtYDnXdkydRBLPLewPtn_UXl-tWe4fVxQ53DL.7ZaYdMTmUVx5nB2A50KyFw [following]\n",
      "--2021-11-05 22:52:49--  https://download.icgc.org/downloads/static?token=eyJjdHkiOiJKV1QiLCJlbmMiOiJBMTI4R0NNIiwiYWxnIjoiZGlyIn0..o6DWYogoOi9S2xGD.ja3vDAMoptM-SZ5vzoewBQFGCm1KowcZsfxRHpXgZwVEwkEoLq7cbG3ZvSgARDAtvNH9GgZGCivh7UgLxn6kvq0THS_huxU8D9NwY0cDLiv-TyXnJlHyecjGP9Z0TnXoyr97HTDfJsSIh4zjI7QoBNXu28Z3Kn5Ki-dC0i5mjWPbmeSEU1BxW1XHj949SihUL35bNkgikdrXp7hgszk4Bkf_M2YcDJKtzg0pC4Pcdmy83LdwpNeaX2lAdhDG2ET8ig7BdwB02r7dK4baH3vs_rWOlK_jfNeq6tXJ38BRBWIurQ5rtYDnXdkydRBLPLewPtn_UXl-tWe4fVxQ53DL.7ZaYdMTmUVx5nB2A50KyFw\n",
      "Resolving download.icgc.org (download.icgc.org)... 206.108.121.80\n",
      "Connecting to download.icgc.org (download.icgc.org)|206.108.121.80|:443... connected.\n",
      "HTTP request sent, awaiting response... 200 OK\n",
      "Length: unspecified [application/x-gzip]\n",
      "Saving to: ‘download?fn=%2Fcurrent%2FProjects%2FPAEN-AU%2Fexp_seq.PAEN-AU.tsv.gz’\n",
      "\n",
      "download?fn=%2Fcurr     [        <=>         ]  11.53M  7.54MB/s    in 1.5s    \n",
      "\n",
      "2021-11-05 22:52:50 (7.54 MB/s) - ‘download?fn=%2Fcurrent%2FProjects%2FPAEN-AU%2Fexp_seq.PAEN-AU.tsv.gz’ saved [12093636]\n",
      "\n",
      "--2021-11-05 22:52:51--  https://dcc.icgc.org/api/v1/download?fn=/current/Projects/RECA-EU/exp_seq.RECA-EU.tsv.gz\n",
      "Resolving dcc.icgc.org (dcc.icgc.org)... 206.108.121.75\n",
      "Connecting to dcc.icgc.org (dcc.icgc.org)|206.108.121.75|:443... connected.\n",
      "HTTP request sent, awaiting response... 307 \n",
      "Location: https://download.icgc.org/downloads/static?token=eyJjdHkiOiJKV1QiLCJlbmMiOiJBMTI4R0NNIiwiYWxnIjoiZGlyIn0..Vq5ZTqJBzHDzrNwY.iPBDbw5buFW43Nb7Bz-AozXY1ETacFFKmz7c3YODls4MucgC8AoaQWOOWm1aT-l_h_4O0nVad6OzvicpWx6yAi5D8iv3Qxg4OLauSM1JixuyTSGUi3gBdS0VAq3rgeN9gvVyPkvGer087hA70uk96WWQq0L1Pd21qW3qSh4XHYmf-WCmuYyB7gil-HBAsE3_VM6WvaJenkVc5Zf2XViQq_MSB6MP5aZqm7HzkzIL20SWQbnW4TMUQqusW3l6dD52XeN3ljHWDWz3b0Rd2qxVXOgQ1AYxi9hRox5G8iXLS62eijXoLQq1eU7294j9qCS9Yeum3m_TXHvsexsqb2F5.Iwp3QD1naWrHNJjF4Spnpg [following]\n",
      "--2021-11-05 22:52:51--  https://download.icgc.org/downloads/static?token=eyJjdHkiOiJKV1QiLCJlbmMiOiJBMTI4R0NNIiwiYWxnIjoiZGlyIn0..Vq5ZTqJBzHDzrNwY.iPBDbw5buFW43Nb7Bz-AozXY1ETacFFKmz7c3YODls4MucgC8AoaQWOOWm1aT-l_h_4O0nVad6OzvicpWx6yAi5D8iv3Qxg4OLauSM1JixuyTSGUi3gBdS0VAq3rgeN9gvVyPkvGer087hA70uk96WWQq0L1Pd21qW3qSh4XHYmf-WCmuYyB7gil-HBAsE3_VM6WvaJenkVc5Zf2XViQq_MSB6MP5aZqm7HzkzIL20SWQbnW4TMUQqusW3l6dD52XeN3ljHWDWz3b0Rd2qxVXOgQ1AYxi9hRox5G8iXLS62eijXoLQq1eU7294j9qCS9Yeum3m_TXHvsexsqb2F5.Iwp3QD1naWrHNJjF4Spnpg\n",
      "Resolving download.icgc.org (download.icgc.org)... 206.108.121.80\n"
     ]
    },
    {
     "name": "stdout",
     "output_type": "stream",
     "text": [
      "Connecting to download.icgc.org (download.icgc.org)|206.108.121.80|:443... connected.\n",
      "HTTP request sent, awaiting response... 200 OK\n",
      "Length: unspecified [application/x-gzip]\n",
      "Saving to: ‘download?fn=%2Fcurrent%2FProjects%2FRECA-EU%2Fexp_seq.RECA-EU.tsv.gz’\n",
      "\n",
      "download?fn=%2Fcurr     [            <=>     ]  81.49M  18.7MB/s    in 4.4s    \n",
      "\n",
      "2021-11-05 22:52:56 (18.7 MB/s) - ‘download?fn=%2Fcurrent%2FProjects%2FRECA-EU%2Fexp_seq.RECA-EU.tsv.gz’ saved [85451655]\n",
      "\n"
     ]
    }
   ],
   "source": [
    " # 40,000 x 2,000 ALL NONE TCGA ICGC\n",
    "for i in icgclist:\n",
    "    ! wget $i"
   ]
  },
  {
   "cell_type": "code",
   "execution_count": null,
   "metadata": {},
   "outputs": [],
   "source": []
  },
  {
   "cell_type": "code",
   "execution_count": null,
   "metadata": {},
   "outputs": [],
   "source": []
  },
  {
   "cell_type": "code",
   "execution_count": null,
   "metadata": {},
   "outputs": [],
   "source": []
  },
  {
   "cell_type": "code",
   "execution_count": null,
   "metadata": {},
   "outputs": [],
   "source": []
  },
  {
   "cell_type": "code",
   "execution_count": null,
   "metadata": {},
   "outputs": [],
   "source": []
  },
  {
   "cell_type": "code",
   "execution_count": null,
   "metadata": {},
   "outputs": [],
   "source": []
  },
  {
   "cell_type": "markdown",
   "metadata": {},
   "source": [
    "## st jude"
   ]
  },
  {
   "cell_type": "code",
   "execution_count": null,
   "metadata": {},
   "outputs": [],
   "source": [
    "pd.read_csv('') # 40,000 x 3500\n"
   ]
  },
  {
   "cell_type": "code",
   "execution_count": null,
   "metadata": {},
   "outputs": [],
   "source": []
  },
  {
   "cell_type": "code",
   "execution_count": null,
   "metadata": {},
   "outputs": [],
   "source": []
  },
  {
   "cell_type": "code",
   "execution_count": null,
   "metadata": {},
   "outputs": [],
   "source": []
  },
  {
   "cell_type": "code",
   "execution_count": null,
   "metadata": {},
   "outputs": [],
   "source": []
  },
  {
   "cell_type": "markdown",
   "metadata": {},
   "source": [
    "## DUOS datasets"
   ]
  },
  {
   "cell_type": "code",
   "execution_count": null,
   "metadata": {},
   "outputs": [],
   "source": [
    "#https://duos.broadinstitute.org/dataset_catalog"
   ]
  },
  {
   "cell_type": "markdown",
   "metadata": {},
   "source": [
    "## hartwig"
   ]
  },
  {
   "cell_type": "code",
   "execution_count": null,
   "metadata": {},
   "outputs": [],
   "source": []
  },
  {
   "cell_type": "markdown",
   "metadata": {},
   "source": [
    "## Pancreas from Sri"
   ]
  },
  {
   "cell_type": "code",
   "execution_count": null,
   "metadata": {},
   "outputs": [],
   "source": []
  },
  {
   "cell_type": "markdown",
   "metadata": {},
   "source": [
    "## Neurosphere from Keith"
   ]
  },
  {
   "cell_type": "code",
   "execution_count": null,
   "metadata": {},
   "outputs": [],
   "source": []
  },
  {
   "cell_type": "markdown",
   "metadata": {},
   "source": [
    "# QC"
   ]
  },
  {
   "cell_type": "markdown",
   "metadata": {},
   "source": [
    "## get the same set of overlapping genes"
   ]
  },
  {
   "cell_type": "code",
   "execution_count": null,
   "metadata": {},
   "outputs": [],
   "source": []
  },
  {
   "cell_type": "code",
   "execution_count": null,
   "metadata": {},
   "outputs": [],
   "source": []
  },
  {
   "cell_type": "code",
   "execution_count": null,
   "metadata": {},
   "outputs": [],
   "source": []
  },
  {
   "cell_type": "markdown",
   "metadata": {
    "ExecuteTime": {
     "end_time": "2021-10-08T21:46:14.942803Z",
     "start_time": "2021-10-08T21:46:14.939955Z"
    }
   },
   "source": [
    "## compute correlation\n",
    "\n",
    "- find unknown duplicates\n",
    "- find problematic duplicates"
   ]
  },
  {
   "cell_type": "code",
   "execution_count": null,
   "metadata": {},
   "outputs": [],
   "source": []
  },
  {
   "cell_type": "code",
   "execution_count": null,
   "metadata": {},
   "outputs": [],
   "source": []
  },
  {
   "cell_type": "code",
   "execution_count": null,
   "metadata": {},
   "outputs": [],
   "source": []
  },
  {
   "cell_type": "markdown",
   "metadata": {},
   "source": [
    "## analyse  annotation files\n",
    "\n",
    "- find mismatch annotations\n",
    "- add missing annotations, need: \n",
    "    - sequencer, \n",
    "    - expression_type, \n",
    "    - media, \n",
    "    - origin, \n",
    "    - tissue type,\n",
    "    - disease,\n",
    "    - sub_disease,\n",
    "    - cell type, \n",
    "    - group, \n",
    "    - sex, \n",
    "    - age, \n",
    "    - contamination\n",
    "    - organism\n",
    "- find good set of names for annotations"
   ]
  },
  {
   "cell_type": "code",
   "execution_count": null,
   "metadata": {},
   "outputs": [],
   "source": []
  },
  {
   "cell_type": "code",
   "execution_count": null,
   "metadata": {},
   "outputs": [],
   "source": []
  },
  {
   "cell_type": "code",
   "execution_count": null,
   "metadata": {},
   "outputs": [],
   "source": []
  },
  {
   "cell_type": "code",
   "execution_count": null,
   "metadata": {},
   "outputs": [],
   "source": []
  },
  {
   "cell_type": "code",
   "execution_count": null,
   "metadata": {},
   "outputs": [],
   "source": []
  }
 ],
 "metadata": {
  "interpreter": {
   "hash": "fd8698c164edaa1fafe02e09417b19c3da26ece954e3310283697fab1cf76ba9"
  },
  "kernelspec": {
   "display_name": "gae",
   "language": "python",
   "name": "gae"
  },
  "language_info": {
   "codemirror_mode": {
    "name": "ipython",
    "version": 3
   },
   "file_extension": ".py",
   "mimetype": "text/x-python",
   "name": "python",
   "nbconvert_exporter": "python",
   "pygments_lexer": "ipython3",
   "version": "3.8.12"
  },
  "latex_envs": {
   "LaTeX_envs_menu_present": true,
   "autoclose": false,
   "autocomplete": true,
   "bibliofile": "biblio.bib",
   "cite_by": "apalike",
   "current_citInitial": 1,
   "eqLabelWithNumbers": true,
   "eqNumInitial": 1,
   "hotkeys": {
    "equation": "Ctrl-E",
    "itemize": "Ctrl-I"
   },
   "labels_anchors": false,
   "latex_user_defs": false,
   "report_style_numbering": false,
   "user_envs_cfg": false
  },
  "toc": {
   "base_numbering": 1,
   "nav_menu": {},
   "number_sections": true,
   "sideBar": true,
   "skip_h1_title": false,
   "title_cell": "Table of Contents",
   "title_sidebar": "Contents",
   "toc_cell": false,
   "toc_position": {},
   "toc_section_display": true,
   "toc_window_display": false
  },
  "varInspector": {
   "cols": {
    "lenName": 16,
    "lenType": 16,
    "lenVar": 40
   },
   "kernels_config": {
    "python": {
     "delete_cmd_postfix": "",
     "delete_cmd_prefix": "del ",
     "library": "var_list.py",
     "varRefreshCmd": "print(var_dic_list())"
    },
    "r": {
     "delete_cmd_postfix": ") ",
     "delete_cmd_prefix": "rm(",
     "library": "var_list.r",
     "varRefreshCmd": "cat(var_dic_list()) "
    }
   },
   "types_to_exclude": [
    "module",
    "function",
    "builtin_function_or_method",
    "instance",
    "_Feature"
   ],
   "window_display": false
  }
 },
 "nbformat": 4,
 "nbformat_minor": 2
}
