{
 "cells": [
  {
   "cell_type": "markdown",
   "metadata": {},
   "source": [
    "# load tons of datasets (~60,000 RNAseq samples)"
   ]
  },
  {
   "cell_type": "code",
   "execution_count": 3,
   "metadata": {
    "ExecuteTime": {
     "end_time": "2021-11-16T19:00:51.039895Z",
     "start_time": "2021-11-16T19:00:50.914955Z"
    }
   },
   "outputs": [],
   "source": [
    "from taigapy import TaigaClient\n",
    "tc = TaigaClient()\n",
    "\n",
    "from depmapomics import tracker as track\n",
    "from depmapomics import expressions\n",
    "\n",
    "from genepy.utils import helper as h\n",
    "\n",
    "import dalmatian as dm\n",
    "from gsheets import Sheets\n",
    "import pandas as pd\n",
    "\n",
    "from anndata import AnnData, read_h5ad\n",
    "\n",
    "MY_ID = '~/.client_secret.json'\n",
    "MYSTORAGE_ID = \"~/.storage.json\"\n",
    "\n",
    "Sheets.from_files(MY_ID, MYSTORAGE_ID)\n",
    "#autoreload\n",
    "%load_ext autoreload\n",
    "%autoreload 2"
   ]
  },
  {
   "cell_type": "markdown",
   "metadata": {},
   "source": [
    "## CCLE + TCGA"
   ]
  },
  {
   "cell_type": "code",
   "execution_count": 4,
   "metadata": {
    "ExecuteTime": {
     "end_time": "2021-11-16T19:01:17.352467Z",
     "start_time": "2021-11-16T19:00:53.956054Z"
    }
   },
   "outputs": [
    {
     "name": "stdout",
     "output_type": "stream",
     "text": [
      "No dataset version provided. Using version 16.\n",
      "No dataset version provided. Using version 1.\n"
     ]
    }
   ],
   "source": [
    "# load from taiga public (figshare link)\n",
    "# load internal expression,\n",
    "# latest version can be found at https://depmap.org/portal/download/\n",
    "# can also be loaded like so pd.read_csv('gs://ccle_default_params/celligner_ex/CCLE_expression.csv.gz', index_col=0)\n",
    "CCLE_expression = tc.get(name='internal-21q3-fe4c',\n",
    "                         file='CCLE_expression_full')  #40,000x1,500\n",
    "\n",
    "\n",
    "# load  TCGA expression\n",
    "# this dataset was generated from  ,using this script: \n",
    "# caan be found here: pd.read_csv('gs://ccle_default_params/celligner_ex/TCGA_expression.csv.gz', index_col=0)\n",
    "TCGA_expression = tc.get(name='celligner-input-9827',\n",
    "                       file='tumor_expression') # 40,000x13,000"
   ]
  },
  {
   "cell_type": "code",
   "execution_count": 6,
   "metadata": {
    "ExecuteTime": {
     "end_time": "2021-11-16T19:03:23.530815Z",
     "start_time": "2021-11-16T19:03:19.377573Z"
    }
   },
   "outputs": [
    {
     "name": "stdout",
     "output_type": "stream",
     "text": [
      "No dataset version provided. Using version 1.\n"
     ]
    }
   ],
   "source": [
    "# loading annotations\n",
    "CCLE_annotation = track.getTracker() # the function uses pygsheets to load this: REFSHEET_URL=https://docs.google.com/spreadsheets/d/1Pgb5fIClGnErEqzxpU7qqX6ULpGTDjvzWwDN8XUJKIY\n",
    "# Sheets.from_files(MY_ID, MYSTORAGE_ID).get(REFSHEET_URL).sheets[0].to_frame(index_col=0)\n",
    "# you can also get it from pd.read_csv('gs://ccle_default_params/celligner_ex/CCLE_annotation.csv.gz', index_col=0)\n",
    "\n",
    "\n",
    "# can be loaded from \n",
    "# pd.read_csv('gs://ccle_default_params/celligner_ex/TCGA_annotation.csv.gz', index_col=0)\n",
    "TCGA_annotation = tc.get(name='celligner-input-9827',\n",
    "                         file='tumor_annotations') # generated manually "
   ]
  },
  {
   "cell_type": "code",
   "execution_count": 7,
   "metadata": {
    "ExecuteTime": {
     "end_time": "2021-11-16T19:04:23.866438Z",
     "start_time": "2021-11-16T19:04:23.837777Z"
    },
    "scrolled": true
   },
   "outputs": [
    {
     "data": {
      "text/plain": [
       "arxspan_id                                                ACH-001188\n",
       "version                                                            1\n",
       "sm_id                                                            NaN\n",
       "PDO                                                              NaN\n",
       "datatype                                                         wgs\n",
       "                                         ...                        \n",
       "atcclink                                                    CRL-2266\n",
       "dsmzlink                                                     ACC-209\n",
       "sequencing_date                                            13-9-2020\n",
       "release_date                                                     NaN\n",
       "bam_qc             ['gs://fc-secure-fd4a7e9f-cb15-423c-9805-04995...\n",
       "Name: CDS-rIh3Gy, Length: 62, dtype: object"
      ]
     },
     "execution_count": 7,
     "metadata": {},
     "output_type": "execute_result"
    }
   ],
   "source": [
    "CCLE_annotation.iloc[0, :-25]"
   ]
  },
  {
   "cell_type": "code",
   "execution_count": 8,
   "metadata": {
    "ExecuteTime": {
     "end_time": "2021-11-16T19:05:23.867212Z",
     "start_time": "2021-11-16T19:05:23.839706Z"
    }
   },
   "outputs": [
    {
     "data": {
      "text/plain": [
       "72"
      ]
     },
     "execution_count": 8,
     "metadata": {},
     "output_type": "execute_result"
    }
   ],
   "source": [
    "len(CCLE_annotation[(CCLE_annotation.blacklist==0)&(CCLE_annotation.version>1)&(CCLE_annotation.datatype==\"rna\")]) \n",
    "# we have .. replicates in CCLE"
   ]
  },
  {
   "cell_type": "code",
   "execution_count": 11,
   "metadata": {
    "ExecuteTime": {
     "end_time": "2021-11-16T19:11:44.415555Z",
     "start_time": "2021-11-16T19:11:44.389096Z"
    }
   },
   "outputs": [],
   "source": [
    "rename = {\n",
    "'Acquisition Site': \"collection_site\",\n",
    "'Actual Seq Technology': 'sequencer',\n",
    "'Age At Acquisition (Years)': \"age\",\n",
    "'age_at_dx':\"age\", \n",
    "'Age': \"age\",\n",
    "'Aggregated': \"aggregated\",\n",
    "'Assay title': 'assay',\n",
    "'arxspan_id': \"tissue_id\",\n",
    "'biopsy_tissue': \"collection_site\",\n",
    "'Case ID': 'participant_id', \n",
    "'CCLF_ID': 'sample_id',\n",
    "'Clinical Tumor Diagnosis': 'disease_type',\n",
    "'Collaborator Participant ID': \"participant_id\",\n",
    "'collection': 'collection_site', \n",
    "'Contamination % (First Agg)': 'contamination', \n",
    "'Contamination %': \"contamination\",\n",
    "'Culture Medium': \"media_type\",\n",
    "'Days to First Agg': 'exp_date', \n",
    "'Diagnosis': 'disease_type',\n",
    "'disease': \"disease_type\", \n",
    "'Expansion Status': \"expansion\",\n",
    "'External ID for BAM': \"tissue_id\",\n",
    "'gender': \"sex\",\n",
    "'Gender': \"sex\",\n",
    "'Inferred_Ethnicity': \"ethnicity\",\n",
    "'lineage': 'tissue_type',\n",
    "'mediatype':\"media_type\",\n",
    "'Original Material Type': 'history',\n",
    "'Passage Number': \"passage_number\",\n",
    "'Phase':'stage',\n",
    "'Primary Disease': \"disease_type\",\n",
    "'Primary Site': 'collection_site',\n",
    "'primary_disease': \"disease_type\", \n",
    "'Product': 'preparation',\n",
    "'Race': \"ethnicity\",\n",
    "'RNA_Seq_cancertype': 'disease_type', \n",
    "'sample_source': 'participant_id',\n",
    "'Sample_type': 'lineage', \n",
    "'sampleID': 'sample_id',\n",
    "'Sequencing on Tissue or Cell model? (MT confirm)': 'cell_type', \n",
    "'Sex': \"sex\",\n",
    "'tissue': \"lineage\",\n",
    "'Participant ID': 'participant_id',\n",
    "'RIN score from PAXgene tissue Aliquot': 'rin_score',\n",
    "'RIN': 'rin_score',\n",
    "'Cell types level 3': 'tissue_type',\n",
    "'Age_bin':'age',\n",
    "'cohort': \"disease_type\",\n",
    "'site_donor_id': \"participant_id\",\n",
    "'site_id': \"tissue_id\",\n",
    "'Site.of.Specimen ': \"collection_site\",\n",
    "'stripped_cell_line_name': \"sample_id\", \n",
    "'subtype': 'disease_subtype', \n",
    "'tc': 'tumor_purity',\n",
    "'Therapy': \"therapy\",\n",
    "'Tissue Site': \"collection_site\",\n",
    "'Tissue Status': \"metastatic/primary\",\n",
    "'Tumor Percent': \"contamination\",\n",
    "'Tumor Type': \"metastatic/primary\",\n",
    "'Tumor_type': 'cell_type', \n",
    "'type': \"cell_type\",\n",
    "'Type': \"cell_type\",\n",
    "'Sample Type': \"cell_type\",\n",
    "}"
   ]
  },
  {
   "cell_type": "code",
   "execution_count": 12,
   "metadata": {
    "ExecuteTime": {
     "end_time": "2021-11-16T19:18:41.432568Z",
     "start_time": "2021-11-16T19:18:41.289946Z"
    },
    "scrolled": true
   },
   "outputs": [
    {
     "ename": "KeyError",
     "evalue": "\"['origin', 'sequencer', 'aggregated', 'assay', 'contamination', 'exp_date', 'expansion', 'ethnicity', 'history', 'passage_number', 'stage', 'preparation', 'lineage', 'cell_type', 'rin_score', 'tumor_purity', 'therapy', 'metastatic/primary'] not in index\"",
     "output_type": "error",
     "traceback": [
      "\u001b[0;31m---------------------------------------------------------------------------\u001b[0m",
      "\u001b[0;31mKeyError\u001b[0m                                  Traceback (most recent call last)",
      "\u001b[0;32m/tmp/ipykernel_13004/822786077.py\u001b[0m in \u001b[0;36m<module>\u001b[0;34m\u001b[0m\n\u001b[0;32m----> 1\u001b[0;31m \u001b[0mCCLE_annotation\u001b[0m \u001b[0;34m=\u001b[0m \u001b[0mCCLE_annotation\u001b[0m\u001b[0;34m.\u001b[0m\u001b[0mrename\u001b[0m\u001b[0;34m(\u001b[0m\u001b[0mcolumns\u001b[0m\u001b[0;34m=\u001b[0m\u001b[0mrename\u001b[0m\u001b[0;34m)\u001b[0m\u001b[0;34m[\u001b[0m\u001b[0;34m[\u001b[0m\u001b[0;34m'origin'\u001b[0m\u001b[0;34m,\u001b[0m \u001b[0;34m'sequencing_type'\u001b[0m\u001b[0;34m,\u001b[0m \u001b[0;34m'doublingt'\u001b[0m\u001b[0;34m,\u001b[0m\u001b[0;34m'hasebv'\u001b[0m\u001b[0;34m]\u001b[0m \u001b[0;34m+\u001b[0m \u001b[0mlist\u001b[0m\u001b[0;34m(\u001b[0m\u001b[0mrename\u001b[0m\u001b[0;34m.\u001b[0m\u001b[0mvalues\u001b[0m\u001b[0;34m(\u001b[0m\u001b[0;34m)\u001b[0m\u001b[0;34m)\u001b[0m\u001b[0;34m]\u001b[0m\u001b[0;34m\u001b[0m\u001b[0;34m\u001b[0m\u001b[0m\n\u001b[0m\u001b[1;32m      2\u001b[0m \u001b[0mCCLE_annotation\u001b[0m\u001b[0;34m[\u001b[0m\u001b[0;34m'method'\u001b[0m\u001b[0;34m]\u001b[0m\u001b[0;34m=\u001b[0m\u001b[0;34m\"bulk\"\u001b[0m\u001b[0;34m\u001b[0m\u001b[0;34m\u001b[0m\u001b[0m\n\u001b[1;32m      3\u001b[0m \u001b[0mCCLE_annotation\u001b[0m\u001b[0;34m[\u001b[0m\u001b[0;34m'cell_type'\u001b[0m\u001b[0;34m]\u001b[0m\u001b[0;34m=\u001b[0m\u001b[0;34m\"historical_CL; 2D\"\u001b[0m\u001b[0;34m\u001b[0m\u001b[0;34m\u001b[0m\u001b[0m\n\u001b[1;32m      4\u001b[0m \u001b[0mCCLE_annotation\u001b[0m\u001b[0;34m[\u001b[0m\u001b[0;34m'sequencer'\u001b[0m\u001b[0;34m]\u001b[0m\u001b[0;34m=\u001b[0m\u001b[0;34m\"Illumina Hiseq 2000\"\u001b[0m\u001b[0;34m\u001b[0m\u001b[0;34m\u001b[0m\u001b[0m\n\u001b[1;32m      5\u001b[0m \u001b[0mCCLE_annotation\u001b[0m\u001b[0;34m[\u001b[0m\u001b[0;34m'ends'\u001b[0m\u001b[0;34m]\u001b[0m\u001b[0;34m=\u001b[0m\u001b[0;34m\"paired end\"\u001b[0m\u001b[0;34m\u001b[0m\u001b[0;34m\u001b[0m\u001b[0m\n",
      "\u001b[0;32m~/miniconda3/envs/gae/lib/python3.8/site-packages/pandas/core/frame.py\u001b[0m in \u001b[0;36m__getitem__\u001b[0;34m(self, key)\u001b[0m\n\u001b[1;32m   3462\u001b[0m             \u001b[0;32mif\u001b[0m \u001b[0mis_iterator\u001b[0m\u001b[0;34m(\u001b[0m\u001b[0mkey\u001b[0m\u001b[0;34m)\u001b[0m\u001b[0;34m:\u001b[0m\u001b[0;34m\u001b[0m\u001b[0;34m\u001b[0m\u001b[0m\n\u001b[1;32m   3463\u001b[0m                 \u001b[0mkey\u001b[0m \u001b[0;34m=\u001b[0m \u001b[0mlist\u001b[0m\u001b[0;34m(\u001b[0m\u001b[0mkey\u001b[0m\u001b[0;34m)\u001b[0m\u001b[0;34m\u001b[0m\u001b[0;34m\u001b[0m\u001b[0m\n\u001b[0;32m-> 3464\u001b[0;31m             \u001b[0mindexer\u001b[0m \u001b[0;34m=\u001b[0m \u001b[0mself\u001b[0m\u001b[0;34m.\u001b[0m\u001b[0mloc\u001b[0m\u001b[0;34m.\u001b[0m\u001b[0m_get_listlike_indexer\u001b[0m\u001b[0;34m(\u001b[0m\u001b[0mkey\u001b[0m\u001b[0;34m,\u001b[0m \u001b[0maxis\u001b[0m\u001b[0;34m=\u001b[0m\u001b[0;36m1\u001b[0m\u001b[0;34m)\u001b[0m\u001b[0;34m[\u001b[0m\u001b[0;36m1\u001b[0m\u001b[0;34m]\u001b[0m\u001b[0;34m\u001b[0m\u001b[0;34m\u001b[0m\u001b[0m\n\u001b[0m\u001b[1;32m   3465\u001b[0m \u001b[0;34m\u001b[0m\u001b[0m\n\u001b[1;32m   3466\u001b[0m         \u001b[0;31m# take() does not accept boolean indexers\u001b[0m\u001b[0;34m\u001b[0m\u001b[0;34m\u001b[0m\u001b[0;34m\u001b[0m\u001b[0m\n",
      "\u001b[0;32m~/miniconda3/envs/gae/lib/python3.8/site-packages/pandas/core/indexing.py\u001b[0m in \u001b[0;36m_get_listlike_indexer\u001b[0;34m(self, key, axis)\u001b[0m\n\u001b[1;32m   1312\u001b[0m             \u001b[0mkeyarr\u001b[0m\u001b[0;34m,\u001b[0m \u001b[0mindexer\u001b[0m\u001b[0;34m,\u001b[0m \u001b[0mnew_indexer\u001b[0m \u001b[0;34m=\u001b[0m \u001b[0max\u001b[0m\u001b[0;34m.\u001b[0m\u001b[0m_reindex_non_unique\u001b[0m\u001b[0;34m(\u001b[0m\u001b[0mkeyarr\u001b[0m\u001b[0;34m)\u001b[0m\u001b[0;34m\u001b[0m\u001b[0;34m\u001b[0m\u001b[0m\n\u001b[1;32m   1313\u001b[0m \u001b[0;34m\u001b[0m\u001b[0m\n\u001b[0;32m-> 1314\u001b[0;31m         \u001b[0mself\u001b[0m\u001b[0;34m.\u001b[0m\u001b[0m_validate_read_indexer\u001b[0m\u001b[0;34m(\u001b[0m\u001b[0mkeyarr\u001b[0m\u001b[0;34m,\u001b[0m \u001b[0mindexer\u001b[0m\u001b[0;34m,\u001b[0m \u001b[0maxis\u001b[0m\u001b[0;34m)\u001b[0m\u001b[0;34m\u001b[0m\u001b[0;34m\u001b[0m\u001b[0m\n\u001b[0m\u001b[1;32m   1315\u001b[0m \u001b[0;34m\u001b[0m\u001b[0m\n\u001b[1;32m   1316\u001b[0m         if needs_i8_conversion(ax.dtype) or isinstance(\n",
      "\u001b[0;32m~/miniconda3/envs/gae/lib/python3.8/site-packages/pandas/core/indexing.py\u001b[0m in \u001b[0;36m_validate_read_indexer\u001b[0;34m(self, key, indexer, axis)\u001b[0m\n\u001b[1;32m   1375\u001b[0m \u001b[0;34m\u001b[0m\u001b[0m\n\u001b[1;32m   1376\u001b[0m             \u001b[0mnot_found\u001b[0m \u001b[0;34m=\u001b[0m \u001b[0mlist\u001b[0m\u001b[0;34m(\u001b[0m\u001b[0mensure_index\u001b[0m\u001b[0;34m(\u001b[0m\u001b[0mkey\u001b[0m\u001b[0;34m)\u001b[0m\u001b[0;34m[\u001b[0m\u001b[0mmissing_mask\u001b[0m\u001b[0;34m.\u001b[0m\u001b[0mnonzero\u001b[0m\u001b[0;34m(\u001b[0m\u001b[0;34m)\u001b[0m\u001b[0;34m[\u001b[0m\u001b[0;36m0\u001b[0m\u001b[0;34m]\u001b[0m\u001b[0;34m]\u001b[0m\u001b[0;34m.\u001b[0m\u001b[0munique\u001b[0m\u001b[0;34m(\u001b[0m\u001b[0;34m)\u001b[0m\u001b[0;34m)\u001b[0m\u001b[0;34m\u001b[0m\u001b[0;34m\u001b[0m\u001b[0m\n\u001b[0;32m-> 1377\u001b[0;31m             \u001b[0;32mraise\u001b[0m \u001b[0mKeyError\u001b[0m\u001b[0;34m(\u001b[0m\u001b[0;34mf\"{not_found} not in index\"\u001b[0m\u001b[0;34m)\u001b[0m\u001b[0;34m\u001b[0m\u001b[0;34m\u001b[0m\u001b[0m\n\u001b[0m\u001b[1;32m   1378\u001b[0m \u001b[0;34m\u001b[0m\u001b[0m\n\u001b[1;32m   1379\u001b[0m \u001b[0;34m\u001b[0m\u001b[0m\n",
      "\u001b[0;31mKeyError\u001b[0m: \"['origin', 'sequencer', 'aggregated', 'assay', 'contamination', 'exp_date', 'expansion', 'ethnicity', 'history', 'passage_number', 'stage', 'preparation', 'lineage', 'cell_type', 'rin_score', 'tumor_purity', 'therapy', 'metastatic/primary'] not in index\""
     ]
    }
   ],
   "source": [
    "CCLE_annotation = CCLE_annotation.rename(columns=rename)[['origin', 'sequencing_type', 'doublingt','hasebv'] + list(rename.values())]\n",
    "CCLE_annotation['method']=\"bulk\"\n",
    "CCLE_annotation['cell_type']=\"historical_CL; 2D\"\n",
    "CCLE_annotation['sequencer']=\"Illumina Hiseq 2000\"\n",
    "CCLE_annotation['ends']=\"paired end\"\n",
    "CCLE_annotation['reference']=\"hg38\"\n",
    "CCLE_annotation['dataset']=\"ccle\""
   ]
  },
  {
   "cell_type": "code",
   "execution_count": null,
   "metadata": {
    "ExecuteTime": {
     "end_time": "2021-11-16T19:06:25.366243Z",
     "start_time": "2021-11-16T19:06:25.366232Z"
    }
   },
   "outputs": [],
   "source": [
    "TCGA_annotation.iloc[0]"
   ]
  },
  {
   "cell_type": "code",
   "execution_count": null,
   "metadata": {
    "ExecuteTime": {
     "end_time": "2021-11-16T19:06:25.457925Z",
     "start_time": "2021-11-16T19:06:25.457913Z"
    }
   },
   "outputs": [],
   "source": [
    "TCGA_annotation = TCGA_annotation.rename(columns=rename)[rename.values()]\n",
    "TCGA_annotation['method']=\"bulk\"\n",
    "TCGA_annotation['cell_type']=\"tumor\"\n",
    "TCGA_annotation['metastasis']=\"Primary\"\n",
    "TCGA_annotation['sequencer']= \"Illumina Hiseq 2000\"\n",
    "TCGA_annotation['reference']= \"hg38\"\n",
    "TCGA_annotation['ends']=\"paired end\"\n",
    "TCGA_annotation['dataset']=\"tcga\""
   ]
  },
  {
   "cell_type": "code",
   "execution_count": null,
   "metadata": {
    "ExecuteTime": {
     "end_time": "2021-11-16T19:06:25.550419Z",
     "start_time": "2021-11-16T19:06:25.550407Z"
    }
   },
   "outputs": [],
   "source": [
    "pd.concat([CCLE_annotation, TCGA_annotation])"
   ]
  },
  {
   "cell_type": "code",
   "execution_count": null,
   "metadata": {},
   "outputs": [],
   "source": [
    "AnnData()"
   ]
  },
  {
   "cell_type": "markdown",
   "metadata": {},
   "source": [
    "## CCLF"
   ]
  },
  {
   "cell_type": "code",
   "execution_count": 21,
   "metadata": {
    "ExecuteTime": {
     "end_time": "2021-11-02T19:56:02.653047Z",
     "start_time": "2021-11-02T19:56:02.275562Z"
    },
    "scrolled": true
   },
   "outputs": [
    {
     "ename": "NameError",
     "evalue": "name 'rename' is not defined",
     "output_type": "error",
     "traceback": [
      "\u001b[0;31m---------------------------------------------------------------------------\u001b[0m",
      "\u001b[0;31mNameError\u001b[0m                                 Traceback (most recent call last)",
      "\u001b[0;32m/tmp/ipykernel_3840/2176769075.py\u001b[0m in \u001b[0;36m<module>\u001b[0;34m\u001b[0m\n\u001b[1;32m      1\u001b[0m \u001b[0mcclf_orga_info\u001b[0m \u001b[0;34m=\u001b[0m \u001b[0mtc\u001b[0m\u001b[0;34m.\u001b[0m\u001b[0mget\u001b[0m\u001b[0;34m(\u001b[0m\u001b[0mname\u001b[0m\u001b[0;34m=\u001b[0m\u001b[0;34m'cclf-organoids-c23d'\u001b[0m\u001b[0;34m,\u001b[0m \u001b[0mversion\u001b[0m\u001b[0;34m=\u001b[0m\u001b[0;36m1\u001b[0m\u001b[0;34m,\u001b[0m \u001b[0mfile\u001b[0m\u001b[0;34m=\u001b[0m\u001b[0;34m'cclf_orga_info'\u001b[0m\u001b[0;34m)\u001b[0m\u001b[0;34m\u001b[0m\u001b[0;34m\u001b[0m\u001b[0m\n\u001b[0;32m----> 2\u001b[0;31m \u001b[0mcclf_orga_info\u001b[0m \u001b[0;34m=\u001b[0m \u001b[0mcclf_orga_info\u001b[0m\u001b[0;34m.\u001b[0m\u001b[0mrename\u001b[0m\u001b[0;34m(\u001b[0m\u001b[0mcolumns\u001b[0m\u001b[0;34m=\u001b[0m\u001b[0mrename\u001b[0m\u001b[0;34m)\u001b[0m\u001b[0;34m[\u001b[0m\u001b[0;34m[\u001b[0m\u001b[0;34m\"tumor_type\"\u001b[0m\u001b[0;34m,\u001b[0m \u001b[0;34m\"sample_type\"\u001b[0m\u001b[0;34m,\u001b[0m \u001b[0;34m\"disease_type\"\u001b[0m\u001b[0;34m,\u001b[0m \u001b[0;34m\"sample_id\"\u001b[0m\u001b[0;34m]\u001b[0m\u001b[0;34m]\u001b[0m\u001b[0;34m\u001b[0m\u001b[0;34m\u001b[0m\u001b[0m\n\u001b[0m\u001b[1;32m      3\u001b[0m \u001b[0mcclf_orga_rnaseq\u001b[0m \u001b[0;34m=\u001b[0m \u001b[0mtc\u001b[0m\u001b[0;34m.\u001b[0m\u001b[0mget\u001b[0m\u001b[0;34m(\u001b[0m\u001b[0mname\u001b[0m\u001b[0;34m=\u001b[0m\u001b[0;34m'cclf-organoids-c23d'\u001b[0m\u001b[0;34m,\u001b[0m \u001b[0mversion\u001b[0m\u001b[0;34m=\u001b[0m\u001b[0;36m1\u001b[0m\u001b[0;34m,\u001b[0m \u001b[0mfile\u001b[0m\u001b[0;34m=\u001b[0m\u001b[0;34m'cclf_orga_rnaseq'\u001b[0m\u001b[0;34m)\u001b[0m\u001b[0;34m.\u001b[0m\u001b[0mT\u001b[0m \u001b[0;31m# 40,000x24\u001b[0m\u001b[0;34m\u001b[0m\u001b[0;34m\u001b[0m\u001b[0m\n\u001b[1;32m      4\u001b[0m \u001b[0mcclf_orga_info\u001b[0m\u001b[0;34m.\u001b[0m\u001b[0mindex\u001b[0m \u001b[0;34m=\u001b[0m \u001b[0;34m[\u001b[0m\u001b[0mi\u001b[0m\u001b[0;34m.\u001b[0m\u001b[0msplit\u001b[0m\u001b[0;34m(\u001b[0m\u001b[0;34m\"_\"\u001b[0m\u001b[0;34m)\u001b[0m\u001b[0;34m[\u001b[0m\u001b[0;36m1\u001b[0m\u001b[0;34m]\u001b[0m \u001b[0;32mfor\u001b[0m \u001b[0mi\u001b[0m \u001b[0;32min\u001b[0m \u001b[0mcclf_orga_info\u001b[0m\u001b[0;34m.\u001b[0m\u001b[0msample_id\u001b[0m\u001b[0;34m]\u001b[0m\u001b[0;34m\u001b[0m\u001b[0;34m\u001b[0m\u001b[0m\n\u001b[1;32m      5\u001b[0m \u001b[0mcclf_orga_rnaseq\u001b[0m\u001b[0;34m.\u001b[0m\u001b[0mindex\u001b[0m \u001b[0;34m=\u001b[0m \u001b[0;34m[\u001b[0m\u001b[0mi\u001b[0m\u001b[0;34m.\u001b[0m\u001b[0msplit\u001b[0m\u001b[0;34m(\u001b[0m\u001b[0;34m'_'\u001b[0m\u001b[0;34m)\u001b[0m\u001b[0;34m[\u001b[0m\u001b[0;36m0\u001b[0m\u001b[0;34m]\u001b[0m\u001b[0;34m[\u001b[0m\u001b[0;34m:\u001b[0m\u001b[0;34m-\u001b[0m\u001b[0;36m1\u001b[0m\u001b[0;34m]\u001b[0m \u001b[0;32mfor\u001b[0m \u001b[0mi\u001b[0m \u001b[0;32min\u001b[0m \u001b[0mcclf_orga_rnaseq\u001b[0m\u001b[0;34m.\u001b[0m\u001b[0mindex\u001b[0m\u001b[0;34m]\u001b[0m\u001b[0;34m\u001b[0m\u001b[0;34m\u001b[0m\u001b[0m\n",
      "\u001b[0;31mNameError\u001b[0m: name 'rename' is not defined"
     ]
    }
   ],
   "source": [
    "cclf_orga_info = tc.get(name='cclf-organoids-c23d', version=1, file='cclf_orga_info')\n",
    "cclf_orga_info = cclf_orga_info.rename(columns=rename)[rename.values()]\n",
    "cclf_orga_rnaseq = tc.get(name='cclf-organoids-c23d', version=1, file='cclf_orga_rnaseq').T # 40,000x24\n",
    "cclf_orga_info.index = [i.split(\"_\")[1] for i in cclf_orga_info.sample_id]\n",
    "cclf_orga_rnaseq.index = [i.split('_')[0][:-1] for i in cclf_orga_rnaseq.index]"
   ]
  },
  {
   "cell_type": "code",
   "execution_count": 536,
   "metadata": {
    "ExecuteTime": {
     "end_time": "2021-11-05T18:50:12.774188Z",
     "start_time": "2021-11-05T18:50:12.738801Z"
    }
   },
   "outputs": [
    {
     "data": {
      "text/html": [
       "<div>\n",
       "<style scoped>\n",
       "    .dataframe tbody tr th:only-of-type {\n",
       "        vertical-align: middle;\n",
       "    }\n",
       "\n",
       "    .dataframe tbody tr th {\n",
       "        vertical-align: top;\n",
       "    }\n",
       "\n",
       "    .dataframe thead th {\n",
       "        text-align: right;\n",
       "    }\n",
       "</style>\n",
       "<table border=\"1\" class=\"dataframe\">\n",
       "  <thead>\n",
       "    <tr style=\"text-align: right;\">\n",
       "      <th></th>\n",
       "      <th>Genomic_Seq</th>\n",
       "      <th>RNA_Seq_cancertype</th>\n",
       "      <th>RNA_Seq_marker</th>\n",
       "      <th>CCLF_ID</th>\n",
       "      <th>Diagnosis</th>\n",
       "      <th>Subtype_patient</th>\n",
       "      <th>Tumor_type</th>\n",
       "      <th>Sample_type</th>\n",
       "    </tr>\n",
       "  </thead>\n",
       "  <tbody>\n",
       "    <tr>\n",
       "      <th>0</th>\n",
       "      <td>Pending</td>\n",
       "      <td>BREAST_BASAL</td>\n",
       "      <td>None</td>\n",
       "      <td>CCLF_cRCRF1048</td>\n",
       "      <td>Advanced breast cancer</td>\n",
       "      <td>ER/PR+, HER2-</td>\n",
       "      <td>Metastatic</td>\n",
       "      <td>Pleural effusion</td>\n",
       "    </tr>\n",
       "    <tr>\n",
       "      <th>1</th>\n",
       "      <td>Pending</td>\n",
       "      <td>BREAST_BASAL</td>\n",
       "      <td>None</td>\n",
       "      <td>CCLF_cRCRF1060</td>\n",
       "      <td>Invasive breast carcinoma</td>\n",
       "      <td>ER+/PR-, Her2 IHC 1+</td>\n",
       "      <td>Metastatic</td>\n",
       "      <td>Pleural effusion</td>\n",
       "    </tr>\n",
       "    <tr>\n",
       "      <th>2</th>\n",
       "      <td>Pending</td>\n",
       "      <td>BREAST_BASAL</td>\n",
       "      <td>None</td>\n",
       "      <td>CCLF_KL1337</td>\n",
       "      <td>Breast met to brain</td>\n",
       "      <td>Pending</td>\n",
       "      <td>Metastatic</td>\n",
       "      <td>Brain met resection</td>\n",
       "    </tr>\n",
       "    <tr>\n",
       "      <th>3</th>\n",
       "      <td>Pending</td>\n",
       "      <td>BREAST_BASAL/LUMINAL</td>\n",
       "      <td>None</td>\n",
       "      <td>CCLF_KL1310</td>\n",
       "      <td>Breast met to brain</td>\n",
       "      <td>Pending</td>\n",
       "      <td>Metastatic</td>\n",
       "      <td>None</td>\n",
       "    </tr>\n",
       "    <tr>\n",
       "      <th>4</th>\n",
       "      <td>Pending</td>\n",
       "      <td>BREAST_LUMINAL</td>\n",
       "      <td>ER+</td>\n",
       "      <td>CCLF_KL1271</td>\n",
       "      <td>Breast met to brain</td>\n",
       "      <td>Pending</td>\n",
       "      <td>Metastatic</td>\n",
       "      <td>Brain met resection</td>\n",
       "    </tr>\n",
       "    <tr>\n",
       "      <th>5</th>\n",
       "      <td>Pending</td>\n",
       "      <td>BREAST_LUMINAL</td>\n",
       "      <td>ER+</td>\n",
       "      <td>CCLF_KL1333</td>\n",
       "      <td>Invasive breast carcinoma</td>\n",
       "      <td>Pending</td>\n",
       "      <td>Metastatic</td>\n",
       "      <td>Cryopreserved tissue</td>\n",
       "    </tr>\n",
       "    <tr>\n",
       "      <th>6</th>\n",
       "      <td>Pending</td>\n",
       "      <td>BREAST_LUMINAL</td>\n",
       "      <td>ER+</td>\n",
       "      <td>CCLF_KL1351</td>\n",
       "      <td>Breast met to brain</td>\n",
       "      <td>Pending</td>\n",
       "      <td>Metastatic</td>\n",
       "      <td>Brain met resection</td>\n",
       "    </tr>\n",
       "    <tr>\n",
       "      <th>7</th>\n",
       "      <td>Pending</td>\n",
       "      <td>BREAST_BASAL</td>\n",
       "      <td>None</td>\n",
       "      <td>CCLF_cRCRF1092</td>\n",
       "      <td>Advanced breast cancer</td>\n",
       "      <td>ER/PR+, HER2 negative</td>\n",
       "      <td>Metastatic</td>\n",
       "      <td>Pleural effusion</td>\n",
       "    </tr>\n",
       "    <tr>\n",
       "      <th>8</th>\n",
       "      <td>Pending</td>\n",
       "      <td>BREAST_LUMINAL</td>\n",
       "      <td>HER2+</td>\n",
       "      <td>CCLF_KL1312</td>\n",
       "      <td>Breast met to brain</td>\n",
       "      <td>Pending</td>\n",
       "      <td>Metastatic</td>\n",
       "      <td>Brain met resection</td>\n",
       "    </tr>\n",
       "    <tr>\n",
       "      <th>9</th>\n",
       "      <td>Pending</td>\n",
       "      <td>FIBROBLAST</td>\n",
       "      <td>None</td>\n",
       "      <td>CCLF_cRCRF1038</td>\n",
       "      <td>Advanced breast cancer</td>\n",
       "      <td>ER/PR+, HER2-</td>\n",
       "      <td>Metastatic</td>\n",
       "      <td>Pleural effusion</td>\n",
       "    </tr>\n",
       "    <tr>\n",
       "      <th>10</th>\n",
       "      <td>Pending</td>\n",
       "      <td>OVARY</td>\n",
       "      <td>None</td>\n",
       "      <td>CCLF_cRCRF1086</td>\n",
       "      <td>Uterine carcinoma</td>\n",
       "      <td>ERBB2amp, FGF2amp</td>\n",
       "      <td>Metastatic</td>\n",
       "      <td>Pleural effusion</td>\n",
       "    </tr>\n",
       "    <tr>\n",
       "      <th>11</th>\n",
       "      <td>Pending</td>\n",
       "      <td>OVARY</td>\n",
       "      <td>None</td>\n",
       "      <td>CCLF_SK1007</td>\n",
       "      <td>Ovarian carcinosarcoma</td>\n",
       "      <td>None</td>\n",
       "      <td>Metastatic</td>\n",
       "      <td>Resection</td>\n",
       "    </tr>\n",
       "    <tr>\n",
       "      <th>12</th>\n",
       "      <td>TWIST_verified</td>\n",
       "      <td>FIBROBLAST</td>\n",
       "      <td>None</td>\n",
       "      <td>CCLF_cRCRF1058</td>\n",
       "      <td>Ovarian cancer</td>\n",
       "      <td>BRAF V600E</td>\n",
       "      <td>Metastatic</td>\n",
       "      <td>Ascites</td>\n",
       "    </tr>\n",
       "    <tr>\n",
       "      <th>13</th>\n",
       "      <td>TWIST_verified</td>\n",
       "      <td>OVARY</td>\n",
       "      <td>None</td>\n",
       "      <td>CCLF_cRCRF1004</td>\n",
       "      <td>Ovarian serious cystadenocarcinoma</td>\n",
       "      <td>NF2 Y192*, TP53 376-1G&gt;A</td>\n",
       "      <td>Metastatic</td>\n",
       "      <td>Pleural effusion</td>\n",
       "    </tr>\n",
       "    <tr>\n",
       "      <th>14</th>\n",
       "      <td>TWIST_verified</td>\n",
       "      <td>None</td>\n",
       "      <td>None</td>\n",
       "      <td>CCLF_cRCRF1040</td>\n",
       "      <td>Advanced breast cancer</td>\n",
       "      <td>ER/PR+, HER2 -</td>\n",
       "      <td>Metastatic</td>\n",
       "      <td>Pleural effusion</td>\n",
       "    </tr>\n",
       "    <tr>\n",
       "      <th>15</th>\n",
       "      <td>TWIST_verified</td>\n",
       "      <td>None</td>\n",
       "      <td>None</td>\n",
       "      <td>CCLF_KL1220</td>\n",
       "      <td>Breast met to brain</td>\n",
       "      <td>ER-/PR-, HER2-</td>\n",
       "      <td>Metastatic</td>\n",
       "      <td>Brain met resection</td>\n",
       "    </tr>\n",
       "    <tr>\n",
       "      <th>16</th>\n",
       "      <td>TWIST_verified</td>\n",
       "      <td>None</td>\n",
       "      <td>None</td>\n",
       "      <td>CCLF_KL1282</td>\n",
       "      <td>Ovarian met to brain</td>\n",
       "      <td>Pending</td>\n",
       "      <td>Metastatic</td>\n",
       "      <td>Brain met resection</td>\n",
       "    </tr>\n",
       "  </tbody>\n",
       "</table>\n",
       "</div>"
      ],
      "text/plain": [
       "       Genomic_Seq    RNA_Seq_cancertype RNA_Seq_marker         CCLF_ID  \\\n",
       "0          Pending          BREAST_BASAL           None  CCLF_cRCRF1048   \n",
       "1          Pending          BREAST_BASAL           None  CCLF_cRCRF1060   \n",
       "2          Pending          BREAST_BASAL           None     CCLF_KL1337   \n",
       "3          Pending  BREAST_BASAL/LUMINAL           None     CCLF_KL1310   \n",
       "4          Pending        BREAST_LUMINAL            ER+     CCLF_KL1271   \n",
       "5          Pending        BREAST_LUMINAL            ER+     CCLF_KL1333   \n",
       "6          Pending        BREAST_LUMINAL            ER+     CCLF_KL1351   \n",
       "7          Pending          BREAST_BASAL           None  CCLF_cRCRF1092   \n",
       "8          Pending        BREAST_LUMINAL          HER2+     CCLF_KL1312   \n",
       "9          Pending            FIBROBLAST           None  CCLF_cRCRF1038   \n",
       "10         Pending                 OVARY           None  CCLF_cRCRF1086   \n",
       "11         Pending                 OVARY           None     CCLF_SK1007   \n",
       "12  TWIST_verified            FIBROBLAST           None  CCLF_cRCRF1058   \n",
       "13  TWIST_verified                 OVARY           None  CCLF_cRCRF1004   \n",
       "14  TWIST_verified                  None           None  CCLF_cRCRF1040   \n",
       "15  TWIST_verified                  None           None     CCLF_KL1220   \n",
       "16  TWIST_verified                  None           None     CCLF_KL1282   \n",
       "\n",
       "                             Diagnosis           Subtype_patient  Tumor_type  \\\n",
       "0               Advanced breast cancer             ER/PR+, HER2-  Metastatic   \n",
       "1            Invasive breast carcinoma      ER+/PR-, Her2 IHC 1+  Metastatic   \n",
       "2                  Breast met to brain                   Pending  Metastatic   \n",
       "3                  Breast met to brain                   Pending  Metastatic   \n",
       "4                  Breast met to brain                   Pending  Metastatic   \n",
       "5            Invasive breast carcinoma                   Pending  Metastatic   \n",
       "6                  Breast met to brain                   Pending  Metastatic   \n",
       "7               Advanced breast cancer     ER/PR+, HER2 negative  Metastatic   \n",
       "8                  Breast met to brain                   Pending  Metastatic   \n",
       "9               Advanced breast cancer             ER/PR+, HER2-  Metastatic   \n",
       "10                   Uterine carcinoma         ERBB2amp, FGF2amp  Metastatic   \n",
       "11              Ovarian carcinosarcoma                      None  Metastatic   \n",
       "12                      Ovarian cancer                BRAF V600E  Metastatic   \n",
       "13  Ovarian serious cystadenocarcinoma  NF2 Y192*, TP53 376-1G>A  Metastatic   \n",
       "14              Advanced breast cancer            ER/PR+, HER2 -  Metastatic   \n",
       "15                 Breast met to brain            ER-/PR-, HER2-  Metastatic   \n",
       "16                Ovarian met to brain                   Pending  Metastatic   \n",
       "\n",
       "             Sample_type  \n",
       "0       Pleural effusion  \n",
       "1       Pleural effusion  \n",
       "2    Brain met resection  \n",
       "3                   None  \n",
       "4    Brain met resection  \n",
       "5   Cryopreserved tissue  \n",
       "6    Brain met resection  \n",
       "7       Pleural effusion  \n",
       "8    Brain met resection  \n",
       "9       Pleural effusion  \n",
       "10      Pleural effusion  \n",
       "11             Resection  \n",
       "12               Ascites  \n",
       "13      Pleural effusion  \n",
       "14      Pleural effusion  \n",
       "15   Brain met resection  \n",
       "16   Brain met resection  "
      ]
     },
     "execution_count": 536,
     "metadata": {},
     "output_type": "execute_result"
    }
   ],
   "source": [
    "cclf_orga_info"
   ]
  },
  {
   "cell_type": "code",
   "execution_count": null,
   "metadata": {},
   "outputs": [],
   "source": [
    "cclf_orga_info['sequencer'] = \"illumina Hiseq 2000\"\n",
    "cclf_orga_info['method'] = \"bulk\"\n",
    "cclf_orga_info['cell_type'] = \"organoid; cancer\"\n",
    "cclf_orga_info['reference']= \"hg38\"\n",
    "cclf_orga_info['ends']=\"paired end\"\n",
    "cclf_orga_info['dataset'] = \"cclf_orga\""
   ]
  },
  {
   "cell_type": "code",
   "execution_count": 480,
   "metadata": {
    "ExecuteTime": {
     "end_time": "2021-11-05T13:24:33.905741Z",
     "start_time": "2021-11-05T13:24:25.167741Z"
    },
    "scrolled": false
   },
   "outputs": [],
   "source": [
    "#cclf other\n",
    "cclfrna = dm.WorkspaceManager(\"nci-mimoun-bi-org/CCLF_RNA_2_0\").get_samples() #40,000x160\n",
    "\n",
    "cclfrna_anno = cclfrna[[\"external_id_rna\"]].replace({'NA': np.nan})\n",
    "\n",
    "cclfrna_annot = Sheets.from_files(MY_ID, MYSTORAGE_ID).get(\"https://docs.google.com/spreadsheets/d/1O9IV_v2vMbebkk_KDWu3LdKBQ16c8lThJKiiWvRxMUo\").sheets[2].to_frame()\n",
    "\n",
    "cclfrna_annot2 = Sheets.from_files(MY_ID, MYSTORAGE_ID).get(\"https://docs.google.com/spreadsheets/d/1O9IV_v2vMbebkk_KDWu3LdKBQ16c8lThJKiiWvRxMUo\").sheets[3].to_frame()\n",
    "# get it  from https://docs.google.com/spreadsheets/d/1O9IV_v2vMbebkk_KDWu3LdKBQ16c8lThJKiiWvRxMUo and get "
   ]
  },
  {
   "cell_type": "code",
   "execution_count": 392,
   "metadata": {
    "ExecuteTime": {
     "end_time": "2021-11-04T18:20:08.842140Z",
     "start_time": "2021-11-04T18:19:45.793943Z"
    },
    "scrolled": true
   },
   "outputs": [],
   "source": [
    "#files, failed, _, _, lowqual, _ = await expressions.postProcess(\"nci-mimoun-bi-org/CCLF_RNA_2_0\", \"all_samples\", samplesetToLoad = \"all_samples\", compute_enrichment=False, trancriptLevelCols = ['rsem_transcripts_expected_count', 'rsem_transcripts_tpm'], geneLevelCols = [\"rsem_genes_tpm\", \"rsem_genes_expected_count\"], save_output=\"data/\")\n",
    "#cclfrna = files['rsem_genes_tpm']\n",
    "cclfrna = pd.read_csv('data/expression_genes_tpm.csv', index_col=0)"
   ]
  },
  {
   "cell_type": "code",
   "execution_count": 481,
   "metadata": {
    "ExecuteTime": {
     "end_time": "2021-11-05T13:24:41.313005Z",
     "start_time": "2021-11-05T13:24:41.278059Z"
    }
   },
   "outputs": [],
   "source": [
    "ina = (cclfrna_annot2['Passage Number'].isna() | (cclfrna_annot2['Passage Number']==\"Unknown\")) & ~(cclfrna_annot2[\"Passage Number on Receipt\"].isna() | (cclfrna_annot2[\"Passage Number on Receipt\"]==\"Unknown\"))\n",
    "cclfrna_annot2.loc[ina, \"Passage Number\"] = cclfrna_annot2.loc[ina, \"Passage Number on Receipt\"].values\n",
    "\n",
    "ina = (cclfrna_annot2['Gender'].isna() | (cclfrna_annot2['Gender']==\"Unknown\")) & ~(cclfrna_annot2[\"Gender.1\"].isna() | (cclfrna_annot2[\"Gender.1\"]==\"Unknown\"))\n",
    "cclfrna_annot2.loc[ina, \"genderA\"] = cclfrna_annot2.loc[ina, \"Gender.1\"].values\n",
    "\n",
    "ina = (cclfrna_annot2['Gender'].isna() | (cclfrna_annot2['Gender']==\"Unknown\")) & ~(cclfrna_annot2[\"FP Gender\"].isna() | (cclfrna_annot2[\"FP Gender\"]==\"Unknown\"))\n",
    "cclfrna_annot2.loc[ina, \"Gender\"] = cclfrna_annot2.loc[ina, \"FP Gender\"].values\n",
    "\n",
    "ina = (cclfrna_annot2['Race'].isna() | (cclfrna_annot2['Race']==\"Unknown\")) & ~(cclfrna_annot2[\"Ethnicity\"].isna() | (cclfrna_annot2[\"Ethnicity\"]==\"Unknown\"))\n",
    "cclfrna_annot2.loc[ina, \"Race\"] = cclfrna_annot2.loc[ina, \"Ethnicity\"].values\n"
   ]
  },
  {
   "cell_type": "code",
   "execution_count": 537,
   "metadata": {
    "ExecuteTime": {
     "end_time": "2021-11-05T18:51:32.117929Z",
     "start_time": "2021-11-05T18:51:32.090942Z"
    }
   },
   "outputs": [
    {
     "data": {
      "text/plain": [
       "Age                              NaN\n",
       "Gender                           NaN\n",
       "Sample Type                   Normal\n",
       "Tumor Type                       NaN\n",
       "Tissue Site                      NaN\n",
       "Tumor Percent                    NaN\n",
       "Primary Disease    Mouse Fibroblasts\n",
       "Race                             NaN\n",
       "Culture Medium                   NaN\n",
       "Passage Number                   NaN\n",
       "index                            NaN\n",
       "Name: 3T3/J2_CL, dtype: object"
      ]
     },
     "execution_count": 537,
     "metadata": {},
     "output_type": "execute_result"
    }
   ],
   "source": [
    "cclfrna_annot2.iloc[0]"
   ]
  },
  {
   "cell_type": "code",
   "execution_count": 538,
   "metadata": {
    "ExecuteTime": {
     "end_time": "2021-11-05T18:51:41.943692Z",
     "start_time": "2021-11-05T18:51:41.918535Z"
    }
   },
   "outputs": [
    {
     "data": {
      "text/plain": [
       "Sequencing on Tissue or Cell model? (MT confirm)                                           Cell model\n",
       "External ID for BAM                                                                         AB002T_BT\n",
       "Product                                             Tru-Seq Strand Specific Large Insert RNA Seque...\n",
       "Original Material Type                                                        Cells:Cell Line, Viable\n",
       "Collaborator Participant ID                                                                     AB002\n",
       "Aggregated                                                                                        0.0\n",
       "Actual Seq Technology                                                                             NaN\n",
       "Contamination %                                                                                  1.07\n",
       "Age                                                                                           Unknown\n",
       "Gender                                                                                            NaN\n",
       "Sample Type                                                                                     Tumor\n",
       "Tumor Type                                                                                    Primary\n",
       "Tissue Site                                                                                 Esophagus\n",
       "Tumor Percent                                                                                     NaN\n",
       "Primary Disease                                                                        Adenocarcinoma\n",
       "Race                                                                                              NaN\n",
       "Culture Medium                                                                                    NaN\n",
       "Passage Number                                                                                    NaN\n",
       "index                                                                                             NaN\n",
       "Name: AB002T_BT, dtype: object"
      ]
     },
     "execution_count": 538,
     "metadata": {},
     "output_type": "execute_result"
    }
   ],
   "source": [
    "cclfrna_annot.iloc[0]"
   ]
  },
  {
   "cell_type": "code",
   "execution_count": 482,
   "metadata": {
    "ExecuteTime": {
     "end_time": "2021-11-05T13:24:48.484020Z",
     "start_time": "2021-11-05T13:24:48.457543Z"
    }
   },
   "outputs": [],
   "source": [
    "cclfrna_annot2 = cclfrna_annot2.set_index('Collaborator Sample ID')[[\"Age\",\n",
    "\"Gender\",\n",
    "\"Tumor Type\",\n",
    "\"Tissue Site\",\n",
    "\"Primary Disease\",\n",
    "\"Race\",\n",
    "\"Culture Medium\",\n",
    "\"Passage Number\",]]"
   ]
  },
  {
   "cell_type": "code",
   "execution_count": 483,
   "metadata": {
    "ExecuteTime": {
     "end_time": "2021-11-05T13:24:55.581917Z",
     "start_time": "2021-11-05T13:24:55.558070Z"
    }
   },
   "outputs": [],
   "source": [
    "cclfrna_annot = cclfrna_annot[[\n",
    " 'Sequencing on Tissue or Cell model? (MT confirm)',\n",
    " 'External ID for BAM',\n",
    " 'Product',\n",
    " 'RIN',\n",
    " 'Collaborator Sample ID',\n",
    " 'Original Material Type',\n",
    " 'Collaborator Participant ID',\n",
    " 'Aggregated',\n",
    " 'Actual Seq Technology',\n",
    " 'Contamination %',\n",
    "]].set_index('Collaborator Sample ID', drop=True)"
   ]
  },
  {
   "cell_type": "code",
   "execution_count": 522,
   "metadata": {
    "ExecuteTime": {
     "end_time": "2021-11-05T15:53:19.704107Z",
     "start_time": "2021-11-05T15:53:19.183943Z"
    }
   },
   "outputs": [],
   "source": [
    "for val in h.dups(cclfrna_annot2.index):\n",
    "    for i in range(len(cclfrna_annot2.loc[val])-1):\n",
    "        if cclfrna_annot2.loc[val].iloc[0].isna().sum() > cclfrna_annot2.loc[val].iloc[i+1].isna().sum():\n",
    "            cclfrna_annot2.iloc[np.argwhere(cclfrna_annot2.index == val).flatten()[0]] = cclfrna_annot2.loc[val].iloc[i+1].values\n",
    "cclfrna_annot2 = cclfrna_annot2[~cclfrna_annot2.index.duplicated(keep='first')]"
   ]
  },
  {
   "cell_type": "code",
   "execution_count": 525,
   "metadata": {
    "ExecuteTime": {
     "end_time": "2021-11-05T15:54:10.486172Z",
     "start_time": "2021-11-05T15:54:10.446749Z"
    }
   },
   "outputs": [],
   "source": [
    "for val in h.dups(cclfrna_annot.index):\n",
    "    for i in range(len(cclfrna_annot.loc[val])-1):\n",
    "        if cclfrna_annot.loc[val].iloc[0].isna().sum() > cclfrna_annot.loc[val].iloc[i+1].isna().sum():\n",
    "            cclfrna_annot.iloc[np.argwhere(cclfrna_annot.index == val).flatten()[0]] = cclfrna_annot.loc[val].iloc[i+1].values\n",
    "cclfrna_annot = cclfrna_annot[~cclfrna_annot.index.duplicated(keep='first')]"
   ]
  },
  {
   "cell_type": "code",
   "execution_count": 526,
   "metadata": {
    "ExecuteTime": {
     "end_time": "2021-11-05T15:54:17.519504Z",
     "start_time": "2021-11-05T15:54:17.495062Z"
    }
   },
   "outputs": [],
   "source": [
    "cclfrna_annot = pd.concat([cclfrna_annot, cclfrna_annot2], axis=1)"
   ]
  },
  {
   "cell_type": "code",
   "execution_count": 528,
   "metadata": {
    "ExecuteTime": {
     "end_time": "2021-11-05T15:55:12.839152Z",
     "start_time": "2021-11-05T15:55:11.443200Z"
    }
   },
   "outputs": [],
   "source": [
    "for i, val in cclfrna_annot.iterrows():\n",
    "    cclfrna_anno.loc[cclfrna_anno.external_id_rna==i, cclfrna_annot.columns] = val.values\n",
    "del cclfrna_annot"
   ]
  },
  {
   "cell_type": "code",
   "execution_count": null,
   "metadata": {},
   "outputs": [],
   "source": [
    "cclfrna_anno['reference']= \"hg38\"\n",
    "cclfrna_anno['ends']=\"paired end\"\n",
    "cclfrna_anno['sequencer']=\"Illumina HiSeq 2000\"\n",
    "cclfrna_anno['method'] = \"bulk\"\n",
    "cclfrna_anno['dataset'] = \"cclf\""
   ]
  },
  {
   "cell_type": "markdown",
   "metadata": {},
   "source": [
    "## MET500 and PDXs"
   ]
  },
  {
   "cell_type": "code",
   "execution_count": 542,
   "metadata": {
    "ExecuteTime": {
     "end_time": "2021-11-05T19:04:26.114792Z",
     "start_time": "2021-11-05T19:04:20.128143Z"
    },
    "scrolled": true
   },
   "outputs": [
    {
     "name": "stdout",
     "output_type": "stream",
     "text": [
      "No dataset version provided. Using version 1.\n",
      "No dataset version provided. Using version 1.\n",
      "No dataset version provided. Using version 1.\n",
      "No dataset version provided. Using version 2.\n",
      "No dataset version provided. Using version 2.\n",
      "No dataset version provided. Using version 2.\n",
      "No dataset version provided. Using version 2.\n"
     ]
    }
   ],
   "source": [
    "# met500 \n",
    "met500_meta = tc.get(name='met500-fc3c', file='met500_meta')\n",
    "met500_TPM = tc.get(name='met500-fc3c', file='met500_TPM') #20,979x868 matrix\n",
    "\n",
    "#Novartis_PDX\n",
    "Novartis_PDX_ann = tc.get(name='pdx-data-3d29', file='Novartis_PDX_ann')\n",
    "Novartis_PDX_TPM = tc.get(name='pdx-data-3d29', file='Novartis_PDX_TPM').T # 38,087x445\n",
    "\n",
    "#pediatric_PDX\n",
    "pediatric_PDX_ann = tc.get(name='pdx-data-3d29', file='pediatric_PDX_ann')\n",
    "pediatric_PDX_TPM = tc.get(name='pdx-data-3d29', file='pediatric_PDX_TPM') #80,000x250"
   ]
  },
  {
   "cell_type": "code",
   "execution_count": 544,
   "metadata": {
    "ExecuteTime": {
     "end_time": "2021-11-05T19:11:16.276168Z",
     "start_time": "2021-11-05T19:11:16.247366Z"
    },
    "scrolled": true
   },
   "outputs": [
    {
     "data": {
      "text/plain": [
       "Sample_id        ES_5001-capt-SI_5013-C0LAMACXX\n",
       "sample_type                               tumor\n",
       "sample_source                           ES_5001\n",
       "dataset                                    mctp\n",
       "tissue                                   breast\n",
       "cohort                                     BRCA\n",
       "run.id           ES_5001-capt-SI_5013-C0LAMACXX\n",
       "idx                                         461\n",
       "test                                      False\n",
       "tc                                         0.93\n",
       "biopsy_tissue                             brain\n",
       "Name: 0, dtype: object"
      ]
     },
     "execution_count": 544,
     "metadata": {},
     "output_type": "execute_result"
    }
   ],
   "source": [
    "met500_meta.iloc[0]"
   ]
  },
  {
   "cell_type": "code",
   "execution_count": 606,
   "metadata": {
    "ExecuteTime": {
     "end_time": "2021-11-05T20:48:40.176744Z",
     "start_time": "2021-11-05T20:48:40.148382Z"
    }
   },
   "outputs": [],
   "source": [
    "tcga_dict = {\n",
    "\"LAML\":\t\"Acute Myeloid Leukemia\",\n",
    "\"ACC\":\t\"Adrenocortical carcinoma\",\n",
    "\"BLCA\":\t\"Bladder Urothelial Carcinoma\",\n",
    "\"BOCA\":\t\"Bone Cancer\",\n",
    "\"LGG\":\t\"Brain Lower Grade Glioma\",\n",
    "\"BRCA\":\t\"Breast invasive carcinoma\",\n",
    "\"CESC\":\t\"Cervical squamous cell carcinoma and endocervical adenocarcinoma\",\n",
    "\"CHOL\":\t\"Cholangiocarcinoma\",\n",
    "\"CLLE\":\t\"Chronic Lymphocytic Leukemia\",\n",
    "\"CMDI\":\t\"Chronic Myeloid Disorders\",\n",
    "\"COAD\":\t\"Colon adenocarcinoma\",\n",
    "\"COLO\":\t\"Colorectal Cancer\",\n",
    "\"COADREAD\":\t\"Colorectal cancer\",\n",
    "\"EOPC\":\t\"Early Onset Prostate Cancer\",\n",
    "\"ESAD\":\t\"Esophageal Adenocarcinoma\",\n",
    "\"ESCA\":\t\"Esophageal carcinoma\",\n",
    "\"CHOL\":\t\"Gallbladder cancer\",\n",
    "\"GBM\":\t\"Glioblastoma multiforme\",\n",
    "\"HNSC\":\t\"Head and Neck squamous cell carcinoma\",\n",
    "\"KDNY\":\t\"Kidney Cancer\",\n",
    "\"KICH\":\t\"Kidney Chromophobe\",\n",
    "\"KIRC\":\t\"Kidney renal clear cell carcinoma\",\n",
    "\"KIRP\":\t\"Kidney renal papillary cell carcinoma\",\n",
    "\"LIRI\":\t\"Liver Cancer\",\n",
    "\"LICA\":\t\"Liver Cancer\",\n",
    "\"LINC\":\t\"Liver Cancer\",\n",
    "\"HCC\":\t\"Liver hepatocellular carcinoma\",\n",
    "\"LIHC\":\t\"Liver hepatocellular carcinoma\",\n",
    "\"LGG\":\t\"Lower Grade GLioma\",\n",
    "\"LUNG\":\t\"Lung Cancer\",\n",
    "\"LUAD\":\t\"Lung adenocarcinoma\",\n",
    "\"LUSC\":\t\"Lung squamous cell carcinoma\",\n",
    "\"DLBC\":\t\"Lymphoid Neoplasm Diffuse Large B-cell Lymphoma\",\n",
    "\"MCTP\":\t\"MCTP\",\n",
    "\"MALY\":\t\"Malignant Lymphoma\",\n",
    "\"MESO\":\t\"Mesothelioma\",\n",
    "\"NBL\":\t\"Neuroblastoma\",\n",
    "\"ORCA\":\t\"Oral Cancer\",\n",
    "\"MISC\":\t\"Other Cancer\",\n",
    "\"OV\":\t\"Ovarian serous cystadenocarcinoma\",\n",
    "\"PACA\":\t\"Pancreatic Cancer\",\n",
    "\"PAEN\":\t\"Pancreatic Cancer Endocrine neoplasms\",\n",
    "\"PAAD\":\t\"Pancreatic adenocarcinoma\",\n",
    "\"PBCA\":\t\"Pediatric Brain Cancer\",\n",
    "\"PCPG\":\t\"Pheochromocytoma and Paraganglioma\",\n",
    "\"PRAD\":\t\"Prostate adenocarcinoma\",\n",
    "\"READ\":\t\"Rectum adenocarcinoma\",\n",
    "\"RECA\":\t\"Renal Cancer\",\n",
    "\"SARC\":\t\"Sarcoma\",\n",
    "\"SECR\":\t\"Secretory Cancer\",\n",
    "\"SKCM\":\t\"Skin Cutaneous Melanoma\",\n",
    "\"STAD\":\t\"Stomach adenocarcinoma\",\n",
    "\"TGCT\":\t\"Testicular Germ Cell Tumor\",\n",
    "\"TGCT\":\t\"Testicular Germ Cell Tumors\",\n",
    "\"THYM\":\t\"Thymoma\",\n",
    "\"THYM\":\t\"Thymoma\",\n",
    "\"THCA\":\t\"Thyroid carcinoma\",\n",
    "\"UCS\":\t\"Uterine Carcinosarcoma\",\n",
    "\"UCEC\":\t\"Uterine Corpus Endometrial Carcinoma\",\n",
    "\"UVM\":\t\"Uveal Melanoma\",\n",
    "\"ACC\":\t\"adrenocortical carcinoma\",\n",
    "}"
   ]
  },
  {
   "cell_type": "code",
   "execution_count": 607,
   "metadata": {
    "ExecuteTime": {
     "end_time": "2021-11-05T20:48:49.148869Z",
     "start_time": "2021-11-05T20:48:49.118648Z"
    }
   },
   "outputs": [],
   "source": [
    "met500_meta = met500_meta.replace({\"cohort\": tcga_dict})"
   ]
  },
  {
   "cell_type": "code",
   "execution_count": null,
   "metadata": {},
   "outputs": [],
   "source": [
    "met500_meta = met500_meta.rename(columns={**rename, **{'subtype': \"disease_type\"}}).set_index('sample_id', drop=True)[rename.values()]"
   ]
  },
  {
   "cell_type": "code",
   "execution_count": null,
   "metadata": {},
   "outputs": [],
   "source": [
    "met500_meta['sequencer'] = \"Illumina HiSeq 2000\"\n",
    "met500_meta['method'] = \"bulk\"\n",
    "met500_meta['cell_type'] = \"tumor\"\n",
    "met500_meta['reference']= \"hg38\"\n",
    "met500_meta['ends']=\"paired end\"\n",
    "met500_meta['metastatic/primary'] = \"metastatic\"\n",
    "met500_meta['dataset'] = \"met500\""
   ]
  },
  {
   "cell_type": "code",
   "execution_count": 347,
   "metadata": {
    "ExecuteTime": {
     "end_time": "2021-11-04T17:25:51.205859Z",
     "start_time": "2021-11-04T17:25:51.166956Z"
    }
   },
   "outputs": [
    {
     "data": {
      "text/plain": [
       "sampleID                                                                                  ALL-102\n",
       "lineage                                                                                     blood\n",
       "subtype                                                                                       ALL\n",
       "Histology                                                                                     ALL\n",
       "Histology.Detailed                                                                     Ph-likeALL\n",
       "Histology-Detailed2                                                                    Ph-likeALL\n",
       "Molecular-Subtype-Brain                                                                      None\n",
       "PI                                                                                           Lock\n",
       "Sex                                                                                          Male\n",
       "Phase                                                                                   Diagnosis\n",
       "Age                                                                                          3.08\n",
       "Reported_Ethnicity                                                                        Unknown\n",
       "Inferred_Ethnicity                                                                       European\n",
       "PC1                                                                                      0.016946\n",
       "PC2                                                                                      0.029382\n",
       "PC3                                                                                      0.005415\n",
       "Site.of.Initial.Tumor                                                                     Unknown\n",
       "Site.of.Specimen                                                                      Bone marrow\n",
       "New Histopathology                                                                      Not noted\n",
       "Stage.of.Disease                                                                          Unknown\n",
       "Risk.Group                                                                                   None\n",
       "COG studies                                                                               Unknown\n",
       "Prior Therapy                                                                         No Prior Tx\n",
       "Patient.last.alive.year                                                                      2009\n",
       "Patient.OS.to.last.alive.date.days.                                                          2443\n",
       "Patient.EFS.from.Dx.to.1st.Progression.days.                                                  827\n",
       "Time.from.Dx.to.sample.for.model.days.                                                          0\n",
       "Other_info1                                     Same patient as ALL-105 (rel1) and ALL-115 (rel3)\n",
       "type                                                                                          PDX\n",
       "Name: 0, dtype: object"
      ]
     },
     "execution_count": 347,
     "metadata": {},
     "output_type": "execute_result"
    }
   ],
   "source": [
    "pediatric_PDX_ann.iloc[0]"
   ]
  },
  {
   "cell_type": "code",
   "execution_count": 70,
   "metadata": {
    "ExecuteTime": {
     "end_time": "2021-10-18T16:58:37.201465Z",
     "start_time": "2021-10-18T16:58:37.162448Z"
    },
    "scrolled": true
   },
   "outputs": [
    {
     "data": {
      "text/plain": [
       "[('ALL-105', 'ALL-102'),\n",
       " ('ALL-102', 'ALL-105'),\n",
       " '',\n",
       " '',\n",
       " '',\n",
       " '',\n",
       " ('ALL-102', 'ALL-115'),\n",
       " '',\n",
       " '',\n",
       " '',\n",
       " ('ALL-46', 'ALL-121'),\n",
       " '',\n",
       " ('ALL-58', 'ALL-123'),\n",
       " '',\n",
       " '',\n",
       " '',\n",
       " '',\n",
       " '',\n",
       " '',\n",
       " '',\n",
       " '',\n",
       " ('ALL-121', 'ALL-46'),\n",
       " '',\n",
       " '',\n",
       " '',\n",
       " '',\n",
       " '',\n",
       " ('ALL-123', 'ALL-58'),\n",
       " '',\n",
       " ('ALL-25', 'ALL-61'),\n",
       " '',\n",
       " '',\n",
       " ('ALL-81', 'ALL-80'),\n",
       " ('ALL-80', 'ALL-81'),\n",
       " '',\n",
       " ('ALL-32', 'ALL-90'),\n",
       " '',\n",
       " '',\n",
       " '',\n",
       " '',\n",
       " '',\n",
       " '',\n",
       " '',\n",
       " '',\n",
       " '',\n",
       " '',\n",
       " '',\n",
       " ('ALL-61', 'ALL-25'),\n",
       " '',\n",
       " '',\n",
       " '',\n",
       " ('ALL-90', 'ALL-32'),\n",
       " '',\n",
       " '',\n",
       " '',\n",
       " '',\n",
       " '',\n",
       " '',\n",
       " ('ALL-83', 'ALL-82'),\n",
       " ('ALL-82', 'ALL-83'),\n",
       " '',\n",
       " '',\n",
       " '',\n",
       " '',\n",
       " '',\n",
       " '',\n",
       " '',\n",
       " '',\n",
       " '',\n",
       " '',\n",
       " '',\n",
       " '',\n",
       " '',\n",
       " '',\n",
       " '',\n",
       " '',\n",
       " ('COG-N-453x', 'COG-N-452x'),\n",
       " ('COG-N-452x', 'COG-N-453x'),\n",
       " '',\n",
       " '',\n",
       " '',\n",
       " '',\n",
       " '',\n",
       " '',\n",
       " '',\n",
       " '',\n",
       " '',\n",
       " '',\n",
       " '',\n",
       " ('COG-N-623x', 'COG-N-603x'),\n",
       " ('COG-N-618x', 'COG-N-619x'),\n",
       " '',\n",
       " ('COG-N-603x', 'COG-N-623x'),\n",
       " '',\n",
       " '',\n",
       " '',\n",
       " '',\n",
       " '',\n",
       " '',\n",
       " '',\n",
       " '',\n",
       " '',\n",
       " '',\n",
       " '',\n",
       " '',\n",
       " '',\n",
       " '',\n",
       " '',\n",
       " '',\n",
       " '',\n",
       " '',\n",
       " '',\n",
       " '',\n",
       " '',\n",
       " '',\n",
       " '',\n",
       " '',\n",
       " ('9850PNET; recurrent', 'IC-22909PNET-rIII'),\n",
       " '',\n",
       " '',\n",
       " '',\n",
       " '',\n",
       " '',\n",
       " '',\n",
       " '',\n",
       " '',\n",
       " '',\n",
       " '',\n",
       " '',\n",
       " '',\n",
       " '',\n",
       " '',\n",
       " '',\n",
       " '',\n",
       " '',\n",
       " '',\n",
       " '',\n",
       " '',\n",
       " '',\n",
       " '',\n",
       " '',\n",
       " '',\n",
       " '',\n",
       " '',\n",
       " '',\n",
       " '',\n",
       " ('22909PNET; primary', 'ICb-9850PNET'),\n",
       " '',\n",
       " '',\n",
       " '',\n",
       " '',\n",
       " '',\n",
       " '',\n",
       " '',\n",
       " '',\n",
       " '',\n",
       " '',\n",
       " '',\n",
       " '',\n",
       " '',\n",
       " '',\n",
       " '',\n",
       " '',\n",
       " '',\n",
       " '',\n",
       " '',\n",
       " '',\n",
       " '',\n",
       " '',\n",
       " '',\n",
       " '',\n",
       " '',\n",
       " '',\n",
       " '',\n",
       " '',\n",
       " ('NCH-CA-2', 'NCH-CA-1'),\n",
       " ('NCH-CA-1', 'NCH-CA-2'),\n",
       " '',\n",
       " '',\n",
       " '',\n",
       " '',\n",
       " '',\n",
       " '',\n",
       " '',\n",
       " '',\n",
       " '',\n",
       " '',\n",
       " '',\n",
       " '',\n",
       " '',\n",
       " '',\n",
       " '',\n",
       " '',\n",
       " '',\n",
       " '',\n",
       " '',\n",
       " '',\n",
       " '',\n",
       " '',\n",
       " ('OS-36 and OS-36-SJ', 'OS-32'),\n",
       " '',\n",
       " ('OS-34-SJ', 'OS-34'),\n",
       " ('OS-34', 'OS-34-SJ'),\n",
       " '',\n",
       " '',\n",
       " '',\n",
       " '',\n",
       " '',\n",
       " '',\n",
       " '',\n",
       " '',\n",
       " '',\n",
       " '',\n",
       " '',\n",
       " '',\n",
       " '',\n",
       " '',\n",
       " '',\n",
       " '',\n",
       " '',\n",
       " '',\n",
       " '',\n",
       " '',\n",
       " '',\n",
       " '',\n",
       " '',\n",
       " '',\n",
       " ('Rh-30R', 'Rh-30'),\n",
       " ('Rh-30', 'Rh-30R'),\n",
       " '',\n",
       " '',\n",
       " '',\n",
       " '',\n",
       " '',\n",
       " '',\n",
       " '',\n",
       " '',\n",
       " '',\n",
       " '',\n",
       " '',\n",
       " '',\n",
       " '',\n",
       " '',\n",
       " '']"
      ]
     },
     "execution_count": 70,
     "metadata": {},
     "output_type": "execute_result"
    }
   ],
   "source": [
    "[(i.split('me patient as ')[-1].split(' (')[0],v) if type(i) is str and 'ame patient' in i else '' for v, i in pediatric_PDX_ann[[\"sampleID\",\"Other_info1\"]].values]"
   ]
  },
  {
   "cell_type": "code",
   "execution_count": null,
   "metadata": {},
   "outputs": [],
   "source": [
    "pediatric_PDX_ann['participant_id'] = pediatric_PDX_ann.index\n",
    "\n",
    "#created frrom manual inspection\n",
    "samepatient = [('NCH-CA-2', 'NCH-CA-1'), ('ALL-105', 'ALL-102', \"ALL-115\"), ('ALL-46', 'ALL-121'), ('ALL-25', 'ALL-61'), ('ALL-81', 'ALL-80'), ('ALL-32', 'ALL-90'), ('ALL-58', 'ALL-123'), ('ALL-82', 'ALL-83'), (\"COG-N-623x\", \"COG-N-603x\"), (\"COG-N-453x\",\"COG-N-452x\"), (\"COG-N-618x\", \"COG-N-619x\"), ('22909PNET', '9850PNET'), ('OS-34', 'OS-34-SJ'), ('OS-36', 'OS-36-SJ', 'OS-32'),  ('Rh-30R', 'Rh-30')]\n",
    "\n",
    "for val in samepatient:\n",
    "    for i in val[1:]:\n",
    "        pediatric_PDX_ann.loc[i, 'participant_id']=val[0]\n",
    "        \n",
    "pediatric_PDX_ann['age'] = ['adult' if i =='Adult' else 'child' for i in pediatric_PDX_ann['Other_info1']]\n",
    "\n",
    "pediatric_PDX_ann.rename(columns={**rename, **{'subtype': \"disease_type\"}})[rename.values()]"
   ]
  },
  {
   "cell_type": "code",
   "execution_count": null,
   "metadata": {},
   "outputs": [],
   "source": [
    "pediatric_PDX_ann['sequencer'] = \"Illumina HiSeq 2000\"\n",
    "pediatric_PDX_ann['align'] = \"BWA\"\n",
    "pediatric_PDX_ann['method'] = \"bulk\"\n",
    "pediatric_PDX_ann['reference']= \"hg19\"\n",
    "pediatric_PDX_ann['ends']=\"paired end\"\n",
    "pediatric_PDX_ann['dataset'] = \"pediatric_PDX\""
   ]
  },
  {
   "cell_type": "code",
   "execution_count": 350,
   "metadata": {
    "ExecuteTime": {
     "end_time": "2021-11-04T17:28:58.855395Z",
     "start_time": "2021-11-04T17:28:58.830961Z"
    }
   },
   "outputs": [
    {
     "data": {
      "text/plain": [
       "sampleID           0931HXXTM\n",
       "lineage             pancreas\n",
       "subtype     ductal_carcinoma\n",
       "type                     PDX\n",
       "Name: 0, dtype: object"
      ]
     },
     "execution_count": 350,
     "metadata": {},
     "output_type": "execute_result"
    }
   ],
   "source": [
    "Novartis_PDX_ann.iloc[0]"
   ]
  },
  {
   "cell_type": "code",
   "execution_count": null,
   "metadata": {},
   "outputs": [],
   "source": [
    "Novartis_PDX_ann = Novartis_PDX_ann.rename(columns=rename).set_index('sample_id', drop=True)"
   ]
  },
  {
   "cell_type": "code",
   "execution_count": null,
   "metadata": {},
   "outputs": [],
   "source": [
    "Novartis_PDX_ann['sequencer'] = \"Illumina HiSeq 2000\"\n",
    "Novartis_PDX_ann['method'] = \"bulk\"\n",
    "Novartis_PDX_ann['align'] = \"STAR\"\n",
    "Novartis_PDX_ann['reference']= \"hg19\"\n",
    "Novartis_PDX_ann['ends']=\"paired end\"\n",
    "Novartis_PDX_ann['dataset'] = \"Novartis_PDX\""
   ]
  },
  {
   "cell_type": "markdown",
   "metadata": {},
   "source": [
    "## tumor inf elife"
   ]
  },
  {
   "cell_type": "code",
   "execution_count": 13,
   "metadata": {
    "ExecuteTime": {
     "end_time": "2021-11-16T19:30:03.579317Z",
     "start_time": "2021-11-16T19:30:03.201090Z"
    }
   },
   "outputs": [],
   "source": [
    "elife_tumorinf = tc.get(name='tumor-infiltration-3307', version=1, file='elife_tumorinf')"
   ]
  },
  {
   "cell_type": "code",
   "execution_count": 14,
   "metadata": {
    "ExecuteTime": {
     "end_time": "2021-11-16T19:31:04.073472Z",
     "start_time": "2021-11-16T19:31:04.008084Z"
    }
   },
   "outputs": [
    {
     "data": {
      "text/html": [
       "<div>\n",
       "<style scoped>\n",
       "    .dataframe tbody tr th:only-of-type {\n",
       "        vertical-align: middle;\n",
       "    }\n",
       "\n",
       "    .dataframe tbody tr th {\n",
       "        vertical-align: top;\n",
       "    }\n",
       "\n",
       "    .dataframe thead th {\n",
       "        text-align: right;\n",
       "    }\n",
       "</style>\n",
       "<table border=\"1\" class=\"dataframe\">\n",
       "  <thead>\n",
       "    <tr style=\"text-align: right;\">\n",
       "      <th></th>\n",
       "      <th>Bcells</th>\n",
       "      <th>CAFs</th>\n",
       "      <th>CD4_Tcells</th>\n",
       "      <th>CD8_Tcells</th>\n",
       "      <th>Endothelial</th>\n",
       "      <th>Macrophages</th>\n",
       "      <th>NKcells</th>\n",
       "    </tr>\n",
       "  </thead>\n",
       "  <tbody>\n",
       "    <tr>\n",
       "      <th>A1BG</th>\n",
       "      <td>7.75210</td>\n",
       "      <td>4.47890</td>\n",
       "      <td>4.6702</td>\n",
       "      <td>5.02000</td>\n",
       "      <td>0.0000</td>\n",
       "      <td>3.46370</td>\n",
       "      <td>1.74260</td>\n",
       "    </tr>\n",
       "    <tr>\n",
       "      <th>A1BG-AS1</th>\n",
       "      <td>0.27272</td>\n",
       "      <td>28.98800</td>\n",
       "      <td>6.7471</td>\n",
       "      <td>11.76400</td>\n",
       "      <td>0.0000</td>\n",
       "      <td>2.36580</td>\n",
       "      <td>8.92140</td>\n",
       "    </tr>\n",
       "    <tr>\n",
       "      <th>A1CF</th>\n",
       "      <td>0.94832</td>\n",
       "      <td>0.03625</td>\n",
       "      <td>0.4978</td>\n",
       "      <td>0.56538</td>\n",
       "      <td>0.2582</td>\n",
       "      <td>0.13695</td>\n",
       "      <td>0.25936</td>\n",
       "    </tr>\n",
       "    <tr>\n",
       "      <th>A2M</th>\n",
       "      <td>0.14435</td>\n",
       "      <td>184.45000</td>\n",
       "      <td>2.9531</td>\n",
       "      <td>15.38600</td>\n",
       "      <td>1575.2000</td>\n",
       "      <td>418.67000</td>\n",
       "      <td>8.94110</td>\n",
       "    </tr>\n",
       "    <tr>\n",
       "      <th>A2M-AS1</th>\n",
       "      <td>0.00000</td>\n",
       "      <td>0.34500</td>\n",
       "      <td>7.3420</td>\n",
       "      <td>11.59100</td>\n",
       "      <td>8.6042</td>\n",
       "      <td>0.35669</td>\n",
       "      <td>0.21549</td>\n",
       "    </tr>\n",
       "    <tr>\n",
       "      <th>...</th>\n",
       "      <td>...</td>\n",
       "      <td>...</td>\n",
       "      <td>...</td>\n",
       "      <td>...</td>\n",
       "      <td>...</td>\n",
       "      <td>...</td>\n",
       "      <td>...</td>\n",
       "    </tr>\n",
       "    <tr>\n",
       "      <th>ZYG11A</th>\n",
       "      <td>13.37900</td>\n",
       "      <td>3.64120</td>\n",
       "      <td>18.2580</td>\n",
       "      <td>18.17900</td>\n",
       "      <td>9.0574</td>\n",
       "      <td>7.47320</td>\n",
       "      <td>16.04700</td>\n",
       "    </tr>\n",
       "    <tr>\n",
       "      <th>ZYG11B</th>\n",
       "      <td>18.64800</td>\n",
       "      <td>10.59500</td>\n",
       "      <td>15.2930</td>\n",
       "      <td>13.80700</td>\n",
       "      <td>5.1119</td>\n",
       "      <td>5.00460</td>\n",
       "      <td>8.10280</td>\n",
       "    </tr>\n",
       "    <tr>\n",
       "      <th>ZYX</th>\n",
       "      <td>31.07300</td>\n",
       "      <td>205.32000</td>\n",
       "      <td>79.5490</td>\n",
       "      <td>64.75700</td>\n",
       "      <td>70.3870</td>\n",
       "      <td>206.18000</td>\n",
       "      <td>102.91000</td>\n",
       "    </tr>\n",
       "    <tr>\n",
       "      <th>ZZEF1</th>\n",
       "      <td>5.69700</td>\n",
       "      <td>2.98250</td>\n",
       "      <td>9.9508</td>\n",
       "      <td>14.66500</td>\n",
       "      <td>7.2201</td>\n",
       "      <td>5.78570</td>\n",
       "      <td>16.66700</td>\n",
       "    </tr>\n",
       "    <tr>\n",
       "      <th>ZZZ3</th>\n",
       "      <td>33.28400</td>\n",
       "      <td>8.45130</td>\n",
       "      <td>26.6690</td>\n",
       "      <td>29.07900</td>\n",
       "      <td>10.3400</td>\n",
       "      <td>9.01830</td>\n",
       "      <td>0.00000</td>\n",
       "    </tr>\n",
       "  </tbody>\n",
       "</table>\n",
       "<p>23684 rows × 7 columns</p>\n",
       "</div>"
      ],
      "text/plain": [
       "            Bcells       CAFs  CD4_Tcells  CD8_Tcells  Endothelial  \\\n",
       "A1BG       7.75210    4.47890      4.6702     5.02000       0.0000   \n",
       "A1BG-AS1   0.27272   28.98800      6.7471    11.76400       0.0000   \n",
       "A1CF       0.94832    0.03625      0.4978     0.56538       0.2582   \n",
       "A2M        0.14435  184.45000      2.9531    15.38600    1575.2000   \n",
       "A2M-AS1    0.00000    0.34500      7.3420    11.59100       8.6042   \n",
       "...            ...        ...         ...         ...          ...   \n",
       "ZYG11A    13.37900    3.64120     18.2580    18.17900       9.0574   \n",
       "ZYG11B    18.64800   10.59500     15.2930    13.80700       5.1119   \n",
       "ZYX       31.07300  205.32000     79.5490    64.75700      70.3870   \n",
       "ZZEF1      5.69700    2.98250      9.9508    14.66500       7.2201   \n",
       "ZZZ3      33.28400    8.45130     26.6690    29.07900      10.3400   \n",
       "\n",
       "          Macrophages    NKcells  \n",
       "A1BG          3.46370    1.74260  \n",
       "A1BG-AS1      2.36580    8.92140  \n",
       "A1CF          0.13695    0.25936  \n",
       "A2M         418.67000    8.94110  \n",
       "A2M-AS1       0.35669    0.21549  \n",
       "...               ...        ...  \n",
       "ZYG11A        7.47320   16.04700  \n",
       "ZYG11B        5.00460    8.10280  \n",
       "ZYX         206.18000  102.91000  \n",
       "ZZEF1         5.78570   16.66700  \n",
       "ZZZ3          9.01830    0.00000  \n",
       "\n",
       "[23684 rows x 7 columns]"
      ]
     },
     "execution_count": 14,
     "metadata": {},
     "output_type": "execute_result"
    }
   ],
   "source": [
    "elife_tumorinf"
   ]
  },
  {
   "cell_type": "code",
   "execution_count": null,
   "metadata": {
    "ExecuteTime": {
     "end_time": "2021-10-25T18:51:59.448214Z",
     "start_time": "2021-10-25T18:51:59.448152Z"
    }
   },
   "outputs": [],
   "source": [
    "elife_tumorinf = elife_tumorinf.rename(columns={\"Bcells\": \"B-cell\", \"CAFs\": \"CAF\", \"CD4_Tcells\": \"CD4_T-cells\", \"CD8_Tcells\": \"CD8_T-cells\",\"macrophage\": \"macrophage\", \"Endothelial\": \"endothelial\", \"NKcells\": \"NK-cell\"})"
   ]
  },
  {
   "cell_type": "code",
   "execution_count": 13,
   "metadata": {
    "ExecuteTime": {
     "end_time": "2021-11-02T19:46:37.001343Z",
     "start_time": "2021-11-02T19:46:36.967438Z"
    }
   },
   "outputs": [],
   "source": [
    "elife_tumorinf_ann = pd.DataFrame()\n",
    "elife_tumorinf_ann[\"cell_type\"] = \"normal\"\n",
    "elife_tumorinf_ann[\"tissue_type\"] = elife_tumorinf.columns\n",
    "elife_tumorinf_ann[\"sample_ID\"] = elife_tumorinf.columns\n",
    "elife_tumorinf_ann['sequencer'] = \"\"\n",
    "elife_tumorinf_ann['align'] = \"bowtie\"\n",
    "elife_tumorinf_ann['method'] = \"singlecell\"\n",
    "elife_tumorinf_ann['reference']= \"hg19\"\n",
    "LAU125\t59\tmale\tiliac lymph node\n",
    "LAU355\t70\tfemale\tiliac-obturator lymph node\n",
    "LAU1255\t87\tmale\taxillary lymph node\n",
    "LAU1314\t81\tmale\tiliac-obturator lymph node\n",
    "elife_tumorinf_ann['age'] = \"\"\n",
    "elife_tumorinf_ann['sex'] = \"\"\n",
    "elife_tumorinf_ann['dataset'] = \"elife_tumorinf\""
   ]
  },
  {
   "cell_type": "markdown",
   "metadata": {},
   "source": [
    "## tirosh's melanoma"
   ]
  },
  {
   "cell_type": "code",
   "execution_count": 4,
   "metadata": {
    "ExecuteTime": {
     "end_time": "2021-10-22T17:01:00.438880Z",
     "start_time": "2021-10-22T17:00:56.975339Z"
    }
   },
   "outputs": [
    {
     "name": "stdout",
     "output_type": "stream",
     "text": [
      "No dataset version provided. Using version 1.\n"
     ]
    }
   ],
   "source": [
    "melanoma = tc.get(name='tirosh-melanoma-scrnaseq-60f0', file='melanoma')"
   ]
  },
  {
   "cell_type": "code",
   "execution_count": 19,
   "metadata": {
    "ExecuteTime": {
     "end_time": "2021-10-22T18:22:25.947732Z",
     "start_time": "2021-10-22T18:22:25.913364Z"
    }
   },
   "outputs": [],
   "source": [
    "melanoma.columns = [i.replace('-', '_').replace('Cy', \"CY\").replace('cy', \"CY\").replace('CY88C', 'CY88_C').replace('CY89A', \"CY89_A\").replace('CY89C', 'CY89_C').replace('CY89F', 'CY89_F').replace('CY89N', 'CY89_N').replace('CY94C', 'CY94_C') for i in melanoma.columns]"
   ]
  },
  {
   "cell_type": "code",
   "execution_count": 20,
   "metadata": {
    "ExecuteTime": {
     "end_time": "2021-10-22T18:22:26.449947Z",
     "start_time": "2021-10-22T18:22:26.388003Z"
    },
    "scrolled": true
   },
   "outputs": [],
   "source": [
    "melanoma_ann = pd.DataFrame()\n",
    "\n",
    "typ={1:\"normal\", 2:\"tumor\",0: np.nan}\n",
    "orig={1:\"melanoma\", 2:\"B-cell\", 3: \"macrophage\", 4: \"endothelial\", 5: \"CAF\", 6:\"NK-cell\", 0: np.nan}\n",
    "\n",
    "melanoma_ann['age'] = [int(i) for i in melanoma.loc['tumor']]\n",
    "melanoma_ann[\"cell_type\"] = [typ[int(i)] for i in melanoma.loc['malignant(1=no,2=yes,0=unresolved)']]\n",
    "melanoma_ann['tissue_type'] = [orig[int(i)] for i in melanoma.loc['non-malignant cell type (1=T,2=B,3=Macro.4=Endo.,5=CAF;6=NK)']]\n",
    "melanoma_ann['name'] = [i.split('_')[0] for i in melanoma.columns]\n",
    "melanoma_ann['sample_id'] = melanoma.columns\n",
    "melanoma_ann['other'] = [i.split('_')[-2] for i in melanoma.columns]\n",
    "melanoma_ann['sequencer'] = \"\"\n",
    "melanoma_ann['method'] = \"singlecell\"\n",
    "\n",
    "melanoma_ann['reference']= \"hg38\"\n",
    "melanoma_ann['ends']=\"paired end\"\n",
    "melanoma_ann['dataset'] = \"melanoma\""
   ]
  },
  {
   "cell_type": "markdown",
   "metadata": {},
   "source": [
    "## GTEX"
   ]
  },
  {
   "cell_type": "code",
   "execution_count": 9,
   "metadata": {
    "ExecuteTime": {
     "end_time": "2021-10-07T15:32:58.173880Z",
     "start_time": "2021-10-07T15:32:43.752392Z"
    }
   },
   "outputs": [
    {
     "name": "stdout",
     "output_type": "stream",
     "text": [
      "  % Total    % Received % Xferd  Average Speed   Time    Time     Time  Current\n",
      "                                 Dload  Upload   Total   Spent    Left  Speed\n",
      "100 1810M  100 1810M    0     0   126M      0  0:00:14  0:00:14 --:--:--  126M\n"
     ]
    }
   ],
   "source": [
    "#! curl https://storage.googleapis.com/gtex_analysis_v9/snrna_seq_data/GTEx_8_tissues_snRNAseq_atlas_071421.public_obs.h5ad --output temp/gtex_8_atlas_public.h5ad\n",
    "\n",
    "## GTEX additional\n",
    "https://storage.googleapis.com/gtex_external_datasets/eyegex_data/rna_seq_data/EyeGEx_retina_combined_genelevel_expectedcounts_byrid_nooutlier.tpm.matrix.gct\n",
    "    \n",
    "https://storage.googleapis.com/gtex_external_datasets/eyegex_data/annotations/EyeGEx_meta_combined_inferior_retina_summary_deidentified_geo_ids.csv"
   ]
  },
  {
   "cell_type": "code",
   "execution_count": 614,
   "metadata": {
    "ExecuteTime": {
     "end_time": "2021-11-05T21:13:30.311278Z",
     "start_time": "2021-11-05T21:12:43.232265Z"
    }
   },
   "outputs": [],
   "source": [
    "gtex_v9 = read_h5ad(\"temp/gtex_8_atlas_public.h5ad\") #209,126 × 17,695"
   ]
  },
  {
   "cell_type": "code",
   "execution_count": 623,
   "metadata": {
    "ExecuteTime": {
     "end_time": "2021-11-05T22:02:02.000616Z",
     "start_time": "2021-11-05T22:02:01.970277Z"
    }
   },
   "outputs": [
    {
     "data": {
      "text/plain": [
       "n_genes                                                                    2658\n",
       "fpr                                                                         0.1\n",
       "tissue                                                           skeletalmuscle\n",
       "prep                                                                        CST\n",
       "individual                                                                   01\n",
       "nGenes                                                                     2902\n",
       "nUMIs                                                                   11544.0\n",
       "PercentMito                                                             0.07623\n",
       "PercentRibo                                                            0.051195\n",
       "Age_bin                                                                   51-60\n",
       "Sex                                                                        Male\n",
       "Sample ID                                              GTEX-1HSMQ-5011-SM-GKSJH\n",
       "Participant ID                                                       GTEX-1HSMQ\n",
       "Sample ID short                                                 GTEX-1HSMQ-5011\n",
       "RIN score from PAXgene tissue Aliquot                                       8.5\n",
       "RIN score from Frozen tissue Aliquot                                        7.8\n",
       "Autolysis Score                                                            None\n",
       "Sample Ischemic Time (mins)                                                 387\n",
       "Tissue Site Detail                                            Muscle - Skeletal\n",
       "scrublet                                                                  False\n",
       "scrublet_score                                                            0.184\n",
       "barcode                                                        TAGGCATGTAAATACG\n",
       "batch                                                                        73\n",
       "n_counts                                                                 9745.0\n",
       "tissue-individual-prep                                    skeletalmuscle_01_CST\n",
       "Broad cell type                               Myocyte (sk. muscle, cytoplasmic)\n",
       "Granular cell type                           Myocyte (slow-twitch, cytoplasmic)\n",
       "introns                                                                  9843.0\n",
       "junctions                                                                 467.0\n",
       "exons                                                                    6055.0\n",
       "sense                                                                   13989.0\n",
       "antisense                                                                2376.0\n",
       "intergenic                                                             111339.0\n",
       "batch-barcode                            skeletalmuscle_01_CST-TAGGCATGTAAATACG\n",
       "exon_ratio                                                             0.369997\n",
       "intron_ratio                                                           0.601467\n",
       "junction_ratio                                                         0.028537\n",
       "log10_nUMIs                                                            4.062356\n",
       "leiden                                                                       20\n",
       "leiden_tissue                                                                 7\n",
       "Tissue composition                                                       Muscle\n",
       "Cell types level 2                                                       Muscle\n",
       "Cell types level 3                                                      Stromal\n",
       "Broad cell type numbers                                                      33\n",
       "Broad cell type (numbers)                 33. Myocyte (sk. muscle, cytoplasmic)\n",
       "Tissue                                                          Skeletal muscle\n",
       "channel                                           skeletalmuscle_CST_GTEX-1HSMQ\n",
       "Name: CST01_TAGGCATGTAAATACG-skeletalmuscle, dtype: object"
      ]
     },
     "execution_count": 623,
     "metadata": {},
     "output_type": "execute_result"
    }
   ],
   "source": [
    "gtex_v9.obs = gtex_v9.obs[[\"Age_bin\",\"Sex\",\"Sample ID\", \"Participant ID\", \"RIN score from PAXgene tissue Aliquot\", \"Tissue\", \"tissue\"]].rename(columns={**rename, **{\"tissue\": \"tissue_type\", \"Tissue\": \"collection_site\"}})"
   ]
  },
  {
   "cell_type": "code",
   "execution_count": null,
   "metadata": {},
   "outputs": [],
   "source": [
    "gtex_v9.obs['sequencer']=\"Illumina HiSeq 2000\"\n",
    "gtex_v9.obs['method']=\"bulk\"\n",
    "gtex_v9.obs['reference']= \"hg38\"\n",
    "gtex_v9.obs['ends']=\"paired end\"\n",
    "gtex_v9.obs['dataset']=\"gtex\""
   ]
  },
  {
   "cell_type": "code",
   "execution_count": null,
   "metadata": {},
   "outputs": [],
   "source": [
    "gtex_add = # 80,000 x 500"
   ]
  },
  {
   "cell_type": "markdown",
   "metadata": {},
   "source": [
    "## THEIS LAB scRNAseq datasets"
   ]
  },
  {
   "cell_type": "code",
   "execution_count": null,
   "metadata": {},
   "outputs": [],
   "source": [
    "https://theislab.github.io/sfaira-portal/Datasets #50,000x13,000\n"
   ]
  },
  {
   "cell_type": "markdown",
   "metadata": {},
   "source": [
    "## HCMI"
   ]
  },
  {
   "cell_type": "code",
   "execution_count": 6,
   "metadata": {
    "ExecuteTime": {
     "end_time": "2021-11-05T21:23:44.208705Z",
     "start_time": "2021-11-05T21:23:42.522598Z"
    }
   },
   "outputs": [
    {
     "name": "stdout",
     "output_type": "stream",
     "text": [
      "No dataset version provided. Using version 7.\n",
      "No dataset version provided. Using version 7.\n"
     ]
    }
   ],
   "source": [
    "# HCMI dataset\n",
    "# Code to generate this dataset can be found here:\n",
    "# https://github.com/broadinstitute/hcmi-processing/blob/main/hcmi-rna-analysis-210226.ipynb\n",
    "hcmi_ltpm = tc.get(name='hcmi-data-ac4b', file='hcmi_ltpm').T # 60486 x 157\n",
    "hcmi_sample_info = tc.get(name='hcmi-data-ac4b', file='hcmi_sample_info')\n",
    "#sample_info = tc.get(name='hcmi-data-ac4b', file='sample-info')"
   ]
  },
  {
   "cell_type": "code",
   "execution_count": 7,
   "metadata": {
    "ExecuteTime": {
     "end_time": "2021-11-05T21:24:08.124539Z",
     "start_time": "2021-11-05T21:24:08.099580Z"
    }
   },
   "outputs": [],
   "source": [
    "hcmi_sample_info['type'] = [i.split('_')[1] +\"; \"+str(j) for i,j in hcmi_sample_info[['type', 'Type']].values]"
   ]
  },
  {
   "cell_type": "code",
   "execution_count": 8,
   "metadata": {
    "ExecuteTime": {
     "end_time": "2021-11-02T18:59:12.710977Z",
     "start_time": "2021-11-02T18:59:12.682441Z"
    }
   },
   "outputs": [
    {
     "data": {
      "text/plain": [
       "Case ID                                                                  HCM-CSHL-0092-C25\n",
       "Primary Site                                                                      Pancreas\n",
       "Clinical Tumor Diagnosis                                                 Pancreatic cancer\n",
       "subtype                                                         Adenocarcinoma ductal type\n",
       "Tissue Status                                                                      Primary\n",
       "Acquisition Site                                                           Pancreatic head\n",
       "Gender                                                                                Male\n",
       "Race                                                                               Unknown\n",
       "Age At Acquisition (Years)                                                            69.0\n",
       "Age At Diagnosis (Years)                                                              69.0\n",
       "Disease Status                                                         Progressive disease\n",
       "Vital Status                                                                         Alive\n",
       "TNM Stage                                                                           T2N2M0\n",
       "Clinical Stage Grouping                                                          Stage III\n",
       "Histological Grade                                                                      G2\n",
       "Has Multiple Models                                                      HCM-CSHL-0092-C25\n",
       "Neoadjuvant Therapy                                                                     No\n",
       "Chemotherapeutic Drug List Available                                                   Yes\n",
       "Therapy                                                     Surgery,Cytotoxic chemotherapy\n",
       "Available Molecular Characterizations    WGS of parent tumor,WGS of normal,WGS of model...\n",
       "Link To Distributor                                                                 PDM-39\n",
       "Type                                                                         3-D: Organoid\n",
       "Licensing Required For Commercial Use                                                  Yes\n",
       "Expansion Status                                                                  Expanded\n",
       "# Mutated Genes                                                                         98\n",
       "# Research Somatic Variants                                                            100\n",
       "# Clinical Variants                                                                     --\n",
       "# Histo-pathological Biomarkers                                                         --\n",
       "sampleID                                                             HCM-CSHL-0092-C25-01A\n",
       "type                                                                  tumor; 3-D: Organoid\n",
       "lineage                                                                           pancreas\n",
       "Name: 0, dtype: object"
      ]
     },
     "execution_count": 8,
     "metadata": {},
     "output_type": "execute_result"
    }
   ],
   "source": [
    "hcmi_sample_info[['Case ID', 'Clinical Tumor Diagnosis', 'subtype', 'Tissue Status', \"Acquisition Site\", 'Gender', 'Race', 'Age At Acquisition (Years)', 'Expansion Status', 'sampleID', 'type', 'lineage']].rename(columns=rename)"
   ]
  },
  {
   "cell_type": "code",
   "execution_count": null,
   "metadata": {},
   "outputs": [],
   "source": [
    "hcmi_sample_info['sequencer'] =\"\"\n",
    "hcmi_sample_info['method'] =\"\"\n",
    "hcmi_sample_info['reference']= \"\"\n",
    "hcmi_sample_info['ends']=\"\"\n",
    "hcmi_sample_info['dataset']=\"hcmi\""
   ]
  },
  {
   "cell_type": "markdown",
   "metadata": {},
   "source": [
    "## L1000 dataset"
   ]
  },
  {
   "cell_type": "code",
   "execution_count": 4,
   "metadata": {
    "ExecuteTime": {
     "end_time": "2021-11-09T20:50:33.007479Z",
     "start_time": "2021-11-09T20:50:32.805171Z"
    }
   },
   "outputs": [],
   "source": [
    "import subprocess\n",
    "from anndata import AnnData "
   ]
  },
  {
   "cell_type": "code",
   "execution_count": 25,
   "metadata": {
    "ExecuteTime": {
     "end_time": "2021-11-02T20:49:20.561122Z",
     "start_time": "2021-11-02T20:49:19.705608Z"
    }
   },
   "outputs": [
    {
     "name": "stdout",
     "output_type": "stream",
     "text": [
      "\n",
      "R version 4.1.2 (2021-11-01) -- \"Bird Hippie\"\n",
      "Copyright (C) 2021 The R Foundation for Statistical Computing\n",
      "Platform: x86_64-pc-linux-gnu (64-bit)\n",
      "\n",
      "R is free software and comes with ABSOLUTELY NO WARRANTY.\n",
      "You are welcome to redistribute it under certain conditions.\n",
      "Type 'license()' or 'licence()' for distribution details.\n",
      "\n",
      "  Natural language support but running in an English locale\n",
      "\n",
      "R is a collaborative project with many contributors.\n",
      "Type 'contributors()' for more information and\n",
      "'citation()' on how to cite R or R packages in publications.\n",
      "\n",
      "Type 'demo()' for some demos, 'help()' for on-line help, or\n",
      "'help.start()' for an HTML browser interface to help.\n",
      "Type 'q()' to quit R.\n",
      "\n",
      "> if(!requireNamespace(\"BiocManager\", quietly = TRUE)){install.packages(\"BiocManager\", repos=\"http://cran.us.r-project.org\")};BiocManager::install(c(\"limma\"));\n",
      "Installing package into ‘/usr/local/lib/R/site-library’\n",
      "(as ‘lib’ is unspecified)\n",
      "Warning in install.packages(\"BiocManager\", repos = \"http://cran.us.r-project.org\") :\n",
      "  'lib = \"/usr/local/lib/R/site-library\"' is not writable\n",
      "Error in install.packages(\"BiocManager\", repos = \"http://cran.us.r-project.org\") : \n",
      "  unable to install packages\n",
      "Execution halted\n"
     ]
    }
   ],
   "source": [
    "# you will need R > 4.0 \n",
    "# https://www.charlesbordet.com/en/how-to-upgrade-to-R-4-0-0-on-debian/#the-naive-solution\n",
    "! R -e \"if(!requireNamespace('BiocManager', quietly = TRUE)){install.packages('BiocManager', repos='http://cran.us.r-project.org')};BiocManager::install('cmapR');\""
   ]
  },
  {
   "cell_type": "code",
   "execution_count": 31,
   "metadata": {
    "ExecuteTime": {
     "end_time": "2021-10-25T18:51:59.408601Z",
     "start_time": "2021-10-25T18:41:33.178527Z"
    }
   },
   "outputs": [
    {
     "name": "stdout",
     "output_type": "stream",
     "text": [
      "Copying gs://ccle_default_params/celligner_ex/level5_beta_trt_misc_n8283x12328.gctx...\n",
      "==> NOTE: You are downloading one or more large file(s), which would\n",
      "run significantly faster if you enabled sliced object downloads. This\n",
      "feature is enabled by default but requires that compiled crcmod be\n",
      "installed (see \"gsutil help crcmod\").\n",
      "\n",
      "\n",
      "Operation completed over 1 objects/389.6 MiB.                                    \n"
     ]
    },
    {
     "ename": "NameError",
     "evalue": "name 'pg' is not defined",
     "output_type": "error",
     "traceback": [
      "\u001b[0;31m---------------------------------------------------------------------------\u001b[0m",
      "\u001b[0;31mNameError\u001b[0m                                 Traceback (most recent call last)",
      "\u001b[0;32m/tmp/ipykernel_5428/952075856.py\u001b[0m in \u001b[0;36m<module>\u001b[0;34m\u001b[0m\n\u001b[1;32m      8\u001b[0m     \u001b[0mcmd\u001b[0m \u001b[0;34m=\u001b[0m \u001b[0;34m\"gsutil cp \"\u001b[0m \u001b[0;34m+\u001b[0m \u001b[0mfolder\u001b[0m \u001b[0;34m+\u001b[0m \u001b[0mval\u001b[0m \u001b[0;34m+\u001b[0m \u001b[0;34m\" temp/\"\u001b[0m\u001b[0;34m\u001b[0m\u001b[0;34m\u001b[0m\u001b[0m\n\u001b[1;32m      9\u001b[0m     \u001b[0mget_ipython\u001b[0m\u001b[0;34m(\u001b[0m\u001b[0;34m)\u001b[0m\u001b[0;34m.\u001b[0m\u001b[0msystem\u001b[0m\u001b[0;34m(\u001b[0m\u001b[0;34m' $cmd'\u001b[0m\u001b[0;34m)\u001b[0m\u001b[0;34m\u001b[0m\u001b[0;34m\u001b[0m\u001b[0m\n\u001b[0;32m---> 10\u001b[0;31m     \u001b[0mres\u001b[0m \u001b[0;34m=\u001b[0m \u001b[0mpg\u001b[0m\u001b[0;34m(\u001b[0m\u001b[0;34m'temp/'\u001b[0m\u001b[0;34m+\u001b[0m\u001b[0mval\u001b[0m\u001b[0;34m)\u001b[0m\u001b[0;34m\u001b[0m\u001b[0;34m\u001b[0m\u001b[0m\n\u001b[0m",
      "\u001b[0;31mNameError\u001b[0m: name 'pg' is not defined"
     ]
    }
   ],
   "source": [
    "folder = \"gs://ccle_default_params/celligner_ex/\"\n",
    "res = []\n",
    "for val in [\"level5_beta_ctl_n58022x12328.gctx\",\n",
    "            \"level5_beta_trt_cp_n720216x12328.gctx\",\n",
    "            \"level5_beta_trt_misc_n8283x12328.gctx\"\n",
    "            \"level5_beta_trt_oe_n34171x12328.gctx\",\n",
    "            \"level5_beta_trt_sh_n238351x12328.gctx\",\n",
    "            \"level5_beta_trt_xpr_n142901x12328.gctx\",]:\n",
    "    cmd = \"gsutil cp \" + folder + val + \" temp/\"\n",
    "    ! $cmd\n",
    "    res.append(h.loadGCTXasAnnData('temp/'+val))"
   ]
  },
  {
   "cell_type": "code",
   "execution_count": null,
   "metadata": {},
   "outputs": [],
   "source": [
    "ann['sequencer'] = \"L1000\"\n",
    "ann['method'] = \"L1000\"\n",
    "ann['reference']= \"L1000\"\n",
    "ann['ends']=\"L1000\"\n",
    "ann['dataset']=\"L1000\""
   ]
  },
  {
   "cell_type": "markdown",
   "metadata": {},
   "source": [
    "## encode"
   ]
  },
  {
   "cell_type": "code",
   "execution_count": 136,
   "metadata": {
    "ExecuteTime": {
     "end_time": "2021-11-15T22:43:12.180265Z",
     "start_time": "2021-11-15T22:43:11.829260Z"
    }
   },
   "outputs": [],
   "source": [
    "todl = h.fileToList('data/encode_rna.txt')"
   ]
  },
  {
   "cell_type": "code",
   "execution_count": 134,
   "metadata": {
    "ExecuteTime": {
     "end_time": "2021-11-15T22:41:12.701983Z",
     "start_time": "2021-11-15T22:41:12.607092Z"
    }
   },
   "outputs": [
    {
     "data": {
      "text/html": [
       "<div>\n",
       "<style scoped>\n",
       "    .dataframe tbody tr th:only-of-type {\n",
       "        vertical-align: middle;\n",
       "    }\n",
       "\n",
       "    .dataframe tbody tr th {\n",
       "        vertical-align: top;\n",
       "    }\n",
       "\n",
       "    .dataframe thead th {\n",
       "        text-align: right;\n",
       "    }\n",
       "</style>\n",
       "<table border=\"1\" class=\"dataframe\">\n",
       "  <thead>\n",
       "    <tr style=\"text-align: right;\">\n",
       "      <th></th>\n",
       "      <th>ID</th>\n",
       "      <th>Accession</th>\n",
       "      <th>Assay name</th>\n",
       "      <th>Assay title</th>\n",
       "      <th>Biosample summary</th>\n",
       "      <th>Biosample term name</th>\n",
       "      <th>Dbxrefs</th>\n",
       "      <th>Description</th>\n",
       "      <th>Lab</th>\n",
       "      <th>Project</th>\n",
       "      <th>...</th>\n",
       "      <th>Biosample treatment</th>\n",
       "      <th>Biosample treatment ontology ID</th>\n",
       "      <th>Biosample treatment amount</th>\n",
       "      <th>Biosample treatment amount units</th>\n",
       "      <th>Biosample treatment duration</th>\n",
       "      <th>Biosample treatment duration units</th>\n",
       "      <th>Biosample modification site target organism</th>\n",
       "      <th>Replicates</th>\n",
       "      <th>Cellular component</th>\n",
       "      <th>Library construction method</th>\n",
       "    </tr>\n",
       "  </thead>\n",
       "  <tbody>\n",
       "    <tr>\n",
       "      <th>0</th>\n",
       "      <td>/experiments/ENCSR620LQN/</td>\n",
       "      <td>ENCSR620LQN</td>\n",
       "      <td>RNA-seq</td>\n",
       "      <td>total RNA-seq</td>\n",
       "      <td>Homo sapiens esophagus muscularis mucosa tissu...</td>\n",
       "      <td>esophagus muscularis mucosa</td>\n",
       "      <td>GEO:GSE88409</td>\n",
       "      <td>The libraries contained in this Experiment com...</td>\n",
       "      <td>Thomas Gingeras, CSHL</td>\n",
       "      <td>ENCODE</td>\n",
       "      <td>...</td>\n",
       "      <td>NaN</td>\n",
       "      <td>NaN</td>\n",
       "      <td>NaN</td>\n",
       "      <td>NaN</td>\n",
       "      <td>NaN</td>\n",
       "      <td>NaN</td>\n",
       "      <td>NaN</td>\n",
       "      <td>/replicates/499e1412-5ef3-4ac2-98be-fd55bb01fad5/</td>\n",
       "      <td>NaN</td>\n",
       "      <td>NaN</td>\n",
       "    </tr>\n",
       "    <tr>\n",
       "      <th>1</th>\n",
       "      <td>/experiments/ENCSR406SAW/</td>\n",
       "      <td>ENCSR406SAW</td>\n",
       "      <td>RNA-seq</td>\n",
       "      <td>total RNA-seq</td>\n",
       "      <td>Homo sapiens upper lobe of left lung tissue fe...</td>\n",
       "      <td>upper lobe of left lung</td>\n",
       "      <td>GEO:GSE88254</td>\n",
       "      <td>The libraries contained in this Experiment com...</td>\n",
       "      <td>Thomas Gingeras, CSHL</td>\n",
       "      <td>ENCODE</td>\n",
       "      <td>...</td>\n",
       "      <td>NaN</td>\n",
       "      <td>NaN</td>\n",
       "      <td>NaN</td>\n",
       "      <td>NaN</td>\n",
       "      <td>NaN</td>\n",
       "      <td>NaN</td>\n",
       "      <td>NaN</td>\n",
       "      <td>/replicates/782b72f8-3197-4a66-951c-e2de88158b6a/</td>\n",
       "      <td>NaN</td>\n",
       "      <td>NaN</td>\n",
       "    </tr>\n",
       "    <tr>\n",
       "      <th>2</th>\n",
       "      <td>/experiments/ENCSR019MXZ/</td>\n",
       "      <td>ENCSR019MXZ</td>\n",
       "      <td>polyA plus RNA-seq</td>\n",
       "      <td>polyA plus RNA-seq</td>\n",
       "      <td>Homo sapiens HepG2 insoluble cytoplasmic fraction</td>\n",
       "      <td>HepG2</td>\n",
       "      <td>GEO:GSE87958</td>\n",
       "      <td>Initial insoluble fractions on HepG2 Long Poly...</td>\n",
       "      <td>Eric Lécuyer, IRCM</td>\n",
       "      <td>ENCODE</td>\n",
       "      <td>...</td>\n",
       "      <td>NaN</td>\n",
       "      <td>NaN</td>\n",
       "      <td>NaN</td>\n",
       "      <td>NaN</td>\n",
       "      <td>NaN</td>\n",
       "      <td>NaN</td>\n",
       "      <td>NaN</td>\n",
       "      <td>/replicates/443af8c7-5ed1-4930-b4f7-e1ca62c553...</td>\n",
       "      <td>insoluble cytoplasmic fraction</td>\n",
       "      <td>NaN</td>\n",
       "    </tr>\n",
       "    <tr>\n",
       "      <th>3</th>\n",
       "      <td>/experiments/ENCSR630VJN/</td>\n",
       "      <td>ENCSR630VJN</td>\n",
       "      <td>RNA-seq</td>\n",
       "      <td>total RNA-seq</td>\n",
       "      <td>Homo sapiens transverse colon tissue male adul...</td>\n",
       "      <td>transverse colon</td>\n",
       "      <td>GEO:GSE88418</td>\n",
       "      <td>The libraries contained in this Experiment com...</td>\n",
       "      <td>Thomas Gingeras, CSHL</td>\n",
       "      <td>ENCODE</td>\n",
       "      <td>...</td>\n",
       "      <td>NaN</td>\n",
       "      <td>NaN</td>\n",
       "      <td>NaN</td>\n",
       "      <td>NaN</td>\n",
       "      <td>NaN</td>\n",
       "      <td>NaN</td>\n",
       "      <td>NaN</td>\n",
       "      <td>/replicates/aa7ff7b6-5bf5-4f0d-a09c-8612c945df37/</td>\n",
       "      <td>NaN</td>\n",
       "      <td>NaN</td>\n",
       "    </tr>\n",
       "    <tr>\n",
       "      <th>4</th>\n",
       "      <td>/experiments/ENCSR035SKV/</td>\n",
       "      <td>ENCSR035SKV</td>\n",
       "      <td>RNA-seq</td>\n",
       "      <td>total RNA-seq</td>\n",
       "      <td>Homo sapiens gastroesophageal sphincter tissue...</td>\n",
       "      <td>gastroesophageal sphincter</td>\n",
       "      <td>GEO:GSE87978</td>\n",
       "      <td>The libraries contained in this Experiment com...</td>\n",
       "      <td>Thomas Gingeras, CSHL</td>\n",
       "      <td>ENCODE</td>\n",
       "      <td>...</td>\n",
       "      <td>NaN</td>\n",
       "      <td>NaN</td>\n",
       "      <td>NaN</td>\n",
       "      <td>NaN</td>\n",
       "      <td>NaN</td>\n",
       "      <td>NaN</td>\n",
       "      <td>NaN</td>\n",
       "      <td>/replicates/8c825033-47e6-4659-8b02-0b399fab0435/</td>\n",
       "      <td>NaN</td>\n",
       "      <td>NaN</td>\n",
       "    </tr>\n",
       "    <tr>\n",
       "      <th>...</th>\n",
       "      <td>...</td>\n",
       "      <td>...</td>\n",
       "      <td>...</td>\n",
       "      <td>...</td>\n",
       "      <td>...</td>\n",
       "      <td>...</td>\n",
       "      <td>...</td>\n",
       "      <td>...</td>\n",
       "      <td>...</td>\n",
       "      <td>...</td>\n",
       "      <td>...</td>\n",
       "      <td>...</td>\n",
       "      <td>...</td>\n",
       "      <td>...</td>\n",
       "      <td>...</td>\n",
       "      <td>...</td>\n",
       "      <td>...</td>\n",
       "      <td>...</td>\n",
       "      <td>...</td>\n",
       "      <td>...</td>\n",
       "      <td>...</td>\n",
       "    </tr>\n",
       "    <tr>\n",
       "      <th>1006</th>\n",
       "      <td>/experiments/ENCSR672JUF/</td>\n",
       "      <td>ENCSR672JUF</td>\n",
       "      <td>polyA plus RNA-seq</td>\n",
       "      <td>polyA plus RNA-seq</td>\n",
       "      <td>Homo sapiens foreskin keratinocyte male newborn</td>\n",
       "      <td>foreskin keratinocyte</td>\n",
       "      <td>GEO:GSM958177</td>\n",
       "      <td>NaN</td>\n",
       "      <td>Joseph Costello, UCSF</td>\n",
       "      <td>Roadmap</td>\n",
       "      <td>...</td>\n",
       "      <td>NaN</td>\n",
       "      <td>NaN</td>\n",
       "      <td>NaN</td>\n",
       "      <td>NaN</td>\n",
       "      <td>NaN</td>\n",
       "      <td>NaN</td>\n",
       "      <td>NaN</td>\n",
       "      <td>/replicates/dd125c50-da07-473b-90cf-6be56b7fe968/</td>\n",
       "      <td>NaN</td>\n",
       "      <td>NaN</td>\n",
       "    </tr>\n",
       "    <tr>\n",
       "      <th>1007</th>\n",
       "      <td>/experiments/ENCSR999CPT/</td>\n",
       "      <td>ENCSR999CPT</td>\n",
       "      <td>polyA plus RNA-seq</td>\n",
       "      <td>polyA plus RNA-seq</td>\n",
       "      <td>Homo sapiens placental basal plate tissue fema...</td>\n",
       "      <td>placental basal plate</td>\n",
       "      <td>GEO:GSM1127098</td>\n",
       "      <td>NaN</td>\n",
       "      <td>Joseph Costello, UCSF</td>\n",
       "      <td>Roadmap</td>\n",
       "      <td>...</td>\n",
       "      <td>NaN</td>\n",
       "      <td>NaN</td>\n",
       "      <td>NaN</td>\n",
       "      <td>NaN</td>\n",
       "      <td>NaN</td>\n",
       "      <td>NaN</td>\n",
       "      <td>NaN</td>\n",
       "      <td>/replicates/d92f45a2-c13f-42d4-a52d-2f974f6e7f41/</td>\n",
       "      <td>NaN</td>\n",
       "      <td>NaN</td>\n",
       "    </tr>\n",
       "    <tr>\n",
       "      <th>1008</th>\n",
       "      <td>/experiments/ENCSR634LOX/</td>\n",
       "      <td>ENCSR634LOX</td>\n",
       "      <td>polyA plus RNA-seq</td>\n",
       "      <td>polyA plus RNA-seq</td>\n",
       "      <td>Homo sapiens foreskin melanocyte male newborn</td>\n",
       "      <td>foreskin melanocyte</td>\n",
       "      <td>GEO:GSM958174</td>\n",
       "      <td>NaN</td>\n",
       "      <td>Joseph Costello, UCSF</td>\n",
       "      <td>Roadmap</td>\n",
       "      <td>...</td>\n",
       "      <td>NaN</td>\n",
       "      <td>NaN</td>\n",
       "      <td>NaN</td>\n",
       "      <td>NaN</td>\n",
       "      <td>NaN</td>\n",
       "      <td>NaN</td>\n",
       "      <td>NaN</td>\n",
       "      <td>/replicates/f0421981-9298-4ade-a256-59aa55666f27/</td>\n",
       "      <td>NaN</td>\n",
       "      <td>NaN</td>\n",
       "    </tr>\n",
       "    <tr>\n",
       "      <th>1009</th>\n",
       "      <td>/experiments/ENCSR714QAF/</td>\n",
       "      <td>ENCSR714QAF</td>\n",
       "      <td>polyA plus RNA-seq</td>\n",
       "      <td>polyA plus RNA-seq</td>\n",
       "      <td>Homo sapiens mole tissue female</td>\n",
       "      <td>mole</td>\n",
       "      <td>GEO:GSM1582478</td>\n",
       "      <td>The RNA-Seq libraries contained in this experi...</td>\n",
       "      <td>Joseph Costello, UCSF</td>\n",
       "      <td>Roadmap</td>\n",
       "      <td>...</td>\n",
       "      <td>NaN</td>\n",
       "      <td>NaN</td>\n",
       "      <td>NaN</td>\n",
       "      <td>NaN</td>\n",
       "      <td>NaN</td>\n",
       "      <td>NaN</td>\n",
       "      <td>NaN</td>\n",
       "      <td>/replicates/919a47f8-b23e-431c-9ea0-9dcb6990df63/</td>\n",
       "      <td>NaN</td>\n",
       "      <td>NaN</td>\n",
       "    </tr>\n",
       "    <tr>\n",
       "      <th>1010</th>\n",
       "      <td>/experiments/ENCSR329ZRF/</td>\n",
       "      <td>ENCSR329ZRF</td>\n",
       "      <td>polyA plus RNA-seq</td>\n",
       "      <td>polyA plus RNA-seq</td>\n",
       "      <td>Homo sapiens trophoblast tissue female embryo ...</td>\n",
       "      <td>trophoblast</td>\n",
       "      <td>GEO:GSM1582479</td>\n",
       "      <td>NaN</td>\n",
       "      <td>Joseph Costello, UCSF</td>\n",
       "      <td>Roadmap</td>\n",
       "      <td>...</td>\n",
       "      <td>NaN</td>\n",
       "      <td>NaN</td>\n",
       "      <td>NaN</td>\n",
       "      <td>NaN</td>\n",
       "      <td>NaN</td>\n",
       "      <td>NaN</td>\n",
       "      <td>NaN</td>\n",
       "      <td>/replicates/0fdf087d-c251-4149-95d5-cdfaa012d1fc/</td>\n",
       "      <td>NaN</td>\n",
       "      <td>NaN</td>\n",
       "    </tr>\n",
       "  </tbody>\n",
       "</table>\n",
       "<p>1011 rows × 29 columns</p>\n",
       "</div>"
      ],
      "text/plain": [
       "                             ID    Accession          Assay name  \\\n",
       "0     /experiments/ENCSR620LQN/  ENCSR620LQN             RNA-seq   \n",
       "1     /experiments/ENCSR406SAW/  ENCSR406SAW             RNA-seq   \n",
       "2     /experiments/ENCSR019MXZ/  ENCSR019MXZ  polyA plus RNA-seq   \n",
       "3     /experiments/ENCSR630VJN/  ENCSR630VJN             RNA-seq   \n",
       "4     /experiments/ENCSR035SKV/  ENCSR035SKV             RNA-seq   \n",
       "...                         ...          ...                 ...   \n",
       "1006  /experiments/ENCSR672JUF/  ENCSR672JUF  polyA plus RNA-seq   \n",
       "1007  /experiments/ENCSR999CPT/  ENCSR999CPT  polyA plus RNA-seq   \n",
       "1008  /experiments/ENCSR634LOX/  ENCSR634LOX  polyA plus RNA-seq   \n",
       "1009  /experiments/ENCSR714QAF/  ENCSR714QAF  polyA plus RNA-seq   \n",
       "1010  /experiments/ENCSR329ZRF/  ENCSR329ZRF  polyA plus RNA-seq   \n",
       "\n",
       "             Assay title                                  Biosample summary  \\\n",
       "0          total RNA-seq  Homo sapiens esophagus muscularis mucosa tissu...   \n",
       "1          total RNA-seq  Homo sapiens upper lobe of left lung tissue fe...   \n",
       "2     polyA plus RNA-seq  Homo sapiens HepG2 insoluble cytoplasmic fraction   \n",
       "3          total RNA-seq  Homo sapiens transverse colon tissue male adul...   \n",
       "4          total RNA-seq  Homo sapiens gastroesophageal sphincter tissue...   \n",
       "...                  ...                                                ...   \n",
       "1006  polyA plus RNA-seq    Homo sapiens foreskin keratinocyte male newborn   \n",
       "1007  polyA plus RNA-seq  Homo sapiens placental basal plate tissue fema...   \n",
       "1008  polyA plus RNA-seq      Homo sapiens foreskin melanocyte male newborn   \n",
       "1009  polyA plus RNA-seq                    Homo sapiens mole tissue female   \n",
       "1010  polyA plus RNA-seq  Homo sapiens trophoblast tissue female embryo ...   \n",
       "\n",
       "              Biosample term name         Dbxrefs  \\\n",
       "0     esophagus muscularis mucosa    GEO:GSE88409   \n",
       "1         upper lobe of left lung    GEO:GSE88254   \n",
       "2                           HepG2    GEO:GSE87958   \n",
       "3                transverse colon    GEO:GSE88418   \n",
       "4      gastroesophageal sphincter    GEO:GSE87978   \n",
       "...                           ...             ...   \n",
       "1006        foreskin keratinocyte   GEO:GSM958177   \n",
       "1007        placental basal plate  GEO:GSM1127098   \n",
       "1008          foreskin melanocyte   GEO:GSM958174   \n",
       "1009                         mole  GEO:GSM1582478   \n",
       "1010                  trophoblast  GEO:GSM1582479   \n",
       "\n",
       "                                            Description  \\\n",
       "0     The libraries contained in this Experiment com...   \n",
       "1     The libraries contained in this Experiment com...   \n",
       "2     Initial insoluble fractions on HepG2 Long Poly...   \n",
       "3     The libraries contained in this Experiment com...   \n",
       "4     The libraries contained in this Experiment com...   \n",
       "...                                                 ...   \n",
       "1006                                                NaN   \n",
       "1007                                                NaN   \n",
       "1008                                                NaN   \n",
       "1009  The RNA-Seq libraries contained in this experi...   \n",
       "1010                                                NaN   \n",
       "\n",
       "                        Lab  Project  ... Biosample treatment  \\\n",
       "0     Thomas Gingeras, CSHL   ENCODE  ...                 NaN   \n",
       "1     Thomas Gingeras, CSHL   ENCODE  ...                 NaN   \n",
       "2        Eric Lécuyer, IRCM   ENCODE  ...                 NaN   \n",
       "3     Thomas Gingeras, CSHL   ENCODE  ...                 NaN   \n",
       "4     Thomas Gingeras, CSHL   ENCODE  ...                 NaN   \n",
       "...                     ...      ...  ...                 ...   \n",
       "1006  Joseph Costello, UCSF  Roadmap  ...                 NaN   \n",
       "1007  Joseph Costello, UCSF  Roadmap  ...                 NaN   \n",
       "1008  Joseph Costello, UCSF  Roadmap  ...                 NaN   \n",
       "1009  Joseph Costello, UCSF  Roadmap  ...                 NaN   \n",
       "1010  Joseph Costello, UCSF  Roadmap  ...                 NaN   \n",
       "\n",
       "     Biosample treatment ontology ID Biosample treatment amount  \\\n",
       "0                                NaN                        NaN   \n",
       "1                                NaN                        NaN   \n",
       "2                                NaN                        NaN   \n",
       "3                                NaN                        NaN   \n",
       "4                                NaN                        NaN   \n",
       "...                              ...                        ...   \n",
       "1006                             NaN                        NaN   \n",
       "1007                             NaN                        NaN   \n",
       "1008                             NaN                        NaN   \n",
       "1009                             NaN                        NaN   \n",
       "1010                             NaN                        NaN   \n",
       "\n",
       "     Biosample treatment amount units Biosample treatment duration  \\\n",
       "0                                 NaN                          NaN   \n",
       "1                                 NaN                          NaN   \n",
       "2                                 NaN                          NaN   \n",
       "3                                 NaN                          NaN   \n",
       "4                                 NaN                          NaN   \n",
       "...                               ...                          ...   \n",
       "1006                              NaN                          NaN   \n",
       "1007                              NaN                          NaN   \n",
       "1008                              NaN                          NaN   \n",
       "1009                              NaN                          NaN   \n",
       "1010                              NaN                          NaN   \n",
       "\n",
       "     Biosample treatment duration units  \\\n",
       "0                                   NaN   \n",
       "1                                   NaN   \n",
       "2                                   NaN   \n",
       "3                                   NaN   \n",
       "4                                   NaN   \n",
       "...                                 ...   \n",
       "1006                                NaN   \n",
       "1007                                NaN   \n",
       "1008                                NaN   \n",
       "1009                                NaN   \n",
       "1010                                NaN   \n",
       "\n",
       "     Biosample modification site target organism  \\\n",
       "0                                            NaN   \n",
       "1                                            NaN   \n",
       "2                                            NaN   \n",
       "3                                            NaN   \n",
       "4                                            NaN   \n",
       "...                                          ...   \n",
       "1006                                         NaN   \n",
       "1007                                         NaN   \n",
       "1008                                         NaN   \n",
       "1009                                         NaN   \n",
       "1010                                         NaN   \n",
       "\n",
       "                                             Replicates  \\\n",
       "0     /replicates/499e1412-5ef3-4ac2-98be-fd55bb01fad5/   \n",
       "1     /replicates/782b72f8-3197-4a66-951c-e2de88158b6a/   \n",
       "2     /replicates/443af8c7-5ed1-4930-b4f7-e1ca62c553...   \n",
       "3     /replicates/aa7ff7b6-5bf5-4f0d-a09c-8612c945df37/   \n",
       "4     /replicates/8c825033-47e6-4659-8b02-0b399fab0435/   \n",
       "...                                                 ...   \n",
       "1006  /replicates/dd125c50-da07-473b-90cf-6be56b7fe968/   \n",
       "1007  /replicates/d92f45a2-c13f-42d4-a52d-2f974f6e7f41/   \n",
       "1008  /replicates/f0421981-9298-4ade-a256-59aa55666f27/   \n",
       "1009  /replicates/919a47f8-b23e-431c-9ea0-9dcb6990df63/   \n",
       "1010  /replicates/0fdf087d-c251-4149-95d5-cdfaa012d1fc/   \n",
       "\n",
       "                  Cellular component Library construction method  \n",
       "0                                NaN                         NaN  \n",
       "1                                NaN                         NaN  \n",
       "2     insoluble cytoplasmic fraction                         NaN  \n",
       "3                                NaN                         NaN  \n",
       "4                                NaN                         NaN  \n",
       "...                              ...                         ...  \n",
       "1006                             NaN                         NaN  \n",
       "1007                             NaN                         NaN  \n",
       "1008                             NaN                         NaN  \n",
       "1009                             NaN                         NaN  \n",
       "1010                             NaN                         NaN  \n",
       "\n",
       "[1011 rows x 29 columns]"
      ]
     },
     "execution_count": 134,
     "metadata": {},
     "output_type": "execute_result"
    }
   ],
   "source": [
    "# 40,000 x 1100\n",
    "report = pd.read_csv('data/encode_report.tsv', sep=\"\\t\", skiprows=1)\n",
    "report = report[report.columns[report.isna().sum()!=len(report)]]\n",
    "report"
   ]
  },
  {
   "cell_type": "code",
   "execution_count": 137,
   "metadata": {
    "ExecuteTime": {
     "end_time": "2021-11-15T22:43:26.577308Z",
     "start_time": "2021-11-15T22:43:26.545000Z"
    }
   },
   "outputs": [],
   "source": [
    "region = []\n",
    "platform = []\n",
    "\n",
    "for val in list(report['Description']):\n",
    "    if val is np.nan:\n",
    "        region.append('')\n",
    "        platform.append('')\n",
    "        continue\n",
    "    if \"cytosol\" in val or \"cytosolic\" in val:\n",
    "        region.append('cytosol')\n",
    "    elif \"nucleolus\" in val:\n",
    "        region.append('nucleolus')\n",
    "    elif \"nucleus\" in val:\n",
    "        region.append('nucleus')\n",
    "    elif \"whole cell\" in val:\n",
    "        region.append('whole')\n",
    "    elif \"chromatin\" in val:\n",
    "        region.append('chromatin')\n",
    "    elif \"cytoplasmic\" in val:\n",
    "        region.append('cytoplasm')\n",
    "    else:\n",
    "        region.append(None)\n",
    "    if \"Hi-Seq\" in val:\n",
    "        platform.append('illumina Hi-Seq 2000')\n",
    "    elif \"Illumina GAIIx\" in val:\n",
    "        platform.append('illumina gaiix')\n",
    "    else:\n",
    "        platform.append('')"
   ]
  },
  {
   "cell_type": "code",
   "execution_count": 138,
   "metadata": {
    "ExecuteTime": {
     "end_time": "2021-11-15T22:43:41.080934Z",
     "start_time": "2021-11-15T22:43:41.052128Z"
    }
   },
   "outputs": [],
   "source": [
    "report.loc[report['Cellular component'].isna(), 'Cellular component'] = np.array(region)[report[report['Cellular component'].isna()].index]"
   ]
  },
  {
   "cell_type": "code",
   "execution_count": 139,
   "metadata": {
    "ExecuteTime": {
     "end_time": "2021-11-15T22:43:55.663051Z",
     "start_time": "2021-11-15T22:43:55.637178Z"
    }
   },
   "outputs": [],
   "source": [
    "report['sequencer'] = platform"
   ]
  },
  {
   "cell_type": "code",
   "execution_count": 140,
   "metadata": {
    "ExecuteTime": {
     "end_time": "2021-11-15T22:44:10.269663Z",
     "start_time": "2021-11-15T22:44:10.228551Z"
    }
   },
   "outputs": [],
   "source": [
    "report['Files'] = report['Files'].str.split(',').apply(lambda x: [i.split('/')[-2] for i in x])"
   ]
  },
  {
   "cell_type": "code",
   "execution_count": 141,
   "metadata": {
    "ExecuteTime": {
     "end_time": "2021-11-15T22:44:24.674223Z",
     "start_time": "2021-11-15T22:44:24.630524Z"
    }
   },
   "outputs": [
    {
     "ename": "NameError",
     "evalue": "name 'rename' is not defined",
     "output_type": "error",
     "traceback": [
      "\u001b[0;31m---------------------------------------------------------------------------\u001b[0m",
      "\u001b[0;31mNameError\u001b[0m                                 Traceback (most recent call last)",
      "\u001b[0;32m/tmp/ipykernel_21567/2573620577.py\u001b[0m in \u001b[0;36m<module>\u001b[0;34m\u001b[0m\n\u001b[1;32m      2\u001b[0m report = report[['Assay title', 'Biosample summary', 'Biosample term name', 'Description', 'Lab', 'Project', 'Files', 'Biosample accession', 'Organism', 'Life stage', 'Biosample age', 'platform', 'Biosample treatment ontology ID', 'Biosample treatment amount',\n\u001b[1;32m      3\u001b[0m \u001b[0;34m'Biosample treatment amount units'\u001b[0m\u001b[0;34m,\u001b[0m \u001b[0;34m'Biosample treatment duration'\u001b[0m\u001b[0;34m,\u001b[0m\u001b[0;34m\u001b[0m\u001b[0;34m\u001b[0m\u001b[0m\n\u001b[0;32m----> 4\u001b[0;31m 'Biosample treatment duration units']].rename(columns=rename)\n\u001b[0m",
      "\u001b[0;31mNameError\u001b[0m: name 'rename' is not defined"
     ]
    }
   ],
   "source": [
    "report = report[report['Cellular component'].isna() | (report['Cellular component']==\"nucleus\")]\n",
    "report = report[['Assay title', 'Biosample summary', 'Biosample term name', 'Description', 'Lab', 'Project', 'Files', 'Biosample accession', 'Organism', 'Life stage', 'Biosample age', 'sequencer', 'Biosample treatment ontology ID', 'Biosample treatment amount',\n",
    "'Biosample treatment amount units', 'Biosample treatment duration',\n",
    "'Biosample treatment duration units']].rename(columns=rename)"
   ]
  },
  {
   "cell_type": "code",
   "execution_count": 145,
   "metadata": {
    "ExecuteTime": {
     "end_time": "2021-11-16T15:49:28.812276Z",
     "start_time": "2021-11-16T15:49:28.786448Z"
    }
   },
   "outputs": [
    {
     "data": {
      "text/plain": [
       "{'', 'illumina Hi-Seq 2000', 'illumina gaiix'}"
      ]
     },
     "execution_count": 145,
     "metadata": {},
     "output_type": "execute_result"
    }
   ],
   "source": [
    "set(report.platform)"
   ]
  },
  {
   "cell_type": "code",
   "execution_count": null,
   "metadata": {
    "ExecuteTime": {
     "end_time": "2021-11-15T22:44:24.783908Z",
     "start_time": "2021-11-15T22:44:24.783887Z"
    }
   },
   "outputs": [],
   "source": [
    "match = {}\n",
    "for i, val in report['Files'].iteritems():\n",
    "    for j in val:\n",
    "        match[j] = i"
   ]
  },
  {
   "cell_type": "code",
   "execution_count": null,
   "metadata": {
    "ExecuteTime": {
     "end_time": "2021-11-15T22:44:24.900652Z",
     "start_time": "2021-11-15T22:44:24.900639Z"
    }
   },
   "outputs": [],
   "source": [
    "encode_ann = pd.DataFrame(columns=report.columns)\n",
    "for val in todl:\n",
    "    val = val.split('/')[-1].split('.')[0]\n",
    "    if val not in match:\n",
    "        print(val)\n",
    "    else:\n",
    "        encode_ann.loc[val] = report.loc[match[val]].values"
   ]
  },
  {
   "cell_type": "code",
   "execution_count": null,
   "metadata": {},
   "outputs": [],
   "source": [
    "encode_ann['sequencer'] = \"\"# MISSING\n",
    "encode_ann['reference']= \"hg38\"\n",
    "encode_ann['ends']=\"paired-end\"\n",
    "encode_ann['align'] = \"STAR\"\n",
    "encode_ann['dataset']=\"encode\""
   ]
  },
  {
   "cell_type": "code",
   "execution_count": 17,
   "metadata": {},
   "outputs": [
    {
     "ename": "ValueError",
     "evalue": "cannot reindex from a duplicate axis",
     "output_type": "error",
     "traceback": [
      "\u001b[0;31m---------------------------------------------------------------------------\u001b[0m",
      "\u001b[0;31mValueError\u001b[0m                                Traceback (most recent call last)",
      "\u001b[0;32m/tmp/ipykernel_5428/1526545396.py\u001b[0m in \u001b[0;36m<module>\u001b[0;34m\u001b[0m\n\u001b[1;32m      7\u001b[0m     \u001b[0mvl\u001b[0m \u001b[0;34m=\u001b[0m \u001b[0mvl\u001b[0m\u001b[0;34m.\u001b[0m\u001b[0mset_index\u001b[0m\u001b[0;34m(\u001b[0m\u001b[0;34m'gene_ID'\u001b[0m\u001b[0;34m,\u001b[0m \u001b[0mdrop\u001b[0m\u001b[0;34m=\u001b[0m\u001b[0;32mTrue\u001b[0m\u001b[0;34m)\u001b[0m\u001b[0;34m[\u001b[0m\u001b[0mvl\u001b[0m\u001b[0;34m.\u001b[0m\u001b[0mcolumns\u001b[0m\u001b[0;34m[\u001b[0m\u001b[0;34m-\u001b[0m\u001b[0;36m1\u001b[0m\u001b[0;34m]\u001b[0m\u001b[0;34m]\u001b[0m\u001b[0;34m.\u001b[0m\u001b[0mrename\u001b[0m\u001b[0;34m(\u001b[0m\u001b[0mval\u001b[0m\u001b[0;34m)\u001b[0m\u001b[0;34m\u001b[0m\u001b[0;34m\u001b[0m\u001b[0m\n\u001b[1;32m      8\u001b[0m   \u001b[0mres\u001b[0m\u001b[0;34m.\u001b[0m\u001b[0mappend\u001b[0m\u001b[0;34m(\u001b[0m\u001b[0mvl\u001b[0m\u001b[0;34m)\u001b[0m\u001b[0;34m\u001b[0m\u001b[0;34m\u001b[0m\u001b[0m\n\u001b[0;32m----> 9\u001b[0;31m \u001b[0mencode\u001b[0m \u001b[0;34m=\u001b[0m \u001b[0mpd\u001b[0m\u001b[0;34m.\u001b[0m\u001b[0mconcat\u001b[0m\u001b[0;34m(\u001b[0m\u001b[0mres\u001b[0m\u001b[0;34m,\u001b[0m \u001b[0maxis\u001b[0m\u001b[0;34m=\u001b[0m\u001b[0;36m1\u001b[0m\u001b[0;34m)\u001b[0m\u001b[0;34m\u001b[0m\u001b[0;34m\u001b[0m\u001b[0m\n\u001b[0m",
      "\u001b[0;32m~/miniconda3/envs/gae/lib/python3.8/site-packages/pandas/util/_decorators.py\u001b[0m in \u001b[0;36mwrapper\u001b[0;34m(*args, **kwargs)\u001b[0m\n\u001b[1;32m    309\u001b[0m                     \u001b[0mstacklevel\u001b[0m\u001b[0;34m=\u001b[0m\u001b[0mstacklevel\u001b[0m\u001b[0;34m,\u001b[0m\u001b[0;34m\u001b[0m\u001b[0;34m\u001b[0m\u001b[0m\n\u001b[1;32m    310\u001b[0m                 )\n\u001b[0;32m--> 311\u001b[0;31m             \u001b[0;32mreturn\u001b[0m \u001b[0mfunc\u001b[0m\u001b[0;34m(\u001b[0m\u001b[0;34m*\u001b[0m\u001b[0margs\u001b[0m\u001b[0;34m,\u001b[0m \u001b[0;34m**\u001b[0m\u001b[0mkwargs\u001b[0m\u001b[0;34m)\u001b[0m\u001b[0;34m\u001b[0m\u001b[0;34m\u001b[0m\u001b[0m\n\u001b[0m\u001b[1;32m    312\u001b[0m \u001b[0;34m\u001b[0m\u001b[0m\n\u001b[1;32m    313\u001b[0m         \u001b[0;32mreturn\u001b[0m \u001b[0mwrapper\u001b[0m\u001b[0;34m\u001b[0m\u001b[0;34m\u001b[0m\u001b[0m\n",
      "\u001b[0;32m~/miniconda3/envs/gae/lib/python3.8/site-packages/pandas/core/reshape/concat.py\u001b[0m in \u001b[0;36mconcat\u001b[0;34m(objs, axis, join, ignore_index, keys, levels, names, verify_integrity, sort, copy)\u001b[0m\n\u001b[1;32m    305\u001b[0m     )\n\u001b[1;32m    306\u001b[0m \u001b[0;34m\u001b[0m\u001b[0m\n\u001b[0;32m--> 307\u001b[0;31m     \u001b[0;32mreturn\u001b[0m \u001b[0mop\u001b[0m\u001b[0;34m.\u001b[0m\u001b[0mget_result\u001b[0m\u001b[0;34m(\u001b[0m\u001b[0;34m)\u001b[0m\u001b[0;34m\u001b[0m\u001b[0;34m\u001b[0m\u001b[0m\n\u001b[0m\u001b[1;32m    308\u001b[0m \u001b[0;34m\u001b[0m\u001b[0m\n\u001b[1;32m    309\u001b[0m \u001b[0;34m\u001b[0m\u001b[0m\n",
      "\u001b[0;32m~/miniconda3/envs/gae/lib/python3.8/site-packages/pandas/core/reshape/concat.py\u001b[0m in \u001b[0;36mget_result\u001b[0;34m(self)\u001b[0m\n\u001b[1;32m    506\u001b[0m \u001b[0;34m\u001b[0m\u001b[0m\n\u001b[1;32m    507\u001b[0m                 \u001b[0mindex\u001b[0m\u001b[0;34m,\u001b[0m \u001b[0mcolumns\u001b[0m \u001b[0;34m=\u001b[0m \u001b[0mself\u001b[0m\u001b[0;34m.\u001b[0m\u001b[0mnew_axes\u001b[0m\u001b[0;34m\u001b[0m\u001b[0;34m\u001b[0m\u001b[0m\n\u001b[0;32m--> 508\u001b[0;31m                 \u001b[0mdf\u001b[0m \u001b[0;34m=\u001b[0m \u001b[0mcons\u001b[0m\u001b[0;34m(\u001b[0m\u001b[0mdata\u001b[0m\u001b[0;34m,\u001b[0m \u001b[0mindex\u001b[0m\u001b[0;34m=\u001b[0m\u001b[0mindex\u001b[0m\u001b[0;34m,\u001b[0m \u001b[0mcopy\u001b[0m\u001b[0;34m=\u001b[0m\u001b[0mself\u001b[0m\u001b[0;34m.\u001b[0m\u001b[0mcopy\u001b[0m\u001b[0;34m)\u001b[0m\u001b[0;34m\u001b[0m\u001b[0;34m\u001b[0m\u001b[0m\n\u001b[0m\u001b[1;32m    509\u001b[0m                 \u001b[0mdf\u001b[0m\u001b[0;34m.\u001b[0m\u001b[0mcolumns\u001b[0m \u001b[0;34m=\u001b[0m \u001b[0mcolumns\u001b[0m\u001b[0;34m\u001b[0m\u001b[0;34m\u001b[0m\u001b[0m\n\u001b[1;32m    510\u001b[0m                 \u001b[0;32mreturn\u001b[0m \u001b[0mdf\u001b[0m\u001b[0;34m.\u001b[0m\u001b[0m__finalize__\u001b[0m\u001b[0;34m(\u001b[0m\u001b[0mself\u001b[0m\u001b[0;34m,\u001b[0m \u001b[0mmethod\u001b[0m\u001b[0;34m=\u001b[0m\u001b[0;34m\"concat\"\u001b[0m\u001b[0;34m)\u001b[0m\u001b[0;34m\u001b[0m\u001b[0;34m\u001b[0m\u001b[0m\n",
      "\u001b[0;32m~/miniconda3/envs/gae/lib/python3.8/site-packages/pandas/core/frame.py\u001b[0m in \u001b[0;36m__init__\u001b[0;34m(self, data, index, columns, dtype, copy)\u001b[0m\n\u001b[1;32m    612\u001b[0m         \u001b[0;32melif\u001b[0m \u001b[0misinstance\u001b[0m\u001b[0;34m(\u001b[0m\u001b[0mdata\u001b[0m\u001b[0;34m,\u001b[0m \u001b[0mdict\u001b[0m\u001b[0;34m)\u001b[0m\u001b[0;34m:\u001b[0m\u001b[0;34m\u001b[0m\u001b[0;34m\u001b[0m\u001b[0m\n\u001b[1;32m    613\u001b[0m             \u001b[0;31m# GH#38939 de facto copy defaults to False only in non-dict cases\u001b[0m\u001b[0;34m\u001b[0m\u001b[0;34m\u001b[0m\u001b[0;34m\u001b[0m\u001b[0m\n\u001b[0;32m--> 614\u001b[0;31m             \u001b[0mmgr\u001b[0m \u001b[0;34m=\u001b[0m \u001b[0mdict_to_mgr\u001b[0m\u001b[0;34m(\u001b[0m\u001b[0mdata\u001b[0m\u001b[0;34m,\u001b[0m \u001b[0mindex\u001b[0m\u001b[0;34m,\u001b[0m \u001b[0mcolumns\u001b[0m\u001b[0;34m,\u001b[0m \u001b[0mdtype\u001b[0m\u001b[0;34m=\u001b[0m\u001b[0mdtype\u001b[0m\u001b[0;34m,\u001b[0m \u001b[0mcopy\u001b[0m\u001b[0;34m=\u001b[0m\u001b[0mcopy\u001b[0m\u001b[0;34m,\u001b[0m \u001b[0mtyp\u001b[0m\u001b[0;34m=\u001b[0m\u001b[0mmanager\u001b[0m\u001b[0;34m)\u001b[0m\u001b[0;34m\u001b[0m\u001b[0;34m\u001b[0m\u001b[0m\n\u001b[0m\u001b[1;32m    615\u001b[0m         \u001b[0;32melif\u001b[0m \u001b[0misinstance\u001b[0m\u001b[0;34m(\u001b[0m\u001b[0mdata\u001b[0m\u001b[0;34m,\u001b[0m \u001b[0mma\u001b[0m\u001b[0;34m.\u001b[0m\u001b[0mMaskedArray\u001b[0m\u001b[0;34m)\u001b[0m\u001b[0;34m:\u001b[0m\u001b[0;34m\u001b[0m\u001b[0;34m\u001b[0m\u001b[0m\n\u001b[1;32m    616\u001b[0m             \u001b[0;32mimport\u001b[0m \u001b[0mnumpy\u001b[0m\u001b[0;34m.\u001b[0m\u001b[0mma\u001b[0m\u001b[0;34m.\u001b[0m\u001b[0mmrecords\u001b[0m \u001b[0;32mas\u001b[0m \u001b[0mmrecords\u001b[0m\u001b[0;34m\u001b[0m\u001b[0;34m\u001b[0m\u001b[0m\n",
      "\u001b[0;32m~/miniconda3/envs/gae/lib/python3.8/site-packages/pandas/core/internals/construction.py\u001b[0m in \u001b[0;36mdict_to_mgr\u001b[0;34m(data, index, columns, dtype, typ, copy)\u001b[0m\n\u001b[1;32m    462\u001b[0m         \u001b[0;31m# TODO: can we get rid of the dt64tz special case above?\u001b[0m\u001b[0;34m\u001b[0m\u001b[0;34m\u001b[0m\u001b[0;34m\u001b[0m\u001b[0m\n\u001b[1;32m    463\u001b[0m \u001b[0;34m\u001b[0m\u001b[0m\n\u001b[0;32m--> 464\u001b[0;31m     return arrays_to_mgr(\n\u001b[0m\u001b[1;32m    465\u001b[0m         \u001b[0marrays\u001b[0m\u001b[0;34m,\u001b[0m \u001b[0mdata_names\u001b[0m\u001b[0;34m,\u001b[0m \u001b[0mindex\u001b[0m\u001b[0;34m,\u001b[0m \u001b[0mcolumns\u001b[0m\u001b[0;34m,\u001b[0m \u001b[0mdtype\u001b[0m\u001b[0;34m=\u001b[0m\u001b[0mdtype\u001b[0m\u001b[0;34m,\u001b[0m \u001b[0mtyp\u001b[0m\u001b[0;34m=\u001b[0m\u001b[0mtyp\u001b[0m\u001b[0;34m,\u001b[0m \u001b[0mconsolidate\u001b[0m\u001b[0;34m=\u001b[0m\u001b[0mcopy\u001b[0m\u001b[0;34m\u001b[0m\u001b[0;34m\u001b[0m\u001b[0m\n\u001b[1;32m    466\u001b[0m     )\n",
      "\u001b[0;32m~/miniconda3/envs/gae/lib/python3.8/site-packages/pandas/core/internals/construction.py\u001b[0m in \u001b[0;36marrays_to_mgr\u001b[0;34m(arrays, arr_names, index, columns, dtype, verify_integrity, typ, consolidate)\u001b[0m\n\u001b[1;32m    122\u001b[0m \u001b[0;34m\u001b[0m\u001b[0m\n\u001b[1;32m    123\u001b[0m         \u001b[0;31m# don't force copy because getting jammed in an ndarray anyway\u001b[0m\u001b[0;34m\u001b[0m\u001b[0;34m\u001b[0m\u001b[0;34m\u001b[0m\u001b[0m\n\u001b[0;32m--> 124\u001b[0;31m         \u001b[0marrays\u001b[0m \u001b[0;34m=\u001b[0m \u001b[0m_homogenize\u001b[0m\u001b[0;34m(\u001b[0m\u001b[0marrays\u001b[0m\u001b[0;34m,\u001b[0m \u001b[0mindex\u001b[0m\u001b[0;34m,\u001b[0m \u001b[0mdtype\u001b[0m\u001b[0;34m)\u001b[0m\u001b[0;34m\u001b[0m\u001b[0;34m\u001b[0m\u001b[0m\n\u001b[0m\u001b[1;32m    125\u001b[0m \u001b[0;34m\u001b[0m\u001b[0m\n\u001b[1;32m    126\u001b[0m     \u001b[0;32melse\u001b[0m\u001b[0;34m:\u001b[0m\u001b[0;34m\u001b[0m\u001b[0;34m\u001b[0m\u001b[0m\n",
      "\u001b[0;32m~/miniconda3/envs/gae/lib/python3.8/site-packages/pandas/core/internals/construction.py\u001b[0m in \u001b[0;36m_homogenize\u001b[0;34m(data, index, dtype)\u001b[0m\n\u001b[1;32m    569\u001b[0m                 \u001b[0;31m# Forces alignment. No need to copy data since we\u001b[0m\u001b[0;34m\u001b[0m\u001b[0;34m\u001b[0m\u001b[0;34m\u001b[0m\u001b[0m\n\u001b[1;32m    570\u001b[0m                 \u001b[0;31m# are putting it into an ndarray later\u001b[0m\u001b[0;34m\u001b[0m\u001b[0;34m\u001b[0m\u001b[0;34m\u001b[0m\u001b[0m\n\u001b[0;32m--> 571\u001b[0;31m                 \u001b[0mval\u001b[0m \u001b[0;34m=\u001b[0m \u001b[0mval\u001b[0m\u001b[0;34m.\u001b[0m\u001b[0mreindex\u001b[0m\u001b[0;34m(\u001b[0m\u001b[0mindex\u001b[0m\u001b[0;34m,\u001b[0m \u001b[0mcopy\u001b[0m\u001b[0;34m=\u001b[0m\u001b[0;32mFalse\u001b[0m\u001b[0;34m)\u001b[0m\u001b[0;34m\u001b[0m\u001b[0;34m\u001b[0m\u001b[0m\n\u001b[0m\u001b[1;32m    572\u001b[0m \u001b[0;34m\u001b[0m\u001b[0m\n\u001b[1;32m    573\u001b[0m             \u001b[0mval\u001b[0m \u001b[0;34m=\u001b[0m \u001b[0mval\u001b[0m\u001b[0;34m.\u001b[0m\u001b[0m_values\u001b[0m\u001b[0;34m\u001b[0m\u001b[0;34m\u001b[0m\u001b[0m\n",
      "\u001b[0;32m~/miniconda3/envs/gae/lib/python3.8/site-packages/pandas/core/series.py\u001b[0m in \u001b[0;36mreindex\u001b[0;34m(self, index, **kwargs)\u001b[0m\n\u001b[1;32m   4578\u001b[0m     )\n\u001b[1;32m   4579\u001b[0m     \u001b[0;32mdef\u001b[0m \u001b[0mreindex\u001b[0m\u001b[0;34m(\u001b[0m\u001b[0mself\u001b[0m\u001b[0;34m,\u001b[0m \u001b[0mindex\u001b[0m\u001b[0;34m=\u001b[0m\u001b[0;32mNone\u001b[0m\u001b[0;34m,\u001b[0m \u001b[0;34m**\u001b[0m\u001b[0mkwargs\u001b[0m\u001b[0;34m)\u001b[0m\u001b[0;34m:\u001b[0m\u001b[0;34m\u001b[0m\u001b[0;34m\u001b[0m\u001b[0m\n\u001b[0;32m-> 4580\u001b[0;31m         \u001b[0;32mreturn\u001b[0m \u001b[0msuper\u001b[0m\u001b[0;34m(\u001b[0m\u001b[0;34m)\u001b[0m\u001b[0;34m.\u001b[0m\u001b[0mreindex\u001b[0m\u001b[0;34m(\u001b[0m\u001b[0mindex\u001b[0m\u001b[0;34m=\u001b[0m\u001b[0mindex\u001b[0m\u001b[0;34m,\u001b[0m \u001b[0;34m**\u001b[0m\u001b[0mkwargs\u001b[0m\u001b[0;34m)\u001b[0m\u001b[0;34m\u001b[0m\u001b[0;34m\u001b[0m\u001b[0m\n\u001b[0m\u001b[1;32m   4581\u001b[0m \u001b[0;34m\u001b[0m\u001b[0m\n\u001b[1;32m   4582\u001b[0m     \u001b[0;34m@\u001b[0m\u001b[0mdeprecate_nonkeyword_arguments\u001b[0m\u001b[0;34m(\u001b[0m\u001b[0mversion\u001b[0m\u001b[0;34m=\u001b[0m\u001b[0;32mNone\u001b[0m\u001b[0;34m,\u001b[0m \u001b[0mallowed_args\u001b[0m\u001b[0;34m=\u001b[0m\u001b[0;34m[\u001b[0m\u001b[0;34m\"self\"\u001b[0m\u001b[0;34m,\u001b[0m \u001b[0;34m\"labels\"\u001b[0m\u001b[0;34m]\u001b[0m\u001b[0;34m)\u001b[0m\u001b[0;34m\u001b[0m\u001b[0;34m\u001b[0m\u001b[0m\n",
      "\u001b[0;32m~/miniconda3/envs/gae/lib/python3.8/site-packages/pandas/core/generic.py\u001b[0m in \u001b[0;36mreindex\u001b[0;34m(self, *args, **kwargs)\u001b[0m\n\u001b[1;32m   4816\u001b[0m \u001b[0;34m\u001b[0m\u001b[0m\n\u001b[1;32m   4817\u001b[0m         \u001b[0;31m# perform the reindex on the axes\u001b[0m\u001b[0;34m\u001b[0m\u001b[0;34m\u001b[0m\u001b[0;34m\u001b[0m\u001b[0m\n\u001b[0;32m-> 4818\u001b[0;31m         return self._reindex_axes(\n\u001b[0m\u001b[1;32m   4819\u001b[0m             \u001b[0maxes\u001b[0m\u001b[0;34m,\u001b[0m \u001b[0mlevel\u001b[0m\u001b[0;34m,\u001b[0m \u001b[0mlimit\u001b[0m\u001b[0;34m,\u001b[0m \u001b[0mtolerance\u001b[0m\u001b[0;34m,\u001b[0m \u001b[0mmethod\u001b[0m\u001b[0;34m,\u001b[0m \u001b[0mfill_value\u001b[0m\u001b[0;34m,\u001b[0m \u001b[0mcopy\u001b[0m\u001b[0;34m\u001b[0m\u001b[0;34m\u001b[0m\u001b[0m\n\u001b[1;32m   4820\u001b[0m         ).__finalize__(self, method=\"reindex\")\n",
      "\u001b[0;32m~/miniconda3/envs/gae/lib/python3.8/site-packages/pandas/core/generic.py\u001b[0m in \u001b[0;36m_reindex_axes\u001b[0;34m(self, axes, level, limit, tolerance, method, fill_value, copy)\u001b[0m\n\u001b[1;32m   4837\u001b[0m \u001b[0;34m\u001b[0m\u001b[0m\n\u001b[1;32m   4838\u001b[0m             \u001b[0maxis\u001b[0m \u001b[0;34m=\u001b[0m \u001b[0mself\u001b[0m\u001b[0;34m.\u001b[0m\u001b[0m_get_axis_number\u001b[0m\u001b[0;34m(\u001b[0m\u001b[0ma\u001b[0m\u001b[0;34m)\u001b[0m\u001b[0;34m\u001b[0m\u001b[0;34m\u001b[0m\u001b[0m\n\u001b[0;32m-> 4839\u001b[0;31m             obj = obj._reindex_with_indexers(\n\u001b[0m\u001b[1;32m   4840\u001b[0m                 \u001b[0;34m{\u001b[0m\u001b[0maxis\u001b[0m\u001b[0;34m:\u001b[0m \u001b[0;34m[\u001b[0m\u001b[0mnew_index\u001b[0m\u001b[0;34m,\u001b[0m \u001b[0mindexer\u001b[0m\u001b[0;34m]\u001b[0m\u001b[0;34m}\u001b[0m\u001b[0;34m,\u001b[0m\u001b[0;34m\u001b[0m\u001b[0;34m\u001b[0m\u001b[0m\n\u001b[1;32m   4841\u001b[0m                 \u001b[0mfill_value\u001b[0m\u001b[0;34m=\u001b[0m\u001b[0mfill_value\u001b[0m\u001b[0;34m,\u001b[0m\u001b[0;34m\u001b[0m\u001b[0;34m\u001b[0m\u001b[0m\n",
      "\u001b[0;32m~/miniconda3/envs/gae/lib/python3.8/site-packages/pandas/core/generic.py\u001b[0m in \u001b[0;36m_reindex_with_indexers\u001b[0;34m(self, reindexers, fill_value, copy, allow_dups)\u001b[0m\n\u001b[1;32m   4881\u001b[0m \u001b[0;34m\u001b[0m\u001b[0m\n\u001b[1;32m   4882\u001b[0m             \u001b[0;31m# TODO: speed up on homogeneous DataFrame objects\u001b[0m\u001b[0;34m\u001b[0m\u001b[0;34m\u001b[0m\u001b[0;34m\u001b[0m\u001b[0m\n\u001b[0;32m-> 4883\u001b[0;31m             new_data = new_data.reindex_indexer(\n\u001b[0m\u001b[1;32m   4884\u001b[0m                 \u001b[0mindex\u001b[0m\u001b[0;34m,\u001b[0m\u001b[0;34m\u001b[0m\u001b[0;34m\u001b[0m\u001b[0m\n\u001b[1;32m   4885\u001b[0m                 \u001b[0mindexer\u001b[0m\u001b[0;34m,\u001b[0m\u001b[0;34m\u001b[0m\u001b[0;34m\u001b[0m\u001b[0m\n",
      "\u001b[0;32m~/miniconda3/envs/gae/lib/python3.8/site-packages/pandas/core/internals/managers.py\u001b[0m in \u001b[0;36mreindex_indexer\u001b[0;34m(self, new_axis, indexer, axis, fill_value, allow_dups, copy, consolidate, only_slice)\u001b[0m\n\u001b[1;32m    668\u001b[0m         \u001b[0;31m# some axes don't allow reindexing with dups\u001b[0m\u001b[0;34m\u001b[0m\u001b[0;34m\u001b[0m\u001b[0;34m\u001b[0m\u001b[0m\n\u001b[1;32m    669\u001b[0m         \u001b[0;32mif\u001b[0m \u001b[0;32mnot\u001b[0m \u001b[0mallow_dups\u001b[0m\u001b[0;34m:\u001b[0m\u001b[0;34m\u001b[0m\u001b[0;34m\u001b[0m\u001b[0m\n\u001b[0;32m--> 670\u001b[0;31m             \u001b[0mself\u001b[0m\u001b[0;34m.\u001b[0m\u001b[0maxes\u001b[0m\u001b[0;34m[\u001b[0m\u001b[0maxis\u001b[0m\u001b[0;34m]\u001b[0m\u001b[0;34m.\u001b[0m\u001b[0m_validate_can_reindex\u001b[0m\u001b[0;34m(\u001b[0m\u001b[0mindexer\u001b[0m\u001b[0;34m)\u001b[0m\u001b[0;34m\u001b[0m\u001b[0;34m\u001b[0m\u001b[0m\n\u001b[0m\u001b[1;32m    671\u001b[0m \u001b[0;34m\u001b[0m\u001b[0m\n\u001b[1;32m    672\u001b[0m         \u001b[0;32mif\u001b[0m \u001b[0maxis\u001b[0m \u001b[0;34m>=\u001b[0m \u001b[0mself\u001b[0m\u001b[0;34m.\u001b[0m\u001b[0mndim\u001b[0m\u001b[0;34m:\u001b[0m\u001b[0;34m\u001b[0m\u001b[0;34m\u001b[0m\u001b[0m\n",
      "\u001b[0;32m~/miniconda3/envs/gae/lib/python3.8/site-packages/pandas/core/indexes/base.py\u001b[0m in \u001b[0;36m_validate_can_reindex\u001b[0;34m(self, indexer)\u001b[0m\n\u001b[1;32m   3783\u001b[0m         \u001b[0;31m# trying to reindex on an axis with duplicates\u001b[0m\u001b[0;34m\u001b[0m\u001b[0;34m\u001b[0m\u001b[0;34m\u001b[0m\u001b[0m\n\u001b[1;32m   3784\u001b[0m         \u001b[0;32mif\u001b[0m \u001b[0;32mnot\u001b[0m \u001b[0mself\u001b[0m\u001b[0;34m.\u001b[0m\u001b[0m_index_as_unique\u001b[0m \u001b[0;32mand\u001b[0m \u001b[0mlen\u001b[0m\u001b[0;34m(\u001b[0m\u001b[0mindexer\u001b[0m\u001b[0;34m)\u001b[0m\u001b[0;34m:\u001b[0m\u001b[0;34m\u001b[0m\u001b[0;34m\u001b[0m\u001b[0m\n\u001b[0;32m-> 3785\u001b[0;31m             \u001b[0;32mraise\u001b[0m \u001b[0mValueError\u001b[0m\u001b[0;34m(\u001b[0m\u001b[0;34m\"cannot reindex from a duplicate axis\"\u001b[0m\u001b[0;34m)\u001b[0m\u001b[0;34m\u001b[0m\u001b[0;34m\u001b[0m\u001b[0m\n\u001b[0m\u001b[1;32m   3786\u001b[0m \u001b[0;34m\u001b[0m\u001b[0m\n\u001b[1;32m   3787\u001b[0m     def reindex(\n",
      "\u001b[0;31mValueError\u001b[0m: cannot reindex from a duplicate axis"
     ]
    }
   ],
   "source": [
    "res = []\n",
    "for val in encode_ann.index:\n",
    "    vl = pd.read_csv('https://www.encodeproject.org/files/'+val+'/@@download/'+val+'.tsv', sep='\\t')\n",
    "    try:\n",
    "        vl = vl.set_index('gene_id', drop=True)['TPM'].rename(val)\n",
    "    except KeyError:\n",
    "        vl = vl.set_index('gene_ID', drop=True)[vl.columns[-1]].rename(val)\n",
    "    res.append(vl)\n",
    "encode = pd.concat(res, axis=1)"
   ]
  },
  {
   "cell_type": "markdown",
   "metadata": {},
   "source": [
    "## ICGC"
   ]
  },
  {
   "cell_type": "code",
   "execution_count": 70,
   "metadata": {
    "ExecuteTime": {
     "end_time": "2021-11-10T12:21:26.401223Z",
     "start_time": "2021-11-10T12:21:26.377718Z"
    }
   },
   "outputs": [],
   "source": [
    "icgclist = [\"https://dcc.icgc.org/api/v1/download?fn=/current/Projects/BOCA-FR/exp_seq.BOCA-FR.tsv.gz\",\n",
    "\"https://dcc.icgc.org/api/v1/download?fn=/current/Projects/BPLL-FR/exp_seq.BPLL-FR.tsv.gz\",\n",
    "\"https://dcc.icgc.org/api/v1/download?fn=/current/Projects/BRCA-KR/exp_seq.BRCA-KR.tsv.gz\",\n",
    "\"https://dcc.icgc.org/api/v1/download?fn=/current/Projects/LICA-FR/exp_seq.LICA-FR.tsv.gz\",\n",
    "\"https://dcc.icgc.org/api/v1/download?fn=/current/Projects/LIRI-JP/exp_seq.LIRI-JP.tsv.gz\",\n",
    "\"https://dcc.icgc.org/api/v1/download?fn=/current/Projects/ORCA-IN/exp_seq.ORCA-IN.tsv.gz\",\n",
    "\"https://dcc.icgc.org/api/v1/download?fn=/current/Projects/OV-AU/exp_seq.OV-AU.tsv.gz\",\n",
    "\"https://dcc.icgc.org/api/v1/download?fn=/current/Projects/PACA-AU/exp_seq.PACA-AU.tsv.gz\",\n",
    "\"https://dcc.icgc.org/api/v1/download?fn=/current/Projects/PACA-CA/exp_seq.PACA-CA.tsv.gz\",\n",
    "\"https://dcc.icgc.org/api/v1/download?fn=/current/Projects/PRAD-CA/exp_seq.PRAD-CA.tsv.gz\",\n",
    "\"https://dcc.icgc.org/api/v1/download?fn=/current/Projects/PRAD-FR/exp_seq.PRAD-FR.tsv.gz\",\n",
    "\"https://dcc.icgc.org/api/v1/download?fn=/current/Projects/CLLE-ES/exp_seq.CLLE-ES.tsv.gz\",\n",
    "\"https://dcc.icgc.org/api/v1/download?fn=/current/Projects/MALY-DE/exp_seq.MALY-DE.tsv.gz\",\n",
    "\"https://dcc.icgc.org/api/v1/download?fn=/current/Projects/PAEN-AU/exp_seq.PAEN-AU.tsv.gz\",\n",
    "\"https://dcc.icgc.org/api/v1/download?fn=/current/Projects/RECA-EU/exp_seq.RECA-EU.tsv.gz\"]"
   ]
  },
  {
   "cell_type": "code",
   "execution_count": 69,
   "metadata": {
    "ExecuteTime": {
     "end_time": "2021-11-10T12:20:57.816674Z",
     "start_time": "2021-11-10T12:20:57.779259Z"
    },
    "scrolled": true
   },
   "outputs": [
    {
     "data": {
      "text/plain": [
       "'download\\\\?fn\\\\=/current/Projects/BOCA-FR/exp_seq.BOCA-FR.tsv.gz'"
      ]
     },
     "execution_count": 69,
     "metadata": {},
     "output_type": "execute_result"
    }
   ],
   "source": [
    "res = []\n",
    "for val in icgc:\n",
    "    val = pd.read_csv(val, sep='\\t')\n",
    "    print(set(val['platform']), set(val['gene_model']), set(val['experimental_protocol']), set(val['assembly_version']), set(val['alignment_algorithm']), set(val['normalization_algorithm']))\n",
    "    res.append(pd.concat([val.loc[val['icgc_sample_id']==i, ['gene_id', 'normalized_read_count']].set_index('gene_id').rename(columns={'normalized_read_count':i}) for i in list(set(val['icgc_sample_id']))], axis=1))\n",
    "icgc = pd.concat(res, axis=1)"
   ]
  },
  {
   "cell_type": "code",
   "execution_count": 49,
   "metadata": {
    "ExecuteTime": {
     "end_time": "2021-11-10T12:14:26.539030Z",
     "start_time": "2021-11-10T12:14:26.505422Z"
    },
    "scrolled": true
   },
   "outputs": [
    {
     "data": {
      "text/plain": [
       "Index(['project_code', 'study_donor_involved_in', 'submitted_donor_id',\n",
       "       'donor_sex', 'donor_vital_status', 'disease_status_last_followup',\n",
       "       'donor_relapse_type', 'donor_age_at_diagnosis',\n",
       "       'donor_age_at_enrollment', 'donor_age_at_last_followup',\n",
       "       'donor_relapse_interval', 'donor_diagnosis_icd10',\n",
       "       'donor_tumour_staging_system_at_diagnosis',\n",
       "       'donor_tumour_stage_at_diagnosis',\n",
       "       'donor_tumour_stage_at_diagnosis_supplemental', 'donor_survival_time',\n",
       "       'donor_interval_of_last_followup', 'prior_malignancy',\n",
       "       'cancer_type_prior_malignancy', 'cancer_history_first_degree_relative'],\n",
       "      dtype='object')"
      ]
     },
     "execution_count": 49,
     "metadata": {},
     "output_type": "execute_result"
    }
   ],
   "source": [
    "donor = pd.read_csv(\"data/donor.tsv\", sep=\"\\t\", index_col=0)\n",
    "donor.columns"
   ]
  },
  {
   "cell_type": "code",
   "execution_count": 51,
   "metadata": {
    "ExecuteTime": {
     "end_time": "2021-11-10T12:15:15.529464Z",
     "start_time": "2021-11-10T12:15:15.494478Z"
    }
   },
   "outputs": [],
   "source": [
    "more = pd.read_csv('data/donors_more_csv', index_col=0)\n",
    "donor.loc[more.index, 'Primary Site'] = more['Primary Site']"
   ]
  },
  {
   "cell_type": "code",
   "execution_count": 52,
   "metadata": {
    "ExecuteTime": {
     "end_time": "2021-11-10T12:15:22.730770Z",
     "start_time": "2021-11-10T12:15:22.692992Z"
    }
   },
   "outputs": [],
   "source": [
    "donor = donor[[\"donor_sex\", \"donor_relapse_type\", \"donor_age_at_enrollment\", \"donor_diagnosis_icd10\", \"donor_tumour_stage_at_diagnosis\", 'Primary Site']]"
   ]
  },
  {
   "cell_type": "code",
   "execution_count": 53,
   "metadata": {
    "ExecuteTime": {
     "end_time": "2021-11-10T12:15:26.066088Z",
     "start_time": "2021-11-10T12:15:25.982415Z"
    }
   },
   "outputs": [
    {
     "data": {
      "text/plain": [
       "project_code                                                                     CLLE-ES\n",
       "study_specimen_involved_in                                                           NaN\n",
       "submitted_specimen_id                                                      060-0123-01TD\n",
       "icgc_donor_id                                                                    DO51966\n",
       "submitted_donor_id                                                                    60\n",
       "specimen_type                          Primary tumour - blood derived (peripheral blood)\n",
       "specimen_type_other                                                                  NaN\n",
       "specimen_interval                                                                 3586.0\n",
       "specimen_donor_treatment_type                                               no treatment\n",
       "specimen_donor_treatment_type_other                                                  NaN\n",
       "specimen_processing                                                                fresh\n",
       "specimen_processing_other                                                            NaN\n",
       "specimen_storage                                                     frozen, -70 freezer\n",
       "specimen_storage_other                                                               NaN\n",
       "tumour_confirmed                                                                      no\n",
       "specimen_biobank                                                                     NaN\n",
       "specimen_biobank_id                                                                  NaN\n",
       "specimen_available                                                                   NaN\n",
       "tumour_histological_type                                                             NaN\n",
       "tumour_grading_system                                                                NaN\n",
       "tumour_grade                                                                         NaN\n",
       "tumour_grade_supplemental                                                            NaN\n",
       "tumour_stage_system                                                                BINET\n",
       "tumour_stage                                                                           3\n",
       "tumour_stage_supplemental                                                            NaN\n",
       "digital_image_of_stained_section                                                     NaN\n",
       "percentage_cellularity                                                               NaN\n",
       "level_of_cellularity                                                                 NaN\n",
       "Name: SP130360, dtype: object"
      ]
     },
     "execution_count": 53,
     "metadata": {},
     "output_type": "execute_result"
    }
   ],
   "source": [
    "specimen = pd.read_csv(\"data/specimen.tsv\", sep=\"\\t\", index_col=0)\n",
    "specimen.iloc[0]"
   ]
  },
  {
   "cell_type": "code",
   "execution_count": 54,
   "metadata": {
    "ExecuteTime": {
     "end_time": "2021-11-10T12:15:28.635528Z",
     "start_time": "2021-11-10T12:15:28.611864Z"
    }
   },
   "outputs": [],
   "source": [
    "specimen = specimen[[\"icgc_donor_id\", \"specimen_type\", \"specimen_storage\", \"specimen_processing\"]]"
   ]
  },
  {
   "cell_type": "code",
   "execution_count": 55,
   "metadata": {
    "ExecuteTime": {
     "end_time": "2021-11-10T12:15:38.621746Z",
     "start_time": "2021-11-10T12:15:30.903714Z"
    }
   },
   "outputs": [],
   "source": [
    "for i, val in specimen.iterrows():\n",
    "    specimen.loc[i, donor.columns] = donor.loc[val.icgc_donor_id].values "
   ]
  },
  {
   "cell_type": "code",
   "execution_count": 59,
   "metadata": {
    "ExecuteTime": {
     "end_time": "2021-11-10T12:17:29.802395Z",
     "start_time": "2021-11-10T12:17:29.750698Z"
    },
    "scrolled": true
   },
   "outputs": [
    {
     "data": {
      "text/html": [
       "<div>\n",
       "<style scoped>\n",
       "    .dataframe tbody tr th:only-of-type {\n",
       "        vertical-align: middle;\n",
       "    }\n",
       "\n",
       "    .dataframe tbody tr th {\n",
       "        vertical-align: top;\n",
       "    }\n",
       "\n",
       "    .dataframe thead th {\n",
       "        text-align: right;\n",
       "    }\n",
       "</style>\n",
       "<table border=\"1\" class=\"dataframe\">\n",
       "  <thead>\n",
       "    <tr style=\"text-align: right;\">\n",
       "      <th></th>\n",
       "      <th>project_code</th>\n",
       "      <th>submitted_sample_id</th>\n",
       "      <th>icgc_specimen_id</th>\n",
       "      <th>submitted_specimen_id</th>\n",
       "      <th>icgc_donor_id</th>\n",
       "      <th>submitted_donor_id</th>\n",
       "      <th>analyzed_sample_interval</th>\n",
       "      <th>percentage_cellularity</th>\n",
       "      <th>level_of_cellularity</th>\n",
       "      <th>study</th>\n",
       "    </tr>\n",
       "    <tr>\n",
       "      <th>icgc_sample_id</th>\n",
       "      <th></th>\n",
       "      <th></th>\n",
       "      <th></th>\n",
       "      <th></th>\n",
       "      <th></th>\n",
       "      <th></th>\n",
       "      <th></th>\n",
       "      <th></th>\n",
       "      <th></th>\n",
       "      <th></th>\n",
       "    </tr>\n",
       "  </thead>\n",
       "  <tbody>\n",
       "    <tr>\n",
       "      <th>SA564770</th>\n",
       "      <td>CLLE-ES</td>\n",
       "      <td>060-0123-01TD</td>\n",
       "      <td>SP130360</td>\n",
       "      <td>060-0123-01TD</td>\n",
       "      <td>DO51966</td>\n",
       "      <td>60</td>\n",
       "      <td>315.0</td>\n",
       "      <td>97.0</td>\n",
       "      <td>NaN</td>\n",
       "      <td>NaN</td>\n",
       "    </tr>\n",
       "    <tr>\n",
       "      <th>SA564151</th>\n",
       "      <td>CLLE-ES</td>\n",
       "      <td>060-01-2ND</td>\n",
       "      <td>SP130410</td>\n",
       "      <td>060-01-2ND</td>\n",
       "      <td>DO51966</td>\n",
       "      <td>60</td>\n",
       "      <td>NaN</td>\n",
       "      <td>98.0</td>\n",
       "      <td>NaN</td>\n",
       "      <td>NaN</td>\n",
       "    </tr>\n",
       "    <tr>\n",
       "      <th>SA602505</th>\n",
       "      <td>CLLE-ES</td>\n",
       "      <td>060-0123-02ND</td>\n",
       "      <td>SP199735</td>\n",
       "      <td>060-0123-02ND</td>\n",
       "      <td>DO51966</td>\n",
       "      <td>60</td>\n",
       "      <td>NaN</td>\n",
       "      <td>NaN</td>\n",
       "      <td>NaN</td>\n",
       "      <td>NaN</td>\n",
       "    </tr>\n",
       "    <tr>\n",
       "      <th>SA564150</th>\n",
       "      <td>CLLE-ES</td>\n",
       "      <td>060-02-01ND</td>\n",
       "      <td>SP130409</td>\n",
       "      <td>060-02-01ND</td>\n",
       "      <td>DO51966</td>\n",
       "      <td>60</td>\n",
       "      <td>NaN</td>\n",
       "      <td>99.0</td>\n",
       "      <td>NaN</td>\n",
       "      <td>NaN</td>\n",
       "    </tr>\n",
       "    <tr>\n",
       "      <th>SA538928</th>\n",
       "      <td>CLLE-ES</td>\n",
       "      <td>060-0123-03TR</td>\n",
       "      <td>SP114999</td>\n",
       "      <td>060-0123-03TR</td>\n",
       "      <td>DO51966</td>\n",
       "      <td>60</td>\n",
       "      <td>315.0</td>\n",
       "      <td>NaN</td>\n",
       "      <td>NaN</td>\n",
       "      <td>NaN</td>\n",
       "    </tr>\n",
       "    <tr>\n",
       "      <th>...</th>\n",
       "      <td>...</td>\n",
       "      <td>...</td>\n",
       "      <td>...</td>\n",
       "      <td>...</td>\n",
       "      <td>...</td>\n",
       "      <td>...</td>\n",
       "      <td>...</td>\n",
       "      <td>...</td>\n",
       "      <td>...</td>\n",
       "      <td>...</td>\n",
       "    </tr>\n",
       "    <tr>\n",
       "      <th>SA607197</th>\n",
       "      <td>BPLL-FR</td>\n",
       "      <td>14_3</td>\n",
       "      <td>SP202799</td>\n",
       "      <td>B-PLL_32_tumor</td>\n",
       "      <td>DO233963</td>\n",
       "      <td>B-PLL_32</td>\n",
       "      <td>NaN</td>\n",
       "      <td>NaN</td>\n",
       "      <td>NaN</td>\n",
       "      <td>NaN</td>\n",
       "    </tr>\n",
       "    <tr>\n",
       "      <th>SA607150</th>\n",
       "      <td>BPLL-FR</td>\n",
       "      <td>14_2</td>\n",
       "      <td>SP202986</td>\n",
       "      <td>B-PLL_32_control</td>\n",
       "      <td>DO233963</td>\n",
       "      <td>B-PLL_32</td>\n",
       "      <td>NaN</td>\n",
       "      <td>NaN</td>\n",
       "      <td>NaN</td>\n",
       "      <td>NaN</td>\n",
       "    </tr>\n",
       "    <tr>\n",
       "      <th>SA538993</th>\n",
       "      <td>CLLE-ES</td>\n",
       "      <td>356-01-8ND</td>\n",
       "      <td>SP115086</td>\n",
       "      <td>356-01-8ND</td>\n",
       "      <td>DO7084</td>\n",
       "      <td>356</td>\n",
       "      <td>NaN</td>\n",
       "      <td>100.0</td>\n",
       "      <td>NaN</td>\n",
       "      <td>PCAWG</td>\n",
       "    </tr>\n",
       "    <tr>\n",
       "      <th>SA86542</th>\n",
       "      <td>CLLE-ES</td>\n",
       "      <td>356-01-4TR</td>\n",
       "      <td>SP15992</td>\n",
       "      <td>356-01-4TR</td>\n",
       "      <td>DO7084</td>\n",
       "      <td>356</td>\n",
       "      <td>7.0</td>\n",
       "      <td>95.0</td>\n",
       "      <td>NaN</td>\n",
       "      <td>PCAWG</td>\n",
       "    </tr>\n",
       "    <tr>\n",
       "      <th>SA538992</th>\n",
       "      <td>CLLE-ES</td>\n",
       "      <td>356-01-3TD</td>\n",
       "      <td>SP115085</td>\n",
       "      <td>356-01-3TD</td>\n",
       "      <td>DO7084</td>\n",
       "      <td>356</td>\n",
       "      <td>15.0</td>\n",
       "      <td>95.0</td>\n",
       "      <td>NaN</td>\n",
       "      <td>PCAWG</td>\n",
       "    </tr>\n",
       "  </tbody>\n",
       "</table>\n",
       "<p>5049 rows × 10 columns</p>\n",
       "</div>"
      ],
      "text/plain": [
       "               project_code submitted_sample_id icgc_specimen_id  \\\n",
       "icgc_sample_id                                                     \n",
       "SA564770            CLLE-ES       060-0123-01TD         SP130360   \n",
       "SA564151            CLLE-ES          060-01-2ND         SP130410   \n",
       "SA602505            CLLE-ES       060-0123-02ND         SP199735   \n",
       "SA564150            CLLE-ES         060-02-01ND         SP130409   \n",
       "SA538928            CLLE-ES       060-0123-03TR         SP114999   \n",
       "...                     ...                 ...              ...   \n",
       "SA607197            BPLL-FR                14_3         SP202799   \n",
       "SA607150            BPLL-FR                14_2         SP202986   \n",
       "SA538993            CLLE-ES          356-01-8ND         SP115086   \n",
       "SA86542             CLLE-ES          356-01-4TR          SP15992   \n",
       "SA538992            CLLE-ES          356-01-3TD         SP115085   \n",
       "\n",
       "               submitted_specimen_id icgc_donor_id submitted_donor_id  \\\n",
       "icgc_sample_id                                                          \n",
       "SA564770               060-0123-01TD       DO51966                 60   \n",
       "SA564151                  060-01-2ND       DO51966                 60   \n",
       "SA602505               060-0123-02ND       DO51966                 60   \n",
       "SA564150                 060-02-01ND       DO51966                 60   \n",
       "SA538928               060-0123-03TR       DO51966                 60   \n",
       "...                              ...           ...                ...   \n",
       "SA607197              B-PLL_32_tumor      DO233963           B-PLL_32   \n",
       "SA607150            B-PLL_32_control      DO233963           B-PLL_32   \n",
       "SA538993                  356-01-8ND        DO7084                356   \n",
       "SA86542                   356-01-4TR        DO7084                356   \n",
       "SA538992                  356-01-3TD        DO7084                356   \n",
       "\n",
       "                analyzed_sample_interval  percentage_cellularity  \\\n",
       "icgc_sample_id                                                     \n",
       "SA564770                           315.0                    97.0   \n",
       "SA564151                             NaN                    98.0   \n",
       "SA602505                             NaN                     NaN   \n",
       "SA564150                             NaN                    99.0   \n",
       "SA538928                           315.0                     NaN   \n",
       "...                                  ...                     ...   \n",
       "SA607197                             NaN                     NaN   \n",
       "SA607150                             NaN                     NaN   \n",
       "SA538993                             NaN                   100.0   \n",
       "SA86542                              7.0                    95.0   \n",
       "SA538992                            15.0                    95.0   \n",
       "\n",
       "               level_of_cellularity  study  \n",
       "icgc_sample_id                              \n",
       "SA564770                        NaN    NaN  \n",
       "SA564151                        NaN    NaN  \n",
       "SA602505                        NaN    NaN  \n",
       "SA564150                        NaN    NaN  \n",
       "SA538928                        NaN    NaN  \n",
       "...                             ...    ...  \n",
       "SA607197                        NaN    NaN  \n",
       "SA607150                        NaN    NaN  \n",
       "SA538993                        NaN  PCAWG  \n",
       "SA86542                         NaN  PCAWG  \n",
       "SA538992                        NaN  PCAWG  \n",
       "\n",
       "[5049 rows x 10 columns]"
      ]
     },
     "execution_count": 59,
     "metadata": {},
     "output_type": "execute_result"
    }
   ],
   "source": [
    "sample = pd.read_csv(\"data/sample.tsv\", sep=\"\\t\", index_col=0)\n",
    "sample"
   ]
  },
  {
   "cell_type": "code",
   "execution_count": 60,
   "metadata": {
    "ExecuteTime": {
     "end_time": "2021-11-10T12:17:34.774032Z",
     "start_time": "2021-11-10T12:17:34.748169Z"
    }
   },
   "outputs": [],
   "source": [
    "icgcann = sample[['project_code', 'submitted_sample_id', 'icgc_specimen_id', 'percentage_cellularity']]"
   ]
  },
  {
   "cell_type": "code",
   "execution_count": 62,
   "metadata": {
    "ExecuteTime": {
     "end_time": "2021-11-10T12:18:46.346165Z",
     "start_time": "2021-11-10T12:18:31.306785Z"
    },
    "scrolled": true
   },
   "outputs": [
    {
     "name": "stderr",
     "output_type": "stream",
     "text": [
      "/home/jeremie/miniconda3/envs/gae/lib/python3.8/site-packages/pandas/core/indexing.py:1797: SettingWithCopyWarning: \n",
      "A value is trying to be set on a copy of a slice from a DataFrame.\n",
      "Try using .loc[row_indexer,col_indexer] = value instead\n",
      "\n",
      "See the caveats in the documentation: https://pandas.pydata.org/pandas-docs/stable/user_guide/indexing.html#returning-a-view-versus-a-copy\n",
      "  self._setitem_single_column(loc, v, pi)\n"
     ]
    }
   ],
   "source": [
    "for i, val in icgcann.iterrows():\n",
    "    icgcann.loc[i, specimen.columns] = specimen.loc[val.icgc_specimen_id]"
   ]
  },
  {
   "cell_type": "code",
   "execution_count": null,
   "metadata": {},
   "outputs": [],
   "source": [
    "icgcann['sequencer'] = \"\" # missing\n",
    "icgcann['method'] = \"bulk\"\n",
    "icgcann['reference']= \"hg38\"\n",
    "icgcann['ends']=\"paired end\""
   ]
  },
  {
   "cell_type": "markdown",
   "metadata": {},
   "source": [
    "## st jude"
   ]
  },
  {
   "cell_type": "code",
   "execution_count": null,
   "metadata": {},
   "outputs": [],
   "source": [
    "pd.read_csv('') # 40,000 x 3500\n"
   ]
  },
  {
   "cell_type": "code",
   "execution_count": null,
   "metadata": {},
   "outputs": [],
   "source": []
  },
  {
   "cell_type": "markdown",
   "metadata": {},
   "source": [
    "## NCI 60"
   ]
  },
  {
   "cell_type": "code",
   "execution_count": null,
   "metadata": {},
   "outputs": [],
   "source": []
  },
  {
   "cell_type": "markdown",
   "metadata": {},
   "source": [
    "## tumor cell atlas"
   ]
  },
  {
   "cell_type": "code",
   "execution_count": null,
   "metadata": {},
   "outputs": [],
   "source": []
  },
  {
   "cell_type": "markdown",
   "metadata": {},
   "source": [
    "## other random datasets from SRA"
   ]
  },
  {
   "cell_type": "code",
   "execution_count": null,
   "metadata": {},
   "outputs": [],
   "source": []
  },
  {
   "cell_type": "markdown",
   "metadata": {},
   "source": [
    "## DUOS datasets"
   ]
  },
  {
   "cell_type": "code",
   "execution_count": null,
   "metadata": {},
   "outputs": [],
   "source": [
    "#https://duos.broadinstitute.org/dataset_catalog"
   ]
  },
  {
   "cell_type": "markdown",
   "metadata": {},
   "source": [
    "## hartwig"
   ]
  },
  {
   "cell_type": "code",
   "execution_count": null,
   "metadata": {},
   "outputs": [],
   "source": []
  },
  {
   "cell_type": "markdown",
   "metadata": {},
   "source": [
    "## Pancreas from Sri"
   ]
  },
  {
   "cell_type": "code",
   "execution_count": null,
   "metadata": {},
   "outputs": [],
   "source": []
  },
  {
   "cell_type": "markdown",
   "metadata": {},
   "source": [
    "## Neurosphere from Keith"
   ]
  },
  {
   "cell_type": "code",
   "execution_count": null,
   "metadata": {},
   "outputs": [],
   "source": []
  },
  {
   "cell_type": "markdown",
   "metadata": {},
   "source": [
    "## EBI"
   ]
  },
  {
   "cell_type": "code",
   "execution_count": null,
   "metadata": {},
   "outputs": [],
   "source": []
  },
  {
   "cell_type": "markdown",
   "metadata": {},
   "source": [
    "# QC"
   ]
  },
  {
   "cell_type": "markdown",
   "metadata": {},
   "source": [
    "## get the same set of overlapping genes"
   ]
  },
  {
   "cell_type": "code",
   "execution_count": null,
   "metadata": {},
   "outputs": [],
   "source": []
  },
  {
   "cell_type": "code",
   "execution_count": null,
   "metadata": {},
   "outputs": [],
   "source": []
  },
  {
   "cell_type": "code",
   "execution_count": null,
   "metadata": {},
   "outputs": [],
   "source": []
  },
  {
   "cell_type": "markdown",
   "metadata": {
    "ExecuteTime": {
     "end_time": "2021-10-08T21:46:14.942803Z",
     "start_time": "2021-10-08T21:46:14.939955Z"
    }
   },
   "source": [
    "## compute correlation\n",
    "\n",
    "- find unknown duplicates\n",
    "- find problematic duplicates"
   ]
  },
  {
   "cell_type": "code",
   "execution_count": null,
   "metadata": {},
   "outputs": [],
   "source": []
  },
  {
   "cell_type": "code",
   "execution_count": null,
   "metadata": {},
   "outputs": [],
   "source": []
  },
  {
   "cell_type": "code",
   "execution_count": null,
   "metadata": {},
   "outputs": [],
   "source": []
  },
  {
   "cell_type": "markdown",
   "metadata": {},
   "source": [
    "## analyse  annotation files\n",
    "\n",
    "- find mismatch annotations\n",
    "- add missing annotations, need: \n",
    "    - sequencer, \n",
    "    - expression_type, \n",
    "    - media, \n",
    "    - origin, \n",
    "    - tissue type,\n",
    "    - disease,\n",
    "    - sub_disease,\n",
    "    - cell type, \n",
    "    - group, \n",
    "    - sex, \n",
    "    - age, \n",
    "    - contamination\n",
    "    - organism\n",
    "- find good set of names for annotations"
   ]
  },
  {
   "cell_type": "code",
   "execution_count": null,
   "metadata": {},
   "outputs": [],
   "source": []
  },
  {
   "cell_type": "code",
   "execution_count": null,
   "metadata": {},
   "outputs": [],
   "source": []
  },
  {
   "cell_type": "code",
   "execution_count": null,
   "metadata": {},
   "outputs": [],
   "source": []
  },
  {
   "cell_type": "code",
   "execution_count": null,
   "metadata": {},
   "outputs": [],
   "source": []
  },
  {
   "cell_type": "code",
   "execution_count": null,
   "metadata": {},
   "outputs": [],
   "source": []
  }
 ],
 "metadata": {
  "gist": {
   "data": {
    "description": "celligner2/RNA_loading_human.ipynb",
    "public": false
   },
   "id": ""
  },
  "interpreter": {
   "hash": "fd8698c164edaa1fafe02e09417b19c3da26ece954e3310283697fab1cf76ba9"
  },
  "kernelspec": {
   "display_name": "gae",
   "language": "python",
   "name": "gae"
  },
  "language_info": {
   "codemirror_mode": {
    "name": "ipython",
    "version": 3
   },
   "file_extension": ".py",
   "mimetype": "text/x-python",
   "name": "python",
   "nbconvert_exporter": "python",
   "pygments_lexer": "ipython3",
   "version": "3.8.12"
  },
  "latex_envs": {
   "LaTeX_envs_menu_present": true,
   "autoclose": false,
   "autocomplete": true,
   "bibliofile": "biblio.bib",
   "cite_by": "apalike",
   "current_citInitial": 1,
   "eqLabelWithNumbers": true,
   "eqNumInitial": 1,
   "hotkeys": {
    "equation": "Ctrl-E",
    "itemize": "Ctrl-I"
   },
   "labels_anchors": false,
   "latex_user_defs": false,
   "report_style_numbering": false,
   "user_envs_cfg": false
  },
  "toc": {
   "base_numbering": 1,
   "nav_menu": {},
   "number_sections": true,
   "sideBar": true,
   "skip_h1_title": false,
   "title_cell": "Table of Contents",
   "title_sidebar": "Contents",
   "toc_cell": false,
   "toc_position": {},
   "toc_section_display": true,
   "toc_window_display": false
  },
  "varInspector": {
   "cols": {
    "lenName": 16,
    "lenType": 16,
    "lenVar": 40
   },
   "kernels_config": {
    "python": {
     "delete_cmd_postfix": "",
     "delete_cmd_prefix": "del ",
     "library": "var_list.py",
     "varRefreshCmd": "print(var_dic_list())"
    },
    "r": {
     "delete_cmd_postfix": ") ",
     "delete_cmd_prefix": "rm(",
     "library": "var_list.r",
     "varRefreshCmd": "cat(var_dic_list()) "
    }
   },
   "types_to_exclude": [
    "module",
    "function",
    "builtin_function_or_method",
    "instance",
    "_Feature"
   ],
   "window_display": false
  }
 },
 "nbformat": 4,
 "nbformat_minor": 2
}
