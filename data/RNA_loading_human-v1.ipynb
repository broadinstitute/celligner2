{
 "cells": [
  {
   "cell_type": "markdown",
   "metadata": {},
   "source": [
    "# load tons of datasets (~60,000 RNAseq samples)"
   ]
  },
  {
   "cell_type": "code",
   "execution_count": 2,
   "metadata": {
    "ExecuteTime": {
     "end_time": "2022-06-02T19:26:41.587246Z",
     "start_time": "2022-06-02T19:26:26.401902Z"
    }
   },
   "outputs": [],
   "source": [
    "from taigapy import TaigaClient\n",
    "tc = TaigaClient()\n",
    "\n",
    "from depmapomics import tracker as track\n",
    "from depmapomics import expressions\n",
    "\n",
    "from genepy.utils import helper as h\n",
    "\n",
    "import dalmatian as dm\n",
    "from gsheets import Sheets\n",
    "import pandas as pd\n",
    "\n",
    "from anndata import AnnData, read_h5ad\n",
    "\n",
    "MY_ID = '~/.client_secret.json'\n",
    "MYSTORAGE_ID = \"~/.storage.json\"\n",
    "\n",
    "Sheets.from_files(MY_ID, MYSTORAGE_ID)\n",
    "#autoreload\n",
    "%load_ext autoreload\n",
    "%autoreload 2"
   ]
  },
  {
   "cell_type": "markdown",
   "metadata": {},
   "source": [
    "## CCLE + TCGA"
   ]
  },
  {
   "cell_type": "code",
   "execution_count": 2,
   "metadata": {
    "ExecuteTime": {
     "end_time": "2021-12-01T18:41:10.683859Z",
     "start_time": "2021-12-01T18:40:48.889699Z"
    }
   },
   "outputs": [
    {
     "name": "stdout",
     "output_type": "stream",
     "text": [
      "No dataset version provided. Using version 16.\n",
      "No dataset version provided. Using version 1.\n"
     ]
    }
   ],
   "source": [
    "# load from taiga public (figshare link)\n",
    "# load internal expression,\n",
    "# latest version can be found at https://depmap.org/portal/download/\n",
    "# can also be loaded like so pd.read_csv('gs://ccle_default_params/celligner_ex/CCLE_expression.csv.gz', index_col=0)\n",
    "CCLE_expression = tc.get(name='internal-21q3-fe4c',\n",
    "                         file='CCLE_expression_full')  #40,000x1,500\n",
    "\n",
    "\n",
    "# load  TCGA expression\n",
    "# this dataset was generated from  ,using this script: \n",
    "# caan be found here: pd.read_csv('gs://ccle_default_params/celligner_ex/TCGA_expression.csv.gz', index_col=0)\n",
    "TCGA_expression = tc.get(name='celligner-input-9827',\n",
    "                       file='tumor_expression') # 40,000x13,000"
   ]
  },
  {
   "cell_type": "code",
   "execution_count": 4,
   "metadata": {
    "ExecuteTime": {
     "end_time": "2022-06-02T19:27:10.988068Z",
     "start_time": "2022-06-02T19:27:10.300799Z"
    }
   },
   "outputs": [
    {
     "name": "stdout",
     "output_type": "stream",
     "text": [
      "No dataset version provided. Using version 1.\n"
     ]
    }
   ],
   "source": [
    "# loading annotations\n",
    "#CCLE_annotation = track.getTracker() # the function uses pygsheets to load this: REFSHEET_URL=https://docs.google.com/spreadsheets/d/1Pgb5fIClGnErEqzxpU7qqX6ULpGTDjvzWwDN8XUJKIY\n",
    "# Sheets.from_files(MY_ID, MYSTORAGE_ID).get(REFSHEET_URL).sheets[0].to_frame(index_col=0)\n",
    "# you can also get it from pd.read_csv('gs://ccle_default_params/celligner_ex/CCLE_annotation.csv.gz', index_col=0)\n",
    "\n",
    "\n",
    "# can be loaded from \n",
    "# pd.read_csv('gs://ccle_default_params/celligner_ex/TCGA_annotation.csv.gz', index_col=0)\n",
    "TCGA_annotation = tc.get(name='celligner-input-9827',\n",
    "                         file='tumor_annotations') # generated manually "
   ]
  },
  {
   "cell_type": "code",
   "execution_count": 8,
   "metadata": {
    "ExecuteTime": {
     "end_time": "2022-06-02T19:33:38.680798Z",
     "start_time": "2022-06-02T19:33:38.552447Z"
    }
   },
   "outputs": [
    {
     "data": {
      "text/plain": [
       "{'Ewing sarcoma',\n",
       " 'INI-deficient soft tissue sarcoma NOS',\n",
       " 'NUT midline carcinoma',\n",
       " 'PEComa',\n",
       " 'Sertoli-Leydig cell tumor, retiform',\n",
       " 'acinar cell carcinoma',\n",
       " 'acute leukemia',\n",
       " 'acute leukemia of ambiguous lineage',\n",
       " 'acute lymphoblastic leukemia',\n",
       " 'acute megakaryoblastic leukemia',\n",
       " 'acute myeloid leukemia',\n",
       " 'acute undifferentiated leukemia',\n",
       " 'adrenocortical adenoma',\n",
       " 'adrenocortical cancer',\n",
       " 'adrenocortical carcinoma',\n",
       " 'alveolar rhabdomyosarcoma',\n",
       " 'alveolar soft part sarcoma',\n",
       " 'angiosarcoma',\n",
       " 'atypical teratoid/rhabdoid tumor',\n",
       " 'bladder urothelial carcinoma',\n",
       " 'breast invasive carcinoma',\n",
       " 'cervical & endocervical cancer',\n",
       " 'cholangiocarcinoma',\n",
       " 'choroid plexus carcinoma',\n",
       " 'chronic myelogenous leukemia (S02), acute lymphoblastic leukemia (S01)',\n",
       " 'clear cell carcinoma of cervix',\n",
       " 'colon adenocarcinoma',\n",
       " 'craniopharyngioma',\n",
       " 'dedifferentiated liposarcoma',\n",
       " 'desmoplastic small round cell tumor',\n",
       " 'diffuse large B-cell lymphoma',\n",
       " 'dysembryoplastic neuroepithelial tumor',\n",
       " 'embryonal rhabdomyosarcoma',\n",
       " 'embryonal tumor with multilayered rosettes',\n",
       " 'endometrial stromal sarcoma',\n",
       " 'ependymoma',\n",
       " 'epithelioid hemangioendothelioma',\n",
       " 'epithelioid sarcoma',\n",
       " 'esophageal carcinoma',\n",
       " 'fibrolamellar hepatocellular carcinoma',\n",
       " 'fibromatosis',\n",
       " 'follicular neoplasm',\n",
       " 'ganglioglioma',\n",
       " 'gastrointestinal stromal tumor',\n",
       " 'germ cell tumor',\n",
       " 'glioblastoma multiforme',\n",
       " 'glioma',\n",
       " 'gliomatosis cerebri',\n",
       " 'head & neck squamous cell carcinoma',\n",
       " 'hepatoblastoma',\n",
       " 'hepatocellular carcinoma',\n",
       " 'infantile fibrosarcoma',\n",
       " 'inflammatory myofibroblastic tumor',\n",
       " 'juvenile myelomonocytic leukemia',\n",
       " 'kidney chromophobe',\n",
       " 'kidney clear cell carcinoma',\n",
       " 'kidney papillary cell carcinoma',\n",
       " 'leiomyosarcoma',\n",
       " 'leukemia',\n",
       " 'lipoblastomatosis',\n",
       " 'lung adenocarcinoma',\n",
       " 'lung squamous cell carcinoma',\n",
       " 'lymphoma',\n",
       " 'malignant peripheral nerve sheath tumor',\n",
       " 'medulloblastoma',\n",
       " 'melanoma',\n",
       " 'melanotic neuroectodermal tumor',\n",
       " 'meningioma',\n",
       " 'mesothelioma',\n",
       " 'myeloid neoplasm NOS',\n",
       " 'myeloproliferative neoplasm',\n",
       " 'myoepithelial carcinoma',\n",
       " 'myofibromatosis',\n",
       " 'myxofibrosarcoma',\n",
       " 'nasopharyngeal carcinoma',\n",
       " 'neoplasm (uncertain whether benign or malignant)',\n",
       " 'neuroblastoma',\n",
       " 'neuroendocrine carcinoma',\n",
       " 'neurofibroma',\n",
       " 'neurofibromatosis type 1',\n",
       " 'osteosarcoma',\n",
       " 'ovarian serous cystadenocarcinoma',\n",
       " 'pancreatic adenocarcinoma',\n",
       " 'pheochromocytoma & paraganglioma',\n",
       " 'pineal parenchymal tumor',\n",
       " 'pleomorphic myxoid liposarcoma',\n",
       " 'pleuropulmonary blastoma',\n",
       " 'prostate adenocarcinoma',\n",
       " 'rectum adenocarcinoma',\n",
       " 'retinoblastoma',\n",
       " 'rhabdoid tumor',\n",
       " 'rhabdomyosarcoma',\n",
       " 'rosette forming glioneuronal tumor',\n",
       " 'sarcoma',\n",
       " 'sclerosing epithelioid fibrosarcoma',\n",
       " 'skin cutaneous melanoma',\n",
       " 'spindle cell/sclerosing rhabdomyosarcoma',\n",
       " 'stomach adenocarcinoma',\n",
       " 'supratentorial embryonal tumor NOS',\n",
       " 'synovial sarcoma',\n",
       " 'teratoma',\n",
       " 'testicular germ cell tumor',\n",
       " 'thymic carcinoma',\n",
       " 'thymoma',\n",
       " 'thyroid carcinoma',\n",
       " 'undifferentiated hepatic sarcoma',\n",
       " 'undifferentiated pleomorphic sarcoma',\n",
       " 'undifferentiated sarcoma NOS',\n",
       " 'undifferentiated spindle cell sarcoma',\n",
       " 'uterine carcinosarcoma',\n",
       " 'uterine corpus endometrioid carcinoma',\n",
       " 'uveal melanoma',\n",
       " 'wilms tumor'}"
      ]
     },
     "execution_count": 8,
     "metadata": {},
     "output_type": "execute_result"
    }
   ],
   "source": [
    "set(pd.read_csv('gs://celligner/clinical_TumorCompendium_v11_PolyA_2020-04-09.tsv.gz', sep='\\t')['disease'])"
   ]
  },
  {
   "cell_type": "code",
   "execution_count": 5,
   "metadata": {
    "ExecuteTime": {
     "end_time": "2022-06-02T19:27:15.988472Z",
     "start_time": "2022-06-02T19:27:15.936078Z"
    }
   },
   "outputs": [
    {
     "data": {
      "text/html": [
       "<div>\n",
       "<style scoped>\n",
       "    .dataframe tbody tr th:only-of-type {\n",
       "        vertical-align: middle;\n",
       "    }\n",
       "\n",
       "    .dataframe tbody tr th {\n",
       "        vertical-align: top;\n",
       "    }\n",
       "\n",
       "    .dataframe thead th {\n",
       "        text-align: right;\n",
       "    }\n",
       "</style>\n",
       "<table border=\"1\" class=\"dataframe\">\n",
       "  <thead>\n",
       "    <tr style=\"text-align: right;\">\n",
       "      <th></th>\n",
       "      <th>sampleID</th>\n",
       "      <th>age_at_dx</th>\n",
       "      <th>pedaya</th>\n",
       "      <th>gender</th>\n",
       "      <th>site_id</th>\n",
       "      <th>site_donor_id</th>\n",
       "      <th>site_sampleid</th>\n",
       "      <th>lineage</th>\n",
       "      <th>disease</th>\n",
       "      <th>TCGA_disease</th>\n",
       "      <th>TCGA_primary_site</th>\n",
       "      <th>sample_type</th>\n",
       "      <th>CPE</th>\n",
       "      <th>ABSOLUTE</th>\n",
       "      <th>Cancer type</th>\n",
       "      <th>subtype</th>\n",
       "      <th>UMAP_1</th>\n",
       "      <th>UMAP_2</th>\n",
       "      <th>cluster</th>\n",
       "    </tr>\n",
       "  </thead>\n",
       "  <tbody>\n",
       "    <tr>\n",
       "      <th>0</th>\n",
       "      <td>TH27_1241_S01</td>\n",
       "      <td>NaN</td>\n",
       "      <td>Unknown</td>\n",
       "      <td>unknown</td>\n",
       "      <td>TH27</td>\n",
       "      <td>None</td>\n",
       "      <td>None</td>\n",
       "      <td>central_nervous_system</td>\n",
       "      <td>Brain Cancer</td>\n",
       "      <td>None</td>\n",
       "      <td>None</td>\n",
       "      <td>None</td>\n",
       "      <td>NaN</td>\n",
       "      <td>NaN</td>\n",
       "      <td>None</td>\n",
       "      <td>glioma</td>\n",
       "      <td>5.433872</td>\n",
       "      <td>10.000675</td>\n",
       "      <td>52</td>\n",
       "    </tr>\n",
       "    <tr>\n",
       "      <th>1</th>\n",
       "      <td>TARGET-40-0A4I65-01A-01R</td>\n",
       "      <td>17.86</td>\n",
       "      <td>Yes, age &lt; 30 years</td>\n",
       "      <td>male</td>\n",
       "      <td>TARGET</td>\n",
       "      <td>TARGET-40-0A4I65</td>\n",
       "      <td>SRR1811136</td>\n",
       "      <td>bone</td>\n",
       "      <td>Bone Cancer</td>\n",
       "      <td>None</td>\n",
       "      <td>None</td>\n",
       "      <td>None</td>\n",
       "      <td>NaN</td>\n",
       "      <td>NaN</td>\n",
       "      <td>None</td>\n",
       "      <td>osteosarcoma</td>\n",
       "      <td>7.273973</td>\n",
       "      <td>-0.284139</td>\n",
       "      <td>35</td>\n",
       "    </tr>\n",
       "    <tr>\n",
       "      <th>2</th>\n",
       "      <td>THR24_1965_S01</td>\n",
       "      <td>13.27</td>\n",
       "      <td>Yes, age &lt; 30 years</td>\n",
       "      <td>male</td>\n",
       "      <td>THR24</td>\n",
       "      <td>SJHGG060</td>\n",
       "      <td>SJHGG060_A</td>\n",
       "      <td>central_nervous_system</td>\n",
       "      <td>Brain Cancer</td>\n",
       "      <td>None</td>\n",
       "      <td>None</td>\n",
       "      <td>None</td>\n",
       "      <td>NaN</td>\n",
       "      <td>NaN</td>\n",
       "      <td>None</td>\n",
       "      <td>glioma</td>\n",
       "      <td>4.895308</td>\n",
       "      <td>13.367768</td>\n",
       "      <td>27</td>\n",
       "    </tr>\n",
       "    <tr>\n",
       "      <th>3</th>\n",
       "      <td>THR24_2080_S01</td>\n",
       "      <td>3.75</td>\n",
       "      <td>Yes, age &lt; 30 years</td>\n",
       "      <td>male</td>\n",
       "      <td>THR24</td>\n",
       "      <td>SJMEL001005</td>\n",
       "      <td>SJMEL001005_D1</td>\n",
       "      <td>skin</td>\n",
       "      <td>Skin Cancer</td>\n",
       "      <td>None</td>\n",
       "      <td>None</td>\n",
       "      <td>None</td>\n",
       "      <td>NaN</td>\n",
       "      <td>NaN</td>\n",
       "      <td>None</td>\n",
       "      <td>None</td>\n",
       "      <td>6.300287</td>\n",
       "      <td>5.229102</td>\n",
       "      <td>4</td>\n",
       "    </tr>\n",
       "    <tr>\n",
       "      <th>4</th>\n",
       "      <td>THR20_0494_S01</td>\n",
       "      <td>6.00</td>\n",
       "      <td>Yes, age &lt; 30 years</td>\n",
       "      <td>female</td>\n",
       "      <td>THR20</td>\n",
       "      <td>icgc/_EGAR00001049890_RNA_tumor_ICGC_MB46</td>\n",
       "      <td>EGAR00001049890_RNA_tumor_ICGC_MB46</td>\n",
       "      <td>central_nervous_system</td>\n",
       "      <td>Brain Cancer</td>\n",
       "      <td>None</td>\n",
       "      <td>None</td>\n",
       "      <td>None</td>\n",
       "      <td>NaN</td>\n",
       "      <td>NaN</td>\n",
       "      <td>None</td>\n",
       "      <td>medulloblastoma</td>\n",
       "      <td>5.415814</td>\n",
       "      <td>9.806541</td>\n",
       "      <td>52</td>\n",
       "    </tr>\n",
       "    <tr>\n",
       "      <th>...</th>\n",
       "      <td>...</td>\n",
       "      <td>...</td>\n",
       "      <td>...</td>\n",
       "      <td>...</td>\n",
       "      <td>...</td>\n",
       "      <td>...</td>\n",
       "      <td>...</td>\n",
       "      <td>...</td>\n",
       "      <td>...</td>\n",
       "      <td>...</td>\n",
       "      <td>...</td>\n",
       "      <td>...</td>\n",
       "      <td>...</td>\n",
       "      <td>...</td>\n",
       "      <td>...</td>\n",
       "      <td>...</td>\n",
       "      <td>...</td>\n",
       "      <td>...</td>\n",
       "      <td>...</td>\n",
       "    </tr>\n",
       "    <tr>\n",
       "      <th>12231</th>\n",
       "      <td>TCGA-95-7947-01</td>\n",
       "      <td>67.00</td>\n",
       "      <td>No</td>\n",
       "      <td>male</td>\n",
       "      <td>TCGA</td>\n",
       "      <td>TCGA-95-7947</td>\n",
       "      <td>TCGA-95-7947-01</td>\n",
       "      <td>lung</td>\n",
       "      <td>Lung Cancer</td>\n",
       "      <td>lung adenocarcinoma</td>\n",
       "      <td>Lung</td>\n",
       "      <td>Primary Tumor</td>\n",
       "      <td>0.7556</td>\n",
       "      <td>0.66</td>\n",
       "      <td>LUAD</td>\n",
       "      <td>lung adenocarcinoma</td>\n",
       "      <td>-5.478718</td>\n",
       "      <td>-3.438399</td>\n",
       "      <td>0</td>\n",
       "    </tr>\n",
       "    <tr>\n",
       "      <th>12232</th>\n",
       "      <td>TCGA-VQ-AA6F-01</td>\n",
       "      <td>57.00</td>\n",
       "      <td>No</td>\n",
       "      <td>male</td>\n",
       "      <td>TCGA</td>\n",
       "      <td>TCGA-VQ-AA6F</td>\n",
       "      <td>TCGA-VQ-AA6F-01</td>\n",
       "      <td>gastric</td>\n",
       "      <td>Gastric Cancer</td>\n",
       "      <td>stomach adenocarcinoma</td>\n",
       "      <td>Stomach</td>\n",
       "      <td>Primary Tumor</td>\n",
       "      <td>NaN</td>\n",
       "      <td>NaN</td>\n",
       "      <td>None</td>\n",
       "      <td>stomach adenocarcinoma</td>\n",
       "      <td>-7.366354</td>\n",
       "      <td>0.347824</td>\n",
       "      <td>1</td>\n",
       "    </tr>\n",
       "    <tr>\n",
       "      <th>12233</th>\n",
       "      <td>TCGA-BR-8588-01</td>\n",
       "      <td>55.00</td>\n",
       "      <td>No</td>\n",
       "      <td>female</td>\n",
       "      <td>TCGA</td>\n",
       "      <td>TCGA-BR-8588</td>\n",
       "      <td>TCGA-BR-8588-01</td>\n",
       "      <td>gastric</td>\n",
       "      <td>Gastric Cancer</td>\n",
       "      <td>stomach adenocarcinoma</td>\n",
       "      <td>Stomach</td>\n",
       "      <td>Primary Tumor</td>\n",
       "      <td>NaN</td>\n",
       "      <td>NaN</td>\n",
       "      <td>None</td>\n",
       "      <td>stomach adenocarcinoma</td>\n",
       "      <td>-7.727499</td>\n",
       "      <td>0.404288</td>\n",
       "      <td>1</td>\n",
       "    </tr>\n",
       "    <tr>\n",
       "      <th>12234</th>\n",
       "      <td>TCGA-24-2254-01</td>\n",
       "      <td>66.00</td>\n",
       "      <td>No</td>\n",
       "      <td>female</td>\n",
       "      <td>TCGA</td>\n",
       "      <td>TCGA-24-2254</td>\n",
       "      <td>TCGA-24-2254-01</td>\n",
       "      <td>ovary</td>\n",
       "      <td>Ovarian Cancer</td>\n",
       "      <td>ovarian serous cystadenocarcinoma</td>\n",
       "      <td>Ovary</td>\n",
       "      <td>Primary Tumor</td>\n",
       "      <td>0.9309</td>\n",
       "      <td>0.81</td>\n",
       "      <td>OV</td>\n",
       "      <td>ovarian serous cystadenocarcinoma</td>\n",
       "      <td>0.769441</td>\n",
       "      <td>3.263780</td>\n",
       "      <td>10</td>\n",
       "    </tr>\n",
       "    <tr>\n",
       "      <th>12235</th>\n",
       "      <td>TCGA-DD-A115-01</td>\n",
       "      <td>53.00</td>\n",
       "      <td>No</td>\n",
       "      <td>male</td>\n",
       "      <td>TCGA</td>\n",
       "      <td>TCGA-DD-A115</td>\n",
       "      <td>TCGA-DD-A115-01</td>\n",
       "      <td>liver</td>\n",
       "      <td>Liver Cancer</td>\n",
       "      <td>liver hepatocellular carcinoma</td>\n",
       "      <td>Liver</td>\n",
       "      <td>Primary Tumor</td>\n",
       "      <td>0.6079</td>\n",
       "      <td>NaN</td>\n",
       "      <td>LIHC</td>\n",
       "      <td>hepatocellular carcinoma</td>\n",
       "      <td>-2.159245</td>\n",
       "      <td>5.859035</td>\n",
       "      <td>9</td>\n",
       "    </tr>\n",
       "  </tbody>\n",
       "</table>\n",
       "<p>12236 rows × 19 columns</p>\n",
       "</div>"
      ],
      "text/plain": [
       "                       sampleID  age_at_dx               pedaya   gender  \\\n",
       "0                 TH27_1241_S01        NaN              Unknown  unknown   \n",
       "1      TARGET-40-0A4I65-01A-01R      17.86  Yes, age < 30 years     male   \n",
       "2                THR24_1965_S01      13.27  Yes, age < 30 years     male   \n",
       "3                THR24_2080_S01       3.75  Yes, age < 30 years     male   \n",
       "4                THR20_0494_S01       6.00  Yes, age < 30 years   female   \n",
       "...                         ...        ...                  ...      ...   \n",
       "12231           TCGA-95-7947-01      67.00                   No     male   \n",
       "12232           TCGA-VQ-AA6F-01      57.00                   No     male   \n",
       "12233           TCGA-BR-8588-01      55.00                   No   female   \n",
       "12234           TCGA-24-2254-01      66.00                   No   female   \n",
       "12235           TCGA-DD-A115-01      53.00                   No     male   \n",
       "\n",
       "      site_id                              site_donor_id  \\\n",
       "0        TH27                                       None   \n",
       "1      TARGET                           TARGET-40-0A4I65   \n",
       "2       THR24                                   SJHGG060   \n",
       "3       THR24                                SJMEL001005   \n",
       "4       THR20  icgc/_EGAR00001049890_RNA_tumor_ICGC_MB46   \n",
       "...       ...                                        ...   \n",
       "12231    TCGA                               TCGA-95-7947   \n",
       "12232    TCGA                               TCGA-VQ-AA6F   \n",
       "12233    TCGA                               TCGA-BR-8588   \n",
       "12234    TCGA                               TCGA-24-2254   \n",
       "12235    TCGA                               TCGA-DD-A115   \n",
       "\n",
       "                             site_sampleid                 lineage  \\\n",
       "0                                     None  central_nervous_system   \n",
       "1                               SRR1811136                    bone   \n",
       "2                               SJHGG060_A  central_nervous_system   \n",
       "3                           SJMEL001005_D1                    skin   \n",
       "4      EGAR00001049890_RNA_tumor_ICGC_MB46  central_nervous_system   \n",
       "...                                    ...                     ...   \n",
       "12231                      TCGA-95-7947-01                    lung   \n",
       "12232                      TCGA-VQ-AA6F-01                 gastric   \n",
       "12233                      TCGA-BR-8588-01                 gastric   \n",
       "12234                      TCGA-24-2254-01                   ovary   \n",
       "12235                      TCGA-DD-A115-01                   liver   \n",
       "\n",
       "              disease                       TCGA_disease TCGA_primary_site  \\\n",
       "0        Brain Cancer                               None              None   \n",
       "1         Bone Cancer                               None              None   \n",
       "2        Brain Cancer                               None              None   \n",
       "3         Skin Cancer                               None              None   \n",
       "4        Brain Cancer                               None              None   \n",
       "...               ...                                ...               ...   \n",
       "12231     Lung Cancer                lung adenocarcinoma              Lung   \n",
       "12232  Gastric Cancer             stomach adenocarcinoma           Stomach   \n",
       "12233  Gastric Cancer             stomach adenocarcinoma           Stomach   \n",
       "12234  Ovarian Cancer  ovarian serous cystadenocarcinoma             Ovary   \n",
       "12235    Liver Cancer     liver hepatocellular carcinoma             Liver   \n",
       "\n",
       "         sample_type     CPE  ABSOLUTE Cancer type  \\\n",
       "0               None     NaN       NaN        None   \n",
       "1               None     NaN       NaN        None   \n",
       "2               None     NaN       NaN        None   \n",
       "3               None     NaN       NaN        None   \n",
       "4               None     NaN       NaN        None   \n",
       "...              ...     ...       ...         ...   \n",
       "12231  Primary Tumor  0.7556      0.66        LUAD   \n",
       "12232  Primary Tumor     NaN       NaN        None   \n",
       "12233  Primary Tumor     NaN       NaN        None   \n",
       "12234  Primary Tumor  0.9309      0.81          OV   \n",
       "12235  Primary Tumor  0.6079       NaN        LIHC   \n",
       "\n",
       "                                 subtype    UMAP_1     UMAP_2  cluster  \n",
       "0                                 glioma  5.433872  10.000675       52  \n",
       "1                           osteosarcoma  7.273973  -0.284139       35  \n",
       "2                                 glioma  4.895308  13.367768       27  \n",
       "3                                   None  6.300287   5.229102        4  \n",
       "4                        medulloblastoma  5.415814   9.806541       52  \n",
       "...                                  ...       ...        ...      ...  \n",
       "12231                lung adenocarcinoma -5.478718  -3.438399        0  \n",
       "12232             stomach adenocarcinoma -7.366354   0.347824        1  \n",
       "12233             stomach adenocarcinoma -7.727499   0.404288        1  \n",
       "12234  ovarian serous cystadenocarcinoma  0.769441   3.263780       10  \n",
       "12235           hepatocellular carcinoma -2.159245   5.859035        9  \n",
       "\n",
       "[12236 rows x 19 columns]"
      ]
     },
     "execution_count": 5,
     "metadata": {},
     "output_type": "execute_result"
    }
   ],
   "source": [
    "TCGA_annotation"
   ]
  },
  {
   "cell_type": "code",
   "execution_count": null,
   "metadata": {},
   "outputs": [],
   "source": [
    "TCGA_annotation"
   ]
  },
  {
   "cell_type": "code",
   "execution_count": 4,
   "metadata": {
    "ExecuteTime": {
     "end_time": "2021-12-01T18:41:42.162581Z",
     "start_time": "2021-12-01T18:41:42.132489Z"
    },
    "scrolled": true
   },
   "outputs": [
    {
     "data": {
      "text/plain": [
       "arxspan_id                                                ACH-001188\n",
       "version                                                            1\n",
       "sm_id                                                            NaN\n",
       "PDO                                                              NaN\n",
       "datatype                                                         wgs\n",
       "                                         ...                        \n",
       "dsmzlink                                                     ACC-209\n",
       "sequencing_date                                            13-9-2020\n",
       "release_date                                                     NaN\n",
       "bam_qc             ['gs://fc-secure-fd4a7e9f-cb15-423c-9805-04995...\n",
       "processing_qc      ['gs://fc-secure-fd4a7e9f-cb15-423c-9805-04995...\n",
       "Name: CDS-rIh3Gy, Length: 63, dtype: object"
      ]
     },
     "execution_count": 4,
     "metadata": {},
     "output_type": "execute_result"
    }
   ],
   "source": [
    "CCLE_annotation.iloc[0, :-25]"
   ]
  },
  {
   "cell_type": "code",
   "execution_count": 5,
   "metadata": {
    "ExecuteTime": {
     "end_time": "2021-12-01T18:41:53.806684Z",
     "start_time": "2021-12-01T18:41:53.778468Z"
    }
   },
   "outputs": [
    {
     "data": {
      "text/plain": [
       "79"
      ]
     },
     "execution_count": 5,
     "metadata": {},
     "output_type": "execute_result"
    }
   ],
   "source": [
    "len(CCLE_annotation[(CCLE_annotation.blacklist==0)&(CCLE_annotation.version>1)&(CCLE_annotation.datatype==\"rna\")]) \n",
    "# we have .. replicates in CCLE"
   ]
  },
  {
   "cell_type": "code",
   "execution_count": 6,
   "metadata": {
    "ExecuteTime": {
     "end_time": "2021-12-01T18:42:05.641788Z",
     "start_time": "2021-12-01T18:42:05.615719Z"
    }
   },
   "outputs": [],
   "source": [
    "rename = {\n",
    "'Acquisition Site': \"collection_site\",\n",
    "'Actual Seq Technology': 'sequencer',\n",
    "'Age At Acquisition (Years)': \"age\",\n",
    "'age_at_dx':\"age\", \n",
    "'Age': \"age\",\n",
    "'Aggregated': \"aggregated\",\n",
    "'Assay title': 'assay',\n",
    "'arxspan_id': \"tissue_id\",\n",
    "'biopsy_tissue': \"collection_site\",\n",
    "'Case ID': 'participant_id', \n",
    "'CCLF_ID': 'sample_id',\n",
    "'Clinical Tumor Diagnosis': 'disease_type',\n",
    "'Collaborator Participant ID': \"participant_id\",\n",
    "'collection': 'collection_site', \n",
    "'Contamination % (First Agg)': 'contamination', \n",
    "'Contamination %': \"contamination\",\n",
    "'Culture Medium': \"media_type\",\n",
    "'Days to First Agg': 'exp_date', \n",
    "'Diagnosis': 'disease_subtype',\n",
    "'disease': \"disease_type\", \n",
    "'Expansion Status': \"expansion\",\n",
    "'External ID for BAM': \"tissue_id\",\n",
    "'gender': \"sex\",\n",
    "'Gender': \"sex\",\n",
    "'Inferred_Ethnicity': \"ethnicity\",\n",
    "'lineage': 'tissue_type',\n",
    "'mediatype':\"media_type\",\n",
    "'Original Material Type': 'history',\n",
    "'Passage Number': \"passage_number\",\n",
    "'Phase':'stage',\n",
    "'Primary Disease': \"disease_type\",\n",
    "'Primary Site': 'collection_site',\n",
    "'primary_disease': \"disease_type\", \n",
    "'Product': 'preparation',\n",
    "'Race': \"ethnicity\",\n",
    "'RNA_Seq_cancertype': 'disease_type', \n",
    "'sample_source': 'participant_id',\n",
    "'Sample_type': 'lineage', \n",
    "'sampleID': 'sample_id',\n",
    "'Sample_id': 'sample_id',\n",
    "'Sequencing on Tissue or Cell model? (MT confirm)': 'cell_type', \n",
    "'Sex': \"sex\",\n",
    "'tissue': \"lineage\",\n",
    "'Participant ID': 'participant_id',\n",
    "'RIN score from PAXgene tissue Aliquot': 'rin_score',\n",
    "'RIN': 'rin_score',\n",
    "'Cell types level 3': 'tissue_type',\n",
    "'Age_bin':'age',\n",
    "'cohort': \"disease_type\",\n",
    "'site_donor_id': \"participant_id\",\n",
    "'site_id': \"tissue_id\",\n",
    "'Site.of.Specimen ': \"collection_site\",\n",
    "'stripped_cell_line_name': \"sample_id\", \n",
    "'subtype': 'disease_subtype', \n",
    "'tc': 'tumor_purity',\n",
    "'Therapy': \"therapy\",\n",
    "'Tissue Site': \"collection_site\",\n",
    "'Tissue Status': \"metastatic/primary\",\n",
    "'Tumor Percent': \"contamination\",\n",
    "'Tumor Type': \"metastatic/primary\",\n",
    "'Tumor_type': 'cell_type', \n",
    "'type': \"cell_type\",\n",
    "'Type': \"cell_type\",\n",
    "'Sample Type': \"cell_type\",\n",
    "'sample_type': 'sample_type',\n",
    "'dataset': 'dataset',\n",
    "'ends': 'ends',\n",
    "'reference': 'reference',\n",
    "'method': 'method',\n",
    "}"
   ]
  },
  {
   "cell_type": "code",
   "execution_count": 7,
   "metadata": {
    "ExecuteTime": {
     "end_time": "2021-12-01T18:42:17.117853Z",
     "start_time": "2021-12-01T18:42:17.077385Z"
    },
    "scrolled": true
   },
   "outputs": [],
   "source": [
    "CCLE_annotation = CCLE_annotation.rename(columns=rename)\n",
    "CCLE_annotation = CCLE_annotation[(set(['origin', 'sequencing_type', 'doublingt','hasebv']) | set(rename.values())) & set(CCLE_annotation.columns)]\n",
    "CCLE_annotation['method']=\"bulk\"\n",
    "CCLE_annotation['cell_type']=\"historical_CL; 2D\"\n",
    "CCLE_annotation['sequencer']=\"Illumina Hiseq 2000\"\n",
    "CCLE_annotation['ends']=\"paired end\"\n",
    "CCLE_annotation['reference']=\"hg38\"\n",
    "CCLE_annotation['dataset']=\"ccle\""
   ]
  },
  {
   "cell_type": "code",
   "execution_count": 8,
   "metadata": {
    "ExecuteTime": {
     "end_time": "2021-12-01T18:42:28.436779Z",
     "start_time": "2021-12-01T18:42:28.409842Z"
    }
   },
   "outputs": [
    {
     "data": {
      "text/plain": [
       "sampleID                      TH27_1241_S01\n",
       "age_at_dx                               NaN\n",
       "pedaya                              Unknown\n",
       "gender                              unknown\n",
       "site_id                                TH27\n",
       "site_donor_id                          None\n",
       "site_sampleid                          None\n",
       "lineage              central_nervous_system\n",
       "disease                        Brain Cancer\n",
       "TCGA_disease                           None\n",
       "TCGA_primary_site                      None\n",
       "sample_type                            None\n",
       "CPE                                     NaN\n",
       "ABSOLUTE                                NaN\n",
       "Cancer type                            None\n",
       "subtype                              glioma\n",
       "UMAP_1                             5.433872\n",
       "UMAP_2                            10.000675\n",
       "cluster                                  52\n",
       "Name: 0, dtype: object"
      ]
     },
     "execution_count": 8,
     "metadata": {},
     "output_type": "execute_result"
    }
   ],
   "source": [
    "TCGA_annotation.iloc[0]"
   ]
  },
  {
   "cell_type": "code",
   "execution_count": 9,
   "metadata": {
    "ExecuteTime": {
     "end_time": "2021-12-01T18:42:39.809712Z",
     "start_time": "2021-12-01T18:42:39.773964Z"
    }
   },
   "outputs": [],
   "source": [
    "TCGA_annotation = TCGA_annotation.rename(columns=rename)\n",
    "TCGA_annotation = TCGA_annotation[set(rename.values()) & set(TCGA_annotation.columns)]\n",
    "TCGA_annotation['method']=\"bulk\"\n",
    "TCGA_annotation['cell_type']=\"tumor\"\n",
    "TCGA_annotation['metastasis']=\"Primary\"\n",
    "TCGA_annotation['sequencer']= \"Illumina Hiseq 2000\"\n",
    "TCGA_annotation['reference']= \"hg38\"\n",
    "TCGA_annotation['ends']=\"paired end\"\n",
    "TCGA_annotation['dataset']=\"tcga\"\n",
    "\n",
    "TCGA_annotation = TCGA_annotation.set_index('sample_id')"
   ]
  },
  {
   "cell_type": "code",
   "execution_count": 10,
   "metadata": {
    "ExecuteTime": {
     "end_time": "2021-12-01T18:42:51.991690Z",
     "start_time": "2021-12-01T18:42:51.964619Z"
    }
   },
   "outputs": [],
   "source": [
    "CCLE_annotation = CCLE_annotation[set(CCLE_annotation.columns) & set(rename.values())]"
   ]
  },
  {
   "cell_type": "code",
   "execution_count": 1,
   "metadata": {
    "ExecuteTime": {
     "end_time": "2021-12-01T18:46:57.145249Z",
     "start_time": "2021-12-01T18:46:57.073989Z"
    },
    "scrolled": true
   },
   "outputs": [
    {
     "ename": "NameError",
     "evalue": "name 'CCLE_expression' is not defined",
     "output_type": "error",
     "traceback": [
      "\u001b[0;31m---------------------------------------------------------------------------\u001b[0m",
      "\u001b[0;31mNameError\u001b[0m                                 Traceback (most recent call last)",
      "\u001b[0;32m/tmp/ipykernel_22209/2689381485.py\u001b[0m in \u001b[0;36m<module>\u001b[0;34m\u001b[0m\n\u001b[0;32m----> 1\u001b[0;31m \u001b[0mset\u001b[0m\u001b[0;34m(\u001b[0m\u001b[0mCCLE_expression\u001b[0m\u001b[0;34m.\u001b[0m\u001b[0mindex\u001b[0m\u001b[0;34m)\u001b[0m \u001b[0;34m&\u001b[0m \u001b[0mset\u001b[0m\u001b[0;34m(\u001b[0m\u001b[0mTCGA_expression\u001b[0m\u001b[0;34m.\u001b[0m\u001b[0mindex\u001b[0m\u001b[0;34m)\u001b[0m\u001b[0;34m\u001b[0m\u001b[0;34m\u001b[0m\u001b[0m\n\u001b[0m",
      "\u001b[0;31mNameError\u001b[0m: name 'CCLE_expression' is not defined"
     ]
    }
   ],
   "source": [
    "set(CCLE_expression.index) & set(TCGA_expression.index)"
   ]
  },
  {
   "cell_type": "code",
   "execution_count": 3,
   "metadata": {
    "ExecuteTime": {
     "end_time": "2021-12-01T18:47:23.779051Z",
     "start_time": "2021-12-01T18:47:23.770158Z"
    }
   },
   "outputs": [
    {
     "ename": "NameError",
     "evalue": "name 'CCLE_expression' is not defined",
     "output_type": "error",
     "traceback": [
      "\u001b[0;31m---------------------------------------------------------------------------\u001b[0m",
      "\u001b[0;31mNameError\u001b[0m                                 Traceback (most recent call last)",
      "\u001b[0;32m/tmp/ipykernel_22209/543298898.py\u001b[0m in \u001b[0;36m<module>\u001b[0;34m\u001b[0m\n\u001b[0;32m----> 1\u001b[0;31m \u001b[0mCCLE_expression\u001b[0m\u001b[0;34m.\u001b[0m\u001b[0mcolumns\u001b[0m \u001b[0;34m=\u001b[0m \u001b[0;34m[\u001b[0m\u001b[0mi\u001b[0m\u001b[0;34m.\u001b[0m\u001b[0msplit\u001b[0m\u001b[0;34m(\u001b[0m\u001b[0;34m'('\u001b[0m\u001b[0;34m)\u001b[0m\u001b[0;34m[\u001b[0m\u001b[0;34m-\u001b[0m\u001b[0;36m1\u001b[0m\u001b[0;34m]\u001b[0m\u001b[0;34m[\u001b[0m\u001b[0;34m:\u001b[0m\u001b[0;34m-\u001b[0m\u001b[0;36m1\u001b[0m\u001b[0;34m]\u001b[0m \u001b[0;32mif\u001b[0m \u001b[0;34m'('\u001b[0m \u001b[0;32min\u001b[0m \u001b[0mi\u001b[0m \u001b[0;32melse\u001b[0m \u001b[0mi\u001b[0m \u001b[0;32mfor\u001b[0m \u001b[0mi\u001b[0m \u001b[0;32min\u001b[0m \u001b[0mCCLE_expression\u001b[0m\u001b[0;34m.\u001b[0m\u001b[0mcolumns\u001b[0m\u001b[0;34m]\u001b[0m\u001b[0;34m\u001b[0m\u001b[0;34m\u001b[0m\u001b[0m\n\u001b[0m",
      "\u001b[0;31mNameError\u001b[0m: name 'CCLE_expression' is not defined"
     ]
    }
   ],
   "source": [
    "CCLE_expression.columns = [i.split('(')[-1][:-1] if '(' in i else i for i in CCLE_expression.columns]"
   ]
  },
  {
   "cell_type": "code",
   "execution_count": 46,
   "metadata": {
    "ExecuteTime": {
     "end_time": "2021-11-29T16:44:11.970600Z",
     "start_time": "2021-11-29T16:44:11.892813Z"
    }
   },
   "outputs": [
    {
     "data": {
      "text/plain": [
       "(22411, 29643, 4390)"
      ]
     },
     "execution_count": 46,
     "metadata": {},
     "output_type": "execute_result"
    }
   ],
   "source": [
    "len(set(CCLE_expression.columns) - set(TCGA_expression.columns)), len(set(CCLE_expression.columns) & set(TCGA_expression.columns)), len(set(TCGA_expression.columns) - set(CCLE_expression.columns)),"
   ]
  },
  {
   "cell_type": "markdown",
   "metadata": {},
   "source": [
    "## CCLF"
   ]
  },
  {
   "cell_type": "code",
   "execution_count": 69,
   "metadata": {
    "ExecuteTime": {
     "end_time": "2021-11-29T17:14:59.414292Z",
     "start_time": "2021-11-29T17:14:59.114814Z"
    }
   },
   "outputs": [
    {
     "data": {
      "text/plain": [
       "Genomic_Seq                          Pending\n",
       "RNA_Seq_cancertype              BREAST_BASAL\n",
       "RNA_Seq_marker                          None\n",
       "CCLF_ID                       CCLF_cRCRF1048\n",
       "Diagnosis             Advanced breast cancer\n",
       "Subtype_patient                ER/PR+, HER2-\n",
       "Tumor_type                        Metastatic\n",
       "Sample_type                 Pleural effusion\n",
       "Name: 0, dtype: object"
      ]
     },
     "execution_count": 69,
     "metadata": {},
     "output_type": "execute_result"
    }
   ],
   "source": [
    "cclf_orga_info = tc.get(name='cclf-organoids-c23d', version=1, file='cclf_orga_info')\n",
    "cclf_orga_info.iloc[0]"
   ]
  },
  {
   "cell_type": "code",
   "execution_count": 71,
   "metadata": {
    "ExecuteTime": {
     "end_time": "2021-11-29T17:16:00.766755Z",
     "start_time": "2021-11-29T17:16:00.417523Z"
    },
    "scrolled": true
   },
   "outputs": [],
   "source": [
    "cclf_orga_info = cclf_orga_info.rename(columns=rename)\n",
    "cclf_orga_info = cclf_orga_info[set(rename.values()) & set(cclf_orga_info.columns)]\n",
    "cclf_orga_rnaseq = tc.get(name='cclf-organoids-c23d', version=1, file='cclf_orga_rnaseq').T # 40,000x24\n",
    "cclf_orga_info.index = [i.split(\"_\")[1] for i in cclf_orga_info.sample_id]\n",
    "cclf_orga_rnaseq.index = [i.split('_')[0][:-1] for i in cclf_orga_rnaseq.index]"
   ]
  },
  {
   "cell_type": "code",
   "execution_count": 72,
   "metadata": {
    "ExecuteTime": {
     "end_time": "2021-11-29T17:16:04.395868Z",
     "start_time": "2021-11-29T17:16:04.355956Z"
    }
   },
   "outputs": [],
   "source": [
    "cclf_orga_info['sequencer'] = \"illumina Hiseq 2000\"\n",
    "cclf_orga_info['method'] = \"bulk\"\n",
    "cclf_orga_info['cell_type'] = \"organoid; cancer\"\n",
    "cclf_orga_info['reference']= \"hg38\"\n",
    "cclf_orga_info['ends']=\"paired end\"\n",
    "cclf_orga_info['dataset'] = \"cclf_orga\""
   ]
  },
  {
   "cell_type": "code",
   "execution_count": 73,
   "metadata": {
    "ExecuteTime": {
     "end_time": "2021-11-29T17:16:06.543137Z",
     "start_time": "2021-11-29T17:16:06.471327Z"
    }
   },
   "outputs": [
    {
     "data": {
      "text/html": [
       "<div>\n",
       "<style scoped>\n",
       "    .dataframe tbody tr th:only-of-type {\n",
       "        vertical-align: middle;\n",
       "    }\n",
       "\n",
       "    .dataframe tbody tr th {\n",
       "        vertical-align: top;\n",
       "    }\n",
       "\n",
       "    .dataframe thead th {\n",
       "        text-align: right;\n",
       "    }\n",
       "</style>\n",
       "<table border=\"1\" class=\"dataframe\">\n",
       "  <thead>\n",
       "    <tr style=\"text-align: right;\">\n",
       "      <th></th>\n",
       "      <th>participant_id</th>\n",
       "      <th>disease_type</th>\n",
       "      <th>tissue_type</th>\n",
       "      <th>age</th>\n",
       "      <th>disease_subtype</th>\n",
       "      <th>sex</th>\n",
       "      <th>tissue_id</th>\n",
       "      <th>method</th>\n",
       "      <th>cell_type</th>\n",
       "      <th>metastasis</th>\n",
       "      <th>...</th>\n",
       "      <th>reference</th>\n",
       "      <th>ends</th>\n",
       "      <th>dataset</th>\n",
       "      <th>media_type</th>\n",
       "      <th>sequencing_type</th>\n",
       "      <th>collection_site</th>\n",
       "      <th>sample_id</th>\n",
       "      <th>hasebv</th>\n",
       "      <th>doublingt</th>\n",
       "      <th>lineage</th>\n",
       "    </tr>\n",
       "  </thead>\n",
       "  <tbody>\n",
       "    <tr>\n",
       "      <th>TH27_1241_S01</th>\n",
       "      <td>None</td>\n",
       "      <td>Brain Cancer</td>\n",
       "      <td>central_nervous_system</td>\n",
       "      <td>NaN</td>\n",
       "      <td>glioma</td>\n",
       "      <td>unknown</td>\n",
       "      <td>TH27</td>\n",
       "      <td>bulk</td>\n",
       "      <td>tumor</td>\n",
       "      <td>Primary</td>\n",
       "      <td>...</td>\n",
       "      <td>hg38</td>\n",
       "      <td>paired end</td>\n",
       "      <td>tcga</td>\n",
       "      <td>NaN</td>\n",
       "      <td>NaN</td>\n",
       "      <td>NaN</td>\n",
       "      <td>NaN</td>\n",
       "      <td>NaN</td>\n",
       "      <td>NaN</td>\n",
       "      <td>NaN</td>\n",
       "    </tr>\n",
       "    <tr>\n",
       "      <th>TARGET-40-0A4I65-01A-01R</th>\n",
       "      <td>TARGET-40-0A4I65</td>\n",
       "      <td>Bone Cancer</td>\n",
       "      <td>bone</td>\n",
       "      <td>17.86</td>\n",
       "      <td>osteosarcoma</td>\n",
       "      <td>male</td>\n",
       "      <td>TARGET</td>\n",
       "      <td>bulk</td>\n",
       "      <td>tumor</td>\n",
       "      <td>Primary</td>\n",
       "      <td>...</td>\n",
       "      <td>hg38</td>\n",
       "      <td>paired end</td>\n",
       "      <td>tcga</td>\n",
       "      <td>NaN</td>\n",
       "      <td>NaN</td>\n",
       "      <td>NaN</td>\n",
       "      <td>NaN</td>\n",
       "      <td>NaN</td>\n",
       "      <td>NaN</td>\n",
       "      <td>NaN</td>\n",
       "    </tr>\n",
       "    <tr>\n",
       "      <th>THR24_1965_S01</th>\n",
       "      <td>SJHGG060</td>\n",
       "      <td>Brain Cancer</td>\n",
       "      <td>central_nervous_system</td>\n",
       "      <td>13.27</td>\n",
       "      <td>glioma</td>\n",
       "      <td>male</td>\n",
       "      <td>THR24</td>\n",
       "      <td>bulk</td>\n",
       "      <td>tumor</td>\n",
       "      <td>Primary</td>\n",
       "      <td>...</td>\n",
       "      <td>hg38</td>\n",
       "      <td>paired end</td>\n",
       "      <td>tcga</td>\n",
       "      <td>NaN</td>\n",
       "      <td>NaN</td>\n",
       "      <td>NaN</td>\n",
       "      <td>NaN</td>\n",
       "      <td>NaN</td>\n",
       "      <td>NaN</td>\n",
       "      <td>NaN</td>\n",
       "    </tr>\n",
       "    <tr>\n",
       "      <th>THR24_2080_S01</th>\n",
       "      <td>SJMEL001005</td>\n",
       "      <td>Skin Cancer</td>\n",
       "      <td>skin</td>\n",
       "      <td>3.75</td>\n",
       "      <td>None</td>\n",
       "      <td>male</td>\n",
       "      <td>THR24</td>\n",
       "      <td>bulk</td>\n",
       "      <td>tumor</td>\n",
       "      <td>Primary</td>\n",
       "      <td>...</td>\n",
       "      <td>hg38</td>\n",
       "      <td>paired end</td>\n",
       "      <td>tcga</td>\n",
       "      <td>NaN</td>\n",
       "      <td>NaN</td>\n",
       "      <td>NaN</td>\n",
       "      <td>NaN</td>\n",
       "      <td>NaN</td>\n",
       "      <td>NaN</td>\n",
       "      <td>NaN</td>\n",
       "    </tr>\n",
       "    <tr>\n",
       "      <th>THR20_0494_S01</th>\n",
       "      <td>icgc/_EGAR00001049890_RNA_tumor_ICGC_MB46</td>\n",
       "      <td>Brain Cancer</td>\n",
       "      <td>central_nervous_system</td>\n",
       "      <td>6.0</td>\n",
       "      <td>medulloblastoma</td>\n",
       "      <td>female</td>\n",
       "      <td>THR20</td>\n",
       "      <td>bulk</td>\n",
       "      <td>tumor</td>\n",
       "      <td>Primary</td>\n",
       "      <td>...</td>\n",
       "      <td>hg38</td>\n",
       "      <td>paired end</td>\n",
       "      <td>tcga</td>\n",
       "      <td>NaN</td>\n",
       "      <td>NaN</td>\n",
       "      <td>NaN</td>\n",
       "      <td>NaN</td>\n",
       "      <td>NaN</td>\n",
       "      <td>NaN</td>\n",
       "      <td>NaN</td>\n",
       "    </tr>\n",
       "    <tr>\n",
       "      <th>...</th>\n",
       "      <td>...</td>\n",
       "      <td>...</td>\n",
       "      <td>...</td>\n",
       "      <td>...</td>\n",
       "      <td>...</td>\n",
       "      <td>...</td>\n",
       "      <td>...</td>\n",
       "      <td>...</td>\n",
       "      <td>...</td>\n",
       "      <td>...</td>\n",
       "      <td>...</td>\n",
       "      <td>...</td>\n",
       "      <td>...</td>\n",
       "      <td>...</td>\n",
       "      <td>...</td>\n",
       "      <td>...</td>\n",
       "      <td>...</td>\n",
       "      <td>...</td>\n",
       "      <td>...</td>\n",
       "      <td>...</td>\n",
       "      <td>...</td>\n",
       "    </tr>\n",
       "    <tr>\n",
       "      <th>cRCRF1058</th>\n",
       "      <td>NaN</td>\n",
       "      <td>FIBROBLAST</td>\n",
       "      <td>NaN</td>\n",
       "      <td>NaN</td>\n",
       "      <td>Ovarian cancer</td>\n",
       "      <td>NaN</td>\n",
       "      <td>NaN</td>\n",
       "      <td>bulk</td>\n",
       "      <td>organoid; cancer</td>\n",
       "      <td>NaN</td>\n",
       "      <td>...</td>\n",
       "      <td>hg38</td>\n",
       "      <td>paired end</td>\n",
       "      <td>cclf_orga</td>\n",
       "      <td>NaN</td>\n",
       "      <td>NaN</td>\n",
       "      <td>NaN</td>\n",
       "      <td>CCLF_cRCRF1058</td>\n",
       "      <td>NaN</td>\n",
       "      <td>NaN</td>\n",
       "      <td>Ascites</td>\n",
       "    </tr>\n",
       "    <tr>\n",
       "      <th>cRCRF1004</th>\n",
       "      <td>NaN</td>\n",
       "      <td>OVARY</td>\n",
       "      <td>NaN</td>\n",
       "      <td>NaN</td>\n",
       "      <td>Ovarian serious cystadenocarcinoma</td>\n",
       "      <td>NaN</td>\n",
       "      <td>NaN</td>\n",
       "      <td>bulk</td>\n",
       "      <td>organoid; cancer</td>\n",
       "      <td>NaN</td>\n",
       "      <td>...</td>\n",
       "      <td>hg38</td>\n",
       "      <td>paired end</td>\n",
       "      <td>cclf_orga</td>\n",
       "      <td>NaN</td>\n",
       "      <td>NaN</td>\n",
       "      <td>NaN</td>\n",
       "      <td>CCLF_cRCRF1004</td>\n",
       "      <td>NaN</td>\n",
       "      <td>NaN</td>\n",
       "      <td>Pleural effusion</td>\n",
       "    </tr>\n",
       "    <tr>\n",
       "      <th>cRCRF1040</th>\n",
       "      <td>NaN</td>\n",
       "      <td>None</td>\n",
       "      <td>NaN</td>\n",
       "      <td>NaN</td>\n",
       "      <td>Advanced breast cancer</td>\n",
       "      <td>NaN</td>\n",
       "      <td>NaN</td>\n",
       "      <td>bulk</td>\n",
       "      <td>organoid; cancer</td>\n",
       "      <td>NaN</td>\n",
       "      <td>...</td>\n",
       "      <td>hg38</td>\n",
       "      <td>paired end</td>\n",
       "      <td>cclf_orga</td>\n",
       "      <td>NaN</td>\n",
       "      <td>NaN</td>\n",
       "      <td>NaN</td>\n",
       "      <td>CCLF_cRCRF1040</td>\n",
       "      <td>NaN</td>\n",
       "      <td>NaN</td>\n",
       "      <td>Pleural effusion</td>\n",
       "    </tr>\n",
       "    <tr>\n",
       "      <th>KL1220</th>\n",
       "      <td>NaN</td>\n",
       "      <td>None</td>\n",
       "      <td>NaN</td>\n",
       "      <td>NaN</td>\n",
       "      <td>Breast met to brain</td>\n",
       "      <td>NaN</td>\n",
       "      <td>NaN</td>\n",
       "      <td>bulk</td>\n",
       "      <td>organoid; cancer</td>\n",
       "      <td>NaN</td>\n",
       "      <td>...</td>\n",
       "      <td>hg38</td>\n",
       "      <td>paired end</td>\n",
       "      <td>cclf_orga</td>\n",
       "      <td>NaN</td>\n",
       "      <td>NaN</td>\n",
       "      <td>NaN</td>\n",
       "      <td>CCLF_KL1220</td>\n",
       "      <td>NaN</td>\n",
       "      <td>NaN</td>\n",
       "      <td>Brain met resection</td>\n",
       "    </tr>\n",
       "    <tr>\n",
       "      <th>KL1282</th>\n",
       "      <td>NaN</td>\n",
       "      <td>None</td>\n",
       "      <td>NaN</td>\n",
       "      <td>NaN</td>\n",
       "      <td>Ovarian met to brain</td>\n",
       "      <td>NaN</td>\n",
       "      <td>NaN</td>\n",
       "      <td>bulk</td>\n",
       "      <td>organoid; cancer</td>\n",
       "      <td>NaN</td>\n",
       "      <td>...</td>\n",
       "      <td>hg38</td>\n",
       "      <td>paired end</td>\n",
       "      <td>cclf_orga</td>\n",
       "      <td>NaN</td>\n",
       "      <td>NaN</td>\n",
       "      <td>NaN</td>\n",
       "      <td>CCLF_KL1282</td>\n",
       "      <td>NaN</td>\n",
       "      <td>NaN</td>\n",
       "      <td>Brain met resection</td>\n",
       "    </tr>\n",
       "  </tbody>\n",
       "</table>\n",
       "<p>19229 rows × 21 columns</p>\n",
       "</div>"
      ],
      "text/plain": [
       "                                                     participant_id  \\\n",
       "TH27_1241_S01                                                  None   \n",
       "TARGET-40-0A4I65-01A-01R                           TARGET-40-0A4I65   \n",
       "THR24_1965_S01                                             SJHGG060   \n",
       "THR24_2080_S01                                          SJMEL001005   \n",
       "THR20_0494_S01            icgc/_EGAR00001049890_RNA_tumor_ICGC_MB46   \n",
       "...                                                             ...   \n",
       "cRCRF1058                                                       NaN   \n",
       "cRCRF1004                                                       NaN   \n",
       "cRCRF1040                                                       NaN   \n",
       "KL1220                                                          NaN   \n",
       "KL1282                                                          NaN   \n",
       "\n",
       "                          disease_type             tissue_type    age  \\\n",
       "TH27_1241_S01             Brain Cancer  central_nervous_system    NaN   \n",
       "TARGET-40-0A4I65-01A-01R   Bone Cancer                    bone  17.86   \n",
       "THR24_1965_S01            Brain Cancer  central_nervous_system  13.27   \n",
       "THR24_2080_S01             Skin Cancer                    skin   3.75   \n",
       "THR20_0494_S01            Brain Cancer  central_nervous_system    6.0   \n",
       "...                                ...                     ...    ...   \n",
       "cRCRF1058                   FIBROBLAST                     NaN    NaN   \n",
       "cRCRF1004                        OVARY                     NaN    NaN   \n",
       "cRCRF1040                         None                     NaN    NaN   \n",
       "KL1220                            None                     NaN    NaN   \n",
       "KL1282                            None                     NaN    NaN   \n",
       "\n",
       "                                             disease_subtype      sex  \\\n",
       "TH27_1241_S01                                         glioma  unknown   \n",
       "TARGET-40-0A4I65-01A-01R                        osteosarcoma     male   \n",
       "THR24_1965_S01                                        glioma     male   \n",
       "THR24_2080_S01                                          None     male   \n",
       "THR20_0494_S01                               medulloblastoma   female   \n",
       "...                                                      ...      ...   \n",
       "cRCRF1058                                     Ovarian cancer      NaN   \n",
       "cRCRF1004                 Ovarian serious cystadenocarcinoma      NaN   \n",
       "cRCRF1040                             Advanced breast cancer      NaN   \n",
       "KL1220                                   Breast met to brain      NaN   \n",
       "KL1282                                  Ovarian met to brain      NaN   \n",
       "\n",
       "                         tissue_id method         cell_type metastasis  ...  \\\n",
       "TH27_1241_S01                 TH27   bulk             tumor    Primary  ...   \n",
       "TARGET-40-0A4I65-01A-01R    TARGET   bulk             tumor    Primary  ...   \n",
       "THR24_1965_S01               THR24   bulk             tumor    Primary  ...   \n",
       "THR24_2080_S01               THR24   bulk             tumor    Primary  ...   \n",
       "THR20_0494_S01               THR20   bulk             tumor    Primary  ...   \n",
       "...                            ...    ...               ...        ...  ...   \n",
       "cRCRF1058                      NaN   bulk  organoid; cancer        NaN  ...   \n",
       "cRCRF1004                      NaN   bulk  organoid; cancer        NaN  ...   \n",
       "cRCRF1040                      NaN   bulk  organoid; cancer        NaN  ...   \n",
       "KL1220                         NaN   bulk  organoid; cancer        NaN  ...   \n",
       "KL1282                         NaN   bulk  organoid; cancer        NaN  ...   \n",
       "\n",
       "                         reference        ends    dataset media_type  \\\n",
       "TH27_1241_S01                 hg38  paired end       tcga        NaN   \n",
       "TARGET-40-0A4I65-01A-01R      hg38  paired end       tcga        NaN   \n",
       "THR24_1965_S01                hg38  paired end       tcga        NaN   \n",
       "THR24_2080_S01                hg38  paired end       tcga        NaN   \n",
       "THR20_0494_S01                hg38  paired end       tcga        NaN   \n",
       "...                            ...         ...        ...        ...   \n",
       "cRCRF1058                     hg38  paired end  cclf_orga        NaN   \n",
       "cRCRF1004                     hg38  paired end  cclf_orga        NaN   \n",
       "cRCRF1040                     hg38  paired end  cclf_orga        NaN   \n",
       "KL1220                        hg38  paired end  cclf_orga        NaN   \n",
       "KL1282                        hg38  paired end  cclf_orga        NaN   \n",
       "\n",
       "                         sequencing_type  collection_site       sample_id  \\\n",
       "TH27_1241_S01                        NaN              NaN             NaN   \n",
       "TARGET-40-0A4I65-01A-01R             NaN              NaN             NaN   \n",
       "THR24_1965_S01                       NaN              NaN             NaN   \n",
       "THR24_2080_S01                       NaN              NaN             NaN   \n",
       "THR20_0494_S01                       NaN              NaN             NaN   \n",
       "...                                  ...              ...             ...   \n",
       "cRCRF1058                            NaN              NaN  CCLF_cRCRF1058   \n",
       "cRCRF1004                            NaN              NaN  CCLF_cRCRF1004   \n",
       "cRCRF1040                            NaN              NaN  CCLF_cRCRF1040   \n",
       "KL1220                               NaN              NaN     CCLF_KL1220   \n",
       "KL1282                               NaN              NaN     CCLF_KL1282   \n",
       "\n",
       "                         hasebv doublingt              lineage  \n",
       "TH27_1241_S01               NaN       NaN                  NaN  \n",
       "TARGET-40-0A4I65-01A-01R    NaN       NaN                  NaN  \n",
       "THR24_1965_S01              NaN       NaN                  NaN  \n",
       "THR24_2080_S01              NaN       NaN                  NaN  \n",
       "THR20_0494_S01              NaN       NaN                  NaN  \n",
       "...                         ...       ...                  ...  \n",
       "cRCRF1058                   NaN       NaN              Ascites  \n",
       "cRCRF1004                   NaN       NaN     Pleural effusion  \n",
       "cRCRF1040                   NaN       NaN     Pleural effusion  \n",
       "KL1220                      NaN       NaN  Brain met resection  \n",
       "KL1282                      NaN       NaN  Brain met resection  \n",
       "\n",
       "[19229 rows x 21 columns]"
      ]
     },
     "execution_count": 73,
     "metadata": {},
     "output_type": "execute_result"
    }
   ],
   "source": [
    "ann = pd.concat([ann, cclf_orga_info])\n",
    "ann"
   ]
  },
  {
   "cell_type": "code",
   "execution_count": 80,
   "metadata": {
    "ExecuteTime": {
     "end_time": "2021-11-29T17:23:39.640683Z",
     "start_time": "2021-11-29T17:23:39.575215Z"
    }
   },
   "outputs": [],
   "source": [
    "cclf_orga_rnaseq.columns = [i.split('.')[0] for i in cclf_orga_rnaseq.columns]"
   ]
  },
  {
   "cell_type": "code",
   "execution_count": 81,
   "metadata": {
    "ExecuteTime": {
     "end_time": "2021-11-29T17:23:45.944022Z",
     "start_time": "2021-11-29T17:23:45.871972Z"
    }
   },
   "outputs": [
    {
     "data": {
      "text/plain": [
       "(12002, 40052, 560)"
      ]
     },
     "execution_count": 81,
     "metadata": {},
     "output_type": "execute_result"
    }
   ],
   "source": [
    "len(set(CCLE_expression.columns) - set(cclf_orga_rnaseq.columns)), len(set(CCLE_expression.columns) & set(cclf_orga_rnaseq.columns)), len(set(cclf_orga_rnaseq.columns) - set(CCLE_expression.columns)),"
   ]
  },
  {
   "cell_type": "code",
   "execution_count": 121,
   "metadata": {
    "ExecuteTime": {
     "end_time": "2021-11-29T17:46:37.720454Z",
     "start_time": "2021-11-29T17:46:30.969343Z"
    },
    "scrolled": false
   },
   "outputs": [],
   "source": [
    "#cclf other\n",
    "cclfrna = dm.WorkspaceManager(\"nci-mimoun-bi-org/CCLF_RNA_2_0\").get_samples() #40,000x160\n",
    "\n",
    "cclfrna_anno = cclfrna[[\"external_id_rna\"]].replace({'NA': np.nan})\n",
    "\n",
    "cclfrna_annot = Sheets.from_files(MY_ID, MYSTORAGE_ID).get(\"https://docs.google.com/spreadsheets/d/1O9IV_v2vMbebkk_KDWu3LdKBQ16c8lThJKiiWvRxMUo\").sheets[2].to_frame()\n",
    "\n",
    "cclfrna_annot2 = Sheets.from_files(MY_ID, MYSTORAGE_ID).get(\"https://docs.google.com/spreadsheets/d/1O9IV_v2vMbebkk_KDWu3LdKBQ16c8lThJKiiWvRxMUo\").sheets[3].to_frame()\n",
    "# get it  from https://docs.google.com/spreadsheets/d/1O9IV_v2vMbebkk_KDWu3LdKBQ16c8lThJKiiWvRxMUo and from Terra: in the workspace: nci-mimoun-bi-org/CCLF_RNA_2_0"
   ]
  },
  {
   "cell_type": "code",
   "execution_count": 140,
   "metadata": {
    "ExecuteTime": {
     "end_time": "2021-11-29T17:49:04.971261Z",
     "start_time": "2021-11-29T17:48:41.049405Z"
    },
    "scrolled": true
   },
   "outputs": [],
   "source": [
    "#files, failed, _, _, lowqual, _ = await expressions.postProcess(\"nci-mimoun-bi-org/CCLF_RNA_2_0\", \"all_samples\", samplesetToLoad = \"all_samples\", compute_enrichment=False, trancriptLevelCols = ['rsem_transcripts_expected_count', 'rsem_transcripts_tpm'], geneLevelCols = [\"rsem_genes_tpm\", \"rsem_genes_expected_count\"], save_output=\"data/\")\n",
    "#cclfrna = files['rsem_genes_tpm']\n",
    "cclfrna = pd.read_csv('data/expression_genes_tpm.csv.gz', index_col=0)\n",
    "cclfrna = np.log2(1+cclfrna)"
   ]
  },
  {
   "cell_type": "code",
   "execution_count": 122,
   "metadata": {
    "ExecuteTime": {
     "end_time": "2021-11-29T17:46:38.714428Z",
     "start_time": "2021-11-29T17:46:38.674592Z"
    }
   },
   "outputs": [],
   "source": [
    "ina = (cclfrna_annot2['Passage Number'].isna() | (cclfrna_annot2['Passage Number']==\"Unknown\")) & ~(cclfrna_annot2[\"Passage Number on Receipt\"].isna() | (cclfrna_annot2[\"Passage Number on Receipt\"]==\"Unknown\"))\n",
    "cclfrna_annot2.loc[ina, \"Passage Number\"] = cclfrna_annot2.loc[ina, \"Passage Number on Receipt\"].values\n",
    "\n",
    "ina = (cclfrna_annot2['Gender'].isna() | (cclfrna_annot2['Gender']==\"Unknown\")) & ~(cclfrna_annot2[\"Gender.1\"].isna() | (cclfrna_annot2[\"Gender.1\"]==\"Unknown\"))\n",
    "cclfrna_annot2.loc[ina, \"genderA\"] = cclfrna_annot2.loc[ina, \"Gender.1\"].values\n",
    "\n",
    "ina = (cclfrna_annot2['Gender'].isna() | (cclfrna_annot2['Gender']==\"Unknown\")) & ~(cclfrna_annot2[\"FP Gender\"].isna() | (cclfrna_annot2[\"FP Gender\"]==\"Unknown\"))\n",
    "cclfrna_annot2.loc[ina, \"Gender\"] = cclfrna_annot2.loc[ina, \"FP Gender\"].values\n",
    "\n",
    "ina = (cclfrna_annot2['Race'].isna() | (cclfrna_annot2['Race']==\"Unknown\")) & ~(cclfrna_annot2[\"Ethnicity\"].isna() | (cclfrna_annot2[\"Ethnicity\"]==\"Unknown\"))\n",
    "cclfrna_annot2.loc[ina, \"Race\"] = cclfrna_annot2.loc[ina, \"Ethnicity\"].values\n"
   ]
  },
  {
   "cell_type": "code",
   "execution_count": 123,
   "metadata": {
    "ExecuteTime": {
     "end_time": "2021-11-29T17:46:39.753232Z",
     "start_time": "2021-11-29T17:46:39.709208Z"
    }
   },
   "outputs": [
    {
     "data": {
      "text/plain": [
       "Sample ID                                                               SM-5KIB3\n",
       "Collaborator Participant ID                                               3T3/J2\n",
       "Collaborator Sample ID                                                 3T3/J2_CL\n",
       "Sample LSID                             broadinstitute.org:bsp.prod.sample:5KIB3\n",
       "Sample Status                                                          INSTORAGE\n",
       "                                                     ...                        \n",
       "Volume Changed                 Volume changed from 100.0ul to 88.0ul, Volume ...\n",
       "XL20 Used for Total Weight                                                   NaN\n",
       "XL20 Used to Tare                                                            NaN\n",
       "rRNA Height Ratio 28S/18S                                                    NaN\n",
       "genderA                                                                      NaN\n",
       "Name: 0, Length: 126, dtype: object"
      ]
     },
     "execution_count": 123,
     "metadata": {},
     "output_type": "execute_result"
    }
   ],
   "source": [
    "cclfrna_annot2.iloc[0]"
   ]
  },
  {
   "cell_type": "code",
   "execution_count": 124,
   "metadata": {
    "ExecuteTime": {
     "end_time": "2021-11-29T17:46:40.644064Z",
     "start_time": "2021-11-29T17:46:40.619058Z"
    }
   },
   "outputs": [
    {
     "data": {
      "text/plain": [
       "Data File Type? (CCLF QC, CCLF Full Model Characterization, Other R&D, Other Exclude)                      CCLF Full Model Characterization\n",
       "Collaborator Sample ID                                                                                                            AB002T_BT\n",
       "Related project catagory                                                                                                           CCLF-mix\n",
       "Sequencing purpose? (Cell model genomic profiling/Driver mutation discovery/Mouse material)(MT confirm)        Cell model genomic profiling\n",
       "Sequencing on Tissue or Cell model? (MT confirm)                                                                                 Cell model\n",
       "                                                                                                                         ...               \n",
       "Mean Coverage (Raw)                                                                                                                     0.0\n",
       "Median Coverage (Raw)                                                                                                                   0.0\n",
       "100X % (Raw)                                                                                                                            0.0\n",
       "10X % (Raw)                                                                                                                             0.0\n",
       "15X % (Raw)                                                                                                                             0.0\n",
       "Name: 0, Length: 260, dtype: object"
      ]
     },
     "execution_count": 124,
     "metadata": {},
     "output_type": "execute_result"
    }
   ],
   "source": [
    "cclfrna_annot.iloc[0]"
   ]
  },
  {
   "cell_type": "code",
   "execution_count": 125,
   "metadata": {
    "ExecuteTime": {
     "end_time": "2021-11-29T17:46:41.508086Z",
     "start_time": "2021-11-29T17:46:41.480450Z"
    }
   },
   "outputs": [],
   "source": [
    "cclfrna_annot2 = cclfrna_annot2.set_index('Collaborator Sample ID')[[\"Age\",\n",
    "\"Gender\",\n",
    "\"Tumor Type\",\n",
    "\"Tissue Site\",\n",
    "\"Primary Disease\",\n",
    "\"Race\",\n",
    "\"Culture Medium\",\n",
    "\"Passage Number\",]]"
   ]
  },
  {
   "cell_type": "code",
   "execution_count": 126,
   "metadata": {
    "ExecuteTime": {
     "end_time": "2021-11-29T17:46:42.374346Z",
     "start_time": "2021-11-29T17:46:42.346563Z"
    }
   },
   "outputs": [],
   "source": [
    "cclfrna_annot = cclfrna_annot[[\n",
    " 'Sequencing on Tissue or Cell model? (MT confirm)',\n",
    " 'External ID for BAM',\n",
    " 'Product',\n",
    " 'RIN',\n",
    " 'Collaborator Sample ID',\n",
    " 'Original Material Type',\n",
    " 'Collaborator Participant ID',\n",
    " 'Aggregated',\n",
    " 'Actual Seq Technology',\n",
    " 'Contamination %',\n",
    "]].set_index('Collaborator Sample ID', drop=True)"
   ]
  },
  {
   "cell_type": "code",
   "execution_count": 127,
   "metadata": {
    "ExecuteTime": {
     "end_time": "2021-11-29T17:46:43.661762Z",
     "start_time": "2021-11-29T17:46:43.210949Z"
    }
   },
   "outputs": [],
   "source": [
    "for val in h.dups(cclfrna_annot2.index):\n",
    "    for i in range(len(cclfrna_annot2.loc[val])-1):\n",
    "        if cclfrna_annot2.loc[val].iloc[0].isna().sum() > cclfrna_annot2.loc[val].iloc[i+1].isna().sum():\n",
    "            cclfrna_annot2.iloc[np.argwhere(cclfrna_annot2.index == val).flatten()[0]] = cclfrna_annot2.loc[val].iloc[i+1].values\n",
    "cclfrna_annot2 = cclfrna_annot2[~cclfrna_annot2.index.duplicated(keep='first')]"
   ]
  },
  {
   "cell_type": "code",
   "execution_count": 128,
   "metadata": {
    "ExecuteTime": {
     "end_time": "2021-11-29T17:46:44.541946Z",
     "start_time": "2021-11-29T17:46:44.502095Z"
    }
   },
   "outputs": [],
   "source": [
    "for val in h.dups(cclfrna_annot.index):\n",
    "    for i in range(len(cclfrna_annot.loc[val])-1):\n",
    "        if cclfrna_annot.loc[val].iloc[0].isna().sum() > cclfrna_annot.loc[val].iloc[i+1].isna().sum():\n",
    "            cclfrna_annot.iloc[np.argwhere(cclfrna_annot.index == val).flatten()[0]] = cclfrna_annot.loc[val].iloc[i+1].values\n",
    "cclfrna_annot = cclfrna_annot[~cclfrna_annot.index.duplicated(keep='first')]"
   ]
  },
  {
   "cell_type": "code",
   "execution_count": 129,
   "metadata": {
    "ExecuteTime": {
     "end_time": "2021-11-29T17:46:45.411729Z",
     "start_time": "2021-11-29T17:46:45.385827Z"
    }
   },
   "outputs": [],
   "source": [
    "cclfrna_annot = pd.concat([cclfrna_annot, cclfrna_annot2], axis=1)"
   ]
  },
  {
   "cell_type": "code",
   "execution_count": 130,
   "metadata": {
    "ExecuteTime": {
     "end_time": "2021-11-29T17:46:47.529398Z",
     "start_time": "2021-11-29T17:46:46.243262Z"
    }
   },
   "outputs": [],
   "source": [
    "for i, val in cclfrna_annot.iterrows():\n",
    "    cclfrna_anno.loc[cclfrna_anno.external_id_rna==i, cclfrna_annot.columns] = val.values\n",
    "del cclfrna_annot"
   ]
  },
  {
   "cell_type": "code",
   "execution_count": 132,
   "metadata": {
    "ExecuteTime": {
     "end_time": "2021-11-29T17:46:54.868242Z",
     "start_time": "2021-11-29T17:46:54.842851Z"
    }
   },
   "outputs": [],
   "source": [
    "cclfrna_anno['reference']= \"hg38\"\n",
    "cclfrna_anno['ends']=\"paired end\"\n",
    "cclfrna_anno['method'] = \"bulk\"\n",
    "cclfrna_anno['dataset'] = \"cclf\"\n",
    "\n",
    "cclfrna_anno = cclfrna_anno.rename(columns=rename)"
   ]
  },
  {
   "cell_type": "code",
   "execution_count": 136,
   "metadata": {
    "ExecuteTime": {
     "end_time": "2021-11-29T17:47:53.804737Z",
     "start_time": "2021-11-29T17:47:53.745793Z"
    },
    "scrolled": true
   },
   "outputs": [
    {
     "data": {
      "text/html": [
       "<div>\n",
       "<style scoped>\n",
       "    .dataframe tbody tr th:only-of-type {\n",
       "        vertical-align: middle;\n",
       "    }\n",
       "\n",
       "    .dataframe tbody tr th {\n",
       "        vertical-align: top;\n",
       "    }\n",
       "\n",
       "    .dataframe thead th {\n",
       "        text-align: right;\n",
       "    }\n",
       "</style>\n",
       "<table border=\"1\" class=\"dataframe\">\n",
       "  <thead>\n",
       "    <tr style=\"text-align: right;\">\n",
       "      <th></th>\n",
       "      <th>external_id_rna</th>\n",
       "      <th>cell_type</th>\n",
       "      <th>tissue_id</th>\n",
       "      <th>preparation</th>\n",
       "      <th>rin_score</th>\n",
       "      <th>history</th>\n",
       "      <th>participant_id</th>\n",
       "      <th>aggregated</th>\n",
       "      <th>sequencer</th>\n",
       "      <th>contamination</th>\n",
       "      <th>...</th>\n",
       "      <th>reference</th>\n",
       "      <th>ends</th>\n",
       "      <th>method</th>\n",
       "      <th>dataset</th>\n",
       "      <th>tissue_type</th>\n",
       "      <th>sequencing_type</th>\n",
       "      <th>disease_subtype</th>\n",
       "      <th>sample_id</th>\n",
       "      <th>hasebv</th>\n",
       "      <th>doublingt</th>\n",
       "    </tr>\n",
       "  </thead>\n",
       "  <tbody>\n",
       "    <tr>\n",
       "      <th>AA02-Tumor-SM-5LB98</th>\n",
       "      <td>AA02T</td>\n",
       "      <td>Cell model</td>\n",
       "      <td>AA02T</td>\n",
       "      <td>Tru-Seq Strand Specific Large Insert RNA Seque...</td>\n",
       "      <td>NaN</td>\n",
       "      <td>Cells:Cell Line, Viable</td>\n",
       "      <td>AA02</td>\n",
       "      <td>0.0</td>\n",
       "      <td>HISEQ_2500</td>\n",
       "      <td>1.91</td>\n",
       "      <td>...</td>\n",
       "      <td>hg38</td>\n",
       "      <td>paired end</td>\n",
       "      <td>bulk</td>\n",
       "      <td>cclf</td>\n",
       "      <td>NaN</td>\n",
       "      <td>NaN</td>\n",
       "      <td>NaN</td>\n",
       "      <td>NaN</td>\n",
       "      <td>NaN</td>\n",
       "      <td>NaN</td>\n",
       "    </tr>\n",
       "    <tr>\n",
       "      <th>AA13-Tumor-SM-GXH5W</th>\n",
       "      <td>AA13T_Repeat</td>\n",
       "      <td>Cell model</td>\n",
       "      <td>AA13T_Repeat</td>\n",
       "      <td>Tru-Seq Strand Specific Large Insert RNA Seque...</td>\n",
       "      <td>NaN</td>\n",
       "      <td>Cells:Pellet frozen</td>\n",
       "      <td>AA13</td>\n",
       "      <td>0.0</td>\n",
       "      <td>HISEQ_2500</td>\n",
       "      <td>0.18</td>\n",
       "      <td>...</td>\n",
       "      <td>hg38</td>\n",
       "      <td>paired end</td>\n",
       "      <td>bulk</td>\n",
       "      <td>cclf</td>\n",
       "      <td>NaN</td>\n",
       "      <td>NaN</td>\n",
       "      <td>NaN</td>\n",
       "      <td>NaN</td>\n",
       "      <td>NaN</td>\n",
       "      <td>NaN</td>\n",
       "    </tr>\n",
       "    <tr>\n",
       "      <th>AA22-Tumor-SM-ALFLY</th>\n",
       "      <td>AA22T</td>\n",
       "      <td>Cell model</td>\n",
       "      <td>AA22T</td>\n",
       "      <td>Tru-Seq Strand Specific Large Insert RNA Seque...</td>\n",
       "      <td>NaN</td>\n",
       "      <td>Cells:Growing</td>\n",
       "      <td>AA22</td>\n",
       "      <td>0.0</td>\n",
       "      <td>HISEQ_2500</td>\n",
       "      <td>0.60</td>\n",
       "      <td>...</td>\n",
       "      <td>hg38</td>\n",
       "      <td>paired end</td>\n",
       "      <td>bulk</td>\n",
       "      <td>cclf</td>\n",
       "      <td>NaN</td>\n",
       "      <td>NaN</td>\n",
       "      <td>NaN</td>\n",
       "      <td>NaN</td>\n",
       "      <td>NaN</td>\n",
       "      <td>NaN</td>\n",
       "    </tr>\n",
       "    <tr>\n",
       "      <th>AA22-Tumor-SM-GXH2L</th>\n",
       "      <td>AA22T_OPAC</td>\n",
       "      <td>Cell model</td>\n",
       "      <td>AA22T_OPAC</td>\n",
       "      <td>Tru-Seq Strand Specific Large Insert RNA Seque...</td>\n",
       "      <td>NaN</td>\n",
       "      <td>Cells:Pellet frozen</td>\n",
       "      <td>AA22</td>\n",
       "      <td>0.0</td>\n",
       "      <td>HISEQ_2500</td>\n",
       "      <td>0.42</td>\n",
       "      <td>...</td>\n",
       "      <td>hg38</td>\n",
       "      <td>paired end</td>\n",
       "      <td>bulk</td>\n",
       "      <td>cclf</td>\n",
       "      <td>NaN</td>\n",
       "      <td>NaN</td>\n",
       "      <td>NaN</td>\n",
       "      <td>NaN</td>\n",
       "      <td>NaN</td>\n",
       "      <td>NaN</td>\n",
       "    </tr>\n",
       "    <tr>\n",
       "      <th>AA26-Tumor-SM-AU5YZ</th>\n",
       "      <td>AA26T</td>\n",
       "      <td>Cell model</td>\n",
       "      <td>AA26T</td>\n",
       "      <td>Tru-Seq Strand Specific Large Insert RNA Seque...</td>\n",
       "      <td>NaN</td>\n",
       "      <td>Cells:Pellet frozen</td>\n",
       "      <td>AA26</td>\n",
       "      <td>0.0</td>\n",
       "      <td>HISEQ_2500</td>\n",
       "      <td>0.53</td>\n",
       "      <td>...</td>\n",
       "      <td>hg38</td>\n",
       "      <td>paired end</td>\n",
       "      <td>bulk</td>\n",
       "      <td>cclf</td>\n",
       "      <td>NaN</td>\n",
       "      <td>NaN</td>\n",
       "      <td>NaN</td>\n",
       "      <td>NaN</td>\n",
       "      <td>NaN</td>\n",
       "      <td>NaN</td>\n",
       "    </tr>\n",
       "    <tr>\n",
       "      <th>...</th>\n",
       "      <td>...</td>\n",
       "      <td>...</td>\n",
       "      <td>...</td>\n",
       "      <td>...</td>\n",
       "      <td>...</td>\n",
       "      <td>...</td>\n",
       "      <td>...</td>\n",
       "      <td>...</td>\n",
       "      <td>...</td>\n",
       "      <td>...</td>\n",
       "      <td>...</td>\n",
       "      <td>...</td>\n",
       "      <td>...</td>\n",
       "      <td>...</td>\n",
       "      <td>...</td>\n",
       "      <td>...</td>\n",
       "      <td>...</td>\n",
       "      <td>...</td>\n",
       "      <td>...</td>\n",
       "      <td>...</td>\n",
       "      <td>...</td>\n",
       "    </tr>\n",
       "    <tr>\n",
       "      <th>CDS-qbHB8J</th>\n",
       "      <td>NaN</td>\n",
       "      <td>historical_CL; 2D</td>\n",
       "      <td>ACH-002498</td>\n",
       "      <td>NaN</td>\n",
       "      <td>NaN</td>\n",
       "      <td>NaN</td>\n",
       "      <td>PT-kiG6X0x0</td>\n",
       "      <td>NaN</td>\n",
       "      <td>Illumina Hiseq 2000</td>\n",
       "      <td>NaN</td>\n",
       "      <td>...</td>\n",
       "      <td>hg38</td>\n",
       "      <td>paired end</td>\n",
       "      <td>bulk</td>\n",
       "      <td>ccle</td>\n",
       "      <td>lymphocyte</td>\n",
       "      <td>NaN</td>\n",
       "      <td>non_hodgkin_lymphoma</td>\n",
       "      <td>SUDHL2</td>\n",
       "      <td>False</td>\n",
       "      <td>NaN</td>\n",
       "    </tr>\n",
       "    <tr>\n",
       "      <th>CDS-y7yI24</th>\n",
       "      <td>NaN</td>\n",
       "      <td>historical_CL; 2D</td>\n",
       "      <td>ACH-001704</td>\n",
       "      <td>NaN</td>\n",
       "      <td>NaN</td>\n",
       "      <td>NaN</td>\n",
       "      <td>PT-9Sjq1s2c</td>\n",
       "      <td>NaN</td>\n",
       "      <td>Illumina Hiseq 2000</td>\n",
       "      <td>NaN</td>\n",
       "      <td>...</td>\n",
       "      <td>hg38</td>\n",
       "      <td>paired end</td>\n",
       "      <td>bulk</td>\n",
       "      <td>ccle</td>\n",
       "      <td>skin</td>\n",
       "      <td>NaN</td>\n",
       "      <td>melanoma</td>\n",
       "      <td>VMRCMELG</td>\n",
       "      <td>False</td>\n",
       "      <td>60.0</td>\n",
       "    </tr>\n",
       "    <tr>\n",
       "      <th>CDS-cteUkO</th>\n",
       "      <td>NaN</td>\n",
       "      <td>historical_CL; 2D</td>\n",
       "      <td>ACH-001709</td>\n",
       "      <td>NaN</td>\n",
       "      <td>NaN</td>\n",
       "      <td>NaN</td>\n",
       "      <td>PT-55Pt5qaS</td>\n",
       "      <td>NaN</td>\n",
       "      <td>Illumina Hiseq 2000</td>\n",
       "      <td>NaN</td>\n",
       "      <td>...</td>\n",
       "      <td>hg38</td>\n",
       "      <td>paired end</td>\n",
       "      <td>bulk</td>\n",
       "      <td>ccle</td>\n",
       "      <td>lymphocyte</td>\n",
       "      <td>NaN</td>\n",
       "      <td>lymphoma_unspecified</td>\n",
       "      <td>WSUNHL</td>\n",
       "      <td>False</td>\n",
       "      <td>57.0</td>\n",
       "    </tr>\n",
       "    <tr>\n",
       "      <th>CDS-dQKiht</th>\n",
       "      <td>NaN</td>\n",
       "      <td>historical_CL; 2D</td>\n",
       "      <td>ACH-003020</td>\n",
       "      <td>NaN</td>\n",
       "      <td>NaN</td>\n",
       "      <td>NaN</td>\n",
       "      <td>PT-TRbh2Ida</td>\n",
       "      <td>NaN</td>\n",
       "      <td>Illumina Hiseq 2000</td>\n",
       "      <td>NaN</td>\n",
       "      <td>...</td>\n",
       "      <td>hg38</td>\n",
       "      <td>paired end</td>\n",
       "      <td>bulk</td>\n",
       "      <td>ccle</td>\n",
       "      <td>breast</td>\n",
       "      <td>NaN</td>\n",
       "      <td>normal</td>\n",
       "      <td>HCC1143_NORMAL</td>\n",
       "      <td>NaN</td>\n",
       "      <td>NaN</td>\n",
       "    </tr>\n",
       "    <tr>\n",
       "      <th>CDS-iEuxKm</th>\n",
       "      <td>NaN</td>\n",
       "      <td>historical_CL; 2D</td>\n",
       "      <td>ACH-003020</td>\n",
       "      <td>NaN</td>\n",
       "      <td>NaN</td>\n",
       "      <td>NaN</td>\n",
       "      <td>PT-TRbh2Ida</td>\n",
       "      <td>NaN</td>\n",
       "      <td>Illumina Hiseq 2000</td>\n",
       "      <td>NaN</td>\n",
       "      <td>...</td>\n",
       "      <td>hg38</td>\n",
       "      <td>paired end</td>\n",
       "      <td>bulk</td>\n",
       "      <td>ccle</td>\n",
       "      <td>breast</td>\n",
       "      <td>NaN</td>\n",
       "      <td>normal</td>\n",
       "      <td>HCC1143_NORMAL</td>\n",
       "      <td>NaN</td>\n",
       "      <td>NaN</td>\n",
       "    </tr>\n",
       "  </tbody>\n",
       "</table>\n",
       "<p>7154 rows × 28 columns</p>\n",
       "</div>"
      ],
      "text/plain": [
       "                    external_id_rna          cell_type     tissue_id  \\\n",
       "AA02-Tumor-SM-5LB98           AA02T         Cell model         AA02T   \n",
       "AA13-Tumor-SM-GXH5W    AA13T_Repeat         Cell model  AA13T_Repeat   \n",
       "AA22-Tumor-SM-ALFLY           AA22T         Cell model         AA22T   \n",
       "AA22-Tumor-SM-GXH2L      AA22T_OPAC         Cell model    AA22T_OPAC   \n",
       "AA26-Tumor-SM-AU5YZ           AA26T         Cell model         AA26T   \n",
       "...                             ...                ...           ...   \n",
       "CDS-qbHB8J                      NaN  historical_CL; 2D    ACH-002498   \n",
       "CDS-y7yI24                      NaN  historical_CL; 2D    ACH-001704   \n",
       "CDS-cteUkO                      NaN  historical_CL; 2D    ACH-001709   \n",
       "CDS-dQKiht                      NaN  historical_CL; 2D    ACH-003020   \n",
       "CDS-iEuxKm                      NaN  historical_CL; 2D    ACH-003020   \n",
       "\n",
       "                                                           preparation  \\\n",
       "AA02-Tumor-SM-5LB98  Tru-Seq Strand Specific Large Insert RNA Seque...   \n",
       "AA13-Tumor-SM-GXH5W  Tru-Seq Strand Specific Large Insert RNA Seque...   \n",
       "AA22-Tumor-SM-ALFLY  Tru-Seq Strand Specific Large Insert RNA Seque...   \n",
       "AA22-Tumor-SM-GXH2L  Tru-Seq Strand Specific Large Insert RNA Seque...   \n",
       "AA26-Tumor-SM-AU5YZ  Tru-Seq Strand Specific Large Insert RNA Seque...   \n",
       "...                                                                ...   \n",
       "CDS-qbHB8J                                                         NaN   \n",
       "CDS-y7yI24                                                         NaN   \n",
       "CDS-cteUkO                                                         NaN   \n",
       "CDS-dQKiht                                                         NaN   \n",
       "CDS-iEuxKm                                                         NaN   \n",
       "\n",
       "                     rin_score                  history participant_id  \\\n",
       "AA02-Tumor-SM-5LB98        NaN  Cells:Cell Line, Viable           AA02   \n",
       "AA13-Tumor-SM-GXH5W        NaN      Cells:Pellet frozen           AA13   \n",
       "AA22-Tumor-SM-ALFLY        NaN            Cells:Growing           AA22   \n",
       "AA22-Tumor-SM-GXH2L        NaN      Cells:Pellet frozen           AA22   \n",
       "AA26-Tumor-SM-AU5YZ        NaN      Cells:Pellet frozen           AA26   \n",
       "...                        ...                      ...            ...   \n",
       "CDS-qbHB8J                 NaN                      NaN    PT-kiG6X0x0   \n",
       "CDS-y7yI24                 NaN                      NaN    PT-9Sjq1s2c   \n",
       "CDS-cteUkO                 NaN                      NaN    PT-55Pt5qaS   \n",
       "CDS-dQKiht                 NaN                      NaN    PT-TRbh2Ida   \n",
       "CDS-iEuxKm                 NaN                      NaN    PT-TRbh2Ida   \n",
       "\n",
       "                     aggregated            sequencer  contamination  ...  \\\n",
       "AA02-Tumor-SM-5LB98         0.0           HISEQ_2500           1.91  ...   \n",
       "AA13-Tumor-SM-GXH5W         0.0           HISEQ_2500           0.18  ...   \n",
       "AA22-Tumor-SM-ALFLY         0.0           HISEQ_2500           0.60  ...   \n",
       "AA22-Tumor-SM-GXH2L         0.0           HISEQ_2500           0.42  ...   \n",
       "AA26-Tumor-SM-AU5YZ         0.0           HISEQ_2500           0.53  ...   \n",
       "...                         ...                  ...            ...  ...   \n",
       "CDS-qbHB8J                  NaN  Illumina Hiseq 2000            NaN  ...   \n",
       "CDS-y7yI24                  NaN  Illumina Hiseq 2000            NaN  ...   \n",
       "CDS-cteUkO                  NaN  Illumina Hiseq 2000            NaN  ...   \n",
       "CDS-dQKiht                  NaN  Illumina Hiseq 2000            NaN  ...   \n",
       "CDS-iEuxKm                  NaN  Illumina Hiseq 2000            NaN  ...   \n",
       "\n",
       "                    reference        ends method dataset tissue_type  \\\n",
       "AA02-Tumor-SM-5LB98      hg38  paired end   bulk    cclf         NaN   \n",
       "AA13-Tumor-SM-GXH5W      hg38  paired end   bulk    cclf         NaN   \n",
       "AA22-Tumor-SM-ALFLY      hg38  paired end   bulk    cclf         NaN   \n",
       "AA22-Tumor-SM-GXH2L      hg38  paired end   bulk    cclf         NaN   \n",
       "AA26-Tumor-SM-AU5YZ      hg38  paired end   bulk    cclf         NaN   \n",
       "...                       ...         ...    ...     ...         ...   \n",
       "CDS-qbHB8J               hg38  paired end   bulk    ccle  lymphocyte   \n",
       "CDS-y7yI24               hg38  paired end   bulk    ccle        skin   \n",
       "CDS-cteUkO               hg38  paired end   bulk    ccle  lymphocyte   \n",
       "CDS-dQKiht               hg38  paired end   bulk    ccle      breast   \n",
       "CDS-iEuxKm               hg38  paired end   bulk    ccle      breast   \n",
       "\n",
       "                    sequencing_type       disease_subtype       sample_id  \\\n",
       "AA02-Tumor-SM-5LB98             NaN                   NaN             NaN   \n",
       "AA13-Tumor-SM-GXH5W             NaN                   NaN             NaN   \n",
       "AA22-Tumor-SM-ALFLY             NaN                   NaN             NaN   \n",
       "AA22-Tumor-SM-GXH2L             NaN                   NaN             NaN   \n",
       "AA26-Tumor-SM-AU5YZ             NaN                   NaN             NaN   \n",
       "...                             ...                   ...             ...   \n",
       "CDS-qbHB8J                      NaN  non_hodgkin_lymphoma          SUDHL2   \n",
       "CDS-y7yI24                      NaN              melanoma        VMRCMELG   \n",
       "CDS-cteUkO                      NaN  lymphoma_unspecified          WSUNHL   \n",
       "CDS-dQKiht                      NaN                normal  HCC1143_NORMAL   \n",
       "CDS-iEuxKm                      NaN                normal  HCC1143_NORMAL   \n",
       "\n",
       "                    hasebv doublingt  \n",
       "AA02-Tumor-SM-5LB98    NaN       NaN  \n",
       "AA13-Tumor-SM-GXH5W    NaN       NaN  \n",
       "AA22-Tumor-SM-ALFLY    NaN       NaN  \n",
       "AA22-Tumor-SM-GXH2L    NaN       NaN  \n",
       "AA26-Tumor-SM-AU5YZ    NaN       NaN  \n",
       "...                    ...       ...  \n",
       "CDS-qbHB8J           False       NaN  \n",
       "CDS-y7yI24           False      60.0  \n",
       "CDS-cteUkO           False      57.0  \n",
       "CDS-dQKiht             NaN       NaN  \n",
       "CDS-iEuxKm             NaN       NaN  \n",
       "\n",
       "[7154 rows x 28 columns]"
      ]
     },
     "execution_count": 136,
     "metadata": {},
     "output_type": "execute_result"
    }
   ],
   "source": [
    "ann = pd.concat([cclfrna_anno, CCLE_annotation])\n",
    "ann"
   ]
  },
  {
   "cell_type": "code",
   "execution_count": 138,
   "metadata": {
    "ExecuteTime": {
     "end_time": "2021-11-29T17:48:21.473412Z",
     "start_time": "2021-11-29T17:48:21.449219Z"
    },
    "scrolled": false
   },
   "outputs": [
    {
     "data": {
      "text/plain": [
       "set()"
      ]
     },
     "execution_count": 138,
     "metadata": {},
     "output_type": "execute_result"
    }
   ],
   "source": [
    "set(CCLE_expression.index) & set(cclfrna.index)"
   ]
  },
  {
   "cell_type": "code",
   "execution_count": 137,
   "metadata": {
    "ExecuteTime": {
     "end_time": "2021-11-29T17:48:16.731737Z",
     "start_time": "2021-11-29T17:48:16.663250Z"
    }
   },
   "outputs": [],
   "source": [
    "cclfrna.columns = [i.split('(')[-1][:-1] if '(' in i else i for i in cclfrna.columns]"
   ]
  },
  {
   "cell_type": "code",
   "execution_count": 139,
   "metadata": {
    "ExecuteTime": {
     "end_time": "2021-11-29T17:48:28.749888Z",
     "start_time": "2021-11-29T17:48:28.680926Z"
    }
   },
   "outputs": [
    {
     "data": {
      "text/plain": [
       "(6843, 45211, 10)"
      ]
     },
     "execution_count": 139,
     "metadata": {},
     "output_type": "execute_result"
    }
   ],
   "source": [
    "len(set(CCLE_expression.columns) - set(cclfrna.columns)), len(set(CCLE_expression.columns) & set(cclfrna.columns)), len(set(cclfrna.columns) - set(CCLE_expression.columns)),"
   ]
  },
  {
   "cell_type": "markdown",
   "metadata": {},
   "source": [
    "## MET500 and PDXs"
   ]
  },
  {
   "cell_type": "code",
   "execution_count": 33,
   "metadata": {
    "ExecuteTime": {
     "end_time": "2022-06-02T20:26:38.758962Z",
     "start_time": "2022-06-02T20:26:38.723308Z"
    },
    "scrolled": true
   },
   "outputs": [
    {
     "data": {
      "text/plain": [
       "{'NS_adenocarcinoma',\n",
       " 'NS_neuroendocrine',\n",
       " 'autonomic_ganglia_NS',\n",
       " 'bile_duct_adenocarcinoma',\n",
       " 'bile_duct_adenosquamous_carcinoma',\n",
       " 'bone_NS',\n",
       " 'bone_chondroblastic',\n",
       " 'bone_dedifferentiated',\n",
       " 'bone_myxoid',\n",
       " 'breast_NS',\n",
       " 'breast_ductal_carcinoma',\n",
       " 'breast_ductal_carcinoma_in_situ',\n",
       " 'breast_lobular_carcinoma',\n",
       " 'breast_metaplastic_carcinoma',\n",
       " 'central_nervous_system_NS',\n",
       " 'central_nervous_system_astrocytoma_Grade_IV',\n",
       " 'central_nervous_system_ependymoma_Grade_III-IV',\n",
       " 'colorectal_NS',\n",
       " 'colorectal_adenocarcinoma',\n",
       " 'colorectal_squamous_cell_carcinoma',\n",
       " 'esophagus_adenocarcinoma',\n",
       " 'esophagus_squamous_cell_carcinoma',\n",
       " 'gastric_adenocarcinoma',\n",
       " 'gastric_diffuse_adenocarcinoma',\n",
       " 'kidney_NS',\n",
       " 'kidney_clear_cell_renal_cell_carcinoma',\n",
       " 'kidney_transitional_cell_carcinoma',\n",
       " 'liver_hepatocellular_carcinoma',\n",
       " 'lung_NS',\n",
       " 'lung_adenocarcinoma',\n",
       " 'lung_basaloid_carcinoma',\n",
       " 'lung_large_cell_carcinoma',\n",
       " 'lung_mixed_adenosquamous_carcinoma',\n",
       " 'lung_non_small_cell_carcinoma',\n",
       " 'lung_sarcomatoid_carcinoma',\n",
       " 'lung_squamous_cell_carcinoma',\n",
       " 'lymphocyte_diffuse_large_B_cell_lymphoma',\n",
       " 'meninges_anaplastic',\n",
       " 'meninges_haemangiopericytic',\n",
       " 'ovary_NS',\n",
       " 'ovary_adenocarcinoma',\n",
       " 'ovary_clear_cell_carcinoma',\n",
       " 'ovary_mixed_carcinoma',\n",
       " 'ovary_mucinous_carcinoma',\n",
       " 'ovary_serous_carcinoma',\n",
       " 'ovary_squamous_cell_carcinoma',\n",
       " 'ovary_transitional_cell_carcinoma',\n",
       " 'ovary_yolk_sac_tumour',\n",
       " 'pancreas_NS',\n",
       " 'pancreas_ductal_carcinoma',\n",
       " 'skin_Merkel_cell_carcinoma',\n",
       " 'skin_NS',\n",
       " 'skin_basal_cell_carcinoma',\n",
       " 'skin_nodular',\n",
       " 'skin_spindle',\n",
       " 'skin_squamous_cell_carcinoma',\n",
       " 'small_intestine_adenocarcinoma',\n",
       " 'soft_tissue_NS',\n",
       " 'soft_tissue_SN',\n",
       " 'soft_tissue_biphasic',\n",
       " 'soft_tissue_dedifferentiated',\n",
       " 'soft_tissue_embryonal',\n",
       " 'soft_tissue_in collision with cholangicarcinoma, no review in spectrum',\n",
       " 'soft_tissue_monophasic',\n",
       " 'soft_tissue_myxofibrosarcoma',\n",
       " 'soft_tissue_myxoid_round cell',\n",
       " 'soft_tissue_pleomorphic',\n",
       " 'soft_tissue_storiform_pleomorphic',\n",
       " 'soft_tissue_well_differentiated',\n",
       " 'upper_aerodigestive_squamous_cell_carcinoma',\n",
       " 'urinary_tract_transitional_cell_carcinoma',\n",
       " 'uterus_adenocarcinoma',\n",
       " 'uterus_carcinosarcoma-malignant_mesodermal_mixed_tumour',\n",
       " 'uterus_endometrioid_carcinoma',\n",
       " 'uterus_mucinous_carcinoma',\n",
       " 'uterus_serous_carcinoma'}"
      ]
     },
     "execution_count": 33,
     "metadata": {},
     "output_type": "execute_result"
    }
   ],
   "source": [
    "set(Novartis_PDX_ann['lineage'].astype(str) + \"_\" + Novartis_PDX_ann['subtype'].astype(str))"
   ]
  },
  {
   "cell_type": "code",
   "execution_count": 25,
   "metadata": {
    "ExecuteTime": {
     "end_time": "2022-06-02T20:21:29.927298Z",
     "start_time": "2022-06-02T20:21:29.889556Z"
    }
   },
   "outputs": [
    {
     "data": {
      "text/plain": [
       "{'blood_ALL_BCP-ALL_BCP-ALL_None',\n",
       " 'blood_ALL_ETP-ALL_ETP-ALL_None',\n",
       " 'blood_ALL_MLL-ALL_MLL-ALL_None',\n",
       " 'blood_ALL_Ph+-ALL_Ph+-ALL_None',\n",
       " 'blood_ALL_Ph-likeALL_Ph-likeALL_None',\n",
       " 'blood_ALL_T-ALL_T-ALL_None',\n",
       " 'bone_Ewing Sarcoma_Ewing Sarcoma_Ewing Sarcoma_None',\n",
       " 'bone_Extracranial Rhabdoid_Extracranial Rhabdoid_Extracranial Rhabdoid_None',\n",
       " 'bone_Osteosarcoma_Osteosarcoma_Osteosarcoma_None',\n",
       " 'central_nervous_system_CNS germinoma_CNS germinoma_CNS germinoma_None',\n",
       " 'central_nervous_system_DIPG_DIPG_DIPG_IDH/H3 WT',\n",
       " 'central_nervous_system_ETMR_ETMR_ETMR_ETMR',\n",
       " 'central_nervous_system_Ependymoblastoma_Ependymoblastoma_Ependymoblastoma_Ependymoblastoma',\n",
       " 'central_nervous_system_Ependymoma_Ependymoma_PF-EPN-A_PF-EPN-A',\n",
       " 'central_nervous_system_Ependymoma_Ependymoma_PF-EPN-B_PF-EPN-B',\n",
       " 'central_nervous_system_Ependymoma_Ependymoma_ST-EPN-RELA_ST-EPN-RELA',\n",
       " 'central_nervous_system_Ependymoma_Ependymoma_ST-EPN-YAP1_ST-EPN-YAP1',\n",
       " 'central_nervous_system_Glioblastoma_Glioblastoma_Glioblastoma_IDH/H3 WT',\n",
       " 'central_nervous_system_Glioblastoma_Glioblastoma_Glioblastoma_MYCN',\n",
       " 'central_nervous_system_High-grade glioma_Astrocytoma_Astrocytoma_IDH/H3 WT',\n",
       " 'central_nervous_system_High-grade glioma_Astrocytoma_Astrocytoma_MYCN',\n",
       " 'central_nervous_system_Medulloblastoma_Medulloblastoma_MB-Group3_Group3',\n",
       " 'central_nervous_system_Medulloblastoma_Medulloblastoma_MB-Group4_Group4',\n",
       " 'central_nervous_system_Medulloblastoma_Medulloblastoma_MB-SHH_SHH',\n",
       " 'central_nervous_system_Medulloblastoma_Medulloblastoma_MB-WNT_WNT',\n",
       " 'central_nervous_system_PNET_CNS EFT-CIC_CNS EFT-CIC_CNS EFT-CIC',\n",
       " 'central_nervous_system_PNET_CNS embryonal NOS_CNS embryonal NOS_CNS embryonal NOS',\n",
       " 'central_nervous_system_Pleomorphic Xanthoastrocytoma_Astrocytoma_Astrocytoma_PXA',\n",
       " 'colorectal_Colon Carcinoma_Colon Carcinoma_Colon Carcinoma_None',\n",
       " 'gastric_Small Cell Carcinoma_Small Cell Carcinoma_Small Cell Carcinoma_None',\n",
       " 'kidney_Wilms_Wilms_Wilms_None',\n",
       " 'liver_Hepatoblastoma_Hepatoblastoma_Hepatoblastoma_None',\n",
       " 'peripheral_nervous_system_Neuroblastoma_Neuroblastoma_Neuroblastoma_None',\n",
       " 'soft_tissue_ASPS_ASPS_ASPS_None',\n",
       " 'soft_tissue_ATRT_ATRT_ATRT-MYC_MYC',\n",
       " 'soft_tissue_ATRT_ATRT_ATRT-SHH_SHH',\n",
       " 'soft_tissue_ATRT_ATRT_ATRT_None',\n",
       " 'soft_tissue_Clear Cell Sarcoma_Clear Cell Sarcoma_Clear Cell Sarcoma_None',\n",
       " 'soft_tissue_Extracranial Rhabdoid_Extracranial Rhabdoid_Extracranial Rhabdoid_None',\n",
       " 'soft_tissue_Rhabdomyosarcoma_Fusion+ RMS_Fusion+ RMS_None',\n",
       " 'soft_tissue_Rhabdomyosarcoma_Fusion- RMS_Fusion- RMS_None'}"
      ]
     },
     "execution_count": 25,
     "metadata": {},
     "output_type": "execute_result"
    }
   ],
   "source": [
    "set(pediatric_PDX_ann[\"lineage\"].astype(str) + \"_\" + pediatric_PDX_ann[\"subtype\"].astype(str) + \"_\" + pediatric_PDX_ann[\"Histology.Detailed\"].astype(str) + \"_\" + pediatric_PDX_ann[\"Histology-Detailed2\"].astype(str) + \"_\" + pediatric_PDX_ann[\"Molecular-Subtype-Brain\"].astype(str))"
   ]
  },
  {
   "cell_type": "code",
   "execution_count": 30,
   "metadata": {
    "ExecuteTime": {
     "end_time": "2022-06-02T20:25:59.000729Z",
     "start_time": "2022-06-02T20:25:58.884277Z"
    }
   },
   "outputs": [
    {
     "data": {
      "text/plain": [
       "{'None_HNSC',\n",
       " 'None_MISC',\n",
       " 'None_SECR',\n",
       " 'adrenal_ACC',\n",
       " 'bladder_BLCA',\n",
       " 'brain_GBM',\n",
       " 'brain_MISC',\n",
       " 'breast_BRCA',\n",
       " 'colon_COLO',\n",
       " 'esophagus_ESCA',\n",
       " 'esophagus_HNSC',\n",
       " 'gall_bladder_CHOL',\n",
       " 'kidney_KDNY',\n",
       " 'liver_HCC',\n",
       " 'lung_LUNG',\n",
       " 'oral_HNSC',\n",
       " 'oral_SECR',\n",
       " 'oral_SKCM',\n",
       " 'other_MISC',\n",
       " 'other_SECR',\n",
       " 'ovary_OV',\n",
       " 'pancreas_PAAD',\n",
       " 'parotid_SECR',\n",
       " 'prostate_PRAD',\n",
       " 'sarcomatoid_SARC',\n",
       " 'skin_HNSC',\n",
       " 'skin_MISC',\n",
       " 'skin_SECR',\n",
       " 'skin_SKCM',\n",
       " 'stomach_STAD',\n",
       " 'testis_MISC',\n",
       " 'testis_TGCT',\n",
       " 'thymus_THYM',\n",
       " 'thyroid_THCA'}"
      ]
     },
     "execution_count": 30,
     "metadata": {},
     "output_type": "execute_result"
    }
   ],
   "source": [
    "set( met500_meta['tissue'].astype(str)+\"_\" +met500_meta['cohort'].astype(str))"
   ]
  },
  {
   "cell_type": "code",
   "execution_count": 176,
   "metadata": {
    "ExecuteTime": {
     "end_time": "2021-11-29T21:34:52.135578Z",
     "start_time": "2021-11-29T21:34:44.563452Z"
    },
    "scrolled": true
   },
   "outputs": [
    {
     "name": "stdout",
     "output_type": "stream",
     "text": [
      "No dataset version provided. Using version 1.\n",
      "No dataset version provided. Using version 1.\n",
      "No dataset version provided. Using version 2.\n",
      "No dataset version provided. Using version 2.\n",
      "No dataset version provided. Using version 2.\n",
      "No dataset version provided. Using version 2.\n"
     ]
    }
   ],
   "source": [
    "# met500 \n",
    "met500_meta = tc.get(name='met500-fc3c', file='met500_meta')\n",
    "met500_TPM = tc.get(name='met500-fc3c', file='met500_TPM') #20,979x868 matrix\n",
    "\n",
    "#Novartis_PDX\n",
    "Novartis_PDX_ann = tc.get(name='pdx-data-3d29', file='Novartis_PDX_ann')\n",
    "Novartis_PDX_TPM = tc.get(name='pdx-data-3d29', file='Novartis_PDX_TPM').T # 38,087x445\n",
    "\n",
    "#pediatric_PDX\n",
    "pediatric_PDX_ann = tc.get(name='pdx-data-3d29', file='pediatric_PDX_ann')\n",
    "pediatric_PDX_TPM = tc.get(name='pdx-data-3d29', file='pediatric_PDX_TPM') #80,000x250"
   ]
  },
  {
   "cell_type": "code",
   "execution_count": 18,
   "metadata": {
    "ExecuteTime": {
     "end_time": "2022-06-02T20:12:41.601356Z",
     "start_time": "2022-06-02T20:12:40.599061Z"
    }
   },
   "outputs": [
    {
     "data": {
      "text/plain": [
       "{'NS_adenocarcinoma',\n",
       " 'NS_neuroendocrine',\n",
       " 'autonomic_ganglia_NS',\n",
       " 'bile_duct_adenocarcinoma',\n",
       " 'bile_duct_adenosquamous_carcinoma',\n",
       " 'bone_NS',\n",
       " 'bone_chondroblastic',\n",
       " 'bone_dedifferentiated',\n",
       " 'bone_myxoid',\n",
       " 'breast_NS',\n",
       " 'breast_ductal_carcinoma',\n",
       " 'breast_ductal_carcinoma_in_situ',\n",
       " 'breast_lobular_carcinoma',\n",
       " 'breast_metaplastic_carcinoma',\n",
       " 'central_nervous_system_NS',\n",
       " 'central_nervous_system_astrocytoma_Grade_IV',\n",
       " 'central_nervous_system_ependymoma_Grade_III-IV',\n",
       " 'colorectal_NS',\n",
       " 'colorectal_adenocarcinoma',\n",
       " 'colorectal_squamous_cell_carcinoma',\n",
       " 'esophagus_adenocarcinoma',\n",
       " 'esophagus_squamous_cell_carcinoma',\n",
       " 'gastric_adenocarcinoma',\n",
       " 'gastric_diffuse_adenocarcinoma',\n",
       " 'kidney_NS',\n",
       " 'kidney_clear_cell_renal_cell_carcinoma',\n",
       " 'kidney_transitional_cell_carcinoma',\n",
       " 'liver_hepatocellular_carcinoma',\n",
       " 'lung_NS',\n",
       " 'lung_adenocarcinoma',\n",
       " 'lung_basaloid_carcinoma',\n",
       " 'lung_large_cell_carcinoma',\n",
       " 'lung_mixed_adenosquamous_carcinoma',\n",
       " 'lung_non_small_cell_carcinoma',\n",
       " 'lung_sarcomatoid_carcinoma',\n",
       " 'lung_squamous_cell_carcinoma',\n",
       " 'lymphocyte_diffuse_large_B_cell_lymphoma',\n",
       " 'meninges_anaplastic',\n",
       " 'meninges_haemangiopericytic',\n",
       " 'ovary_NS',\n",
       " 'ovary_adenocarcinoma',\n",
       " 'ovary_clear_cell_carcinoma',\n",
       " 'ovary_mixed_carcinoma',\n",
       " 'ovary_mucinous_carcinoma',\n",
       " 'ovary_serous_carcinoma',\n",
       " 'ovary_squamous_cell_carcinoma',\n",
       " 'ovary_transitional_cell_carcinoma',\n",
       " 'ovary_yolk_sac_tumour',\n",
       " 'pancreas_NS',\n",
       " 'pancreas_ductal_carcinoma',\n",
       " 'skin_Merkel_cell_carcinoma',\n",
       " 'skin_NS',\n",
       " 'skin_basal_cell_carcinoma',\n",
       " 'skin_nodular',\n",
       " 'skin_spindle',\n",
       " 'skin_squamous_cell_carcinoma',\n",
       " 'small_intestine_adenocarcinoma',\n",
       " 'soft_tissue_NS',\n",
       " 'soft_tissue_SN',\n",
       " 'soft_tissue_biphasic',\n",
       " 'soft_tissue_dedifferentiated',\n",
       " 'soft_tissue_embryonal',\n",
       " 'soft_tissue_in collision with cholangicarcinoma, no review in spectrum',\n",
       " 'soft_tissue_monophasic',\n",
       " 'soft_tissue_myxofibrosarcoma',\n",
       " 'soft_tissue_myxoid_round cell',\n",
       " 'soft_tissue_pleomorphic',\n",
       " 'soft_tissue_storiform_pleomorphic',\n",
       " 'soft_tissue_well_differentiated',\n",
       " 'upper_aerodigestive_squamous_cell_carcinoma',\n",
       " 'urinary_tract_transitional_cell_carcinoma',\n",
       " 'uterus_adenocarcinoma',\n",
       " 'uterus_carcinosarcoma-malignant_mesodermal_mixed_tumour',\n",
       " 'uterus_endometrioid_carcinoma',\n",
       " 'uterus_mucinous_carcinoma',\n",
       " 'uterus_serous_carcinoma'}"
      ]
     },
     "execution_count": 18,
     "metadata": {},
     "output_type": "execute_result"
    }
   ],
   "source": [
    "set(Novartis_PDX_ann.lineage+\"_\"+Novartis_PDX_ann.subtype)"
   ]
  },
  {
   "cell_type": "code",
   "execution_count": 177,
   "metadata": {
    "ExecuteTime": {
     "end_time": "2021-11-29T21:35:09.963026Z",
     "start_time": "2021-11-29T21:35:09.938116Z"
    },
    "scrolled": true
   },
   "outputs": [
    {
     "data": {
      "text/plain": [
       "Sample_id        ES_5001-capt-SI_5013-C0LAMACXX\n",
       "sample_type                               tumor\n",
       "sample_source                           ES_5001\n",
       "dataset                                    mctp\n",
       "tissue                                   breast\n",
       "cohort                                     BRCA\n",
       "run.id           ES_5001-capt-SI_5013-C0LAMACXX\n",
       "idx                                         461\n",
       "test                                      False\n",
       "tc                                         0.93\n",
       "biopsy_tissue                             brain\n",
       "Name: 0, dtype: object"
      ]
     },
     "execution_count": 177,
     "metadata": {},
     "output_type": "execute_result"
    }
   ],
   "source": [
    "met500_meta.iloc[0]"
   ]
  },
  {
   "cell_type": "code",
   "execution_count": 178,
   "metadata": {
    "ExecuteTime": {
     "end_time": "2021-11-29T21:35:23.097884Z",
     "start_time": "2021-11-29T21:35:23.061124Z"
    }
   },
   "outputs": [],
   "source": [
    "tcga_dict = {\n",
    "\"LAML\": \"Acute Myeloid Leukemia\",\n",
    "\"ACC\": \"Adrenocortical carcinoma\",\n",
    "\"BLCA\": \"Bladder Urothelial Carcinoma\",\n",
    "\"BOCA\": \"Bone Cancer\",\n",
    "\"LGG\": \"Brain Lower Grade Glioma\",\n",
    "\"BRCA\": \"Breast invasive carcinoma\",\n",
    "\"CESC\": \"Cervical squamous cell carcinoma and endocervical adenocarcinoma\",\n",
    "\"CHOL\": \"Cholangiocarcinoma\",\n",
    "\"CLLE\": \"Chronic Lymphocytic Leukemia\",\n",
    "\"CMDI\": \"Chronic Myeloid Disorders\",\n",
    "\"COAD\": \"Colon adenocarcinoma\",\n",
    "\"COLO\": \"Colorectal Cancer\",\n",
    "\"COADREAD\": \"Colorectal cancer\",\n",
    "\"EOPC\": \"Early Onset Prostate Cancer\",\n",
    "\"ESAD\": \"Esophageal Adenocarcinoma\",\n",
    "\"ESCA\": \"Esophageal carcinoma\",\n",
    "\"CHOL\": \"Gallbladder cancer\",\n",
    "\"GBM\": \"Glioblastoma multiforme\",\n",
    "\"HNSC\": \"Head and Neck squamous cell carcinoma\",\n",
    "\"KDNY\": \"Kidney Cancer\",\n",
    "\"KICH\": \"Kidney Chromophobe\",\n",
    "\"KIRC\": \"Kidney renal clear cell carcinoma\",\n",
    "\"KIRP\": \"Kidney renal papillary cell carcinoma\",\n",
    "\"LIRI\": \"Liver Cancer\",\n",
    "\"LICA\": \"Liver Cancer\",\n",
    "\"LINC\": \"Liver Cancer\",\n",
    "\"HCC\": \"Liver hepatocellular carcinoma\",\n",
    "\"LIHC\": \"Liver hepatocellular carcinoma\",\n",
    "\"LGG\": \"Lower Grade GLioma\",\n",
    "\"LUNG\": \"Lung Cancer\",\n",
    "\"LUAD\": \"Lung adenocarcinoma\",\n",
    "\"LUSC\": \"Lung squamous cell carcinoma\",\n",
    "\"DLBC\": \"Lymphoid Neoplasm Diffuse Large B-cell Lymphoma\",\n",
    "\"MCTP\": \"MCTP\",\n",
    "\"MALY\": \"Malignant Lymphoma\",\n",
    "\"MESO\": \"Mesothelioma\",\n",
    "\"NBL\": \"Neuroblastoma\",\n",
    "\"ORCA\": \"Oral Cancer\",\n",
    "\"MISC\": \"Other Cancer\",\n",
    "\"OV\": \"Ovarian serous cystadenocarcinoma\",\n",
    "\"PACA\": \"Pancreatic Cancer\",\n",
    "\"PAEN\": \"Pancreatic Cancer Endocrine neoplasms\",\n",
    "\"PAAD\": \"Pancreatic adenocarcinoma\",\n",
    "\"PBCA\": \"Pediatric Brain Cancer\",\n",
    "\"PCPG\": \"Pheochromocytoma and Paraganglioma\",\n",
    "\"PRAD\": \"Prostate adenocarcinoma\",\n",
    "\"READ\": \"Rectum adenocarcinoma\",\n",
    "\"RECA\": \"Renal Cancer\",\n",
    "\"SARC\": \"Sarcoma\",\n",
    "\"SECR\": \"Secretory Cancer\",\n",
    "\"SKCM\": \"Skin Cutaneous Melanoma\",\n",
    "\"STAD\": \"Stomach adenocarcinoma\",\n",
    "\"TGCT\": \"Testicular Germ Cell Tumor\",\n",
    "\"TGCT\": \"Testicular Germ Cell Tumors\",\n",
    "\"THYM\": \"Thymoma\",\n",
    "\"THYM\": \"Thymoma\",\n",
    "\"THCA\": \"Thyroid carcinoma\",\n",
    "\"UCS\":  \"Uterine Carcinosarcoma\",\n",
    "\"UCEC\": \"Uterine Corpus Endometrial Carcinoma\",\n",
    "\"UVM\": \"Uveal Melanoma\",\n",
    "\"ACC\": \"adrenocortical carcinoma\",\n",
    "}"
   ]
  },
  {
   "cell_type": "code",
   "execution_count": 179,
   "metadata": {
    "ExecuteTime": {
     "end_time": "2021-11-29T21:35:36.088084Z",
     "start_time": "2021-11-29T21:35:36.057415Z"
    }
   },
   "outputs": [],
   "source": [
    "met500_meta = met500_meta.replace({\"cohort\": tcga_dict})"
   ]
  },
  {
   "cell_type": "code",
   "execution_count": 180,
   "metadata": {
    "ExecuteTime": {
     "end_time": "2021-11-29T21:35:48.633685Z",
     "start_time": "2021-11-29T21:35:48.610864Z"
    }
   },
   "outputs": [
    {
     "data": {
      "text/plain": [
       "{'Sample_id',\n",
       " 'biopsy_tissue',\n",
       " 'cohort',\n",
       " 'idx',\n",
       " 'run.id',\n",
       " 'sample_source',\n",
       " 'tc',\n",
       " 'test',\n",
       " 'tissue'}"
      ]
     },
     "execution_count": 180,
     "metadata": {},
     "output_type": "execute_result"
    }
   ],
   "source": [
    "set(met500_meta.columns) - set(rename.values())"
   ]
  },
  {
   "cell_type": "code",
   "execution_count": 181,
   "metadata": {
    "ExecuteTime": {
     "end_time": "2021-11-29T21:36:01.089446Z",
     "start_time": "2021-11-29T21:36:01.063709Z"
    }
   },
   "outputs": [],
   "source": [
    "met500_meta['sequencer'] = \"Illumina HiSeq 2000\"\n",
    "met500_meta['method'] = \"bulk\"\n",
    "met500_meta['cell_type'] = \"tumor\"\n",
    "met500_meta['reference']= \"hg38\"\n",
    "met500_meta['ends']=\"paired end\"\n",
    "met500_meta['metastatic/primary'] = \"metastatic\"\n",
    "met500_meta['dataset'] = \"met500\""
   ]
  },
  {
   "cell_type": "code",
   "execution_count": 182,
   "metadata": {
    "ExecuteTime": {
     "end_time": "2021-11-29T21:36:14.591305Z",
     "start_time": "2021-11-29T21:36:14.549011Z"
    }
   },
   "outputs": [
    {
     "data": {
      "text/html": [
       "<div>\n",
       "<style scoped>\n",
       "    .dataframe tbody tr th:only-of-type {\n",
       "        vertical-align: middle;\n",
       "    }\n",
       "\n",
       "    .dataframe tbody tr th {\n",
       "        vertical-align: top;\n",
       "    }\n",
       "\n",
       "    .dataframe thead th {\n",
       "        text-align: right;\n",
       "    }\n",
       "</style>\n",
       "<table border=\"1\" class=\"dataframe\">\n",
       "  <thead>\n",
       "    <tr style=\"text-align: right;\">\n",
       "      <th></th>\n",
       "      <th>Sample_id</th>\n",
       "      <th>sample_type</th>\n",
       "      <th>sample_source</th>\n",
       "      <th>dataset</th>\n",
       "      <th>tissue</th>\n",
       "      <th>cohort</th>\n",
       "      <th>run.id</th>\n",
       "      <th>idx</th>\n",
       "      <th>test</th>\n",
       "      <th>tc</th>\n",
       "      <th>biopsy_tissue</th>\n",
       "      <th>sequencer</th>\n",
       "      <th>method</th>\n",
       "      <th>cell_type</th>\n",
       "      <th>reference</th>\n",
       "      <th>ends</th>\n",
       "      <th>metastatic/primary</th>\n",
       "    </tr>\n",
       "  </thead>\n",
       "  <tbody>\n",
       "    <tr>\n",
       "      <th>0</th>\n",
       "      <td>ES_5001-capt-SI_5013-C0LAMACXX</td>\n",
       "      <td>tumor</td>\n",
       "      <td>ES_5001</td>\n",
       "      <td>met500</td>\n",
       "      <td>breast</td>\n",
       "      <td>Breast invasive carcinoma</td>\n",
       "      <td>ES_5001-capt-SI_5013-C0LAMACXX</td>\n",
       "      <td>461</td>\n",
       "      <td>False</td>\n",
       "      <td>0.93</td>\n",
       "      <td>brain</td>\n",
       "      <td>Illumina HiSeq 2000</td>\n",
       "      <td>bulk</td>\n",
       "      <td>tumor</td>\n",
       "      <td>hg38</td>\n",
       "      <td>paired end</td>\n",
       "      <td>metastatic</td>\n",
       "    </tr>\n",
       "    <tr>\n",
       "      <th>1</th>\n",
       "      <td>ES_5004-capt-SI_5834-C19KEACXX</td>\n",
       "      <td>tumor</td>\n",
       "      <td>ES_5004</td>\n",
       "      <td>met500</td>\n",
       "      <td>colon</td>\n",
       "      <td>Colorectal Cancer</td>\n",
       "      <td>ES_5004-capt-SI_5834-C19KEACXX</td>\n",
       "      <td>468</td>\n",
       "      <td>False</td>\n",
       "      <td>0.47</td>\n",
       "      <td>soft_tissue</td>\n",
       "      <td>Illumina HiSeq 2000</td>\n",
       "      <td>bulk</td>\n",
       "      <td>tumor</td>\n",
       "      <td>hg38</td>\n",
       "      <td>paired end</td>\n",
       "      <td>metastatic</td>\n",
       "    </tr>\n",
       "    <tr>\n",
       "      <th>2</th>\n",
       "      <td>ES_5004-poly-SI_5767-C19KEACXX</td>\n",
       "      <td>tumor</td>\n",
       "      <td>ES_5004</td>\n",
       "      <td>met500</td>\n",
       "      <td>colon</td>\n",
       "      <td>Colorectal Cancer</td>\n",
       "      <td>ES_5004-poly-SI_5767-C19KEACXX</td>\n",
       "      <td>469</td>\n",
       "      <td>False</td>\n",
       "      <td>0.47</td>\n",
       "      <td>soft_tissue</td>\n",
       "      <td>Illumina HiSeq 2000</td>\n",
       "      <td>bulk</td>\n",
       "      <td>tumor</td>\n",
       "      <td>hg38</td>\n",
       "      <td>paired end</td>\n",
       "      <td>metastatic</td>\n",
       "    </tr>\n",
       "    <tr>\n",
       "      <th>3</th>\n",
       "      <td>ES_5005-capt-SI_5505-D130HACXX</td>\n",
       "      <td>tumor</td>\n",
       "      <td>ES_5005</td>\n",
       "      <td>met500</td>\n",
       "      <td>other</td>\n",
       "      <td>Other Cancer</td>\n",
       "      <td>ES_5005-capt-SI_5505-D130HACXX</td>\n",
       "      <td>470</td>\n",
       "      <td>False</td>\n",
       "      <td>0.41</td>\n",
       "      <td>cervix</td>\n",
       "      <td>Illumina HiSeq 2000</td>\n",
       "      <td>bulk</td>\n",
       "      <td>tumor</td>\n",
       "      <td>hg38</td>\n",
       "      <td>paired end</td>\n",
       "      <td>metastatic</td>\n",
       "    </tr>\n",
       "    <tr>\n",
       "      <th>4</th>\n",
       "      <td>ES_5005-poly-SI_5486-D12YGACXX</td>\n",
       "      <td>tumor</td>\n",
       "      <td>ES_5005</td>\n",
       "      <td>met500</td>\n",
       "      <td>other</td>\n",
       "      <td>Other Cancer</td>\n",
       "      <td>ES_5005-poly-SI_5486-D12YGACXX</td>\n",
       "      <td>471</td>\n",
       "      <td>False</td>\n",
       "      <td>0.41</td>\n",
       "      <td>cervix</td>\n",
       "      <td>Illumina HiSeq 2000</td>\n",
       "      <td>bulk</td>\n",
       "      <td>tumor</td>\n",
       "      <td>hg38</td>\n",
       "      <td>paired end</td>\n",
       "      <td>metastatic</td>\n",
       "    </tr>\n",
       "    <tr>\n",
       "      <th>...</th>\n",
       "      <td>...</td>\n",
       "      <td>...</td>\n",
       "      <td>...</td>\n",
       "      <td>...</td>\n",
       "      <td>...</td>\n",
       "      <td>...</td>\n",
       "      <td>...</td>\n",
       "      <td>...</td>\n",
       "      <td>...</td>\n",
       "      <td>...</td>\n",
       "      <td>...</td>\n",
       "      <td>...</td>\n",
       "      <td>...</td>\n",
       "      <td>...</td>\n",
       "      <td>...</td>\n",
       "      <td>...</td>\n",
       "      <td>...</td>\n",
       "    </tr>\n",
       "    <tr>\n",
       "      <th>863</th>\n",
       "      <td>TP_2123-poly-SI_11689-C7G60ANXX</td>\n",
       "      <td>tumor</td>\n",
       "      <td>TP_2123</td>\n",
       "      <td>met500</td>\n",
       "      <td>brain</td>\n",
       "      <td>Other Cancer</td>\n",
       "      <td>TP_2123-poly-SI_11689-C7G60ANXX</td>\n",
       "      <td>4154</td>\n",
       "      <td>False</td>\n",
       "      <td>0.52</td>\n",
       "      <td>brain</td>\n",
       "      <td>Illumina HiSeq 2000</td>\n",
       "      <td>bulk</td>\n",
       "      <td>tumor</td>\n",
       "      <td>hg38</td>\n",
       "      <td>paired end</td>\n",
       "      <td>metastatic</td>\n",
       "    </tr>\n",
       "    <tr>\n",
       "      <th>864</th>\n",
       "      <td>TP_2130-capt-SI_11905-C7FMDANXX</td>\n",
       "      <td>tumor</td>\n",
       "      <td>TP_2130</td>\n",
       "      <td>met500</td>\n",
       "      <td>None</td>\n",
       "      <td>Head and Neck squamous cell carcinoma</td>\n",
       "      <td>TP_2130-capt-SI_11905-C7FMDANXX</td>\n",
       "      <td>4160</td>\n",
       "      <td>True</td>\n",
       "      <td>0.46</td>\n",
       "      <td>oral</td>\n",
       "      <td>Illumina HiSeq 2000</td>\n",
       "      <td>bulk</td>\n",
       "      <td>tumor</td>\n",
       "      <td>hg38</td>\n",
       "      <td>paired end</td>\n",
       "      <td>metastatic</td>\n",
       "    </tr>\n",
       "    <tr>\n",
       "      <th>865</th>\n",
       "      <td>TP_2131-capt-SI_11906-C7F4VANXX</td>\n",
       "      <td>tumor</td>\n",
       "      <td>TP_2131</td>\n",
       "      <td>met500</td>\n",
       "      <td>bladder</td>\n",
       "      <td>Bladder Urothelial Carcinoma</td>\n",
       "      <td>TP_2131-capt-SI_11906-C7F4VANXX</td>\n",
       "      <td>4161</td>\n",
       "      <td>False</td>\n",
       "      <td>0.43</td>\n",
       "      <td>liver</td>\n",
       "      <td>Illumina HiSeq 2000</td>\n",
       "      <td>bulk</td>\n",
       "      <td>tumor</td>\n",
       "      <td>hg38</td>\n",
       "      <td>paired end</td>\n",
       "      <td>metastatic</td>\n",
       "    </tr>\n",
       "    <tr>\n",
       "      <th>866</th>\n",
       "      <td>TP_2141-capt-SI_12056-H53C5ADXX</td>\n",
       "      <td>tumor</td>\n",
       "      <td>TP_2141</td>\n",
       "      <td>met500</td>\n",
       "      <td>breast</td>\n",
       "      <td>Breast invasive carcinoma</td>\n",
       "      <td>TP_2141-capt-SI_12056-H53C5ADXX</td>\n",
       "      <td>4169</td>\n",
       "      <td>False</td>\n",
       "      <td>0.67</td>\n",
       "      <td>liver</td>\n",
       "      <td>Illumina HiSeq 2000</td>\n",
       "      <td>bulk</td>\n",
       "      <td>tumor</td>\n",
       "      <td>hg38</td>\n",
       "      <td>paired end</td>\n",
       "      <td>metastatic</td>\n",
       "    </tr>\n",
       "    <tr>\n",
       "      <th>867</th>\n",
       "      <td>TP_2156-capt-SI_12477-C7G91ANXX</td>\n",
       "      <td>tumor</td>\n",
       "      <td>TP_2156</td>\n",
       "      <td>met500</td>\n",
       "      <td>prostate</td>\n",
       "      <td>Prostate adenocarcinoma</td>\n",
       "      <td>TP_2156-capt-SI_12477-C7G91ANXX</td>\n",
       "      <td>4180</td>\n",
       "      <td>False</td>\n",
       "      <td>0.78</td>\n",
       "      <td>liver</td>\n",
       "      <td>Illumina HiSeq 2000</td>\n",
       "      <td>bulk</td>\n",
       "      <td>tumor</td>\n",
       "      <td>hg38</td>\n",
       "      <td>paired end</td>\n",
       "      <td>metastatic</td>\n",
       "    </tr>\n",
       "  </tbody>\n",
       "</table>\n",
       "<p>868 rows × 17 columns</p>\n",
       "</div>"
      ],
      "text/plain": [
       "                           Sample_id sample_type sample_source dataset  \\\n",
       "0     ES_5001-capt-SI_5013-C0LAMACXX       tumor       ES_5001  met500   \n",
       "1     ES_5004-capt-SI_5834-C19KEACXX       tumor       ES_5004  met500   \n",
       "2     ES_5004-poly-SI_5767-C19KEACXX       tumor       ES_5004  met500   \n",
       "3     ES_5005-capt-SI_5505-D130HACXX       tumor       ES_5005  met500   \n",
       "4     ES_5005-poly-SI_5486-D12YGACXX       tumor       ES_5005  met500   \n",
       "..                               ...         ...           ...     ...   \n",
       "863  TP_2123-poly-SI_11689-C7G60ANXX       tumor       TP_2123  met500   \n",
       "864  TP_2130-capt-SI_11905-C7FMDANXX       tumor       TP_2130  met500   \n",
       "865  TP_2131-capt-SI_11906-C7F4VANXX       tumor       TP_2131  met500   \n",
       "866  TP_2141-capt-SI_12056-H53C5ADXX       tumor       TP_2141  met500   \n",
       "867  TP_2156-capt-SI_12477-C7G91ANXX       tumor       TP_2156  met500   \n",
       "\n",
       "       tissue                                 cohort  \\\n",
       "0      breast              Breast invasive carcinoma   \n",
       "1       colon                      Colorectal Cancer   \n",
       "2       colon                      Colorectal Cancer   \n",
       "3       other                           Other Cancer   \n",
       "4       other                           Other Cancer   \n",
       "..        ...                                    ...   \n",
       "863     brain                           Other Cancer   \n",
       "864      None  Head and Neck squamous cell carcinoma   \n",
       "865   bladder           Bladder Urothelial Carcinoma   \n",
       "866    breast              Breast invasive carcinoma   \n",
       "867  prostate                Prostate adenocarcinoma   \n",
       "\n",
       "                              run.id   idx   test    tc biopsy_tissue  \\\n",
       "0     ES_5001-capt-SI_5013-C0LAMACXX   461  False  0.93         brain   \n",
       "1     ES_5004-capt-SI_5834-C19KEACXX   468  False  0.47   soft_tissue   \n",
       "2     ES_5004-poly-SI_5767-C19KEACXX   469  False  0.47   soft_tissue   \n",
       "3     ES_5005-capt-SI_5505-D130HACXX   470  False  0.41        cervix   \n",
       "4     ES_5005-poly-SI_5486-D12YGACXX   471  False  0.41        cervix   \n",
       "..                               ...   ...    ...   ...           ...   \n",
       "863  TP_2123-poly-SI_11689-C7G60ANXX  4154  False  0.52         brain   \n",
       "864  TP_2130-capt-SI_11905-C7FMDANXX  4160   True  0.46          oral   \n",
       "865  TP_2131-capt-SI_11906-C7F4VANXX  4161  False  0.43         liver   \n",
       "866  TP_2141-capt-SI_12056-H53C5ADXX  4169  False  0.67         liver   \n",
       "867  TP_2156-capt-SI_12477-C7G91ANXX  4180  False  0.78         liver   \n",
       "\n",
       "               sequencer method cell_type reference        ends  \\\n",
       "0    Illumina HiSeq 2000   bulk     tumor      hg38  paired end   \n",
       "1    Illumina HiSeq 2000   bulk     tumor      hg38  paired end   \n",
       "2    Illumina HiSeq 2000   bulk     tumor      hg38  paired end   \n",
       "3    Illumina HiSeq 2000   bulk     tumor      hg38  paired end   \n",
       "4    Illumina HiSeq 2000   bulk     tumor      hg38  paired end   \n",
       "..                   ...    ...       ...       ...         ...   \n",
       "863  Illumina HiSeq 2000   bulk     tumor      hg38  paired end   \n",
       "864  Illumina HiSeq 2000   bulk     tumor      hg38  paired end   \n",
       "865  Illumina HiSeq 2000   bulk     tumor      hg38  paired end   \n",
       "866  Illumina HiSeq 2000   bulk     tumor      hg38  paired end   \n",
       "867  Illumina HiSeq 2000   bulk     tumor      hg38  paired end   \n",
       "\n",
       "    metastatic/primary  \n",
       "0           metastatic  \n",
       "1           metastatic  \n",
       "2           metastatic  \n",
       "3           metastatic  \n",
       "4           metastatic  \n",
       "..                 ...  \n",
       "863         metastatic  \n",
       "864         metastatic  \n",
       "865         metastatic  \n",
       "866         metastatic  \n",
       "867         metastatic  \n",
       "\n",
       "[868 rows x 17 columns]"
      ]
     },
     "execution_count": 182,
     "metadata": {},
     "output_type": "execute_result"
    }
   ],
   "source": [
    "met500_meta"
   ]
  },
  {
   "cell_type": "code",
   "execution_count": 183,
   "metadata": {
    "ExecuteTime": {
     "end_time": "2021-11-29T21:36:27.127179Z",
     "start_time": "2021-11-29T21:36:27.100245Z"
    }
   },
   "outputs": [],
   "source": [
    "met500_meta = met500_meta.rename(columns={**rename, **{'subtype': \"disease_type\"}})\n",
    "met500_meta = met500_meta[set(rename.values()) & set(met500_meta.columns)].set_index('sample_id', drop=True)"
   ]
  },
  {
   "cell_type": "code",
   "execution_count": 165,
   "metadata": {
    "ExecuteTime": {
     "end_time": "2021-11-29T17:59:55.954721Z",
     "start_time": "2021-11-29T17:59:55.897351Z"
    },
    "scrolled": true
   },
   "outputs": [
    {
     "data": {
      "text/html": [
       "<div>\n",
       "<style scoped>\n",
       "    .dataframe tbody tr th:only-of-type {\n",
       "        vertical-align: middle;\n",
       "    }\n",
       "\n",
       "    .dataframe tbody tr th {\n",
       "        vertical-align: top;\n",
       "    }\n",
       "\n",
       "    .dataframe thead th {\n",
       "        text-align: right;\n",
       "    }\n",
       "</style>\n",
       "<table border=\"1\" class=\"dataframe\">\n",
       "  <thead>\n",
       "    <tr style=\"text-align: right;\">\n",
       "      <th></th>\n",
       "      <th>participant_id</th>\n",
       "      <th>tissue_type</th>\n",
       "      <th>disease_type</th>\n",
       "      <th>cell_type</th>\n",
       "      <th>tumor_purity</th>\n",
       "      <th>dataset</th>\n",
       "      <th>collection_site</th>\n",
       "      <th>method</th>\n",
       "      <th>sample_type</th>\n",
       "      <th>ends</th>\n",
       "      <th>...</th>\n",
       "      <th>reference</th>\n",
       "      <th>media_type</th>\n",
       "      <th>age</th>\n",
       "      <th>sequencing_type</th>\n",
       "      <th>disease_subtype</th>\n",
       "      <th>sex</th>\n",
       "      <th>sample_id</th>\n",
       "      <th>hasebv</th>\n",
       "      <th>tissue_id</th>\n",
       "      <th>doublingt</th>\n",
       "    </tr>\n",
       "  </thead>\n",
       "  <tbody>\n",
       "    <tr>\n",
       "      <th>ES_5001-capt-SI_5013-C0LAMACXX</th>\n",
       "      <td>ES_5001</td>\n",
       "      <td>breast</td>\n",
       "      <td>Breast invasive carcinoma</td>\n",
       "      <td>tumor</td>\n",
       "      <td>0.93</td>\n",
       "      <td>met500</td>\n",
       "      <td>brain</td>\n",
       "      <td>bulk</td>\n",
       "      <td>tumor</td>\n",
       "      <td>paired end</td>\n",
       "      <td>...</td>\n",
       "      <td>hg38</td>\n",
       "      <td>NaN</td>\n",
       "      <td>NaN</td>\n",
       "      <td>NaN</td>\n",
       "      <td>NaN</td>\n",
       "      <td>NaN</td>\n",
       "      <td>NaN</td>\n",
       "      <td>NaN</td>\n",
       "      <td>NaN</td>\n",
       "      <td>NaN</td>\n",
       "    </tr>\n",
       "    <tr>\n",
       "      <th>ES_5004-capt-SI_5834-C19KEACXX</th>\n",
       "      <td>ES_5004</td>\n",
       "      <td>colon</td>\n",
       "      <td>Colorectal Cancer</td>\n",
       "      <td>tumor</td>\n",
       "      <td>0.47</td>\n",
       "      <td>met500</td>\n",
       "      <td>soft_tissue</td>\n",
       "      <td>bulk</td>\n",
       "      <td>tumor</td>\n",
       "      <td>paired end</td>\n",
       "      <td>...</td>\n",
       "      <td>hg38</td>\n",
       "      <td>NaN</td>\n",
       "      <td>NaN</td>\n",
       "      <td>NaN</td>\n",
       "      <td>NaN</td>\n",
       "      <td>NaN</td>\n",
       "      <td>NaN</td>\n",
       "      <td>NaN</td>\n",
       "      <td>NaN</td>\n",
       "      <td>NaN</td>\n",
       "    </tr>\n",
       "    <tr>\n",
       "      <th>ES_5004-poly-SI_5767-C19KEACXX</th>\n",
       "      <td>ES_5004</td>\n",
       "      <td>colon</td>\n",
       "      <td>Colorectal Cancer</td>\n",
       "      <td>tumor</td>\n",
       "      <td>0.47</td>\n",
       "      <td>met500</td>\n",
       "      <td>soft_tissue</td>\n",
       "      <td>bulk</td>\n",
       "      <td>tumor</td>\n",
       "      <td>paired end</td>\n",
       "      <td>...</td>\n",
       "      <td>hg38</td>\n",
       "      <td>NaN</td>\n",
       "      <td>NaN</td>\n",
       "      <td>NaN</td>\n",
       "      <td>NaN</td>\n",
       "      <td>NaN</td>\n",
       "      <td>NaN</td>\n",
       "      <td>NaN</td>\n",
       "      <td>NaN</td>\n",
       "      <td>NaN</td>\n",
       "    </tr>\n",
       "    <tr>\n",
       "      <th>ES_5005-capt-SI_5505-D130HACXX</th>\n",
       "      <td>ES_5005</td>\n",
       "      <td>other</td>\n",
       "      <td>Other Cancer</td>\n",
       "      <td>tumor</td>\n",
       "      <td>0.41</td>\n",
       "      <td>met500</td>\n",
       "      <td>cervix</td>\n",
       "      <td>bulk</td>\n",
       "      <td>tumor</td>\n",
       "      <td>paired end</td>\n",
       "      <td>...</td>\n",
       "      <td>hg38</td>\n",
       "      <td>NaN</td>\n",
       "      <td>NaN</td>\n",
       "      <td>NaN</td>\n",
       "      <td>NaN</td>\n",
       "      <td>NaN</td>\n",
       "      <td>NaN</td>\n",
       "      <td>NaN</td>\n",
       "      <td>NaN</td>\n",
       "      <td>NaN</td>\n",
       "    </tr>\n",
       "    <tr>\n",
       "      <th>ES_5005-poly-SI_5486-D12YGACXX</th>\n",
       "      <td>ES_5005</td>\n",
       "      <td>other</td>\n",
       "      <td>Other Cancer</td>\n",
       "      <td>tumor</td>\n",
       "      <td>0.41</td>\n",
       "      <td>met500</td>\n",
       "      <td>cervix</td>\n",
       "      <td>bulk</td>\n",
       "      <td>tumor</td>\n",
       "      <td>paired end</td>\n",
       "      <td>...</td>\n",
       "      <td>hg38</td>\n",
       "      <td>NaN</td>\n",
       "      <td>NaN</td>\n",
       "      <td>NaN</td>\n",
       "      <td>NaN</td>\n",
       "      <td>NaN</td>\n",
       "      <td>NaN</td>\n",
       "      <td>NaN</td>\n",
       "      <td>NaN</td>\n",
       "      <td>NaN</td>\n",
       "    </tr>\n",
       "    <tr>\n",
       "      <th>...</th>\n",
       "      <td>...</td>\n",
       "      <td>...</td>\n",
       "      <td>...</td>\n",
       "      <td>...</td>\n",
       "      <td>...</td>\n",
       "      <td>...</td>\n",
       "      <td>...</td>\n",
       "      <td>...</td>\n",
       "      <td>...</td>\n",
       "      <td>...</td>\n",
       "      <td>...</td>\n",
       "      <td>...</td>\n",
       "      <td>...</td>\n",
       "      <td>...</td>\n",
       "      <td>...</td>\n",
       "      <td>...</td>\n",
       "      <td>...</td>\n",
       "      <td>...</td>\n",
       "      <td>...</td>\n",
       "      <td>...</td>\n",
       "      <td>...</td>\n",
       "    </tr>\n",
       "    <tr>\n",
       "      <th>CDS-qbHB8J</th>\n",
       "      <td>PT-kiG6X0x0</td>\n",
       "      <td>lymphocyte</td>\n",
       "      <td>Lymphoma</td>\n",
       "      <td>historical_CL; 2D</td>\n",
       "      <td>NaN</td>\n",
       "      <td>ccle</td>\n",
       "      <td>pleural_effusion</td>\n",
       "      <td>bulk</td>\n",
       "      <td>NaN</td>\n",
       "      <td>paired end</td>\n",
       "      <td>...</td>\n",
       "      <td>hg38</td>\n",
       "      <td>RPMI 1640 + 10% FBS\\n, Suspension with aggregates</td>\n",
       "      <td>73</td>\n",
       "      <td>NaN</td>\n",
       "      <td>non_hodgkin_lymphoma</td>\n",
       "      <td>Female</td>\n",
       "      <td>SUDHL2</td>\n",
       "      <td>False</td>\n",
       "      <td>ACH-002498</td>\n",
       "      <td>NaN</td>\n",
       "    </tr>\n",
       "    <tr>\n",
       "      <th>CDS-y7yI24</th>\n",
       "      <td>PT-9Sjq1s2c</td>\n",
       "      <td>skin</td>\n",
       "      <td>Skin Cancer</td>\n",
       "      <td>historical_CL; 2D</td>\n",
       "      <td>NaN</td>\n",
       "      <td>ccle</td>\n",
       "      <td>colon</td>\n",
       "      <td>bulk</td>\n",
       "      <td>NaN</td>\n",
       "      <td>paired end</td>\n",
       "      <td>...</td>\n",
       "      <td>hg38</td>\n",
       "      <td>NaN</td>\n",
       "      <td>Adult</td>\n",
       "      <td>NaN</td>\n",
       "      <td>melanoma</td>\n",
       "      <td>Male</td>\n",
       "      <td>VMRCMELG</td>\n",
       "      <td>False</td>\n",
       "      <td>ACH-001704</td>\n",
       "      <td>60.0</td>\n",
       "    </tr>\n",
       "    <tr>\n",
       "      <th>CDS-cteUkO</th>\n",
       "      <td>PT-55Pt5qaS</td>\n",
       "      <td>lymphocyte</td>\n",
       "      <td>Lymphoma</td>\n",
       "      <td>historical_CL; 2D</td>\n",
       "      <td>NaN</td>\n",
       "      <td>ccle</td>\n",
       "      <td>pleural_effusion</td>\n",
       "      <td>bulk</td>\n",
       "      <td>NaN</td>\n",
       "      <td>paired end</td>\n",
       "      <td>...</td>\n",
       "      <td>hg38</td>\n",
       "      <td>NaN</td>\n",
       "      <td>46</td>\n",
       "      <td>NaN</td>\n",
       "      <td>lymphoma_unspecified</td>\n",
       "      <td>Female</td>\n",
       "      <td>WSUNHL</td>\n",
       "      <td>False</td>\n",
       "      <td>ACH-001709</td>\n",
       "      <td>57.0</td>\n",
       "    </tr>\n",
       "    <tr>\n",
       "      <th>CDS-dQKiht</th>\n",
       "      <td>PT-TRbh2Ida</td>\n",
       "      <td>breast</td>\n",
       "      <td>normal</td>\n",
       "      <td>historical_CL; 2D</td>\n",
       "      <td>NaN</td>\n",
       "      <td>ccle</td>\n",
       "      <td>breast</td>\n",
       "      <td>bulk</td>\n",
       "      <td>NaN</td>\n",
       "      <td>paired end</td>\n",
       "      <td>...</td>\n",
       "      <td>hg38</td>\n",
       "      <td>NaN</td>\n",
       "      <td>52</td>\n",
       "      <td>NaN</td>\n",
       "      <td>normal</td>\n",
       "      <td>Female</td>\n",
       "      <td>HCC1143_NORMAL</td>\n",
       "      <td>NaN</td>\n",
       "      <td>ACH-003020</td>\n",
       "      <td>NaN</td>\n",
       "    </tr>\n",
       "    <tr>\n",
       "      <th>CDS-iEuxKm</th>\n",
       "      <td>PT-TRbh2Ida</td>\n",
       "      <td>breast</td>\n",
       "      <td>normal</td>\n",
       "      <td>historical_CL; 2D</td>\n",
       "      <td>NaN</td>\n",
       "      <td>ccle</td>\n",
       "      <td>breast</td>\n",
       "      <td>bulk</td>\n",
       "      <td>NaN</td>\n",
       "      <td>paired end</td>\n",
       "      <td>...</td>\n",
       "      <td>hg38</td>\n",
       "      <td>NaN</td>\n",
       "      <td>52</td>\n",
       "      <td>NaN</td>\n",
       "      <td>normal</td>\n",
       "      <td>Female</td>\n",
       "      <td>HCC1143_NORMAL</td>\n",
       "      <td>NaN</td>\n",
       "      <td>ACH-003020</td>\n",
       "      <td>NaN</td>\n",
       "    </tr>\n",
       "  </tbody>\n",
       "</table>\n",
       "<p>7844 rows × 22 columns</p>\n",
       "</div>"
      ],
      "text/plain": [
       "                               participant_id tissue_type  \\\n",
       "ES_5001-capt-SI_5013-C0LAMACXX        ES_5001      breast   \n",
       "ES_5004-capt-SI_5834-C19KEACXX        ES_5004       colon   \n",
       "ES_5004-poly-SI_5767-C19KEACXX        ES_5004       colon   \n",
       "ES_5005-capt-SI_5505-D130HACXX        ES_5005       other   \n",
       "ES_5005-poly-SI_5486-D12YGACXX        ES_5005       other   \n",
       "...                                       ...         ...   \n",
       "CDS-qbHB8J                        PT-kiG6X0x0  lymphocyte   \n",
       "CDS-y7yI24                        PT-9Sjq1s2c        skin   \n",
       "CDS-cteUkO                        PT-55Pt5qaS  lymphocyte   \n",
       "CDS-dQKiht                        PT-TRbh2Ida      breast   \n",
       "CDS-iEuxKm                        PT-TRbh2Ida      breast   \n",
       "\n",
       "                                             disease_type          cell_type  \\\n",
       "ES_5001-capt-SI_5013-C0LAMACXX  Breast invasive carcinoma              tumor   \n",
       "ES_5004-capt-SI_5834-C19KEACXX          Colorectal Cancer              tumor   \n",
       "ES_5004-poly-SI_5767-C19KEACXX          Colorectal Cancer              tumor   \n",
       "ES_5005-capt-SI_5505-D130HACXX               Other Cancer              tumor   \n",
       "ES_5005-poly-SI_5486-D12YGACXX               Other Cancer              tumor   \n",
       "...                                                   ...                ...   \n",
       "CDS-qbHB8J                                       Lymphoma  historical_CL; 2D   \n",
       "CDS-y7yI24                                    Skin Cancer  historical_CL; 2D   \n",
       "CDS-cteUkO                                       Lymphoma  historical_CL; 2D   \n",
       "CDS-dQKiht                                         normal  historical_CL; 2D   \n",
       "CDS-iEuxKm                                         normal  historical_CL; 2D   \n",
       "\n",
       "                                tumor_purity dataset   collection_site method  \\\n",
       "ES_5001-capt-SI_5013-C0LAMACXX          0.93  met500             brain   bulk   \n",
       "ES_5004-capt-SI_5834-C19KEACXX          0.47  met500       soft_tissue   bulk   \n",
       "ES_5004-poly-SI_5767-C19KEACXX          0.47  met500       soft_tissue   bulk   \n",
       "ES_5005-capt-SI_5505-D130HACXX          0.41  met500            cervix   bulk   \n",
       "ES_5005-poly-SI_5486-D12YGACXX          0.41  met500            cervix   bulk   \n",
       "...                                      ...     ...               ...    ...   \n",
       "CDS-qbHB8J                               NaN    ccle  pleural_effusion   bulk   \n",
       "CDS-y7yI24                               NaN    ccle             colon   bulk   \n",
       "CDS-cteUkO                               NaN    ccle  pleural_effusion   bulk   \n",
       "CDS-dQKiht                               NaN    ccle            breast   bulk   \n",
       "CDS-iEuxKm                               NaN    ccle            breast   bulk   \n",
       "\n",
       "                               sample_type        ends  ... reference  \\\n",
       "ES_5001-capt-SI_5013-C0LAMACXX       tumor  paired end  ...      hg38   \n",
       "ES_5004-capt-SI_5834-C19KEACXX       tumor  paired end  ...      hg38   \n",
       "ES_5004-poly-SI_5767-C19KEACXX       tumor  paired end  ...      hg38   \n",
       "ES_5005-capt-SI_5505-D130HACXX       tumor  paired end  ...      hg38   \n",
       "ES_5005-poly-SI_5486-D12YGACXX       tumor  paired end  ...      hg38   \n",
       "...                                    ...         ...  ...       ...   \n",
       "CDS-qbHB8J                             NaN  paired end  ...      hg38   \n",
       "CDS-y7yI24                             NaN  paired end  ...      hg38   \n",
       "CDS-cteUkO                             NaN  paired end  ...      hg38   \n",
       "CDS-dQKiht                             NaN  paired end  ...      hg38   \n",
       "CDS-iEuxKm                             NaN  paired end  ...      hg38   \n",
       "\n",
       "                                                                       media_type  \\\n",
       "ES_5001-capt-SI_5013-C0LAMACXX                                                NaN   \n",
       "ES_5004-capt-SI_5834-C19KEACXX                                                NaN   \n",
       "ES_5004-poly-SI_5767-C19KEACXX                                                NaN   \n",
       "ES_5005-capt-SI_5505-D130HACXX                                                NaN   \n",
       "ES_5005-poly-SI_5486-D12YGACXX                                                NaN   \n",
       "...                                                                           ...   \n",
       "CDS-qbHB8J                      RPMI 1640 + 10% FBS\\n, Suspension with aggregates   \n",
       "CDS-y7yI24                                                                    NaN   \n",
       "CDS-cteUkO                                                                    NaN   \n",
       "CDS-dQKiht                                                                    NaN   \n",
       "CDS-iEuxKm                                                                    NaN   \n",
       "\n",
       "                                  age sequencing_type       disease_subtype  \\\n",
       "ES_5001-capt-SI_5013-C0LAMACXX    NaN             NaN                   NaN   \n",
       "ES_5004-capt-SI_5834-C19KEACXX    NaN             NaN                   NaN   \n",
       "ES_5004-poly-SI_5767-C19KEACXX    NaN             NaN                   NaN   \n",
       "ES_5005-capt-SI_5505-D130HACXX    NaN             NaN                   NaN   \n",
       "ES_5005-poly-SI_5486-D12YGACXX    NaN             NaN                   NaN   \n",
       "...                               ...             ...                   ...   \n",
       "CDS-qbHB8J                         73             NaN  non_hodgkin_lymphoma   \n",
       "CDS-y7yI24                      Adult             NaN              melanoma   \n",
       "CDS-cteUkO                         46             NaN  lymphoma_unspecified   \n",
       "CDS-dQKiht                         52             NaN                normal   \n",
       "CDS-iEuxKm                         52             NaN                normal   \n",
       "\n",
       "                                   sex       sample_id hasebv   tissue_id  \\\n",
       "ES_5001-capt-SI_5013-C0LAMACXX     NaN             NaN    NaN         NaN   \n",
       "ES_5004-capt-SI_5834-C19KEACXX     NaN             NaN    NaN         NaN   \n",
       "ES_5004-poly-SI_5767-C19KEACXX     NaN             NaN    NaN         NaN   \n",
       "ES_5005-capt-SI_5505-D130HACXX     NaN             NaN    NaN         NaN   \n",
       "ES_5005-poly-SI_5486-D12YGACXX     NaN             NaN    NaN         NaN   \n",
       "...                                ...             ...    ...         ...   \n",
       "CDS-qbHB8J                      Female          SUDHL2  False  ACH-002498   \n",
       "CDS-y7yI24                        Male        VMRCMELG  False  ACH-001704   \n",
       "CDS-cteUkO                      Female          WSUNHL  False  ACH-001709   \n",
       "CDS-dQKiht                      Female  HCC1143_NORMAL    NaN  ACH-003020   \n",
       "CDS-iEuxKm                      Female  HCC1143_NORMAL    NaN  ACH-003020   \n",
       "\n",
       "                               doublingt  \n",
       "ES_5001-capt-SI_5013-C0LAMACXX       NaN  \n",
       "ES_5004-capt-SI_5834-C19KEACXX       NaN  \n",
       "ES_5004-poly-SI_5767-C19KEACXX       NaN  \n",
       "ES_5005-capt-SI_5505-D130HACXX       NaN  \n",
       "ES_5005-poly-SI_5486-D12YGACXX       NaN  \n",
       "...                                  ...  \n",
       "CDS-qbHB8J                           NaN  \n",
       "CDS-y7yI24                          60.0  \n",
       "CDS-cteUkO                          57.0  \n",
       "CDS-dQKiht                           NaN  \n",
       "CDS-iEuxKm                           NaN  \n",
       "\n",
       "[7844 rows x 22 columns]"
      ]
     },
     "execution_count": 165,
     "metadata": {},
     "output_type": "execute_result"
    }
   ],
   "source": [
    "ann = pd.concat([met500_meta, CCLE_annotation])\n",
    "ann"
   ]
  },
  {
   "cell_type": "code",
   "execution_count": 166,
   "metadata": {
    "ExecuteTime": {
     "end_time": "2021-11-29T18:00:08.515238Z",
     "start_time": "2021-11-29T18:00:08.489408Z"
    },
    "scrolled": false
   },
   "outputs": [
    {
     "data": {
      "text/plain": [
       "set()"
      ]
     },
     "execution_count": 166,
     "metadata": {},
     "output_type": "execute_result"
    }
   ],
   "source": [
    "set(CCLE_expression.index) & set(met500_meta.index)"
   ]
  },
  {
   "cell_type": "code",
   "execution_count": 186,
   "metadata": {
    "ExecuteTime": {
     "end_time": "2021-11-29T21:39:01.745738Z",
     "start_time": "2021-11-29T21:39:01.673662Z"
    }
   },
   "outputs": [
    {
     "data": {
      "text/plain": [
       "(33199, 18855, 2124)"
      ]
     },
     "execution_count": 186,
     "metadata": {},
     "output_type": "execute_result"
    }
   ],
   "source": [
    "len(set(CCLE_expression.columns) - set(met500_TPM.columns)), len(set(CCLE_expression.columns) & set(met500_TPM.columns)), len(set(met500_TPM.columns) - set(CCLE_expression.columns)),"
   ]
  },
  {
   "cell_type": "code",
   "execution_count": 187,
   "metadata": {
    "ExecuteTime": {
     "end_time": "2021-11-29T21:39:43.178692Z",
     "start_time": "2021-11-29T21:39:43.152500Z"
    }
   },
   "outputs": [
    {
     "data": {
      "text/plain": [
       "sampleID                                                                                  ALL-102\n",
       "lineage                                                                                     blood\n",
       "subtype                                                                                       ALL\n",
       "Histology                                                                                     ALL\n",
       "Histology.Detailed                                                                     Ph-likeALL\n",
       "Histology-Detailed2                                                                    Ph-likeALL\n",
       "Molecular-Subtype-Brain                                                                      None\n",
       "PI                                                                                           Lock\n",
       "Sex                                                                                          Male\n",
       "Phase                                                                                   Diagnosis\n",
       "Age                                                                                          3.08\n",
       "Reported_Ethnicity                                                                        Unknown\n",
       "Inferred_Ethnicity                                                                       European\n",
       "PC1                                                                                      0.016946\n",
       "PC2                                                                                      0.029382\n",
       "PC3                                                                                      0.005415\n",
       "Site.of.Initial.Tumor                                                                     Unknown\n",
       "Site.of.Specimen                                                                      Bone marrow\n",
       "New Histopathology                                                                      Not noted\n",
       "Stage.of.Disease                                                                          Unknown\n",
       "Risk.Group                                                                                   None\n",
       "COG studies                                                                               Unknown\n",
       "Prior Therapy                                                                         No Prior Tx\n",
       "Patient.last.alive.year                                                                      2009\n",
       "Patient.OS.to.last.alive.date.days.                                                          2443\n",
       "Patient.EFS.from.Dx.to.1st.Progression.days.                                                  827\n",
       "Time.from.Dx.to.sample.for.model.days.                                                          0\n",
       "Other_info1                                     Same patient as ALL-105 (rel1) and ALL-115 (rel3)\n",
       "type                                                                                          PDX\n",
       "Name: 0, dtype: object"
      ]
     },
     "execution_count": 187,
     "metadata": {},
     "output_type": "execute_result"
    }
   ],
   "source": [
    "pediatric_PDX_ann.iloc[0]"
   ]
  },
  {
   "cell_type": "code",
   "execution_count": 188,
   "metadata": {
    "ExecuteTime": {
     "end_time": "2021-11-29T21:39:58.415644Z",
     "start_time": "2021-11-29T21:39:58.386072Z"
    },
    "scrolled": true
   },
   "outputs": [
    {
     "data": {
      "text/plain": [
       "[('ALL-105', 'ALL-102'),\n",
       " ('ALL-102', 'ALL-105'),\n",
       " '',\n",
       " '',\n",
       " '',\n",
       " '',\n",
       " ('ALL-102', 'ALL-115'),\n",
       " '',\n",
       " '',\n",
       " '',\n",
       " ('ALL-46', 'ALL-121'),\n",
       " '',\n",
       " ('ALL-58', 'ALL-123'),\n",
       " '',\n",
       " '',\n",
       " '',\n",
       " '',\n",
       " '',\n",
       " '',\n",
       " '',\n",
       " '',\n",
       " ('ALL-121', 'ALL-46'),\n",
       " '',\n",
       " '',\n",
       " '',\n",
       " '',\n",
       " '',\n",
       " ('ALL-123', 'ALL-58'),\n",
       " '',\n",
       " ('ALL-25', 'ALL-61'),\n",
       " '',\n",
       " '',\n",
       " ('ALL-81', 'ALL-80'),\n",
       " ('ALL-80', 'ALL-81'),\n",
       " '',\n",
       " ('ALL-32', 'ALL-90'),\n",
       " '',\n",
       " '',\n",
       " '',\n",
       " '',\n",
       " '',\n",
       " '',\n",
       " '',\n",
       " '',\n",
       " '',\n",
       " '',\n",
       " '',\n",
       " ('ALL-61', 'ALL-25'),\n",
       " '',\n",
       " '',\n",
       " '',\n",
       " ('ALL-90', 'ALL-32'),\n",
       " '',\n",
       " '',\n",
       " '',\n",
       " '',\n",
       " '',\n",
       " '',\n",
       " ('ALL-83', 'ALL-82'),\n",
       " ('ALL-82', 'ALL-83'),\n",
       " '',\n",
       " '',\n",
       " '',\n",
       " '',\n",
       " '',\n",
       " '',\n",
       " '',\n",
       " '',\n",
       " '',\n",
       " '',\n",
       " '',\n",
       " '',\n",
       " '',\n",
       " '',\n",
       " '',\n",
       " '',\n",
       " ('COG-N-453x', 'COG-N-452x'),\n",
       " ('COG-N-452x', 'COG-N-453x'),\n",
       " '',\n",
       " '',\n",
       " '',\n",
       " '',\n",
       " '',\n",
       " '',\n",
       " '',\n",
       " '',\n",
       " '',\n",
       " '',\n",
       " '',\n",
       " ('COG-N-623x', 'COG-N-603x'),\n",
       " ('COG-N-618x', 'COG-N-619x'),\n",
       " '',\n",
       " ('COG-N-603x', 'COG-N-623x'),\n",
       " '',\n",
       " '',\n",
       " '',\n",
       " '',\n",
       " '',\n",
       " '',\n",
       " '',\n",
       " '',\n",
       " '',\n",
       " '',\n",
       " '',\n",
       " '',\n",
       " '',\n",
       " '',\n",
       " '',\n",
       " '',\n",
       " '',\n",
       " '',\n",
       " '',\n",
       " '',\n",
       " '',\n",
       " '',\n",
       " '',\n",
       " '',\n",
       " ('9850PNET; recurrent', 'IC-22909PNET-rIII'),\n",
       " '',\n",
       " '',\n",
       " '',\n",
       " '',\n",
       " '',\n",
       " '',\n",
       " '',\n",
       " '',\n",
       " '',\n",
       " '',\n",
       " '',\n",
       " '',\n",
       " '',\n",
       " '',\n",
       " '',\n",
       " '',\n",
       " '',\n",
       " '',\n",
       " '',\n",
       " '',\n",
       " '',\n",
       " '',\n",
       " '',\n",
       " '',\n",
       " '',\n",
       " '',\n",
       " '',\n",
       " '',\n",
       " ('22909PNET; primary', 'ICb-9850PNET'),\n",
       " '',\n",
       " '',\n",
       " '',\n",
       " '',\n",
       " '',\n",
       " '',\n",
       " '',\n",
       " '',\n",
       " '',\n",
       " '',\n",
       " '',\n",
       " '',\n",
       " '',\n",
       " '',\n",
       " '',\n",
       " '',\n",
       " '',\n",
       " '',\n",
       " '',\n",
       " '',\n",
       " '',\n",
       " '',\n",
       " '',\n",
       " '',\n",
       " '',\n",
       " '',\n",
       " '',\n",
       " '',\n",
       " ('NCH-CA-2', 'NCH-CA-1'),\n",
       " ('NCH-CA-1', 'NCH-CA-2'),\n",
       " '',\n",
       " '',\n",
       " '',\n",
       " '',\n",
       " '',\n",
       " '',\n",
       " '',\n",
       " '',\n",
       " '',\n",
       " '',\n",
       " '',\n",
       " '',\n",
       " '',\n",
       " '',\n",
       " '',\n",
       " '',\n",
       " '',\n",
       " '',\n",
       " '',\n",
       " '',\n",
       " '',\n",
       " '',\n",
       " ('OS-36 and OS-36-SJ', 'OS-32'),\n",
       " '',\n",
       " ('OS-34-SJ', 'OS-34'),\n",
       " ('OS-34', 'OS-34-SJ'),\n",
       " '',\n",
       " '',\n",
       " '',\n",
       " '',\n",
       " '',\n",
       " '',\n",
       " '',\n",
       " '',\n",
       " '',\n",
       " '',\n",
       " '',\n",
       " '',\n",
       " '',\n",
       " '',\n",
       " '',\n",
       " '',\n",
       " '',\n",
       " '',\n",
       " '',\n",
       " '',\n",
       " '',\n",
       " '',\n",
       " '',\n",
       " '',\n",
       " ('Rh-30R', 'Rh-30'),\n",
       " ('Rh-30', 'Rh-30R'),\n",
       " '',\n",
       " '',\n",
       " '',\n",
       " '',\n",
       " '',\n",
       " '',\n",
       " '',\n",
       " '',\n",
       " '',\n",
       " '',\n",
       " '',\n",
       " '',\n",
       " '',\n",
       " '',\n",
       " '']"
      ]
     },
     "execution_count": 188,
     "metadata": {},
     "output_type": "execute_result"
    }
   ],
   "source": [
    "[(i.split('me patient as ')[-1].split(' (')[0],v) if type(i) is str and 'ame patient' in i else '' for v, i in pediatric_PDX_ann[[\"sampleID\",\"Other_info1\"]].values]"
   ]
  },
  {
   "cell_type": "code",
   "execution_count": 189,
   "metadata": {
    "ExecuteTime": {
     "end_time": "2021-11-29T21:40:12.783810Z",
     "start_time": "2021-11-29T21:40:12.744240Z"
    }
   },
   "outputs": [],
   "source": [
    "pediatric_PDX_ann['participant_id'] = pediatric_PDX_ann.index\n",
    "\n",
    "#created frrom manual inspection\n",
    "samepatient = [('NCH-CA-2', 'NCH-CA-1'), ('ALL-105', 'ALL-102', \"ALL-115\"), ('ALL-46', 'ALL-121'), ('ALL-25', 'ALL-61'), ('ALL-81', 'ALL-80'), ('ALL-32', 'ALL-90'), ('ALL-58', 'ALL-123'), ('ALL-82', 'ALL-83'), (\"COG-N-623x\", \"COG-N-603x\"), (\"COG-N-453x\",\"COG-N-452x\"), (\"COG-N-618x\", \"COG-N-619x\"), ('22909PNET', '9850PNET'), ('OS-34', 'OS-34-SJ'), ('OS-36', 'OS-36-SJ', 'OS-32'),  ('Rh-30R', 'Rh-30')]\n",
    "\n",
    "for val in samepatient:\n",
    "    for i in val[1:]:\n",
    "        pediatric_PDX_ann.loc[i, 'participant_id']=val[0]\n",
    "        \n",
    "pediatric_PDX_ann['age'] = ['adult' if i =='Adult' else 'child' for i in pediatric_PDX_ann['Other_info1']]"
   ]
  },
  {
   "cell_type": "code",
   "execution_count": 190,
   "metadata": {
    "ExecuteTime": {
     "end_time": "2021-11-29T21:40:27.040069Z",
     "start_time": "2021-11-29T21:40:27.015737Z"
    }
   },
   "outputs": [
    {
     "name": "stdout",
     "output_type": "stream",
     "text": [
      "{'Site.of.Initial.Tumor', 'Risk.Group', 'PC1', 'Patient.last.alive.year', 'Prior Therapy', 'Histology.Detailed', 'Time.from.Dx.to.sample.for.model.days.', 'PC3', 'New Histopathology', 'Histology-Detailed2', 'PC2', 'Other_info1', 'Histology', 'Reported_Ethnicity', 'Patient.EFS.from.Dx.to.1st.Progression.days.', 'Patient.OS.to.last.alive.date.days.', 'Stage.of.Disease', 'PI', 'Molecular-Subtype-Brain', 'COG studies', 'Site.of.Specimen'}\n"
     ]
    }
   ],
   "source": [
    "pediatric_PDX_ann = pediatric_PDX_ann.rename(columns={**rename, **{'subtype': \"disease_type\"}})\n",
    "print(set(pediatric_PDX_ann.columns)-set(rename.values()))\n",
    "#pediatric_PDX_ann = pediatric_PDX_ann[set(rename.values()) & set(pediatric_PDX_ann.columns)].set_index('sample_id', drop=True)"
   ]
  },
  {
   "cell_type": "code",
   "execution_count": 191,
   "metadata": {
    "ExecuteTime": {
     "end_time": "2021-11-29T21:40:42.092136Z",
     "start_time": "2021-11-29T21:40:42.066221Z"
    }
   },
   "outputs": [],
   "source": [
    "pediatric_PDX_ann['sequencer'] = \"Illumina HiSeq 2000\"\n",
    "pediatric_PDX_ann['align'] = \"BWA\"\n",
    "pediatric_PDX_ann['method'] = \"bulk\"\n",
    "pediatric_PDX_ann['reference']= \"hg19\"\n",
    "pediatric_PDX_ann['ends']=\"paired end\"\n",
    "pediatric_PDX_ann['dataset'] = \"pediatric_PDX\""
   ]
  },
  {
   "cell_type": "code",
   "execution_count": 164,
   "metadata": {
    "ExecuteTime": {
     "end_time": "2021-11-29T17:59:44.188546Z",
     "start_time": "2021-11-29T17:59:44.144483Z"
    }
   },
   "outputs": [],
   "source": [
    "met500_meta = met500_meta.rename(columns={**rename, **{'subtype': \"disease_type\"}})[set(rename.values()) & set(met500_meta.columns)].set_index('sample_id', drop=True)"
   ]
  },
  {
   "cell_type": "code",
   "execution_count": 165,
   "metadata": {
    "ExecuteTime": {
     "end_time": "2021-11-29T17:59:55.954721Z",
     "start_time": "2021-11-29T17:59:55.897351Z"
    },
    "scrolled": true
   },
   "outputs": [
    {
     "data": {
      "text/html": [
       "<div>\n",
       "<style scoped>\n",
       "    .dataframe tbody tr th:only-of-type {\n",
       "        vertical-align: middle;\n",
       "    }\n",
       "\n",
       "    .dataframe tbody tr th {\n",
       "        vertical-align: top;\n",
       "    }\n",
       "\n",
       "    .dataframe thead th {\n",
       "        text-align: right;\n",
       "    }\n",
       "</style>\n",
       "<table border=\"1\" class=\"dataframe\">\n",
       "  <thead>\n",
       "    <tr style=\"text-align: right;\">\n",
       "      <th></th>\n",
       "      <th>participant_id</th>\n",
       "      <th>tissue_type</th>\n",
       "      <th>disease_type</th>\n",
       "      <th>cell_type</th>\n",
       "      <th>tumor_purity</th>\n",
       "      <th>dataset</th>\n",
       "      <th>collection_site</th>\n",
       "      <th>method</th>\n",
       "      <th>sample_type</th>\n",
       "      <th>ends</th>\n",
       "      <th>...</th>\n",
       "      <th>reference</th>\n",
       "      <th>media_type</th>\n",
       "      <th>age</th>\n",
       "      <th>sequencing_type</th>\n",
       "      <th>disease_subtype</th>\n",
       "      <th>sex</th>\n",
       "      <th>sample_id</th>\n",
       "      <th>hasebv</th>\n",
       "      <th>tissue_id</th>\n",
       "      <th>doublingt</th>\n",
       "    </tr>\n",
       "  </thead>\n",
       "  <tbody>\n",
       "    <tr>\n",
       "      <th>ES_5001-capt-SI_5013-C0LAMACXX</th>\n",
       "      <td>ES_5001</td>\n",
       "      <td>breast</td>\n",
       "      <td>Breast invasive carcinoma</td>\n",
       "      <td>tumor</td>\n",
       "      <td>0.93</td>\n",
       "      <td>met500</td>\n",
       "      <td>brain</td>\n",
       "      <td>bulk</td>\n",
       "      <td>tumor</td>\n",
       "      <td>paired end</td>\n",
       "      <td>...</td>\n",
       "      <td>hg38</td>\n",
       "      <td>NaN</td>\n",
       "      <td>NaN</td>\n",
       "      <td>NaN</td>\n",
       "      <td>NaN</td>\n",
       "      <td>NaN</td>\n",
       "      <td>NaN</td>\n",
       "      <td>NaN</td>\n",
       "      <td>NaN</td>\n",
       "      <td>NaN</td>\n",
       "    </tr>\n",
       "    <tr>\n",
       "      <th>ES_5004-capt-SI_5834-C19KEACXX</th>\n",
       "      <td>ES_5004</td>\n",
       "      <td>colon</td>\n",
       "      <td>Colorectal Cancer</td>\n",
       "      <td>tumor</td>\n",
       "      <td>0.47</td>\n",
       "      <td>met500</td>\n",
       "      <td>soft_tissue</td>\n",
       "      <td>bulk</td>\n",
       "      <td>tumor</td>\n",
       "      <td>paired end</td>\n",
       "      <td>...</td>\n",
       "      <td>hg38</td>\n",
       "      <td>NaN</td>\n",
       "      <td>NaN</td>\n",
       "      <td>NaN</td>\n",
       "      <td>NaN</td>\n",
       "      <td>NaN</td>\n",
       "      <td>NaN</td>\n",
       "      <td>NaN</td>\n",
       "      <td>NaN</td>\n",
       "      <td>NaN</td>\n",
       "    </tr>\n",
       "    <tr>\n",
       "      <th>ES_5004-poly-SI_5767-C19KEACXX</th>\n",
       "      <td>ES_5004</td>\n",
       "      <td>colon</td>\n",
       "      <td>Colorectal Cancer</td>\n",
       "      <td>tumor</td>\n",
       "      <td>0.47</td>\n",
       "      <td>met500</td>\n",
       "      <td>soft_tissue</td>\n",
       "      <td>bulk</td>\n",
       "      <td>tumor</td>\n",
       "      <td>paired end</td>\n",
       "      <td>...</td>\n",
       "      <td>hg38</td>\n",
       "      <td>NaN</td>\n",
       "      <td>NaN</td>\n",
       "      <td>NaN</td>\n",
       "      <td>NaN</td>\n",
       "      <td>NaN</td>\n",
       "      <td>NaN</td>\n",
       "      <td>NaN</td>\n",
       "      <td>NaN</td>\n",
       "      <td>NaN</td>\n",
       "    </tr>\n",
       "    <tr>\n",
       "      <th>ES_5005-capt-SI_5505-D130HACXX</th>\n",
       "      <td>ES_5005</td>\n",
       "      <td>other</td>\n",
       "      <td>Other Cancer</td>\n",
       "      <td>tumor</td>\n",
       "      <td>0.41</td>\n",
       "      <td>met500</td>\n",
       "      <td>cervix</td>\n",
       "      <td>bulk</td>\n",
       "      <td>tumor</td>\n",
       "      <td>paired end</td>\n",
       "      <td>...</td>\n",
       "      <td>hg38</td>\n",
       "      <td>NaN</td>\n",
       "      <td>NaN</td>\n",
       "      <td>NaN</td>\n",
       "      <td>NaN</td>\n",
       "      <td>NaN</td>\n",
       "      <td>NaN</td>\n",
       "      <td>NaN</td>\n",
       "      <td>NaN</td>\n",
       "      <td>NaN</td>\n",
       "    </tr>\n",
       "    <tr>\n",
       "      <th>ES_5005-poly-SI_5486-D12YGACXX</th>\n",
       "      <td>ES_5005</td>\n",
       "      <td>other</td>\n",
       "      <td>Other Cancer</td>\n",
       "      <td>tumor</td>\n",
       "      <td>0.41</td>\n",
       "      <td>met500</td>\n",
       "      <td>cervix</td>\n",
       "      <td>bulk</td>\n",
       "      <td>tumor</td>\n",
       "      <td>paired end</td>\n",
       "      <td>...</td>\n",
       "      <td>hg38</td>\n",
       "      <td>NaN</td>\n",
       "      <td>NaN</td>\n",
       "      <td>NaN</td>\n",
       "      <td>NaN</td>\n",
       "      <td>NaN</td>\n",
       "      <td>NaN</td>\n",
       "      <td>NaN</td>\n",
       "      <td>NaN</td>\n",
       "      <td>NaN</td>\n",
       "    </tr>\n",
       "    <tr>\n",
       "      <th>...</th>\n",
       "      <td>...</td>\n",
       "      <td>...</td>\n",
       "      <td>...</td>\n",
       "      <td>...</td>\n",
       "      <td>...</td>\n",
       "      <td>...</td>\n",
       "      <td>...</td>\n",
       "      <td>...</td>\n",
       "      <td>...</td>\n",
       "      <td>...</td>\n",
       "      <td>...</td>\n",
       "      <td>...</td>\n",
       "      <td>...</td>\n",
       "      <td>...</td>\n",
       "      <td>...</td>\n",
       "      <td>...</td>\n",
       "      <td>...</td>\n",
       "      <td>...</td>\n",
       "      <td>...</td>\n",
       "      <td>...</td>\n",
       "      <td>...</td>\n",
       "    </tr>\n",
       "    <tr>\n",
       "      <th>CDS-qbHB8J</th>\n",
       "      <td>PT-kiG6X0x0</td>\n",
       "      <td>lymphocyte</td>\n",
       "      <td>Lymphoma</td>\n",
       "      <td>historical_CL; 2D</td>\n",
       "      <td>NaN</td>\n",
       "      <td>ccle</td>\n",
       "      <td>pleural_effusion</td>\n",
       "      <td>bulk</td>\n",
       "      <td>NaN</td>\n",
       "      <td>paired end</td>\n",
       "      <td>...</td>\n",
       "      <td>hg38</td>\n",
       "      <td>RPMI 1640 + 10% FBS\\n, Suspension with aggregates</td>\n",
       "      <td>73</td>\n",
       "      <td>NaN</td>\n",
       "      <td>non_hodgkin_lymphoma</td>\n",
       "      <td>Female</td>\n",
       "      <td>SUDHL2</td>\n",
       "      <td>False</td>\n",
       "      <td>ACH-002498</td>\n",
       "      <td>NaN</td>\n",
       "    </tr>\n",
       "    <tr>\n",
       "      <th>CDS-y7yI24</th>\n",
       "      <td>PT-9Sjq1s2c</td>\n",
       "      <td>skin</td>\n",
       "      <td>Skin Cancer</td>\n",
       "      <td>historical_CL; 2D</td>\n",
       "      <td>NaN</td>\n",
       "      <td>ccle</td>\n",
       "      <td>colon</td>\n",
       "      <td>bulk</td>\n",
       "      <td>NaN</td>\n",
       "      <td>paired end</td>\n",
       "      <td>...</td>\n",
       "      <td>hg38</td>\n",
       "      <td>NaN</td>\n",
       "      <td>Adult</td>\n",
       "      <td>NaN</td>\n",
       "      <td>melanoma</td>\n",
       "      <td>Male</td>\n",
       "      <td>VMRCMELG</td>\n",
       "      <td>False</td>\n",
       "      <td>ACH-001704</td>\n",
       "      <td>60.0</td>\n",
       "    </tr>\n",
       "    <tr>\n",
       "      <th>CDS-cteUkO</th>\n",
       "      <td>PT-55Pt5qaS</td>\n",
       "      <td>lymphocyte</td>\n",
       "      <td>Lymphoma</td>\n",
       "      <td>historical_CL; 2D</td>\n",
       "      <td>NaN</td>\n",
       "      <td>ccle</td>\n",
       "      <td>pleural_effusion</td>\n",
       "      <td>bulk</td>\n",
       "      <td>NaN</td>\n",
       "      <td>paired end</td>\n",
       "      <td>...</td>\n",
       "      <td>hg38</td>\n",
       "      <td>NaN</td>\n",
       "      <td>46</td>\n",
       "      <td>NaN</td>\n",
       "      <td>lymphoma_unspecified</td>\n",
       "      <td>Female</td>\n",
       "      <td>WSUNHL</td>\n",
       "      <td>False</td>\n",
       "      <td>ACH-001709</td>\n",
       "      <td>57.0</td>\n",
       "    </tr>\n",
       "    <tr>\n",
       "      <th>CDS-dQKiht</th>\n",
       "      <td>PT-TRbh2Ida</td>\n",
       "      <td>breast</td>\n",
       "      <td>normal</td>\n",
       "      <td>historical_CL; 2D</td>\n",
       "      <td>NaN</td>\n",
       "      <td>ccle</td>\n",
       "      <td>breast</td>\n",
       "      <td>bulk</td>\n",
       "      <td>NaN</td>\n",
       "      <td>paired end</td>\n",
       "      <td>...</td>\n",
       "      <td>hg38</td>\n",
       "      <td>NaN</td>\n",
       "      <td>52</td>\n",
       "      <td>NaN</td>\n",
       "      <td>normal</td>\n",
       "      <td>Female</td>\n",
       "      <td>HCC1143_NORMAL</td>\n",
       "      <td>NaN</td>\n",
       "      <td>ACH-003020</td>\n",
       "      <td>NaN</td>\n",
       "    </tr>\n",
       "    <tr>\n",
       "      <th>CDS-iEuxKm</th>\n",
       "      <td>PT-TRbh2Ida</td>\n",
       "      <td>breast</td>\n",
       "      <td>normal</td>\n",
       "      <td>historical_CL; 2D</td>\n",
       "      <td>NaN</td>\n",
       "      <td>ccle</td>\n",
       "      <td>breast</td>\n",
       "      <td>bulk</td>\n",
       "      <td>NaN</td>\n",
       "      <td>paired end</td>\n",
       "      <td>...</td>\n",
       "      <td>hg38</td>\n",
       "      <td>NaN</td>\n",
       "      <td>52</td>\n",
       "      <td>NaN</td>\n",
       "      <td>normal</td>\n",
       "      <td>Female</td>\n",
       "      <td>HCC1143_NORMAL</td>\n",
       "      <td>NaN</td>\n",
       "      <td>ACH-003020</td>\n",
       "      <td>NaN</td>\n",
       "    </tr>\n",
       "  </tbody>\n",
       "</table>\n",
       "<p>7844 rows × 22 columns</p>\n",
       "</div>"
      ],
      "text/plain": [
       "                               participant_id tissue_type  \\\n",
       "ES_5001-capt-SI_5013-C0LAMACXX        ES_5001      breast   \n",
       "ES_5004-capt-SI_5834-C19KEACXX        ES_5004       colon   \n",
       "ES_5004-poly-SI_5767-C19KEACXX        ES_5004       colon   \n",
       "ES_5005-capt-SI_5505-D130HACXX        ES_5005       other   \n",
       "ES_5005-poly-SI_5486-D12YGACXX        ES_5005       other   \n",
       "...                                       ...         ...   \n",
       "CDS-qbHB8J                        PT-kiG6X0x0  lymphocyte   \n",
       "CDS-y7yI24                        PT-9Sjq1s2c        skin   \n",
       "CDS-cteUkO                        PT-55Pt5qaS  lymphocyte   \n",
       "CDS-dQKiht                        PT-TRbh2Ida      breast   \n",
       "CDS-iEuxKm                        PT-TRbh2Ida      breast   \n",
       "\n",
       "                                             disease_type          cell_type  \\\n",
       "ES_5001-capt-SI_5013-C0LAMACXX  Breast invasive carcinoma              tumor   \n",
       "ES_5004-capt-SI_5834-C19KEACXX          Colorectal Cancer              tumor   \n",
       "ES_5004-poly-SI_5767-C19KEACXX          Colorectal Cancer              tumor   \n",
       "ES_5005-capt-SI_5505-D130HACXX               Other Cancer              tumor   \n",
       "ES_5005-poly-SI_5486-D12YGACXX               Other Cancer              tumor   \n",
       "...                                                   ...                ...   \n",
       "CDS-qbHB8J                                       Lymphoma  historical_CL; 2D   \n",
       "CDS-y7yI24                                    Skin Cancer  historical_CL; 2D   \n",
       "CDS-cteUkO                                       Lymphoma  historical_CL; 2D   \n",
       "CDS-dQKiht                                         normal  historical_CL; 2D   \n",
       "CDS-iEuxKm                                         normal  historical_CL; 2D   \n",
       "\n",
       "                                tumor_purity dataset   collection_site method  \\\n",
       "ES_5001-capt-SI_5013-C0LAMACXX          0.93  met500             brain   bulk   \n",
       "ES_5004-capt-SI_5834-C19KEACXX          0.47  met500       soft_tissue   bulk   \n",
       "ES_5004-poly-SI_5767-C19KEACXX          0.47  met500       soft_tissue   bulk   \n",
       "ES_5005-capt-SI_5505-D130HACXX          0.41  met500            cervix   bulk   \n",
       "ES_5005-poly-SI_5486-D12YGACXX          0.41  met500            cervix   bulk   \n",
       "...                                      ...     ...               ...    ...   \n",
       "CDS-qbHB8J                               NaN    ccle  pleural_effusion   bulk   \n",
       "CDS-y7yI24                               NaN    ccle             colon   bulk   \n",
       "CDS-cteUkO                               NaN    ccle  pleural_effusion   bulk   \n",
       "CDS-dQKiht                               NaN    ccle            breast   bulk   \n",
       "CDS-iEuxKm                               NaN    ccle            breast   bulk   \n",
       "\n",
       "                               sample_type        ends  ... reference  \\\n",
       "ES_5001-capt-SI_5013-C0LAMACXX       tumor  paired end  ...      hg38   \n",
       "ES_5004-capt-SI_5834-C19KEACXX       tumor  paired end  ...      hg38   \n",
       "ES_5004-poly-SI_5767-C19KEACXX       tumor  paired end  ...      hg38   \n",
       "ES_5005-capt-SI_5505-D130HACXX       tumor  paired end  ...      hg38   \n",
       "ES_5005-poly-SI_5486-D12YGACXX       tumor  paired end  ...      hg38   \n",
       "...                                    ...         ...  ...       ...   \n",
       "CDS-qbHB8J                             NaN  paired end  ...      hg38   \n",
       "CDS-y7yI24                             NaN  paired end  ...      hg38   \n",
       "CDS-cteUkO                             NaN  paired end  ...      hg38   \n",
       "CDS-dQKiht                             NaN  paired end  ...      hg38   \n",
       "CDS-iEuxKm                             NaN  paired end  ...      hg38   \n",
       "\n",
       "                                                                       media_type  \\\n",
       "ES_5001-capt-SI_5013-C0LAMACXX                                                NaN   \n",
       "ES_5004-capt-SI_5834-C19KEACXX                                                NaN   \n",
       "ES_5004-poly-SI_5767-C19KEACXX                                                NaN   \n",
       "ES_5005-capt-SI_5505-D130HACXX                                                NaN   \n",
       "ES_5005-poly-SI_5486-D12YGACXX                                                NaN   \n",
       "...                                                                           ...   \n",
       "CDS-qbHB8J                      RPMI 1640 + 10% FBS\\n, Suspension with aggregates   \n",
       "CDS-y7yI24                                                                    NaN   \n",
       "CDS-cteUkO                                                                    NaN   \n",
       "CDS-dQKiht                                                                    NaN   \n",
       "CDS-iEuxKm                                                                    NaN   \n",
       "\n",
       "                                  age sequencing_type       disease_subtype  \\\n",
       "ES_5001-capt-SI_5013-C0LAMACXX    NaN             NaN                   NaN   \n",
       "ES_5004-capt-SI_5834-C19KEACXX    NaN             NaN                   NaN   \n",
       "ES_5004-poly-SI_5767-C19KEACXX    NaN             NaN                   NaN   \n",
       "ES_5005-capt-SI_5505-D130HACXX    NaN             NaN                   NaN   \n",
       "ES_5005-poly-SI_5486-D12YGACXX    NaN             NaN                   NaN   \n",
       "...                               ...             ...                   ...   \n",
       "CDS-qbHB8J                         73             NaN  non_hodgkin_lymphoma   \n",
       "CDS-y7yI24                      Adult             NaN              melanoma   \n",
       "CDS-cteUkO                         46             NaN  lymphoma_unspecified   \n",
       "CDS-dQKiht                         52             NaN                normal   \n",
       "CDS-iEuxKm                         52             NaN                normal   \n",
       "\n",
       "                                   sex       sample_id hasebv   tissue_id  \\\n",
       "ES_5001-capt-SI_5013-C0LAMACXX     NaN             NaN    NaN         NaN   \n",
       "ES_5004-capt-SI_5834-C19KEACXX     NaN             NaN    NaN         NaN   \n",
       "ES_5004-poly-SI_5767-C19KEACXX     NaN             NaN    NaN         NaN   \n",
       "ES_5005-capt-SI_5505-D130HACXX     NaN             NaN    NaN         NaN   \n",
       "ES_5005-poly-SI_5486-D12YGACXX     NaN             NaN    NaN         NaN   \n",
       "...                                ...             ...    ...         ...   \n",
       "CDS-qbHB8J                      Female          SUDHL2  False  ACH-002498   \n",
       "CDS-y7yI24                        Male        VMRCMELG  False  ACH-001704   \n",
       "CDS-cteUkO                      Female          WSUNHL  False  ACH-001709   \n",
       "CDS-dQKiht                      Female  HCC1143_NORMAL    NaN  ACH-003020   \n",
       "CDS-iEuxKm                      Female  HCC1143_NORMAL    NaN  ACH-003020   \n",
       "\n",
       "                               doublingt  \n",
       "ES_5001-capt-SI_5013-C0LAMACXX       NaN  \n",
       "ES_5004-capt-SI_5834-C19KEACXX       NaN  \n",
       "ES_5004-poly-SI_5767-C19KEACXX       NaN  \n",
       "ES_5005-capt-SI_5505-D130HACXX       NaN  \n",
       "ES_5005-poly-SI_5486-D12YGACXX       NaN  \n",
       "...                                  ...  \n",
       "CDS-qbHB8J                           NaN  \n",
       "CDS-y7yI24                          60.0  \n",
       "CDS-cteUkO                          57.0  \n",
       "CDS-dQKiht                           NaN  \n",
       "CDS-iEuxKm                           NaN  \n",
       "\n",
       "[7844 rows x 22 columns]"
      ]
     },
     "execution_count": 165,
     "metadata": {},
     "output_type": "execute_result"
    }
   ],
   "source": [
    "ann = pd.concat([met500_meta, CCLE_annotation])\n",
    "ann"
   ]
  },
  {
   "cell_type": "code",
   "execution_count": 166,
   "metadata": {
    "ExecuteTime": {
     "end_time": "2021-11-29T18:00:08.515238Z",
     "start_time": "2021-11-29T18:00:08.489408Z"
    },
    "scrolled": false
   },
   "outputs": [
    {
     "data": {
      "text/plain": [
       "set()"
      ]
     },
     "execution_count": 166,
     "metadata": {},
     "output_type": "execute_result"
    }
   ],
   "source": [
    "set(CCLE_expression.index) & set(met500_meta.index)"
   ]
  },
  {
   "cell_type": "code",
   "execution_count": 137,
   "metadata": {
    "ExecuteTime": {
     "end_time": "2021-11-29T17:48:16.731737Z",
     "start_time": "2021-11-29T17:48:16.663250Z"
    }
   },
   "outputs": [],
   "source": [
    "cclfrna.columns = [i.split('(')[-1][:-1] if '(' in i else i for i in cclfrna.columns]"
   ]
  },
  {
   "cell_type": "code",
   "execution_count": 139,
   "metadata": {
    "ExecuteTime": {
     "end_time": "2021-11-29T17:48:28.749888Z",
     "start_time": "2021-11-29T17:48:28.680926Z"
    }
   },
   "outputs": [
    {
     "data": {
      "text/plain": [
       "(6843, 45211, 10)"
      ]
     },
     "execution_count": 139,
     "metadata": {},
     "output_type": "execute_result"
    }
   ],
   "source": [
    "len(set(CCLE_expression.columns) - set(cclfrna.columns)), len(set(CCLE_expression.columns) & set(cclfrna.columns)), len(set(cclfrna.columns) - set(CCLE_expression.columns)),"
   ]
  },
  {
   "cell_type": "code",
   "execution_count": null,
   "metadata": {},
   "outputs": [],
   "source": []
  },
  {
   "cell_type": "code",
   "execution_count": null,
   "metadata": {},
   "outputs": [],
   "source": []
  },
  {
   "cell_type": "code",
   "execution_count": null,
   "metadata": {},
   "outputs": [],
   "source": []
  },
  {
   "cell_type": "code",
   "execution_count": null,
   "metadata": {},
   "outputs": [],
   "source": []
  },
  {
   "cell_type": "code",
   "execution_count": 350,
   "metadata": {
    "ExecuteTime": {
     "end_time": "2021-11-04T17:28:58.855395Z",
     "start_time": "2021-11-04T17:28:58.830961Z"
    }
   },
   "outputs": [
    {
     "data": {
      "text/plain": [
       "sampleID           0931HXXTM\n",
       "lineage             pancreas\n",
       "subtype     ductal_carcinoma\n",
       "type                     PDX\n",
       "Name: 0, dtype: object"
      ]
     },
     "execution_count": 350,
     "metadata": {},
     "output_type": "execute_result"
    }
   ],
   "source": [
    "Novartis_PDX_ann.iloc[0]"
   ]
  },
  {
   "cell_type": "code",
   "execution_count": null,
   "metadata": {},
   "outputs": [],
   "source": [
    "Novartis_PDX_ann = Novartis_PDX_ann.rename(columns=rename).set_index('sample_id', drop=True)"
   ]
  },
  {
   "cell_type": "code",
   "execution_count": null,
   "metadata": {},
   "outputs": [],
   "source": [
    "Novartis_PDX_ann['sequencer'] = \"Illumina HiSeq 2000\"\n",
    "Novartis_PDX_ann['method'] = \"bulk\"\n",
    "Novartis_PDX_ann['align'] = \"STAR\"\n",
    "Novartis_PDX_ann['reference']= \"hg19\"\n",
    "Novartis_PDX_ann['ends']=\"paired end\"\n",
    "Novartis_PDX_ann['dataset'] = \"Novartis_PDX\""
   ]
  },
  {
   "cell_type": "markdown",
   "metadata": {},
   "source": [
    "## tumor inf elife"
   ]
  },
  {
   "cell_type": "code",
   "execution_count": 13,
   "metadata": {
    "ExecuteTime": {
     "end_time": "2021-11-16T19:30:03.579317Z",
     "start_time": "2021-11-16T19:30:03.201090Z"
    }
   },
   "outputs": [],
   "source": [
    "elife_tumorinf = tc.get(name='tumor-infiltration-3307', version=1, file='elife_tumorinf')"
   ]
  },
  {
   "cell_type": "code",
   "execution_count": 14,
   "metadata": {
    "ExecuteTime": {
     "end_time": "2021-11-16T19:31:04.073472Z",
     "start_time": "2021-11-16T19:31:04.008084Z"
    }
   },
   "outputs": [
    {
     "data": {
      "text/html": [
       "<div>\n",
       "<style scoped>\n",
       "    .dataframe tbody tr th:only-of-type {\n",
       "        vertical-align: middle;\n",
       "    }\n",
       "\n",
       "    .dataframe tbody tr th {\n",
       "        vertical-align: top;\n",
       "    }\n",
       "\n",
       "    .dataframe thead th {\n",
       "        text-align: right;\n",
       "    }\n",
       "</style>\n",
       "<table border=\"1\" class=\"dataframe\">\n",
       "  <thead>\n",
       "    <tr style=\"text-align: right;\">\n",
       "      <th></th>\n",
       "      <th>Bcells</th>\n",
       "      <th>CAFs</th>\n",
       "      <th>CD4_Tcells</th>\n",
       "      <th>CD8_Tcells</th>\n",
       "      <th>Endothelial</th>\n",
       "      <th>Macrophages</th>\n",
       "      <th>NKcells</th>\n",
       "    </tr>\n",
       "  </thead>\n",
       "  <tbody>\n",
       "    <tr>\n",
       "      <th>A1BG</th>\n",
       "      <td>7.75210</td>\n",
       "      <td>4.47890</td>\n",
       "      <td>4.6702</td>\n",
       "      <td>5.02000</td>\n",
       "      <td>0.0000</td>\n",
       "      <td>3.46370</td>\n",
       "      <td>1.74260</td>\n",
       "    </tr>\n",
       "    <tr>\n",
       "      <th>A1BG-AS1</th>\n",
       "      <td>0.27272</td>\n",
       "      <td>28.98800</td>\n",
       "      <td>6.7471</td>\n",
       "      <td>11.76400</td>\n",
       "      <td>0.0000</td>\n",
       "      <td>2.36580</td>\n",
       "      <td>8.92140</td>\n",
       "    </tr>\n",
       "    <tr>\n",
       "      <th>A1CF</th>\n",
       "      <td>0.94832</td>\n",
       "      <td>0.03625</td>\n",
       "      <td>0.4978</td>\n",
       "      <td>0.56538</td>\n",
       "      <td>0.2582</td>\n",
       "      <td>0.13695</td>\n",
       "      <td>0.25936</td>\n",
       "    </tr>\n",
       "    <tr>\n",
       "      <th>A2M</th>\n",
       "      <td>0.14435</td>\n",
       "      <td>184.45000</td>\n",
       "      <td>2.9531</td>\n",
       "      <td>15.38600</td>\n",
       "      <td>1575.2000</td>\n",
       "      <td>418.67000</td>\n",
       "      <td>8.94110</td>\n",
       "    </tr>\n",
       "    <tr>\n",
       "      <th>A2M-AS1</th>\n",
       "      <td>0.00000</td>\n",
       "      <td>0.34500</td>\n",
       "      <td>7.3420</td>\n",
       "      <td>11.59100</td>\n",
       "      <td>8.6042</td>\n",
       "      <td>0.35669</td>\n",
       "      <td>0.21549</td>\n",
       "    </tr>\n",
       "    <tr>\n",
       "      <th>...</th>\n",
       "      <td>...</td>\n",
       "      <td>...</td>\n",
       "      <td>...</td>\n",
       "      <td>...</td>\n",
       "      <td>...</td>\n",
       "      <td>...</td>\n",
       "      <td>...</td>\n",
       "    </tr>\n",
       "    <tr>\n",
       "      <th>ZYG11A</th>\n",
       "      <td>13.37900</td>\n",
       "      <td>3.64120</td>\n",
       "      <td>18.2580</td>\n",
       "      <td>18.17900</td>\n",
       "      <td>9.0574</td>\n",
       "      <td>7.47320</td>\n",
       "      <td>16.04700</td>\n",
       "    </tr>\n",
       "    <tr>\n",
       "      <th>ZYG11B</th>\n",
       "      <td>18.64800</td>\n",
       "      <td>10.59500</td>\n",
       "      <td>15.2930</td>\n",
       "      <td>13.80700</td>\n",
       "      <td>5.1119</td>\n",
       "      <td>5.00460</td>\n",
       "      <td>8.10280</td>\n",
       "    </tr>\n",
       "    <tr>\n",
       "      <th>ZYX</th>\n",
       "      <td>31.07300</td>\n",
       "      <td>205.32000</td>\n",
       "      <td>79.5490</td>\n",
       "      <td>64.75700</td>\n",
       "      <td>70.3870</td>\n",
       "      <td>206.18000</td>\n",
       "      <td>102.91000</td>\n",
       "    </tr>\n",
       "    <tr>\n",
       "      <th>ZZEF1</th>\n",
       "      <td>5.69700</td>\n",
       "      <td>2.98250</td>\n",
       "      <td>9.9508</td>\n",
       "      <td>14.66500</td>\n",
       "      <td>7.2201</td>\n",
       "      <td>5.78570</td>\n",
       "      <td>16.66700</td>\n",
       "    </tr>\n",
       "    <tr>\n",
       "      <th>ZZZ3</th>\n",
       "      <td>33.28400</td>\n",
       "      <td>8.45130</td>\n",
       "      <td>26.6690</td>\n",
       "      <td>29.07900</td>\n",
       "      <td>10.3400</td>\n",
       "      <td>9.01830</td>\n",
       "      <td>0.00000</td>\n",
       "    </tr>\n",
       "  </tbody>\n",
       "</table>\n",
       "<p>23684 rows × 7 columns</p>\n",
       "</div>"
      ],
      "text/plain": [
       "            Bcells       CAFs  CD4_Tcells  CD8_Tcells  Endothelial  \\\n",
       "A1BG       7.75210    4.47890      4.6702     5.02000       0.0000   \n",
       "A1BG-AS1   0.27272   28.98800      6.7471    11.76400       0.0000   \n",
       "A1CF       0.94832    0.03625      0.4978     0.56538       0.2582   \n",
       "A2M        0.14435  184.45000      2.9531    15.38600    1575.2000   \n",
       "A2M-AS1    0.00000    0.34500      7.3420    11.59100       8.6042   \n",
       "...            ...        ...         ...         ...          ...   \n",
       "ZYG11A    13.37900    3.64120     18.2580    18.17900       9.0574   \n",
       "ZYG11B    18.64800   10.59500     15.2930    13.80700       5.1119   \n",
       "ZYX       31.07300  205.32000     79.5490    64.75700      70.3870   \n",
       "ZZEF1      5.69700    2.98250      9.9508    14.66500       7.2201   \n",
       "ZZZ3      33.28400    8.45130     26.6690    29.07900      10.3400   \n",
       "\n",
       "          Macrophages    NKcells  \n",
       "A1BG          3.46370    1.74260  \n",
       "A1BG-AS1      2.36580    8.92140  \n",
       "A1CF          0.13695    0.25936  \n",
       "A2M         418.67000    8.94110  \n",
       "A2M-AS1       0.35669    0.21549  \n",
       "...               ...        ...  \n",
       "ZYG11A        7.47320   16.04700  \n",
       "ZYG11B        5.00460    8.10280  \n",
       "ZYX         206.18000  102.91000  \n",
       "ZZEF1         5.78570   16.66700  \n",
       "ZZZ3          9.01830    0.00000  \n",
       "\n",
       "[23684 rows x 7 columns]"
      ]
     },
     "execution_count": 14,
     "metadata": {},
     "output_type": "execute_result"
    }
   ],
   "source": [
    "elife_tumorinf"
   ]
  },
  {
   "cell_type": "code",
   "execution_count": null,
   "metadata": {
    "ExecuteTime": {
     "end_time": "2021-10-25T18:51:59.448214Z",
     "start_time": "2021-10-25T18:51:59.448152Z"
    }
   },
   "outputs": [],
   "source": [
    "elife_tumorinf = elife_tumorinf.rename(columns={\"Bcells\": \"B-cell\", \"CAFs\": \"CAF\", \"CD4_Tcells\": \"CD4_T-cells\", \"CD8_Tcells\": \"CD8_T-cells\",\"macrophage\": \"macrophage\", \"Endothelial\": \"endothelial\", \"NKcells\": \"NK-cell\"})"
   ]
  },
  {
   "cell_type": "code",
   "execution_count": 13,
   "metadata": {
    "ExecuteTime": {
     "end_time": "2021-11-02T19:46:37.001343Z",
     "start_time": "2021-11-02T19:46:36.967438Z"
    }
   },
   "outputs": [],
   "source": [
    "elife_tumorinf_ann = pd.DataFrame()\n",
    "elife_tumorinf_ann[\"cell_type\"] = \"normal\"\n",
    "elife_tumorinf_ann[\"tissue_type\"] = elife_tumorinf.columns\n",
    "elife_tumorinf_ann[\"sample_ID\"] = elife_tumorinf.columns\n",
    "elife_tumorinf_ann['sequencer'] = \"\"\n",
    "elife_tumorinf_ann['align'] = \"bowtie\"\n",
    "elife_tumorinf_ann['method'] = \"singlecell\"\n",
    "elife_tumorinf_ann['reference']= \"hg19\"\n",
    "LAU125\t59\tmale\tiliac lymph node\n",
    "LAU355\t70\tfemale\tiliac-obturator lymph node\n",
    "LAU1255\t87\tmale\taxillary lymph node\n",
    "LAU1314\t81\tmale\tiliac-obturator lymph node\n",
    "elife_tumorinf_ann['age'] = \"\"\n",
    "elife_tumorinf_ann['sex'] = \"\"\n",
    "elife_tumorinf_ann['dataset'] = \"elife_tumorinf\""
   ]
  },
  {
   "cell_type": "markdown",
   "metadata": {},
   "source": [
    "## tirosh's melanoma"
   ]
  },
  {
   "cell_type": "code",
   "execution_count": 4,
   "metadata": {
    "ExecuteTime": {
     "end_time": "2021-10-22T17:01:00.438880Z",
     "start_time": "2021-10-22T17:00:56.975339Z"
    }
   },
   "outputs": [
    {
     "name": "stdout",
     "output_type": "stream",
     "text": [
      "No dataset version provided. Using version 1.\n"
     ]
    }
   ],
   "source": [
    "melanoma = tc.get(name='tirosh-melanoma-scrnaseq-60f0', file='melanoma')"
   ]
  },
  {
   "cell_type": "code",
   "execution_count": 19,
   "metadata": {
    "ExecuteTime": {
     "end_time": "2021-10-22T18:22:25.947732Z",
     "start_time": "2021-10-22T18:22:25.913364Z"
    }
   },
   "outputs": [],
   "source": [
    "melanoma.columns = [i.replace('-', '_').replace('Cy', \"CY\").replace('cy', \"CY\").replace('CY88C', 'CY88_C').replace('CY89A', \"CY89_A\").replace('CY89C', 'CY89_C').replace('CY89F', 'CY89_F').replace('CY89N', 'CY89_N').replace('CY94C', 'CY94_C') for i in melanoma.columns]"
   ]
  },
  {
   "cell_type": "code",
   "execution_count": 20,
   "metadata": {
    "ExecuteTime": {
     "end_time": "2021-10-22T18:22:26.449947Z",
     "start_time": "2021-10-22T18:22:26.388003Z"
    },
    "scrolled": true
   },
   "outputs": [],
   "source": [
    "melanoma_ann = pd.DataFrame()\n",
    "\n",
    "typ={1:\"normal\", 2:\"tumor\",0: np.nan}\n",
    "orig={1:\"melanoma\", 2:\"B-cell\", 3: \"macrophage\", 4: \"endothelial\", 5: \"CAF\", 6:\"NK-cell\", 0: np.nan}\n",
    "\n",
    "melanoma_ann['age'] = [int(i) for i in melanoma.loc['tumor']]\n",
    "melanoma_ann[\"cell_type\"] = [typ[int(i)] for i in melanoma.loc['malignant(1=no,2=yes,0=unresolved)']]\n",
    "melanoma_ann['tissue_type'] = [orig[int(i)] for i in melanoma.loc['non-malignant cell type (1=T,2=B,3=Macro.4=Endo.,5=CAF;6=NK)']]\n",
    "melanoma_ann['name'] = [i.split('_')[0] for i in melanoma.columns]\n",
    "melanoma_ann['sample_id'] = melanoma.columns\n",
    "melanoma_ann['other'] = [i.split('_')[-2] for i in melanoma.columns]\n",
    "melanoma_ann['sequencer'] = \"\"\n",
    "melanoma_ann['method'] = \"singlecell\"\n",
    "\n",
    "melanoma_ann['reference']= \"hg38\"\n",
    "melanoma_ann['ends']=\"paired end\"\n",
    "melanoma_ann['dataset'] = \"melanoma\""
   ]
  },
  {
   "cell_type": "markdown",
   "metadata": {},
   "source": [
    "## GTEX"
   ]
  },
  {
   "cell_type": "code",
   "execution_count": 9,
   "metadata": {
    "ExecuteTime": {
     "end_time": "2021-10-07T15:32:58.173880Z",
     "start_time": "2021-10-07T15:32:43.752392Z"
    }
   },
   "outputs": [
    {
     "name": "stdout",
     "output_type": "stream",
     "text": [
      "  % Total    % Received % Xferd  Average Speed   Time    Time     Time  Current\n",
      "                                 Dload  Upload   Total   Spent    Left  Speed\n",
      "100 1810M  100 1810M    0     0   126M      0  0:00:14  0:00:14 --:--:--  126M\n"
     ]
    }
   ],
   "source": [
    "#! curl https://storage.googleapis.com/gtex_analysis_v9/snrna_seq_data/GTEx_8_tissues_snRNAseq_atlas_071421.public_obs.h5ad --output temp/gtex_8_atlas_public.h5ad\n",
    "\n",
    "## GTEX additional\n",
    "https://storage.googleapis.com/gtex_external_datasets/eyegex_data/rna_seq_data/EyeGEx_retina_combined_genelevel_expectedcounts_byrid_nooutlier.tpm.matrix.gct\n",
    "    \n",
    "https://storage.googleapis.com/gtex_external_datasets/eyegex_data/annotations/EyeGEx_meta_combined_inferior_retina_summary_deidentified_geo_ids.csv"
   ]
  },
  {
   "cell_type": "code",
   "execution_count": 614,
   "metadata": {
    "ExecuteTime": {
     "end_time": "2021-11-05T21:13:30.311278Z",
     "start_time": "2021-11-05T21:12:43.232265Z"
    }
   },
   "outputs": [],
   "source": [
    "gtex_v9 = read_h5ad(\"temp/gtex_8_atlas_public.h5ad\") #209,126 × 17,695"
   ]
  },
  {
   "cell_type": "code",
   "execution_count": 623,
   "metadata": {
    "ExecuteTime": {
     "end_time": "2021-11-05T22:02:02.000616Z",
     "start_time": "2021-11-05T22:02:01.970277Z"
    }
   },
   "outputs": [
    {
     "data": {
      "text/plain": [
       "n_genes                                                                    2658\n",
       "fpr                                                                         0.1\n",
       "tissue                                                           skeletalmuscle\n",
       "prep                                                                        CST\n",
       "individual                                                                   01\n",
       "nGenes                                                                     2902\n",
       "nUMIs                                                                   11544.0\n",
       "PercentMito                                                             0.07623\n",
       "PercentRibo                                                            0.051195\n",
       "Age_bin                                                                   51-60\n",
       "Sex                                                                        Male\n",
       "Sample ID                                              GTEX-1HSMQ-5011-SM-GKSJH\n",
       "Participant ID                                                       GTEX-1HSMQ\n",
       "Sample ID short                                                 GTEX-1HSMQ-5011\n",
       "RIN score from PAXgene tissue Aliquot                                       8.5\n",
       "RIN score from Frozen tissue Aliquot                                        7.8\n",
       "Autolysis Score                                                            None\n",
       "Sample Ischemic Time (mins)                                                 387\n",
       "Tissue Site Detail                                            Muscle - Skeletal\n",
       "scrublet                                                                  False\n",
       "scrublet_score                                                            0.184\n",
       "barcode                                                        TAGGCATGTAAATACG\n",
       "batch                                                                        73\n",
       "n_counts                                                                 9745.0\n",
       "tissue-individual-prep                                    skeletalmuscle_01_CST\n",
       "Broad cell type                               Myocyte (sk. muscle, cytoplasmic)\n",
       "Granular cell type                           Myocyte (slow-twitch, cytoplasmic)\n",
       "introns                                                                  9843.0\n",
       "junctions                                                                 467.0\n",
       "exons                                                                    6055.0\n",
       "sense                                                                   13989.0\n",
       "antisense                                                                2376.0\n",
       "intergenic                                                             111339.0\n",
       "batch-barcode                            skeletalmuscle_01_CST-TAGGCATGTAAATACG\n",
       "exon_ratio                                                             0.369997\n",
       "intron_ratio                                                           0.601467\n",
       "junction_ratio                                                         0.028537\n",
       "log10_nUMIs                                                            4.062356\n",
       "leiden                                                                       20\n",
       "leiden_tissue                                                                 7\n",
       "Tissue composition                                                       Muscle\n",
       "Cell types level 2                                                       Muscle\n",
       "Cell types level 3                                                      Stromal\n",
       "Broad cell type numbers                                                      33\n",
       "Broad cell type (numbers)                 33. Myocyte (sk. muscle, cytoplasmic)\n",
       "Tissue                                                          Skeletal muscle\n",
       "channel                                           skeletalmuscle_CST_GTEX-1HSMQ\n",
       "Name: CST01_TAGGCATGTAAATACG-skeletalmuscle, dtype: object"
      ]
     },
     "execution_count": 623,
     "metadata": {},
     "output_type": "execute_result"
    }
   ],
   "source": [
    "gtex_v9.obs = gtex_v9.obs[[\"Age_bin\",\"Sex\",\"Sample ID\", \"Participant ID\", \"RIN score from PAXgene tissue Aliquot\", \"Tissue\", \"tissue\"]].rename(columns={**rename, **{\"tissue\": \"tissue_type\", \"Tissue\": \"collection_site\"}})"
   ]
  },
  {
   "cell_type": "code",
   "execution_count": null,
   "metadata": {},
   "outputs": [],
   "source": [
    "gtex_v9.obs['sequencer']=\"Illumina HiSeq 2000\"\n",
    "gtex_v9.obs['method']=\"bulk\"\n",
    "gtex_v9.obs['reference']= \"hg38\"\n",
    "gtex_v9.obs['ends']=\"paired end\"\n",
    "gtex_v9.obs['dataset']=\"gtex\""
   ]
  },
  {
   "cell_type": "code",
   "execution_count": null,
   "metadata": {},
   "outputs": [],
   "source": [
    "gtex_add = # 80,000 x 500"
   ]
  },
  {
   "cell_type": "markdown",
   "metadata": {},
   "source": [
    "## THEIS LAB scRNAseq datasets"
   ]
  },
  {
   "cell_type": "code",
   "execution_count": null,
   "metadata": {},
   "outputs": [],
   "source": [
    "https://theislab.github.io/sfaira-portal/Datasets #50,000x13,000\n"
   ]
  },
  {
   "cell_type": "markdown",
   "metadata": {},
   "source": [
    "## HCMI"
   ]
  },
  {
   "cell_type": "code",
   "execution_count": 9,
   "metadata": {
    "ExecuteTime": {
     "end_time": "2022-06-02T20:10:24.975721Z",
     "start_time": "2022-06-02T20:10:23.250346Z"
    }
   },
   "outputs": [
    {
     "name": "stdout",
     "output_type": "stream",
     "text": [
      "No dataset version provided. Using version 8.\n",
      "Received a not found error. Are you sure about your credentials and/or the data parameters? params: {'dataset_permaname': 'hcmi-data-ac4b', 'version': '8', 'datafile_name': 'hcmi_ltpm', 'format': 'metadata', 'taigapy_version': '3.3.2'}\n"
     ]
    },
    {
     "ename": "AttributeError",
     "evalue": "'NoneType' object has no attribute 'T'",
     "output_type": "error",
     "traceback": [
      "\u001b[0;31m------------------------------------------------------------------\u001b[0m",
      "\u001b[0;31mAttributeError\u001b[0m                   Traceback (most recent call last)",
      "\u001b[0;32m<ipython-input-9-8011b198cb94>\u001b[0m in \u001b[0;36m<module>\u001b[0;34m\u001b[0m\n\u001b[1;32m      2\u001b[0m \u001b[0;31m# Code to generate this dataset can be found here:\u001b[0m\u001b[0;34m\u001b[0m\u001b[0;34m\u001b[0m\u001b[0;34m\u001b[0m\u001b[0m\n\u001b[1;32m      3\u001b[0m \u001b[0;31m# https://github.com/broadinstitute/hcmi-processing/blob/main/hcmi-rna-analysis-210226.ipynb\u001b[0m\u001b[0;34m\u001b[0m\u001b[0;34m\u001b[0m\u001b[0;34m\u001b[0m\u001b[0m\n\u001b[0;32m----> 4\u001b[0;31m \u001b[0mhcmi_ltpm\u001b[0m \u001b[0;34m=\u001b[0m \u001b[0mtc\u001b[0m\u001b[0;34m.\u001b[0m\u001b[0mget\u001b[0m\u001b[0;34m(\u001b[0m\u001b[0mname\u001b[0m\u001b[0;34m=\u001b[0m\u001b[0;34m'hcmi-data-ac4b'\u001b[0m\u001b[0;34m,\u001b[0m \u001b[0mfile\u001b[0m\u001b[0;34m=\u001b[0m\u001b[0;34m'hcmi_ltpm'\u001b[0m\u001b[0;34m)\u001b[0m\u001b[0;34m.\u001b[0m\u001b[0mT\u001b[0m \u001b[0;31m# 60486 x 157\u001b[0m\u001b[0;34m\u001b[0m\u001b[0;34m\u001b[0m\u001b[0m\n\u001b[0m\u001b[1;32m      5\u001b[0m \u001b[0mhcmi_sample_info\u001b[0m \u001b[0;34m=\u001b[0m \u001b[0mtc\u001b[0m\u001b[0;34m.\u001b[0m\u001b[0mget\u001b[0m\u001b[0;34m(\u001b[0m\u001b[0mname\u001b[0m\u001b[0;34m=\u001b[0m\u001b[0;34m'hcmi-data-ac4b'\u001b[0m\u001b[0;34m,\u001b[0m \u001b[0mfile\u001b[0m\u001b[0;34m=\u001b[0m\u001b[0;34m'hcmi_sample_info'\u001b[0m\u001b[0;34m)\u001b[0m\u001b[0;34m\u001b[0m\u001b[0;34m\u001b[0m\u001b[0m\n\u001b[1;32m      6\u001b[0m \u001b[0;31m#sample_info = tc.get(name='hcmi-data-ac4b', file='sample-info')\u001b[0m\u001b[0;34m\u001b[0m\u001b[0;34m\u001b[0m\u001b[0;34m\u001b[0m\u001b[0m\n",
      "\u001b[0;31mAttributeError\u001b[0m: 'NoneType' object has no attribute 'T'"
     ]
    }
   ],
   "source": [
    "# HCMI dataset\n",
    "# Code to generate this dataset can be found here:\n",
    "# https://github.com/broadinstitute/hcmi-processing/blob/main/hcmi-rna-analysis-210226.ipynb\n",
    "hcmi_ltpm = tc.get(name='hcmi-data-ac4b', file='hcmi_ltpm').T # 60486 x 157\n",
    "hcmi_sample_info = tc.get(name='hcmi-data-ac4b', file='hcmi_sample_info')\n",
    "#sample_info = tc.get(name='hcmi-data-ac4b', file='sample-info')"
   ]
  },
  {
   "cell_type": "code",
   "execution_count": 7,
   "metadata": {
    "ExecuteTime": {
     "end_time": "2021-11-05T21:24:08.124539Z",
     "start_time": "2021-11-05T21:24:08.099580Z"
    }
   },
   "outputs": [],
   "source": [
    "hcmi_sample_info['type'] = [i.split('_')[1] +\"; \"+str(j) for i,j in hcmi_sample_info[['type', 'Type']].values]"
   ]
  },
  {
   "cell_type": "code",
   "execution_count": 8,
   "metadata": {
    "ExecuteTime": {
     "end_time": "2021-11-02T18:59:12.710977Z",
     "start_time": "2021-11-02T18:59:12.682441Z"
    }
   },
   "outputs": [
    {
     "data": {
      "text/plain": [
       "Case ID                                                                  HCM-CSHL-0092-C25\n",
       "Primary Site                                                                      Pancreas\n",
       "Clinical Tumor Diagnosis                                                 Pancreatic cancer\n",
       "subtype                                                         Adenocarcinoma ductal type\n",
       "Tissue Status                                                                      Primary\n",
       "Acquisition Site                                                           Pancreatic head\n",
       "Gender                                                                                Male\n",
       "Race                                                                               Unknown\n",
       "Age At Acquisition (Years)                                                            69.0\n",
       "Age At Diagnosis (Years)                                                              69.0\n",
       "Disease Status                                                         Progressive disease\n",
       "Vital Status                                                                         Alive\n",
       "TNM Stage                                                                           T2N2M0\n",
       "Clinical Stage Grouping                                                          Stage III\n",
       "Histological Grade                                                                      G2\n",
       "Has Multiple Models                                                      HCM-CSHL-0092-C25\n",
       "Neoadjuvant Therapy                                                                     No\n",
       "Chemotherapeutic Drug List Available                                                   Yes\n",
       "Therapy                                                     Surgery,Cytotoxic chemotherapy\n",
       "Available Molecular Characterizations    WGS of parent tumor,WGS of normal,WGS of model...\n",
       "Link To Distributor                                                                 PDM-39\n",
       "Type                                                                         3-D: Organoid\n",
       "Licensing Required For Commercial Use                                                  Yes\n",
       "Expansion Status                                                                  Expanded\n",
       "# Mutated Genes                                                                         98\n",
       "# Research Somatic Variants                                                            100\n",
       "# Clinical Variants                                                                     --\n",
       "# Histo-pathological Biomarkers                                                         --\n",
       "sampleID                                                             HCM-CSHL-0092-C25-01A\n",
       "type                                                                  tumor; 3-D: Organoid\n",
       "lineage                                                                           pancreas\n",
       "Name: 0, dtype: object"
      ]
     },
     "execution_count": 8,
     "metadata": {},
     "output_type": "execute_result"
    }
   ],
   "source": [
    "hcmi_sample_info[['Case ID', 'Clinical Tumor Diagnosis', 'subtype', 'Tissue Status', \"Acquisition Site\", 'Gender', 'Race', 'Age At Acquisition (Years)', 'Expansion Status', 'sampleID', 'type', 'lineage']].rename(columns=rename)"
   ]
  },
  {
   "cell_type": "code",
   "execution_count": null,
   "metadata": {},
   "outputs": [],
   "source": [
    "hcmi_sample_info['sequencer'] =\"\"\n",
    "hcmi_sample_info['method'] =\"\"\n",
    "hcmi_sample_info['reference']= \"\"\n",
    "hcmi_sample_info['ends']=\"\"\n",
    "hcmi_sample_info['dataset']=\"hcmi\""
   ]
  },
  {
   "cell_type": "markdown",
   "metadata": {},
   "source": [
    "## L1000 dataset"
   ]
  },
  {
   "cell_type": "code",
   "execution_count": 4,
   "metadata": {
    "ExecuteTime": {
     "end_time": "2021-11-09T20:50:33.007479Z",
     "start_time": "2021-11-09T20:50:32.805171Z"
    }
   },
   "outputs": [],
   "source": [
    "import subprocess\n",
    "from anndata import AnnData "
   ]
  },
  {
   "cell_type": "code",
   "execution_count": 25,
   "metadata": {
    "ExecuteTime": {
     "end_time": "2021-11-02T20:49:20.561122Z",
     "start_time": "2021-11-02T20:49:19.705608Z"
    }
   },
   "outputs": [
    {
     "name": "stdout",
     "output_type": "stream",
     "text": [
      "\n",
      "R version 4.1.2 (2021-11-01) -- \"Bird Hippie\"\n",
      "Copyright (C) 2021 The R Foundation for Statistical Computing\n",
      "Platform: x86_64-pc-linux-gnu (64-bit)\n",
      "\n",
      "R is free software and comes with ABSOLUTELY NO WARRANTY.\n",
      "You are welcome to redistribute it under certain conditions.\n",
      "Type 'license()' or 'licence()' for distribution details.\n",
      "\n",
      "  Natural language support but running in an English locale\n",
      "\n",
      "R is a collaborative project with many contributors.\n",
      "Type 'contributors()' for more information and\n",
      "'citation()' on how to cite R or R packages in publications.\n",
      "\n",
      "Type 'demo()' for some demos, 'help()' for on-line help, or\n",
      "'help.start()' for an HTML browser interface to help.\n",
      "Type 'q()' to quit R.\n",
      "\n",
      "> if(!requireNamespace(\"BiocManager\", quietly = TRUE)){install.packages(\"BiocManager\", repos=\"http://cran.us.r-project.org\")};BiocManager::install(c(\"limma\"));\n",
      "Installing package into ‘/usr/local/lib/R/site-library’\n",
      "(as ‘lib’ is unspecified)\n",
      "Warning in install.packages(\"BiocManager\", repos = \"http://cran.us.r-project.org\") :\n",
      "  'lib = \"/usr/local/lib/R/site-library\"' is not writable\n",
      "Error in install.packages(\"BiocManager\", repos = \"http://cran.us.r-project.org\") : \n",
      "  unable to install packages\n",
      "Execution halted\n"
     ]
    }
   ],
   "source": [
    "# you will need R > 4.0 \n",
    "# https://www.charlesbordet.com/en/how-to-upgrade-to-R-4-0-0-on-debian/#the-naive-solution\n",
    "! R -e \"if(!requireNamespace('BiocManager', quietly = TRUE)){install.packages('BiocManager', repos='http://cran.us.r-project.org')};BiocManager::install('cmapR');\""
   ]
  },
  {
   "cell_type": "code",
   "execution_count": 31,
   "metadata": {
    "ExecuteTime": {
     "end_time": "2021-10-25T18:51:59.408601Z",
     "start_time": "2021-10-25T18:41:33.178527Z"
    }
   },
   "outputs": [
    {
     "name": "stdout",
     "output_type": "stream",
     "text": [
      "Copying gs://ccle_default_params/celligner_ex/level5_beta_trt_misc_n8283x12328.gctx...\n",
      "==> NOTE: You are downloading one or more large file(s), which would\n",
      "run significantly faster if you enabled sliced object downloads. This\n",
      "feature is enabled by default but requires that compiled crcmod be\n",
      "installed (see \"gsutil help crcmod\").\n",
      "\n",
      "\n",
      "Operation completed over 1 objects/389.6 MiB.                                    \n"
     ]
    },
    {
     "ename": "NameError",
     "evalue": "name 'pg' is not defined",
     "output_type": "error",
     "traceback": [
      "\u001b[0;31m---------------------------------------------------------------------------\u001b[0m",
      "\u001b[0;31mNameError\u001b[0m                                 Traceback (most recent call last)",
      "\u001b[0;32m/tmp/ipykernel_5428/952075856.py\u001b[0m in \u001b[0;36m<module>\u001b[0;34m\u001b[0m\n\u001b[1;32m      8\u001b[0m     \u001b[0mcmd\u001b[0m \u001b[0;34m=\u001b[0m \u001b[0;34m\"gsutil cp \"\u001b[0m \u001b[0;34m+\u001b[0m \u001b[0mfolder\u001b[0m \u001b[0;34m+\u001b[0m \u001b[0mval\u001b[0m \u001b[0;34m+\u001b[0m \u001b[0;34m\" temp/\"\u001b[0m\u001b[0;34m\u001b[0m\u001b[0;34m\u001b[0m\u001b[0m\n\u001b[1;32m      9\u001b[0m     \u001b[0mget_ipython\u001b[0m\u001b[0;34m(\u001b[0m\u001b[0;34m)\u001b[0m\u001b[0;34m.\u001b[0m\u001b[0msystem\u001b[0m\u001b[0;34m(\u001b[0m\u001b[0;34m' $cmd'\u001b[0m\u001b[0;34m)\u001b[0m\u001b[0;34m\u001b[0m\u001b[0;34m\u001b[0m\u001b[0m\n\u001b[0;32m---> 10\u001b[0;31m     \u001b[0mres\u001b[0m \u001b[0;34m=\u001b[0m \u001b[0mpg\u001b[0m\u001b[0;34m(\u001b[0m\u001b[0;34m'temp/'\u001b[0m\u001b[0;34m+\u001b[0m\u001b[0mval\u001b[0m\u001b[0;34m)\u001b[0m\u001b[0;34m\u001b[0m\u001b[0;34m\u001b[0m\u001b[0m\n\u001b[0m",
      "\u001b[0;31mNameError\u001b[0m: name 'pg' is not defined"
     ]
    }
   ],
   "source": [
    "folder = \"gs://ccle_default_params/celligner_ex/\"\n",
    "res = []\n",
    "for val in [\"level5_beta_ctl_n58022x12328.gctx\",\n",
    "            \"level5_beta_trt_cp_n720216x12328.gctx\",\n",
    "            \"level5_beta_trt_misc_n8283x12328.gctx\"\n",
    "            \"level5_beta_trt_oe_n34171x12328.gctx\",\n",
    "            \"level5_beta_trt_sh_n238351x12328.gctx\",\n",
    "            \"level5_beta_trt_xpr_n142901x12328.gctx\",]:\n",
    "    cmd = \"gsutil cp \" + folder + val + \" temp/\"\n",
    "    ! $cmd\n",
    "    res.append(h.loadGCTXasAnnData('temp/'+val))"
   ]
  },
  {
   "cell_type": "code",
   "execution_count": null,
   "metadata": {},
   "outputs": [],
   "source": [
    "ann['sequencer'] = \"L1000\"\n",
    "ann['method'] = \"L1000\"\n",
    "ann['reference']= \"L1000\"\n",
    "ann['ends']=\"L1000\"\n",
    "ann['dataset']=\"L1000\""
   ]
  },
  {
   "cell_type": "markdown",
   "metadata": {},
   "source": [
    "## encode"
   ]
  },
  {
   "cell_type": "code",
   "execution_count": 136,
   "metadata": {
    "ExecuteTime": {
     "end_time": "2021-11-15T22:43:12.180265Z",
     "start_time": "2021-11-15T22:43:11.829260Z"
    }
   },
   "outputs": [],
   "source": [
    "todl = h.fileToList('data/encode_rna.txt')"
   ]
  },
  {
   "cell_type": "code",
   "execution_count": 134,
   "metadata": {
    "ExecuteTime": {
     "end_time": "2021-11-15T22:41:12.701983Z",
     "start_time": "2021-11-15T22:41:12.607092Z"
    }
   },
   "outputs": [
    {
     "data": {
      "text/html": [
       "<div>\n",
       "<style scoped>\n",
       "    .dataframe tbody tr th:only-of-type {\n",
       "        vertical-align: middle;\n",
       "    }\n",
       "\n",
       "    .dataframe tbody tr th {\n",
       "        vertical-align: top;\n",
       "    }\n",
       "\n",
       "    .dataframe thead th {\n",
       "        text-align: right;\n",
       "    }\n",
       "</style>\n",
       "<table border=\"1\" class=\"dataframe\">\n",
       "  <thead>\n",
       "    <tr style=\"text-align: right;\">\n",
       "      <th></th>\n",
       "      <th>ID</th>\n",
       "      <th>Accession</th>\n",
       "      <th>Assay name</th>\n",
       "      <th>Assay title</th>\n",
       "      <th>Biosample summary</th>\n",
       "      <th>Biosample term name</th>\n",
       "      <th>Dbxrefs</th>\n",
       "      <th>Description</th>\n",
       "      <th>Lab</th>\n",
       "      <th>Project</th>\n",
       "      <th>...</th>\n",
       "      <th>Biosample treatment</th>\n",
       "      <th>Biosample treatment ontology ID</th>\n",
       "      <th>Biosample treatment amount</th>\n",
       "      <th>Biosample treatment amount units</th>\n",
       "      <th>Biosample treatment duration</th>\n",
       "      <th>Biosample treatment duration units</th>\n",
       "      <th>Biosample modification site target organism</th>\n",
       "      <th>Replicates</th>\n",
       "      <th>Cellular component</th>\n",
       "      <th>Library construction method</th>\n",
       "    </tr>\n",
       "  </thead>\n",
       "  <tbody>\n",
       "    <tr>\n",
       "      <th>0</th>\n",
       "      <td>/experiments/ENCSR620LQN/</td>\n",
       "      <td>ENCSR620LQN</td>\n",
       "      <td>RNA-seq</td>\n",
       "      <td>total RNA-seq</td>\n",
       "      <td>Homo sapiens esophagus muscularis mucosa tissu...</td>\n",
       "      <td>esophagus muscularis mucosa</td>\n",
       "      <td>GEO:GSE88409</td>\n",
       "      <td>The libraries contained in this Experiment com...</td>\n",
       "      <td>Thomas Gingeras, CSHL</td>\n",
       "      <td>ENCODE</td>\n",
       "      <td>...</td>\n",
       "      <td>NaN</td>\n",
       "      <td>NaN</td>\n",
       "      <td>NaN</td>\n",
       "      <td>NaN</td>\n",
       "      <td>NaN</td>\n",
       "      <td>NaN</td>\n",
       "      <td>NaN</td>\n",
       "      <td>/replicates/499e1412-5ef3-4ac2-98be-fd55bb01fad5/</td>\n",
       "      <td>NaN</td>\n",
       "      <td>NaN</td>\n",
       "    </tr>\n",
       "    <tr>\n",
       "      <th>1</th>\n",
       "      <td>/experiments/ENCSR406SAW/</td>\n",
       "      <td>ENCSR406SAW</td>\n",
       "      <td>RNA-seq</td>\n",
       "      <td>total RNA-seq</td>\n",
       "      <td>Homo sapiens upper lobe of left lung tissue fe...</td>\n",
       "      <td>upper lobe of left lung</td>\n",
       "      <td>GEO:GSE88254</td>\n",
       "      <td>The libraries contained in this Experiment com...</td>\n",
       "      <td>Thomas Gingeras, CSHL</td>\n",
       "      <td>ENCODE</td>\n",
       "      <td>...</td>\n",
       "      <td>NaN</td>\n",
       "      <td>NaN</td>\n",
       "      <td>NaN</td>\n",
       "      <td>NaN</td>\n",
       "      <td>NaN</td>\n",
       "      <td>NaN</td>\n",
       "      <td>NaN</td>\n",
       "      <td>/replicates/782b72f8-3197-4a66-951c-e2de88158b6a/</td>\n",
       "      <td>NaN</td>\n",
       "      <td>NaN</td>\n",
       "    </tr>\n",
       "    <tr>\n",
       "      <th>2</th>\n",
       "      <td>/experiments/ENCSR019MXZ/</td>\n",
       "      <td>ENCSR019MXZ</td>\n",
       "      <td>polyA plus RNA-seq</td>\n",
       "      <td>polyA plus RNA-seq</td>\n",
       "      <td>Homo sapiens HepG2 insoluble cytoplasmic fraction</td>\n",
       "      <td>HepG2</td>\n",
       "      <td>GEO:GSE87958</td>\n",
       "      <td>Initial insoluble fractions on HepG2 Long Poly...</td>\n",
       "      <td>Eric Lécuyer, IRCM</td>\n",
       "      <td>ENCODE</td>\n",
       "      <td>...</td>\n",
       "      <td>NaN</td>\n",
       "      <td>NaN</td>\n",
       "      <td>NaN</td>\n",
       "      <td>NaN</td>\n",
       "      <td>NaN</td>\n",
       "      <td>NaN</td>\n",
       "      <td>NaN</td>\n",
       "      <td>/replicates/443af8c7-5ed1-4930-b4f7-e1ca62c553...</td>\n",
       "      <td>insoluble cytoplasmic fraction</td>\n",
       "      <td>NaN</td>\n",
       "    </tr>\n",
       "    <tr>\n",
       "      <th>3</th>\n",
       "      <td>/experiments/ENCSR630VJN/</td>\n",
       "      <td>ENCSR630VJN</td>\n",
       "      <td>RNA-seq</td>\n",
       "      <td>total RNA-seq</td>\n",
       "      <td>Homo sapiens transverse colon tissue male adul...</td>\n",
       "      <td>transverse colon</td>\n",
       "      <td>GEO:GSE88418</td>\n",
       "      <td>The libraries contained in this Experiment com...</td>\n",
       "      <td>Thomas Gingeras, CSHL</td>\n",
       "      <td>ENCODE</td>\n",
       "      <td>...</td>\n",
       "      <td>NaN</td>\n",
       "      <td>NaN</td>\n",
       "      <td>NaN</td>\n",
       "      <td>NaN</td>\n",
       "      <td>NaN</td>\n",
       "      <td>NaN</td>\n",
       "      <td>NaN</td>\n",
       "      <td>/replicates/aa7ff7b6-5bf5-4f0d-a09c-8612c945df37/</td>\n",
       "      <td>NaN</td>\n",
       "      <td>NaN</td>\n",
       "    </tr>\n",
       "    <tr>\n",
       "      <th>4</th>\n",
       "      <td>/experiments/ENCSR035SKV/</td>\n",
       "      <td>ENCSR035SKV</td>\n",
       "      <td>RNA-seq</td>\n",
       "      <td>total RNA-seq</td>\n",
       "      <td>Homo sapiens gastroesophageal sphincter tissue...</td>\n",
       "      <td>gastroesophageal sphincter</td>\n",
       "      <td>GEO:GSE87978</td>\n",
       "      <td>The libraries contained in this Experiment com...</td>\n",
       "      <td>Thomas Gingeras, CSHL</td>\n",
       "      <td>ENCODE</td>\n",
       "      <td>...</td>\n",
       "      <td>NaN</td>\n",
       "      <td>NaN</td>\n",
       "      <td>NaN</td>\n",
       "      <td>NaN</td>\n",
       "      <td>NaN</td>\n",
       "      <td>NaN</td>\n",
       "      <td>NaN</td>\n",
       "      <td>/replicates/8c825033-47e6-4659-8b02-0b399fab0435/</td>\n",
       "      <td>NaN</td>\n",
       "      <td>NaN</td>\n",
       "    </tr>\n",
       "    <tr>\n",
       "      <th>...</th>\n",
       "      <td>...</td>\n",
       "      <td>...</td>\n",
       "      <td>...</td>\n",
       "      <td>...</td>\n",
       "      <td>...</td>\n",
       "      <td>...</td>\n",
       "      <td>...</td>\n",
       "      <td>...</td>\n",
       "      <td>...</td>\n",
       "      <td>...</td>\n",
       "      <td>...</td>\n",
       "      <td>...</td>\n",
       "      <td>...</td>\n",
       "      <td>...</td>\n",
       "      <td>...</td>\n",
       "      <td>...</td>\n",
       "      <td>...</td>\n",
       "      <td>...</td>\n",
       "      <td>...</td>\n",
       "      <td>...</td>\n",
       "      <td>...</td>\n",
       "    </tr>\n",
       "    <tr>\n",
       "      <th>1006</th>\n",
       "      <td>/experiments/ENCSR672JUF/</td>\n",
       "      <td>ENCSR672JUF</td>\n",
       "      <td>polyA plus RNA-seq</td>\n",
       "      <td>polyA plus RNA-seq</td>\n",
       "      <td>Homo sapiens foreskin keratinocyte male newborn</td>\n",
       "      <td>foreskin keratinocyte</td>\n",
       "      <td>GEO:GSM958177</td>\n",
       "      <td>NaN</td>\n",
       "      <td>Joseph Costello, UCSF</td>\n",
       "      <td>Roadmap</td>\n",
       "      <td>...</td>\n",
       "      <td>NaN</td>\n",
       "      <td>NaN</td>\n",
       "      <td>NaN</td>\n",
       "      <td>NaN</td>\n",
       "      <td>NaN</td>\n",
       "      <td>NaN</td>\n",
       "      <td>NaN</td>\n",
       "      <td>/replicates/dd125c50-da07-473b-90cf-6be56b7fe968/</td>\n",
       "      <td>NaN</td>\n",
       "      <td>NaN</td>\n",
       "    </tr>\n",
       "    <tr>\n",
       "      <th>1007</th>\n",
       "      <td>/experiments/ENCSR999CPT/</td>\n",
       "      <td>ENCSR999CPT</td>\n",
       "      <td>polyA plus RNA-seq</td>\n",
       "      <td>polyA plus RNA-seq</td>\n",
       "      <td>Homo sapiens placental basal plate tissue fema...</td>\n",
       "      <td>placental basal plate</td>\n",
       "      <td>GEO:GSM1127098</td>\n",
       "      <td>NaN</td>\n",
       "      <td>Joseph Costello, UCSF</td>\n",
       "      <td>Roadmap</td>\n",
       "      <td>...</td>\n",
       "      <td>NaN</td>\n",
       "      <td>NaN</td>\n",
       "      <td>NaN</td>\n",
       "      <td>NaN</td>\n",
       "      <td>NaN</td>\n",
       "      <td>NaN</td>\n",
       "      <td>NaN</td>\n",
       "      <td>/replicates/d92f45a2-c13f-42d4-a52d-2f974f6e7f41/</td>\n",
       "      <td>NaN</td>\n",
       "      <td>NaN</td>\n",
       "    </tr>\n",
       "    <tr>\n",
       "      <th>1008</th>\n",
       "      <td>/experiments/ENCSR634LOX/</td>\n",
       "      <td>ENCSR634LOX</td>\n",
       "      <td>polyA plus RNA-seq</td>\n",
       "      <td>polyA plus RNA-seq</td>\n",
       "      <td>Homo sapiens foreskin melanocyte male newborn</td>\n",
       "      <td>foreskin melanocyte</td>\n",
       "      <td>GEO:GSM958174</td>\n",
       "      <td>NaN</td>\n",
       "      <td>Joseph Costello, UCSF</td>\n",
       "      <td>Roadmap</td>\n",
       "      <td>...</td>\n",
       "      <td>NaN</td>\n",
       "      <td>NaN</td>\n",
       "      <td>NaN</td>\n",
       "      <td>NaN</td>\n",
       "      <td>NaN</td>\n",
       "      <td>NaN</td>\n",
       "      <td>NaN</td>\n",
       "      <td>/replicates/f0421981-9298-4ade-a256-59aa55666f27/</td>\n",
       "      <td>NaN</td>\n",
       "      <td>NaN</td>\n",
       "    </tr>\n",
       "    <tr>\n",
       "      <th>1009</th>\n",
       "      <td>/experiments/ENCSR714QAF/</td>\n",
       "      <td>ENCSR714QAF</td>\n",
       "      <td>polyA plus RNA-seq</td>\n",
       "      <td>polyA plus RNA-seq</td>\n",
       "      <td>Homo sapiens mole tissue female</td>\n",
       "      <td>mole</td>\n",
       "      <td>GEO:GSM1582478</td>\n",
       "      <td>The RNA-Seq libraries contained in this experi...</td>\n",
       "      <td>Joseph Costello, UCSF</td>\n",
       "      <td>Roadmap</td>\n",
       "      <td>...</td>\n",
       "      <td>NaN</td>\n",
       "      <td>NaN</td>\n",
       "      <td>NaN</td>\n",
       "      <td>NaN</td>\n",
       "      <td>NaN</td>\n",
       "      <td>NaN</td>\n",
       "      <td>NaN</td>\n",
       "      <td>/replicates/919a47f8-b23e-431c-9ea0-9dcb6990df63/</td>\n",
       "      <td>NaN</td>\n",
       "      <td>NaN</td>\n",
       "    </tr>\n",
       "    <tr>\n",
       "      <th>1010</th>\n",
       "      <td>/experiments/ENCSR329ZRF/</td>\n",
       "      <td>ENCSR329ZRF</td>\n",
       "      <td>polyA plus RNA-seq</td>\n",
       "      <td>polyA plus RNA-seq</td>\n",
       "      <td>Homo sapiens trophoblast tissue female embryo ...</td>\n",
       "      <td>trophoblast</td>\n",
       "      <td>GEO:GSM1582479</td>\n",
       "      <td>NaN</td>\n",
       "      <td>Joseph Costello, UCSF</td>\n",
       "      <td>Roadmap</td>\n",
       "      <td>...</td>\n",
       "      <td>NaN</td>\n",
       "      <td>NaN</td>\n",
       "      <td>NaN</td>\n",
       "      <td>NaN</td>\n",
       "      <td>NaN</td>\n",
       "      <td>NaN</td>\n",
       "      <td>NaN</td>\n",
       "      <td>/replicates/0fdf087d-c251-4149-95d5-cdfaa012d1fc/</td>\n",
       "      <td>NaN</td>\n",
       "      <td>NaN</td>\n",
       "    </tr>\n",
       "  </tbody>\n",
       "</table>\n",
       "<p>1011 rows × 29 columns</p>\n",
       "</div>"
      ],
      "text/plain": [
       "                             ID    Accession          Assay name  \\\n",
       "0     /experiments/ENCSR620LQN/  ENCSR620LQN             RNA-seq   \n",
       "1     /experiments/ENCSR406SAW/  ENCSR406SAW             RNA-seq   \n",
       "2     /experiments/ENCSR019MXZ/  ENCSR019MXZ  polyA plus RNA-seq   \n",
       "3     /experiments/ENCSR630VJN/  ENCSR630VJN             RNA-seq   \n",
       "4     /experiments/ENCSR035SKV/  ENCSR035SKV             RNA-seq   \n",
       "...                         ...          ...                 ...   \n",
       "1006  /experiments/ENCSR672JUF/  ENCSR672JUF  polyA plus RNA-seq   \n",
       "1007  /experiments/ENCSR999CPT/  ENCSR999CPT  polyA plus RNA-seq   \n",
       "1008  /experiments/ENCSR634LOX/  ENCSR634LOX  polyA plus RNA-seq   \n",
       "1009  /experiments/ENCSR714QAF/  ENCSR714QAF  polyA plus RNA-seq   \n",
       "1010  /experiments/ENCSR329ZRF/  ENCSR329ZRF  polyA plus RNA-seq   \n",
       "\n",
       "             Assay title                                  Biosample summary  \\\n",
       "0          total RNA-seq  Homo sapiens esophagus muscularis mucosa tissu...   \n",
       "1          total RNA-seq  Homo sapiens upper lobe of left lung tissue fe...   \n",
       "2     polyA plus RNA-seq  Homo sapiens HepG2 insoluble cytoplasmic fraction   \n",
       "3          total RNA-seq  Homo sapiens transverse colon tissue male adul...   \n",
       "4          total RNA-seq  Homo sapiens gastroesophageal sphincter tissue...   \n",
       "...                  ...                                                ...   \n",
       "1006  polyA plus RNA-seq    Homo sapiens foreskin keratinocyte male newborn   \n",
       "1007  polyA plus RNA-seq  Homo sapiens placental basal plate tissue fema...   \n",
       "1008  polyA plus RNA-seq      Homo sapiens foreskin melanocyte male newborn   \n",
       "1009  polyA plus RNA-seq                    Homo sapiens mole tissue female   \n",
       "1010  polyA plus RNA-seq  Homo sapiens trophoblast tissue female embryo ...   \n",
       "\n",
       "              Biosample term name         Dbxrefs  \\\n",
       "0     esophagus muscularis mucosa    GEO:GSE88409   \n",
       "1         upper lobe of left lung    GEO:GSE88254   \n",
       "2                           HepG2    GEO:GSE87958   \n",
       "3                transverse colon    GEO:GSE88418   \n",
       "4      gastroesophageal sphincter    GEO:GSE87978   \n",
       "...                           ...             ...   \n",
       "1006        foreskin keratinocyte   GEO:GSM958177   \n",
       "1007        placental basal plate  GEO:GSM1127098   \n",
       "1008          foreskin melanocyte   GEO:GSM958174   \n",
       "1009                         mole  GEO:GSM1582478   \n",
       "1010                  trophoblast  GEO:GSM1582479   \n",
       "\n",
       "                                            Description  \\\n",
       "0     The libraries contained in this Experiment com...   \n",
       "1     The libraries contained in this Experiment com...   \n",
       "2     Initial insoluble fractions on HepG2 Long Poly...   \n",
       "3     The libraries contained in this Experiment com...   \n",
       "4     The libraries contained in this Experiment com...   \n",
       "...                                                 ...   \n",
       "1006                                                NaN   \n",
       "1007                                                NaN   \n",
       "1008                                                NaN   \n",
       "1009  The RNA-Seq libraries contained in this experi...   \n",
       "1010                                                NaN   \n",
       "\n",
       "                        Lab  Project  ... Biosample treatment  \\\n",
       "0     Thomas Gingeras, CSHL   ENCODE  ...                 NaN   \n",
       "1     Thomas Gingeras, CSHL   ENCODE  ...                 NaN   \n",
       "2        Eric Lécuyer, IRCM   ENCODE  ...                 NaN   \n",
       "3     Thomas Gingeras, CSHL   ENCODE  ...                 NaN   \n",
       "4     Thomas Gingeras, CSHL   ENCODE  ...                 NaN   \n",
       "...                     ...      ...  ...                 ...   \n",
       "1006  Joseph Costello, UCSF  Roadmap  ...                 NaN   \n",
       "1007  Joseph Costello, UCSF  Roadmap  ...                 NaN   \n",
       "1008  Joseph Costello, UCSF  Roadmap  ...                 NaN   \n",
       "1009  Joseph Costello, UCSF  Roadmap  ...                 NaN   \n",
       "1010  Joseph Costello, UCSF  Roadmap  ...                 NaN   \n",
       "\n",
       "     Biosample treatment ontology ID Biosample treatment amount  \\\n",
       "0                                NaN                        NaN   \n",
       "1                                NaN                        NaN   \n",
       "2                                NaN                        NaN   \n",
       "3                                NaN                        NaN   \n",
       "4                                NaN                        NaN   \n",
       "...                              ...                        ...   \n",
       "1006                             NaN                        NaN   \n",
       "1007                             NaN                        NaN   \n",
       "1008                             NaN                        NaN   \n",
       "1009                             NaN                        NaN   \n",
       "1010                             NaN                        NaN   \n",
       "\n",
       "     Biosample treatment amount units Biosample treatment duration  \\\n",
       "0                                 NaN                          NaN   \n",
       "1                                 NaN                          NaN   \n",
       "2                                 NaN                          NaN   \n",
       "3                                 NaN                          NaN   \n",
       "4                                 NaN                          NaN   \n",
       "...                               ...                          ...   \n",
       "1006                              NaN                          NaN   \n",
       "1007                              NaN                          NaN   \n",
       "1008                              NaN                          NaN   \n",
       "1009                              NaN                          NaN   \n",
       "1010                              NaN                          NaN   \n",
       "\n",
       "     Biosample treatment duration units  \\\n",
       "0                                   NaN   \n",
       "1                                   NaN   \n",
       "2                                   NaN   \n",
       "3                                   NaN   \n",
       "4                                   NaN   \n",
       "...                                 ...   \n",
       "1006                                NaN   \n",
       "1007                                NaN   \n",
       "1008                                NaN   \n",
       "1009                                NaN   \n",
       "1010                                NaN   \n",
       "\n",
       "     Biosample modification site target organism  \\\n",
       "0                                            NaN   \n",
       "1                                            NaN   \n",
       "2                                            NaN   \n",
       "3                                            NaN   \n",
       "4                                            NaN   \n",
       "...                                          ...   \n",
       "1006                                         NaN   \n",
       "1007                                         NaN   \n",
       "1008                                         NaN   \n",
       "1009                                         NaN   \n",
       "1010                                         NaN   \n",
       "\n",
       "                                             Replicates  \\\n",
       "0     /replicates/499e1412-5ef3-4ac2-98be-fd55bb01fad5/   \n",
       "1     /replicates/782b72f8-3197-4a66-951c-e2de88158b6a/   \n",
       "2     /replicates/443af8c7-5ed1-4930-b4f7-e1ca62c553...   \n",
       "3     /replicates/aa7ff7b6-5bf5-4f0d-a09c-8612c945df37/   \n",
       "4     /replicates/8c825033-47e6-4659-8b02-0b399fab0435/   \n",
       "...                                                 ...   \n",
       "1006  /replicates/dd125c50-da07-473b-90cf-6be56b7fe968/   \n",
       "1007  /replicates/d92f45a2-c13f-42d4-a52d-2f974f6e7f41/   \n",
       "1008  /replicates/f0421981-9298-4ade-a256-59aa55666f27/   \n",
       "1009  /replicates/919a47f8-b23e-431c-9ea0-9dcb6990df63/   \n",
       "1010  /replicates/0fdf087d-c251-4149-95d5-cdfaa012d1fc/   \n",
       "\n",
       "                  Cellular component Library construction method  \n",
       "0                                NaN                         NaN  \n",
       "1                                NaN                         NaN  \n",
       "2     insoluble cytoplasmic fraction                         NaN  \n",
       "3                                NaN                         NaN  \n",
       "4                                NaN                         NaN  \n",
       "...                              ...                         ...  \n",
       "1006                             NaN                         NaN  \n",
       "1007                             NaN                         NaN  \n",
       "1008                             NaN                         NaN  \n",
       "1009                             NaN                         NaN  \n",
       "1010                             NaN                         NaN  \n",
       "\n",
       "[1011 rows x 29 columns]"
      ]
     },
     "execution_count": 134,
     "metadata": {},
     "output_type": "execute_result"
    }
   ],
   "source": [
    "# 40,000 x 1100\n",
    "report = pd.read_csv('data/encode_report.tsv', sep=\"\\t\", skiprows=1)\n",
    "report = report[report.columns[report.isna().sum()!=len(report)]]\n",
    "report"
   ]
  },
  {
   "cell_type": "code",
   "execution_count": 137,
   "metadata": {
    "ExecuteTime": {
     "end_time": "2021-11-15T22:43:26.577308Z",
     "start_time": "2021-11-15T22:43:26.545000Z"
    }
   },
   "outputs": [],
   "source": [
    "region = []\n",
    "platform = []\n",
    "\n",
    "for val in list(report['Description']):\n",
    "    if val is np.nan:\n",
    "        region.append('')\n",
    "        platform.append('')\n",
    "        continue\n",
    "    if \"cytosol\" in val or \"cytosolic\" in val:\n",
    "        region.append('cytosol')\n",
    "    elif \"nucleolus\" in val:\n",
    "        region.append('nucleolus')\n",
    "    elif \"nucleus\" in val:\n",
    "        region.append('nucleus')\n",
    "    elif \"whole cell\" in val:\n",
    "        region.append('whole')\n",
    "    elif \"chromatin\" in val:\n",
    "        region.append('chromatin')\n",
    "    elif \"cytoplasmic\" in val:\n",
    "        region.append('cytoplasm')\n",
    "    else:\n",
    "        region.append(None)\n",
    "    if \"Hi-Seq\" in val:\n",
    "        platform.append('illumina Hi-Seq 2000')\n",
    "    elif \"Illumina GAIIx\" in val:\n",
    "        platform.append('illumina gaiix')\n",
    "    else:\n",
    "        platform.append('')"
   ]
  },
  {
   "cell_type": "code",
   "execution_count": 138,
   "metadata": {
    "ExecuteTime": {
     "end_time": "2021-11-15T22:43:41.080934Z",
     "start_time": "2021-11-15T22:43:41.052128Z"
    }
   },
   "outputs": [],
   "source": [
    "report.loc[report['Cellular component'].isna(), 'Cellular component'] = np.array(region)[report[report['Cellular component'].isna()].index]"
   ]
  },
  {
   "cell_type": "code",
   "execution_count": 139,
   "metadata": {
    "ExecuteTime": {
     "end_time": "2021-11-15T22:43:55.663051Z",
     "start_time": "2021-11-15T22:43:55.637178Z"
    }
   },
   "outputs": [],
   "source": [
    "report['sequencer'] = platform"
   ]
  },
  {
   "cell_type": "code",
   "execution_count": 140,
   "metadata": {
    "ExecuteTime": {
     "end_time": "2021-11-15T22:44:10.269663Z",
     "start_time": "2021-11-15T22:44:10.228551Z"
    }
   },
   "outputs": [],
   "source": [
    "report['Files'] = report['Files'].str.split(',').apply(lambda x: [i.split('/')[-2] for i in x])"
   ]
  },
  {
   "cell_type": "code",
   "execution_count": 141,
   "metadata": {
    "ExecuteTime": {
     "end_time": "2021-11-15T22:44:24.674223Z",
     "start_time": "2021-11-15T22:44:24.630524Z"
    }
   },
   "outputs": [
    {
     "ename": "NameError",
     "evalue": "name 'rename' is not defined",
     "output_type": "error",
     "traceback": [
      "\u001b[0;31m---------------------------------------------------------------------------\u001b[0m",
      "\u001b[0;31mNameError\u001b[0m                                 Traceback (most recent call last)",
      "\u001b[0;32m/tmp/ipykernel_21567/2573620577.py\u001b[0m in \u001b[0;36m<module>\u001b[0;34m\u001b[0m\n\u001b[1;32m      2\u001b[0m report = report[['Assay title', 'Biosample summary', 'Biosample term name', 'Description', 'Lab', 'Project', 'Files', 'Biosample accession', 'Organism', 'Life stage', 'Biosample age', 'platform', 'Biosample treatment ontology ID', 'Biosample treatment amount',\n\u001b[1;32m      3\u001b[0m \u001b[0;34m'Biosample treatment amount units'\u001b[0m\u001b[0;34m,\u001b[0m \u001b[0;34m'Biosample treatment duration'\u001b[0m\u001b[0;34m,\u001b[0m\u001b[0;34m\u001b[0m\u001b[0;34m\u001b[0m\u001b[0m\n\u001b[0;32m----> 4\u001b[0;31m 'Biosample treatment duration units']].rename(columns=rename)\n\u001b[0m",
      "\u001b[0;31mNameError\u001b[0m: name 'rename' is not defined"
     ]
    }
   ],
   "source": [
    "report = report[report['Cellular component'].isna() | (report['Cellular component']==\"nucleus\")]\n",
    "report = report[['Assay title', 'Biosample summary', 'Biosample term name', 'Description', 'Lab', 'Project', 'Files', 'Biosample accession', 'Organism', 'Life stage', 'Biosample age', 'sequencer', 'Biosample treatment ontology ID', 'Biosample treatment amount',\n",
    "'Biosample treatment amount units', 'Biosample treatment duration',\n",
    "'Biosample treatment duration units']].rename(columns=rename)"
   ]
  },
  {
   "cell_type": "code",
   "execution_count": 145,
   "metadata": {
    "ExecuteTime": {
     "end_time": "2021-11-16T15:49:28.812276Z",
     "start_time": "2021-11-16T15:49:28.786448Z"
    }
   },
   "outputs": [
    {
     "data": {
      "text/plain": [
       "{'', 'illumina Hi-Seq 2000', 'illumina gaiix'}"
      ]
     },
     "execution_count": 145,
     "metadata": {},
     "output_type": "execute_result"
    }
   ],
   "source": [
    "set(report.platform)"
   ]
  },
  {
   "cell_type": "code",
   "execution_count": null,
   "metadata": {
    "ExecuteTime": {
     "end_time": "2021-11-15T22:44:24.783908Z",
     "start_time": "2021-11-15T22:44:24.783887Z"
    }
   },
   "outputs": [],
   "source": [
    "match = {}\n",
    "for i, val in report['Files'].iteritems():\n",
    "    for j in val:\n",
    "        match[j] = i"
   ]
  },
  {
   "cell_type": "code",
   "execution_count": null,
   "metadata": {
    "ExecuteTime": {
     "end_time": "2021-11-15T22:44:24.900652Z",
     "start_time": "2021-11-15T22:44:24.900639Z"
    }
   },
   "outputs": [],
   "source": [
    "encode_ann = pd.DataFrame(columns=report.columns)\n",
    "for val in todl:\n",
    "    val = val.split('/')[-1].split('.')[0]\n",
    "    if val not in match:\n",
    "        print(val)\n",
    "    else:\n",
    "        encode_ann.loc[val] = report.loc[match[val]].values"
   ]
  },
  {
   "cell_type": "code",
   "execution_count": null,
   "metadata": {},
   "outputs": [],
   "source": [
    "encode_ann['sequencer'] = \"\"# MISSING\n",
    "encode_ann['reference']= \"hg38\"\n",
    "encode_ann['ends']=\"paired-end\"\n",
    "encode_ann['align'] = \"STAR\"\n",
    "encode_ann['dataset']=\"encode\""
   ]
  },
  {
   "cell_type": "code",
   "execution_count": 17,
   "metadata": {},
   "outputs": [
    {
     "ename": "ValueError",
     "evalue": "cannot reindex from a duplicate axis",
     "output_type": "error",
     "traceback": [
      "\u001b[0;31m---------------------------------------------------------------------------\u001b[0m",
      "\u001b[0;31mValueError\u001b[0m                                Traceback (most recent call last)",
      "\u001b[0;32m/tmp/ipykernel_5428/1526545396.py\u001b[0m in \u001b[0;36m<module>\u001b[0;34m\u001b[0m\n\u001b[1;32m      7\u001b[0m     \u001b[0mvl\u001b[0m \u001b[0;34m=\u001b[0m \u001b[0mvl\u001b[0m\u001b[0;34m.\u001b[0m\u001b[0mset_index\u001b[0m\u001b[0;34m(\u001b[0m\u001b[0;34m'gene_ID'\u001b[0m\u001b[0;34m,\u001b[0m \u001b[0mdrop\u001b[0m\u001b[0;34m=\u001b[0m\u001b[0;32mTrue\u001b[0m\u001b[0;34m)\u001b[0m\u001b[0;34m[\u001b[0m\u001b[0mvl\u001b[0m\u001b[0;34m.\u001b[0m\u001b[0mcolumns\u001b[0m\u001b[0;34m[\u001b[0m\u001b[0;34m-\u001b[0m\u001b[0;36m1\u001b[0m\u001b[0;34m]\u001b[0m\u001b[0;34m]\u001b[0m\u001b[0;34m.\u001b[0m\u001b[0mrename\u001b[0m\u001b[0;34m(\u001b[0m\u001b[0mval\u001b[0m\u001b[0;34m)\u001b[0m\u001b[0;34m\u001b[0m\u001b[0;34m\u001b[0m\u001b[0m\n\u001b[1;32m      8\u001b[0m   \u001b[0mres\u001b[0m\u001b[0;34m.\u001b[0m\u001b[0mappend\u001b[0m\u001b[0;34m(\u001b[0m\u001b[0mvl\u001b[0m\u001b[0;34m)\u001b[0m\u001b[0;34m\u001b[0m\u001b[0;34m\u001b[0m\u001b[0m\n\u001b[0;32m----> 9\u001b[0;31m \u001b[0mencode\u001b[0m \u001b[0;34m=\u001b[0m \u001b[0mpd\u001b[0m\u001b[0;34m.\u001b[0m\u001b[0mconcat\u001b[0m\u001b[0;34m(\u001b[0m\u001b[0mres\u001b[0m\u001b[0;34m,\u001b[0m \u001b[0maxis\u001b[0m\u001b[0;34m=\u001b[0m\u001b[0;36m1\u001b[0m\u001b[0;34m)\u001b[0m\u001b[0;34m\u001b[0m\u001b[0;34m\u001b[0m\u001b[0m\n\u001b[0m",
      "\u001b[0;32m~/miniconda3/envs/gae/lib/python3.8/site-packages/pandas/util/_decorators.py\u001b[0m in \u001b[0;36mwrapper\u001b[0;34m(*args, **kwargs)\u001b[0m\n\u001b[1;32m    309\u001b[0m                     \u001b[0mstacklevel\u001b[0m\u001b[0;34m=\u001b[0m\u001b[0mstacklevel\u001b[0m\u001b[0;34m,\u001b[0m\u001b[0;34m\u001b[0m\u001b[0;34m\u001b[0m\u001b[0m\n\u001b[1;32m    310\u001b[0m                 )\n\u001b[0;32m--> 311\u001b[0;31m             \u001b[0;32mreturn\u001b[0m \u001b[0mfunc\u001b[0m\u001b[0;34m(\u001b[0m\u001b[0;34m*\u001b[0m\u001b[0margs\u001b[0m\u001b[0;34m,\u001b[0m \u001b[0;34m**\u001b[0m\u001b[0mkwargs\u001b[0m\u001b[0;34m)\u001b[0m\u001b[0;34m\u001b[0m\u001b[0;34m\u001b[0m\u001b[0m\n\u001b[0m\u001b[1;32m    312\u001b[0m \u001b[0;34m\u001b[0m\u001b[0m\n\u001b[1;32m    313\u001b[0m         \u001b[0;32mreturn\u001b[0m \u001b[0mwrapper\u001b[0m\u001b[0;34m\u001b[0m\u001b[0;34m\u001b[0m\u001b[0m\n",
      "\u001b[0;32m~/miniconda3/envs/gae/lib/python3.8/site-packages/pandas/core/reshape/concat.py\u001b[0m in \u001b[0;36mconcat\u001b[0;34m(objs, axis, join, ignore_index, keys, levels, names, verify_integrity, sort, copy)\u001b[0m\n\u001b[1;32m    305\u001b[0m     )\n\u001b[1;32m    306\u001b[0m \u001b[0;34m\u001b[0m\u001b[0m\n\u001b[0;32m--> 307\u001b[0;31m     \u001b[0;32mreturn\u001b[0m \u001b[0mop\u001b[0m\u001b[0;34m.\u001b[0m\u001b[0mget_result\u001b[0m\u001b[0;34m(\u001b[0m\u001b[0;34m)\u001b[0m\u001b[0;34m\u001b[0m\u001b[0;34m\u001b[0m\u001b[0m\n\u001b[0m\u001b[1;32m    308\u001b[0m \u001b[0;34m\u001b[0m\u001b[0m\n\u001b[1;32m    309\u001b[0m \u001b[0;34m\u001b[0m\u001b[0m\n",
      "\u001b[0;32m~/miniconda3/envs/gae/lib/python3.8/site-packages/pandas/core/reshape/concat.py\u001b[0m in \u001b[0;36mget_result\u001b[0;34m(self)\u001b[0m\n\u001b[1;32m    506\u001b[0m \u001b[0;34m\u001b[0m\u001b[0m\n\u001b[1;32m    507\u001b[0m                 \u001b[0mindex\u001b[0m\u001b[0;34m,\u001b[0m \u001b[0mcolumns\u001b[0m \u001b[0;34m=\u001b[0m \u001b[0mself\u001b[0m\u001b[0;34m.\u001b[0m\u001b[0mnew_axes\u001b[0m\u001b[0;34m\u001b[0m\u001b[0;34m\u001b[0m\u001b[0m\n\u001b[0;32m--> 508\u001b[0;31m                 \u001b[0mdf\u001b[0m \u001b[0;34m=\u001b[0m \u001b[0mcons\u001b[0m\u001b[0;34m(\u001b[0m\u001b[0mdata\u001b[0m\u001b[0;34m,\u001b[0m \u001b[0mindex\u001b[0m\u001b[0;34m=\u001b[0m\u001b[0mindex\u001b[0m\u001b[0;34m,\u001b[0m \u001b[0mcopy\u001b[0m\u001b[0;34m=\u001b[0m\u001b[0mself\u001b[0m\u001b[0;34m.\u001b[0m\u001b[0mcopy\u001b[0m\u001b[0;34m)\u001b[0m\u001b[0;34m\u001b[0m\u001b[0;34m\u001b[0m\u001b[0m\n\u001b[0m\u001b[1;32m    509\u001b[0m                 \u001b[0mdf\u001b[0m\u001b[0;34m.\u001b[0m\u001b[0mcolumns\u001b[0m \u001b[0;34m=\u001b[0m \u001b[0mcolumns\u001b[0m\u001b[0;34m\u001b[0m\u001b[0;34m\u001b[0m\u001b[0m\n\u001b[1;32m    510\u001b[0m                 \u001b[0;32mreturn\u001b[0m \u001b[0mdf\u001b[0m\u001b[0;34m.\u001b[0m\u001b[0m__finalize__\u001b[0m\u001b[0;34m(\u001b[0m\u001b[0mself\u001b[0m\u001b[0;34m,\u001b[0m \u001b[0mmethod\u001b[0m\u001b[0;34m=\u001b[0m\u001b[0;34m\"concat\"\u001b[0m\u001b[0;34m)\u001b[0m\u001b[0;34m\u001b[0m\u001b[0;34m\u001b[0m\u001b[0m\n",
      "\u001b[0;32m~/miniconda3/envs/gae/lib/python3.8/site-packages/pandas/core/frame.py\u001b[0m in \u001b[0;36m__init__\u001b[0;34m(self, data, index, columns, dtype, copy)\u001b[0m\n\u001b[1;32m    612\u001b[0m         \u001b[0;32melif\u001b[0m \u001b[0misinstance\u001b[0m\u001b[0;34m(\u001b[0m\u001b[0mdata\u001b[0m\u001b[0;34m,\u001b[0m \u001b[0mdict\u001b[0m\u001b[0;34m)\u001b[0m\u001b[0;34m:\u001b[0m\u001b[0;34m\u001b[0m\u001b[0;34m\u001b[0m\u001b[0m\n\u001b[1;32m    613\u001b[0m             \u001b[0;31m# GH#38939 de facto copy defaults to False only in non-dict cases\u001b[0m\u001b[0;34m\u001b[0m\u001b[0;34m\u001b[0m\u001b[0;34m\u001b[0m\u001b[0m\n\u001b[0;32m--> 614\u001b[0;31m             \u001b[0mmgr\u001b[0m \u001b[0;34m=\u001b[0m \u001b[0mdict_to_mgr\u001b[0m\u001b[0;34m(\u001b[0m\u001b[0mdata\u001b[0m\u001b[0;34m,\u001b[0m \u001b[0mindex\u001b[0m\u001b[0;34m,\u001b[0m \u001b[0mcolumns\u001b[0m\u001b[0;34m,\u001b[0m \u001b[0mdtype\u001b[0m\u001b[0;34m=\u001b[0m\u001b[0mdtype\u001b[0m\u001b[0;34m,\u001b[0m \u001b[0mcopy\u001b[0m\u001b[0;34m=\u001b[0m\u001b[0mcopy\u001b[0m\u001b[0;34m,\u001b[0m \u001b[0mtyp\u001b[0m\u001b[0;34m=\u001b[0m\u001b[0mmanager\u001b[0m\u001b[0;34m)\u001b[0m\u001b[0;34m\u001b[0m\u001b[0;34m\u001b[0m\u001b[0m\n\u001b[0m\u001b[1;32m    615\u001b[0m         \u001b[0;32melif\u001b[0m \u001b[0misinstance\u001b[0m\u001b[0;34m(\u001b[0m\u001b[0mdata\u001b[0m\u001b[0;34m,\u001b[0m \u001b[0mma\u001b[0m\u001b[0;34m.\u001b[0m\u001b[0mMaskedArray\u001b[0m\u001b[0;34m)\u001b[0m\u001b[0;34m:\u001b[0m\u001b[0;34m\u001b[0m\u001b[0;34m\u001b[0m\u001b[0m\n\u001b[1;32m    616\u001b[0m             \u001b[0;32mimport\u001b[0m \u001b[0mnumpy\u001b[0m\u001b[0;34m.\u001b[0m\u001b[0mma\u001b[0m\u001b[0;34m.\u001b[0m\u001b[0mmrecords\u001b[0m \u001b[0;32mas\u001b[0m \u001b[0mmrecords\u001b[0m\u001b[0;34m\u001b[0m\u001b[0;34m\u001b[0m\u001b[0m\n",
      "\u001b[0;32m~/miniconda3/envs/gae/lib/python3.8/site-packages/pandas/core/internals/construction.py\u001b[0m in \u001b[0;36mdict_to_mgr\u001b[0;34m(data, index, columns, dtype, typ, copy)\u001b[0m\n\u001b[1;32m    462\u001b[0m         \u001b[0;31m# TODO: can we get rid of the dt64tz special case above?\u001b[0m\u001b[0;34m\u001b[0m\u001b[0;34m\u001b[0m\u001b[0;34m\u001b[0m\u001b[0m\n\u001b[1;32m    463\u001b[0m \u001b[0;34m\u001b[0m\u001b[0m\n\u001b[0;32m--> 464\u001b[0;31m     return arrays_to_mgr(\n\u001b[0m\u001b[1;32m    465\u001b[0m         \u001b[0marrays\u001b[0m\u001b[0;34m,\u001b[0m \u001b[0mdata_names\u001b[0m\u001b[0;34m,\u001b[0m \u001b[0mindex\u001b[0m\u001b[0;34m,\u001b[0m \u001b[0mcolumns\u001b[0m\u001b[0;34m,\u001b[0m \u001b[0mdtype\u001b[0m\u001b[0;34m=\u001b[0m\u001b[0mdtype\u001b[0m\u001b[0;34m,\u001b[0m \u001b[0mtyp\u001b[0m\u001b[0;34m=\u001b[0m\u001b[0mtyp\u001b[0m\u001b[0;34m,\u001b[0m \u001b[0mconsolidate\u001b[0m\u001b[0;34m=\u001b[0m\u001b[0mcopy\u001b[0m\u001b[0;34m\u001b[0m\u001b[0;34m\u001b[0m\u001b[0m\n\u001b[1;32m    466\u001b[0m     )\n",
      "\u001b[0;32m~/miniconda3/envs/gae/lib/python3.8/site-packages/pandas/core/internals/construction.py\u001b[0m in \u001b[0;36marrays_to_mgr\u001b[0;34m(arrays, arr_names, index, columns, dtype, verify_integrity, typ, consolidate)\u001b[0m\n\u001b[1;32m    122\u001b[0m \u001b[0;34m\u001b[0m\u001b[0m\n\u001b[1;32m    123\u001b[0m         \u001b[0;31m# don't force copy because getting jammed in an ndarray anyway\u001b[0m\u001b[0;34m\u001b[0m\u001b[0;34m\u001b[0m\u001b[0;34m\u001b[0m\u001b[0m\n\u001b[0;32m--> 124\u001b[0;31m         \u001b[0marrays\u001b[0m \u001b[0;34m=\u001b[0m \u001b[0m_homogenize\u001b[0m\u001b[0;34m(\u001b[0m\u001b[0marrays\u001b[0m\u001b[0;34m,\u001b[0m \u001b[0mindex\u001b[0m\u001b[0;34m,\u001b[0m \u001b[0mdtype\u001b[0m\u001b[0;34m)\u001b[0m\u001b[0;34m\u001b[0m\u001b[0;34m\u001b[0m\u001b[0m\n\u001b[0m\u001b[1;32m    125\u001b[0m \u001b[0;34m\u001b[0m\u001b[0m\n\u001b[1;32m    126\u001b[0m     \u001b[0;32melse\u001b[0m\u001b[0;34m:\u001b[0m\u001b[0;34m\u001b[0m\u001b[0;34m\u001b[0m\u001b[0m\n",
      "\u001b[0;32m~/miniconda3/envs/gae/lib/python3.8/site-packages/pandas/core/internals/construction.py\u001b[0m in \u001b[0;36m_homogenize\u001b[0;34m(data, index, dtype)\u001b[0m\n\u001b[1;32m    569\u001b[0m                 \u001b[0;31m# Forces alignment. No need to copy data since we\u001b[0m\u001b[0;34m\u001b[0m\u001b[0;34m\u001b[0m\u001b[0;34m\u001b[0m\u001b[0m\n\u001b[1;32m    570\u001b[0m                 \u001b[0;31m# are putting it into an ndarray later\u001b[0m\u001b[0;34m\u001b[0m\u001b[0;34m\u001b[0m\u001b[0;34m\u001b[0m\u001b[0m\n\u001b[0;32m--> 571\u001b[0;31m                 \u001b[0mval\u001b[0m \u001b[0;34m=\u001b[0m \u001b[0mval\u001b[0m\u001b[0;34m.\u001b[0m\u001b[0mreindex\u001b[0m\u001b[0;34m(\u001b[0m\u001b[0mindex\u001b[0m\u001b[0;34m,\u001b[0m \u001b[0mcopy\u001b[0m\u001b[0;34m=\u001b[0m\u001b[0;32mFalse\u001b[0m\u001b[0;34m)\u001b[0m\u001b[0;34m\u001b[0m\u001b[0;34m\u001b[0m\u001b[0m\n\u001b[0m\u001b[1;32m    572\u001b[0m \u001b[0;34m\u001b[0m\u001b[0m\n\u001b[1;32m    573\u001b[0m             \u001b[0mval\u001b[0m \u001b[0;34m=\u001b[0m \u001b[0mval\u001b[0m\u001b[0;34m.\u001b[0m\u001b[0m_values\u001b[0m\u001b[0;34m\u001b[0m\u001b[0;34m\u001b[0m\u001b[0m\n",
      "\u001b[0;32m~/miniconda3/envs/gae/lib/python3.8/site-packages/pandas/core/series.py\u001b[0m in \u001b[0;36mreindex\u001b[0;34m(self, index, **kwargs)\u001b[0m\n\u001b[1;32m   4578\u001b[0m     )\n\u001b[1;32m   4579\u001b[0m     \u001b[0;32mdef\u001b[0m \u001b[0mreindex\u001b[0m\u001b[0;34m(\u001b[0m\u001b[0mself\u001b[0m\u001b[0;34m,\u001b[0m \u001b[0mindex\u001b[0m\u001b[0;34m=\u001b[0m\u001b[0;32mNone\u001b[0m\u001b[0;34m,\u001b[0m \u001b[0;34m**\u001b[0m\u001b[0mkwargs\u001b[0m\u001b[0;34m)\u001b[0m\u001b[0;34m:\u001b[0m\u001b[0;34m\u001b[0m\u001b[0;34m\u001b[0m\u001b[0m\n\u001b[0;32m-> 4580\u001b[0;31m         \u001b[0;32mreturn\u001b[0m \u001b[0msuper\u001b[0m\u001b[0;34m(\u001b[0m\u001b[0;34m)\u001b[0m\u001b[0;34m.\u001b[0m\u001b[0mreindex\u001b[0m\u001b[0;34m(\u001b[0m\u001b[0mindex\u001b[0m\u001b[0;34m=\u001b[0m\u001b[0mindex\u001b[0m\u001b[0;34m,\u001b[0m \u001b[0;34m**\u001b[0m\u001b[0mkwargs\u001b[0m\u001b[0;34m)\u001b[0m\u001b[0;34m\u001b[0m\u001b[0;34m\u001b[0m\u001b[0m\n\u001b[0m\u001b[1;32m   4581\u001b[0m \u001b[0;34m\u001b[0m\u001b[0m\n\u001b[1;32m   4582\u001b[0m     \u001b[0;34m@\u001b[0m\u001b[0mdeprecate_nonkeyword_arguments\u001b[0m\u001b[0;34m(\u001b[0m\u001b[0mversion\u001b[0m\u001b[0;34m=\u001b[0m\u001b[0;32mNone\u001b[0m\u001b[0;34m,\u001b[0m \u001b[0mallowed_args\u001b[0m\u001b[0;34m=\u001b[0m\u001b[0;34m[\u001b[0m\u001b[0;34m\"self\"\u001b[0m\u001b[0;34m,\u001b[0m \u001b[0;34m\"labels\"\u001b[0m\u001b[0;34m]\u001b[0m\u001b[0;34m)\u001b[0m\u001b[0;34m\u001b[0m\u001b[0;34m\u001b[0m\u001b[0m\n",
      "\u001b[0;32m~/miniconda3/envs/gae/lib/python3.8/site-packages/pandas/core/generic.py\u001b[0m in \u001b[0;36mreindex\u001b[0;34m(self, *args, **kwargs)\u001b[0m\n\u001b[1;32m   4816\u001b[0m \u001b[0;34m\u001b[0m\u001b[0m\n\u001b[1;32m   4817\u001b[0m         \u001b[0;31m# perform the reindex on the axes\u001b[0m\u001b[0;34m\u001b[0m\u001b[0;34m\u001b[0m\u001b[0;34m\u001b[0m\u001b[0m\n\u001b[0;32m-> 4818\u001b[0;31m         return self._reindex_axes(\n\u001b[0m\u001b[1;32m   4819\u001b[0m             \u001b[0maxes\u001b[0m\u001b[0;34m,\u001b[0m \u001b[0mlevel\u001b[0m\u001b[0;34m,\u001b[0m \u001b[0mlimit\u001b[0m\u001b[0;34m,\u001b[0m \u001b[0mtolerance\u001b[0m\u001b[0;34m,\u001b[0m \u001b[0mmethod\u001b[0m\u001b[0;34m,\u001b[0m \u001b[0mfill_value\u001b[0m\u001b[0;34m,\u001b[0m \u001b[0mcopy\u001b[0m\u001b[0;34m\u001b[0m\u001b[0;34m\u001b[0m\u001b[0m\n\u001b[1;32m   4820\u001b[0m         ).__finalize__(self, method=\"reindex\")\n",
      "\u001b[0;32m~/miniconda3/envs/gae/lib/python3.8/site-packages/pandas/core/generic.py\u001b[0m in \u001b[0;36m_reindex_axes\u001b[0;34m(self, axes, level, limit, tolerance, method, fill_value, copy)\u001b[0m\n\u001b[1;32m   4837\u001b[0m \u001b[0;34m\u001b[0m\u001b[0m\n\u001b[1;32m   4838\u001b[0m             \u001b[0maxis\u001b[0m \u001b[0;34m=\u001b[0m \u001b[0mself\u001b[0m\u001b[0;34m.\u001b[0m\u001b[0m_get_axis_number\u001b[0m\u001b[0;34m(\u001b[0m\u001b[0ma\u001b[0m\u001b[0;34m)\u001b[0m\u001b[0;34m\u001b[0m\u001b[0;34m\u001b[0m\u001b[0m\n\u001b[0;32m-> 4839\u001b[0;31m             obj = obj._reindex_with_indexers(\n\u001b[0m\u001b[1;32m   4840\u001b[0m                 \u001b[0;34m{\u001b[0m\u001b[0maxis\u001b[0m\u001b[0;34m:\u001b[0m \u001b[0;34m[\u001b[0m\u001b[0mnew_index\u001b[0m\u001b[0;34m,\u001b[0m \u001b[0mindexer\u001b[0m\u001b[0;34m]\u001b[0m\u001b[0;34m}\u001b[0m\u001b[0;34m,\u001b[0m\u001b[0;34m\u001b[0m\u001b[0;34m\u001b[0m\u001b[0m\n\u001b[1;32m   4841\u001b[0m                 \u001b[0mfill_value\u001b[0m\u001b[0;34m=\u001b[0m\u001b[0mfill_value\u001b[0m\u001b[0;34m,\u001b[0m\u001b[0;34m\u001b[0m\u001b[0;34m\u001b[0m\u001b[0m\n",
      "\u001b[0;32m~/miniconda3/envs/gae/lib/python3.8/site-packages/pandas/core/generic.py\u001b[0m in \u001b[0;36m_reindex_with_indexers\u001b[0;34m(self, reindexers, fill_value, copy, allow_dups)\u001b[0m\n\u001b[1;32m   4881\u001b[0m \u001b[0;34m\u001b[0m\u001b[0m\n\u001b[1;32m   4882\u001b[0m             \u001b[0;31m# TODO: speed up on homogeneous DataFrame objects\u001b[0m\u001b[0;34m\u001b[0m\u001b[0;34m\u001b[0m\u001b[0;34m\u001b[0m\u001b[0m\n\u001b[0;32m-> 4883\u001b[0;31m             new_data = new_data.reindex_indexer(\n\u001b[0m\u001b[1;32m   4884\u001b[0m                 \u001b[0mindex\u001b[0m\u001b[0;34m,\u001b[0m\u001b[0;34m\u001b[0m\u001b[0;34m\u001b[0m\u001b[0m\n\u001b[1;32m   4885\u001b[0m                 \u001b[0mindexer\u001b[0m\u001b[0;34m,\u001b[0m\u001b[0;34m\u001b[0m\u001b[0;34m\u001b[0m\u001b[0m\n",
      "\u001b[0;32m~/miniconda3/envs/gae/lib/python3.8/site-packages/pandas/core/internals/managers.py\u001b[0m in \u001b[0;36mreindex_indexer\u001b[0;34m(self, new_axis, indexer, axis, fill_value, allow_dups, copy, consolidate, only_slice)\u001b[0m\n\u001b[1;32m    668\u001b[0m         \u001b[0;31m# some axes don't allow reindexing with dups\u001b[0m\u001b[0;34m\u001b[0m\u001b[0;34m\u001b[0m\u001b[0;34m\u001b[0m\u001b[0m\n\u001b[1;32m    669\u001b[0m         \u001b[0;32mif\u001b[0m \u001b[0;32mnot\u001b[0m \u001b[0mallow_dups\u001b[0m\u001b[0;34m:\u001b[0m\u001b[0;34m\u001b[0m\u001b[0;34m\u001b[0m\u001b[0m\n\u001b[0;32m--> 670\u001b[0;31m             \u001b[0mself\u001b[0m\u001b[0;34m.\u001b[0m\u001b[0maxes\u001b[0m\u001b[0;34m[\u001b[0m\u001b[0maxis\u001b[0m\u001b[0;34m]\u001b[0m\u001b[0;34m.\u001b[0m\u001b[0m_validate_can_reindex\u001b[0m\u001b[0;34m(\u001b[0m\u001b[0mindexer\u001b[0m\u001b[0;34m)\u001b[0m\u001b[0;34m\u001b[0m\u001b[0;34m\u001b[0m\u001b[0m\n\u001b[0m\u001b[1;32m    671\u001b[0m \u001b[0;34m\u001b[0m\u001b[0m\n\u001b[1;32m    672\u001b[0m         \u001b[0;32mif\u001b[0m \u001b[0maxis\u001b[0m \u001b[0;34m>=\u001b[0m \u001b[0mself\u001b[0m\u001b[0;34m.\u001b[0m\u001b[0mndim\u001b[0m\u001b[0;34m:\u001b[0m\u001b[0;34m\u001b[0m\u001b[0;34m\u001b[0m\u001b[0m\n",
      "\u001b[0;32m~/miniconda3/envs/gae/lib/python3.8/site-packages/pandas/core/indexes/base.py\u001b[0m in \u001b[0;36m_validate_can_reindex\u001b[0;34m(self, indexer)\u001b[0m\n\u001b[1;32m   3783\u001b[0m         \u001b[0;31m# trying to reindex on an axis with duplicates\u001b[0m\u001b[0;34m\u001b[0m\u001b[0;34m\u001b[0m\u001b[0;34m\u001b[0m\u001b[0m\n\u001b[1;32m   3784\u001b[0m         \u001b[0;32mif\u001b[0m \u001b[0;32mnot\u001b[0m \u001b[0mself\u001b[0m\u001b[0;34m.\u001b[0m\u001b[0m_index_as_unique\u001b[0m \u001b[0;32mand\u001b[0m \u001b[0mlen\u001b[0m\u001b[0;34m(\u001b[0m\u001b[0mindexer\u001b[0m\u001b[0;34m)\u001b[0m\u001b[0;34m:\u001b[0m\u001b[0;34m\u001b[0m\u001b[0;34m\u001b[0m\u001b[0m\n\u001b[0;32m-> 3785\u001b[0;31m             \u001b[0;32mraise\u001b[0m \u001b[0mValueError\u001b[0m\u001b[0;34m(\u001b[0m\u001b[0;34m\"cannot reindex from a duplicate axis\"\u001b[0m\u001b[0;34m)\u001b[0m\u001b[0;34m\u001b[0m\u001b[0;34m\u001b[0m\u001b[0m\n\u001b[0m\u001b[1;32m   3786\u001b[0m \u001b[0;34m\u001b[0m\u001b[0m\n\u001b[1;32m   3787\u001b[0m     def reindex(\n",
      "\u001b[0;31mValueError\u001b[0m: cannot reindex from a duplicate axis"
     ]
    }
   ],
   "source": [
    "res = []\n",
    "for val in encode_ann.index:\n",
    "    vl = pd.read_csv('https://www.encodeproject.org/files/'+val+'/@@download/'+val+'.tsv', sep='\\t')\n",
    "    try:\n",
    "        vl = vl.set_index('gene_id', drop=True)['TPM'].rename(val)\n",
    "    except KeyError:\n",
    "        vl = vl.set_index('gene_ID', drop=True)[vl.columns[-1]].rename(val)\n",
    "    res.append(vl)\n",
    "encode = pd.concat(res, axis=1)"
   ]
  },
  {
   "cell_type": "markdown",
   "metadata": {},
   "source": [
    "## ICGC"
   ]
  },
  {
   "cell_type": "code",
   "execution_count": 70,
   "metadata": {
    "ExecuteTime": {
     "end_time": "2021-11-10T12:21:26.401223Z",
     "start_time": "2021-11-10T12:21:26.377718Z"
    }
   },
   "outputs": [],
   "source": [
    "icgclist = [\"https://dcc.icgc.org/api/v1/download?fn=/current/Projects/BOCA-FR/exp_seq.BOCA-FR.tsv.gz\",\n",
    "\"https://dcc.icgc.org/api/v1/download?fn=/current/Projects/BPLL-FR/exp_seq.BPLL-FR.tsv.gz\",\n",
    "\"https://dcc.icgc.org/api/v1/download?fn=/current/Projects/BRCA-KR/exp_seq.BRCA-KR.tsv.gz\",\n",
    "\"https://dcc.icgc.org/api/v1/download?fn=/current/Projects/LICA-FR/exp_seq.LICA-FR.tsv.gz\",\n",
    "\"https://dcc.icgc.org/api/v1/download?fn=/current/Projects/LIRI-JP/exp_seq.LIRI-JP.tsv.gz\",\n",
    "\"https://dcc.icgc.org/api/v1/download?fn=/current/Projects/ORCA-IN/exp_seq.ORCA-IN.tsv.gz\",\n",
    "\"https://dcc.icgc.org/api/v1/download?fn=/current/Projects/OV-AU/exp_seq.OV-AU.tsv.gz\",\n",
    "\"https://dcc.icgc.org/api/v1/download?fn=/current/Projects/PACA-AU/exp_seq.PACA-AU.tsv.gz\",\n",
    "\"https://dcc.icgc.org/api/v1/download?fn=/current/Projects/PACA-CA/exp_seq.PACA-CA.tsv.gz\",\n",
    "\"https://dcc.icgc.org/api/v1/download?fn=/current/Projects/PRAD-CA/exp_seq.PRAD-CA.tsv.gz\",\n",
    "\"https://dcc.icgc.org/api/v1/download?fn=/current/Projects/PRAD-FR/exp_seq.PRAD-FR.tsv.gz\",\n",
    "\"https://dcc.icgc.org/api/v1/download?fn=/current/Projects/CLLE-ES/exp_seq.CLLE-ES.tsv.gz\",\n",
    "\"https://dcc.icgc.org/api/v1/download?fn=/current/Projects/MALY-DE/exp_seq.MALY-DE.tsv.gz\",\n",
    "\"https://dcc.icgc.org/api/v1/download?fn=/current/Projects/PAEN-AU/exp_seq.PAEN-AU.tsv.gz\",\n",
    "\"https://dcc.icgc.org/api/v1/download?fn=/current/Projects/RECA-EU/exp_seq.RECA-EU.tsv.gz\"]"
   ]
  },
  {
   "cell_type": "code",
   "execution_count": 69,
   "metadata": {
    "ExecuteTime": {
     "end_time": "2021-11-10T12:20:57.816674Z",
     "start_time": "2021-11-10T12:20:57.779259Z"
    },
    "scrolled": true
   },
   "outputs": [
    {
     "data": {
      "text/plain": [
       "'download\\\\?fn\\\\=/current/Projects/BOCA-FR/exp_seq.BOCA-FR.tsv.gz'"
      ]
     },
     "execution_count": 69,
     "metadata": {},
     "output_type": "execute_result"
    }
   ],
   "source": [
    "res = []\n",
    "for val in icgc:\n",
    "    val = pd.read_csv(val, sep='\\t')\n",
    "    print(set(val['platform']), set(val['gene_model']), set(val['experimental_protocol']), set(val['assembly_version']), set(val['alignment_algorithm']), set(val['normalization_algorithm']))\n",
    "    res.append(pd.concat([val.loc[val['icgc_sample_id']==i, ['gene_id', 'normalized_read_count']].set_index('gene_id').rename(columns={'normalized_read_count':i}) for i in list(set(val['icgc_sample_id']))], axis=1))\n",
    "icgc = pd.concat(res, axis=1)"
   ]
  },
  {
   "cell_type": "code",
   "execution_count": 49,
   "metadata": {
    "ExecuteTime": {
     "end_time": "2021-11-10T12:14:26.539030Z",
     "start_time": "2021-11-10T12:14:26.505422Z"
    },
    "scrolled": true
   },
   "outputs": [
    {
     "data": {
      "text/plain": [
       "Index(['project_code', 'study_donor_involved_in', 'submitted_donor_id',\n",
       "       'donor_sex', 'donor_vital_status', 'disease_status_last_followup',\n",
       "       'donor_relapse_type', 'donor_age_at_diagnosis',\n",
       "       'donor_age_at_enrollment', 'donor_age_at_last_followup',\n",
       "       'donor_relapse_interval', 'donor_diagnosis_icd10',\n",
       "       'donor_tumour_staging_system_at_diagnosis',\n",
       "       'donor_tumour_stage_at_diagnosis',\n",
       "       'donor_tumour_stage_at_diagnosis_supplemental', 'donor_survival_time',\n",
       "       'donor_interval_of_last_followup', 'prior_malignancy',\n",
       "       'cancer_type_prior_malignancy', 'cancer_history_first_degree_relative'],\n",
       "      dtype='object')"
      ]
     },
     "execution_count": 49,
     "metadata": {},
     "output_type": "execute_result"
    }
   ],
   "source": [
    "donor = pd.read_csv(\"data/donor.tsv\", sep=\"\\t\", index_col=0)\n",
    "donor.columns"
   ]
  },
  {
   "cell_type": "code",
   "execution_count": 51,
   "metadata": {
    "ExecuteTime": {
     "end_time": "2021-11-10T12:15:15.529464Z",
     "start_time": "2021-11-10T12:15:15.494478Z"
    }
   },
   "outputs": [],
   "source": [
    "more = pd.read_csv('data/donors_more_csv', index_col=0)\n",
    "donor.loc[more.index, 'Primary Site'] = more['Primary Site']"
   ]
  },
  {
   "cell_type": "code",
   "execution_count": 52,
   "metadata": {
    "ExecuteTime": {
     "end_time": "2021-11-10T12:15:22.730770Z",
     "start_time": "2021-11-10T12:15:22.692992Z"
    }
   },
   "outputs": [],
   "source": [
    "donor = donor[[\"donor_sex\", \"donor_relapse_type\", \"donor_age_at_enrollment\", \"donor_diagnosis_icd10\", \"donor_tumour_stage_at_diagnosis\", 'Primary Site']]"
   ]
  },
  {
   "cell_type": "code",
   "execution_count": 53,
   "metadata": {
    "ExecuteTime": {
     "end_time": "2021-11-10T12:15:26.066088Z",
     "start_time": "2021-11-10T12:15:25.982415Z"
    }
   },
   "outputs": [
    {
     "data": {
      "text/plain": [
       "project_code                                                                     CLLE-ES\n",
       "study_specimen_involved_in                                                           NaN\n",
       "submitted_specimen_id                                                      060-0123-01TD\n",
       "icgc_donor_id                                                                    DO51966\n",
       "submitted_donor_id                                                                    60\n",
       "specimen_type                          Primary tumour - blood derived (peripheral blood)\n",
       "specimen_type_other                                                                  NaN\n",
       "specimen_interval                                                                 3586.0\n",
       "specimen_donor_treatment_type                                               no treatment\n",
       "specimen_donor_treatment_type_other                                                  NaN\n",
       "specimen_processing                                                                fresh\n",
       "specimen_processing_other                                                            NaN\n",
       "specimen_storage                                                     frozen, -70 freezer\n",
       "specimen_storage_other                                                               NaN\n",
       "tumour_confirmed                                                                      no\n",
       "specimen_biobank                                                                     NaN\n",
       "specimen_biobank_id                                                                  NaN\n",
       "specimen_available                                                                   NaN\n",
       "tumour_histological_type                                                             NaN\n",
       "tumour_grading_system                                                                NaN\n",
       "tumour_grade                                                                         NaN\n",
       "tumour_grade_supplemental                                                            NaN\n",
       "tumour_stage_system                                                                BINET\n",
       "tumour_stage                                                                           3\n",
       "tumour_stage_supplemental                                                            NaN\n",
       "digital_image_of_stained_section                                                     NaN\n",
       "percentage_cellularity                                                               NaN\n",
       "level_of_cellularity                                                                 NaN\n",
       "Name: SP130360, dtype: object"
      ]
     },
     "execution_count": 53,
     "metadata": {},
     "output_type": "execute_result"
    }
   ],
   "source": [
    "specimen = pd.read_csv(\"data/specimen.tsv\", sep=\"\\t\", index_col=0)\n",
    "specimen.iloc[0]"
   ]
  },
  {
   "cell_type": "code",
   "execution_count": 54,
   "metadata": {
    "ExecuteTime": {
     "end_time": "2021-11-10T12:15:28.635528Z",
     "start_time": "2021-11-10T12:15:28.611864Z"
    }
   },
   "outputs": [],
   "source": [
    "specimen = specimen[[\"icgc_donor_id\", \"specimen_type\", \"specimen_storage\", \"specimen_processing\"]]"
   ]
  },
  {
   "cell_type": "code",
   "execution_count": 55,
   "metadata": {
    "ExecuteTime": {
     "end_time": "2021-11-10T12:15:38.621746Z",
     "start_time": "2021-11-10T12:15:30.903714Z"
    }
   },
   "outputs": [],
   "source": [
    "for i, val in specimen.iterrows():\n",
    "    specimen.loc[i, donor.columns] = donor.loc[val.icgc_donor_id].values "
   ]
  },
  {
   "cell_type": "code",
   "execution_count": 59,
   "metadata": {
    "ExecuteTime": {
     "end_time": "2021-11-10T12:17:29.802395Z",
     "start_time": "2021-11-10T12:17:29.750698Z"
    },
    "scrolled": true
   },
   "outputs": [
    {
     "data": {
      "text/html": [
       "<div>\n",
       "<style scoped>\n",
       "    .dataframe tbody tr th:only-of-type {\n",
       "        vertical-align: middle;\n",
       "    }\n",
       "\n",
       "    .dataframe tbody tr th {\n",
       "        vertical-align: top;\n",
       "    }\n",
       "\n",
       "    .dataframe thead th {\n",
       "        text-align: right;\n",
       "    }\n",
       "</style>\n",
       "<table border=\"1\" class=\"dataframe\">\n",
       "  <thead>\n",
       "    <tr style=\"text-align: right;\">\n",
       "      <th></th>\n",
       "      <th>project_code</th>\n",
       "      <th>submitted_sample_id</th>\n",
       "      <th>icgc_specimen_id</th>\n",
       "      <th>submitted_specimen_id</th>\n",
       "      <th>icgc_donor_id</th>\n",
       "      <th>submitted_donor_id</th>\n",
       "      <th>analyzed_sample_interval</th>\n",
       "      <th>percentage_cellularity</th>\n",
       "      <th>level_of_cellularity</th>\n",
       "      <th>study</th>\n",
       "    </tr>\n",
       "    <tr>\n",
       "      <th>icgc_sample_id</th>\n",
       "      <th></th>\n",
       "      <th></th>\n",
       "      <th></th>\n",
       "      <th></th>\n",
       "      <th></th>\n",
       "      <th></th>\n",
       "      <th></th>\n",
       "      <th></th>\n",
       "      <th></th>\n",
       "      <th></th>\n",
       "    </tr>\n",
       "  </thead>\n",
       "  <tbody>\n",
       "    <tr>\n",
       "      <th>SA564770</th>\n",
       "      <td>CLLE-ES</td>\n",
       "      <td>060-0123-01TD</td>\n",
       "      <td>SP130360</td>\n",
       "      <td>060-0123-01TD</td>\n",
       "      <td>DO51966</td>\n",
       "      <td>60</td>\n",
       "      <td>315.0</td>\n",
       "      <td>97.0</td>\n",
       "      <td>NaN</td>\n",
       "      <td>NaN</td>\n",
       "    </tr>\n",
       "    <tr>\n",
       "      <th>SA564151</th>\n",
       "      <td>CLLE-ES</td>\n",
       "      <td>060-01-2ND</td>\n",
       "      <td>SP130410</td>\n",
       "      <td>060-01-2ND</td>\n",
       "      <td>DO51966</td>\n",
       "      <td>60</td>\n",
       "      <td>NaN</td>\n",
       "      <td>98.0</td>\n",
       "      <td>NaN</td>\n",
       "      <td>NaN</td>\n",
       "    </tr>\n",
       "    <tr>\n",
       "      <th>SA602505</th>\n",
       "      <td>CLLE-ES</td>\n",
       "      <td>060-0123-02ND</td>\n",
       "      <td>SP199735</td>\n",
       "      <td>060-0123-02ND</td>\n",
       "      <td>DO51966</td>\n",
       "      <td>60</td>\n",
       "      <td>NaN</td>\n",
       "      <td>NaN</td>\n",
       "      <td>NaN</td>\n",
       "      <td>NaN</td>\n",
       "    </tr>\n",
       "    <tr>\n",
       "      <th>SA564150</th>\n",
       "      <td>CLLE-ES</td>\n",
       "      <td>060-02-01ND</td>\n",
       "      <td>SP130409</td>\n",
       "      <td>060-02-01ND</td>\n",
       "      <td>DO51966</td>\n",
       "      <td>60</td>\n",
       "      <td>NaN</td>\n",
       "      <td>99.0</td>\n",
       "      <td>NaN</td>\n",
       "      <td>NaN</td>\n",
       "    </tr>\n",
       "    <tr>\n",
       "      <th>SA538928</th>\n",
       "      <td>CLLE-ES</td>\n",
       "      <td>060-0123-03TR</td>\n",
       "      <td>SP114999</td>\n",
       "      <td>060-0123-03TR</td>\n",
       "      <td>DO51966</td>\n",
       "      <td>60</td>\n",
       "      <td>315.0</td>\n",
       "      <td>NaN</td>\n",
       "      <td>NaN</td>\n",
       "      <td>NaN</td>\n",
       "    </tr>\n",
       "    <tr>\n",
       "      <th>...</th>\n",
       "      <td>...</td>\n",
       "      <td>...</td>\n",
       "      <td>...</td>\n",
       "      <td>...</td>\n",
       "      <td>...</td>\n",
       "      <td>...</td>\n",
       "      <td>...</td>\n",
       "      <td>...</td>\n",
       "      <td>...</td>\n",
       "      <td>...</td>\n",
       "    </tr>\n",
       "    <tr>\n",
       "      <th>SA607197</th>\n",
       "      <td>BPLL-FR</td>\n",
       "      <td>14_3</td>\n",
       "      <td>SP202799</td>\n",
       "      <td>B-PLL_32_tumor</td>\n",
       "      <td>DO233963</td>\n",
       "      <td>B-PLL_32</td>\n",
       "      <td>NaN</td>\n",
       "      <td>NaN</td>\n",
       "      <td>NaN</td>\n",
       "      <td>NaN</td>\n",
       "    </tr>\n",
       "    <tr>\n",
       "      <th>SA607150</th>\n",
       "      <td>BPLL-FR</td>\n",
       "      <td>14_2</td>\n",
       "      <td>SP202986</td>\n",
       "      <td>B-PLL_32_control</td>\n",
       "      <td>DO233963</td>\n",
       "      <td>B-PLL_32</td>\n",
       "      <td>NaN</td>\n",
       "      <td>NaN</td>\n",
       "      <td>NaN</td>\n",
       "      <td>NaN</td>\n",
       "    </tr>\n",
       "    <tr>\n",
       "      <th>SA538993</th>\n",
       "      <td>CLLE-ES</td>\n",
       "      <td>356-01-8ND</td>\n",
       "      <td>SP115086</td>\n",
       "      <td>356-01-8ND</td>\n",
       "      <td>DO7084</td>\n",
       "      <td>356</td>\n",
       "      <td>NaN</td>\n",
       "      <td>100.0</td>\n",
       "      <td>NaN</td>\n",
       "      <td>PCAWG</td>\n",
       "    </tr>\n",
       "    <tr>\n",
       "      <th>SA86542</th>\n",
       "      <td>CLLE-ES</td>\n",
       "      <td>356-01-4TR</td>\n",
       "      <td>SP15992</td>\n",
       "      <td>356-01-4TR</td>\n",
       "      <td>DO7084</td>\n",
       "      <td>356</td>\n",
       "      <td>7.0</td>\n",
       "      <td>95.0</td>\n",
       "      <td>NaN</td>\n",
       "      <td>PCAWG</td>\n",
       "    </tr>\n",
       "    <tr>\n",
       "      <th>SA538992</th>\n",
       "      <td>CLLE-ES</td>\n",
       "      <td>356-01-3TD</td>\n",
       "      <td>SP115085</td>\n",
       "      <td>356-01-3TD</td>\n",
       "      <td>DO7084</td>\n",
       "      <td>356</td>\n",
       "      <td>15.0</td>\n",
       "      <td>95.0</td>\n",
       "      <td>NaN</td>\n",
       "      <td>PCAWG</td>\n",
       "    </tr>\n",
       "  </tbody>\n",
       "</table>\n",
       "<p>5049 rows × 10 columns</p>\n",
       "</div>"
      ],
      "text/plain": [
       "               project_code submitted_sample_id icgc_specimen_id  \\\n",
       "icgc_sample_id                                                     \n",
       "SA564770            CLLE-ES       060-0123-01TD         SP130360   \n",
       "SA564151            CLLE-ES          060-01-2ND         SP130410   \n",
       "SA602505            CLLE-ES       060-0123-02ND         SP199735   \n",
       "SA564150            CLLE-ES         060-02-01ND         SP130409   \n",
       "SA538928            CLLE-ES       060-0123-03TR         SP114999   \n",
       "...                     ...                 ...              ...   \n",
       "SA607197            BPLL-FR                14_3         SP202799   \n",
       "SA607150            BPLL-FR                14_2         SP202986   \n",
       "SA538993            CLLE-ES          356-01-8ND         SP115086   \n",
       "SA86542             CLLE-ES          356-01-4TR          SP15992   \n",
       "SA538992            CLLE-ES          356-01-3TD         SP115085   \n",
       "\n",
       "               submitted_specimen_id icgc_donor_id submitted_donor_id  \\\n",
       "icgc_sample_id                                                          \n",
       "SA564770               060-0123-01TD       DO51966                 60   \n",
       "SA564151                  060-01-2ND       DO51966                 60   \n",
       "SA602505               060-0123-02ND       DO51966                 60   \n",
       "SA564150                 060-02-01ND       DO51966                 60   \n",
       "SA538928               060-0123-03TR       DO51966                 60   \n",
       "...                              ...           ...                ...   \n",
       "SA607197              B-PLL_32_tumor      DO233963           B-PLL_32   \n",
       "SA607150            B-PLL_32_control      DO233963           B-PLL_32   \n",
       "SA538993                  356-01-8ND        DO7084                356   \n",
       "SA86542                   356-01-4TR        DO7084                356   \n",
       "SA538992                  356-01-3TD        DO7084                356   \n",
       "\n",
       "                analyzed_sample_interval  percentage_cellularity  \\\n",
       "icgc_sample_id                                                     \n",
       "SA564770                           315.0                    97.0   \n",
       "SA564151                             NaN                    98.0   \n",
       "SA602505                             NaN                     NaN   \n",
       "SA564150                             NaN                    99.0   \n",
       "SA538928                           315.0                     NaN   \n",
       "...                                  ...                     ...   \n",
       "SA607197                             NaN                     NaN   \n",
       "SA607150                             NaN                     NaN   \n",
       "SA538993                             NaN                   100.0   \n",
       "SA86542                              7.0                    95.0   \n",
       "SA538992                            15.0                    95.0   \n",
       "\n",
       "               level_of_cellularity  study  \n",
       "icgc_sample_id                              \n",
       "SA564770                        NaN    NaN  \n",
       "SA564151                        NaN    NaN  \n",
       "SA602505                        NaN    NaN  \n",
       "SA564150                        NaN    NaN  \n",
       "SA538928                        NaN    NaN  \n",
       "...                             ...    ...  \n",
       "SA607197                        NaN    NaN  \n",
       "SA607150                        NaN    NaN  \n",
       "SA538993                        NaN  PCAWG  \n",
       "SA86542                         NaN  PCAWG  \n",
       "SA538992                        NaN  PCAWG  \n",
       "\n",
       "[5049 rows x 10 columns]"
      ]
     },
     "execution_count": 59,
     "metadata": {},
     "output_type": "execute_result"
    }
   ],
   "source": [
    "sample = pd.read_csv(\"data/sample.tsv\", sep=\"\\t\", index_col=0)\n",
    "sample"
   ]
  },
  {
   "cell_type": "code",
   "execution_count": 60,
   "metadata": {
    "ExecuteTime": {
     "end_time": "2021-11-10T12:17:34.774032Z",
     "start_time": "2021-11-10T12:17:34.748169Z"
    }
   },
   "outputs": [],
   "source": [
    "icgcann = sample[['project_code', 'submitted_sample_id', 'icgc_specimen_id', 'percentage_cellularity']]"
   ]
  },
  {
   "cell_type": "code",
   "execution_count": 62,
   "metadata": {
    "ExecuteTime": {
     "end_time": "2021-11-10T12:18:46.346165Z",
     "start_time": "2021-11-10T12:18:31.306785Z"
    },
    "scrolled": true
   },
   "outputs": [
    {
     "name": "stderr",
     "output_type": "stream",
     "text": [
      "/home/jeremie/miniconda3/envs/gae/lib/python3.8/site-packages/pandas/core/indexing.py:1797: SettingWithCopyWarning: \n",
      "A value is trying to be set on a copy of a slice from a DataFrame.\n",
      "Try using .loc[row_indexer,col_indexer] = value instead\n",
      "\n",
      "See the caveats in the documentation: https://pandas.pydata.org/pandas-docs/stable/user_guide/indexing.html#returning-a-view-versus-a-copy\n",
      "  self._setitem_single_column(loc, v, pi)\n"
     ]
    }
   ],
   "source": [
    "for i, val in icgcann.iterrows():\n",
    "    icgcann.loc[i, specimen.columns] = specimen.loc[val.icgc_specimen_id]"
   ]
  },
  {
   "cell_type": "code",
   "execution_count": null,
   "metadata": {},
   "outputs": [],
   "source": [
    "icgcann['sequencer'] = \"\" # missing\n",
    "icgcann['method'] = \"bulk\"\n",
    "icgcann['reference']= \"hg38\"\n",
    "icgcann['ends']=\"paired end\""
   ]
  },
  {
   "cell_type": "markdown",
   "metadata": {},
   "source": [
    "## st jude"
   ]
  },
  {
   "cell_type": "code",
   "execution_count": null,
   "metadata": {},
   "outputs": [],
   "source": [
    "pd.read_csv('') # 40,000 x 3500\n"
   ]
  },
  {
   "cell_type": "code",
   "execution_count": null,
   "metadata": {},
   "outputs": [],
   "source": []
  },
  {
   "cell_type": "markdown",
   "metadata": {},
   "source": [
    "## NCI 60"
   ]
  },
  {
   "cell_type": "code",
   "execution_count": null,
   "metadata": {},
   "outputs": [],
   "source": []
  },
  {
   "cell_type": "markdown",
   "metadata": {},
   "source": [
    "## tumor cell atlas"
   ]
  },
  {
   "cell_type": "code",
   "execution_count": null,
   "metadata": {},
   "outputs": [],
   "source": []
  },
  {
   "cell_type": "markdown",
   "metadata": {},
   "source": [
    "## other random datasets from SRA"
   ]
  },
  {
   "cell_type": "code",
   "execution_count": null,
   "metadata": {},
   "outputs": [],
   "source": []
  },
  {
   "cell_type": "markdown",
   "metadata": {},
   "source": [
    "## DUOS datasets"
   ]
  },
  {
   "cell_type": "code",
   "execution_count": null,
   "metadata": {},
   "outputs": [],
   "source": [
    "#https://duos.broadinstitute.org/dataset_catalog"
   ]
  },
  {
   "cell_type": "markdown",
   "metadata": {},
   "source": [
    "## hartwig"
   ]
  },
  {
   "cell_type": "code",
   "execution_count": null,
   "metadata": {},
   "outputs": [],
   "source": []
  },
  {
   "cell_type": "markdown",
   "metadata": {},
   "source": [
    "## Pancreas from Sri"
   ]
  },
  {
   "cell_type": "code",
   "execution_count": null,
   "metadata": {},
   "outputs": [],
   "source": []
  },
  {
   "cell_type": "markdown",
   "metadata": {},
   "source": [
    "## Neurosphere from Keith"
   ]
  },
  {
   "cell_type": "code",
   "execution_count": null,
   "metadata": {},
   "outputs": [],
   "source": []
  },
  {
   "cell_type": "markdown",
   "metadata": {},
   "source": [
    "## EBI"
   ]
  },
  {
   "cell_type": "code",
   "execution_count": null,
   "metadata": {},
   "outputs": [],
   "source": []
  },
  {
   "cell_type": "markdown",
   "metadata": {},
   "source": [
    "# QC"
   ]
  },
  {
   "cell_type": "markdown",
   "metadata": {
    "ExecuteTime": {
     "end_time": "2021-10-08T21:46:14.942803Z",
     "start_time": "2021-10-08T21:46:14.939955Z"
    }
   },
   "source": [
    "## compute correlation\n",
    "\n",
    "- find unknown duplicates\n",
    "- find problematic duplicates"
   ]
  },
  {
   "cell_type": "code",
   "execution_count": 204,
   "metadata": {
    "ExecuteTime": {
     "end_time": "2021-11-29T22:06:10.123256Z",
     "start_time": "2021-11-29T22:06:10.099760Z"
    }
   },
   "outputs": [],
   "source": [
    "import seaborn as sns"
   ]
  },
  {
   "cell_type": "code",
   "execution_count": 208,
   "metadata": {
    "ExecuteTime": {
     "end_time": "2021-11-29T22:09:34.503465Z",
     "start_time": "2021-11-29T22:08:28.089459Z"
    }
   },
   "outputs": [
    {
     "data": {
      "text/html": [
       "<div>\n",
       "<style scoped>\n",
       "    .dataframe tbody tr th:only-of-type {\n",
       "        vertical-align: middle;\n",
       "    }\n",
       "\n",
       "    .dataframe tbody tr th {\n",
       "        vertical-align: top;\n",
       "    }\n",
       "\n",
       "    .dataframe thead th {\n",
       "        text-align: right;\n",
       "    }\n",
       "</style>\n",
       "<table border=\"1\" class=\"dataframe\">\n",
       "  <thead>\n",
       "    <tr style=\"text-align: right;\">\n",
       "      <th></th>\n",
       "      <th>ENSG00000000003</th>\n",
       "      <th>ENSG00000000005</th>\n",
       "      <th>ENSG00000000419</th>\n",
       "      <th>ENSG00000000457</th>\n",
       "      <th>ENSG00000000460</th>\n",
       "      <th>ENSG00000000938</th>\n",
       "      <th>ENSG00000000971</th>\n",
       "      <th>ENSG00000001036</th>\n",
       "      <th>ENSG00000001084</th>\n",
       "      <th>ENSG00000001167</th>\n",
       "      <th>...</th>\n",
       "      <th>THR39_1369_S01</th>\n",
       "      <th>THR39_1370_S01</th>\n",
       "      <th>THR39_1371_S01</th>\n",
       "      <th>THR39_1372_S01</th>\n",
       "      <th>THR39_1373_S01</th>\n",
       "      <th>THR39_1374_S01</th>\n",
       "      <th>THR39_1375_S01</th>\n",
       "      <th>THR39_1376_S01</th>\n",
       "      <th>THR39_1377_S01</th>\n",
       "      <th>THR39_1378_S01</th>\n",
       "    </tr>\n",
       "  </thead>\n",
       "  <tbody>\n",
       "    <tr>\n",
       "      <th>ACH-000001</th>\n",
       "      <td>NaN</td>\n",
       "      <td>NaN</td>\n",
       "      <td>NaN</td>\n",
       "      <td>NaN</td>\n",
       "      <td>NaN</td>\n",
       "      <td>NaN</td>\n",
       "      <td>NaN</td>\n",
       "      <td>NaN</td>\n",
       "      <td>NaN</td>\n",
       "      <td>NaN</td>\n",
       "      <td>...</td>\n",
       "      <td>NaN</td>\n",
       "      <td>NaN</td>\n",
       "      <td>NaN</td>\n",
       "      <td>NaN</td>\n",
       "      <td>NaN</td>\n",
       "      <td>NaN</td>\n",
       "      <td>NaN</td>\n",
       "      <td>NaN</td>\n",
       "      <td>NaN</td>\n",
       "      <td>NaN</td>\n",
       "    </tr>\n",
       "    <tr>\n",
       "      <th>ACH-000002</th>\n",
       "      <td>NaN</td>\n",
       "      <td>NaN</td>\n",
       "      <td>NaN</td>\n",
       "      <td>NaN</td>\n",
       "      <td>NaN</td>\n",
       "      <td>NaN</td>\n",
       "      <td>NaN</td>\n",
       "      <td>NaN</td>\n",
       "      <td>NaN</td>\n",
       "      <td>NaN</td>\n",
       "      <td>...</td>\n",
       "      <td>NaN</td>\n",
       "      <td>NaN</td>\n",
       "      <td>NaN</td>\n",
       "      <td>NaN</td>\n",
       "      <td>NaN</td>\n",
       "      <td>NaN</td>\n",
       "      <td>NaN</td>\n",
       "      <td>NaN</td>\n",
       "      <td>NaN</td>\n",
       "      <td>NaN</td>\n",
       "    </tr>\n",
       "    <tr>\n",
       "      <th>ACH-000003</th>\n",
       "      <td>NaN</td>\n",
       "      <td>NaN</td>\n",
       "      <td>NaN</td>\n",
       "      <td>NaN</td>\n",
       "      <td>NaN</td>\n",
       "      <td>NaN</td>\n",
       "      <td>NaN</td>\n",
       "      <td>NaN</td>\n",
       "      <td>NaN</td>\n",
       "      <td>NaN</td>\n",
       "      <td>...</td>\n",
       "      <td>NaN</td>\n",
       "      <td>NaN</td>\n",
       "      <td>NaN</td>\n",
       "      <td>NaN</td>\n",
       "      <td>NaN</td>\n",
       "      <td>NaN</td>\n",
       "      <td>NaN</td>\n",
       "      <td>NaN</td>\n",
       "      <td>NaN</td>\n",
       "      <td>NaN</td>\n",
       "    </tr>\n",
       "    <tr>\n",
       "      <th>ACH-000004</th>\n",
       "      <td>NaN</td>\n",
       "      <td>NaN</td>\n",
       "      <td>NaN</td>\n",
       "      <td>NaN</td>\n",
       "      <td>NaN</td>\n",
       "      <td>NaN</td>\n",
       "      <td>NaN</td>\n",
       "      <td>NaN</td>\n",
       "      <td>NaN</td>\n",
       "      <td>NaN</td>\n",
       "      <td>...</td>\n",
       "      <td>NaN</td>\n",
       "      <td>NaN</td>\n",
       "      <td>NaN</td>\n",
       "      <td>NaN</td>\n",
       "      <td>NaN</td>\n",
       "      <td>NaN</td>\n",
       "      <td>NaN</td>\n",
       "      <td>NaN</td>\n",
       "      <td>NaN</td>\n",
       "      <td>NaN</td>\n",
       "    </tr>\n",
       "    <tr>\n",
       "      <th>ACH-000005</th>\n",
       "      <td>NaN</td>\n",
       "      <td>NaN</td>\n",
       "      <td>NaN</td>\n",
       "      <td>NaN</td>\n",
       "      <td>NaN</td>\n",
       "      <td>NaN</td>\n",
       "      <td>NaN</td>\n",
       "      <td>NaN</td>\n",
       "      <td>NaN</td>\n",
       "      <td>NaN</td>\n",
       "      <td>...</td>\n",
       "      <td>NaN</td>\n",
       "      <td>NaN</td>\n",
       "      <td>NaN</td>\n",
       "      <td>NaN</td>\n",
       "      <td>NaN</td>\n",
       "      <td>NaN</td>\n",
       "      <td>NaN</td>\n",
       "      <td>NaN</td>\n",
       "      <td>NaN</td>\n",
       "      <td>NaN</td>\n",
       "    </tr>\n",
       "    <tr>\n",
       "      <th>...</th>\n",
       "      <td>...</td>\n",
       "      <td>...</td>\n",
       "      <td>...</td>\n",
       "      <td>...</td>\n",
       "      <td>...</td>\n",
       "      <td>...</td>\n",
       "      <td>...</td>\n",
       "      <td>...</td>\n",
       "      <td>...</td>\n",
       "      <td>...</td>\n",
       "      <td>...</td>\n",
       "      <td>...</td>\n",
       "      <td>...</td>\n",
       "      <td>...</td>\n",
       "      <td>...</td>\n",
       "      <td>...</td>\n",
       "      <td>...</td>\n",
       "      <td>...</td>\n",
       "      <td>...</td>\n",
       "      <td>...</td>\n",
       "      <td>...</td>\n",
       "    </tr>\n",
       "    <tr>\n",
       "      <th>ENSG00000284873</th>\n",
       "      <td>NaN</td>\n",
       "      <td>NaN</td>\n",
       "      <td>NaN</td>\n",
       "      <td>NaN</td>\n",
       "      <td>NaN</td>\n",
       "      <td>NaN</td>\n",
       "      <td>NaN</td>\n",
       "      <td>NaN</td>\n",
       "      <td>NaN</td>\n",
       "      <td>NaN</td>\n",
       "      <td>...</td>\n",
       "      <td>NaN</td>\n",
       "      <td>NaN</td>\n",
       "      <td>NaN</td>\n",
       "      <td>NaN</td>\n",
       "      <td>NaN</td>\n",
       "      <td>NaN</td>\n",
       "      <td>NaN</td>\n",
       "      <td>NaN</td>\n",
       "      <td>NaN</td>\n",
       "      <td>NaN</td>\n",
       "    </tr>\n",
       "    <tr>\n",
       "      <th>ENSG00000284892</th>\n",
       "      <td>NaN</td>\n",
       "      <td>NaN</td>\n",
       "      <td>NaN</td>\n",
       "      <td>NaN</td>\n",
       "      <td>NaN</td>\n",
       "      <td>NaN</td>\n",
       "      <td>NaN</td>\n",
       "      <td>NaN</td>\n",
       "      <td>NaN</td>\n",
       "      <td>NaN</td>\n",
       "      <td>...</td>\n",
       "      <td>NaN</td>\n",
       "      <td>NaN</td>\n",
       "      <td>NaN</td>\n",
       "      <td>NaN</td>\n",
       "      <td>NaN</td>\n",
       "      <td>NaN</td>\n",
       "      <td>NaN</td>\n",
       "      <td>NaN</td>\n",
       "      <td>NaN</td>\n",
       "      <td>NaN</td>\n",
       "    </tr>\n",
       "    <tr>\n",
       "      <th>ENSG00000285077</th>\n",
       "      <td>NaN</td>\n",
       "      <td>NaN</td>\n",
       "      <td>NaN</td>\n",
       "      <td>NaN</td>\n",
       "      <td>NaN</td>\n",
       "      <td>NaN</td>\n",
       "      <td>NaN</td>\n",
       "      <td>NaN</td>\n",
       "      <td>NaN</td>\n",
       "      <td>NaN</td>\n",
       "      <td>...</td>\n",
       "      <td>NaN</td>\n",
       "      <td>NaN</td>\n",
       "      <td>NaN</td>\n",
       "      <td>NaN</td>\n",
       "      <td>NaN</td>\n",
       "      <td>NaN</td>\n",
       "      <td>NaN</td>\n",
       "      <td>NaN</td>\n",
       "      <td>NaN</td>\n",
       "      <td>NaN</td>\n",
       "    </tr>\n",
       "    <tr>\n",
       "      <th>ENSG00000285135</th>\n",
       "      <td>NaN</td>\n",
       "      <td>NaN</td>\n",
       "      <td>NaN</td>\n",
       "      <td>NaN</td>\n",
       "      <td>NaN</td>\n",
       "      <td>NaN</td>\n",
       "      <td>NaN</td>\n",
       "      <td>NaN</td>\n",
       "      <td>NaN</td>\n",
       "      <td>NaN</td>\n",
       "      <td>...</td>\n",
       "      <td>NaN</td>\n",
       "      <td>NaN</td>\n",
       "      <td>NaN</td>\n",
       "      <td>NaN</td>\n",
       "      <td>NaN</td>\n",
       "      <td>NaN</td>\n",
       "      <td>NaN</td>\n",
       "      <td>NaN</td>\n",
       "      <td>NaN</td>\n",
       "      <td>NaN</td>\n",
       "    </tr>\n",
       "    <tr>\n",
       "      <th>ENSG00000285230</th>\n",
       "      <td>NaN</td>\n",
       "      <td>NaN</td>\n",
       "      <td>NaN</td>\n",
       "      <td>NaN</td>\n",
       "      <td>NaN</td>\n",
       "      <td>NaN</td>\n",
       "      <td>NaN</td>\n",
       "      <td>NaN</td>\n",
       "      <td>NaN</td>\n",
       "      <td>NaN</td>\n",
       "      <td>...</td>\n",
       "      <td>NaN</td>\n",
       "      <td>NaN</td>\n",
       "      <td>NaN</td>\n",
       "      <td>NaN</td>\n",
       "      <td>NaN</td>\n",
       "      <td>NaN</td>\n",
       "      <td>NaN</td>\n",
       "      <td>NaN</td>\n",
       "      <td>NaN</td>\n",
       "      <td>NaN</td>\n",
       "    </tr>\n",
       "  </tbody>\n",
       "</table>\n",
       "<p>31054 rows × 41879 columns</p>\n",
       "</div>"
      ],
      "text/plain": [
       "                 ENSG00000000003  ENSG00000000005  ENSG00000000419  \\\n",
       "ACH-000001                   NaN              NaN              NaN   \n",
       "ACH-000002                   NaN              NaN              NaN   \n",
       "ACH-000003                   NaN              NaN              NaN   \n",
       "ACH-000004                   NaN              NaN              NaN   \n",
       "ACH-000005                   NaN              NaN              NaN   \n",
       "...                          ...              ...              ...   \n",
       "ENSG00000284873              NaN              NaN              NaN   \n",
       "ENSG00000284892              NaN              NaN              NaN   \n",
       "ENSG00000285077              NaN              NaN              NaN   \n",
       "ENSG00000285135              NaN              NaN              NaN   \n",
       "ENSG00000285230              NaN              NaN              NaN   \n",
       "\n",
       "                 ENSG00000000457  ENSG00000000460  ENSG00000000938  \\\n",
       "ACH-000001                   NaN              NaN              NaN   \n",
       "ACH-000002                   NaN              NaN              NaN   \n",
       "ACH-000003                   NaN              NaN              NaN   \n",
       "ACH-000004                   NaN              NaN              NaN   \n",
       "ACH-000005                   NaN              NaN              NaN   \n",
       "...                          ...              ...              ...   \n",
       "ENSG00000284873              NaN              NaN              NaN   \n",
       "ENSG00000284892              NaN              NaN              NaN   \n",
       "ENSG00000285077              NaN              NaN              NaN   \n",
       "ENSG00000285135              NaN              NaN              NaN   \n",
       "ENSG00000285230              NaN              NaN              NaN   \n",
       "\n",
       "                 ENSG00000000971  ENSG00000001036  ENSG00000001084  \\\n",
       "ACH-000001                   NaN              NaN              NaN   \n",
       "ACH-000002                   NaN              NaN              NaN   \n",
       "ACH-000003                   NaN              NaN              NaN   \n",
       "ACH-000004                   NaN              NaN              NaN   \n",
       "ACH-000005                   NaN              NaN              NaN   \n",
       "...                          ...              ...              ...   \n",
       "ENSG00000284873              NaN              NaN              NaN   \n",
       "ENSG00000284892              NaN              NaN              NaN   \n",
       "ENSG00000285077              NaN              NaN              NaN   \n",
       "ENSG00000285135              NaN              NaN              NaN   \n",
       "ENSG00000285230              NaN              NaN              NaN   \n",
       "\n",
       "                 ENSG00000001167  ...  THR39_1369_S01  THR39_1370_S01  \\\n",
       "ACH-000001                   NaN  ...             NaN             NaN   \n",
       "ACH-000002                   NaN  ...             NaN             NaN   \n",
       "ACH-000003                   NaN  ...             NaN             NaN   \n",
       "ACH-000004                   NaN  ...             NaN             NaN   \n",
       "ACH-000005                   NaN  ...             NaN             NaN   \n",
       "...                          ...  ...             ...             ...   \n",
       "ENSG00000284873              NaN  ...             NaN             NaN   \n",
       "ENSG00000284892              NaN  ...             NaN             NaN   \n",
       "ENSG00000285077              NaN  ...             NaN             NaN   \n",
       "ENSG00000285135              NaN  ...             NaN             NaN   \n",
       "ENSG00000285230              NaN  ...             NaN             NaN   \n",
       "\n",
       "                 THR39_1371_S01  THR39_1372_S01  THR39_1373_S01  \\\n",
       "ACH-000001                  NaN             NaN             NaN   \n",
       "ACH-000002                  NaN             NaN             NaN   \n",
       "ACH-000003                  NaN             NaN             NaN   \n",
       "ACH-000004                  NaN             NaN             NaN   \n",
       "ACH-000005                  NaN             NaN             NaN   \n",
       "...                         ...             ...             ...   \n",
       "ENSG00000284873             NaN             NaN             NaN   \n",
       "ENSG00000284892             NaN             NaN             NaN   \n",
       "ENSG00000285077             NaN             NaN             NaN   \n",
       "ENSG00000285135             NaN             NaN             NaN   \n",
       "ENSG00000285230             NaN             NaN             NaN   \n",
       "\n",
       "                 THR39_1374_S01  THR39_1375_S01  THR39_1376_S01  \\\n",
       "ACH-000001                  NaN             NaN             NaN   \n",
       "ACH-000002                  NaN             NaN             NaN   \n",
       "ACH-000003                  NaN             NaN             NaN   \n",
       "ACH-000004                  NaN             NaN             NaN   \n",
       "ACH-000005                  NaN             NaN             NaN   \n",
       "...                         ...             ...             ...   \n",
       "ENSG00000284873             NaN             NaN             NaN   \n",
       "ENSG00000284892             NaN             NaN             NaN   \n",
       "ENSG00000285077             NaN             NaN             NaN   \n",
       "ENSG00000285135             NaN             NaN             NaN   \n",
       "ENSG00000285230             NaN             NaN             NaN   \n",
       "\n",
       "                 THR39_1377_S01  THR39_1378_S01  \n",
       "ACH-000001                  NaN             NaN  \n",
       "ACH-000002                  NaN             NaN  \n",
       "ACH-000003                  NaN             NaN  \n",
       "ACH-000004                  NaN             NaN  \n",
       "ACH-000005                  NaN             NaN  \n",
       "...                         ...             ...  \n",
       "ENSG00000284873             NaN             NaN  \n",
       "ENSG00000284892             NaN             NaN  \n",
       "ENSG00000285077             NaN             NaN  \n",
       "ENSG00000285135             NaN             NaN  \n",
       "ENSG00000285230             NaN             NaN  \n",
       "\n",
       "[31054 rows x 41879 columns]"
      ]
     },
     "execution_count": 208,
     "metadata": {},
     "output_type": "execute_result"
    }
   ],
   "source": [
    "CCLE_expression[overlap] * TCGA_expression[overlap].T"
   ]
  },
  {
   "cell_type": "code",
   "execution_count": null,
   "metadata": {
    "ExecuteTime": {
     "start_time": "2021-12-01T16:31:04.186Z"
    }
   },
   "outputs": [],
   "source": [
    "overlap = set(CCLE_expression.columns) & set(TCGA_expression.columns)\n",
    "val = pd.concat([CCLE_expression[overlap],TCGA_expression[overlap]])\n",
    "corr = val.corr()"
   ]
  },
  {
   "cell_type": "code",
   "execution_count": null,
   "metadata": {
    "ExecuteTime": {
     "start_time": "2021-12-01T18:12:53.475Z"
    }
   },
   "outputs": [],
   "source": [
    "from s"
   ]
  },
  {
   "cell_type": "code",
   "execution_count": null,
   "metadata": {},
   "outputs": [],
   "source": []
  },
  {
   "cell_type": "markdown",
   "metadata": {},
   "source": [
    "## analyse  annotation files\n",
    "\n",
    "- find mismatch annotations\n",
    "- add missing annotations, need: \n",
    "    - sequencer, \n",
    "    - expression_type, \n",
    "    - media, \n",
    "    - origin, \n",
    "    - tissue type,\n",
    "    - disease,\n",
    "    - sub_disease,\n",
    "    - cell type, \n",
    "    - group, \n",
    "    - sex, \n",
    "    - age, \n",
    "    - contamination\n",
    "    - organism\n",
    "- find good set of names for annotations"
   ]
  },
  {
   "cell_type": "code",
   "execution_count": null,
   "metadata": {
    "ExecuteTime": {
     "start_time": "2021-12-01T16:31:23.592Z"
    }
   },
   "outputs": [],
   "source": [
    "ann[['tissue_type', 'disease_type', 'cell_type']]"
   ]
  },
  {
   "cell_type": "code",
   "execution_count": 215,
   "metadata": {
    "ExecuteTime": {
     "end_time": "2021-11-29T22:13:27.589598Z",
     "start_time": "2021-11-29T22:13:27.534750Z"
    }
   },
   "outputs": [],
   "source": [
    "ann = ann[ann.columns[ann.isna().sum()<800]]"
   ]
  },
  {
   "cell_type": "code",
   "execution_count": 216,
   "metadata": {
    "ExecuteTime": {
     "end_time": "2021-11-29T22:15:05.901552Z",
     "start_time": "2021-11-29T22:15:01.924413Z"
    }
   },
   "outputs": [
    {
     "ename": "ValueError",
     "evalue": "Index of obs must match index of X.",
     "output_type": "error",
     "traceback": [
      "\u001b[0;31m---------------------------------------------------------------------------\u001b[0m",
      "\u001b[0;31mValueError\u001b[0m                                Traceback (most recent call last)",
      "\u001b[0;32m/tmp/ipykernel_13004/606824405.py\u001b[0m in \u001b[0;36m<module>\u001b[0;34m\u001b[0m\n\u001b[0;32m----> 1\u001b[0;31m \u001b[0mAnnData\u001b[0m\u001b[0;34m(\u001b[0m\u001b[0mX\u001b[0m\u001b[0;34m=\u001b[0m\u001b[0mpd\u001b[0m\u001b[0;34m.\u001b[0m\u001b[0mconcat\u001b[0m\u001b[0;34m(\u001b[0m\u001b[0;34m[\u001b[0m\u001b[0mCCLE_expression\u001b[0m\u001b[0;34m[\u001b[0m\u001b[0moverlap\u001b[0m\u001b[0;34m]\u001b[0m\u001b[0;34m,\u001b[0m\u001b[0mTCGA_expression\u001b[0m\u001b[0;34m[\u001b[0m\u001b[0moverlap\u001b[0m\u001b[0;34m]\u001b[0m\u001b[0;34m]\u001b[0m\u001b[0;34m)\u001b[0m\u001b[0;34m,\u001b[0m \u001b[0mobs\u001b[0m\u001b[0;34m=\u001b[0m\u001b[0mann\u001b[0m\u001b[0;34m)\u001b[0m\u001b[0;34m.\u001b[0m\u001b[0mwrite\u001b[0m\u001b[0;34m(\u001b[0m\u001b[0;34m'temp/celligner_multi.h5ad.gz'\u001b[0m\u001b[0;34m,\u001b[0m \u001b[0mcompression\u001b[0m\u001b[0;34m=\u001b[0m\u001b[0;34m'gzip'\u001b[0m\u001b[0;34m)\u001b[0m\u001b[0;34m\u001b[0m\u001b[0;34m\u001b[0m\u001b[0m\n\u001b[0m",
      "\u001b[0;32m~/miniconda3/envs/gae/lib/python3.8/site-packages/anndata/_core/anndata.py\u001b[0m in \u001b[0;36m__init__\u001b[0;34m(self, X, obs, var, uns, obsm, varm, layers, raw, dtype, shape, filename, filemode, asview, obsp, varp, oidx, vidx)\u001b[0m\n\u001b[1;32m    306\u001b[0m             \u001b[0mself\u001b[0m\u001b[0;34m.\u001b[0m\u001b[0m_init_as_view\u001b[0m\u001b[0;34m(\u001b[0m\u001b[0mX\u001b[0m\u001b[0;34m,\u001b[0m \u001b[0moidx\u001b[0m\u001b[0;34m,\u001b[0m \u001b[0mvidx\u001b[0m\u001b[0;34m)\u001b[0m\u001b[0;34m\u001b[0m\u001b[0;34m\u001b[0m\u001b[0m\n\u001b[1;32m    307\u001b[0m         \u001b[0;32melse\u001b[0m\u001b[0;34m:\u001b[0m\u001b[0;34m\u001b[0m\u001b[0;34m\u001b[0m\u001b[0m\n\u001b[0;32m--> 308\u001b[0;31m             self._init_as_actual(\n\u001b[0m\u001b[1;32m    309\u001b[0m                 \u001b[0mX\u001b[0m\u001b[0;34m=\u001b[0m\u001b[0mX\u001b[0m\u001b[0;34m,\u001b[0m\u001b[0;34m\u001b[0m\u001b[0;34m\u001b[0m\u001b[0m\n\u001b[1;32m    310\u001b[0m                 \u001b[0mobs\u001b[0m\u001b[0;34m=\u001b[0m\u001b[0mobs\u001b[0m\u001b[0;34m,\u001b[0m\u001b[0;34m\u001b[0m\u001b[0;34m\u001b[0m\u001b[0m\n",
      "\u001b[0;32m~/miniconda3/envs/gae/lib/python3.8/site-packages/anndata/_core/anndata.py\u001b[0m in \u001b[0;36m_init_as_actual\u001b[0;34m(self, X, obs, var, uns, obsm, varm, varp, obsp, raw, layers, dtype, shape, filename, filemode)\u001b[0m\n\u001b[1;32m    502\u001b[0m                 \u001b[0mattr\u001b[0m\u001b[0;34m.\u001b[0m\u001b[0mindex\u001b[0m \u001b[0;34m=\u001b[0m \u001b[0midx\u001b[0m\u001b[0;34m\u001b[0m\u001b[0;34m\u001b[0m\u001b[0m\n\u001b[1;32m    503\u001b[0m             \u001b[0;32melif\u001b[0m \u001b[0;32mnot\u001b[0m \u001b[0midx\u001b[0m\u001b[0;34m.\u001b[0m\u001b[0mequals\u001b[0m\u001b[0;34m(\u001b[0m\u001b[0mattr\u001b[0m\u001b[0;34m.\u001b[0m\u001b[0mindex\u001b[0m\u001b[0;34m)\u001b[0m\u001b[0;34m:\u001b[0m\u001b[0;34m\u001b[0m\u001b[0;34m\u001b[0m\u001b[0m\n\u001b[0;32m--> 504\u001b[0;31m                 \u001b[0;32mraise\u001b[0m \u001b[0mValueError\u001b[0m\u001b[0;34m(\u001b[0m\u001b[0;34mf\"Index of {attr_name} must match {x_name} of X.\"\u001b[0m\u001b[0;34m)\u001b[0m\u001b[0;34m\u001b[0m\u001b[0;34m\u001b[0m\u001b[0m\n\u001b[0m\u001b[1;32m    505\u001b[0m \u001b[0;34m\u001b[0m\u001b[0m\n\u001b[1;32m    506\u001b[0m         \u001b[0;31m# unstructured annotations\u001b[0m\u001b[0;34m\u001b[0m\u001b[0;34m\u001b[0m\u001b[0;34m\u001b[0m\u001b[0m\n",
      "\u001b[0;31mValueError\u001b[0m: Index of obs must match index of X."
     ]
    }
   ],
   "source": [
    "AnnData(X=val, obs=ann).write('temp/celligner_multi.h5ad.gz', compression='gzip')"
   ]
  },
  {
   "cell_type": "code",
   "execution_count": null,
   "metadata": {},
   "outputs": [],
   "source": [
    "del ann, val\n",
    "del CCLE_expression, TCGA_expression, gtex_v9"
   ]
  },
  {
   "cell_type": "code",
   "execution_count": 415,
   "metadata": {
    "ExecuteTime": {
     "end_time": "2022-06-02T20:50:24.231395Z",
     "start_time": "2022-06-02T20:50:24.160799Z"
    }
   },
   "outputs": [
    {
     "name": "stderr",
     "output_type": "stream",
     "text": [
      "/home/jeremie/miniconda3/envs/gae/lib/python3.8/site-packages/ipykernel/ipkernel.py:287: DeprecationWarning: `should_run_async` will not call `transform_cell` automatically in the future. Please pass the result to `transformed_cell` argument and any exception that happen during thetransform in `preprocessing_exc_tuple` in IPython 7.17 and above.\n",
      "  and should_run_async(code)\n"
     ]
    },
    {
     "data": {
      "text/plain": [
       "{'bile_duct_cholangiocarcinoma_u',\n",
       " 'bone_ewing_sarcoma_ewing_sarcoma',\n",
       " 'brain_Secondary_malignant_neoplasm_of_brain_u',\n",
       " 'brain_glioblastoma_glioblastoma',\n",
       " 'brain_glioblastoma_u',\n",
       " 'breast_ductal_carcinoma_in_situ,_nos_u',\n",
       " 'breast_infiltrating_duct_and_lobular_carcinoma_u',\n",
       " 'breast_infiltrating_duct_carcinoma,_nos_u',\n",
       " 'breast_infiltrating_lobular_carcinoma,_nos_u',\n",
       " 'colon_tubulovillous_adenoma,_nos_u',\n",
       " 'gastric_adenocarcinoma,_intestinal_type_u',\n",
       " 'kidney_nephroblastoma,_nos_u',\n",
       " 'muscle_alveolar_rhabdomyosarcoma_rhabdomyosarcoma',\n",
       " 'muscle_mixed_type_rhabdomyosarcoma_u',\n",
       " 'soft_tissue_spindle_cell_sarcoma_u',\n",
       " 'thyroid_medullary_carcinoma,_nos_u',\n",
       " 'u_adenocarcinoma,_metastatic,_nos_u',\n",
       " 'u_adenocarcinoma,_nos_u',\n",
       " 'u_carcinoma,_nos_u',\n",
       " 'u_malignant_melanoma,_nos_u',\n",
       " 'u_metaplastic_carcinoma,_nos_u',\n",
       " 'u_mucinous_adenocarcinoma_u',\n",
       " 'u_serrated_adenoma_u',\n",
       " 'u_u_u',\n",
       " 'u_undifferentiated_sarcoma_sarcoma',\n",
       " 'vascular_angiosarcoma_u'}"
      ]
     },
     "execution_count": 415,
     "metadata": {},
     "output_type": "execute_result"
    }
   ],
   "source": [
    "set(dataset.obs[dataset.obs.dataset.isin(['cmi-asc', 'cmi-mbc', 'hcmi-cmdc', 'organoid-pancreatic',])].lineage.astype(str) + \"_\" + dataset.obs[dataset.obs.dataset.isin(['cmi-asc', 'cmi-mbc', 'hcmi-cmdc', 'organoid-pancreatic'])].disease_type.astype(str) + \"_\" + dataset.obs[dataset.obs.dataset.isin(['cmi-asc', 'cmi-mbc', 'hcmi-cmdc', 'organoid-pancreatic'])].disease_subtype.astype(str))"
   ]
  },
  {
   "cell_type": "code",
   "execution_count": 417,
   "metadata": {
    "ExecuteTime": {
     "end_time": "2022-06-02T20:51:22.147369Z",
     "start_time": "2022-06-02T20:51:22.058713Z"
    }
   },
   "outputs": [
    {
     "name": "stderr",
     "output_type": "stream",
     "text": [
      "/home/jeremie/miniconda3/envs/gae/lib/python3.8/site-packages/ipykernel/ipkernel.py:287: DeprecationWarning: `should_run_async` will not call `transform_cell` automatically in the future. Please pass the result to `transformed_cell` argument and any exception that happen during thetransform in `preprocessing_exc_tuple` in IPython 7.17 and above.\n",
      "  and should_run_async(code)\n"
     ]
    },
    {
     "data": {
      "text/plain": [
       "Index(['15e84d11-d9d3-4e2a-9487-9f1129d40255',\n",
       "       'd73f4d76-8c91-4c90-877b-c757f7404cc1',\n",
       "       'c312271b-a950-4a52-bba3-eabc4adc252a',\n",
       "       '78ff3329-20bf-4bf6-b9f1-b346dc5e6e3a',\n",
       "       'bba788ac-5786-42ee-a156-918b52ce5875',\n",
       "       '368ea45f-8ee8-4e72-98fe-44d565cc304d',\n",
       "       'b71babe9-1c46-4018-9410-1fc7e3c4f6c8',\n",
       "       '6251bee4-967d-4532-9337-bc272fb76db2',\n",
       "       '7721861d-e5ed-4cd5-81b7-5fc3bece5640',\n",
       "       'd9bb36ee-51c7-4a3e-a72a-3337453d41cb',\n",
       "       ...\n",
       "       '99d3ab86-3688-4b05-8e86-f71b8dae82a5',\n",
       "       '45b0fc1b-6965-4a94-90a3-83033c553edf',\n",
       "       'd0a6f70f-eb87-4a36-8de8-22a4489544e7',\n",
       "       '10e6418e-177b-401a-aef6-6027e93cc578',\n",
       "       'a3e497c7-7716-4c65-b1a2-2ef5ecfe26f0',\n",
       "       '0eb0f134-0889-41b6-b019-4584c6b1449b',\n",
       "       'bd0d8e44-8b59-4800-8338-6bd13793045f',\n",
       "       'b91f8e04-2960-4fd4-acb1-5ca39bf2c908',\n",
       "       '80d0adea-d970-4f97-ac83-122084c727a7',\n",
       "       '50b28db5-dea0-4473-a685-9cc8f0d01393'],\n",
       "      dtype='object', length=208)"
      ]
     },
     "execution_count": 417,
     "metadata": {},
     "output_type": "execute_result"
    }
   ],
   "source": [
    "dataset.obs[dataset.obs.dataset.isin(['cmi-asc', 'cmi-mbc', 'hcmi-cmdc', 'organoid-pancreatic',])][(dataset.obs[dataset.obs.dataset.isin(['cmi-asc', 'cmi-mbc', 'hcmi-cmdc', 'organoid-pancreatic',])].lineage.astype(str) + \"_\" + dataset.obs[dataset.obs.dataset.isin(['cmi-asc', 'cmi-mbc', 'hcmi-cmdc', 'organoid-pancreatic'])].disease_type.astype(str) + \"_\" + dataset.obs[dataset.obs.dataset.isin(['cmi-asc', 'cmi-mbc', 'hcmi-cmdc', 'organoid-pancreatic'])].disease_subtype.astype(str)).isin(['u_adenocarcinoma,_metastatic,_nos_u',\n",
    " 'u_adenocarcinoma,_nos_u',\n",
    " 'u_carcinoma,_nos_u',\n",
    " 'u_malignant_melanoma,_nos_u',\n",
    " 'u_metaplastic_carcinoma,_nos_u',\n",
    " 'u_mucinous_adenocarcinoma_u',\n",
    " 'u_serrated_adenoma_u',\n",
    " 'u_u_u',\n",
    " 'u_undifferentiated_sarcoma_sarcoma'])].index"
   ]
  },
  {
   "cell_type": "code",
   "execution_count": 411,
   "metadata": {
    "ExecuteTime": {
     "end_time": "2022-06-02T20:33:17.755286Z",
     "start_time": "2022-06-02T20:33:17.665244Z"
    }
   },
   "outputs": [
    {
     "name": "stderr",
     "output_type": "stream",
     "text": [
      "/home/jeremie/miniconda3/envs/gae/lib/python3.8/site-packages/ipykernel/ipkernel.py:287: DeprecationWarning: `should_run_async` will not call `transform_cell` automatically in the future. Please pass the result to `transformed_cell` argument and any exception that happen during thetransform in `preprocessing_exc_tuple` in IPython 7.17 and above.\n",
      "  and should_run_async(code)\n"
     ]
    },
    {
     "data": {
      "text/plain": [
       "['AB035-Tumor-SM-AS99X',\n",
       " 'AB035-Tumor-SM-HPY1S',\n",
       " 'BT856-Tumor-SM-AI7RN',\n",
       " 'CCLF_Mix_RNASeq_June2016-AB002-Tumor-SM-5LB1D',\n",
       " 'CCLF_Mix_RNASeq_June2016-AB002-Tumor-SM-5LB1O',\n",
       " 'CCLF_Mix_RNASeq_June2016-JL30-Tumor-SM-78KL4',\n",
       " 'CCLF_PEDS1037-Tumor-SM-HUQMS',\n",
       " 'CCLF_PEDS1051-Tumor-SM-HUQNL',\n",
       " 'HG002-Tumor-SM-HPY1X',\n",
       " 'JL27-Tumor-SM-GXI9O',\n",
       " 'JL36-Tumor-SM-7HEVF',\n",
       " 'PEDS015-Tumor-SM-5LB4X',\n",
       " 'RNAseq_05262017-CCLF_PEDS1010-Tumor-SM-E9I91',\n",
       " 'RNAseq_05262017-CCLF_PEDS1010-Tumor-SM-E9I93',\n",
       " 'RNAseq_05262017-CCLF_PEDS1010-Tumor-SM-E9I94',\n",
       " 'RNAseq_05262017-PEDS014-Normal-SM-5LB5L',\n",
       " 'RNAseq_05262017-PEDS014-Tumor-SM-5LB5P',\n",
       " 'RNAseq_05262017-PEDS014-Tumor-SM-5LB5R',\n",
       " 'RNAseq_05262017-PEDS014-Tumor-SM-79HUE',\n",
       " 'RNAseq_05262017-RC2-Tumor-SM-E9AWO',\n",
       " 'RNAseq_05262017-RH4-Tumor-SM-E9AWN',\n",
       " 'RNAseq_05262017-RHJT-Tumor-SM-E9AWR',\n",
       " 'RNAseq_05262017-RMS13-Tumor-SM-E9AWP',\n",
       " 'RP-571_BT953_v2_RNA_OnPrem']"
      ]
     },
     "execution_count": 411,
     "metadata": {},
     "output_type": "execute_result"
    }
   ],
   "source": [
    "dataset.obs[dataset.obs.dataset==\"cclf\"][(dataset.obs[dataset.obs.dataset==\"cclf\"].lineage.astype(str) + \"_\" + dataset.obs[dataset.obs.dataset==\"cclf\"].disease_type.astype(str) + \"_\" + dataset.obs[dataset.obs.dataset==\"cclf\"].disease_subtype.astype(str)).isin(['u_adenocarcinoma_adenocarcinoma',\n",
    " 'u_leg_mass_u',\n",
    " 'u_rhabdoid_tumor_rhabdoid',\n",
    " 'u_sarcoma_sarcoma',\n",
    " 'u_squamous_cell_carcinoma_squamous_cell_carcinoma',\n",
    " 'u_u_u',\n",
    " 'u_undifferentiated_sarcoma_sarcoma',\n",
    " 'thyroid_thyroid_ca_u',\n",
    " 'thyroid_thyroid_cancer_u',])].index.tolist()"
   ]
  },
  {
   "cell_type": "code",
   "execution_count": null,
   "metadata": {},
   "outputs": [],
   "source": [
    "dataset.obs[dataset.obs.dataset==\"cclf\"][(dataset.obs[dataset.obs.dataset==\"cclf\"].lineage.astype(str) + \"_\" + dataset.obs[dataset.obs.dataset==\"cclf\"].disease_type.astype(str) + \"_\" + dataset.obs[dataset.obs.dataset==\"cclf\"].disease_subtype.astype(str)).isin(['u_adenocarcinoma_adenocarcinoma',\n",
    " 'u_leg_mass_u',\n",
    " 'u_rhabdoid_tumor_rhabdoid',\n",
    " 'u_sarcoma_sarcoma',\n",
    " 'u_squamous_cell_carcinoma_squamous_cell_carcinoma',\n",
    " 'u_u_u',\n",
    " 'u_undifferentiated_sarcoma_sarcoma',\n",
    " 'thyroid_thyroid_ca_u',\n",
    " 'thyroid_thyroid_cancer_u',])].index.tolist()"
   ]
  },
  {
   "cell_type": "code",
   "execution_count": null,
   "metadata": {},
   "outputs": [],
   "source": []
  }
 ],
 "metadata": {
  "gist": {
   "data": {
    "description": "celligner2/RNA_loading_human.ipynb",
    "public": false
   },
   "id": ""
  },
  "interpreter": {
   "hash": "fd8698c164edaa1fafe02e09417b19c3da26ece954e3310283697fab1cf76ba9"
  },
  "kernelspec": {
   "display_name": "gae",
   "language": "python",
   "name": "gae"
  },
  "language_info": {
   "codemirror_mode": {
    "name": "ipython",
    "version": 3
   },
   "file_extension": ".py",
   "mimetype": "text/x-python",
   "name": "python",
   "nbconvert_exporter": "python",
   "pygments_lexer": "ipython3",
   "version": "3.8.12"
  },
  "latex_envs": {
   "LaTeX_envs_menu_present": true,
   "autoclose": false,
   "autocomplete": true,
   "bibliofile": "biblio.bib",
   "cite_by": "apalike",
   "current_citInitial": 1,
   "eqLabelWithNumbers": true,
   "eqNumInitial": 1,
   "hotkeys": {
    "equation": "Ctrl-E",
    "itemize": "Ctrl-I"
   },
   "labels_anchors": false,
   "latex_user_defs": false,
   "report_style_numbering": false,
   "user_envs_cfg": false
  },
  "toc": {
   "base_numbering": 1,
   "nav_menu": {},
   "number_sections": true,
   "sideBar": true,
   "skip_h1_title": false,
   "title_cell": "Table of Contents",
   "title_sidebar": "Contents",
   "toc_cell": false,
   "toc_position": {
    "height": "calc(100% - 180px)",
    "left": "10px",
    "top": "150px",
    "width": "261.804px"
   },
   "toc_section_display": true,
   "toc_window_display": true
  },
  "varInspector": {
   "cols": {
    "lenName": 16,
    "lenType": 16,
    "lenVar": 40
   },
   "kernels_config": {
    "python": {
     "delete_cmd_postfix": "",
     "delete_cmd_prefix": "del ",
     "library": "var_list.py",
     "varRefreshCmd": "print(var_dic_list())"
    },
    "r": {
     "delete_cmd_postfix": ") ",
     "delete_cmd_prefix": "rm(",
     "library": "var_list.r",
     "varRefreshCmd": "cat(var_dic_list()) "
    }
   },
   "types_to_exclude": [
    "module",
    "function",
    "builtin_function_or_method",
    "instance",
    "_Feature"
   ],
   "window_display": false
  }
 },
 "nbformat": 4,
 "nbformat_minor": 2
}
