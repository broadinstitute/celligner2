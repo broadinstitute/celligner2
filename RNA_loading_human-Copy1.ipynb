{
 "cells": [
  {
   "cell_type": "markdown",
   "metadata": {},
   "source": [
    "# load tons of datasets (~60,000 RNAseq samples)"
   ]
  },
  {
   "cell_type": "code",
   "execution_count": 1,
   "metadata": {
    "ExecuteTime": {
     "end_time": "2021-11-08T16:15:38.268146Z",
     "start_time": "2021-11-08T16:15:35.838839Z"
    }
   },
   "outputs": [],
   "source": [
    "from taigapy import TaigaClient\n",
    "tc = TaigaClient()\n",
    "\n",
    "from depmapomics import tracker as track\n",
    "from depmapomics import expressions\n",
    "\n",
    "import dalmatian as dm\n",
    "from gsheets import Sheets\n",
    "import pandas as pd\n",
    "\n",
    "MY_ID = '~/.client_secret.json'\n",
    "MYSTORAGE_ID = \"~/.storage.json\"\n",
    "\n",
    "Sheets.from_files(MY_ID, MYSTORAGE_ID)\n",
    "#autoreload\n",
    "%load_ext autoreload\n",
    "%autoreload 2"
   ]
  },
  {
   "cell_type": "markdown",
   "metadata": {},
   "source": [
    "## CCLE + TCGA"
   ]
  },
  {
   "cell_type": "code",
   "execution_count": 116,
   "metadata": {
    "ExecuteTime": {
     "end_time": "2021-10-21T16:02:38.527091Z",
     "start_time": "2021-10-21T16:02:08.257511Z"
    }
   },
   "outputs": [
    {
     "name": "stdout",
     "output_type": "stream",
     "text": [
      "No dataset version provided. Using version 16.\n",
      "No dataset version provided. Using version 1.\n"
     ]
    }
   ],
   "source": [
    "# load from taiga public (figshare link)\n",
    "# load internal expression,\n",
    "# latest version can be found at https://depmap.org/portal/download/\n",
    "# can also be loaded like so pd.read_csv('gs://ccle_default_params/celligner_ex/CCLE_expression.csv.gz', index_col=0)\n",
    "CCLE_expression = tc.get(name='internal-21q3-fe4c',\n",
    "                         file='CCLE_expression_full')  #40,000x1,500\n",
    "\n",
    "\n",
    "# load  TCGA expression\n",
    "# this dataset was generated from  ,using this script: \n",
    "# caan be found here: pd.read_csv('gs://ccle_default_params/celligner_ex/TCGA_expression.csv.gz', index_col=0)\n",
    "TCGA_expression = tc.get(name='celligner-input-9827',\n",
    "                       file='tumor_expression') # 40,000x13,000"
   ]
  },
  {
   "cell_type": "code",
   "execution_count": 23,
   "metadata": {
    "ExecuteTime": {
     "end_time": "2021-10-08T22:00:15.381758Z",
     "start_time": "2021-10-08T22:00:15.372909Z"
    }
   },
   "outputs": [
    {
     "data": {
      "text/plain": [
       "72"
      ]
     },
     "execution_count": 23,
     "metadata": {},
     "output_type": "execute_result"
    }
   ],
   "source": [
    "len(CCLE_annotation[(CCLE_annotation.blacklist==0)&(CCLE_annotation.version>1)&(CCLE_annotation.datatype==\"rna\")]) \n",
    "# we have .. replicates in CCLE"
   ]
  },
  {
   "cell_type": "code",
   "execution_count": 342,
   "metadata": {
    "ExecuteTime": {
     "end_time": "2021-11-04T17:18:13.224528Z",
     "start_time": "2021-11-04T17:18:08.734526Z"
    }
   },
   "outputs": [
    {
     "name": "stdout",
     "output_type": "stream",
     "text": [
      "No dataset version provided. Using version 1.\n"
     ]
    }
   ],
   "source": [
    "# loading annotations\n",
    "CCLE_annotation = track.getTracker() # the function uses pygsheets to load this: REFSHEET_URL=https://docs.google.com/spreadsheets/d/1Pgb5fIClGnErEqzxpU7qqX6ULpGTDjvzWwDN8XUJKIY\n",
    "# Sheets.from_files(MY_ID, MYSTORAGE_ID).get(REFSHEET_URL).sheets[0].to_frame(index_col=0)\n",
    "# you can also get it from pd.read_csv('gs://ccle_default_params/celligner_ex/CCLE_annotation.csv.gz', index_col=0)\n",
    "\n",
    "\n",
    "# can be loaded from \n",
    "# pd.read_csv('gs://ccle_default_params/celligner_ex/TCGA_annotation.csv.gz', index_col=0)\n",
    "TCGA_annotation = tc.get(name='celligner-input-9827',\n",
    "                         file='tumor_annotations') # generated manually "
   ]
  },
  {
   "cell_type": "code",
   "execution_count": 446,
   "metadata": {
    "ExecuteTime": {
     "end_time": "2021-11-04T19:26:41.329326Z",
     "start_time": "2021-11-04T19:26:41.289727Z"
    },
    "scrolled": true
   },
   "outputs": [
    {
     "data": {
      "text/plain": [
       "arxspan_id                                                        ACH-001188\n",
       "version                                                                    1\n",
       "sm_id                                                                    NaN\n",
       "PDO                                                                      NaN\n",
       "datatype                                                                 wgs\n",
       "size                                                           75505480632.0\n",
       "stripped_cell_line_name                                               SHSY5Y\n",
       "participant_id                                                   PT-VWVFq8aY\n",
       "cellosaurus_id                                                     CVCL_0019\n",
       "synonyms                   SH-Sy5y; SHSY5Y; SHSY-5Y; SK-SH-SY5Y; SY5Y; SH...\n",
       "bam_public_sra_path                                                      NaN\n",
       "internal_bam_filepath         gs://cclebams/wgs_hg38/CDS-rIh3Gy.wgs_ccle.bam\n",
       "internal_bai_filepath         gs://cclebams/wgs_hg38/CDS-rIh3Gy.wgs_ccle.bai\n",
       "legacy_bam_filepath                         gs://cclebams/wgs/CDS-rIh3Gy.bam\n",
       "legacy_bai_filepath                         gs://cclebams/wgs/CDS-rIh3Gy.bai\n",
       "parent_cell_line                                                  ACH-000149\n",
       "sex                                                                   Female\n",
       "matched_normal                                                           NaN\n",
       "age                                                                        4\n",
       "ancestry                   African=0%; Native American=1.17%; East Asian,...\n",
       "doublingt                                                               55.0\n",
       "collection_site                                                  bone_marrow\n",
       "cellosaurus_origin                                               Bone marrow\n",
       "Primary/Metastasis                                                Metastasis\n",
       "primary_disease                                                Neuroblastoma\n",
       "subtype                                                        neuroblastoma\n",
       "subsubtype                                                               NaN\n",
       "lineage                                            peripheral_nervous_system\n",
       "characteristics            There seems to be differences in the retinoic ...\n",
       "hasebv                                                                 False\n",
       "instability                                                              NaN\n",
       "transfected                                                              NaN\n",
       "mediatype                                                                NaN\n",
       "condition                                                                NaN\n",
       "sequencing_type                                                          NaN\n",
       "baits                                                                    NaN\n",
       "comments                   CCLE line; MYCN amp; adrengenic; 1p normal; Id...\n",
       "cellosaurus_comments        | Problematic cell line: Partially contaminat...\n",
       "source                                                                DEPMAP\n",
       "atcclink                                                            CRL-2266\n",
       "dsmzlink                                                             ACC-209\n",
       "sequencing_date                                                       737601\n",
       "release_date                                                             NaN\n",
       "bam_qc                     ['gs://fc-secure-fd4a7e9f-cb15-423c-9805-04995...\n",
       "Name: CDS-rIh3Gy, dtype: object"
      ]
     },
     "execution_count": 446,
     "metadata": {},
     "output_type": "execute_result"
    }
   ],
   "source": [
    "CCLE_annotation.iloc[0, :-25]"
   ]
  },
  {
   "cell_type": "code",
   "execution_count": null,
   "metadata": {},
   "outputs": [],
   "source": [
    "rename = {\n",
    "    \"stripped_cell_line_name\": \"sample_id\", \n",
    "    \"primary_disease\": \"disease_type\", \n",
    "    \"subtype\": 'disease_subtype', \n",
    "    'sampleID': 'sample_id', \n",
    "    'age_at_dx':\"age\", \n",
    "    \"gender\": \"sex\",\n",
    "    \"site_id\": \"site_id\", \n",
    "    \"lineage\": \"primary_site\", \n",
    "    \"disease\": \"disease_type\", \n",
    "    \"subtype\": \"disease_subtype\",\n",
    "    'Tumor_type': 'tumor_type', \n",
    "    'Sample_type': 'sample_type', \n",
    "    'RNA_Seq_cancertype': 'disease_type', \n",
    "    \"CCLF_ID\": 'sample_id',\n",
    "    \"Sequencing on Tissue or Cell model? (MT confirm)\": 'tissue_type', \n",
    "    \"Days to First Agg\": 'exp_date', \n",
    "    \"Contamination % (First Agg)\": 'contamination', \n",
    "    \"collection\": 'origin', \n",
    "    \"Original Material Type\": 'history',\n",
    "    \"sampleID\": 'sample_id',\n",
    "    'lineage': 'tissue_type',\n",
    "    'subtype': \"disease_type\",\n",
    "    \"type\": \"cell_type\",\n",
    "    \"Sex\": \"sex\",\n",
    "    'Phase':'stage',\n",
    "    'sample_source': 'patient_id',\n",
    "    'tc': 'tumor_purity'"
   ]
  },
  {
   "cell_type": "code",
   "execution_count": 343,
   "metadata": {
    "ExecuteTime": {
     "end_time": "2021-11-04T17:18:51.346380Z",
     "start_time": "2021-11-04T17:18:51.301969Z"
    },
    "scrolled": true
   },
   "outputs": [
    {
     "ename": "NameError",
     "evalue": "name 'rename' is not defined",
     "output_type": "error",
     "traceback": [
      "\u001b[0;31m---------------------------------------------------------------------------\u001b[0m",
      "\u001b[0;31mNameError\u001b[0m                                 Traceback (most recent call last)",
      "\u001b[0;32m/tmp/ipykernel_24549/997814464.py\u001b[0m in \u001b[0;36m<module>\u001b[0;34m\u001b[0m\n\u001b[0;32m----> 1\u001b[0;31m \u001b[0mCCLE_annotation\u001b[0m \u001b[0;34m=\u001b[0m \u001b[0mCCLE_annotation\u001b[0m\u001b[0;34m.\u001b[0m\u001b[0mrename\u001b[0m\u001b[0;34m(\u001b[0m\u001b[0mcolumns\u001b[0m\u001b[0;34m=\u001b[0m\u001b[0mrename\u001b[0m\u001b[0;34m)\u001b[0m\u001b[0;34m[\u001b[0m\u001b[0;34m[\u001b[0m\u001b[0;34m'sample_id'\u001b[0m\u001b[0;34m,\u001b[0m \u001b[0;34m'participant_id'\u001b[0m\u001b[0;34m,\u001b[0m \u001b[0;34m'sex'\u001b[0m\u001b[0;34m,\u001b[0m \u001b[0;34m'age'\u001b[0m\u001b[0;34m,\u001b[0m \u001b[0;34m'collection_site'\u001b[0m\u001b[0;34m,\u001b[0m \u001b[0;34m'disease_type'\u001b[0m\u001b[0;34m,\u001b[0m \u001b[0;34m\"disease_subtype\"\u001b[0m\u001b[0;34m,\u001b[0m \u001b[0;34m'origin'\u001b[0m\u001b[0;34m,\u001b[0m \u001b[0;34m'mediatype'\u001b[0m\u001b[0;34m,\u001b[0m \u001b[0;34m'sequencing_type'\u001b[0m\u001b[0;34m,\u001b[0m \u001b[0;34m'ancestry'\u001b[0m\u001b[0;34m,\u001b[0m \u001b[0;34m'doublingt'\u001b[0m\u001b[0;34m,\u001b[0m \u001b[0;34m'Primary/Metastasis'\u001b[0m\u001b[0;34m,\u001b[0m \u001b[0;34m'lineage'\u001b[0m\u001b[0;34m,\u001b[0m \u001b[0;34m'hasebv'\u001b[0m\u001b[0;34m]\u001b[0m\u001b[0;34m]\u001b[0m\u001b[0;34m\u001b[0m\u001b[0;34m\u001b[0m\u001b[0m\n\u001b[0m\u001b[1;32m      2\u001b[0m \u001b[0mCCLE_annotation\u001b[0m\u001b[0;34m[\u001b[0m\u001b[0;34m'method'\u001b[0m\u001b[0;34m]\u001b[0m\u001b[0;34m=\u001b[0m\u001b[0;34m\"bulk\"\u001b[0m\u001b[0;34m\u001b[0m\u001b[0;34m\u001b[0m\u001b[0m\n\u001b[1;32m      3\u001b[0m \u001b[0mCCLE_annotation\u001b[0m\u001b[0;34m[\u001b[0m\u001b[0;34m'cell_type'\u001b[0m\u001b[0;34m]\u001b[0m\u001b[0;34m=\u001b[0m\u001b[0;34m\"historical_CL\"\u001b[0m\u001b[0;34m\u001b[0m\u001b[0;34m\u001b[0m\u001b[0m\n",
      "\u001b[0;31mNameError\u001b[0m: name 'rename' is not defined"
     ]
    }
   ],
   "source": [
    "CCLE_annotation = CCLE_annotation.rename(columns=rename)[['origin', 'sequencing_type', 'doublingt','hasebv'] + list(rename.values())]\n",
    "CCLE_annotation['method']=\"bulk\"\n",
    "CCLE_annotation['cell_type']=\"historical_CL\""
   ]
  },
  {
   "cell_type": "code",
   "execution_count": 440,
   "metadata": {
    "ExecuteTime": {
     "end_time": "2021-11-04T19:25:43.298007Z",
     "start_time": "2021-11-04T19:25:43.270387Z"
    }
   },
   "outputs": [
    {
     "data": {
      "text/plain": [
       "sampleID                      TH27_1241_S01\n",
       "age_at_dx                               NaN\n",
       "pedaya                              Unknown\n",
       "gender                              unknown\n",
       "site_id                                TH27\n",
       "site_donor_id                          None\n",
       "site_sampleid                          None\n",
       "lineage              central_nervous_system\n",
       "disease                        Brain Cancer\n",
       "TCGA_disease                           None\n",
       "TCGA_primary_site                      None\n",
       "sample_type                            None\n",
       "CPE                                     NaN\n",
       "ABSOLUTE                                NaN\n",
       "Cancer type                            None\n",
       "subtype                              glioma\n",
       "UMAP_1                             5.433872\n",
       "UMAP_2                            10.000675\n",
       "cluster                                  52\n",
       "Name: 0, dtype: object"
      ]
     },
     "execution_count": 440,
     "metadata": {},
     "output_type": "execute_result"
    }
   ],
   "source": [
    "TCGA_annotation.iloc[0]"
   ]
  },
  {
   "cell_type": "code",
   "execution_count": 40,
   "metadata": {
    "ExecuteTime": {
     "end_time": "2021-10-15T19:44:01.381477Z",
     "start_time": "2021-10-15T19:44:01.292675Z"
    }
   },
   "outputs": [],
   "source": [
    "TCGA_annotation = TCGA_annotation.rename(columns=rename)[rename.values()]\n",
    "TCGA_annotation['method']=\"bulk\"\n",
    "TCGA_annotation['cell_type']=\"tumor\"\n",
    "TCGA_annotation['metastasis']=\"Primary\""
   ]
  },
  {
   "cell_type": "markdown",
   "metadata": {},
   "source": [
    "## CCLF"
   ]
  },
  {
   "cell_type": "code",
   "execution_count": 21,
   "metadata": {
    "ExecuteTime": {
     "end_time": "2021-11-02T19:56:02.653047Z",
     "start_time": "2021-11-02T19:56:02.275562Z"
    },
    "scrolled": true
   },
   "outputs": [
    {
     "ename": "NameError",
     "evalue": "name 'rename' is not defined",
     "output_type": "error",
     "traceback": [
      "\u001b[0;31m---------------------------------------------------------------------------\u001b[0m",
      "\u001b[0;31mNameError\u001b[0m                                 Traceback (most recent call last)",
      "\u001b[0;32m/tmp/ipykernel_3840/2176769075.py\u001b[0m in \u001b[0;36m<module>\u001b[0;34m\u001b[0m\n\u001b[1;32m      1\u001b[0m \u001b[0mcclf_orga_info\u001b[0m \u001b[0;34m=\u001b[0m \u001b[0mtc\u001b[0m\u001b[0;34m.\u001b[0m\u001b[0mget\u001b[0m\u001b[0;34m(\u001b[0m\u001b[0mname\u001b[0m\u001b[0;34m=\u001b[0m\u001b[0;34m'cclf-organoids-c23d'\u001b[0m\u001b[0;34m,\u001b[0m \u001b[0mversion\u001b[0m\u001b[0;34m=\u001b[0m\u001b[0;36m1\u001b[0m\u001b[0;34m,\u001b[0m \u001b[0mfile\u001b[0m\u001b[0;34m=\u001b[0m\u001b[0;34m'cclf_orga_info'\u001b[0m\u001b[0;34m)\u001b[0m\u001b[0;34m\u001b[0m\u001b[0;34m\u001b[0m\u001b[0m\n\u001b[0;32m----> 2\u001b[0;31m \u001b[0mcclf_orga_info\u001b[0m \u001b[0;34m=\u001b[0m \u001b[0mcclf_orga_info\u001b[0m\u001b[0;34m.\u001b[0m\u001b[0mrename\u001b[0m\u001b[0;34m(\u001b[0m\u001b[0mcolumns\u001b[0m\u001b[0;34m=\u001b[0m\u001b[0mrename\u001b[0m\u001b[0;34m)\u001b[0m\u001b[0;34m[\u001b[0m\u001b[0;34m[\u001b[0m\u001b[0;34m\"tumor_type\"\u001b[0m\u001b[0;34m,\u001b[0m \u001b[0;34m\"sample_type\"\u001b[0m\u001b[0;34m,\u001b[0m \u001b[0;34m\"disease_type\"\u001b[0m\u001b[0;34m,\u001b[0m \u001b[0;34m\"sample_id\"\u001b[0m\u001b[0;34m]\u001b[0m\u001b[0;34m]\u001b[0m\u001b[0;34m\u001b[0m\u001b[0;34m\u001b[0m\u001b[0m\n\u001b[0m\u001b[1;32m      3\u001b[0m \u001b[0mcclf_orga_rnaseq\u001b[0m \u001b[0;34m=\u001b[0m \u001b[0mtc\u001b[0m\u001b[0;34m.\u001b[0m\u001b[0mget\u001b[0m\u001b[0;34m(\u001b[0m\u001b[0mname\u001b[0m\u001b[0;34m=\u001b[0m\u001b[0;34m'cclf-organoids-c23d'\u001b[0m\u001b[0;34m,\u001b[0m \u001b[0mversion\u001b[0m\u001b[0;34m=\u001b[0m\u001b[0;36m1\u001b[0m\u001b[0;34m,\u001b[0m \u001b[0mfile\u001b[0m\u001b[0;34m=\u001b[0m\u001b[0;34m'cclf_orga_rnaseq'\u001b[0m\u001b[0;34m)\u001b[0m\u001b[0;34m.\u001b[0m\u001b[0mT\u001b[0m \u001b[0;31m# 40,000x24\u001b[0m\u001b[0;34m\u001b[0m\u001b[0;34m\u001b[0m\u001b[0m\n\u001b[1;32m      4\u001b[0m \u001b[0mcclf_orga_info\u001b[0m\u001b[0;34m.\u001b[0m\u001b[0mindex\u001b[0m \u001b[0;34m=\u001b[0m \u001b[0;34m[\u001b[0m\u001b[0mi\u001b[0m\u001b[0;34m.\u001b[0m\u001b[0msplit\u001b[0m\u001b[0;34m(\u001b[0m\u001b[0;34m\"_\"\u001b[0m\u001b[0;34m)\u001b[0m\u001b[0;34m[\u001b[0m\u001b[0;36m1\u001b[0m\u001b[0;34m]\u001b[0m \u001b[0;32mfor\u001b[0m \u001b[0mi\u001b[0m \u001b[0;32min\u001b[0m \u001b[0mcclf_orga_info\u001b[0m\u001b[0;34m.\u001b[0m\u001b[0msample_id\u001b[0m\u001b[0;34m]\u001b[0m\u001b[0;34m\u001b[0m\u001b[0;34m\u001b[0m\u001b[0m\n\u001b[1;32m      5\u001b[0m \u001b[0mcclf_orga_rnaseq\u001b[0m\u001b[0;34m.\u001b[0m\u001b[0mindex\u001b[0m \u001b[0;34m=\u001b[0m \u001b[0;34m[\u001b[0m\u001b[0mi\u001b[0m\u001b[0;34m.\u001b[0m\u001b[0msplit\u001b[0m\u001b[0;34m(\u001b[0m\u001b[0;34m'_'\u001b[0m\u001b[0;34m)\u001b[0m\u001b[0;34m[\u001b[0m\u001b[0;36m0\u001b[0m\u001b[0;34m]\u001b[0m\u001b[0;34m[\u001b[0m\u001b[0;34m:\u001b[0m\u001b[0;34m-\u001b[0m\u001b[0;36m1\u001b[0m\u001b[0;34m]\u001b[0m \u001b[0;32mfor\u001b[0m \u001b[0mi\u001b[0m \u001b[0;32min\u001b[0m \u001b[0mcclf_orga_rnaseq\u001b[0m\u001b[0;34m.\u001b[0m\u001b[0mindex\u001b[0m\u001b[0;34m]\u001b[0m\u001b[0;34m\u001b[0m\u001b[0;34m\u001b[0m\u001b[0m\n",
      "\u001b[0;31mNameError\u001b[0m: name 'rename' is not defined"
     ]
    }
   ],
   "source": [
    "cclf_orga_info = tc.get(name='cclf-organoids-c23d', version=1, file='cclf_orga_info')\n",
    "cclf_orga_info = cclf_orga_info.rename(columns=rename)[rename.values()]\n",
    "cclf_orga_rnaseq = tc.get(name='cclf-organoids-c23d', version=1, file='cclf_orga_rnaseq').T # 40,000x24\n",
    "cclf_orga_info.index = [i.split(\"_\")[1] for i in cclf_orga_info.sample_id]\n",
    "cclf_orga_rnaseq.index = [i.split('_')[0][:-1] for i in cclf_orga_rnaseq.index]"
   ]
  },
  {
   "cell_type": "code",
   "execution_count": 536,
   "metadata": {
    "ExecuteTime": {
     "end_time": "2021-11-05T18:50:12.774188Z",
     "start_time": "2021-11-05T18:50:12.738801Z"
    }
   },
   "outputs": [
    {
     "data": {
      "text/html": [
       "<div>\n",
       "<style scoped>\n",
       "    .dataframe tbody tr th:only-of-type {\n",
       "        vertical-align: middle;\n",
       "    }\n",
       "\n",
       "    .dataframe tbody tr th {\n",
       "        vertical-align: top;\n",
       "    }\n",
       "\n",
       "    .dataframe thead th {\n",
       "        text-align: right;\n",
       "    }\n",
       "</style>\n",
       "<table border=\"1\" class=\"dataframe\">\n",
       "  <thead>\n",
       "    <tr style=\"text-align: right;\">\n",
       "      <th></th>\n",
       "      <th>Genomic_Seq</th>\n",
       "      <th>RNA_Seq_cancertype</th>\n",
       "      <th>RNA_Seq_marker</th>\n",
       "      <th>CCLF_ID</th>\n",
       "      <th>Diagnosis</th>\n",
       "      <th>Subtype_patient</th>\n",
       "      <th>Tumor_type</th>\n",
       "      <th>Sample_type</th>\n",
       "    </tr>\n",
       "  </thead>\n",
       "  <tbody>\n",
       "    <tr>\n",
       "      <th>0</th>\n",
       "      <td>Pending</td>\n",
       "      <td>BREAST_BASAL</td>\n",
       "      <td>None</td>\n",
       "      <td>CCLF_cRCRF1048</td>\n",
       "      <td>Advanced breast cancer</td>\n",
       "      <td>ER/PR+, HER2-</td>\n",
       "      <td>Metastatic</td>\n",
       "      <td>Pleural effusion</td>\n",
       "    </tr>\n",
       "    <tr>\n",
       "      <th>1</th>\n",
       "      <td>Pending</td>\n",
       "      <td>BREAST_BASAL</td>\n",
       "      <td>None</td>\n",
       "      <td>CCLF_cRCRF1060</td>\n",
       "      <td>Invasive breast carcinoma</td>\n",
       "      <td>ER+/PR-, Her2 IHC 1+</td>\n",
       "      <td>Metastatic</td>\n",
       "      <td>Pleural effusion</td>\n",
       "    </tr>\n",
       "    <tr>\n",
       "      <th>2</th>\n",
       "      <td>Pending</td>\n",
       "      <td>BREAST_BASAL</td>\n",
       "      <td>None</td>\n",
       "      <td>CCLF_KL1337</td>\n",
       "      <td>Breast met to brain</td>\n",
       "      <td>Pending</td>\n",
       "      <td>Metastatic</td>\n",
       "      <td>Brain met resection</td>\n",
       "    </tr>\n",
       "    <tr>\n",
       "      <th>3</th>\n",
       "      <td>Pending</td>\n",
       "      <td>BREAST_BASAL/LUMINAL</td>\n",
       "      <td>None</td>\n",
       "      <td>CCLF_KL1310</td>\n",
       "      <td>Breast met to brain</td>\n",
       "      <td>Pending</td>\n",
       "      <td>Metastatic</td>\n",
       "      <td>None</td>\n",
       "    </tr>\n",
       "    <tr>\n",
       "      <th>4</th>\n",
       "      <td>Pending</td>\n",
       "      <td>BREAST_LUMINAL</td>\n",
       "      <td>ER+</td>\n",
       "      <td>CCLF_KL1271</td>\n",
       "      <td>Breast met to brain</td>\n",
       "      <td>Pending</td>\n",
       "      <td>Metastatic</td>\n",
       "      <td>Brain met resection</td>\n",
       "    </tr>\n",
       "    <tr>\n",
       "      <th>5</th>\n",
       "      <td>Pending</td>\n",
       "      <td>BREAST_LUMINAL</td>\n",
       "      <td>ER+</td>\n",
       "      <td>CCLF_KL1333</td>\n",
       "      <td>Invasive breast carcinoma</td>\n",
       "      <td>Pending</td>\n",
       "      <td>Metastatic</td>\n",
       "      <td>Cryopreserved tissue</td>\n",
       "    </tr>\n",
       "    <tr>\n",
       "      <th>6</th>\n",
       "      <td>Pending</td>\n",
       "      <td>BREAST_LUMINAL</td>\n",
       "      <td>ER+</td>\n",
       "      <td>CCLF_KL1351</td>\n",
       "      <td>Breast met to brain</td>\n",
       "      <td>Pending</td>\n",
       "      <td>Metastatic</td>\n",
       "      <td>Brain met resection</td>\n",
       "    </tr>\n",
       "    <tr>\n",
       "      <th>7</th>\n",
       "      <td>Pending</td>\n",
       "      <td>BREAST_BASAL</td>\n",
       "      <td>None</td>\n",
       "      <td>CCLF_cRCRF1092</td>\n",
       "      <td>Advanced breast cancer</td>\n",
       "      <td>ER/PR+, HER2 negative</td>\n",
       "      <td>Metastatic</td>\n",
       "      <td>Pleural effusion</td>\n",
       "    </tr>\n",
       "    <tr>\n",
       "      <th>8</th>\n",
       "      <td>Pending</td>\n",
       "      <td>BREAST_LUMINAL</td>\n",
       "      <td>HER2+</td>\n",
       "      <td>CCLF_KL1312</td>\n",
       "      <td>Breast met to brain</td>\n",
       "      <td>Pending</td>\n",
       "      <td>Metastatic</td>\n",
       "      <td>Brain met resection</td>\n",
       "    </tr>\n",
       "    <tr>\n",
       "      <th>9</th>\n",
       "      <td>Pending</td>\n",
       "      <td>FIBROBLAST</td>\n",
       "      <td>None</td>\n",
       "      <td>CCLF_cRCRF1038</td>\n",
       "      <td>Advanced breast cancer</td>\n",
       "      <td>ER/PR+, HER2-</td>\n",
       "      <td>Metastatic</td>\n",
       "      <td>Pleural effusion</td>\n",
       "    </tr>\n",
       "    <tr>\n",
       "      <th>10</th>\n",
       "      <td>Pending</td>\n",
       "      <td>OVARY</td>\n",
       "      <td>None</td>\n",
       "      <td>CCLF_cRCRF1086</td>\n",
       "      <td>Uterine carcinoma</td>\n",
       "      <td>ERBB2amp, FGF2amp</td>\n",
       "      <td>Metastatic</td>\n",
       "      <td>Pleural effusion</td>\n",
       "    </tr>\n",
       "    <tr>\n",
       "      <th>11</th>\n",
       "      <td>Pending</td>\n",
       "      <td>OVARY</td>\n",
       "      <td>None</td>\n",
       "      <td>CCLF_SK1007</td>\n",
       "      <td>Ovarian carcinosarcoma</td>\n",
       "      <td>None</td>\n",
       "      <td>Metastatic</td>\n",
       "      <td>Resection</td>\n",
       "    </tr>\n",
       "    <tr>\n",
       "      <th>12</th>\n",
       "      <td>TWIST_verified</td>\n",
       "      <td>FIBROBLAST</td>\n",
       "      <td>None</td>\n",
       "      <td>CCLF_cRCRF1058</td>\n",
       "      <td>Ovarian cancer</td>\n",
       "      <td>BRAF V600E</td>\n",
       "      <td>Metastatic</td>\n",
       "      <td>Ascites</td>\n",
       "    </tr>\n",
       "    <tr>\n",
       "      <th>13</th>\n",
       "      <td>TWIST_verified</td>\n",
       "      <td>OVARY</td>\n",
       "      <td>None</td>\n",
       "      <td>CCLF_cRCRF1004</td>\n",
       "      <td>Ovarian serious cystadenocarcinoma</td>\n",
       "      <td>NF2 Y192*, TP53 376-1G&gt;A</td>\n",
       "      <td>Metastatic</td>\n",
       "      <td>Pleural effusion</td>\n",
       "    </tr>\n",
       "    <tr>\n",
       "      <th>14</th>\n",
       "      <td>TWIST_verified</td>\n",
       "      <td>None</td>\n",
       "      <td>None</td>\n",
       "      <td>CCLF_cRCRF1040</td>\n",
       "      <td>Advanced breast cancer</td>\n",
       "      <td>ER/PR+, HER2 -</td>\n",
       "      <td>Metastatic</td>\n",
       "      <td>Pleural effusion</td>\n",
       "    </tr>\n",
       "    <tr>\n",
       "      <th>15</th>\n",
       "      <td>TWIST_verified</td>\n",
       "      <td>None</td>\n",
       "      <td>None</td>\n",
       "      <td>CCLF_KL1220</td>\n",
       "      <td>Breast met to brain</td>\n",
       "      <td>ER-/PR-, HER2-</td>\n",
       "      <td>Metastatic</td>\n",
       "      <td>Brain met resection</td>\n",
       "    </tr>\n",
       "    <tr>\n",
       "      <th>16</th>\n",
       "      <td>TWIST_verified</td>\n",
       "      <td>None</td>\n",
       "      <td>None</td>\n",
       "      <td>CCLF_KL1282</td>\n",
       "      <td>Ovarian met to brain</td>\n",
       "      <td>Pending</td>\n",
       "      <td>Metastatic</td>\n",
       "      <td>Brain met resection</td>\n",
       "    </tr>\n",
       "  </tbody>\n",
       "</table>\n",
       "</div>"
      ],
      "text/plain": [
       "       Genomic_Seq    RNA_Seq_cancertype RNA_Seq_marker         CCLF_ID  \\\n",
       "0          Pending          BREAST_BASAL           None  CCLF_cRCRF1048   \n",
       "1          Pending          BREAST_BASAL           None  CCLF_cRCRF1060   \n",
       "2          Pending          BREAST_BASAL           None     CCLF_KL1337   \n",
       "3          Pending  BREAST_BASAL/LUMINAL           None     CCLF_KL1310   \n",
       "4          Pending        BREAST_LUMINAL            ER+     CCLF_KL1271   \n",
       "5          Pending        BREAST_LUMINAL            ER+     CCLF_KL1333   \n",
       "6          Pending        BREAST_LUMINAL            ER+     CCLF_KL1351   \n",
       "7          Pending          BREAST_BASAL           None  CCLF_cRCRF1092   \n",
       "8          Pending        BREAST_LUMINAL          HER2+     CCLF_KL1312   \n",
       "9          Pending            FIBROBLAST           None  CCLF_cRCRF1038   \n",
       "10         Pending                 OVARY           None  CCLF_cRCRF1086   \n",
       "11         Pending                 OVARY           None     CCLF_SK1007   \n",
       "12  TWIST_verified            FIBROBLAST           None  CCLF_cRCRF1058   \n",
       "13  TWIST_verified                 OVARY           None  CCLF_cRCRF1004   \n",
       "14  TWIST_verified                  None           None  CCLF_cRCRF1040   \n",
       "15  TWIST_verified                  None           None     CCLF_KL1220   \n",
       "16  TWIST_verified                  None           None     CCLF_KL1282   \n",
       "\n",
       "                             Diagnosis           Subtype_patient  Tumor_type  \\\n",
       "0               Advanced breast cancer             ER/PR+, HER2-  Metastatic   \n",
       "1            Invasive breast carcinoma      ER+/PR-, Her2 IHC 1+  Metastatic   \n",
       "2                  Breast met to brain                   Pending  Metastatic   \n",
       "3                  Breast met to brain                   Pending  Metastatic   \n",
       "4                  Breast met to brain                   Pending  Metastatic   \n",
       "5            Invasive breast carcinoma                   Pending  Metastatic   \n",
       "6                  Breast met to brain                   Pending  Metastatic   \n",
       "7               Advanced breast cancer     ER/PR+, HER2 negative  Metastatic   \n",
       "8                  Breast met to brain                   Pending  Metastatic   \n",
       "9               Advanced breast cancer             ER/PR+, HER2-  Metastatic   \n",
       "10                   Uterine carcinoma         ERBB2amp, FGF2amp  Metastatic   \n",
       "11              Ovarian carcinosarcoma                      None  Metastatic   \n",
       "12                      Ovarian cancer                BRAF V600E  Metastatic   \n",
       "13  Ovarian serious cystadenocarcinoma  NF2 Y192*, TP53 376-1G>A  Metastatic   \n",
       "14              Advanced breast cancer            ER/PR+, HER2 -  Metastatic   \n",
       "15                 Breast met to brain            ER-/PR-, HER2-  Metastatic   \n",
       "16                Ovarian met to brain                   Pending  Metastatic   \n",
       "\n",
       "             Sample_type  \n",
       "0       Pleural effusion  \n",
       "1       Pleural effusion  \n",
       "2    Brain met resection  \n",
       "3                   None  \n",
       "4    Brain met resection  \n",
       "5   Cryopreserved tissue  \n",
       "6    Brain met resection  \n",
       "7       Pleural effusion  \n",
       "8    Brain met resection  \n",
       "9       Pleural effusion  \n",
       "10      Pleural effusion  \n",
       "11             Resection  \n",
       "12               Ascites  \n",
       "13      Pleural effusion  \n",
       "14      Pleural effusion  \n",
       "15   Brain met resection  \n",
       "16   Brain met resection  "
      ]
     },
     "execution_count": 536,
     "metadata": {},
     "output_type": "execute_result"
    }
   ],
   "source": [
    "cclf_orga_info"
   ]
  },
  {
   "cell_type": "code",
   "execution_count": null,
   "metadata": {},
   "outputs": [],
   "source": [
    "cclf_orga_info['sequencer'] =\n",
    "cclf_orga_info['method'] ="
   ]
  },
  {
   "cell_type": "code",
   "execution_count": 480,
   "metadata": {
    "ExecuteTime": {
     "end_time": "2021-11-05T13:24:33.905741Z",
     "start_time": "2021-11-05T13:24:25.167741Z"
    },
    "scrolled": false
   },
   "outputs": [],
   "source": [
    "#cclf other\n",
    "cclfrna = dm.WorkspaceManager(\"nci-mimoun-bi-org/CCLF_RNA_2_0\").get_samples() #40,000x160\n",
    "\n",
    "cclfrna_anno = cclfrna[[\"external_id_rna\"]].replace({'NA': np.nan})\n",
    "\n",
    "cclfrna_annot = Sheets.from_files(MY_ID, MYSTORAGE_ID).get(\"https://docs.google.com/spreadsheets/d/1O9IV_v2vMbebkk_KDWu3LdKBQ16c8lThJKiiWvRxMUo\").sheets[2].to_frame()\n",
    "\n",
    "cclfrna_annot2 = Sheets.from_files(MY_ID, MYSTORAGE_ID).get(\"https://docs.google.com/spreadsheets/d/1O9IV_v2vMbebkk_KDWu3LdKBQ16c8lThJKiiWvRxMUo\").sheets[3].to_frame()\n",
    "# get it  from https://docs.google.com/spreadsheets/d/1O9IV_v2vMbebkk_KDWu3LdKBQ16c8lThJKiiWvRxMUo and get "
   ]
  },
  {
   "cell_type": "code",
   "execution_count": 392,
   "metadata": {
    "ExecuteTime": {
     "end_time": "2021-11-04T18:20:08.842140Z",
     "start_time": "2021-11-04T18:19:45.793943Z"
    },
    "scrolled": true
   },
   "outputs": [],
   "source": [
    "#files, failed, _, _, lowqual, _ = await expressions.postProcess(\"nci-mimoun-bi-org/CCLF_RNA_2_0\", \"all_samples\", samplesetToLoad = \"all_samples\", compute_enrichment=False, trancriptLevelCols = ['rsem_transcripts_expected_count', 'rsem_transcripts_tpm'], geneLevelCols = [\"rsem_genes_tpm\", \"rsem_genes_expected_count\"], save_output=\"data/\")\n",
    "#cclfrna = files['rsem_genes_tpm']\n",
    "cclfrna = pd.read_csv('data/expression_genes_tpm.csv', index_col=0)"
   ]
  },
  {
   "cell_type": "code",
   "execution_count": 481,
   "metadata": {
    "ExecuteTime": {
     "end_time": "2021-11-05T13:24:41.313005Z",
     "start_time": "2021-11-05T13:24:41.278059Z"
    }
   },
   "outputs": [],
   "source": [
    "ina = (cclfrna_annot2['Passage Number'].isna() | (cclfrna_annot2['Passage Number']==\"Unknown\")) & ~(cclfrna_annot2[\"Passage Number on Receipt\"].isna() | (cclfrna_annot2[\"Passage Number on Receipt\"]==\"Unknown\"))\n",
    "cclfrna_annot2.loc[ina, \"Passage Number\"] = cclfrna_annot2.loc[ina, \"Passage Number on Receipt\"].values\n",
    "\n",
    "ina = (cclfrna_annot2['Gender'].isna() | (cclfrna_annot2['Gender']==\"Unknown\")) & ~(cclfrna_annot2[\"Gender.1\"].isna() | (cclfrna_annot2[\"Gender.1\"]==\"Unknown\"))\n",
    "cclfrna_annot2.loc[ina, \"genderA\"] = cclfrna_annot2.loc[ina, \"Gender.1\"].values\n",
    "\n",
    "ina = (cclfrna_annot2['Gender'].isna() | (cclfrna_annot2['Gender']==\"Unknown\")) & ~(cclfrna_annot2[\"FP Gender\"].isna() | (cclfrna_annot2[\"FP Gender\"]==\"Unknown\"))\n",
    "cclfrna_annot2.loc[ina, \"Gender\"] = cclfrna_annot2.loc[ina, \"FP Gender\"].values\n",
    "\n",
    "ina = (cclfrna_annot2['Race'].isna() | (cclfrna_annot2['Race']==\"Unknown\")) & ~(cclfrna_annot2[\"Ethnicity\"].isna() | (cclfrna_annot2[\"Ethnicity\"]==\"Unknown\"))\n",
    "cclfrna_annot2.loc[ina, \"Race\"] = cclfrna_annot2.loc[ina, \"Ethnicity\"].values\n"
   ]
  },
  {
   "cell_type": "code",
   "execution_count": 537,
   "metadata": {
    "ExecuteTime": {
     "end_time": "2021-11-05T18:51:32.117929Z",
     "start_time": "2021-11-05T18:51:32.090942Z"
    }
   },
   "outputs": [
    {
     "data": {
      "text/plain": [
       "Age                              NaN\n",
       "Gender                           NaN\n",
       "Sample Type                   Normal\n",
       "Tumor Type                       NaN\n",
       "Tissue Site                      NaN\n",
       "Tumor Percent                    NaN\n",
       "Primary Disease    Mouse Fibroblasts\n",
       "Race                             NaN\n",
       "Culture Medium                   NaN\n",
       "Passage Number                   NaN\n",
       "index                            NaN\n",
       "Name: 3T3/J2_CL, dtype: object"
      ]
     },
     "execution_count": 537,
     "metadata": {},
     "output_type": "execute_result"
    }
   ],
   "source": [
    "cclfrna_annot2.iloc[0]"
   ]
  },
  {
   "cell_type": "code",
   "execution_count": 538,
   "metadata": {
    "ExecuteTime": {
     "end_time": "2021-11-05T18:51:41.943692Z",
     "start_time": "2021-11-05T18:51:41.918535Z"
    }
   },
   "outputs": [
    {
     "data": {
      "text/plain": [
       "Sequencing on Tissue or Cell model? (MT confirm)                                           Cell model\n",
       "External ID for BAM                                                                         AB002T_BT\n",
       "Product                                             Tru-Seq Strand Specific Large Insert RNA Seque...\n",
       "Original Material Type                                                        Cells:Cell Line, Viable\n",
       "Collaborator Participant ID                                                                     AB002\n",
       "Aggregated                                                                                        0.0\n",
       "Actual Seq Technology                                                                             NaN\n",
       "Contamination %                                                                                  1.07\n",
       "Age                                                                                           Unknown\n",
       "Gender                                                                                            NaN\n",
       "Sample Type                                                                                     Tumor\n",
       "Tumor Type                                                                                    Primary\n",
       "Tissue Site                                                                                 Esophagus\n",
       "Tumor Percent                                                                                     NaN\n",
       "Primary Disease                                                                        Adenocarcinoma\n",
       "Race                                                                                              NaN\n",
       "Culture Medium                                                                                    NaN\n",
       "Passage Number                                                                                    NaN\n",
       "index                                                                                             NaN\n",
       "Name: AB002T_BT, dtype: object"
      ]
     },
     "execution_count": 538,
     "metadata": {},
     "output_type": "execute_result"
    }
   ],
   "source": [
    "cclfrna_annot.iloc[0]"
   ]
  },
  {
   "cell_type": "code",
   "execution_count": 482,
   "metadata": {
    "ExecuteTime": {
     "end_time": "2021-11-05T13:24:48.484020Z",
     "start_time": "2021-11-05T13:24:48.457543Z"
    }
   },
   "outputs": [],
   "source": [
    "cclfrna_annot2 = cclfrna_annot2.set_index('Collaborator Sample ID')[[\"Age\",\n",
    "\"Gender\",\n",
    "\"Tumor Type\",\n",
    "\"Tissue Site\",\n",
    "\"Primary Disease\",\n",
    "\"Race\",\n",
    "\"Culture Medium\",\n",
    "\"Passage Number\",]]"
   ]
  },
  {
   "cell_type": "code",
   "execution_count": 483,
   "metadata": {
    "ExecuteTime": {
     "end_time": "2021-11-05T13:24:55.581917Z",
     "start_time": "2021-11-05T13:24:55.558070Z"
    }
   },
   "outputs": [],
   "source": [
    "cclfrna_annot = cclfrna_annot[[\n",
    " 'Sequencing on Tissue or Cell model? (MT confirm)',\n",
    " 'External ID for BAM',\n",
    " 'Product',\n",
    " 'RIN',\n",
    " 'Collaborator Sample ID',\n",
    " 'Original Material Type',\n",
    " 'Collaborator Participant ID',\n",
    " 'Aggregated',\n",
    " 'Actual Seq Technology',\n",
    " 'Contamination %',\n",
    "]].set_index('Collaborator Sample ID', drop=True)"
   ]
  },
  {
   "cell_type": "code",
   "execution_count": 522,
   "metadata": {
    "ExecuteTime": {
     "end_time": "2021-11-05T15:53:19.704107Z",
     "start_time": "2021-11-05T15:53:19.183943Z"
    }
   },
   "outputs": [],
   "source": [
    "for val in h.dups(cclfrna_annot2.index):\n",
    "    for i in range(len(cclfrna_annot2.loc[val])-1):\n",
    "        if cclfrna_annot2.loc[val].iloc[0].isna().sum() > cclfrna_annot2.loc[val].iloc[i+1].isna().sum():\n",
    "            cclfrna_annot2.iloc[np.argwhere(cclfrna_annot2.index == val).flatten()[0]] = cclfrna_annot2.loc[val].iloc[i+1].values\n",
    "cclfrna_annot2 = cclfrna_annot2[~cclfrna_annot2.index.duplicated(keep='first')]"
   ]
  },
  {
   "cell_type": "code",
   "execution_count": 525,
   "metadata": {
    "ExecuteTime": {
     "end_time": "2021-11-05T15:54:10.486172Z",
     "start_time": "2021-11-05T15:54:10.446749Z"
    }
   },
   "outputs": [],
   "source": [
    "for val in h.dups(cclfrna_annot.index):\n",
    "    for i in range(len(cclfrna_annot.loc[val])-1):\n",
    "        if cclfrna_annot.loc[val].iloc[0].isna().sum() > cclfrna_annot.loc[val].iloc[i+1].isna().sum():\n",
    "            cclfrna_annot.iloc[np.argwhere(cclfrna_annot.index == val).flatten()[0]] = cclfrna_annot.loc[val].iloc[i+1].values\n",
    "cclfrna_annot = cclfrna_annot[~cclfrna_annot.index.duplicated(keep='first')]"
   ]
  },
  {
   "cell_type": "code",
   "execution_count": 526,
   "metadata": {
    "ExecuteTime": {
     "end_time": "2021-11-05T15:54:17.519504Z",
     "start_time": "2021-11-05T15:54:17.495062Z"
    }
   },
   "outputs": [],
   "source": [
    "cclfrna_annot = pd.concat([cclfrna_annot, cclfrna_annot2], axis=1)"
   ]
  },
  {
   "cell_type": "code",
   "execution_count": 528,
   "metadata": {
    "ExecuteTime": {
     "end_time": "2021-11-05T15:55:12.839152Z",
     "start_time": "2021-11-05T15:55:11.443200Z"
    }
   },
   "outputs": [],
   "source": [
    "for i, val in cclfrna_annot.iterrows():\n",
    "    cclfrna_anno.loc[cclfrna_anno.external_id_rna==i, cclfrna_annot.columns] = val.values\n",
    "del cclfrna_annot"
   ]
  },
  {
   "cell_type": "markdown",
   "metadata": {},
   "source": [
    "## MET500 and PDXs"
   ]
  },
  {
   "cell_type": "code",
   "execution_count": 544,
   "metadata": {
    "ExecuteTime": {
     "end_time": "2021-11-05T19:11:16.276168Z",
     "start_time": "2021-11-05T19:11:16.247366Z"
    },
    "scrolled": true
   },
   "outputs": [
    {
     "data": {
      "text/plain": [
       "Sample_id        ES_5001-capt-SI_5013-C0LAMACXX\n",
       "sample_type                               tumor\n",
       "sample_source                           ES_5001\n",
       "dataset                                    mctp\n",
       "tissue                                   breast\n",
       "cohort                                     BRCA\n",
       "run.id           ES_5001-capt-SI_5013-C0LAMACXX\n",
       "idx                                         461\n",
       "test                                      False\n",
       "tc                                         0.93\n",
       "biopsy_tissue                             brain\n",
       "Name: 0, dtype: object"
      ]
     },
     "execution_count": 544,
     "metadata": {},
     "output_type": "execute_result"
    }
   ],
   "source": [
    "met500_meta.iloc[0]"
   ]
  },
  {
   "cell_type": "code",
   "execution_count": 606,
   "metadata": {
    "ExecuteTime": {
     "end_time": "2021-11-05T20:48:40.176744Z",
     "start_time": "2021-11-05T20:48:40.148382Z"
    }
   },
   "outputs": [],
   "source": [
    "tcga_dict = {\n",
    "\"LAML\":\t\"Acute Myeloid Leukemia\",\n",
    "\"ACC\":\t\"Adrenocortical carcinoma\",\n",
    "\"BLCA\":\t\"Bladder Urothelial Carcinoma\",\n",
    "\"BOCA\":\t\"Bone Cancer\",\n",
    "\"LGG\":\t\"Brain Lower Grade Glioma\",\n",
    "\"BRCA\":\t\"Breast invasive carcinoma\",\n",
    "\"CESC\":\t\"Cervical squamous cell carcinoma and endocervical adenocarcinoma\",\n",
    "\"CHOL\":\t\"Cholangiocarcinoma\",\n",
    "\"CLLE\":\t\"Chronic Lymphocytic Leukemia\",\n",
    "\"CMDI\":\t\"Chronic Myeloid Disorders\",\n",
    "\"COAD\":\t\"Colon adenocarcinoma\",\n",
    "\"COLO\":\t\"Colorectal Cancer\",\n",
    "\"COADREAD\":\t\"Colorectal cancer\",\n",
    "\"EOPC\":\t\"Early Onset Prostate Cancer\",\n",
    "\"ESAD\":\t\"Esophageal Adenocarcinoma\",\n",
    "\"ESCA\":\t\"Esophageal carcinoma\",\n",
    "\"CHOL\":\t\"Gallbladder cancer\",\n",
    "\"GBM\":\t\"Glioblastoma multiforme\",\n",
    "\"HNSC\":\t\"Head and Neck squamous cell carcinoma\",\n",
    "\"KDNY\":\t\"Kidney Cancer\",\n",
    "\"KICH\":\t\"Kidney Chromophobe\",\n",
    "\"KIRC\":\t\"Kidney renal clear cell carcinoma\",\n",
    "\"KIRP\":\t\"Kidney renal papillary cell carcinoma\",\n",
    "\"LIRI\":\t\"Liver Cancer\",\n",
    "\"LICA\":\t\"Liver Cancer\",\n",
    "\"LINC\":\t\"Liver Cancer\",\n",
    "\"HCC\":\t\"Liver hepatocellular carcinoma\",\n",
    "\"LIHC\":\t\"Liver hepatocellular carcinoma\",\n",
    "\"LGG\":\t\"Lower Grade GLioma\",\n",
    "\"LUNG\":\t\"Lung Cancer\",\n",
    "\"LUAD\":\t\"Lung adenocarcinoma\",\n",
    "\"LUSC\":\t\"Lung squamous cell carcinoma\",\n",
    "\"DLBC\":\t\"Lymphoid Neoplasm Diffuse Large B-cell Lymphoma\",\n",
    "\"MCTP\":\t\"MCTP\",\n",
    "\"MALY\":\t\"Malignant Lymphoma\",\n",
    "\"MESO\":\t\"Mesothelioma\",\n",
    "\"NBL\":\t\"Neuroblastoma\",\n",
    "\"ORCA\":\t\"Oral Cancer\",\n",
    "\"MISC\":\t\"Other Cancer\",\n",
    "\"OV\":\t\"Ovarian serous cystadenocarcinoma\",\n",
    "\"PACA\":\t\"Pancreatic Cancer\",\n",
    "\"PAEN\":\t\"Pancreatic Cancer Endocrine neoplasms\",\n",
    "\"PAAD\":\t\"Pancreatic adenocarcinoma\",\n",
    "\"PBCA\":\t\"Pediatric Brain Cancer\",\n",
    "\"PCPG\":\t\"Pheochromocytoma and Paraganglioma\",\n",
    "\"PRAD\":\t\"Prostate adenocarcinoma\",\n",
    "\"READ\":\t\"Rectum adenocarcinoma\",\n",
    "\"RECA\":\t\"Renal Cancer\",\n",
    "\"SARC\":\t\"Sarcoma\",\n",
    "\"SECR\":\t\"Secretory Cancer\",\n",
    "\"SKCM\":\t\"Skin Cutaneous Melanoma\",\n",
    "\"STAD\":\t\"Stomach adenocarcinoma\",\n",
    "\"TGCT\":\t\"Testicular Germ Cell Tumor\",\n",
    "\"TGCT\":\t\"Testicular Germ Cell Tumors\",\n",
    "\"THYM\":\t\"Thymoma\",\n",
    "\"THYM\":\t\"Thymoma\",\n",
    "\"THCA\":\t\"Thyroid carcinoma\",\n",
    "\"UCS\":\t\"Uterine Carcinosarcoma\",\n",
    "\"UCEC\":\t\"Uterine Corpus Endometrial Carcinoma\",\n",
    "\"UVM\":\t\"Uveal Melanoma\",\n",
    "\"ACC\":\t\"adrenocortical carcinoma\",\n",
    "}"
   ]
  },
  {
   "cell_type": "code",
   "execution_count": 607,
   "metadata": {
    "ExecuteTime": {
     "end_time": "2021-11-05T20:48:49.148869Z",
     "start_time": "2021-11-05T20:48:49.118648Z"
    }
   },
   "outputs": [],
   "source": [
    "met500_meta = met500_meta.replace({\"cohort\": tcga_dict})"
   ]
  },
  {
   "cell_type": "code",
   "execution_count": 542,
   "metadata": {
    "ExecuteTime": {
     "end_time": "2021-11-05T19:04:26.114792Z",
     "start_time": "2021-11-05T19:04:20.128143Z"
    },
    "scrolled": true
   },
   "outputs": [
    {
     "name": "stdout",
     "output_type": "stream",
     "text": [
      "No dataset version provided. Using version 1.\n",
      "No dataset version provided. Using version 1.\n",
      "No dataset version provided. Using version 1.\n",
      "No dataset version provided. Using version 2.\n",
      "No dataset version provided. Using version 2.\n",
      "No dataset version provided. Using version 2.\n",
      "No dataset version provided. Using version 2.\n"
     ]
    }
   ],
   "source": [
    "# met500 \n",
    "met500_meta = tc.get(name='met500-fc3c', file='met500_meta')\n",
    "met500_TPM = tc.get(name='met500-fc3c', file='met500_TPM') #20,979x868 matrix\n",
    "\n",
    "#Novartis_PDX\n",
    "Novartis_PDX_ann = tc.get(name='pdx-data-3d29', file='Novartis_PDX_ann')\n",
    "Novartis_PDX_TPM = tc.get(name='pdx-data-3d29', file='Novartis_PDX_TPM').T # 38,087x445\n",
    "\n",
    "#pediatric_PDX\n",
    "pediatric_PDX_ann = tc.get(name='pdx-data-3d29', file='pediatric_PDX_ann')\n",
    "pediatric_PDX_TPM = tc.get(name='pdx-data-3d29', file='pediatric_PDX_TPM') #80,000x250"
   ]
  },
  {
   "cell_type": "code",
   "execution_count": null,
   "metadata": {},
   "outputs": [],
   "source": [
    "met500_meta = met500_meta.rename(columns={**rename, **{'subtype': \"disease_type\"}}).set_index('sample_id', drop=True)[rename.values()]"
   ]
  },
  {
   "cell_type": "code",
   "execution_count": null,
   "metadata": {},
   "outputs": [],
   "source": [
    "met500_meta['sequencer'] = \"\"\n",
    "met500_meta['method'] = \"\""
   ]
  },
  {
   "cell_type": "code",
   "execution_count": 347,
   "metadata": {
    "ExecuteTime": {
     "end_time": "2021-11-04T17:25:51.205859Z",
     "start_time": "2021-11-04T17:25:51.166956Z"
    }
   },
   "outputs": [
    {
     "data": {
      "text/plain": [
       "sampleID                                                                                  ALL-102\n",
       "lineage                                                                                     blood\n",
       "subtype                                                                                       ALL\n",
       "Histology                                                                                     ALL\n",
       "Histology.Detailed                                                                     Ph-likeALL\n",
       "Histology-Detailed2                                                                    Ph-likeALL\n",
       "Molecular-Subtype-Brain                                                                      None\n",
       "PI                                                                                           Lock\n",
       "Sex                                                                                          Male\n",
       "Phase                                                                                   Diagnosis\n",
       "Age                                                                                          3.08\n",
       "Reported_Ethnicity                                                                        Unknown\n",
       "Inferred_Ethnicity                                                                       European\n",
       "PC1                                                                                      0.016946\n",
       "PC2                                                                                      0.029382\n",
       "PC3                                                                                      0.005415\n",
       "Site.of.Initial.Tumor                                                                     Unknown\n",
       "Site.of.Specimen                                                                      Bone marrow\n",
       "New Histopathology                                                                      Not noted\n",
       "Stage.of.Disease                                                                          Unknown\n",
       "Risk.Group                                                                                   None\n",
       "COG studies                                                                               Unknown\n",
       "Prior Therapy                                                                         No Prior Tx\n",
       "Patient.last.alive.year                                                                      2009\n",
       "Patient.OS.to.last.alive.date.days.                                                          2443\n",
       "Patient.EFS.from.Dx.to.1st.Progression.days.                                                  827\n",
       "Time.from.Dx.to.sample.for.model.days.                                                          0\n",
       "Other_info1                                     Same patient as ALL-105 (rel1) and ALL-115 (rel3)\n",
       "type                                                                                          PDX\n",
       "Name: 0, dtype: object"
      ]
     },
     "execution_count": 347,
     "metadata": {},
     "output_type": "execute_result"
    }
   ],
   "source": [
    "pediatric_PDX_ann.iloc[0]"
   ]
  },
  {
   "cell_type": "code",
   "execution_count": 70,
   "metadata": {
    "ExecuteTime": {
     "end_time": "2021-10-18T16:58:37.201465Z",
     "start_time": "2021-10-18T16:58:37.162448Z"
    },
    "scrolled": true
   },
   "outputs": [
    {
     "data": {
      "text/plain": [
       "[('ALL-105', 'ALL-102'),\n",
       " ('ALL-102', 'ALL-105'),\n",
       " '',\n",
       " '',\n",
       " '',\n",
       " '',\n",
       " ('ALL-102', 'ALL-115'),\n",
       " '',\n",
       " '',\n",
       " '',\n",
       " ('ALL-46', 'ALL-121'),\n",
       " '',\n",
       " ('ALL-58', 'ALL-123'),\n",
       " '',\n",
       " '',\n",
       " '',\n",
       " '',\n",
       " '',\n",
       " '',\n",
       " '',\n",
       " '',\n",
       " ('ALL-121', 'ALL-46'),\n",
       " '',\n",
       " '',\n",
       " '',\n",
       " '',\n",
       " '',\n",
       " ('ALL-123', 'ALL-58'),\n",
       " '',\n",
       " ('ALL-25', 'ALL-61'),\n",
       " '',\n",
       " '',\n",
       " ('ALL-81', 'ALL-80'),\n",
       " ('ALL-80', 'ALL-81'),\n",
       " '',\n",
       " ('ALL-32', 'ALL-90'),\n",
       " '',\n",
       " '',\n",
       " '',\n",
       " '',\n",
       " '',\n",
       " '',\n",
       " '',\n",
       " '',\n",
       " '',\n",
       " '',\n",
       " '',\n",
       " ('ALL-61', 'ALL-25'),\n",
       " '',\n",
       " '',\n",
       " '',\n",
       " ('ALL-90', 'ALL-32'),\n",
       " '',\n",
       " '',\n",
       " '',\n",
       " '',\n",
       " '',\n",
       " '',\n",
       " ('ALL-83', 'ALL-82'),\n",
       " ('ALL-82', 'ALL-83'),\n",
       " '',\n",
       " '',\n",
       " '',\n",
       " '',\n",
       " '',\n",
       " '',\n",
       " '',\n",
       " '',\n",
       " '',\n",
       " '',\n",
       " '',\n",
       " '',\n",
       " '',\n",
       " '',\n",
       " '',\n",
       " '',\n",
       " ('COG-N-453x', 'COG-N-452x'),\n",
       " ('COG-N-452x', 'COG-N-453x'),\n",
       " '',\n",
       " '',\n",
       " '',\n",
       " '',\n",
       " '',\n",
       " '',\n",
       " '',\n",
       " '',\n",
       " '',\n",
       " '',\n",
       " '',\n",
       " ('COG-N-623x', 'COG-N-603x'),\n",
       " ('COG-N-618x', 'COG-N-619x'),\n",
       " '',\n",
       " ('COG-N-603x', 'COG-N-623x'),\n",
       " '',\n",
       " '',\n",
       " '',\n",
       " '',\n",
       " '',\n",
       " '',\n",
       " '',\n",
       " '',\n",
       " '',\n",
       " '',\n",
       " '',\n",
       " '',\n",
       " '',\n",
       " '',\n",
       " '',\n",
       " '',\n",
       " '',\n",
       " '',\n",
       " '',\n",
       " '',\n",
       " '',\n",
       " '',\n",
       " '',\n",
       " '',\n",
       " ('9850PNET; recurrent', 'IC-22909PNET-rIII'),\n",
       " '',\n",
       " '',\n",
       " '',\n",
       " '',\n",
       " '',\n",
       " '',\n",
       " '',\n",
       " '',\n",
       " '',\n",
       " '',\n",
       " '',\n",
       " '',\n",
       " '',\n",
       " '',\n",
       " '',\n",
       " '',\n",
       " '',\n",
       " '',\n",
       " '',\n",
       " '',\n",
       " '',\n",
       " '',\n",
       " '',\n",
       " '',\n",
       " '',\n",
       " '',\n",
       " '',\n",
       " '',\n",
       " ('22909PNET; primary', 'ICb-9850PNET'),\n",
       " '',\n",
       " '',\n",
       " '',\n",
       " '',\n",
       " '',\n",
       " '',\n",
       " '',\n",
       " '',\n",
       " '',\n",
       " '',\n",
       " '',\n",
       " '',\n",
       " '',\n",
       " '',\n",
       " '',\n",
       " '',\n",
       " '',\n",
       " '',\n",
       " '',\n",
       " '',\n",
       " '',\n",
       " '',\n",
       " '',\n",
       " '',\n",
       " '',\n",
       " '',\n",
       " '',\n",
       " '',\n",
       " ('NCH-CA-2', 'NCH-CA-1'),\n",
       " ('NCH-CA-1', 'NCH-CA-2'),\n",
       " '',\n",
       " '',\n",
       " '',\n",
       " '',\n",
       " '',\n",
       " '',\n",
       " '',\n",
       " '',\n",
       " '',\n",
       " '',\n",
       " '',\n",
       " '',\n",
       " '',\n",
       " '',\n",
       " '',\n",
       " '',\n",
       " '',\n",
       " '',\n",
       " '',\n",
       " '',\n",
       " '',\n",
       " '',\n",
       " ('OS-36 and OS-36-SJ', 'OS-32'),\n",
       " '',\n",
       " ('OS-34-SJ', 'OS-34'),\n",
       " ('OS-34', 'OS-34-SJ'),\n",
       " '',\n",
       " '',\n",
       " '',\n",
       " '',\n",
       " '',\n",
       " '',\n",
       " '',\n",
       " '',\n",
       " '',\n",
       " '',\n",
       " '',\n",
       " '',\n",
       " '',\n",
       " '',\n",
       " '',\n",
       " '',\n",
       " '',\n",
       " '',\n",
       " '',\n",
       " '',\n",
       " '',\n",
       " '',\n",
       " '',\n",
       " '',\n",
       " ('Rh-30R', 'Rh-30'),\n",
       " ('Rh-30', 'Rh-30R'),\n",
       " '',\n",
       " '',\n",
       " '',\n",
       " '',\n",
       " '',\n",
       " '',\n",
       " '',\n",
       " '',\n",
       " '',\n",
       " '',\n",
       " '',\n",
       " '',\n",
       " '',\n",
       " '',\n",
       " '']"
      ]
     },
     "execution_count": 70,
     "metadata": {},
     "output_type": "execute_result"
    }
   ],
   "source": [
    "[(i.split('me patient as ')[-1].split(' (')[0],v) if type(i) is str and 'ame patient' in i else '' for v, i in pediatric_PDX_ann[[\"sampleID\",\"Other_info1\"]].values]"
   ]
  },
  {
   "cell_type": "code",
   "execution_count": null,
   "metadata": {},
   "outputs": [],
   "source": [
    "pediatric_PDX_ann['participant_id'] = pediatric_PDX_ann.index\n",
    "\n",
    "#created frrom manual inspection\n",
    "samepatient = [('NCH-CA-2', 'NCH-CA-1'), ('ALL-105', 'ALL-102', \"ALL-115\"), ('ALL-46', 'ALL-121'), ('ALL-25', 'ALL-61'), ('ALL-81', 'ALL-80'), ('ALL-32', 'ALL-90'), ('ALL-58', 'ALL-123'), ('ALL-82', 'ALL-83'), (\"COG-N-623x\", \"COG-N-603x\"), (\"COG-N-453x\",\"COG-N-452x\"), (\"COG-N-618x\", \"COG-N-619x\"), ('22909PNET', '9850PNET'), ('OS-34', 'OS-34-SJ'), ('OS-36', 'OS-36-SJ', 'OS-32'),  ('Rh-30R', 'Rh-30')]\n",
    "\n",
    "for val in samepatient:\n",
    "    for i in val[1:]:\n",
    "        pediatric_PDX_ann.loc[i, 'participant_id']=val[0]\n",
    "        \n",
    "pediatric_PDX_ann['age'] = ['adult' if i =='Adult' else 'child' for i in pediatric_PDX_ann['Other_info1']]\n",
    "\n",
    "pediatric_PDX_ann.rename(columns={**rename, **{'subtype': \"disease_type\"}})[rename.values()]"
   ]
  },
  {
   "cell_type": "code",
   "execution_count": null,
   "metadata": {},
   "outputs": [],
   "source": [
    "pediatric_PDX_ann['sequencer'] = \"\"\n",
    "pediatric_PDX_ann['method'] = \"\""
   ]
  },
  {
   "cell_type": "code",
   "execution_count": 350,
   "metadata": {
    "ExecuteTime": {
     "end_time": "2021-11-04T17:28:58.855395Z",
     "start_time": "2021-11-04T17:28:58.830961Z"
    }
   },
   "outputs": [
    {
     "data": {
      "text/plain": [
       "sampleID           0931HXXTM\n",
       "lineage             pancreas\n",
       "subtype     ductal_carcinoma\n",
       "type                     PDX\n",
       "Name: 0, dtype: object"
      ]
     },
     "execution_count": 350,
     "metadata": {},
     "output_type": "execute_result"
    }
   ],
   "source": [
    "Novartis_PDX_ann.iloc[0]"
   ]
  },
  {
   "cell_type": "code",
   "execution_count": null,
   "metadata": {},
   "outputs": [],
   "source": [
    "Novartis_PDX_ann = Novartis_PDX_ann.rename(columns=rename).set_index('sample_id', drop=True)"
   ]
  },
  {
   "cell_type": "code",
   "execution_count": null,
   "metadata": {},
   "outputs": [],
   "source": [
    "Novartis_PDX_ann['sequencer'] = \"\"\n",
    "Novartis_PDX_ann['method'] = \"\""
   ]
  },
  {
   "cell_type": "markdown",
   "metadata": {},
   "source": [
    "## tumor inf elife"
   ]
  },
  {
   "cell_type": "code",
   "execution_count": 11,
   "metadata": {
    "ExecuteTime": {
     "end_time": "2021-11-02T19:11:26.114617Z",
     "start_time": "2021-11-02T19:11:25.546779Z"
    }
   },
   "outputs": [],
   "source": [
    "elife_tumorinf = tc.get(name='tumor-infiltration-3307', version=1, file='elife_tumorinf')"
   ]
  },
  {
   "cell_type": "code",
   "execution_count": null,
   "metadata": {
    "ExecuteTime": {
     "end_time": "2021-10-25T18:51:59.448214Z",
     "start_time": "2021-10-25T18:51:59.448152Z"
    }
   },
   "outputs": [],
   "source": [
    "elife_tumorinf = elife_tumorinf.rename(columns={\"Bcells\": \"B-cell\", \"CAFs\": \"CAF\", \"CD4_Tcells\": \"CD4_T-cells\", \"CD8_Tcells\": \"CD8_T-cells\",\"macrophage\": \"macrophage\", \"Endothelial\": \"endothelial\", \"NKcells\": \"NK-cell\"})"
   ]
  },
  {
   "cell_type": "code",
   "execution_count": 13,
   "metadata": {
    "ExecuteTime": {
     "end_time": "2021-11-02T19:46:37.001343Z",
     "start_time": "2021-11-02T19:46:36.967438Z"
    }
   },
   "outputs": [],
   "source": [
    "elife_tumorinf_ann = pd.DataFrame()\n",
    "elife_tumorinf_ann[\"cell_type\"] = \"normal\"\n",
    "elife_tumorinf_ann[\"tissue_type\"] = elife_tumorinf.columns\n",
    "elife_tumorinf_ann[\"sample_ID\"] = elife_tumorinf.columns\n",
    "melanoma_ann['sequencer'] = \"\"\n",
    "melanoma_ann['method'] = \"\"\n",
    "melanoma_ann['age'] = \"\"\n",
    "melanoma_ann['sex'] = \"\""
   ]
  },
  {
   "cell_type": "markdown",
   "metadata": {},
   "source": [
    "## tirosh's melanoma"
   ]
  },
  {
   "cell_type": "code",
   "execution_count": 4,
   "metadata": {
    "ExecuteTime": {
     "end_time": "2021-10-22T17:01:00.438880Z",
     "start_time": "2021-10-22T17:00:56.975339Z"
    }
   },
   "outputs": [
    {
     "name": "stdout",
     "output_type": "stream",
     "text": [
      "No dataset version provided. Using version 1.\n"
     ]
    }
   ],
   "source": [
    "melanoma = tc.get(name='tirosh-melanoma-scrnaseq-60f0', file='melanoma')"
   ]
  },
  {
   "cell_type": "code",
   "execution_count": 19,
   "metadata": {
    "ExecuteTime": {
     "end_time": "2021-10-22T18:22:25.947732Z",
     "start_time": "2021-10-22T18:22:25.913364Z"
    }
   },
   "outputs": [],
   "source": [
    "melanoma.columns = [i.replace('-', '_').replace('Cy', \"CY\").replace('cy', \"CY\").replace('CY88C', 'CY88_C').replace('CY89A', \"CY89_A\").replace('CY89C', 'CY89_C').replace('CY89F', 'CY89_F').replace('CY89N', 'CY89_N').replace('CY94C', 'CY94_C') for i in melanoma.columns]"
   ]
  },
  {
   "cell_type": "code",
   "execution_count": 20,
   "metadata": {
    "ExecuteTime": {
     "end_time": "2021-10-22T18:22:26.449947Z",
     "start_time": "2021-10-22T18:22:26.388003Z"
    },
    "scrolled": true
   },
   "outputs": [],
   "source": [
    "melanoma_ann = pd.DataFrame()\n",
    "\n",
    "typ={1:\"normal\", 2:\"tumor\",0: np.nan}\n",
    "orig={1:\"melanoma\", 2:\"B-cell\", 3: \"macrophage\", 4: \"endothelial\", 5: \"CAF\", 6:\"NK-cell\", 0: np.nan}\n",
    "\n",
    "melanoma_ann['age'] = [int(i) for i in melanoma.loc['tumor']]\n",
    "melanoma_ann[\"cell_type\"] = [typ[int(i)] for i in melanoma.loc['malignant(1=no,2=yes,0=unresolved)']]\n",
    "melanoma_ann['tissue_type'] = [orig[int(i)] for i in melanoma.loc['non-malignant cell type (1=T,2=B,3=Macro.4=Endo.,5=CAF;6=NK)']]\n",
    "melanoma_ann['name'] = [i.split('_')[0] for i in melanoma.columns]\n",
    "melanoma_ann['sample_id'] = melanoma.columns\n",
    "melanoma_ann['other'] = [i.split('_')[-2] for i in melanoma.columns]\n",
    "melanoma_ann['sequencer'] = \n",
    "melanoma_ann['method'] = "
   ]
  },
  {
   "cell_type": "markdown",
   "metadata": {},
   "source": [
    "## GTEX"
   ]
  },
  {
   "cell_type": "code",
   "execution_count": 613,
   "metadata": {
    "ExecuteTime": {
     "end_time": "2021-11-05T21:12:34.097787Z",
     "start_time": "2021-11-05T21:12:32.264829Z"
    }
   },
   "outputs": [],
   "source": [
    "from anndata import AnnData, read_h5ad"
   ]
  },
  {
   "cell_type": "code",
   "execution_count": 9,
   "metadata": {
    "ExecuteTime": {
     "end_time": "2021-10-07T15:32:58.173880Z",
     "start_time": "2021-10-07T15:32:43.752392Z"
    }
   },
   "outputs": [
    {
     "name": "stdout",
     "output_type": "stream",
     "text": [
      "  % Total    % Received % Xferd  Average Speed   Time    Time     Time  Current\n",
      "                                 Dload  Upload   Total   Spent    Left  Speed\n",
      "100 1810M  100 1810M    0     0   126M      0  0:00:14  0:00:14 --:--:--  126M\n"
     ]
    }
   ],
   "source": [
    "#! curl https://storage.googleapis.com/gtex_analysis_v9/snrna_seq_data/GTEx_8_tissues_snRNAseq_atlas_071421.public_obs.h5ad --output temp/gtex_8_atlas_public.h5ad\n",
    "\n",
    "## GTEX additional\n",
    "https://storage.googleapis.com/gtex_external_datasets/eyegex_data/rna_seq_data/EyeGEx_retina_combined_genelevel_expectedcounts_byrid_nooutlier.tpm.matrix.gct\n",
    "    \n",
    "https://storage.googleapis.com/gtex_external_datasets/eyegex_data/annotations/EyeGEx_meta_combined_inferior_retina_summary_deidentified_geo_ids.csv"
   ]
  },
  {
   "cell_type": "code",
   "execution_count": 614,
   "metadata": {
    "ExecuteTime": {
     "end_time": "2021-11-05T21:13:30.311278Z",
     "start_time": "2021-11-05T21:12:43.232265Z"
    }
   },
   "outputs": [],
   "source": [
    "gtex_v9 = read_h5ad(\"temp/gtex_8_atlas_public.h5ad\") #209,126 × 17,695"
   ]
  },
  {
   "cell_type": "code",
   "execution_count": 623,
   "metadata": {
    "ExecuteTime": {
     "end_time": "2021-11-05T22:02:02.000616Z",
     "start_time": "2021-11-05T22:02:01.970277Z"
    }
   },
   "outputs": [
    {
     "data": {
      "text/plain": [
       "n_genes                                                                    2658\n",
       "fpr                                                                         0.1\n",
       "tissue                                                           skeletalmuscle\n",
       "prep                                                                        CST\n",
       "individual                                                                   01\n",
       "nGenes                                                                     2902\n",
       "nUMIs                                                                   11544.0\n",
       "PercentMito                                                             0.07623\n",
       "PercentRibo                                                            0.051195\n",
       "Age_bin                                                                   51-60\n",
       "Sex                                                                        Male\n",
       "Sample ID                                              GTEX-1HSMQ-5011-SM-GKSJH\n",
       "Participant ID                                                       GTEX-1HSMQ\n",
       "Sample ID short                                                 GTEX-1HSMQ-5011\n",
       "RIN score from PAXgene tissue Aliquot                                       8.5\n",
       "RIN score from Frozen tissue Aliquot                                        7.8\n",
       "Autolysis Score                                                            None\n",
       "Sample Ischemic Time (mins)                                                 387\n",
       "Tissue Site Detail                                            Muscle - Skeletal\n",
       "scrublet                                                                  False\n",
       "scrublet_score                                                            0.184\n",
       "barcode                                                        TAGGCATGTAAATACG\n",
       "batch                                                                        73\n",
       "n_counts                                                                 9745.0\n",
       "tissue-individual-prep                                    skeletalmuscle_01_CST\n",
       "Broad cell type                               Myocyte (sk. muscle, cytoplasmic)\n",
       "Granular cell type                           Myocyte (slow-twitch, cytoplasmic)\n",
       "introns                                                                  9843.0\n",
       "junctions                                                                 467.0\n",
       "exons                                                                    6055.0\n",
       "sense                                                                   13989.0\n",
       "antisense                                                                2376.0\n",
       "intergenic                                                             111339.0\n",
       "batch-barcode                            skeletalmuscle_01_CST-TAGGCATGTAAATACG\n",
       "exon_ratio                                                             0.369997\n",
       "intron_ratio                                                           0.601467\n",
       "junction_ratio                                                         0.028537\n",
       "log10_nUMIs                                                            4.062356\n",
       "leiden                                                                       20\n",
       "leiden_tissue                                                                 7\n",
       "Tissue composition                                                       Muscle\n",
       "Cell types level 2                                                       Muscle\n",
       "Cell types level 3                                                      Stromal\n",
       "Broad cell type numbers                                                      33\n",
       "Broad cell type (numbers)                 33. Myocyte (sk. muscle, cytoplasmic)\n",
       "Tissue                                                          Skeletal muscle\n",
       "channel                                           skeletalmuscle_CST_GTEX-1HSMQ\n",
       "Name: CST01_TAGGCATGTAAATACG-skeletalmuscle, dtype: object"
      ]
     },
     "execution_count": 623,
     "metadata": {},
     "output_type": "execute_result"
    }
   ],
   "source": [
    "gtex_v9.obs = gtex_v9.obs[[\"Age_bin\",\"Sex\",\"Sample ID\", \"Participant ID\", \"RIN score from PAXgene tissue Aliquot\", \"Tissue\"]].rename(columns={**rename, **{\"tissue\": \"tissue_type\", \"Tissue\": \"collection_site\"}})"
   ]
  },
  {
   "cell_type": "code",
   "execution_count": null,
   "metadata": {},
   "outputs": [],
   "source": [
    "gtex_v9.obs['sequencer']=\"Illumina TrueSeq\""
   ]
  },
  {
   "cell_type": "code",
   "execution_count": null,
   "metadata": {},
   "outputs": [],
   "source": [
    "gtex_add = # 80,000 x 500"
   ]
  },
  {
   "cell_type": "markdown",
   "metadata": {},
   "source": [
    "## THEIS LAB scRNAseq datasets"
   ]
  },
  {
   "cell_type": "code",
   "execution_count": null,
   "metadata": {},
   "outputs": [],
   "source": [
    "https://theislab.github.io/sfaira-portal/Datasets #50,000x13,000\n"
   ]
  },
  {
   "cell_type": "markdown",
   "metadata": {},
   "source": [
    "## HCMI"
   ]
  },
  {
   "cell_type": "code",
   "execution_count": 620,
   "metadata": {
    "ExecuteTime": {
     "end_time": "2021-11-05T21:23:44.208705Z",
     "start_time": "2021-11-05T21:23:42.522598Z"
    }
   },
   "outputs": [
    {
     "name": "stdout",
     "output_type": "stream",
     "text": [
      "No dataset version provided. Using version 7.\n",
      "No dataset version provided. Using version 7.\n"
     ]
    }
   ],
   "source": [
    "# HCMI dataset\n",
    "# Code to generate this dataset can be found here:\n",
    "# https://github.com/broadinstitute/hcmi-processing/blob/main/hcmi-rna-analysis-210226.ipynb\n",
    "hcmi_ltpm = tc.get(name='hcmi-data-ac4b', file='hcmi_ltpm').T # 60486 x 157\n",
    "hcmi_sample_info = tc.get(name='hcmi-data-ac4b', file='hcmi_sample_info')\n",
    "#sample_info = tc.get(name='hcmi-data-ac4b', file='sample-info')"
   ]
  },
  {
   "cell_type": "code",
   "execution_count": 621,
   "metadata": {
    "ExecuteTime": {
     "end_time": "2021-11-05T21:24:08.124539Z",
     "start_time": "2021-11-05T21:24:08.099580Z"
    }
   },
   "outputs": [
    {
     "data": {
      "text/plain": [
       "{'Asian', 'Black or African American', None, 'Unknown', 'White'}"
      ]
     },
     "execution_count": 621,
     "metadata": {},
     "output_type": "execute_result"
    }
   ],
   "source": [
    "set(hcmi_sample_info.Race)"
   ]
  },
  {
   "cell_type": "code",
   "execution_count": 6,
   "metadata": {
    "ExecuteTime": {
     "end_time": "2021-11-02T18:59:12.710977Z",
     "start_time": "2021-11-02T18:59:12.682441Z"
    }
   },
   "outputs": [
    {
     "data": {
      "text/plain": [
       "Case ID                                                                  HCM-CSHL-0092-C25\n",
       "Primary Site                                                                      Pancreas\n",
       "Clinical Tumor Diagnosis                                                 Pancreatic cancer\n",
       "subtype                                                         Adenocarcinoma ductal type\n",
       "Tissue Status                                                                      Primary\n",
       "Acquisition Site                                                           Pancreatic head\n",
       "Gender                                                                                Male\n",
       "Race                                                                               Unknown\n",
       "Age At Acquisition (Years)                                                            69.0\n",
       "Age At Diagnosis (Years)                                                              69.0\n",
       "Disease Status                                                         Progressive disease\n",
       "Vital Status                                                                         Alive\n",
       "TNM Stage                                                                           T2N2M0\n",
       "Clinical Stage Grouping                                                          Stage III\n",
       "Histological Grade                                                                      G2\n",
       "Has Multiple Models                                                      HCM-CSHL-0092-C25\n",
       "Neoadjuvant Therapy                                                                     No\n",
       "Chemotherapeutic Drug List Available                                                   Yes\n",
       "Therapy                                                     Surgery,Cytotoxic chemotherapy\n",
       "Available Molecular Characterizations    WGS of parent tumor,WGS of normal,WGS of model...\n",
       "Link To Distributor                                                                 PDM-39\n",
       "Type                                                                         3-D: Organoid\n",
       "Licensing Required For Commercial Use                                                  Yes\n",
       "Expansion Status                                                                  Expanded\n",
       "# Mutated Genes                                                                         98\n",
       "# Research Somatic Variants                                                            100\n",
       "# Clinical Variants                                                                     --\n",
       "# Histo-pathological Biomarkers                                                         --\n",
       "sampleID                                                             HCM-CSHL-0092-C25-01A\n",
       "type                                                                            hcmi_tumor\n",
       "lineage                                                                           pancreas\n",
       "Name: 0, dtype: object"
      ]
     },
     "execution_count": 6,
     "metadata": {},
     "output_type": "execute_result"
    }
   ],
   "source": [
    "hcmi_sample_info.iloc[0]"
   ]
  },
  {
   "cell_type": "code",
   "execution_count": 5,
   "metadata": {
    "ExecuteTime": {
     "end_time": "2021-11-02T18:58:24.987896Z",
     "start_time": "2021-11-02T18:58:23.517890Z"
    }
   },
   "outputs": [
    {
     "data": {
      "text/plain": [
       "Index(['Case ID', 'Primary Site', 'Clinical Tumor Diagnosis', 'subtype',\n",
       "       'Tissue Status', 'Acquisition Site', 'Gender', 'Race',\n",
       "       'Age At Acquisition (Years)', 'Age At Diagnosis (Years)',\n",
       "       'Disease Status', 'Vital Status', 'TNM Stage',\n",
       "       'Clinical Stage Grouping', 'Histological Grade', 'Has Multiple Models',\n",
       "       'Neoadjuvant Therapy', 'Chemotherapeutic Drug List Available',\n",
       "       'Therapy', 'Available Molecular Characterizations',\n",
       "       'Link To Distributor', 'Type', 'Licensing Required For Commercial Use',\n",
       "       'Expansion Status', '# Mutated Genes', '# Research Somatic Variants',\n",
       "       '# Clinical Variants', '# Histo-pathological Biomarkers', 'sampleID',\n",
       "       'type', 'lineage'],\n",
       "      dtype='object')"
      ]
     },
     "execution_count": 5,
     "metadata": {},
     "output_type": "execute_result"
    }
   ],
   "source": [
    "hcmi_sample_info.columns\n",
    "rename {'Case ID': 'patient_ID', 'Primary Site': 'primary_site', 'subtype', 'lineage', "
   ]
  },
  {
   "cell_type": "markdown",
   "metadata": {},
   "source": [
    "## GDSC"
   ]
  },
  {
   "cell_type": "code",
   "execution_count": null,
   "metadata": {},
   "outputs": [],
   "source": [
    "for i in range(1):\n",
    "    val = \"E-MTAB-3610.raw.\"+i+\".zip\"\n",
    "    ! curl https://www.ebi.ac.uk/arrayexpress/files/E-MTAB-3610/$val -o temp/$val\n",
    "    ! gunzip temp/$val # 40,000x1200"
   ]
  },
  {
   "cell_type": "markdown",
   "metadata": {},
   "source": [
    "## L1000 dataset"
   ]
  },
  {
   "cell_type": "code",
   "execution_count": 31,
   "metadata": {
    "ExecuteTime": {
     "end_time": "2021-10-25T18:41:00.694897Z",
     "start_time": "2021-10-25T18:41:00.569651Z"
    }
   },
   "outputs": [],
   "source": [
    "# you will need python2 \n",
    "import cmapPy.pandasGEXpress.parse_gct as pg"
   ]
  },
  {
   "cell_type": "code",
   "execution_count": 32,
   "metadata": {
    "ExecuteTime": {
     "end_time": "2021-10-25T18:41:02.484893Z",
     "start_time": "2021-10-25T18:41:02.425848Z"
    }
   },
   "outputs": [
    {
     "name": "stderr",
     "output_type": "stream",
     "text": [
      "The given path to the gct file cannot be found. gct_path: temp/level5_beta_trt_misc_n8283x12328.gctx\n"
     ]
    },
    {
     "ename": "Exception",
     "evalue": "The given path to the gct file cannot be found. gct_path: temp/level5_beta_trt_misc_n8283x12328.gctx",
     "output_type": "error",
     "traceback": [
      "\u001b[0;31m---------------------------------------------------------------------------\u001b[0m",
      "\u001b[0;31mException\u001b[0m                                 Traceback (most recent call last)",
      "\u001b[0;32m/tmp/ipykernel_22242/1919766211.py\u001b[0m in \u001b[0;36m<module>\u001b[0;34m\u001b[0m\n\u001b[0;32m----> 1\u001b[0;31m \u001b[0mpg\u001b[0m\u001b[0;34m.\u001b[0m\u001b[0mparse\u001b[0m\u001b[0;34m(\u001b[0m\u001b[0;34m'temp/'\u001b[0m\u001b[0;34m+\u001b[0m\u001b[0;34m\"level5_beta_trt_misc_n8283x12328.gctx\"\u001b[0m\u001b[0;34m)\u001b[0m\u001b[0;34m\u001b[0m\u001b[0;34m\u001b[0m\u001b[0m\n\u001b[0m",
      "\u001b[0;32m~/miniconda3/envs/gae/lib/python3.8/site-packages/cmapPy/pandasGEXpress/parse_gct.py\u001b[0m in \u001b[0;36mparse\u001b[0;34m(file_path, convert_neg_666, rid, cid, ridx, cidx, row_meta_only, col_meta_only, make_multiindex)\u001b[0m\n\u001b[1;32m    129\u001b[0m         \u001b[0merr_msg\u001b[0m \u001b[0;34m=\u001b[0m \u001b[0;34m\"The given path to the gct file cannot be found. gct_path: {}\"\u001b[0m\u001b[0;34m\u001b[0m\u001b[0;34m\u001b[0m\u001b[0m\n\u001b[1;32m    130\u001b[0m         \u001b[0mlogger\u001b[0m\u001b[0;34m.\u001b[0m\u001b[0merror\u001b[0m\u001b[0;34m(\u001b[0m\u001b[0merr_msg\u001b[0m\u001b[0;34m.\u001b[0m\u001b[0mformat\u001b[0m\u001b[0;34m(\u001b[0m\u001b[0mfile_path\u001b[0m\u001b[0;34m)\u001b[0m\u001b[0;34m)\u001b[0m\u001b[0;34m\u001b[0m\u001b[0;34m\u001b[0m\u001b[0m\n\u001b[0;32m--> 131\u001b[0;31m         \u001b[0;32mraise\u001b[0m \u001b[0mException\u001b[0m\u001b[0;34m(\u001b[0m\u001b[0merr_msg\u001b[0m\u001b[0;34m.\u001b[0m\u001b[0mformat\u001b[0m\u001b[0;34m(\u001b[0m\u001b[0mfile_path\u001b[0m\u001b[0;34m)\u001b[0m\u001b[0;34m)\u001b[0m\u001b[0;34m\u001b[0m\u001b[0;34m\u001b[0m\u001b[0m\n\u001b[0m\u001b[1;32m    132\u001b[0m     \u001b[0mlogger\u001b[0m\u001b[0;34m.\u001b[0m\u001b[0minfo\u001b[0m\u001b[0;34m(\u001b[0m\u001b[0;34m\"Reading GCT: {}\"\u001b[0m\u001b[0;34m.\u001b[0m\u001b[0mformat\u001b[0m\u001b[0;34m(\u001b[0m\u001b[0mfile_path\u001b[0m\u001b[0;34m)\u001b[0m\u001b[0;34m)\u001b[0m\u001b[0;34m\u001b[0m\u001b[0;34m\u001b[0m\u001b[0m\n\u001b[1;32m    133\u001b[0m \u001b[0;34m\u001b[0m\u001b[0m\n",
      "\u001b[0;31mException\u001b[0m: The given path to the gct file cannot be found. gct_path: temp/level5_beta_trt_misc_n8283x12328.gctx"
     ]
    }
   ],
   "source": [
    "pg.parse('temp/'+\"level5_beta_trt_misc_n8283x12328.gctx\")"
   ]
  },
  {
   "cell_type": "code",
   "execution_count": 25,
   "metadata": {
    "ExecuteTime": {
     "end_time": "2021-11-02T20:49:20.561122Z",
     "start_time": "2021-11-02T20:49:19.705608Z"
    }
   },
   "outputs": [
    {
     "name": "stdout",
     "output_type": "stream",
     "text": [
      "\n",
      "R version 4.1.2 (2021-11-01) -- \"Bird Hippie\"\n",
      "Copyright (C) 2021 The R Foundation for Statistical Computing\n",
      "Platform: x86_64-pc-linux-gnu (64-bit)\n",
      "\n",
      "R is free software and comes with ABSOLUTELY NO WARRANTY.\n",
      "You are welcome to redistribute it under certain conditions.\n",
      "Type 'license()' or 'licence()' for distribution details.\n",
      "\n",
      "  Natural language support but running in an English locale\n",
      "\n",
      "R is a collaborative project with many contributors.\n",
      "Type 'contributors()' for more information and\n",
      "'citation()' on how to cite R or R packages in publications.\n",
      "\n",
      "Type 'demo()' for some demos, 'help()' for on-line help, or\n",
      "'help.start()' for an HTML browser interface to help.\n",
      "Type 'q()' to quit R.\n",
      "\n",
      "> if(!requireNamespace(\"BiocManager\", quietly = TRUE)){install.packages(\"BiocManager\", repos=\"http://cran.us.r-project.org\")};BiocManager::install(c(\"limma\"));\n",
      "Installing package into ‘/usr/local/lib/R/site-library’\n",
      "(as ‘lib’ is unspecified)\n",
      "Warning in install.packages(\"BiocManager\", repos = \"http://cran.us.r-project.org\") :\n",
      "  'lib = \"/usr/local/lib/R/site-library\"' is not writable\n",
      "Error in install.packages(\"BiocManager\", repos = \"http://cran.us.r-project.org\") : \n",
      "  unable to install packages\n",
      "Execution halted\n"
     ]
    }
   ],
   "source": [
    "# you will need R > 4.0 \n",
    "# https://www.charlesbordet.com/en/how-to-upgrade-to-R-4-0-0-on-debian/#the-naive-solution\n",
    "! R -e \"if(!requireNamespace('BiocManager', quietly = TRUE)){install.packages('BiocManager', repos='http://cran.us.r-project.org')};BiocManager::install('cmapR');\""
   ]
  },
  {
   "cell_type": "code",
   "execution_count": 35,
   "metadata": {
    "ExecuteTime": {
     "end_time": "2021-10-25T18:51:59.408601Z",
     "start_time": "2021-10-25T18:41:33.178527Z"
    }
   },
   "outputs": [
    {
     "name": "stdout",
     "output_type": "stream",
     "text": [
      "Copying gs://ccle_default_params/celligner_ex/level5_beta_trt_cp_n720216x12328.gctx...\n",
      "==> NOTE: You are downloading one or more large file(s), which would            \n",
      "run significantly faster if you enabled sliced object downloads. This\n",
      "feature is enabled by default but requires that compiled crcmod be\n",
      "installed (see \"gsutil help crcmod\").\n",
      "\n",
      "| [1 files][ 33.1 GiB/ 33.1 GiB]   51.2 MiB/s                                   \n",
      "Operation completed over 1 objects/33.1 GiB.                                     \n"
     ]
    },
    {
     "ename": "TypeError",
     "evalue": "'module' object is not callable",
     "output_type": "error",
     "traceback": [
      "\u001b[0;31m---------------------------------------------------------------------------\u001b[0m",
      "\u001b[0;31mTypeError\u001b[0m                                 Traceback (most recent call last)",
      "\u001b[0;32m/tmp/ipykernel_22242/2452041237.py\u001b[0m in \u001b[0;36m<module>\u001b[0;34m\u001b[0m\n\u001b[1;32m      8\u001b[0m     \u001b[0mcmd\u001b[0m \u001b[0;34m=\u001b[0m \u001b[0;34m\"gsutil cp \"\u001b[0m \u001b[0;34m+\u001b[0m \u001b[0mfolder\u001b[0m \u001b[0;34m+\u001b[0m \u001b[0mval\u001b[0m \u001b[0;34m+\u001b[0m \u001b[0;34m\" temp/\"\u001b[0m\u001b[0;34m\u001b[0m\u001b[0;34m\u001b[0m\u001b[0m\n\u001b[1;32m      9\u001b[0m     \u001b[0mget_ipython\u001b[0m\u001b[0;34m(\u001b[0m\u001b[0;34m)\u001b[0m\u001b[0;34m.\u001b[0m\u001b[0msystem\u001b[0m\u001b[0;34m(\u001b[0m\u001b[0;34m' $cmd'\u001b[0m\u001b[0;34m)\u001b[0m\u001b[0;34m\u001b[0m\u001b[0;34m\u001b[0m\u001b[0m\n\u001b[0;32m---> 10\u001b[0;31m     \u001b[0mres\u001b[0m \u001b[0;34m=\u001b[0m \u001b[0mpg\u001b[0m\u001b[0;34m(\u001b[0m\u001b[0;34m'temp/'\u001b[0m\u001b[0;34m+\u001b[0m\u001b[0mval\u001b[0m\u001b[0;34m)\u001b[0m\u001b[0;34m\u001b[0m\u001b[0;34m\u001b[0m\u001b[0m\n\u001b[0m\u001b[1;32m     11\u001b[0m \u001b[0;34m\u001b[0m\u001b[0m\n",
      "\u001b[0;31mTypeError\u001b[0m: 'module' object is not callable"
     ]
    }
   ],
   "source": [
    "folder = \"gs://ccle_default_params/celligner_ex/\"\n",
    "for val in [\"level5_beta_ctl_n58022x12328.gctx\",\n",
    "            \"level5_beta_trt_cp_n720216x12328.gctx\",\n",
    "            \"level5_beta_trt_misc_n8283x12328.gctx\",]:\n",
    "            #\"level5_beta_trt_oe_n34171x12328.gctx\",\n",
    "            #\"level5_beta_trt_sh_n238351x12328.gctx\",\n",
    "            #\"level5_beta_trt_xpr_n142901x12328.gctx\",]:\n",
    "    cmd = \"gsutil cp \" + folder + val + \" temp/\"\n",
    "    ! $cmd\n",
    "    res = pg('temp/'+val)"
   ]
  },
  {
   "cell_type": "markdown",
   "metadata": {},
   "source": [
    "## encode"
   ]
  },
  {
   "cell_type": "code",
   "execution_count": 644,
   "metadata": {
    "ExecuteTime": {
     "end_time": "2021-11-08T16:13:30.635275Z",
     "start_time": "2021-11-08T16:13:30.608688Z"
    }
   },
   "outputs": [],
   "source": [
    "todl = h.fileToList('data/encode_rna.txt')"
   ]
  },
  {
   "cell_type": "code",
   "execution_count": null,
   "metadata": {
    "ExecuteTime": {
     "start_time": "2021-11-08T16:13:33.098Z"
    }
   },
   "outputs": [],
   "source": [
    "todl"
   ]
  },
  {
   "cell_type": "code",
   "execution_count": null,
   "metadata": {
    "ExecuteTime": {
     "start_time": "2021-11-08T16:13:46.932Z"
    }
   },
   "outputs": [],
   "source": [
    "report.iloc[0]"
   ]
  },
  {
   "cell_type": "code",
   "execution_count": 643,
   "metadata": {
    "ExecuteTime": {
     "end_time": "2021-11-08T16:11:40.604826Z",
     "start_time": "2021-11-08T16:11:40.480926Z"
    }
   },
   "outputs": [
    {
     "data": {
      "text/html": [
       "<div>\n",
       "<style scoped>\n",
       "    .dataframe tbody tr th:only-of-type {\n",
       "        vertical-align: middle;\n",
       "    }\n",
       "\n",
       "    .dataframe tbody tr th {\n",
       "        vertical-align: top;\n",
       "    }\n",
       "\n",
       "    .dataframe thead th {\n",
       "        text-align: right;\n",
       "    }\n",
       "</style>\n",
       "<table border=\"1\" class=\"dataframe\">\n",
       "  <thead>\n",
       "    <tr style=\"text-align: right;\">\n",
       "      <th></th>\n",
       "      <th>ID</th>\n",
       "      <th>Accession</th>\n",
       "      <th>Assay name</th>\n",
       "      <th>Assay title</th>\n",
       "      <th>Target</th>\n",
       "      <th>Target of assay</th>\n",
       "      <th>Target gene symbol</th>\n",
       "      <th>Biosample summary</th>\n",
       "      <th>Biosample term name</th>\n",
       "      <th>Dbxrefs</th>\n",
       "      <th>...</th>\n",
       "      <th>Biosample treatment duration</th>\n",
       "      <th>Biosample treatment duration units</th>\n",
       "      <th>Synchronization</th>\n",
       "      <th>Post-synchronization time</th>\n",
       "      <th>Post-synchronization time units</th>\n",
       "      <th>Replicates</th>\n",
       "      <th>Mixed biosamples</th>\n",
       "      <th>Cellular component</th>\n",
       "      <th>Library construction platform</th>\n",
       "      <th>Library construction method</th>\n",
       "    </tr>\n",
       "  </thead>\n",
       "  <tbody>\n",
       "    <tr>\n",
       "      <th>0</th>\n",
       "      <td>/experiments/ENCSR764OPZ/</td>\n",
       "      <td>ENCSR764OPZ</td>\n",
       "      <td>polyA plus RNA-seq</td>\n",
       "      <td>polyA plus RNA-seq</td>\n",
       "      <td>NaN</td>\n",
       "      <td>NaN</td>\n",
       "      <td>NaN</td>\n",
       "      <td>strain B6NCrl midbrain tissue embryo (10.5 days)</td>\n",
       "      <td>midbrain</td>\n",
       "      <td>GEO:GSE88517</td>\n",
       "      <td>...</td>\n",
       "      <td>NaN</td>\n",
       "      <td>NaN</td>\n",
       "      <td>NaN</td>\n",
       "      <td>NaN</td>\n",
       "      <td>NaN</td>\n",
       "      <td>/replicates/40f6ffb3-344d-4654-ae5e-56a57862b6...</td>\n",
       "      <td>NaN</td>\n",
       "      <td>NaN</td>\n",
       "      <td>NaN</td>\n",
       "      <td>NaN</td>\n",
       "    </tr>\n",
       "    <tr>\n",
       "      <th>1</th>\n",
       "      <td>/experiments/ENCSR992IIX/</td>\n",
       "      <td>ENCSR992IIX</td>\n",
       "      <td>RNA-seq</td>\n",
       "      <td>total RNA-seq</td>\n",
       "      <td>NaN</td>\n",
       "      <td>NaN</td>\n",
       "      <td>NaN</td>\n",
       "      <td>strain C57BL/6J macrophage chromatin fraction</td>\n",
       "      <td>macrophage</td>\n",
       "      <td>GEO:GSE178056</td>\n",
       "      <td>...</td>\n",
       "      <td>NaN</td>\n",
       "      <td>NaN</td>\n",
       "      <td>NaN</td>\n",
       "      <td>NaN</td>\n",
       "      <td>NaN</td>\n",
       "      <td>/replicates/d392b112-3a81-450e-a263-c6dfebf2a9...</td>\n",
       "      <td>NaN</td>\n",
       "      <td>chromatin</td>\n",
       "      <td>NaN</td>\n",
       "      <td>NaN</td>\n",
       "    </tr>\n",
       "    <tr>\n",
       "      <th>2</th>\n",
       "      <td>/experiments/ENCSR460RCF/</td>\n",
       "      <td>ENCSR460RCF</td>\n",
       "      <td>RNA-seq</td>\n",
       "      <td>total RNA-seq</td>\n",
       "      <td>NaN</td>\n",
       "      <td>NaN</td>\n",
       "      <td>NaN</td>\n",
       "      <td>strain C57BL/6J macrophage cytosolic fraction</td>\n",
       "      <td>macrophage</td>\n",
       "      <td>GEO:GSE177319</td>\n",
       "      <td>...</td>\n",
       "      <td>NaN</td>\n",
       "      <td>NaN</td>\n",
       "      <td>NaN</td>\n",
       "      <td>NaN</td>\n",
       "      <td>NaN</td>\n",
       "      <td>/replicates/a1b23c81-ae5c-431d-865e-8be9d15197...</td>\n",
       "      <td>NaN</td>\n",
       "      <td>cytosol</td>\n",
       "      <td>NaN</td>\n",
       "      <td>NaN</td>\n",
       "    </tr>\n",
       "    <tr>\n",
       "      <th>3</th>\n",
       "      <td>/experiments/ENCSR049UJU/</td>\n",
       "      <td>ENCSR049UJU</td>\n",
       "      <td>polyA plus RNA-seq</td>\n",
       "      <td>polyA plus RNA-seq</td>\n",
       "      <td>NaN</td>\n",
       "      <td>NaN</td>\n",
       "      <td>NaN</td>\n",
       "      <td>strain B6NCrl heart tissue embryo (10.5 days)</td>\n",
       "      <td>heart</td>\n",
       "      <td>GEO:GSE87991</td>\n",
       "      <td>...</td>\n",
       "      <td>NaN</td>\n",
       "      <td>NaN</td>\n",
       "      <td>NaN</td>\n",
       "      <td>NaN</td>\n",
       "      <td>NaN</td>\n",
       "      <td>/replicates/8f26e06a-b808-4696-bc4f-d20821fffb...</td>\n",
       "      <td>NaN</td>\n",
       "      <td>NaN</td>\n",
       "      <td>NaN</td>\n",
       "      <td>NaN</td>\n",
       "    </tr>\n",
       "    <tr>\n",
       "      <th>4</th>\n",
       "      <td>/experiments/ENCSR809VYL/</td>\n",
       "      <td>ENCSR809VYL</td>\n",
       "      <td>polyA plus RNA-seq</td>\n",
       "      <td>polyA plus RNA-seq</td>\n",
       "      <td>NaN</td>\n",
       "      <td>NaN</td>\n",
       "      <td>NaN</td>\n",
       "      <td>strain B6NCrl embryonic facial prominence tiss...</td>\n",
       "      <td>embryonic facial prominence</td>\n",
       "      <td>GEO:GSE88554</td>\n",
       "      <td>...</td>\n",
       "      <td>NaN</td>\n",
       "      <td>NaN</td>\n",
       "      <td>NaN</td>\n",
       "      <td>NaN</td>\n",
       "      <td>NaN</td>\n",
       "      <td>/replicates/dad68aad-227f-4446-bdf2-4c5ea8c7ed...</td>\n",
       "      <td>NaN</td>\n",
       "      <td>NaN</td>\n",
       "      <td>NaN</td>\n",
       "      <td>NaN</td>\n",
       "    </tr>\n",
       "    <tr>\n",
       "      <th>...</th>\n",
       "      <td>...</td>\n",
       "      <td>...</td>\n",
       "      <td>...</td>\n",
       "      <td>...</td>\n",
       "      <td>...</td>\n",
       "      <td>...</td>\n",
       "      <td>...</td>\n",
       "      <td>...</td>\n",
       "      <td>...</td>\n",
       "      <td>...</td>\n",
       "      <td>...</td>\n",
       "      <td>...</td>\n",
       "      <td>...</td>\n",
       "      <td>...</td>\n",
       "      <td>...</td>\n",
       "      <td>...</td>\n",
       "      <td>...</td>\n",
       "      <td>...</td>\n",
       "      <td>...</td>\n",
       "      <td>...</td>\n",
       "      <td>...</td>\n",
       "    </tr>\n",
       "    <tr>\n",
       "      <th>1455</th>\n",
       "      <td>/experiments/ENCSR763CQW/</td>\n",
       "      <td>ENCSR763CQW</td>\n",
       "      <td>polyA plus RNA-seq</td>\n",
       "      <td>polyA plus RNA-seq</td>\n",
       "      <td>NaN</td>\n",
       "      <td>NaN</td>\n",
       "      <td>NaN</td>\n",
       "      <td>T-cell male adult (37 years)</td>\n",
       "      <td>T-cell</td>\n",
       "      <td>GEO:GSM1220574</td>\n",
       "      <td>...</td>\n",
       "      <td>NaN</td>\n",
       "      <td>NaN</td>\n",
       "      <td>NaN</td>\n",
       "      <td>NaN</td>\n",
       "      <td>NaN</td>\n",
       "      <td>/replicates/c1d83dc2-2f73-4281-8962-5875010a3cc1/</td>\n",
       "      <td>NaN</td>\n",
       "      <td>NaN</td>\n",
       "      <td>NaN</td>\n",
       "      <td>NaN</td>\n",
       "    </tr>\n",
       "    <tr>\n",
       "      <th>1456</th>\n",
       "      <td>/experiments/ENCSR549DVY/</td>\n",
       "      <td>ENCSR549DVY</td>\n",
       "      <td>polyA plus RNA-seq</td>\n",
       "      <td>polyA plus RNA-seq</td>\n",
       "      <td>NaN</td>\n",
       "      <td>NaN</td>\n",
       "      <td>NaN</td>\n",
       "      <td>stomach tissue female embryo (108 days)</td>\n",
       "      <td>stomach</td>\n",
       "      <td>GEO:GSM1220587</td>\n",
       "      <td>...</td>\n",
       "      <td>NaN</td>\n",
       "      <td>NaN</td>\n",
       "      <td>NaN</td>\n",
       "      <td>NaN</td>\n",
       "      <td>NaN</td>\n",
       "      <td>/replicates/9b66601f-b1d4-4710-8fae-b5545f4d09e8/</td>\n",
       "      <td>NaN</td>\n",
       "      <td>NaN</td>\n",
       "      <td>NaN</td>\n",
       "      <td>NaN</td>\n",
       "    </tr>\n",
       "    <tr>\n",
       "      <th>1457</th>\n",
       "      <td>/experiments/ENCSR448DCX/</td>\n",
       "      <td>ENCSR448DCX</td>\n",
       "      <td>polyA plus RNA-seq</td>\n",
       "      <td>polyA plus RNA-seq</td>\n",
       "      <td>NaN</td>\n",
       "      <td>NaN</td>\n",
       "      <td>NaN</td>\n",
       "      <td>urinary bladder tissue male child (3 years)</td>\n",
       "      <td>urinary bladder</td>\n",
       "      <td>GEO:GSM1067793</td>\n",
       "      <td>...</td>\n",
       "      <td>NaN</td>\n",
       "      <td>NaN</td>\n",
       "      <td>NaN</td>\n",
       "      <td>NaN</td>\n",
       "      <td>NaN</td>\n",
       "      <td>/replicates/f7170bda-475e-42e0-915b-3a3f10751b5c/</td>\n",
       "      <td>NaN</td>\n",
       "      <td>NaN</td>\n",
       "      <td>NaN</td>\n",
       "      <td>NaN</td>\n",
       "    </tr>\n",
       "    <tr>\n",
       "      <th>1458</th>\n",
       "      <td>/experiments/ENCSR000AEP/</td>\n",
       "      <td>ENCSR000AEP</td>\n",
       "      <td>polyA plus RNA-seq</td>\n",
       "      <td>polyA plus RNA-seq</td>\n",
       "      <td>NaN</td>\n",
       "      <td>NaN</td>\n",
       "      <td>NaN</td>\n",
       "      <td>K562</td>\n",
       "      <td>K562</td>\n",
       "      <td>GEO:GSE78560</td>\n",
       "      <td>...</td>\n",
       "      <td>NaN</td>\n",
       "      <td>NaN</td>\n",
       "      <td>NaN</td>\n",
       "      <td>NaN</td>\n",
       "      <td>NaN</td>\n",
       "      <td>/replicates/6d52759f-399e-43ed-97c5-073f1858f4...</td>\n",
       "      <td>NaN</td>\n",
       "      <td>NaN</td>\n",
       "      <td>NaN</td>\n",
       "      <td>NaN</td>\n",
       "    </tr>\n",
       "    <tr>\n",
       "      <th>1459</th>\n",
       "      <td>/experiments/ENCSR109IQO/</td>\n",
       "      <td>ENCSR109IQO</td>\n",
       "      <td>RNA-seq</td>\n",
       "      <td>total RNA-seq</td>\n",
       "      <td>NaN</td>\n",
       "      <td>NaN</td>\n",
       "      <td>NaN</td>\n",
       "      <td>K562</td>\n",
       "      <td>K562</td>\n",
       "      <td>GEO:GSE78625</td>\n",
       "      <td>...</td>\n",
       "      <td>NaN</td>\n",
       "      <td>NaN</td>\n",
       "      <td>NaN</td>\n",
       "      <td>NaN</td>\n",
       "      <td>NaN</td>\n",
       "      <td>/replicates/e487b39a-4c46-4d6c-8cf0-96193c8cfe...</td>\n",
       "      <td>NaN</td>\n",
       "      <td>NaN</td>\n",
       "      <td>NaN</td>\n",
       "      <td>NaN</td>\n",
       "    </tr>\n",
       "  </tbody>\n",
       "</table>\n",
       "<p>1460 rows × 37 columns</p>\n",
       "</div>"
      ],
      "text/plain": [
       "                             ID    Accession          Assay name  \\\n",
       "0     /experiments/ENCSR764OPZ/  ENCSR764OPZ  polyA plus RNA-seq   \n",
       "1     /experiments/ENCSR992IIX/  ENCSR992IIX             RNA-seq   \n",
       "2     /experiments/ENCSR460RCF/  ENCSR460RCF             RNA-seq   \n",
       "3     /experiments/ENCSR049UJU/  ENCSR049UJU  polyA plus RNA-seq   \n",
       "4     /experiments/ENCSR809VYL/  ENCSR809VYL  polyA plus RNA-seq   \n",
       "...                         ...          ...                 ...   \n",
       "1455  /experiments/ENCSR763CQW/  ENCSR763CQW  polyA plus RNA-seq   \n",
       "1456  /experiments/ENCSR549DVY/  ENCSR549DVY  polyA plus RNA-seq   \n",
       "1457  /experiments/ENCSR448DCX/  ENCSR448DCX  polyA plus RNA-seq   \n",
       "1458  /experiments/ENCSR000AEP/  ENCSR000AEP  polyA plus RNA-seq   \n",
       "1459  /experiments/ENCSR109IQO/  ENCSR109IQO             RNA-seq   \n",
       "\n",
       "             Assay title  Target  Target of assay  Target gene symbol  \\\n",
       "0     polyA plus RNA-seq     NaN              NaN                 NaN   \n",
       "1          total RNA-seq     NaN              NaN                 NaN   \n",
       "2          total RNA-seq     NaN              NaN                 NaN   \n",
       "3     polyA plus RNA-seq     NaN              NaN                 NaN   \n",
       "4     polyA plus RNA-seq     NaN              NaN                 NaN   \n",
       "...                  ...     ...              ...                 ...   \n",
       "1455  polyA plus RNA-seq     NaN              NaN                 NaN   \n",
       "1456  polyA plus RNA-seq     NaN              NaN                 NaN   \n",
       "1457  polyA plus RNA-seq     NaN              NaN                 NaN   \n",
       "1458  polyA plus RNA-seq     NaN              NaN                 NaN   \n",
       "1459       total RNA-seq     NaN              NaN                 NaN   \n",
       "\n",
       "                                      Biosample summary  \\\n",
       "0      strain B6NCrl midbrain tissue embryo (10.5 days)   \n",
       "1         strain C57BL/6J macrophage chromatin fraction   \n",
       "2         strain C57BL/6J macrophage cytosolic fraction   \n",
       "3         strain B6NCrl heart tissue embryo (10.5 days)   \n",
       "4     strain B6NCrl embryonic facial prominence tiss...   \n",
       "...                                                 ...   \n",
       "1455                       T-cell male adult (37 years)   \n",
       "1456            stomach tissue female embryo (108 days)   \n",
       "1457        urinary bladder tissue male child (3 years)   \n",
       "1458                                               K562   \n",
       "1459                                               K562   \n",
       "\n",
       "              Biosample term name         Dbxrefs  ...  \\\n",
       "0                        midbrain    GEO:GSE88517  ...   \n",
       "1                      macrophage   GEO:GSE178056  ...   \n",
       "2                      macrophage   GEO:GSE177319  ...   \n",
       "3                           heart    GEO:GSE87991  ...   \n",
       "4     embryonic facial prominence    GEO:GSE88554  ...   \n",
       "...                           ...             ...  ...   \n",
       "1455                       T-cell  GEO:GSM1220574  ...   \n",
       "1456                      stomach  GEO:GSM1220587  ...   \n",
       "1457              urinary bladder  GEO:GSM1067793  ...   \n",
       "1458                         K562    GEO:GSE78560  ...   \n",
       "1459                         K562    GEO:GSE78625  ...   \n",
       "\n",
       "     Biosample treatment duration Biosample treatment duration units  \\\n",
       "0                             NaN                                NaN   \n",
       "1                             NaN                                NaN   \n",
       "2                             NaN                                NaN   \n",
       "3                             NaN                                NaN   \n",
       "4                             NaN                                NaN   \n",
       "...                           ...                                ...   \n",
       "1455                          NaN                                NaN   \n",
       "1456                          NaN                                NaN   \n",
       "1457                          NaN                                NaN   \n",
       "1458                          NaN                                NaN   \n",
       "1459                          NaN                                NaN   \n",
       "\n",
       "     Synchronization Post-synchronization time  \\\n",
       "0                NaN                       NaN   \n",
       "1                NaN                       NaN   \n",
       "2                NaN                       NaN   \n",
       "3                NaN                       NaN   \n",
       "4                NaN                       NaN   \n",
       "...              ...                       ...   \n",
       "1455             NaN                       NaN   \n",
       "1456             NaN                       NaN   \n",
       "1457             NaN                       NaN   \n",
       "1458             NaN                       NaN   \n",
       "1459             NaN                       NaN   \n",
       "\n",
       "     Post-synchronization time units  \\\n",
       "0                                NaN   \n",
       "1                                NaN   \n",
       "2                                NaN   \n",
       "3                                NaN   \n",
       "4                                NaN   \n",
       "...                              ...   \n",
       "1455                             NaN   \n",
       "1456                             NaN   \n",
       "1457                             NaN   \n",
       "1458                             NaN   \n",
       "1459                             NaN   \n",
       "\n",
       "                                             Replicates Mixed biosamples  \\\n",
       "0     /replicates/40f6ffb3-344d-4654-ae5e-56a57862b6...              NaN   \n",
       "1     /replicates/d392b112-3a81-450e-a263-c6dfebf2a9...              NaN   \n",
       "2     /replicates/a1b23c81-ae5c-431d-865e-8be9d15197...              NaN   \n",
       "3     /replicates/8f26e06a-b808-4696-bc4f-d20821fffb...              NaN   \n",
       "4     /replicates/dad68aad-227f-4446-bdf2-4c5ea8c7ed...              NaN   \n",
       "...                                                 ...              ...   \n",
       "1455  /replicates/c1d83dc2-2f73-4281-8962-5875010a3cc1/              NaN   \n",
       "1456  /replicates/9b66601f-b1d4-4710-8fae-b5545f4d09e8/              NaN   \n",
       "1457  /replicates/f7170bda-475e-42e0-915b-3a3f10751b5c/              NaN   \n",
       "1458  /replicates/6d52759f-399e-43ed-97c5-073f1858f4...              NaN   \n",
       "1459  /replicates/e487b39a-4c46-4d6c-8cf0-96193c8cfe...              NaN   \n",
       "\n",
       "     Cellular component Library construction platform  \\\n",
       "0                   NaN                           NaN   \n",
       "1             chromatin                           NaN   \n",
       "2               cytosol                           NaN   \n",
       "3                   NaN                           NaN   \n",
       "4                   NaN                           NaN   \n",
       "...                 ...                           ...   \n",
       "1455                NaN                           NaN   \n",
       "1456                NaN                           NaN   \n",
       "1457                NaN                           NaN   \n",
       "1458                NaN                           NaN   \n",
       "1459                NaN                           NaN   \n",
       "\n",
       "      Library construction method  \n",
       "0                             NaN  \n",
       "1                             NaN  \n",
       "2                             NaN  \n",
       "3                             NaN  \n",
       "4                             NaN  \n",
       "...                           ...  \n",
       "1455                          NaN  \n",
       "1456                          NaN  \n",
       "1457                          NaN  \n",
       "1458                          NaN  \n",
       "1459                          NaN  \n",
       "\n",
       "[1460 rows x 37 columns]"
      ]
     },
     "execution_count": 643,
     "metadata": {},
     "output_type": "execute_result"
    }
   ],
   "source": [
    "# 40,000 x 1100\n",
    "report = pd.read_csv('data/encode_report.tsv', sep=\"\\t\", skiprows=1)"
   ]
  },
  {
   "cell_type": "markdown",
   "metadata": {},
   "source": [
    "## NCI 60"
   ]
  },
  {
   "cell_type": "code",
   "execution_count": null,
   "metadata": {},
   "outputs": [],
   "source": []
  },
  {
   "cell_type": "markdown",
   "metadata": {},
   "source": [
    "## tumor cell atlas"
   ]
  },
  {
   "cell_type": "code",
   "execution_count": null,
   "metadata": {},
   "outputs": [],
   "source": []
  },
  {
   "cell_type": "markdown",
   "metadata": {},
   "source": [
    "## other random datasets from SRA"
   ]
  },
  {
   "cell_type": "code",
   "execution_count": null,
   "metadata": {},
   "outputs": [],
   "source": []
  },
  {
   "cell_type": "markdown",
   "metadata": {},
   "source": [
    "## ICGC"
   ]
  },
  {
   "cell_type": "code",
   "execution_count": 642,
   "metadata": {
    "ExecuteTime": {
     "end_time": "2021-11-05T22:52:56.400944Z",
     "start_time": "2021-11-05T22:51:04.965086Z"
    }
   },
   "outputs": [
    {
     "name": "stdout",
     "output_type": "stream",
     "text": [
      "--2021-11-05 22:51:05--  https://dcc.icgc.org/api/v1/download?fn=/current/Projects/BOCA-FR/exp_seq.BOCA-FR.tsv.gz\n",
      "Resolving dcc.icgc.org (dcc.icgc.org)... 206.108.121.75\n",
      "Connecting to dcc.icgc.org (dcc.icgc.org)|206.108.121.75|:443... connected.\n",
      "HTTP request sent, awaiting response... 307 \n",
      "Location: https://download.icgc.org/downloads/static?token=eyJjdHkiOiJKV1QiLCJlbmMiOiJBMTI4R0NNIiwiYWxnIjoiZGlyIn0..7XUhJINwjVhhXTZz.LpJ93RPkZ51FNU6QukNUHbm-nVa1qSc2WHR7U8sZY0rUd6G69hNUsYy5B1IWA7Xy16VIW6txNrALvSkvA4P4ZkZttWIgEJzSMfwU-K2jyEFWwriQYEzB_SEME37oNCeaVg0X0DTvXboKtEtr_wjZBPOmcBfI6kGUwXlPHt1WNFC1u30efOy2sUkZhAyEmzOHhdg-YMp0e0ffXJsSQesSFBbTob1kn1Vbnesgvrh_IVfHmRyYyh8s83mx-IsdMRXknDld1kz30n8nls3DAhu-KkUmhQEUSEWDJXoo5y5v99qHri1jmPdLw3ImHJx9hIcSiW_Fkw1PE2TSHQMJSg_Y.MFd4O7smnObu0_KZBPsoYA [following]\n",
      "--2021-11-05 22:51:05--  https://download.icgc.org/downloads/static?token=eyJjdHkiOiJKV1QiLCJlbmMiOiJBMTI4R0NNIiwiYWxnIjoiZGlyIn0..7XUhJINwjVhhXTZz.LpJ93RPkZ51FNU6QukNUHbm-nVa1qSc2WHR7U8sZY0rUd6G69hNUsYy5B1IWA7Xy16VIW6txNrALvSkvA4P4ZkZttWIgEJzSMfwU-K2jyEFWwriQYEzB_SEME37oNCeaVg0X0DTvXboKtEtr_wjZBPOmcBfI6kGUwXlPHt1WNFC1u30efOy2sUkZhAyEmzOHhdg-YMp0e0ffXJsSQesSFBbTob1kn1Vbnesgvrh_IVfHmRyYyh8s83mx-IsdMRXknDld1kz30n8nls3DAhu-KkUmhQEUSEWDJXoo5y5v99qHri1jmPdLw3ImHJx9hIcSiW_Fkw1PE2TSHQMJSg_Y.MFd4O7smnObu0_KZBPsoYA\n",
      "Resolving download.icgc.org (download.icgc.org)... 206.108.121.80\n",
      "Connecting to download.icgc.org (download.icgc.org)|206.108.121.80|:443... connected.\n",
      "HTTP request sent, awaiting response... 200 OK\n",
      "Length: unspecified [application/x-gzip]\n",
      "Saving to: ‘download?fn=%2Fcurrent%2FProjects%2FBOCA-FR%2Fexp_seq.BOCA-FR.tsv.gz’\n",
      "\n",
      "download?fn=%2Fcurr     [                 <=>]  53.03M  15.5MB/s    in 3.5s    \n",
      "\n",
      "2021-11-05 22:51:09 (15.0 MB/s) - ‘download?fn=%2Fcurrent%2FProjects%2FBOCA-FR%2Fexp_seq.BOCA-FR.tsv.gz’ saved [55605476]\n",
      "\n",
      "--2021-11-05 22:51:10--  https://dcc.icgc.org/api/v1/download?fn=/current/Projects/BPLL-FR/exp_seq.BPLL-FR.tsv.gz\n",
      "Resolving dcc.icgc.org (dcc.icgc.org)... 206.108.121.75\n",
      "Connecting to dcc.icgc.org (dcc.icgc.org)|206.108.121.75|:443... connected.\n",
      "HTTP request sent, awaiting response... 307 \n",
      "Location: https://download.icgc.org/downloads/static?token=eyJjdHkiOiJKV1QiLCJlbmMiOiJBMTI4R0NNIiwiYWxnIjoiZGlyIn0..ZnpgJASwzrdrxsTu.-r-3bgR7-dXVQOSktohyG4Wt30BgZyc6zAUg1-2kUTs5gC0j2FX4SmEaHTl6hW62pGB22lV6kgZrYZfSWHvntscDpzUyXeAZHNu2VjZF49vfIcAqi2y89khcClsNLHmlaZn5yKsaKD26VDVGfCk_c9yG4UR5scxCvbZyKJs3sfhzEtcjciL6lpxVXHrgvS1eyo-_oacXZM3KibHxeCDKK6wqh7im6gXkg6wbd1zcYd6z_vtQHalG0QE-JhBKt5r-oSKdeDgRRSQHQs86l4Q56cZqwui2mjpFIVXv7dYcnDHjLP6eyzlD7xZvI4G5eVVLYDfYPQLzoQElU6gYkvK6.qPm4Z7ANDNi9Ej0Uk7anxg [following]\n",
      "--2021-11-05 22:51:10--  https://download.icgc.org/downloads/static?token=eyJjdHkiOiJKV1QiLCJlbmMiOiJBMTI4R0NNIiwiYWxnIjoiZGlyIn0..ZnpgJASwzrdrxsTu.-r-3bgR7-dXVQOSktohyG4Wt30BgZyc6zAUg1-2kUTs5gC0j2FX4SmEaHTl6hW62pGB22lV6kgZrYZfSWHvntscDpzUyXeAZHNu2VjZF49vfIcAqi2y89khcClsNLHmlaZn5yKsaKD26VDVGfCk_c9yG4UR5scxCvbZyKJs3sfhzEtcjciL6lpxVXHrgvS1eyo-_oacXZM3KibHxeCDKK6wqh7im6gXkg6wbd1zcYd6z_vtQHalG0QE-JhBKt5r-oSKdeDgRRSQHQs86l4Q56cZqwui2mjpFIVXv7dYcnDHjLP6eyzlD7xZvI4G5eVVLYDfYPQLzoQElU6gYkvK6.qPm4Z7ANDNi9Ej0Uk7anxg\n",
      "Resolving download.icgc.org (download.icgc.org)... 206.108.121.80\n",
      "Connecting to download.icgc.org (download.icgc.org)|206.108.121.80|:443... connected.\n",
      "HTTP request sent, awaiting response... 200 OK\n",
      "Length: unspecified [application/x-gzip]\n",
      "Saving to: ‘download?fn=%2Fcurrent%2FProjects%2FBPLL-FR%2Fexp_seq.BPLL-FR.tsv.gz’\n",
      "\n",
      "download?fn=%2Fcurr     [   <=>              ]   2.94M  7.12MB/s    in 0.4s    \n",
      "\n",
      "2021-11-05 22:51:11 (7.12 MB/s) - ‘download?fn=%2Fcurrent%2FProjects%2FBPLL-FR%2Fexp_seq.BPLL-FR.tsv.gz’ saved [3084338]\n",
      "\n",
      "--2021-11-05 22:51:11--  https://dcc.icgc.org/api/v1/download?fn=/current/Projects/BRCA-KR/exp_seq.BRCA-KR.tsv.gz\n",
      "Resolving dcc.icgc.org (dcc.icgc.org)... 206.108.121.75\n",
      "Connecting to dcc.icgc.org (dcc.icgc.org)|206.108.121.75|:443... connected.\n",
      "HTTP request sent, awaiting response... 307 \n",
      "Location: https://download.icgc.org/downloads/static?token=eyJjdHkiOiJKV1QiLCJlbmMiOiJBMTI4R0NNIiwiYWxnIjoiZGlyIn0..jLpEY0d6uR-WJTDM.6gf_6LlSYQ91Jh0vvsQh-9AM8hgsxDogoiU9HXV92mnn0Ag3SHshKlNynRWUCk01chEv5S4nuwt4f47FdGJ5MoLwbfILj_hVfkA0hSN998SfhutmkvcRQcJooZhcVLnyFfeLrd6QVps7ZEwJBOKAAJCsGpkdvMwbXzt5mBX0qDlLRrdsKAHt7X-WhIP-mEIWj2bfBqVePEiWx5MWb0UbdyZtYuYfaoalEWaSOP01Cf8dx933s8zcAT2VAOK-UhUV4d857tVyuwP6L2RmpPjujxsSc4WsRKSmRnRRpNrql4fihPguc0jhYc1DbYbftQrotivUp_eJiOVCaRafuC7A.KMOa3KufgqLnmNbNP5-Szg [following]\n",
      "--2021-11-05 22:51:12--  https://download.icgc.org/downloads/static?token=eyJjdHkiOiJKV1QiLCJlbmMiOiJBMTI4R0NNIiwiYWxnIjoiZGlyIn0..jLpEY0d6uR-WJTDM.6gf_6LlSYQ91Jh0vvsQh-9AM8hgsxDogoiU9HXV92mnn0Ag3SHshKlNynRWUCk01chEv5S4nuwt4f47FdGJ5MoLwbfILj_hVfkA0hSN998SfhutmkvcRQcJooZhcVLnyFfeLrd6QVps7ZEwJBOKAAJCsGpkdvMwbXzt5mBX0qDlLRrdsKAHt7X-WhIP-mEIWj2bfBqVePEiWx5MWb0UbdyZtYuYfaoalEWaSOP01Cf8dx933s8zcAT2VAOK-UhUV4d857tVyuwP6L2RmpPjujxsSc4WsRKSmRnRRpNrql4fihPguc0jhYc1DbYbftQrotivUp_eJiOVCaRafuC7A.KMOa3KufgqLnmNbNP5-Szg\n",
      "Resolving download.icgc.org (download.icgc.org)... 206.108.121.80\n",
      "Connecting to download.icgc.org (download.icgc.org)|206.108.121.80|:443... connected.\n",
      "HTTP request sent, awaiting response... 200 OK\n",
      "Length: unspecified [application/x-gzip]\n",
      "Saving to: ‘download?fn=%2Fcurrent%2FProjects%2FBRCA-KR%2Fexp_seq.BRCA-KR.tsv.gz’\n",
      "\n",
      "download?fn=%2Fcurr     [         <=>        ]  10.24M  6.07MB/s    in 1.7s    \n",
      "\n",
      "2021-11-05 22:51:14 (6.07 MB/s) - ‘download?fn=%2Fcurrent%2FProjects%2FBRCA-KR%2Fexp_seq.BRCA-KR.tsv.gz’ saved [10742717]\n",
      "\n",
      "--2021-11-05 22:51:14--  https://dcc.icgc.org/api/v1/download?fn=/current/Projects/LICA-FR/exp_seq.LICA-FR.tsv.gz\n",
      "Resolving dcc.icgc.org (dcc.icgc.org)... 206.108.121.75\n",
      "Connecting to dcc.icgc.org (dcc.icgc.org)|206.108.121.75|:443... connected.\n",
      "HTTP request sent, awaiting response... 307 \n",
      "Location: https://download.icgc.org/downloads/static?token=eyJjdHkiOiJKV1QiLCJlbmMiOiJBMTI4R0NNIiwiYWxnIjoiZGlyIn0..pQdGQFr9VC-jiGDm._mhPbNA37iH6DB8Oni6yquWXBBQC6xgesTclpVmDfO0IWTg9VSNq67x3W_Qc10CM2aCMNYyZHMWpdBlzYbzBZjud0A5O7OtjCoJNV5sThZ5iR57a6kqtUy7kisBZMa7x2H7jQSy9JtPD4S9Z7QeDFpyDNT3FHuu8GekeA1Q3uosOjiisi-NrplJxBLU4H7qw3YAZ8wMUpUj71W297ZJkGtzAa2rdYVCSwXZeBn5-xjd4Az8Zx6bpIb5kVh7MGsIFv4prGom5BEdAWtvLOua5ZhSlinCVABIRTETchf8I__hXgcDjlzhvbJHBhwSgElO396F9peIAgsPqjPNdqPr0.pSD6AmVUzzkJXkpRtlvrIw [following]\n",
      "--2021-11-05 22:51:14--  https://download.icgc.org/downloads/static?token=eyJjdHkiOiJKV1QiLCJlbmMiOiJBMTI4R0NNIiwiYWxnIjoiZGlyIn0..pQdGQFr9VC-jiGDm._mhPbNA37iH6DB8Oni6yquWXBBQC6xgesTclpVmDfO0IWTg9VSNq67x3W_Qc10CM2aCMNYyZHMWpdBlzYbzBZjud0A5O7OtjCoJNV5sThZ5iR57a6kqtUy7kisBZMa7x2H7jQSy9JtPD4S9Z7QeDFpyDNT3FHuu8GekeA1Q3uosOjiisi-NrplJxBLU4H7qw3YAZ8wMUpUj71W297ZJkGtzAa2rdYVCSwXZeBn5-xjd4Az8Zx6bpIb5kVh7MGsIFv4prGom5BEdAWtvLOua5ZhSlinCVABIRTETchf8I__hXgcDjlzhvbJHBhwSgElO396F9peIAgsPqjPNdqPr0.pSD6AmVUzzkJXkpRtlvrIw\n",
      "Resolving download.icgc.org (download.icgc.org)... 206.108.121.80\n",
      "Connecting to download.icgc.org (download.icgc.org)|206.108.121.80|:443... connected.\n",
      "HTTP request sent, awaiting response... 200 OK\n",
      "Length: unspecified [application/x-gzip]\n",
      "Saving to: ‘download?fn=%2Fcurrent%2FProjects%2FLICA-FR%2Fexp_seq.LICA-FR.tsv.gz’\n",
      "\n",
      "download?fn=%2Fcurr     [   <=>              ]  84.99M  11.0MB/s    in 7.6s    \n",
      "\n",
      "2021-11-05 22:51:22 (11.3 MB/s) - ‘download?fn=%2Fcurrent%2FProjects%2FLICA-FR%2Fexp_seq.LICA-FR.tsv.gz’ saved [89116814]\n",
      "\n",
      "--2021-11-05 22:51:23--  https://dcc.icgc.org/api/v1/download?fn=/current/Projects/LIRI-JP/exp_seq.LIRI-JP.tsv.gz\n",
      "Resolving dcc.icgc.org (dcc.icgc.org)... 206.108.121.75\n",
      "Connecting to dcc.icgc.org (dcc.icgc.org)|206.108.121.75|:443... connected.\n",
      "HTTP request sent, awaiting response... 307 \n",
      "Location: https://download.icgc.org/downloads/static?token=eyJjdHkiOiJKV1QiLCJlbmMiOiJBMTI4R0NNIiwiYWxnIjoiZGlyIn0..kGroVBn5WQ0-rNBX.q11a2EeA3ewfiwfgcXacsjxY7c_ZgYv7bKaSRmTWGgbjk4ai1JqIQrcmeTtBuCADbkj96z9AL0lGyp8tz_MhR4VWRMMDHpDRh12FdfV9ig5CA7nNfT62u9cP2PnAE_7P0dw3ygg72bMAWf2ExBxfotI_d8IDe4yENlzGY2NVO3Z_LJXZ1MgKn3eQfDRq2x8GiCQiz162EngQKs12hBPlklgnhYEPXFlt4UH5iqhPcCu8UMVVUxoTWg20TU-BDLAK5CKGiO_UH6rvIlJU_N7pzIdsMnYsoG-VCddLcV6uRXYvi1UXbB_K7U0HT1fZDgw8ETsO20UznYaKjkmdUy40.DLBhB2M-x880mIJ2nP68aA [following]\n",
      "--2021-11-05 22:51:23--  https://download.icgc.org/downloads/static?token=eyJjdHkiOiJKV1QiLCJlbmMiOiJBMTI4R0NNIiwiYWxnIjoiZGlyIn0..kGroVBn5WQ0-rNBX.q11a2EeA3ewfiwfgcXacsjxY7c_ZgYv7bKaSRmTWGgbjk4ai1JqIQrcmeTtBuCADbkj96z9AL0lGyp8tz_MhR4VWRMMDHpDRh12FdfV9ig5CA7nNfT62u9cP2PnAE_7P0dw3ygg72bMAWf2ExBxfotI_d8IDe4yENlzGY2NVO3Z_LJXZ1MgKn3eQfDRq2x8GiCQiz162EngQKs12hBPlklgnhYEPXFlt4UH5iqhPcCu8UMVVUxoTWg20TU-BDLAK5CKGiO_UH6rvIlJU_N7pzIdsMnYsoG-VCddLcV6uRXYvi1UXbB_K7U0HT1fZDgw8ETsO20UznYaKjkmdUy40.DLBhB2M-x880mIJ2nP68aA\n"
     ]
    },
    {
     "name": "stdout",
     "output_type": "stream",
     "text": [
      "Resolving download.icgc.org (download.icgc.org)... 206.108.121.80\n",
      "Connecting to download.icgc.org (download.icgc.org)|206.108.121.80|:443... connected.\n",
      "HTTP request sent, awaiting response... 200 OK\n",
      "Length: unspecified [application/x-gzip]\n",
      "Saving to: ‘download?fn=%2Fcurrent%2FProjects%2FLIRI-JP%2Fexp_seq.LIRI-JP.tsv.gz’\n",
      "\n",
      "download?fn=%2Fcurr     [        <=>         ] 169.54M  17.7MB/s    in 13s     \n",
      "\n",
      "2021-11-05 22:51:36 (13.2 MB/s) - ‘download?fn=%2Fcurrent%2FProjects%2FLIRI-JP%2Fexp_seq.LIRI-JP.tsv.gz’ saved [177770706]\n",
      "\n",
      "--2021-11-05 22:51:37--  https://dcc.icgc.org/api/v1/download?fn=/current/Projects/ORCA-IN/exp_seq.ORCA-IN.tsv.gz\n",
      "Resolving dcc.icgc.org (dcc.icgc.org)... 206.108.121.75\n",
      "Connecting to dcc.icgc.org (dcc.icgc.org)|206.108.121.75|:443... connected.\n",
      "HTTP request sent, awaiting response... 307 \n",
      "Location: https://download.icgc.org/downloads/static?token=eyJjdHkiOiJKV1QiLCJlbmMiOiJBMTI4R0NNIiwiYWxnIjoiZGlyIn0..8q_CMr7aFi67DzuS.16oRDouATeR_uHVwY0IhL0swekYYNVqhliPS8baR45Do94Xkbc-6FeJ0WciI5i3F2m3xXbdOxOk-FjJIygdqVf46pgMcf-S7vvYWPLN3jFJ6881iQGGQOgWQ3iFY5NMWP34vUOvRtON-Db2mpDtI3D4EpqNkFN2ii7dXaHp_gkwQYWuF3EoAFD1gemjGn6keNECGlVntaXeeA9fQofp4u2H5qRcZg4oQA5wQMYG41CIOWUk-ZX_zhIEJgKp5GKmIJcCEwnsnvkB7zPW7iyr300c7txrXwVzROgWIhJJTLF0taL0xIsxM8z7hwgQ5FHEqFxIi_DWa_YMRHH3EnkX5.fK6zEPnDzM1wa5Fzb-_9jA [following]\n",
      "--2021-11-05 22:51:37--  https://download.icgc.org/downloads/static?token=eyJjdHkiOiJKV1QiLCJlbmMiOiJBMTI4R0NNIiwiYWxnIjoiZGlyIn0..8q_CMr7aFi67DzuS.16oRDouATeR_uHVwY0IhL0swekYYNVqhliPS8baR45Do94Xkbc-6FeJ0WciI5i3F2m3xXbdOxOk-FjJIygdqVf46pgMcf-S7vvYWPLN3jFJ6881iQGGQOgWQ3iFY5NMWP34vUOvRtON-Db2mpDtI3D4EpqNkFN2ii7dXaHp_gkwQYWuF3EoAFD1gemjGn6keNECGlVntaXeeA9fQofp4u2H5qRcZg4oQA5wQMYG41CIOWUk-ZX_zhIEJgKp5GKmIJcCEwnsnvkB7zPW7iyr300c7txrXwVzROgWIhJJTLF0taL0xIsxM8z7hwgQ5FHEqFxIi_DWa_YMRHH3EnkX5.fK6zEPnDzM1wa5Fzb-_9jA\n",
      "Resolving download.icgc.org (download.icgc.org)... 206.108.121.80\n",
      "Connecting to download.icgc.org (download.icgc.org)|206.108.121.80|:443... connected.\n",
      "HTTP request sent, awaiting response... 200 OK\n",
      "Length: unspecified [application/x-gzip]\n",
      "Saving to: ‘download?fn=%2Fcurrent%2FProjects%2FORCA-IN%2Fexp_seq.ORCA-IN.tsv.gz’\n",
      "\n",
      "download?fn=%2Fcurr     [     <=>            ]   9.07M  9.14MB/s    in 1.0s    \n",
      "\n",
      "2021-11-05 22:51:38 (9.14 MB/s) - ‘download?fn=%2Fcurrent%2FProjects%2FORCA-IN%2Fexp_seq.ORCA-IN.tsv.gz’ saved [9515024]\n",
      "\n",
      "--2021-11-05 22:51:39--  https://dcc.icgc.org/api/v1/download?fn=/current/Projects/OV-AU/exp_seq.OV-AU.tsv.gz\n",
      "Resolving dcc.icgc.org (dcc.icgc.org)... 206.108.121.75\n",
      "Connecting to dcc.icgc.org (dcc.icgc.org)|206.108.121.75|:443... connected.\n",
      "HTTP request sent, awaiting response... 307 \n",
      "Location: https://download.icgc.org/downloads/static?token=eyJjdHkiOiJKV1QiLCJlbmMiOiJBMTI4R0NNIiwiYWxnIjoiZGlyIn0..9pLYrRKMr9-_u_2y.mEPfRCCLGm_TAk5q1kYtZeEzQ4zMOGRH2pilOWvpwouvoXS2GsOMfP14OazqtckDMdCOAD0QmvuxjHzO7qWZNY_XW2QqLLwEBkpJUiS98yTWOxvNWq_5ld7ACACj_zaJu9GKNuGWQquHO-h_4fVprih_XAJ0aKY-mXd1VTKquXZ_lPtddHgwjCRx5pNO55lZMGAVZX1uv2lyksbxp7Pt4k7N5_NCIXpFjBDKyeptwdJl5nh8qqg9aCI8QXxp2-qWqKGEMYqME8sJm1mBMOdXlcHu2UCpdv4uvyWx5B9AF3uu71ofBMNdq8UPMqCQxv9gG0BK2Y0alVU_.3iOdK9ExC9mCcO4szXDdzA [following]\n",
      "--2021-11-05 22:51:39--  https://download.icgc.org/downloads/static?token=eyJjdHkiOiJKV1QiLCJlbmMiOiJBMTI4R0NNIiwiYWxnIjoiZGlyIn0..9pLYrRKMr9-_u_2y.mEPfRCCLGm_TAk5q1kYtZeEzQ4zMOGRH2pilOWvpwouvoXS2GsOMfP14OazqtckDMdCOAD0QmvuxjHzO7qWZNY_XW2QqLLwEBkpJUiS98yTWOxvNWq_5ld7ACACj_zaJu9GKNuGWQquHO-h_4fVprih_XAJ0aKY-mXd1VTKquXZ_lPtddHgwjCRx5pNO55lZMGAVZX1uv2lyksbxp7Pt4k7N5_NCIXpFjBDKyeptwdJl5nh8qqg9aCI8QXxp2-qWqKGEMYqME8sJm1mBMOdXlcHu2UCpdv4uvyWx5B9AF3uu71ofBMNdq8UPMqCQxv9gG0BK2Y0alVU_.3iOdK9ExC9mCcO4szXDdzA\n",
      "Resolving download.icgc.org (download.icgc.org)... 206.108.121.80\n",
      "Connecting to download.icgc.org (download.icgc.org)|206.108.121.80|:443... connected.\n",
      "HTTP request sent, awaiting response... 200 OK\n",
      "Length: unspecified [application/x-gzip]\n",
      "Saving to: ‘download?fn=%2Fcurrent%2FProjects%2FOV-AU%2Fexp_seq.OV-AU.tsv.gz’\n",
      "\n",
      "download?fn=%2Fcurr     [           <=>      ]  40.14M  9.03MB/s    in 4.6s    \n",
      "\n",
      "2021-11-05 22:51:44 (8.68 MB/s) - ‘download?fn=%2Fcurrent%2FProjects%2FOV-AU%2Fexp_seq.OV-AU.tsv.gz’ saved [42086294]\n",
      "\n",
      "--2021-11-05 22:51:45--  https://dcc.icgc.org/api/v1/download?fn=/current/Projects/PACA-AU/exp_seq.PACA-AU.tsv.gz\n",
      "Resolving dcc.icgc.org (dcc.icgc.org)... 206.108.121.75\n",
      "Connecting to dcc.icgc.org (dcc.icgc.org)|206.108.121.75|:443... connected.\n",
      "HTTP request sent, awaiting response... 307 \n",
      "Location: https://download.icgc.org/downloads/static?token=eyJjdHkiOiJKV1QiLCJlbmMiOiJBMTI4R0NNIiwiYWxnIjoiZGlyIn0..g0cLCkEizT9b3yvt.hOZkqMuh7qwqEGKcJE9f3DDStg4GRlJyzTDHP83y_eHgXv-qkZZ2Ce-2YXO_bwSDEgEPujZRf1toNLEWhOYTfrRLLBZHM3JOrG9Tbz2hMts-sU6tjHwI476NIW_Yr9VXsLdrPlRiL42bu0C7hlYRspQ9zQ_iB5q8I9DCR8xRENIg8uemLqnB9hh8aCDe3_uvXt8h6IFDAR3vRM5-WCsMzff151rvIbUKXSL3dr3_OP-lLrMwyBKhHxeAoOx8rOGRyn83d9N-7T8yJ_K04a-EbabfAjXrlnJKQ5PjaVEBjOdh5lyW9flLWDUixVocRD-mEN87DAW4UGpHrRsT1J5n.D-KC2Ncg3AB5HG1AppSwCA [following]\n",
      "--2021-11-05 22:51:46--  https://download.icgc.org/downloads/static?token=eyJjdHkiOiJKV1QiLCJlbmMiOiJBMTI4R0NNIiwiYWxnIjoiZGlyIn0..g0cLCkEizT9b3yvt.hOZkqMuh7qwqEGKcJE9f3DDStg4GRlJyzTDHP83y_eHgXv-qkZZ2Ce-2YXO_bwSDEgEPujZRf1toNLEWhOYTfrRLLBZHM3JOrG9Tbz2hMts-sU6tjHwI476NIW_Yr9VXsLdrPlRiL42bu0C7hlYRspQ9zQ_iB5q8I9DCR8xRENIg8uemLqnB9hh8aCDe3_uvXt8h6IFDAR3vRM5-WCsMzff151rvIbUKXSL3dr3_OP-lLrMwyBKhHxeAoOx8rOGRyn83d9N-7T8yJ_K04a-EbabfAjXrlnJKQ5PjaVEBjOdh5lyW9flLWDUixVocRD-mEN87DAW4UGpHrRsT1J5n.D-KC2Ncg3AB5HG1AppSwCA\n",
      "Resolving download.icgc.org (download.icgc.org)... 206.108.121.80\n",
      "Connecting to download.icgc.org (download.icgc.org)|206.108.121.80|:443... connected.\n",
      "HTTP request sent, awaiting response... 200 OK\n",
      "Length: unspecified [application/x-gzip]\n",
      "Saving to: ‘download?fn=%2Fcurrent%2FProjects%2FPACA-AU%2Fexp_seq.PACA-AU.tsv.gz’\n",
      "\n",
      "download?fn=%2Fcurr     [               <=>  ]  31.89M  10.6MB/s    in 3.0s    \n",
      "\n",
      "2021-11-05 22:51:49 (10.6 MB/s) - ‘download?fn=%2Fcurrent%2FProjects%2FPACA-AU%2Fexp_seq.PACA-AU.tsv.gz’ saved [33439109]\n",
      "\n",
      "--2021-11-05 22:51:50--  https://dcc.icgc.org/api/v1/download?fn=/current/Projects/PACA-CA/exp_seq.PACA-CA.tsv.gz\n",
      "Resolving dcc.icgc.org (dcc.icgc.org)... 206.108.121.75\n",
      "Connecting to dcc.icgc.org (dcc.icgc.org)|206.108.121.75|:443... connected.\n",
      "HTTP request sent, awaiting response... 307 \n",
      "Location: https://download.icgc.org/downloads/static?token=eyJjdHkiOiJKV1QiLCJlbmMiOiJBMTI4R0NNIiwiYWxnIjoiZGlyIn0..eT06V5MDtKOYhrF3.qQ_U_9xFtiujhARwU_YzI0E6i49bD8CUuxuJQHrSGkLJQXv0JCYkSLGPv-RMy91MnYArzsxnwVBWRkdjFMFxG8QNyVUWFXbNaEvgyU0NM2EzPx7qRMsf2O8ODG6gDWDqGSho8CszHmmtI8dmO4jdyLeQowtIs7Rlen7wYr4v0i7y-dk9svZJR_8BRuRqI_gvuK3e9W9i5SPEnB2knDsKMOY1l35wgJ3JBsLJNqmPQQj38U3qdjlQ18n3QGJxTT4IF6aU3UcganIuAHO9g5tGCU4t4OGZfqfEsIb9Qzo2IYkmyDvYSJc10Iq5wr8ss9O3piHLARuP4jWwjb2MG96H.nS5xp-pqi3ovO4ST9Wy1fg [following]\n",
      "--2021-11-05 22:51:50--  https://download.icgc.org/downloads/static?token=eyJjdHkiOiJKV1QiLCJlbmMiOiJBMTI4R0NNIiwiYWxnIjoiZGlyIn0..eT06V5MDtKOYhrF3.qQ_U_9xFtiujhARwU_YzI0E6i49bD8CUuxuJQHrSGkLJQXv0JCYkSLGPv-RMy91MnYArzsxnwVBWRkdjFMFxG8QNyVUWFXbNaEvgyU0NM2EzPx7qRMsf2O8ODG6gDWDqGSho8CszHmmtI8dmO4jdyLeQowtIs7Rlen7wYr4v0i7y-dk9svZJR_8BRuRqI_gvuK3e9W9i5SPEnB2knDsKMOY1l35wgJ3JBsLJNqmPQQj38U3qdjlQ18n3QGJxTT4IF6aU3UcganIuAHO9g5tGCU4t4OGZfqfEsIb9Qzo2IYkmyDvYSJc10Iq5wr8ss9O3piHLARuP4jWwjb2MG96H.nS5xp-pqi3ovO4ST9Wy1fg\n",
      "Resolving download.icgc.org (download.icgc.org)... 206.108.121.80\n",
      "Connecting to download.icgc.org (download.icgc.org)|206.108.121.80|:443... connected.\n",
      "HTTP request sent, awaiting response... 200 OK\n",
      "Length: unspecified [application/x-gzip]\n",
      "Saving to: ‘download?fn=%2Fcurrent%2FProjects%2FPACA-CA%2Fexp_seq.PACA-CA.tsv.gz’\n",
      "\n",
      "download?fn=%2Fcurr     [  <=>               ] 112.57M  8.17MB/s    in 14s     \n",
      "\n",
      "2021-11-05 22:52:05 (7.87 MB/s) - ‘download?fn=%2Fcurrent%2FProjects%2FPACA-CA%2Fexp_seq.PACA-CA.tsv.gz’ saved [118038307]\n",
      "\n",
      "--2021-11-05 22:52:05--  https://dcc.icgc.org/api/v1/download?fn=/current/Projects/PRAD-CA/exp_seq.PRAD-CA.tsv.gz\n",
      "Resolving dcc.icgc.org (dcc.icgc.org)... 206.108.121.75\n",
      "Connecting to dcc.icgc.org (dcc.icgc.org)|206.108.121.75|:443... connected.\n",
      "HTTP request sent, awaiting response... 307 \n",
      "Location: https://download.icgc.org/downloads/static?token=eyJjdHkiOiJKV1QiLCJlbmMiOiJBMTI4R0NNIiwiYWxnIjoiZGlyIn0..qe-ouQZ4kpnsS7KD.0eO-rUpxmaphSXdT-meAsQYrGNtLVA7NDdSUBlGXCBBE37ljmA5gHs-_JO64_xHh1movWQOo3z_MymvK3jxHTeGVF8zr3ozi0DNauyFOLDkYQXZ2iRIyceUolQX2T26N5eOthSHtiFESIrrAy0ya9eCkLwD41eqv8XVkgXg5lXMYivGgpNFfrB_EMlWSoGjvVogUqIMXt-ck9jYJTmAtBa38W-kvbQjEJDS-nY0d3n9wTB48sYZVByCrNrnGyvu8gzhfqKJ7N1eUCsmw6DiPwo3c-M0tnmqf3mWCmCsbSOm0541c-w16BwaC8coNicOvCfREgXhvr_gNIQHygnyu.7IAjmwiwZx1eV6zXFWypng [following]\n",
      "--2021-11-05 22:52:05--  https://download.icgc.org/downloads/static?token=eyJjdHkiOiJKV1QiLCJlbmMiOiJBMTI4R0NNIiwiYWxnIjoiZGlyIn0..qe-ouQZ4kpnsS7KD.0eO-rUpxmaphSXdT-meAsQYrGNtLVA7NDdSUBlGXCBBE37ljmA5gHs-_JO64_xHh1movWQOo3z_MymvK3jxHTeGVF8zr3ozi0DNauyFOLDkYQXZ2iRIyceUolQX2T26N5eOthSHtiFESIrrAy0ya9eCkLwD41eqv8XVkgXg5lXMYivGgpNFfrB_EMlWSoGjvVogUqIMXt-ck9jYJTmAtBa38W-kvbQjEJDS-nY0d3n9wTB48sYZVByCrNrnGyvu8gzhfqKJ7N1eUCsmw6DiPwo3c-M0tnmqf3mWCmCsbSOm0541c-w16BwaC8coNicOvCfREgXhvr_gNIQHygnyu.7IAjmwiwZx1eV6zXFWypng\n"
     ]
    },
    {
     "name": "stdout",
     "output_type": "stream",
     "text": [
      "Resolving download.icgc.org (download.icgc.org)... 206.108.121.80\n",
      "Connecting to download.icgc.org (download.icgc.org)|206.108.121.80|:443... connected.\n",
      "HTTP request sent, awaiting response... 200 OK\n",
      "Length: unspecified [application/x-gzip]\n",
      "Saving to: ‘download?fn=%2Fcurrent%2FProjects%2FPRAD-CA%2Fexp_seq.PRAD-CA.tsv.gz’\n",
      "\n",
      "download?fn=%2Fcurr     [     <=>            ] 113.42M  8.22MB/s    in 15s     \n",
      "\n",
      "2021-11-05 22:52:21 (7.50 MB/s) - ‘download?fn=%2Fcurrent%2FProjects%2FPRAD-CA%2Fexp_seq.PRAD-CA.tsv.gz’ saved [118928608]\n",
      "\n",
      "--2021-11-05 22:52:22--  https://dcc.icgc.org/api/v1/download?fn=/current/Projects/PRAD-FR/exp_seq.PRAD-FR.tsv.gz\n",
      "Resolving dcc.icgc.org (dcc.icgc.org)... 206.108.121.75\n",
      "Connecting to dcc.icgc.org (dcc.icgc.org)|206.108.121.75|:443... connected.\n",
      "HTTP request sent, awaiting response... 307 \n",
      "Location: https://download.icgc.org/downloads/static?token=eyJjdHkiOiJKV1QiLCJlbmMiOiJBMTI4R0NNIiwiYWxnIjoiZGlyIn0..zIV5xwu9L3mXOAcx.6DVoBTUo87d9k8P_BdY6ufQVtIESEpzW1zGF4zwEje76_FZpF9Xi4pXr1yABiDetENQjn3eC9orWaH96tTv2BpwJbkKeYhhQSRyIirg-qluuKEiPNjReJOKBxaTyoQWfrLSl4RDPwHLL-20EMvIzIJrEw9ivR1ImM2pOIzoTWUWvAUUfj_PSCifmroRD6ko5TR03BiLvPcjM6cNXS_fwv_lCYB-8BZYltjfKXSeS-lCKP95LYBilmDSS1G8BKj_0aiJFqaoHoZKabcoVaHtP2iESvZldA25adwqQbSKnPj-BLQfsmdRznmufAElc0n2-oI5MiFmvkbak4WUT8EPG.15ykSys6rzFtEt41RD2zUg [following]\n",
      "--2021-11-05 22:52:22--  https://download.icgc.org/downloads/static?token=eyJjdHkiOiJKV1QiLCJlbmMiOiJBMTI4R0NNIiwiYWxnIjoiZGlyIn0..zIV5xwu9L3mXOAcx.6DVoBTUo87d9k8P_BdY6ufQVtIESEpzW1zGF4zwEje76_FZpF9Xi4pXr1yABiDetENQjn3eC9orWaH96tTv2BpwJbkKeYhhQSRyIirg-qluuKEiPNjReJOKBxaTyoQWfrLSl4RDPwHLL-20EMvIzIJrEw9ivR1ImM2pOIzoTWUWvAUUfj_PSCifmroRD6ko5TR03BiLvPcjM6cNXS_fwv_lCYB-8BZYltjfKXSeS-lCKP95LYBilmDSS1G8BKj_0aiJFqaoHoZKabcoVaHtP2iESvZldA25adwqQbSKnPj-BLQfsmdRznmufAElc0n2-oI5MiFmvkbak4WUT8EPG.15ykSys6rzFtEt41RD2zUg\n",
      "Resolving download.icgc.org (download.icgc.org)... 206.108.121.80\n",
      "Connecting to download.icgc.org (download.icgc.org)|206.108.121.80|:443... connected.\n",
      "HTTP request sent, awaiting response... 200 OK\n",
      "Length: unspecified [application/x-gzip]\n",
      "Saving to: ‘download?fn=%2Fcurrent%2FProjects%2FPRAD-FR%2Fexp_seq.PRAD-FR.tsv.gz’\n",
      "\n",
      "download?fn=%2Fcurr     [       <=>          ]   9.97M  7.09MB/s    in 1.4s    \n",
      "\n",
      "2021-11-05 22:52:23 (7.09 MB/s) - ‘download?fn=%2Fcurrent%2FProjects%2FPRAD-FR%2Fexp_seq.PRAD-FR.tsv.gz’ saved [10450587]\n",
      "\n",
      "--2021-11-05 22:52:24--  https://dcc.icgc.org/api/v1/download?fn=/current/Projects/CLLE-ES/exp_seq.CLLE-ES.tsv.gz\n",
      "Resolving dcc.icgc.org (dcc.icgc.org)... 206.108.121.75\n",
      "Connecting to dcc.icgc.org (dcc.icgc.org)|206.108.121.75|:443... connected.\n",
      "HTTP request sent, awaiting response... 307 \n",
      "Location: https://download.icgc.org/downloads/static?token=eyJjdHkiOiJKV1QiLCJlbmMiOiJBMTI4R0NNIiwiYWxnIjoiZGlyIn0..9jIYnra2HGD7rgyy.0ehh3tAoCwPBcAZV1sim-F-OlcKSJDjGdA1jamPNqYBNirmUhwTF2u9_EAH5HL68wmOkMN-mjSGgAZ3-4MgignOtfAHRIdH8EM5e_fqMoTI_36X3vhhYl5Yt41muwhTWZItDv7YbVxLz6C0xJOpinTW09MDGqfbsrPqbd-GHXt1iONo8NMOl5mm5C7stNPEIC7IfFxEJ2q0vFev5K5KkO053k46Yrd04sOMRBJcXFfRQ5FXAxy9PKTnROJPqHmZqJM-Jnu8INLJDbU2Cqkw9pdBIIGkZm6IZj_YRacWV4-eSk8AI0JztVLuNbKsrgR2bztnaYc7dZhCm0Yfw4hOj.cU3UBSiMSDIZ0m7_yGi1fw [following]\n",
      "--2021-11-05 22:52:24--  https://download.icgc.org/downloads/static?token=eyJjdHkiOiJKV1QiLCJlbmMiOiJBMTI4R0NNIiwiYWxnIjoiZGlyIn0..9jIYnra2HGD7rgyy.0ehh3tAoCwPBcAZV1sim-F-OlcKSJDjGdA1jamPNqYBNirmUhwTF2u9_EAH5HL68wmOkMN-mjSGgAZ3-4MgignOtfAHRIdH8EM5e_fqMoTI_36X3vhhYl5Yt41muwhTWZItDv7YbVxLz6C0xJOpinTW09MDGqfbsrPqbd-GHXt1iONo8NMOl5mm5C7stNPEIC7IfFxEJ2q0vFev5K5KkO053k46Yrd04sOMRBJcXFfRQ5FXAxy9PKTnROJPqHmZqJM-Jnu8INLJDbU2Cqkw9pdBIIGkZm6IZj_YRacWV4-eSk8AI0JztVLuNbKsrgR2bztnaYc7dZhCm0Yfw4hOj.cU3UBSiMSDIZ0m7_yGi1fw\n",
      "Resolving download.icgc.org (download.icgc.org)... 206.108.121.80\n",
      "Connecting to download.icgc.org (download.icgc.org)|206.108.121.80|:443... connected.\n",
      "HTTP request sent, awaiting response... 200 OK\n",
      "Length: unspecified [application/x-gzip]\n",
      "Saving to: ‘download?fn=%2Fcurrent%2FProjects%2FCLLE-ES%2Fexp_seq.CLLE-ES.tsv.gz’\n",
      "\n",
      "download?fn=%2Fcurr     [        <=>         ] 196.71M  13.2MB/s    in 16s     \n",
      "\n",
      "2021-11-05 22:52:40 (12.6 MB/s) - ‘download?fn=%2Fcurrent%2FProjects%2FCLLE-ES%2Fexp_seq.CLLE-ES.tsv.gz’ saved [206270567]\n",
      "\n",
      "--2021-11-05 22:52:41--  https://dcc.icgc.org/api/v1/download?fn=/current/Projects/MALY-DE/exp_seq.MALY-DE.tsv.gz\n",
      "Resolving dcc.icgc.org (dcc.icgc.org)... 206.108.121.75\n",
      "Connecting to dcc.icgc.org (dcc.icgc.org)|206.108.121.75|:443... connected.\n",
      "HTTP request sent, awaiting response... 307 \n",
      "Location: https://download.icgc.org/downloads/static?token=eyJjdHkiOiJKV1QiLCJlbmMiOiJBMTI4R0NNIiwiYWxnIjoiZGlyIn0..SUGgFzt3S_5B7yDV.zP4wt27WxA_b_oAb7HZEah_Zd5Nq4c0jLfAeZsXDAIYQmpJFTCNvzIRyY7etSeIiTWzAGCM7R5YJ7dNiRBN9xwljvHKGVpy7od8wsZ0_VETd3wfSj6CMtHiLsX6spgj3y_b5-9BJF4rVxwt9QtiHvnwp9BRuhC4PQQ2IBrt8hLyzB5nk33crq6dt60BM7OWVATQaGJN36zjCwk50QRmr8szAq4vqNu38Ey7RTPsZvXl00TlioG2jb538BBGtUCUrvQa2a7yPUzmYo5gVHyA4GzEhRNPFSsH_ycOz8nMdKpLXeGx-mMacYIFJDA6_VgtgQv6ye8sEu4jLUgM4LoHw.2rcwZcg6N88FT_l_4wP-hw [following]\n",
      "--2021-11-05 22:52:41--  https://download.icgc.org/downloads/static?token=eyJjdHkiOiJKV1QiLCJlbmMiOiJBMTI4R0NNIiwiYWxnIjoiZGlyIn0..SUGgFzt3S_5B7yDV.zP4wt27WxA_b_oAb7HZEah_Zd5Nq4c0jLfAeZsXDAIYQmpJFTCNvzIRyY7etSeIiTWzAGCM7R5YJ7dNiRBN9xwljvHKGVpy7od8wsZ0_VETd3wfSj6CMtHiLsX6spgj3y_b5-9BJF4rVxwt9QtiHvnwp9BRuhC4PQQ2IBrt8hLyzB5nk33crq6dt60BM7OWVATQaGJN36zjCwk50QRmr8szAq4vqNu38Ey7RTPsZvXl00TlioG2jb538BBGtUCUrvQa2a7yPUzmYo5gVHyA4GzEhRNPFSsH_ycOz8nMdKpLXeGx-mMacYIFJDA6_VgtgQv6ye8sEu4jLUgM4LoHw.2rcwZcg6N88FT_l_4wP-hw\n",
      "Resolving download.icgc.org (download.icgc.org)... 206.108.121.80\n",
      "Connecting to download.icgc.org (download.icgc.org)|206.108.121.80|:443... connected.\n",
      "HTTP request sent, awaiting response... 200 OK\n",
      "Length: unspecified [application/x-gzip]\n",
      "Saving to: ‘download?fn=%2Fcurrent%2FProjects%2FMALY-DE%2Fexp_seq.MALY-DE.tsv.gz’\n",
      "\n",
      "download?fn=%2Fcurr     [   <=>              ]  80.19M  12.5MB/s    in 6.4s    \n",
      "\n",
      "2021-11-05 22:52:48 (12.6 MB/s) - ‘download?fn=%2Fcurrent%2FProjects%2FMALY-DE%2Fexp_seq.MALY-DE.tsv.gz’ saved [84087657]\n",
      "\n",
      "--2021-11-05 22:52:48--  https://dcc.icgc.org/api/v1/download?fn=/current/Projects/PAEN-AU/exp_seq.PAEN-AU.tsv.gz\n",
      "Resolving dcc.icgc.org (dcc.icgc.org)... 206.108.121.75\n",
      "Connecting to dcc.icgc.org (dcc.icgc.org)|206.108.121.75|:443... connected.\n",
      "HTTP request sent, awaiting response... 307 \n",
      "Location: https://download.icgc.org/downloads/static?token=eyJjdHkiOiJKV1QiLCJlbmMiOiJBMTI4R0NNIiwiYWxnIjoiZGlyIn0..o6DWYogoOi9S2xGD.ja3vDAMoptM-SZ5vzoewBQFGCm1KowcZsfxRHpXgZwVEwkEoLq7cbG3ZvSgARDAtvNH9GgZGCivh7UgLxn6kvq0THS_huxU8D9NwY0cDLiv-TyXnJlHyecjGP9Z0TnXoyr97HTDfJsSIh4zjI7QoBNXu28Z3Kn5Ki-dC0i5mjWPbmeSEU1BxW1XHj949SihUL35bNkgikdrXp7hgszk4Bkf_M2YcDJKtzg0pC4Pcdmy83LdwpNeaX2lAdhDG2ET8ig7BdwB02r7dK4baH3vs_rWOlK_jfNeq6tXJ38BRBWIurQ5rtYDnXdkydRBLPLewPtn_UXl-tWe4fVxQ53DL.7ZaYdMTmUVx5nB2A50KyFw [following]\n",
      "--2021-11-05 22:52:49--  https://download.icgc.org/downloads/static?token=eyJjdHkiOiJKV1QiLCJlbmMiOiJBMTI4R0NNIiwiYWxnIjoiZGlyIn0..o6DWYogoOi9S2xGD.ja3vDAMoptM-SZ5vzoewBQFGCm1KowcZsfxRHpXgZwVEwkEoLq7cbG3ZvSgARDAtvNH9GgZGCivh7UgLxn6kvq0THS_huxU8D9NwY0cDLiv-TyXnJlHyecjGP9Z0TnXoyr97HTDfJsSIh4zjI7QoBNXu28Z3Kn5Ki-dC0i5mjWPbmeSEU1BxW1XHj949SihUL35bNkgikdrXp7hgszk4Bkf_M2YcDJKtzg0pC4Pcdmy83LdwpNeaX2lAdhDG2ET8ig7BdwB02r7dK4baH3vs_rWOlK_jfNeq6tXJ38BRBWIurQ5rtYDnXdkydRBLPLewPtn_UXl-tWe4fVxQ53DL.7ZaYdMTmUVx5nB2A50KyFw\n",
      "Resolving download.icgc.org (download.icgc.org)... 206.108.121.80\n",
      "Connecting to download.icgc.org (download.icgc.org)|206.108.121.80|:443... connected.\n",
      "HTTP request sent, awaiting response... 200 OK\n",
      "Length: unspecified [application/x-gzip]\n",
      "Saving to: ‘download?fn=%2Fcurrent%2FProjects%2FPAEN-AU%2Fexp_seq.PAEN-AU.tsv.gz’\n",
      "\n",
      "download?fn=%2Fcurr     [        <=>         ]  11.53M  7.54MB/s    in 1.5s    \n",
      "\n",
      "2021-11-05 22:52:50 (7.54 MB/s) - ‘download?fn=%2Fcurrent%2FProjects%2FPAEN-AU%2Fexp_seq.PAEN-AU.tsv.gz’ saved [12093636]\n",
      "\n",
      "--2021-11-05 22:52:51--  https://dcc.icgc.org/api/v1/download?fn=/current/Projects/RECA-EU/exp_seq.RECA-EU.tsv.gz\n",
      "Resolving dcc.icgc.org (dcc.icgc.org)... 206.108.121.75\n",
      "Connecting to dcc.icgc.org (dcc.icgc.org)|206.108.121.75|:443... connected.\n",
      "HTTP request sent, awaiting response... 307 \n",
      "Location: https://download.icgc.org/downloads/static?token=eyJjdHkiOiJKV1QiLCJlbmMiOiJBMTI4R0NNIiwiYWxnIjoiZGlyIn0..Vq5ZTqJBzHDzrNwY.iPBDbw5buFW43Nb7Bz-AozXY1ETacFFKmz7c3YODls4MucgC8AoaQWOOWm1aT-l_h_4O0nVad6OzvicpWx6yAi5D8iv3Qxg4OLauSM1JixuyTSGUi3gBdS0VAq3rgeN9gvVyPkvGer087hA70uk96WWQq0L1Pd21qW3qSh4XHYmf-WCmuYyB7gil-HBAsE3_VM6WvaJenkVc5Zf2XViQq_MSB6MP5aZqm7HzkzIL20SWQbnW4TMUQqusW3l6dD52XeN3ljHWDWz3b0Rd2qxVXOgQ1AYxi9hRox5G8iXLS62eijXoLQq1eU7294j9qCS9Yeum3m_TXHvsexsqb2F5.Iwp3QD1naWrHNJjF4Spnpg [following]\n",
      "--2021-11-05 22:52:51--  https://download.icgc.org/downloads/static?token=eyJjdHkiOiJKV1QiLCJlbmMiOiJBMTI4R0NNIiwiYWxnIjoiZGlyIn0..Vq5ZTqJBzHDzrNwY.iPBDbw5buFW43Nb7Bz-AozXY1ETacFFKmz7c3YODls4MucgC8AoaQWOOWm1aT-l_h_4O0nVad6OzvicpWx6yAi5D8iv3Qxg4OLauSM1JixuyTSGUi3gBdS0VAq3rgeN9gvVyPkvGer087hA70uk96WWQq0L1Pd21qW3qSh4XHYmf-WCmuYyB7gil-HBAsE3_VM6WvaJenkVc5Zf2XViQq_MSB6MP5aZqm7HzkzIL20SWQbnW4TMUQqusW3l6dD52XeN3ljHWDWz3b0Rd2qxVXOgQ1AYxi9hRox5G8iXLS62eijXoLQq1eU7294j9qCS9Yeum3m_TXHvsexsqb2F5.Iwp3QD1naWrHNJjF4Spnpg\n",
      "Resolving download.icgc.org (download.icgc.org)... 206.108.121.80\n"
     ]
    },
    {
     "name": "stdout",
     "output_type": "stream",
     "text": [
      "Connecting to download.icgc.org (download.icgc.org)|206.108.121.80|:443... connected.\n",
      "HTTP request sent, awaiting response... 200 OK\n",
      "Length: unspecified [application/x-gzip]\n",
      "Saving to: ‘download?fn=%2Fcurrent%2FProjects%2FRECA-EU%2Fexp_seq.RECA-EU.tsv.gz’\n",
      "\n",
      "download?fn=%2Fcurr     [            <=>     ]  81.49M  18.7MB/s    in 4.4s    \n",
      "\n",
      "2021-11-05 22:52:56 (18.7 MB/s) - ‘download?fn=%2Fcurrent%2FProjects%2FRECA-EU%2Fexp_seq.RECA-EU.tsv.gz’ saved [85451655]\n",
      "\n"
     ]
    }
   ],
   "source": [
    " # 40,000 x 2,000 ALL NONE TCGA ICGC\n",
    "for i in [\"https://dcc.icgc.org/api/v1/download\\?fn\\=/current/Projects/BOCA-FR/exp_seq.BOCA-FR.tsv.gz\",\n",
    "\"https://dcc.icgc.org/api/v1/download\\?fn\\=/current/Projects/BPLL-FR/exp_seq.BPLL-FR.tsv.gz\",\n",
    "\"https://dcc.icgc.org/api/v1/download\\?fn\\=/current/Projects/BRCA-KR/exp_seq.BRCA-KR.tsv.gz\",\n",
    "\"https://dcc.icgc.org/api/v1/download\\?fn\\=/current/Projects/LICA-FR/exp_seq.LICA-FR.tsv.gz\",\n",
    "\"https://dcc.icgc.org/api/v1/download\\?fn\\=/current/Projects/LIRI-JP/exp_seq.LIRI-JP.tsv.gz\",\n",
    "\"https://dcc.icgc.org/api/v1/download\\?fn\\=/current/Projects/ORCA-IN/exp_seq.ORCA-IN.tsv.gz\",\n",
    "\"https://dcc.icgc.org/api/v1/download\\?fn\\=/current/Projects/OV-AU/exp_seq.OV-AU.tsv.gz\",\n",
    "\"https://dcc.icgc.org/api/v1/download\\?fn\\=/current/Projects/PACA-AU/exp_seq.PACA-AU.tsv.gz\",\n",
    "\"https://dcc.icgc.org/api/v1/download\\?fn\\=/current/Projects/PACA-CA/exp_seq.PACA-CA.tsv.gz\",\n",
    "\"https://dcc.icgc.org/api/v1/download\\?fn\\=/current/Projects/PRAD-CA/exp_seq.PRAD-CA.tsv.gz\",\n",
    "\"https://dcc.icgc.org/api/v1/download\\?fn\\=/current/Projects/PRAD-FR/exp_seq.PRAD-FR.tsv.gz\",\n",
    "\"https://dcc.icgc.org/api/v1/download\\?fn\\=/current/Projects/CLLE-ES/exp_seq.CLLE-ES.tsv.gz\",\n",
    "\"https://dcc.icgc.org/api/v1/download\\?fn\\=/current/Projects/MALY-DE/exp_seq.MALY-DE.tsv.gz\",\n",
    "\"https://dcc.icgc.org/api/v1/download\\?fn\\=/current/Projects/PAEN-AU/exp_seq.PAEN-AU.tsv.gz\",\n",
    "\"https://dcc.icgc.org/api/v1/download\\?fn\\=/current/Projects/RECA-EU/exp_seq.RECA-EU.tsv.gz\"]:\n",
    "    ! wget $i -o data/"
   ]
  },
  {
   "cell_type": "code",
   "execution_count": 4,
   "metadata": {
    "ExecuteTime": {
     "end_time": "2021-11-08T16:26:05.745196Z",
     "start_time": "2021-11-08T16:25:20.559700Z"
    }
   },
   "outputs": [],
   "source": [
    "val = pd.read_csv('data/download?fn=%2Fcurrent%2FProjects%2FBOCA-FR%2Fexp_seq.BOCA-FR.tsv.gz', sep='\\t')"
   ]
  },
  {
   "cell_type": "code",
   "execution_count": 5,
   "metadata": {
    "ExecuteTime": {
     "end_time": "2021-11-08T16:26:10.910760Z",
     "start_time": "2021-11-08T16:26:07.372591Z"
    }
   },
   "outputs": [
    {
     "data": {
      "text/html": [
       "<div>\n",
       "<style scoped>\n",
       "    .dataframe tbody tr th:only-of-type {\n",
       "        vertical-align: middle;\n",
       "    }\n",
       "\n",
       "    .dataframe tbody tr th {\n",
       "        vertical-align: top;\n",
       "    }\n",
       "\n",
       "    .dataframe thead th {\n",
       "        text-align: right;\n",
       "    }\n",
       "</style>\n",
       "<table border=\"1\" class=\"dataframe\">\n",
       "  <thead>\n",
       "    <tr style=\"text-align: right;\">\n",
       "      <th></th>\n",
       "      <th>icgc_donor_id</th>\n",
       "      <th>project_code</th>\n",
       "      <th>icgc_specimen_id</th>\n",
       "      <th>icgc_sample_id</th>\n",
       "      <th>submitted_sample_id</th>\n",
       "      <th>analysis_id</th>\n",
       "      <th>gene_model</th>\n",
       "      <th>gene_id</th>\n",
       "      <th>normalized_read_count</th>\n",
       "      <th>raw_read_count</th>\n",
       "      <th>...</th>\n",
       "      <th>platform</th>\n",
       "      <th>total_read_count</th>\n",
       "      <th>experimental_protocol</th>\n",
       "      <th>alignment_algorithm</th>\n",
       "      <th>normalization_algorithm</th>\n",
       "      <th>other_analysis_algorithm</th>\n",
       "      <th>sequencing_strategy</th>\n",
       "      <th>raw_data_repository</th>\n",
       "      <th>raw_data_accession</th>\n",
       "      <th>reference_sample_type</th>\n",
       "    </tr>\n",
       "  </thead>\n",
       "  <tbody>\n",
       "    <tr>\n",
       "      <th>0</th>\n",
       "      <td>DO50636</td>\n",
       "      <td>BOCA-FR</td>\n",
       "      <td>SP195654</td>\n",
       "      <td>SA607599</td>\n",
       "      <td>A61T5</td>\n",
       "      <td>A61T5_RNAseq</td>\n",
       "      <td>Ensembl</td>\n",
       "      <td>ENSG00000127720</td>\n",
       "      <td>4.94182</td>\n",
       "      <td>358</td>\n",
       "      <td>...</td>\n",
       "      <td>Illumina HiSeq</td>\n",
       "      <td>121982843</td>\n",
       "      <td>Paired End https://www.illumina.com/science/te...</td>\n",
       "      <td>STAR 2.6.0a https://github.com/alexdobin/STAR ...</td>\n",
       "      <td>Cufflinks 2.2.1 http://cole-trapnell-lab.githu...</td>\n",
       "      <td>-</td>\n",
       "      <td>RNA-Seq</td>\n",
       "      <td>EGA</td>\n",
       "      <td>EGAF00002259326:EGAF00002259317:EGAF0000225933...</td>\n",
       "      <td>NaN</td>\n",
       "    </tr>\n",
       "    <tr>\n",
       "      <th>1</th>\n",
       "      <td>DO50636</td>\n",
       "      <td>BOCA-FR</td>\n",
       "      <td>SP195654</td>\n",
       "      <td>SA607599</td>\n",
       "      <td>A61T5</td>\n",
       "      <td>A61T5_RNAseq</td>\n",
       "      <td>Ensembl</td>\n",
       "      <td>ENSG00000224440</td>\n",
       "      <td>0.00000</td>\n",
       "      <td>0</td>\n",
       "      <td>...</td>\n",
       "      <td>Illumina HiSeq</td>\n",
       "      <td>121982843</td>\n",
       "      <td>Paired End https://www.illumina.com/science/te...</td>\n",
       "      <td>STAR 2.6.0a https://github.com/alexdobin/STAR ...</td>\n",
       "      <td>Cufflinks 2.2.1 http://cole-trapnell-lab.githu...</td>\n",
       "      <td>-</td>\n",
       "      <td>RNA-Seq</td>\n",
       "      <td>EGA</td>\n",
       "      <td>EGAF00002259326:EGAF00002259317:EGAF0000225933...</td>\n",
       "      <td>NaN</td>\n",
       "    </tr>\n",
       "    <tr>\n",
       "      <th>2</th>\n",
       "      <td>DO50636</td>\n",
       "      <td>BOCA-FR</td>\n",
       "      <td>SP195654</td>\n",
       "      <td>SA607599</td>\n",
       "      <td>A61T5</td>\n",
       "      <td>A61T5_RNAseq</td>\n",
       "      <td>Ensembl</td>\n",
       "      <td>ENSG00000261140</td>\n",
       "      <td>0.00000</td>\n",
       "      <td>0</td>\n",
       "      <td>...</td>\n",
       "      <td>Illumina HiSeq</td>\n",
       "      <td>121982843</td>\n",
       "      <td>Paired End https://www.illumina.com/science/te...</td>\n",
       "      <td>STAR 2.6.0a https://github.com/alexdobin/STAR ...</td>\n",
       "      <td>Cufflinks 2.2.1 http://cole-trapnell-lab.githu...</td>\n",
       "      <td>-</td>\n",
       "      <td>RNA-Seq</td>\n",
       "      <td>EGA</td>\n",
       "      <td>EGAF00002259326:EGAF00002259317:EGAF0000225933...</td>\n",
       "      <td>NaN</td>\n",
       "    </tr>\n",
       "    <tr>\n",
       "      <th>3</th>\n",
       "      <td>DO50636</td>\n",
       "      <td>BOCA-FR</td>\n",
       "      <td>SP195654</td>\n",
       "      <td>SA607599</td>\n",
       "      <td>A61T5</td>\n",
       "      <td>A61T5_RNAseq</td>\n",
       "      <td>Ensembl</td>\n",
       "      <td>ENSG00000221200</td>\n",
       "      <td>0.00000</td>\n",
       "      <td>0</td>\n",
       "      <td>...</td>\n",
       "      <td>Illumina HiSeq</td>\n",
       "      <td>121982843</td>\n",
       "      <td>Paired End https://www.illumina.com/science/te...</td>\n",
       "      <td>STAR 2.6.0a https://github.com/alexdobin/STAR ...</td>\n",
       "      <td>Cufflinks 2.2.1 http://cole-trapnell-lab.githu...</td>\n",
       "      <td>-</td>\n",
       "      <td>RNA-Seq</td>\n",
       "      <td>EGA</td>\n",
       "      <td>EGAF00002259326:EGAF00002259317:EGAF0000225933...</td>\n",
       "      <td>NaN</td>\n",
       "    </tr>\n",
       "    <tr>\n",
       "      <th>4</th>\n",
       "      <td>DO50636</td>\n",
       "      <td>BOCA-FR</td>\n",
       "      <td>SP195654</td>\n",
       "      <td>SA607599</td>\n",
       "      <td>A61T5</td>\n",
       "      <td>A61T5_RNAseq</td>\n",
       "      <td>Ensembl</td>\n",
       "      <td>ENSG00000266468</td>\n",
       "      <td>0.00000</td>\n",
       "      <td>0</td>\n",
       "      <td>...</td>\n",
       "      <td>Illumina HiSeq</td>\n",
       "      <td>121982843</td>\n",
       "      <td>Paired End https://www.illumina.com/science/te...</td>\n",
       "      <td>STAR 2.6.0a https://github.com/alexdobin/STAR ...</td>\n",
       "      <td>Cufflinks 2.2.1 http://cole-trapnell-lab.githu...</td>\n",
       "      <td>-</td>\n",
       "      <td>RNA-Seq</td>\n",
       "      <td>EGA</td>\n",
       "      <td>EGAF00002259326:EGAF00002259317:EGAF0000225933...</td>\n",
       "      <td>NaN</td>\n",
       "    </tr>\n",
       "    <tr>\n",
       "      <th>...</th>\n",
       "      <td>...</td>\n",
       "      <td>...</td>\n",
       "      <td>...</td>\n",
       "      <td>...</td>\n",
       "      <td>...</td>\n",
       "      <td>...</td>\n",
       "      <td>...</td>\n",
       "      <td>...</td>\n",
       "      <td>...</td>\n",
       "      <td>...</td>\n",
       "      <td>...</td>\n",
       "      <td>...</td>\n",
       "      <td>...</td>\n",
       "      <td>...</td>\n",
       "      <td>...</td>\n",
       "      <td>...</td>\n",
       "      <td>...</td>\n",
       "      <td>...</td>\n",
       "      <td>...</td>\n",
       "      <td>...</td>\n",
       "      <td>...</td>\n",
       "    </tr>\n",
       "    <tr>\n",
       "      <th>3291802</th>\n",
       "      <td>DO234432</td>\n",
       "      <td>BOCA-FR</td>\n",
       "      <td>SP203419</td>\n",
       "      <td>SA607647</td>\n",
       "      <td>B95T5</td>\n",
       "      <td>B95T5_RNAseq</td>\n",
       "      <td>Ensembl</td>\n",
       "      <td>ENSG00000131725</td>\n",
       "      <td>1.93459</td>\n",
       "      <td>810</td>\n",
       "      <td>...</td>\n",
       "      <td>Illumina HiSeq</td>\n",
       "      <td>84394691</td>\n",
       "      <td>Paired End https://www.illumina.com/science/te...</td>\n",
       "      <td>STAR 2.6.0a https://github.com/alexdobin/STAR ...</td>\n",
       "      <td>Cufflinks 2.2.1 http://cole-trapnell-lab.githu...</td>\n",
       "      <td>-</td>\n",
       "      <td>RNA-Seq</td>\n",
       "      <td>EGA</td>\n",
       "      <td>EGAF00002259813:EGAF00002259814</td>\n",
       "      <td>NaN</td>\n",
       "    </tr>\n",
       "    <tr>\n",
       "      <th>3291803</th>\n",
       "      <td>DO234432</td>\n",
       "      <td>BOCA-FR</td>\n",
       "      <td>SP203419</td>\n",
       "      <td>SA607647</td>\n",
       "      <td>B95T5</td>\n",
       "      <td>B95T5_RNAseq</td>\n",
       "      <td>Ensembl</td>\n",
       "      <td>ENSG00000219435</td>\n",
       "      <td>12.91860</td>\n",
       "      <td>6</td>\n",
       "      <td>...</td>\n",
       "      <td>Illumina HiSeq</td>\n",
       "      <td>84394691</td>\n",
       "      <td>Paired End https://www.illumina.com/science/te...</td>\n",
       "      <td>STAR 2.6.0a https://github.com/alexdobin/STAR ...</td>\n",
       "      <td>Cufflinks 2.2.1 http://cole-trapnell-lab.githu...</td>\n",
       "      <td>-</td>\n",
       "      <td>RNA-Seq</td>\n",
       "      <td>EGA</td>\n",
       "      <td>EGAF00002259813:EGAF00002259814</td>\n",
       "      <td>NaN</td>\n",
       "    </tr>\n",
       "    <tr>\n",
       "      <th>3291804</th>\n",
       "      <td>DO234432</td>\n",
       "      <td>BOCA-FR</td>\n",
       "      <td>SP203419</td>\n",
       "      <td>SA607647</td>\n",
       "      <td>B95T5</td>\n",
       "      <td>B95T5_RNAseq</td>\n",
       "      <td>Ensembl</td>\n",
       "      <td>ENSG00000119509</td>\n",
       "      <td>2.52918</td>\n",
       "      <td>894</td>\n",
       "      <td>...</td>\n",
       "      <td>Illumina HiSeq</td>\n",
       "      <td>84394691</td>\n",
       "      <td>Paired End https://www.illumina.com/science/te...</td>\n",
       "      <td>STAR 2.6.0a https://github.com/alexdobin/STAR ...</td>\n",
       "      <td>Cufflinks 2.2.1 http://cole-trapnell-lab.githu...</td>\n",
       "      <td>-</td>\n",
       "      <td>RNA-Seq</td>\n",
       "      <td>EGA</td>\n",
       "      <td>EGAF00002259813:EGAF00002259814</td>\n",
       "      <td>NaN</td>\n",
       "    </tr>\n",
       "    <tr>\n",
       "      <th>3291805</th>\n",
       "      <td>DO234432</td>\n",
       "      <td>BOCA-FR</td>\n",
       "      <td>SP203419</td>\n",
       "      <td>SA607647</td>\n",
       "      <td>B95T5</td>\n",
       "      <td>B95T5_RNAseq</td>\n",
       "      <td>Ensembl</td>\n",
       "      <td>ENSG00000248195</td>\n",
       "      <td>0.00000</td>\n",
       "      <td>0</td>\n",
       "      <td>...</td>\n",
       "      <td>Illumina HiSeq</td>\n",
       "      <td>84394691</td>\n",
       "      <td>Paired End https://www.illumina.com/science/te...</td>\n",
       "      <td>STAR 2.6.0a https://github.com/alexdobin/STAR ...</td>\n",
       "      <td>Cufflinks 2.2.1 http://cole-trapnell-lab.githu...</td>\n",
       "      <td>-</td>\n",
       "      <td>RNA-Seq</td>\n",
       "      <td>EGA</td>\n",
       "      <td>EGAF00002259813:EGAF00002259814</td>\n",
       "      <td>NaN</td>\n",
       "    </tr>\n",
       "    <tr>\n",
       "      <th>3291806</th>\n",
       "      <td>DO234432</td>\n",
       "      <td>BOCA-FR</td>\n",
       "      <td>SP203419</td>\n",
       "      <td>SA607647</td>\n",
       "      <td>B95T5</td>\n",
       "      <td>B95T5_RNAseq</td>\n",
       "      <td>Ensembl</td>\n",
       "      <td>ENSG00000200487</td>\n",
       "      <td>0.00000</td>\n",
       "      <td>0</td>\n",
       "      <td>...</td>\n",
       "      <td>Illumina HiSeq</td>\n",
       "      <td>84394691</td>\n",
       "      <td>Paired End https://www.illumina.com/science/te...</td>\n",
       "      <td>STAR 2.6.0a https://github.com/alexdobin/STAR ...</td>\n",
       "      <td>Cufflinks 2.2.1 http://cole-trapnell-lab.githu...</td>\n",
       "      <td>-</td>\n",
       "      <td>RNA-Seq</td>\n",
       "      <td>EGA</td>\n",
       "      <td>EGAF00002259813:EGAF00002259814</td>\n",
       "      <td>NaN</td>\n",
       "    </tr>\n",
       "  </tbody>\n",
       "</table>\n",
       "<p>3291807 rows × 22 columns</p>\n",
       "</div>"
      ],
      "text/plain": [
       "        icgc_donor_id project_code icgc_specimen_id icgc_sample_id  \\\n",
       "0             DO50636      BOCA-FR         SP195654       SA607599   \n",
       "1             DO50636      BOCA-FR         SP195654       SA607599   \n",
       "2             DO50636      BOCA-FR         SP195654       SA607599   \n",
       "3             DO50636      BOCA-FR         SP195654       SA607599   \n",
       "4             DO50636      BOCA-FR         SP195654       SA607599   \n",
       "...               ...          ...              ...            ...   \n",
       "3291802      DO234432      BOCA-FR         SP203419       SA607647   \n",
       "3291803      DO234432      BOCA-FR         SP203419       SA607647   \n",
       "3291804      DO234432      BOCA-FR         SP203419       SA607647   \n",
       "3291805      DO234432      BOCA-FR         SP203419       SA607647   \n",
       "3291806      DO234432      BOCA-FR         SP203419       SA607647   \n",
       "\n",
       "        submitted_sample_id   analysis_id gene_model          gene_id  \\\n",
       "0                     A61T5  A61T5_RNAseq    Ensembl  ENSG00000127720   \n",
       "1                     A61T5  A61T5_RNAseq    Ensembl  ENSG00000224440   \n",
       "2                     A61T5  A61T5_RNAseq    Ensembl  ENSG00000261140   \n",
       "3                     A61T5  A61T5_RNAseq    Ensembl  ENSG00000221200   \n",
       "4                     A61T5  A61T5_RNAseq    Ensembl  ENSG00000266468   \n",
       "...                     ...           ...        ...              ...   \n",
       "3291802               B95T5  B95T5_RNAseq    Ensembl  ENSG00000131725   \n",
       "3291803               B95T5  B95T5_RNAseq    Ensembl  ENSG00000219435   \n",
       "3291804               B95T5  B95T5_RNAseq    Ensembl  ENSG00000119509   \n",
       "3291805               B95T5  B95T5_RNAseq    Ensembl  ENSG00000248195   \n",
       "3291806               B95T5  B95T5_RNAseq    Ensembl  ENSG00000200487   \n",
       "\n",
       "         normalized_read_count  raw_read_count  ...        platform  \\\n",
       "0                      4.94182             358  ...  Illumina HiSeq   \n",
       "1                      0.00000               0  ...  Illumina HiSeq   \n",
       "2                      0.00000               0  ...  Illumina HiSeq   \n",
       "3                      0.00000               0  ...  Illumina HiSeq   \n",
       "4                      0.00000               0  ...  Illumina HiSeq   \n",
       "...                        ...             ...  ...             ...   \n",
       "3291802                1.93459             810  ...  Illumina HiSeq   \n",
       "3291803               12.91860               6  ...  Illumina HiSeq   \n",
       "3291804                2.52918             894  ...  Illumina HiSeq   \n",
       "3291805                0.00000               0  ...  Illumina HiSeq   \n",
       "3291806                0.00000               0  ...  Illumina HiSeq   \n",
       "\n",
       "        total_read_count                              experimental_protocol  \\\n",
       "0              121982843  Paired End https://www.illumina.com/science/te...   \n",
       "1              121982843  Paired End https://www.illumina.com/science/te...   \n",
       "2              121982843  Paired End https://www.illumina.com/science/te...   \n",
       "3              121982843  Paired End https://www.illumina.com/science/te...   \n",
       "4              121982843  Paired End https://www.illumina.com/science/te...   \n",
       "...                  ...                                                ...   \n",
       "3291802         84394691  Paired End https://www.illumina.com/science/te...   \n",
       "3291803         84394691  Paired End https://www.illumina.com/science/te...   \n",
       "3291804         84394691  Paired End https://www.illumina.com/science/te...   \n",
       "3291805         84394691  Paired End https://www.illumina.com/science/te...   \n",
       "3291806         84394691  Paired End https://www.illumina.com/science/te...   \n",
       "\n",
       "                                       alignment_algorithm  \\\n",
       "0        STAR 2.6.0a https://github.com/alexdobin/STAR ...   \n",
       "1        STAR 2.6.0a https://github.com/alexdobin/STAR ...   \n",
       "2        STAR 2.6.0a https://github.com/alexdobin/STAR ...   \n",
       "3        STAR 2.6.0a https://github.com/alexdobin/STAR ...   \n",
       "4        STAR 2.6.0a https://github.com/alexdobin/STAR ...   \n",
       "...                                                    ...   \n",
       "3291802  STAR 2.6.0a https://github.com/alexdobin/STAR ...   \n",
       "3291803  STAR 2.6.0a https://github.com/alexdobin/STAR ...   \n",
       "3291804  STAR 2.6.0a https://github.com/alexdobin/STAR ...   \n",
       "3291805  STAR 2.6.0a https://github.com/alexdobin/STAR ...   \n",
       "3291806  STAR 2.6.0a https://github.com/alexdobin/STAR ...   \n",
       "\n",
       "                                   normalization_algorithm  \\\n",
       "0        Cufflinks 2.2.1 http://cole-trapnell-lab.githu...   \n",
       "1        Cufflinks 2.2.1 http://cole-trapnell-lab.githu...   \n",
       "2        Cufflinks 2.2.1 http://cole-trapnell-lab.githu...   \n",
       "3        Cufflinks 2.2.1 http://cole-trapnell-lab.githu...   \n",
       "4        Cufflinks 2.2.1 http://cole-trapnell-lab.githu...   \n",
       "...                                                    ...   \n",
       "3291802  Cufflinks 2.2.1 http://cole-trapnell-lab.githu...   \n",
       "3291803  Cufflinks 2.2.1 http://cole-trapnell-lab.githu...   \n",
       "3291804  Cufflinks 2.2.1 http://cole-trapnell-lab.githu...   \n",
       "3291805  Cufflinks 2.2.1 http://cole-trapnell-lab.githu...   \n",
       "3291806  Cufflinks 2.2.1 http://cole-trapnell-lab.githu...   \n",
       "\n",
       "        other_analysis_algorithm sequencing_strategy raw_data_repository  \\\n",
       "0                              -             RNA-Seq                 EGA   \n",
       "1                              -             RNA-Seq                 EGA   \n",
       "2                              -             RNA-Seq                 EGA   \n",
       "3                              -             RNA-Seq                 EGA   \n",
       "4                              -             RNA-Seq                 EGA   \n",
       "...                          ...                 ...                 ...   \n",
       "3291802                        -             RNA-Seq                 EGA   \n",
       "3291803                        -             RNA-Seq                 EGA   \n",
       "3291804                        -             RNA-Seq                 EGA   \n",
       "3291805                        -             RNA-Seq                 EGA   \n",
       "3291806                        -             RNA-Seq                 EGA   \n",
       "\n",
       "                                        raw_data_accession  \\\n",
       "0        EGAF00002259326:EGAF00002259317:EGAF0000225933...   \n",
       "1        EGAF00002259326:EGAF00002259317:EGAF0000225933...   \n",
       "2        EGAF00002259326:EGAF00002259317:EGAF0000225933...   \n",
       "3        EGAF00002259326:EGAF00002259317:EGAF0000225933...   \n",
       "4        EGAF00002259326:EGAF00002259317:EGAF0000225933...   \n",
       "...                                                    ...   \n",
       "3291802                    EGAF00002259813:EGAF00002259814   \n",
       "3291803                    EGAF00002259813:EGAF00002259814   \n",
       "3291804                    EGAF00002259813:EGAF00002259814   \n",
       "3291805                    EGAF00002259813:EGAF00002259814   \n",
       "3291806                    EGAF00002259813:EGAF00002259814   \n",
       "\n",
       "        reference_sample_type  \n",
       "0                         NaN  \n",
       "1                         NaN  \n",
       "2                         NaN  \n",
       "3                         NaN  \n",
       "4                         NaN  \n",
       "...                       ...  \n",
       "3291802                   NaN  \n",
       "3291803                   NaN  \n",
       "3291804                   NaN  \n",
       "3291805                   NaN  \n",
       "3291806                   NaN  \n",
       "\n",
       "[3291807 rows x 22 columns]"
      ]
     },
     "execution_count": 5,
     "metadata": {},
     "output_type": "execute_result"
    }
   ],
   "source": [
    "val"
   ]
  },
  {
   "cell_type": "code",
   "execution_count": null,
   "metadata": {},
   "outputs": [],
   "source": []
  },
  {
   "cell_type": "code",
   "execution_count": null,
   "metadata": {},
   "outputs": [],
   "source": []
  },
  {
   "cell_type": "code",
   "execution_count": null,
   "metadata": {},
   "outputs": [],
   "source": []
  },
  {
   "cell_type": "code",
   "execution_count": null,
   "metadata": {},
   "outputs": [],
   "source": []
  },
  {
   "cell_type": "code",
   "execution_count": null,
   "metadata": {},
   "outputs": [],
   "source": []
  },
  {
   "cell_type": "markdown",
   "metadata": {},
   "source": [
    "## st jude"
   ]
  },
  {
   "cell_type": "code",
   "execution_count": null,
   "metadata": {},
   "outputs": [],
   "source": [
    "pd.read_csv('') # 40,000 x 3500\n"
   ]
  },
  {
   "cell_type": "code",
   "execution_count": null,
   "metadata": {},
   "outputs": [],
   "source": []
  },
  {
   "cell_type": "code",
   "execution_count": null,
   "metadata": {},
   "outputs": [],
   "source": []
  },
  {
   "cell_type": "code",
   "execution_count": null,
   "metadata": {},
   "outputs": [],
   "source": []
  },
  {
   "cell_type": "code",
   "execution_count": null,
   "metadata": {},
   "outputs": [],
   "source": []
  },
  {
   "cell_type": "markdown",
   "metadata": {},
   "source": [
    "## DUOS datasets"
   ]
  },
  {
   "cell_type": "code",
   "execution_count": null,
   "metadata": {},
   "outputs": [],
   "source": [
    "#https://duos.broadinstitute.org/dataset_catalog"
   ]
  },
  {
   "cell_type": "markdown",
   "metadata": {},
   "source": [
    "## hartwig"
   ]
  },
  {
   "cell_type": "code",
   "execution_count": null,
   "metadata": {},
   "outputs": [],
   "source": []
  },
  {
   "cell_type": "markdown",
   "metadata": {},
   "source": [
    "## Pancreas from Sri"
   ]
  },
  {
   "cell_type": "code",
   "execution_count": null,
   "metadata": {},
   "outputs": [],
   "source": []
  },
  {
   "cell_type": "markdown",
   "metadata": {},
   "source": [
    "## Neurosphere from Keith"
   ]
  },
  {
   "cell_type": "code",
   "execution_count": null,
   "metadata": {},
   "outputs": [],
   "source": []
  },
  {
   "cell_type": "markdown",
   "metadata": {},
   "source": [
    "# QC"
   ]
  },
  {
   "cell_type": "markdown",
   "metadata": {},
   "source": [
    "## get the same set of overlapping genes"
   ]
  },
  {
   "cell_type": "code",
   "execution_count": null,
   "metadata": {},
   "outputs": [],
   "source": []
  },
  {
   "cell_type": "code",
   "execution_count": null,
   "metadata": {},
   "outputs": [],
   "source": []
  },
  {
   "cell_type": "code",
   "execution_count": null,
   "metadata": {},
   "outputs": [],
   "source": []
  },
  {
   "cell_type": "markdown",
   "metadata": {
    "ExecuteTime": {
     "end_time": "2021-10-08T21:46:14.942803Z",
     "start_time": "2021-10-08T21:46:14.939955Z"
    }
   },
   "source": [
    "## compute correlation\n",
    "\n",
    "- find unknown duplicates\n",
    "- find problematic duplicates"
   ]
  },
  {
   "cell_type": "code",
   "execution_count": null,
   "metadata": {},
   "outputs": [],
   "source": []
  },
  {
   "cell_type": "code",
   "execution_count": null,
   "metadata": {},
   "outputs": [],
   "source": []
  },
  {
   "cell_type": "code",
   "execution_count": null,
   "metadata": {},
   "outputs": [],
   "source": []
  },
  {
   "cell_type": "markdown",
   "metadata": {},
   "source": [
    "## analyse  annotation files\n",
    "\n",
    "- find mismatch annotations\n",
    "- add missing annotations, need: \n",
    "    - sequencer, \n",
    "    - expression_type, \n",
    "    - media, \n",
    "    - origin, \n",
    "    - tissue type,\n",
    "    - disease,\n",
    "    - sub_disease,\n",
    "    - cell type, \n",
    "    - group, \n",
    "    - sex, \n",
    "    - age, \n",
    "    - contamination\n",
    "    - organism\n",
    "- find good set of names for annotations"
   ]
  },
  {
   "cell_type": "code",
   "execution_count": null,
   "metadata": {},
   "outputs": [],
   "source": []
  },
  {
   "cell_type": "code",
   "execution_count": null,
   "metadata": {},
   "outputs": [],
   "source": []
  },
  {
   "cell_type": "code",
   "execution_count": null,
   "metadata": {},
   "outputs": [],
   "source": []
  },
  {
   "cell_type": "code",
   "execution_count": null,
   "metadata": {},
   "outputs": [],
   "source": []
  },
  {
   "cell_type": "code",
   "execution_count": null,
   "metadata": {},
   "outputs": [],
   "source": []
  }
 ],
 "metadata": {
  "kernelspec": {
   "display_name": "gae",
   "language": "python",
   "name": "gae"
  },
  "language_info": {
   "codemirror_mode": {
    "name": "ipython",
    "version": 3
   },
   "file_extension": ".py",
   "mimetype": "text/x-python",
   "name": "python",
   "nbconvert_exporter": "python",
   "pygments_lexer": "ipython3",
   "version": "3.8.12"
  },
  "latex_envs": {
   "LaTeX_envs_menu_present": true,
   "autoclose": false,
   "autocomplete": true,
   "bibliofile": "biblio.bib",
   "cite_by": "apalike",
   "current_citInitial": 1,
   "eqLabelWithNumbers": true,
   "eqNumInitial": 1,
   "hotkeys": {
    "equation": "Ctrl-E",
    "itemize": "Ctrl-I"
   },
   "labels_anchors": false,
   "latex_user_defs": false,
   "report_style_numbering": false,
   "user_envs_cfg": false
  },
  "toc": {
   "base_numbering": 1,
   "nav_menu": {},
   "number_sections": true,
   "sideBar": true,
   "skip_h1_title": false,
   "title_cell": "Table of Contents",
   "title_sidebar": "Contents",
   "toc_cell": false,
   "toc_position": {},
   "toc_section_display": true,
   "toc_window_display": false
  },
  "varInspector": {
   "cols": {
    "lenName": 16,
    "lenType": 16,
    "lenVar": 40
   },
   "kernels_config": {
    "python": {
     "delete_cmd_postfix": "",
     "delete_cmd_prefix": "del ",
     "library": "var_list.py",
     "varRefreshCmd": "print(var_dic_list())"
    },
    "r": {
     "delete_cmd_postfix": ") ",
     "delete_cmd_prefix": "rm(",
     "library": "var_list.r",
     "varRefreshCmd": "cat(var_dic_list()) "
    }
   },
   "types_to_exclude": [
    "module",
    "function",
    "builtin_function_or_method",
    "instance",
    "_Feature"
   ],
   "window_display": false
  }
 },
 "nbformat": 4,
 "nbformat_minor": 2
}
